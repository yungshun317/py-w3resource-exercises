{
 "cells": [
  {
   "cell_type": "markdown",
   "id": "2e667093",
   "metadata": {},
   "source": [
    "# NumPy Basic\n",
    "\n",
    "**1. Write a Numpy program to get the Numpy version and show the Numpy build configuration.**"
   ]
  },
  {
   "cell_type": "code",
   "execution_count": 2,
   "id": "3b31cf93",
   "metadata": {},
   "outputs": [
    {
     "name": "stdout",
     "output_type": "stream",
     "text": [
      "1.23.3\n",
      "openblas64__info:\n",
      "    libraries = ['openblas64_', 'openblas64_']\n",
      "    library_dirs = ['/usr/local/lib']\n",
      "    language = c\n",
      "    define_macros = [('HAVE_CBLAS', None), ('BLAS_SYMBOL_SUFFIX', '64_'), ('HAVE_BLAS_ILP64', None)]\n",
      "    runtime_library_dirs = ['/usr/local/lib']\n",
      "blas_ilp64_opt_info:\n",
      "    libraries = ['openblas64_', 'openblas64_']\n",
      "    library_dirs = ['/usr/local/lib']\n",
      "    language = c\n",
      "    define_macros = [('HAVE_CBLAS', None), ('BLAS_SYMBOL_SUFFIX', '64_'), ('HAVE_BLAS_ILP64', None)]\n",
      "    runtime_library_dirs = ['/usr/local/lib']\n",
      "openblas64__lapack_info:\n",
      "    libraries = ['openblas64_', 'openblas64_']\n",
      "    library_dirs = ['/usr/local/lib']\n",
      "    language = c\n",
      "    define_macros = [('HAVE_CBLAS', None), ('BLAS_SYMBOL_SUFFIX', '64_'), ('HAVE_BLAS_ILP64', None), ('HAVE_LAPACKE', None)]\n",
      "    runtime_library_dirs = ['/usr/local/lib']\n",
      "lapack_ilp64_opt_info:\n",
      "    libraries = ['openblas64_', 'openblas64_']\n",
      "    library_dirs = ['/usr/local/lib']\n",
      "    language = c\n",
      "    define_macros = [('HAVE_CBLAS', None), ('BLAS_SYMBOL_SUFFIX', '64_'), ('HAVE_BLAS_ILP64', None), ('HAVE_LAPACKE', None)]\n",
      "    runtime_library_dirs = ['/usr/local/lib']\n",
      "Supported SIMD extensions in this NumPy install:\n",
      "    baseline = SSE,SSE2,SSE3\n",
      "    found = SSSE3,SSE41,POPCNT,SSE42,AVX,F16C,FMA3,AVX2\n",
      "    not found = AVX512F,AVX512CD,AVX512_KNL,AVX512_KNM,AVX512_SKX,AVX512_CLX,AVX512_CNL,AVX512_ICL\n",
      "None\n"
     ]
    }
   ],
   "source": [
    "# `numpy.__version__` & `numpy.show_config()`\n",
    "import numpy as np\n",
    "\n",
    "print(np.__version__)\n",
    "print(np.show_config())"
   ]
  },
  {
   "cell_type": "markdown",
   "id": "cf904172",
   "metadata": {},
   "source": [
    "**2. Write a NumPy program to get help with the add function.**"
   ]
  },
  {
   "cell_type": "code",
   "execution_count": 3,
   "id": "3c1a86bc",
   "metadata": {},
   "outputs": [
    {
     "name": "stdout",
     "output_type": "stream",
     "text": [
      "add(x1, x2, /, out=None, *, where=True, casting='same_kind', order='K', dtype=None, subok=True[, signature, extobj])\n",
      "\n",
      "Add arguments element-wise.\n",
      "\n",
      "Parameters\n",
      "----------\n",
      "x1, x2 : array_like\n",
      "    The arrays to be added.\n",
      "    If ``x1.shape != x2.shape``, they must be broadcastable to a common\n",
      "    shape (which becomes the shape of the output).\n",
      "out : ndarray, None, or tuple of ndarray and None, optional\n",
      "    A location into which the result is stored. If provided, it must have\n",
      "    a shape that the inputs broadcast to. If not provided or None,\n",
      "    a freshly-allocated array is returned. A tuple (possible only as a\n",
      "    keyword argument) must have length equal to the number of outputs.\n",
      "where : array_like, optional\n",
      "    This condition is broadcast over the input. At locations where the\n",
      "    condition is True, the `out` array will be set to the ufunc result.\n",
      "    Elsewhere, the `out` array will retain its original value.\n",
      "    Note that if an uninitialized `out` array is created via the default\n",
      "    ``out=None``, locations within it where the condition is False will\n",
      "    remain uninitialized.\n",
      "**kwargs\n",
      "    For other keyword-only arguments, see the\n",
      "    :ref:`ufunc docs <ufuncs.kwargs>`.\n",
      "\n",
      "Returns\n",
      "-------\n",
      "add : ndarray or scalar\n",
      "    The sum of `x1` and `x2`, element-wise.\n",
      "    This is a scalar if both `x1` and `x2` are scalars.\n",
      "\n",
      "Notes\n",
      "-----\n",
      "Equivalent to `x1` + `x2` in terms of array broadcasting.\n",
      "\n",
      "Examples\n",
      "--------\n",
      ">>> np.add(1.0, 4.0)\n",
      "5.0\n",
      ">>> x1 = np.arange(9.0).reshape((3, 3))\n",
      ">>> x2 = np.arange(3.0)\n",
      ">>> np.add(x1, x2)\n",
      "array([[  0.,   2.,   4.],\n",
      "       [  3.,   5.,   7.],\n",
      "       [  6.,   8.,  10.]])\n",
      "\n",
      "The ``+`` operator can be used as a shorthand for ``np.add`` on ndarrays.\n",
      "\n",
      ">>> x1 = np.arange(9.0).reshape((3, 3))\n",
      ">>> x2 = np.arange(3.0)\n",
      ">>> x1 + x2\n",
      "array([[ 0.,  2.,  4.],\n",
      "       [ 3.,  5.,  7.],\n",
      "       [ 6.,  8., 10.]])\n",
      "None\n"
     ]
    }
   ],
   "source": [
    "# `numpy.info()`\n",
    "import numpy as np\n",
    "\n",
    "print(np.info(np.add))"
   ]
  },
  {
   "cell_type": "markdown",
   "id": "9e237547",
   "metadata": {},
   "source": [
    "**3. Write a NumPy program to test whether none of the elements of a given array are zero.**"
   ]
  },
  {
   "cell_type": "code",
   "execution_count": 6,
   "id": "9ed11fc1",
   "metadata": {},
   "outputs": [
    {
     "name": "stdout",
     "output_type": "stream",
     "text": [
      "Original array: [1 2 3 4]\n",
      "Test if none of the elements of the said array is zero: True\n",
      "Original array: [0 1 2 3]\n",
      "Test if none of the elements of the said array is zero: False\n"
     ]
    }
   ],
   "source": [
    "# [1] `numpy.all()`\n",
    "# `numpy.all(x)` will simply call `x.all()` if `x` is a `numpy.ndarray` \n",
    "# `numpy.all(x)` will convert `x` into a `numpy.ndarray` and then call `x.all()` if `x` is not a `numpy.ndarray`\n",
    "import numpy as np\n",
    "\n",
    "x = np.array([1, 2, 3, 4])\n",
    "print(\"Original array:\", x)\n",
    "print(\"Test if none of the elements of the said array is zero:\", np.all(x))\n",
    "\n",
    "x = np.array([0, 1, 2, 3])\n",
    "print(\"Original array:\", x)\n",
    "print(\"Test if none of the elements of the said array is zero:\", np.all(x))"
   ]
  },
  {
   "cell_type": "code",
   "execution_count": 10,
   "id": "77cb7cda",
   "metadata": {},
   "outputs": [
    {
     "name": "stdout",
     "output_type": "stream",
     "text": [
      "Original array: [1 2 3 4]\n",
      "Test if none of the elements of the said array is zero: True\n",
      "Original array: [0 1 2 3]\n",
      "Test if none of the elements of the said array is zero: False\n"
     ]
    }
   ],
   "source": [
    "# [2] `numpy.ndarray.all()`\n",
    "# `numpy.ndarray.all()` is a method of `numpy.ndarray` object; call this directly will be faster than `numpy.all()`\n",
    "import numpy as np\n",
    "\n",
    "x = np.array([1, 2, 3, 4])\n",
    "print(\"Original array:\", x)\n",
    "print(\"Test if none of the elements of the said array is zero:\", x.all())\n",
    "\n",
    "x = np.array([0, 1, 2, 3])\n",
    "print(\"Original array:\", x)\n",
    "print(\"Test if none of the elements of the said array is zero:\", x.all())"
   ]
  },
  {
   "cell_type": "code",
   "execution_count": 8,
   "id": "4f8d9ce8",
   "metadata": {},
   "outputs": [
    {
     "name": "stdout",
     "output_type": "stream",
     "text": [
      "Original array: [1 2 3 4]\n",
      "Test if none of the elements of the said array is zero: True\n",
      "Original array: [0 1 2 3]\n",
      "Test if none of the elements of the said array is zero: False\n"
     ]
    }
   ],
   "source": [
    "# [3] `all()`\n",
    "# `all()` works on any iterable\n",
    "import numpy as np\n",
    "\n",
    "x = np.array([1, 2, 3, 4])\n",
    "print(\"Original array:\", x)\n",
    "print(\"Test if none of the elements of the said array is zero:\", all(x))\n",
    "\n",
    "x = np.array([0, 1, 2, 3])\n",
    "print(\"Original array:\", x)\n",
    "print(\"Test if none of the elements of the said array is zero:\", all(x))"
   ]
  },
  {
   "cell_type": "markdown",
   "id": "7be187be",
   "metadata": {},
   "source": [
    "**4. Write a NumPy program to test if any of the elements of a given array are non-zero.**"
   ]
  },
  {
   "cell_type": "code",
   "execution_count": 11,
   "id": "288dc126",
   "metadata": {},
   "outputs": [
    {
     "name": "stdout",
     "output_type": "stream",
     "text": [
      "Original array: [1 0 0 0]\n",
      "Test if none of the elements of the said array is zero: True\n",
      "Original array: [0 0 0 0]\n",
      "Test if none of the elements of the said array is zero: False\n"
     ]
    }
   ],
   "source": [
    "# [1] `numpy.any()`\n",
    "import numpy as np\n",
    "\n",
    "x = np.array([1, 0, 0, 0])\n",
    "print(\"Original array:\", x)\n",
    "print(\"Test if any of the elements of the said array is non-zero:\", np.any(x))\n",
    "\n",
    "x = np.array([0, 0, 0, 0])\n",
    "print(\"Original array:\", x)\n",
    "print(\"Test if any of the elements of the said array is non-zero:\", np.any(x))"
   ]
  },
  {
   "cell_type": "code",
   "execution_count": 12,
   "id": "99720d38",
   "metadata": {},
   "outputs": [
    {
     "name": "stdout",
     "output_type": "stream",
     "text": [
      "Original array: [1 0 0 0]\n",
      "Test if none of the elements of the said array is zero: True\n",
      "Original array: [0 0 0 0]\n",
      "Test if none of the elements of the said array is zero: False\n"
     ]
    }
   ],
   "source": [
    "# [2] `numpy.ndarray.any()`\n",
    "import numpy as np\n",
    "\n",
    "x = np.array([1, 0, 0, 0])\n",
    "print(\"Original array:\", x)\n",
    "print(\"Test if none of the elements of the said array is zero:\", x.any())\n",
    "\n",
    "x = np.array([0, 0, 0, 0])\n",
    "print(\"Original array:\", x)\n",
    "print(\"Test if none of the elements of the said array is zero:\", x.any())"
   ]
  },
  {
   "cell_type": "markdown",
   "id": "11b76dbb",
   "metadata": {},
   "source": [
    "**5. Write a NumPy program to test a given array element-wise for finiteness (not infinity or not a number).**"
   ]
  },
  {
   "cell_type": "code",
   "execution_count": 13,
   "id": "3025f18b",
   "metadata": {},
   "outputs": [
    {
     "name": "stdout",
     "output_type": "stream",
     "text": [
      "Original array: [ 1.  0. nan inf]\n",
      "Test a given array element-wise for finiteness: [ True  True False False]\n"
     ]
    }
   ],
   "source": [
    "# `numpy.isfinite()`\n",
    "import numpy as np\n",
    "\n",
    "a = np.array([1, 0, np.nan, np.inf])\n",
    "\n",
    "print(\"Original array:\", a)\n",
    "print(\"Test a given array element-wise for finiteness:\", np.isfinite(a))"
   ]
  },
  {
   "cell_type": "markdown",
   "id": "8d2e5500",
   "metadata": {},
   "source": [
    "**6. Write a NumPy program to test elements-wise for positive or negative infinity.**"
   ]
  },
  {
   "cell_type": "code",
   "execution_count": 14,
   "id": "92976d50",
   "metadata": {},
   "outputs": [
    {
     "name": "stdout",
     "output_type": "stream",
     "text": [
      "Original array: [ 1.  0. nan inf]\n",
      "Test a given array element-wise for positive or negative infinity: [False False False  True]\n"
     ]
    }
   ],
   "source": [
    "# `numpy.isinf()`\n",
    "import numpy as np\n",
    "\n",
    "a = np.array([1, 0, np.nan, np.inf])\n",
    "\n",
    "print(\"Original array:\", a)\n",
    "print(\"Test a given array element-wise for positive or negative infinity:\", np.isinf(a))"
   ]
  },
  {
   "cell_type": "markdown",
   "id": "2081bfe9",
   "metadata": {},
   "source": [
    "**7. Write a NumPy program to test element-wise for NaN of a given array.**"
   ]
  },
  {
   "cell_type": "code",
   "execution_count": 15,
   "id": "5a40f163",
   "metadata": {},
   "outputs": [
    {
     "name": "stdout",
     "output_type": "stream",
     "text": [
      "Original array: [ 1.  0. nan inf]\n",
      "Test a given array element-wise for positive or negative infinity: [False False  True False]\n"
     ]
    }
   ],
   "source": [
    "# `numpy.isnan()`\n",
    "import numpy as np\n",
    "\n",
    "a = np.array([1, 0, np.nan, np.inf])\n",
    "\n",
    "print(\"Original array:\", a)\n",
    "print(\"Test a given array element-wise for positive or negative infinity:\", np.isnan(a))"
   ]
  },
  {
   "cell_type": "markdown",
   "id": "af630f71",
   "metadata": {},
   "source": [
    "**8. Write a NumPy program to test element-wise for complex numbers, real numbers in a given array. Also test if a given number is of a scalar type or not.**"
   ]
  },
  {
   "cell_type": "code",
   "execution_count": 16,
   "id": "9d9ae306",
   "metadata": {},
   "outputs": [
    {
     "name": "stdout",
     "output_type": "stream",
     "text": [
      "Original array: [1. +1.j 1. +0.j 4.5+0.j 3. +0.j 2. +0.j 0. +2.j]\n",
      "Check for complex number: [ True False False False False  True]\n",
      "Check for real number: [False  True  True  True  True False]\n",
      "Check for scalar type: True\n",
      "Check for scalar type: False\n"
     ]
    }
   ],
   "source": [
    "# `numpy.iscomplex()` & `numpy.isreal()` & `numpy.isscalar()`\n",
    "import numpy as np\n",
    "\n",
    "a = np.array([1+1j, 1+0j, 4.5, 3, 2, 2j])\n",
    "\n",
    "print(\"Original array:\", a)\n",
    "print(\"Check for complex number:\", np.iscomplex(a))\n",
    "print(\"Check for real number:\", np.isreal(a))\n",
    "\n",
    "print(\"Check for scalar type:\", np.isscalar(3.6))\n",
    "print(\"Check for scalar type:\", np.isscalar([3.6]))"
   ]
  },
  {
   "cell_type": "markdown",
   "id": "f88ce1ac",
   "metadata": {},
   "source": [
    "**9. Write a NumPy program to test whether two arrays are element-wise equal within a tolerance.**"
   ]
  },
  {
   "cell_type": "code",
   "execution_count": 17,
   "id": "fd50bc36",
   "metadata": {},
   "outputs": [
    {
     "name": "stdout",
     "output_type": "stream",
     "text": [
      "Test if two arrays are element-wise equal within a tolerance:\n",
      "False\n",
      "True\n",
      "False\n",
      "False\n",
      "True\n"
     ]
    }
   ],
   "source": [
    "# `np.allclose()`\n",
    "# absolute(a - b) <= (atol + rtol * absolute(b))\n",
    "# Default absolute tolerance `atol = 1e-08`\n",
    "# Default relative tolerance `rtol = 1e-05`\n",
    "import numpy as np\n",
    "\n",
    "print(\"Test if two arrays are element-wise equal within a tolerance:\")\n",
    "# absolute(a - b) = [1e5 0.9e-7]\n",
    "# atol + rtol * absolute(b) = [1e-8 + 1.00001e5   1e-8 + 1e-13]\n",
    "print(np.allclose([1e10, 1e-7], [1.00001e10, 1e-8]))\n",
    "# absolute(a - b) = [1e5 0.9e-8]\n",
    "# atol + rtol * absolute(b) = [1e-8 + 1.00001e5   1e-8 + 1e-14]\n",
    "print(np.allclose([1e10, 1e-8], [1.00001e10, 1e-9]))\n",
    "# absolute(a - b) = [1e6 0.9e-8]\n",
    "# atol + rtol * absolute(b) = [1e-8 + 1.0001e5   1e-8 + 1e-14]\n",
    "print(np.allclose([1e10, 1e-8], [1.0001e10, 1e-9]))\n",
    "\n",
    "# `equal_nan=False`: Whether to compare NaN’s as equal\n",
    "print(np.allclose([1.0, np.nan], [1.0, np.nan]))\n",
    "print(np.allclose([1.0, np.nan], [1.0, np.nan], equal_nan=True))"
   ]
  },
  {
   "cell_type": "markdown",
   "id": "a1b2fc2e",
   "metadata": {},
   "source": [
    "**10. Write a NumPy program to create an element-wise comparison (greater, greater_equal, less and less_equal) of two given arrays.**"
   ]
  },
  {
   "cell_type": "code",
   "execution_count": 20,
   "id": "5556d7b1",
   "metadata": {},
   "outputs": [
    {
     "name": "stdout",
     "output_type": "stream",
     "text": [
      "Original array: [3 5] [2 5]\n",
      "Comparison - greater: [ True False]\n",
      "Comparison - greater_equal: [ True  True]\n",
      "Comparison - less: [False False]\n",
      "Comparison - less_equal: [False  True]\n"
     ]
    }
   ],
   "source": [
    "# `numpy.greater()` & `numpy.greater_equal()` & `numpy.less()` & `numpy.less_equal()`\n",
    "import numpy as np\n",
    "\n",
    "x = np.array([3, 5])\n",
    "y = np.array([2, 5])\n",
    "\n",
    "print(\"Original array:\", x, y)\n",
    "print(\"Comparison - greater:\", np.greater(x, y))\n",
    "print(\"Comparison - greater_equal:\", np.greater_equal(x, y))\n",
    "print(\"Comparison - less:\", np.less(x, y))\n",
    "print(\"Comparison - less_equal:\", np.less_equal(x, y))"
   ]
  },
  {
   "cell_type": "markdown",
   "id": "edb47e48",
   "metadata": {},
   "source": [
    "**11. Write a NumPy program to create an element-wise comparison (equal, equal within a tolerance) of two given arrays.**"
   ]
  },
  {
   "cell_type": "code",
   "execution_count": 21,
   "id": "7ca83639",
   "metadata": {},
   "outputs": [
    {
     "name": "stdout",
     "output_type": "stream",
     "text": [
      "Original array: [  72   79   85   90  150 -135  120  -10   60  100] [  72.         79.         85.         90.        150.       -135.\n",
      "  120.        -10.         60.        100.000001]\n",
      "Comparison - equal: [ True  True  True  True  True  True  True  True  True False]\n",
      "Comparison - equal within a tolerance: [ True  True  True  True  True  True  True  True  True  True]\n"
     ]
    }
   ],
   "source": [
    "# `numpy.equal()` & `numpy.isclose()`\n",
    "# Formula & parameters' default values of `isclose()` are the same as `allclose()`\n",
    "import numpy as np\n",
    "\n",
    "x = np.array([72, 79, 85, 90, 150, -135, 120, -10, 60, 100])\n",
    "y = np.array([72, 79, 85, 90, 150, -135, 120, -10, 60, 100.000001])\n",
    "\n",
    "print(\"Original array:\", x, y)\n",
    "print(\"Comparison - equal:\", np.equal(x, y))\n",
    "print(\"Comparison - equal within a tolerance:\", np.isclose(x, y))"
   ]
  },
  {
   "cell_type": "markdown",
   "id": "3ffa84e7",
   "metadata": {},
   "source": [
    "**12. Write a NumPy program to create an array with the values 1, 7, 13, 105 and determine the size of the memory occupied by the array.**"
   ]
  },
  {
   "cell_type": "code",
   "execution_count": 31,
   "id": "1a92fdb1",
   "metadata": {},
   "outputs": [
    {
     "name": "stdout",
     "output_type": "stream",
     "text": [
      "Original array: [  1   7  13 105]\n",
      "Size of the memory occupied by the said array:\n",
      "32 bytes\n"
     ]
    }
   ],
   "source": [
    "# [1] `numpy.ndarray.size` & `numpy.ndarray.itemsize`\n",
    "# `numpy.ndarray` does not correctly support `sys.getsizeof()`\n",
    "# import sys\n",
    "import numpy as np\n",
    "\n",
    "a = np.array([1, 7, 13, 105])\n",
    "\n",
    "# print(\"%d bytes\" % sys.getsizeof(a))\n",
    "# 144 bytes\n",
    "# print(\"%d bytes\" % sys.getsizeof([1, 7, 13, 105]))\n",
    "# 88 bytes\n",
    "\n",
    "print(\"Original array:\", a)\n",
    "print(\"Size of the memory occupied by the said array:\")\n",
    "print(\"%d bytes\" % (a.size * a.itemsize))"
   ]
  },
  {
   "cell_type": "code",
   "execution_count": 32,
   "id": "fba0a55f",
   "metadata": {},
   "outputs": [
    {
     "name": "stdout",
     "output_type": "stream",
     "text": [
      "Original array: [  1   7  13 105]\n",
      "Size of the memory occupied by the said array:\n",
      "32 bytes\n"
     ]
    }
   ],
   "source": [
    "# [2] `numpy.ndarray.nbytes`\n",
    "import numpy as np\n",
    "\n",
    "a = np.array([1, 7, 13, 105])\n",
    "\n",
    "print(\"Original array:\", a)\n",
    "print(\"Size of the memory occupied by the said array:\")\n",
    "print(\"%d bytes\" % a.nbytes)"
   ]
  },
  {
   "cell_type": "markdown",
   "id": "af29fe2d",
   "metadata": {},
   "source": [
    "**13. Write a NumPy program to create an array of 10 zeros, 10 ones, and 10 fives.**"
   ]
  },
  {
   "cell_type": "code",
   "execution_count": 34,
   "id": "cf5fc46d",
   "metadata": {},
   "outputs": [
    {
     "name": "stdout",
     "output_type": "stream",
     "text": [
      "An array of 10 zeros: [0 0 0 0 0 0 0 0 0 0]\n",
      "An array of 10 ones: [1 1 1 1 1 1 1 1 1 1]\n",
      "An array of 10 fives: [5 5 5 5 5 5 5 5 5 5]\n"
     ]
    }
   ],
   "source": [
    "# [1] Created from python list\n",
    "import numpy as np\n",
    "\n",
    "a = np.array([0] * 10)\n",
    "b = np.array([1] * 10)\n",
    "c = np.array([5] * 10)\n",
    "\n",
    "print(\"An array of 10 zeros:\", a)\n",
    "print(\"An array of 10 ones:\", b)\n",
    "print(\"An array of 10 fives:\", c)"
   ]
  },
  {
   "cell_type": "code",
   "execution_count": 35,
   "id": "ca6bff18",
   "metadata": {},
   "outputs": [
    {
     "name": "stdout",
     "output_type": "stream",
     "text": [
      "An array of 10 zeros: [0. 0. 0. 0. 0. 0. 0. 0. 0. 0.]\n",
      "An array of 10 ones: [1. 1. 1. 1. 1. 1. 1. 1. 1. 1.]\n",
      "An array of 10 fives: [5. 5. 5. 5. 5. 5. 5. 5. 5. 5.]\n"
     ]
    }
   ],
   "source": [
    "# [2] `numpy.zeros()` & `numpy.ones()`\n",
    "import numpy as np\n",
    "\n",
    "a = np.zeros(10)\n",
    "b = np.ones(10)\n",
    "c = np.ones(10) * 5\n",
    "\n",
    "print(\"An array of 10 zeros:\", a)\n",
    "print(\"An array of 10 ones:\", b)\n",
    "print(\"An array of 10 fives:\", c)"
   ]
  },
  {
   "cell_type": "markdown",
   "id": "c07545fb",
   "metadata": {},
   "source": [
    "**14. Write a NumPy program to create an array of integers from 30 to 70.**"
   ]
  },
  {
   "cell_type": "code",
   "execution_count": 39,
   "id": "5b86d034",
   "metadata": {},
   "outputs": [
    {
     "name": "stdout",
     "output_type": "stream",
     "text": [
      "Array of the integers from 30 to 70: [30 31 32 33 34 35 36 37 38 39 40 41 42 43 44 45 46 47 48 49 50 51 52 53\n",
      " 54 55 56 57 58 59 60 61 62 63 64 65 66 67 68 69 70]\n"
     ]
    }
   ],
   "source": [
    "# [1] Created from python list\n",
    "import numpy as np\n",
    "\n",
    "a = np.array(range(30, 71))\n",
    "\n",
    "print(\"Array of the integers from 30 to 70:\", a)"
   ]
  },
  {
   "cell_type": "code",
   "execution_count": 40,
   "id": "dafee5c1",
   "metadata": {},
   "outputs": [
    {
     "name": "stdout",
     "output_type": "stream",
     "text": [
      "Array of the integers from 30 to 70: [30 31 32 33 34 35 36 37 38 39 40 41 42 43 44 45 46 47 48 49 50 51 52 53\n",
      " 54 55 56 57 58 59 60 61 62 63 64 65 66 67 68 69 70]\n"
     ]
    }
   ],
   "source": [
    "# [2] `numpy.arange()`\n",
    "import numpy as np\n",
    "\n",
    "a = np.arange(30, 71)\n",
    "\n",
    "print(\"Array of the integers from 30 to 70:\", a)"
   ]
  },
  {
   "cell_type": "markdown",
   "id": "c8989be9",
   "metadata": {},
   "source": [
    "**15.Write a NumPy program to create an array of all even integers from 30 to 70.**"
   ]
  },
  {
   "cell_type": "code",
   "execution_count": 41,
   "id": "cce1cda1",
   "metadata": {},
   "outputs": [
    {
     "name": "stdout",
     "output_type": "stream",
     "text": [
      "Array of all even integers from 30 to 70: [30 32 34 36 38 40 42 44 46 48 50 52 54 56 58 60 62 64 66 68 70]\n"
     ]
    }
   ],
   "source": [
    "# `numpy.arange()`\n",
    "import numpy as np\n",
    "\n",
    "a = np.arange(30, 71, 2)\n",
    "\n",
    "print(\"Array of all even integers from 30 to 70:\", a)"
   ]
  },
  {
   "cell_type": "markdown",
   "id": "cf5772ab",
   "metadata": {},
   "source": [
    "**16. Write a NumPy program to create a 3x3 identity matrix.**"
   ]
  },
  {
   "cell_type": "code",
   "execution_count": 45,
   "id": "fd7c05e3",
   "metadata": {},
   "outputs": [
    {
     "name": "stdout",
     "output_type": "stream",
     "text": [
      "3x3 identity matrix:\n",
      "[[1. 0. 0.]\n",
      " [0. 1. 0.]\n",
      " [0. 0. 1.]]\n"
     ]
    }
   ],
   "source": [
    "# [1] `numpy.eye()`\n",
    "import numpy as np\n",
    "\n",
    "i = np.eye(3)\n",
    "\n",
    "print(\"3x3 identity matrix:\")\n",
    "print(i)"
   ]
  },
  {
   "cell_type": "code",
   "execution_count": 46,
   "id": "164c6111",
   "metadata": {},
   "outputs": [
    {
     "name": "stdout",
     "output_type": "stream",
     "text": [
      "3x3 identity matrix:\n",
      "[[1. 0. 0.]\n",
      " [0. 1. 0.]\n",
      " [0. 0. 1.]]\n"
     ]
    }
   ],
   "source": [
    "# [2] `numpy.identity()`\n",
    "# `numpy.identity()` just calls `numpy.eye()`\n",
    "import numpy as np\n",
    "\n",
    "i = np.identity(3)\n",
    "\n",
    "print(\"3x3 identity matrix:\")\n",
    "print(i)"
   ]
  },
  {
   "cell_type": "markdown",
   "id": "804443f1",
   "metadata": {},
   "source": [
    "**17. Write a NumPy program to generate a random number between 0 and 1.**"
   ]
  },
  {
   "cell_type": "code",
   "execution_count": 56,
   "id": "fb75de7f",
   "metadata": {},
   "outputs": [
    {
     "name": "stdout",
     "output_type": "stream",
     "text": [
      "Random number between 0 and 1: 0.5591832669244536\n"
     ]
    }
   ],
   "source": [
    "# `numpy.random.random()`\n",
    "import numpy as np\n",
    "\n",
    "# Only one parameter `size=None`\n",
    "rand_num = np.random.random()\n",
    "\n",
    "print(\"Random number between 0 and 1:\", rand_num)"
   ]
  },
  {
   "cell_type": "markdown",
   "id": "60c609ad",
   "metadata": {},
   "source": [
    "**18. Write a NumPy program to generate an array of 15 random numbers from a standard normal distribution.**"
   ]
  },
  {
   "cell_type": "code",
   "execution_count": 54,
   "id": "4295e131",
   "metadata": {},
   "outputs": [
    {
     "name": "stdout",
     "output_type": "stream",
     "text": [
      "15 random numbers from a standard normal distribution:\n",
      "[ 0.16375144 -1.2807765  -1.58258736  1.54402651 -0.21703082  0.74398403\n",
      "  0.64846866  0.50264273 -1.23046157 -1.04332306 -0.05530968 -0.07968339\n",
      " -0.35770947 -0.80559923  0.26791261]\n"
     ]
    }
   ],
   "source": [
    "# `numpy.random.normal()`\n",
    "import numpy as np\n",
    "\n",
    "# Parameters: (loc=0.0, scale=1.0, size=None)\n",
    "rand_nums = np.random.normal(0, 1, 15)\n",
    "\n",
    "print(\"15 random numbers from a standard normal distribution:\")\n",
    "print(rand_nums)"
   ]
  },
  {
   "cell_type": "markdown",
   "id": "da328e16",
   "metadata": {},
   "source": [
    "**19. Write a NumPy program to create a vector with values ranging from 15 to 55 and print all values except the first and last.**"
   ]
  },
  {
   "cell_type": "code",
   "execution_count": 60,
   "id": "794951d5",
   "metadata": {},
   "outputs": [
    {
     "name": "stdout",
     "output_type": "stream",
     "text": [
      "Original vector:\n",
      "[15 16 17 18 19 20 21 22 23 24 25 26 27 28 29 30 31 32 33 34 35 36 37 38\n",
      " 39 40 41 42 43 44 45 46 47 48 49 50 51 52 53 54 55]\n",
      "All values except the first and last of the said vector:\n",
      "[16 17 18 19 20 21 22 23 24 25 26 27 28 29 30 31 32 33 34 35 36 37 38 39\n",
      " 40 41 42 43 44 45 46 47 48 49 50 51 52 53 54]\n"
     ]
    }
   ],
   "source": [
    "# Array slicing & `numpy.arange()`\n",
    "import numpy as np\n",
    "\n",
    "a = np.arange(15, 56)\n",
    "\n",
    "print(\"Original vector:\")\n",
    "print(a)\n",
    "print(\"All values except the first and last of the said vector:\")\n",
    "print(a[1:-1])"
   ]
  },
  {
   "cell_type": "markdown",
   "id": "fbaafdd7",
   "metadata": {},
   "source": [
    "**20. Write a NumPy program to create a 3X4 array and iterate over it.**"
   ]
  },
  {
   "cell_type": "code",
   "execution_count": 62,
   "id": "a0e4e95c",
   "metadata": {},
   "outputs": [
    {
     "name": "stdout",
     "output_type": "stream",
     "text": [
      "Original array:\n",
      "[[ 1.72897514 -0.23554043  0.96985204  1.6230506 ]\n",
      " [ 0.87119946 -0.85694914 -0.18818517 -0.24059022]\n",
      " [ 0.07827248 -0.89701456 -0.79509289 -1.88005207]]\n",
      "Each element of the array is:\n",
      "1.7289751442558243 -0.23554042881699 0.9698520350418939 1.6230506006905572 0.8711994593942077 -0.8569491357218127 -0.18818517121050268 -0.2405902216357698 0.07827248053168133 -0.8970145640367856 -0.7950928919520506 -1.8800520657004234 "
     ]
    }
   ],
   "source": [
    "# [1] `numpy.ndarray.reshape()` & `numpy.nditer()`\n",
    "import numpy as np\n",
    "\n",
    "a = np.random.normal(0, 1, 12).reshape(3, 4)\n",
    "\n",
    "print(\"Original array:\")\n",
    "print(a)\n",
    "print(\"Each element of the array is:\")\n",
    "for i in np.nditer(a):\n",
    "    print(i, end=\" \")"
   ]
  },
  {
   "cell_type": "code",
   "execution_count": 63,
   "id": "5eb26edc",
   "metadata": {},
   "outputs": [
    {
     "name": "stdout",
     "output_type": "stream",
     "text": [
      "Original array:\n",
      "[[-0.65454929 -0.54883507 -0.08898847  1.46358022]\n",
      " [-1.02203243  0.41032939  0.94619518  1.26850746]\n",
      " [-0.11935359 -2.5372944  -0.48486769  1.06117952]]\n",
      "Each element of the array is:\n",
      "-0.6545492888408706 -0.5488350664786932 -0.0889884681986829 1.4635802231453932 -1.02203243188969 0.4103293892105104 0.9461951764927715 1.2685074587512128 -0.11935358533600052 -2.5372944039454195 -0.4848676880386649 1.0611795235065997 "
     ]
    }
   ],
   "source": [
    "# [2] `numpy.random.normal(size)` & `numpy.nditer()`\n",
    "import numpy as np\n",
    "\n",
    "a = np.random.normal(0, 1, (3, 4))\n",
    "\n",
    "print(\"Original array:\")\n",
    "print(a)\n",
    "print(\"Each element of the array is:\")\n",
    "for i in np.nditer(a):\n",
    "    print(i, end=\" \")"
   ]
  },
  {
   "cell_type": "markdown",
   "id": "592d74fe",
   "metadata": {},
   "source": [
    "**21. Write a NumPy program to create a vector of length 10 with values evenly distributed between 5 and 50.**"
   ]
  },
  {
   "cell_type": "code",
   "execution_count": 65,
   "id": "57383e87",
   "metadata": {},
   "outputs": [
    {
     "name": "stdout",
     "output_type": "stream",
     "text": [
      "Length 10 with values evenly distributed between 5 and 50:\n",
      "[ 5. 10. 15. 20. 25. 30. 35. 40. 45. 50.]\n"
     ]
    }
   ],
   "source": [
    "# `numpy.linspace`\n",
    "import numpy as np\n",
    "\n",
    "# Parameters: (start, stop, num=50)\n",
    "v = np.linspace(5, 50, 10)\n",
    "\n",
    "print(\"Length 10 with values evenly distributed between 5 and 50:\")\n",
    "print(v)"
   ]
  },
  {
   "cell_type": "markdown",
   "id": "9b812577",
   "metadata": {},
   "source": [
    "**22. Write a NumPy program to create a vector with values from 0 to 20 and change the sign of the numbers in the range from 9 to 15.**"
   ]
  },
  {
   "cell_type": "code",
   "execution_count": 66,
   "id": "c4e52407",
   "metadata": {},
   "outputs": [
    {
     "name": "stdout",
     "output_type": "stream",
     "text": [
      "Original vector:\n",
      "[ 0  1  2  3  4  5  6  7  8  9 10 11 12 13 14 15 16 17 18 19 20]\n",
      "After changing the sign of the numbers in the range from 9 to 15:\n",
      "[  0   1   2   3   4   5   6   7   8  -9 -10 -11 -12 -13 -14 -15  16  17\n",
      "  18  19  20]\n"
     ]
    }
   ],
   "source": [
    "# Boolean indexing\n",
    "import numpy as np\n",
    "\n",
    "v = np.arange(0, 21)\n",
    "print(\"Original vector:\")\n",
    "print(v)\n",
    "\n",
    "print(\"After changing the sign of the numbers in the range from 9 to 15:\")\n",
    "v[(v >= 9) & (v <= 15)] *= -1\n",
    "print(v)"
   ]
  },
  {
   "cell_type": "markdown",
   "id": "9ac52299",
   "metadata": {},
   "source": [
    "**23. Write a NumPy program to create a vector of length 5 filled with arbitrary integers from 0 to 10.**"
   ]
  },
  {
   "cell_type": "code",
   "execution_count": 68,
   "id": "13f0618b",
   "metadata": {},
   "outputs": [
    {
     "name": "stdout",
     "output_type": "stream",
     "text": [
      "Vector of length 5 filled with arbitrary integers from 0 to 10:\n",
      "[9 8 1 6 7]\n"
     ]
    }
   ],
   "source": [
    "# `numpy.random.randint()`\n",
    "import numpy as np\n",
    "\n",
    "# Parameters: (low, high=None, size=None, dtyle=int)\n",
    "v = np.random.randint(0, 11, 5)\n",
    "\n",
    "print(\"Vector of length 5 filled with arbitrary integers from 0 to 10:\")\n",
    "print(v)"
   ]
  },
  {
   "cell_type": "markdown",
   "id": "751e4c7c",
   "metadata": {},
   "source": [
    "**24. Write a NumPy program to multiply the values of two given vectors.**"
   ]
  },
  {
   "cell_type": "code",
   "execution_count": 69,
   "id": "8ea9fa15",
   "metadata": {},
   "outputs": [
    {
     "name": "stdout",
     "output_type": "stream",
     "text": [
      "Vector 1:\n",
      "[100   8   3  16]\n",
      "Vector 2:\n",
      "[46 25 45 98]\n",
      "Multiply the values of two said vectors:\n",
      "[4600  200  135 1568]\n"
     ]
    }
   ],
   "source": [
    "# `*`\n",
    "import numpy as np\n",
    "\n",
    "x = np.array([100, 8, 3, 16])\n",
    "y = np.random.randint(0, 100, 4)\n",
    "result = x * y\n",
    "\n",
    "print(\"Vector 1:\")\n",
    "print(x)\n",
    "print(\"Vector 2:\")\n",
    "print(y)\n",
    "print(\"Multiply the values of two said vectors:\")\n",
    "print(result)"
   ]
  },
  {
   "cell_type": "markdown",
   "id": "db717ad0",
   "metadata": {},
   "source": [
    "**25. Write a NumPy program to create a 3x4 matrix filled with values from 10 to 21.**"
   ]
  },
  {
   "cell_type": "code",
   "execution_count": 71,
   "id": "ccdeb64b",
   "metadata": {},
   "outputs": [
    {
     "name": "stdout",
     "output_type": "stream",
     "text": [
      "[[10. 11. 12. 13.]\n",
      " [14. 15. 16. 17.]\n",
      " [18. 19. 20. 21.]]\n"
     ]
    }
   ],
   "source": [
    "# [1] `numpy.linspace()` & `numpy.ndarray.reshape()`\n",
    "import numpy as np\n",
    "\n",
    "a = np.linspace(10, 21, 12).reshape(3, 4)\n",
    "\n",
    "print(a)"
   ]
  },
  {
   "cell_type": "code",
   "execution_count": 72,
   "id": "0b1f5136",
   "metadata": {},
   "outputs": [
    {
     "name": "stdout",
     "output_type": "stream",
     "text": [
      "[[10 11 12 13]\n",
      " [14 15 16 17]\n",
      " [18 19 20 21]]\n"
     ]
    }
   ],
   "source": [
    "# [2] `numpy.arange()` & `numpy.ndarray.reshape()`\n",
    "import numpy as np\n",
    "\n",
    "a = np.arange(10, 22).reshape(3, 4)\n",
    "\n",
    "print(a)"
   ]
  },
  {
   "cell_type": "markdown",
   "id": "dd260f31",
   "metadata": {},
   "source": [
    "**26. Write a NumPy program to find the number of rows and columns in a given matrix.**"
   ]
  },
  {
   "cell_type": "code",
   "execution_count": 73,
   "id": "6222ed83",
   "metadata": {},
   "outputs": [
    {
     "name": "stdout",
     "output_type": "stream",
     "text": [
      "Original matrix:\n",
      "[[  6.03049415   1.21756075 -19.21095031   7.04610167]\n",
      " [ -4.39607628  -9.91241626   8.83225343  -8.72568766]\n",
      " [ -6.16683926   3.13079209  -6.07638288 -15.47648333]]\n",
      "Number of rows and columns of the said matrix:\n",
      "(3, 4)\n"
     ]
    }
   ],
   "source": [
    "# `numpy.ndarray.shape`\n",
    "import numpy as np\n",
    "\n",
    "a = np.random.normal(0, 10, (3, 4))\n",
    "\n",
    "print(\"Original matrix:\")\n",
    "print(a)\n",
    "print(\"Number of rows and columns of the said matrix:\")\n",
    "print(a.shape)"
   ]
  },
  {
   "cell_type": "markdown",
   "id": "2d287347",
   "metadata": {},
   "source": [
    "**27. Write a NumPy program to create a 3x3 identity matrix, i.e. the diagonal elements are 1, the rest are 0.**"
   ]
  },
  {
   "cell_type": "code",
   "execution_count": 74,
   "id": "fc551918",
   "metadata": {},
   "outputs": [
    {
     "name": "stdout",
     "output_type": "stream",
     "text": [
      "[[1. 0. 0.]\n",
      " [0. 1. 0.]\n",
      " [0. 0. 1.]]\n"
     ]
    }
   ],
   "source": [
    "# `numpy.eye()` or `numpy.identity()`\n",
    "import numpy as np\n",
    "\n",
    "i = np.eye(3)\n",
    "# i = np.identity(3)\n",
    "\n",
    "print(i)"
   ]
  },
  {
   "cell_type": "markdown",
   "id": "328e2f07",
   "metadata": {},
   "source": [
    "**28. Write a NumPy program to create a 10x10 matrix, in which the elements on the borders will be equal to 1, and inside 0.**"
   ]
  },
  {
   "cell_type": "code",
   "execution_count": 75,
   "id": "7e261239",
   "metadata": {},
   "outputs": [
    {
     "name": "stdout",
     "output_type": "stream",
     "text": [
      "[[1. 1. 1. 1. 1. 1. 1. 1. 1. 1.]\n",
      " [1. 0. 0. 0. 0. 0. 0. 0. 0. 1.]\n",
      " [1. 0. 0. 0. 0. 0. 0. 0. 0. 1.]\n",
      " [1. 0. 0. 0. 0. 0. 0. 0. 0. 1.]\n",
      " [1. 0. 0. 0. 0. 0. 0. 0. 0. 1.]\n",
      " [1. 0. 0. 0. 0. 0. 0. 0. 0. 1.]\n",
      " [1. 0. 0. 0. 0. 0. 0. 0. 0. 1.]\n",
      " [1. 0. 0. 0. 0. 0. 0. 0. 0. 1.]\n",
      " [1. 0. 0. 0. 0. 0. 0. 0. 0. 1.]\n",
      " [1. 1. 1. 1. 1. 1. 1. 1. 1. 1.]]\n"
     ]
    }
   ],
   "source": [
    "# Array slicing & `numpy.ones(size)`\n",
    "import numpy as np\n",
    "\n",
    "a = np.ones((10, 10))\n",
    "a[1:-1, 1:-1] = 0\n",
    "\n",
    "print(a)"
   ]
  },
  {
   "cell_type": "markdown",
   "id": "598fab9e",
   "metadata": {},
   "source": [
    "**29. Write a NumPy program to create a 5x5 zero matrix with elements on the main diagonal equal to 1, 2, 3, 4, 5.**"
   ]
  },
  {
   "cell_type": "code",
   "execution_count": 78,
   "id": "583aa8e9",
   "metadata": {},
   "outputs": [
    {
     "name": "stdout",
     "output_type": "stream",
     "text": [
      "[[1. 0. 0. 0. 0.]\n",
      " [0. 2. 0. 0. 0.]\n",
      " [0. 0. 3. 0. 0.]\n",
      " [0. 0. 0. 4. 0.]\n",
      " [0. 0. 0. 0. 5.]]\n"
     ]
    }
   ],
   "source": [
    "# for loop & `numpy.zeros()`\n",
    "import numpy as np\n",
    "\n",
    "a = np.zeros((5, 5))\n",
    "for i in range(0, 5):\n",
    "    a[i, i] = i + 1\n",
    "    \n",
    "print(a)"
   ]
  },
  {
   "cell_type": "code",
   "execution_count": 79,
   "id": "f97b4d4c",
   "metadata": {},
   "outputs": [
    {
     "name": "stdout",
     "output_type": "stream",
     "text": [
      "[[1 0 0 0 0]\n",
      " [0 2 0 0 0]\n",
      " [0 0 3 0 0]\n",
      " [0 0 0 4 0]\n",
      " [0 0 0 0 5]]\n"
     ]
    }
   ],
   "source": [
    "# [2] `numpy.diag(v)`\n",
    "import numpy as np\n",
    "\n",
    "a = np.diag([1, 2, 3, 4, 5])\n",
    "\n",
    "print(a)"
   ]
  },
  {
   "cell_type": "markdown",
   "id": "28353e86",
   "metadata": {},
   "source": [
    "**30. Write a NumPy program to create a 4x4 matrix in which 0 and 1 are staggered, with zeros on the main diagonal.**"
   ]
  },
  {
   "cell_type": "code",
   "execution_count": 82,
   "id": "bdcfd708",
   "metadata": {},
   "outputs": [
    {
     "name": "stdout",
     "output_type": "stream",
     "text": [
      "[[0. 1. 0. 1.]\n",
      " [1. 0. 1. 0.]\n",
      " [0. 1. 0. 1.]\n",
      " [1. 0. 1. 0.]]\n"
     ]
    }
   ],
   "source": [
    "# Array slicing & `numpy.zeros()`\n",
    "import numpy as np\n",
    "\n",
    "a = np.zeros((4, 4))\n",
    "# rows 0, 2; columns 1, 3\n",
    "a[::2, 1::2] = 1\n",
    "# rows 1, 3; columns 0, 2\n",
    "a[1::2, ::2] = 1\n",
    "\n",
    "print(a)"
   ]
  },
  {
   "cell_type": "markdown",
   "id": "350b35c3",
   "metadata": {},
   "source": [
    "**31. Write a NumPy program to create a 3x3x3 array filled with arbitrary values.**"
   ]
  },
  {
   "cell_type": "code",
   "execution_count": 83,
   "id": "61aa8655",
   "metadata": {},
   "outputs": [
    {
     "name": "stdout",
     "output_type": "stream",
     "text": [
      "[[[0.45376748 0.58773613 0.32980604]\n",
      "  [0.11413024 0.22825167 0.93587001]\n",
      "  [0.47616166 0.54254727 0.79557692]]\n",
      "\n",
      " [[0.75359548 0.37277045 0.54974256]\n",
      "  [0.934096   0.24851634 0.34201562]\n",
      "  [0.10915372 0.66599692 0.42123557]]\n",
      "\n",
      " [[0.80983331 0.51493158 0.62629913]\n",
      "  [0.01686448 0.77066879 0.74304862]\n",
      "  [0.64710998 0.63563932 0.22271497]]]\n"
     ]
    }
   ],
   "source": [
    "# `numpy.random.random(size)`\n",
    "import numpy as np\n",
    "\n",
    "a = np.random.random((3, 3, 3))\n",
    "\n",
    "print(a)"
   ]
  },
  {
   "cell_type": "markdown",
   "id": "3aa69aba",
   "metadata": {},
   "source": [
    "**32. Write a NumPy program to compute the sum of all elements, the sum of each column and the sum of each row in a given array.**"
   ]
  },
  {
   "cell_type": "code",
   "execution_count": 84,
   "id": "5f3dd5d7",
   "metadata": {},
   "outputs": [
    {
     "name": "stdout",
     "output_type": "stream",
     "text": [
      "Original array:\n",
      "[[0 1]\n",
      " [2 3]]\n",
      "Sum of all elements:\n",
      "6\n",
      "Sum of each column:\n",
      "[2 4]\n",
      "Sum of each row:\n",
      "[1 5]\n"
     ]
    }
   ],
   "source": [
    "# `numpy.sum(a, axis=None)`\n",
    "import numpy as np\n",
    "\n",
    "a = np.array([[0, 1], [2, 3]])\n",
    "\n",
    "print(\"Original array:\")\n",
    "print(a)\n",
    "print(\"Sum of all elements:\")\n",
    "print(np.sum(a))\n",
    "print(\"Sum of each column:\")\n",
    "print(np.sum(a, axis=0))\n",
    "print(\"Sum of each row:\")\n",
    "print(np.sum(a, axis=1))"
   ]
  },
  {
   "cell_type": "markdown",
   "id": "54a587e6",
   "metadata": {},
   "source": [
    "**33. Write a NumPy program to compute the inner product of two given vectors.**"
   ]
  },
  {
   "cell_type": "code",
   "execution_count": 89,
   "id": "82132169",
   "metadata": {},
   "outputs": [
    {
     "name": "stdout",
     "output_type": "stream",
     "text": [
      "Original vectors:\n",
      "[3 5]\n",
      "[ 8 16]\n",
      "Inner product of said vectors:\n",
      "104\n"
     ]
    }
   ],
   "source": [
    "# [1] `numpy.ndarray.dot()`\n",
    "import numpy as np\n",
    "\n",
    "a = np.array([3, 5])\n",
    "b = np.array([8, 16])\n",
    "\n",
    "print(\"Original vectors:\")\n",
    "print(a)\n",
    "print(b)\n",
    "print(\"Inner product of said vectors:\")\n",
    "print(a.dot(b))"
   ]
  },
  {
   "cell_type": "code",
   "execution_count": 88,
   "id": "97eac25e",
   "metadata": {},
   "outputs": [
    {
     "name": "stdout",
     "output_type": "stream",
     "text": [
      "Original vectors:\n",
      "[3 5]\n",
      "[ 8 16]\n",
      "Inner product of said vectors:\n",
      "104\n"
     ]
    }
   ],
   "source": [
    "# [2] `numpy.dot(a, b)`\n",
    "import numpy as np\n",
    "\n",
    "a = np.array([3, 5])\n",
    "b = np.array([8, 16])\n",
    "\n",
    "print(\"Original vectors:\")\n",
    "print(a)\n",
    "print(b)\n",
    "print(\"Inner product of said vectors:\")\n",
    "print(np.dot(a, b))"
   ]
  },
  {
   "cell_type": "markdown",
   "id": "071e7795",
   "metadata": {},
   "source": [
    "**34. Write a NumPy program to add a vector to each row of a given matrix.**"
   ]
  },
  {
   "cell_type": "code",
   "execution_count": 92,
   "id": "a9491395",
   "metadata": {},
   "outputs": [
    {
     "name": "stdout",
     "output_type": "stream",
     "text": [
      "Orginal matrix:\n",
      "[[ 0  1  2  3]\n",
      " [ 4  5  6  7]\n",
      " [ 8  9 10 11]]\n",
      "Vector to add:\n",
      "[[1. 1. 1. 1.]]\n",
      "After adding the vector to each row of the matrix:\n",
      "[[ 1.  2.  3.  4.]\n",
      " [ 5.  6.  7.  8.]\n",
      " [ 9. 10. 11. 12.]]\n"
     ]
    }
   ],
   "source": [
    "# [1] `+`\n",
    "import numpy as np\n",
    "\n",
    "a = np.arange(0, 12).reshape(3, 4)\n",
    "v = np.ones((1, 4))\n",
    "result = a + v\n",
    "\n",
    "print(\"Orginal matrix:\")\n",
    "print(a)\n",
    "print(\"Vector to add:\")\n",
    "print(v)\n",
    "print(\"After adding the vector to each row of the matrix:\")\n",
    "print(result)"
   ]
  },
  {
   "cell_type": "code",
   "execution_count": 94,
   "id": "455f4f48",
   "metadata": {},
   "outputs": [
    {
     "name": "stdout",
     "output_type": "stream",
     "text": [
      "Orginal matrix:\n",
      "[[ 0  1  2  3]\n",
      " [ 4  5  6  7]\n",
      " [ 8  9 10 11]]\n",
      "Vector to add:\n",
      "[[1. 1. 1. 1.]]\n",
      "After adding the vector to each row of the matrix:\n",
      "[[ 1  2  3  4]\n",
      " [ 5  6  7  8]\n",
      " [ 9 10 11 12]]\n"
     ]
    }
   ],
   "source": [
    "# [2] for loop & `numpy.empty_like()`\n",
    "import numpy as np\n",
    "\n",
    "a = np.arange(0, 12).reshape(3, 4)\n",
    "v = np.ones((1, 4))\n",
    "result = np.empty_like(a)\n",
    "\n",
    "# Loop through columns\n",
    "for i in range(3):\n",
    "    result[i, :] = a[i, :] + v\n",
    "    \n",
    "print(\"Orginal matrix:\")\n",
    "print(a)\n",
    "print(\"Vector to add:\")\n",
    "print(v)\n",
    "print(\"After adding the vector to each row of the matrix:\")\n",
    "print(result)"
   ]
  },
  {
   "cell_type": "markdown",
   "id": "c79e2532",
   "metadata": {},
   "source": [
    "**35. Write a NumPy program to save a given array to a binary file.**"
   ]
  },
  {
   "cell_type": "code",
   "execution_count": 95,
   "id": "e362d280",
   "metadata": {},
   "outputs": [
    {
     "name": "stdout",
     "output_type": "stream",
     "text": [
      "Check if \"tmp_array.npy\" exists or not?\n",
      "True\n"
     ]
    }
   ],
   "source": [
    "# `numpy.save()` & `numpy.load()` & `numpy.array_equal()`\n",
    "# `.npy` persists a single arbitrary NumPy array\n",
    "import os\n",
    "import numpy as np\n",
    "\n",
    "a = np.arange(10)\n",
    "np.save(\"tmp_array.npy\", a)\n",
    "\n",
    "print(\"Check if \\\"tmp_array.npy\\\" exists or not?\")\n",
    "if os.path.exists(\"tmp_array.npy\"):\n",
    "    x = np.load(\"tmp_array.npy\")\n",
    "    print(np.array_equal(a, x))"
   ]
  },
  {
   "cell_type": "markdown",
   "id": "849f23fa",
   "metadata": {},
   "source": [
    "**36. Write a NumPy program to save two given arrays into a single file in compressed format (.npz format) and load it.**"
   ]
  },
  {
   "cell_type": "code",
   "execution_count": 97,
   "id": "e2a75827",
   "metadata": {},
   "outputs": [
    {
     "name": "stdout",
     "output_type": "stream",
     "text": [
      "Orignal arrays:\n",
      "[ 1  2  3  4  5  6  7  8  9 10]\n",
      "[11 12 13 14 15 16 17 18 19]\n",
      "Load arrays from the \"temp_arra.npz\" file:\n",
      "[ 1  2  3  4  5  6  7  8  9 10]\n",
      "[11 12 13 14 15 16 17 18 19]\n"
     ]
    }
   ],
   "source": [
    "# `numpy.savez()` & `numpy.load()`\n",
    "# `.npz` is a uncompressed zipped archive of files named after the variables they contain\n",
    "import numpy as np\n",
    "\n",
    "a = np.arange(1, 11)\n",
    "b = np.arange(11, 20)\n",
    "np.savez(\"tmp_array.npz\", a=a, b=b)\n",
    "\n",
    "print(\"Orignal arrays:\")\n",
    "print(a)\n",
    "print(b)\n",
    "\n",
    "print(\"Load arrays from the \\\"temp_arra.npz\\\" file:\")\n",
    "with np.load(\"tmp_array.npz\") as data:\n",
    "    x = data[\"a\"]\n",
    "    y = data[\"b\"]\n",
    "    print(x)\n",
    "    print(y)"
   ]
  },
  {
   "cell_type": "code",
   "execution_count": null,
   "id": "90d7eee4",
   "metadata": {},
   "outputs": [],
   "source": []
  }
 ],
 "metadata": {
  "kernelspec": {
   "display_name": "Python 3 (ipykernel)",
   "language": "python",
   "name": "python3"
  },
  "language_info": {
   "codemirror_mode": {
    "name": "ipython",
    "version": 3
   },
   "file_extension": ".py",
   "mimetype": "text/x-python",
   "name": "python",
   "nbconvert_exporter": "python",
   "pygments_lexer": "ipython3",
   "version": "3.8.8"
  }
 },
 "nbformat": 4,
 "nbformat_minor": 5
}

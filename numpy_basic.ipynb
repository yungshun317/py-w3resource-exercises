{
 "cells": [
  {
   "cell_type": "markdown",
   "id": "fe634072",
   "metadata": {},
   "source": [
    "# NumPy Basic\n",
    "\n",
    "**1. Write a Numpy program to get the Numpy version and show the Numpy build configuration.**"
   ]
  },
  {
   "cell_type": "code",
   "execution_count": 2,
   "id": "0ce87794",
   "metadata": {},
   "outputs": [
    {
     "name": "stdout",
     "output_type": "stream",
     "text": [
      "1.23.3\n",
      "openblas64__info:\n",
      "    libraries = ['openblas64_', 'openblas64_']\n",
      "    library_dirs = ['/usr/local/lib']\n",
      "    language = c\n",
      "    define_macros = [('HAVE_CBLAS', None), ('BLAS_SYMBOL_SUFFIX', '64_'), ('HAVE_BLAS_ILP64', None)]\n",
      "    runtime_library_dirs = ['/usr/local/lib']\n",
      "blas_ilp64_opt_info:\n",
      "    libraries = ['openblas64_', 'openblas64_']\n",
      "    library_dirs = ['/usr/local/lib']\n",
      "    language = c\n",
      "    define_macros = [('HAVE_CBLAS', None), ('BLAS_SYMBOL_SUFFIX', '64_'), ('HAVE_BLAS_ILP64', None)]\n",
      "    runtime_library_dirs = ['/usr/local/lib']\n",
      "openblas64__lapack_info:\n",
      "    libraries = ['openblas64_', 'openblas64_']\n",
      "    library_dirs = ['/usr/local/lib']\n",
      "    language = c\n",
      "    define_macros = [('HAVE_CBLAS', None), ('BLAS_SYMBOL_SUFFIX', '64_'), ('HAVE_BLAS_ILP64', None), ('HAVE_LAPACKE', None)]\n",
      "    runtime_library_dirs = ['/usr/local/lib']\n",
      "lapack_ilp64_opt_info:\n",
      "    libraries = ['openblas64_', 'openblas64_']\n",
      "    library_dirs = ['/usr/local/lib']\n",
      "    language = c\n",
      "    define_macros = [('HAVE_CBLAS', None), ('BLAS_SYMBOL_SUFFIX', '64_'), ('HAVE_BLAS_ILP64', None), ('HAVE_LAPACKE', None)]\n",
      "    runtime_library_dirs = ['/usr/local/lib']\n",
      "Supported SIMD extensions in this NumPy install:\n",
      "    baseline = SSE,SSE2,SSE3\n",
      "    found = SSSE3,SSE41,POPCNT,SSE42,AVX,F16C,FMA3,AVX2\n",
      "    not found = AVX512F,AVX512CD,AVX512_KNL,AVX512_KNM,AVX512_SKX,AVX512_CLX,AVX512_CNL,AVX512_ICL\n",
      "None\n"
     ]
    }
   ],
   "source": [
    "# `numpy.__version__` & `numpy.show_config()`\n",
    "import numpy as np\n",
    "\n",
    "print(np.__version__)\n",
    "print(np.show_config())"
   ]
  },
  {
   "cell_type": "markdown",
   "id": "41512b04",
   "metadata": {},
   "source": [
    "**2. Write a NumPy program to get help with the add function.**"
   ]
  },
  {
   "cell_type": "code",
   "execution_count": 3,
   "id": "04c41721",
   "metadata": {},
   "outputs": [
    {
     "name": "stdout",
     "output_type": "stream",
     "text": [
      "add(x1, x2, /, out=None, *, where=True, casting='same_kind', order='K', dtype=None, subok=True[, signature, extobj])\n",
      "\n",
      "Add arguments element-wise.\n",
      "\n",
      "Parameters\n",
      "----------\n",
      "x1, x2 : array_like\n",
      "    The arrays to be added.\n",
      "    If ``x1.shape != x2.shape``, they must be broadcastable to a common\n",
      "    shape (which becomes the shape of the output).\n",
      "out : ndarray, None, or tuple of ndarray and None, optional\n",
      "    A location into which the result is stored. If provided, it must have\n",
      "    a shape that the inputs broadcast to. If not provided or None,\n",
      "    a freshly-allocated array is returned. A tuple (possible only as a\n",
      "    keyword argument) must have length equal to the number of outputs.\n",
      "where : array_like, optional\n",
      "    This condition is broadcast over the input. At locations where the\n",
      "    condition is True, the `out` array will be set to the ufunc result.\n",
      "    Elsewhere, the `out` array will retain its original value.\n",
      "    Note that if an uninitialized `out` array is created via the default\n",
      "    ``out=None``, locations within it where the condition is False will\n",
      "    remain uninitialized.\n",
      "**kwargs\n",
      "    For other keyword-only arguments, see the\n",
      "    :ref:`ufunc docs <ufuncs.kwargs>`.\n",
      "\n",
      "Returns\n",
      "-------\n",
      "add : ndarray or scalar\n",
      "    The sum of `x1` and `x2`, element-wise.\n",
      "    This is a scalar if both `x1` and `x2` are scalars.\n",
      "\n",
      "Notes\n",
      "-----\n",
      "Equivalent to `x1` + `x2` in terms of array broadcasting.\n",
      "\n",
      "Examples\n",
      "--------\n",
      ">>> np.add(1.0, 4.0)\n",
      "5.0\n",
      ">>> x1 = np.arange(9.0).reshape((3, 3))\n",
      ">>> x2 = np.arange(3.0)\n",
      ">>> np.add(x1, x2)\n",
      "array([[  0.,   2.,   4.],\n",
      "       [  3.,   5.,   7.],\n",
      "       [  6.,   8.,  10.]])\n",
      "\n",
      "The ``+`` operator can be used as a shorthand for ``np.add`` on ndarrays.\n",
      "\n",
      ">>> x1 = np.arange(9.0).reshape((3, 3))\n",
      ">>> x2 = np.arange(3.0)\n",
      ">>> x1 + x2\n",
      "array([[ 0.,  2.,  4.],\n",
      "       [ 3.,  5.,  7.],\n",
      "       [ 6.,  8., 10.]])\n",
      "None\n"
     ]
    }
   ],
   "source": [
    "# `numpy.info()`\n",
    "import numpy as np\n",
    "\n",
    "print(np.info(np.add))"
   ]
  },
  {
   "cell_type": "markdown",
   "id": "71ed42cb",
   "metadata": {},
   "source": [
    "**3. Write a NumPy program to test whether none of the elements of a given array are zero.**"
   ]
  },
  {
   "cell_type": "code",
   "execution_count": 6,
   "id": "68fb613f",
   "metadata": {},
   "outputs": [
    {
     "name": "stdout",
     "output_type": "stream",
     "text": [
      "Original array: [1 2 3 4]\n",
      "Test if none of the elements of the said array is zero: True\n",
      "Original array: [0 1 2 3]\n",
      "Test if none of the elements of the said array is zero: False\n"
     ]
    }
   ],
   "source": [
    "# [1] `numpy.all()`\n",
    "# `numpy.all(x)` will simply call `x.all()` if `x` is a `numpy.ndarray` \n",
    "# `numpy.all(x)` will convert `x` into a `numpy.ndarray` and then call `x.all()` if `x` is not a `numpy.ndarray`\n",
    "import numpy as np\n",
    "\n",
    "x = np.array([1, 2, 3, 4])\n",
    "print(\"Original array:\", x)\n",
    "print(\"Test if none of the elements of the said array is zero:\", np.all(x))\n",
    "\n",
    "x = np.array([0, 1, 2, 3])\n",
    "print(\"Original array:\", x)\n",
    "print(\"Test if none of the elements of the said array is zero:\", np.all(x))"
   ]
  },
  {
   "cell_type": "code",
   "execution_count": 10,
   "id": "74eda828",
   "metadata": {},
   "outputs": [
    {
     "name": "stdout",
     "output_type": "stream",
     "text": [
      "Original array: [1 2 3 4]\n",
      "Test if none of the elements of the said array is zero: True\n",
      "Original array: [0 1 2 3]\n",
      "Test if none of the elements of the said array is zero: False\n"
     ]
    }
   ],
   "source": [
    "# [2] `numpy.ndarray.all()`\n",
    "# `numpy.ndarray.all()` is a method of `numpy.ndarray` object; call this directly will be faster than `numpy.all()`\n",
    "import numpy as np\n",
    "\n",
    "x = np.array([1, 2, 3, 4])\n",
    "print(\"Original array:\", x)\n",
    "print(\"Test if none of the elements of the said array is zero:\", x.all())\n",
    "\n",
    "x = np.array([0, 1, 2, 3])\n",
    "print(\"Original array:\", x)\n",
    "print(\"Test if none of the elements of the said array is zero:\", x.all())"
   ]
  },
  {
   "cell_type": "code",
   "execution_count": 8,
   "id": "0fd765f7",
   "metadata": {},
   "outputs": [
    {
     "name": "stdout",
     "output_type": "stream",
     "text": [
      "Original array: [1 2 3 4]\n",
      "Test if none of the elements of the said array is zero: True\n",
      "Original array: [0 1 2 3]\n",
      "Test if none of the elements of the said array is zero: False\n"
     ]
    }
   ],
   "source": [
    "# [3] `all()`\n",
    "# `all()` works on any iterable\n",
    "import numpy as np\n",
    "\n",
    "x = np.array([1, 2, 3, 4])\n",
    "print(\"Original array:\", x)\n",
    "print(\"Test if none of the elements of the said array is zero:\", all(x))\n",
    "\n",
    "x = np.array([0, 1, 2, 3])\n",
    "print(\"Original array:\", x)\n",
    "print(\"Test if none of the elements of the said array is zero:\", all(x))"
   ]
  },
  {
   "cell_type": "markdown",
   "id": "7b225d92",
   "metadata": {},
   "source": [
    "**4. Write a NumPy program to test if any of the elements of a given array are non-zero.**"
   ]
  },
  {
   "cell_type": "code",
   "execution_count": 11,
   "id": "d1b1b41d",
   "metadata": {},
   "outputs": [
    {
     "name": "stdout",
     "output_type": "stream",
     "text": [
      "Original array: [1 0 0 0]\n",
      "Test if none of the elements of the said array is zero: True\n",
      "Original array: [0 0 0 0]\n",
      "Test if none of the elements of the said array is zero: False\n"
     ]
    }
   ],
   "source": [
    "# [1] `numpy.any()`\n",
    "import numpy as np\n",
    "\n",
    "x = np.array([1, 0, 0, 0])\n",
    "print(\"Original array:\", x)\n",
    "print(\"Test if any of the elements of the said array is non-zero:\", np.any(x))\n",
    "\n",
    "x = np.array([0, 0, 0, 0])\n",
    "print(\"Original array:\", x)\n",
    "print(\"Test if any of the elements of the said array is non-zero:\", np.any(x))"
   ]
  },
  {
   "cell_type": "code",
   "execution_count": 12,
   "id": "2262e20d",
   "metadata": {},
   "outputs": [
    {
     "name": "stdout",
     "output_type": "stream",
     "text": [
      "Original array: [1 0 0 0]\n",
      "Test if none of the elements of the said array is zero: True\n",
      "Original array: [0 0 0 0]\n",
      "Test if none of the elements of the said array is zero: False\n"
     ]
    }
   ],
   "source": [
    "# [2] `numpy.ndarray.any()`\n",
    "import numpy as np\n",
    "\n",
    "x = np.array([1, 0, 0, 0])\n",
    "print(\"Original array:\", x)\n",
    "print(\"Test if none of the elements of the said array is zero:\", x.any())\n",
    "\n",
    "x = np.array([0, 0, 0, 0])\n",
    "print(\"Original array:\", x)\n",
    "print(\"Test if none of the elements of the said array is zero:\", x.any())"
   ]
  },
  {
   "cell_type": "markdown",
   "id": "56fcff4b",
   "metadata": {},
   "source": [
    "**5. Write a NumPy program to test a given array element-wise for finiteness (not infinity or not a number).**"
   ]
  },
  {
   "cell_type": "code",
   "execution_count": 13,
   "id": "0836db3b",
   "metadata": {},
   "outputs": [
    {
     "name": "stdout",
     "output_type": "stream",
     "text": [
      "Original array: [ 1.  0. nan inf]\n",
      "Test a given array element-wise for finiteness: [ True  True False False]\n"
     ]
    }
   ],
   "source": [
    "# `numpy.isfinite()`\n",
    "import numpy as np\n",
    "\n",
    "a = np.array([1, 0, np.nan, np.inf])\n",
    "\n",
    "print(\"Original array:\", a)\n",
    "print(\"Test a given array element-wise for finiteness:\", np.isfinite(a))"
   ]
  },
  {
   "cell_type": "markdown",
   "id": "3ec33998",
   "metadata": {},
   "source": [
    "**6. Write a NumPy program to test elements-wise for positive or negative infinity.**"
   ]
  },
  {
   "cell_type": "code",
   "execution_count": 14,
   "id": "df2aeb20",
   "metadata": {},
   "outputs": [
    {
     "name": "stdout",
     "output_type": "stream",
     "text": [
      "Original array: [ 1.  0. nan inf]\n",
      "Test a given array element-wise for positive or negative infinity: [False False False  True]\n"
     ]
    }
   ],
   "source": [
    "# `numpy.isinf()`\n",
    "import numpy as np\n",
    "\n",
    "a = np.array([1, 0, np.nan, np.inf])\n",
    "\n",
    "print(\"Original array:\", a)\n",
    "print(\"Test a given array element-wise for positive or negative infinity:\", np.isinf(a))"
   ]
  },
  {
   "cell_type": "markdown",
   "id": "f4997f2b",
   "metadata": {},
   "source": [
    "**7. Write a NumPy program to test element-wise for NaN of a given array.**"
   ]
  },
  {
   "cell_type": "code",
   "execution_count": 15,
   "id": "0a685433",
   "metadata": {},
   "outputs": [
    {
     "name": "stdout",
     "output_type": "stream",
     "text": [
      "Original array: [ 1.  0. nan inf]\n",
      "Test a given array element-wise for positive or negative infinity: [False False  True False]\n"
     ]
    }
   ],
   "source": [
    "# `numpy.isnan()`\n",
    "import numpy as np\n",
    "\n",
    "a = np.array([1, 0, np.nan, np.inf])\n",
    "\n",
    "print(\"Original array:\", a)\n",
    "print(\"Test a given array element-wise for positive or negative infinity:\", np.isnan(a))"
   ]
  },
  {
   "cell_type": "markdown",
   "id": "13b14e3e",
   "metadata": {},
   "source": [
    "**8. Write a NumPy program to test element-wise for complex numbers, real numbers in a given array. Also test if a given number is of a scalar type or not.**"
   ]
  },
  {
   "cell_type": "code",
   "execution_count": 16,
   "id": "89d03a2c",
   "metadata": {},
   "outputs": [
    {
     "name": "stdout",
     "output_type": "stream",
     "text": [
      "Original array: [1. +1.j 1. +0.j 4.5+0.j 3. +0.j 2. +0.j 0. +2.j]\n",
      "Check for complex number: [ True False False False False  True]\n",
      "Check for real number: [False  True  True  True  True False]\n",
      "Check for scalar type: True\n",
      "Check for scalar type: False\n"
     ]
    }
   ],
   "source": [
    "# `numpy.iscomplex()` & `numpy.isreal()` & `numpy.isscalar()`\n",
    "import numpy as np\n",
    "\n",
    "a = np.array([1+1j, 1+0j, 4.5, 3, 2, 2j])\n",
    "\n",
    "print(\"Original array:\", a)\n",
    "print(\"Check for complex number:\", np.iscomplex(a))\n",
    "print(\"Check for real number:\", np.isreal(a))\n",
    "\n",
    "print(\"Check for scalar type:\", np.isscalar(3.6))\n",
    "print(\"Check for scalar type:\", np.isscalar([3.6]))"
   ]
  },
  {
   "cell_type": "markdown",
   "id": "0bc45004",
   "metadata": {},
   "source": [
    "**9. Write a NumPy program to test whether two arrays are element-wise equal within a tolerance.**"
   ]
  },
  {
   "cell_type": "code",
   "execution_count": 17,
   "id": "c9a9fa66",
   "metadata": {},
   "outputs": [
    {
     "name": "stdout",
     "output_type": "stream",
     "text": [
      "Test if two arrays are element-wise equal within a tolerance:\n",
      "False\n",
      "True\n",
      "False\n",
      "False\n",
      "True\n"
     ]
    }
   ],
   "source": [
    "# `np.allclose()`\n",
    "# absolute(a - b) <= (atol + rtol * absolute(b))\n",
    "# Default absolute tolerance `atol = 1e-08`\n",
    "# Default relative tolerance `rtol = 1e-05`\n",
    "import numpy as np\n",
    "\n",
    "print(\"Test if two arrays are element-wise equal within a tolerance:\")\n",
    "# absolute(a - b) = [1e5 0.9e-7]\n",
    "# atol + rtol * absolute(b) = [1e-8 + 1.00001e5   1e-8 + 1e-13]\n",
    "print(np.allclose([1e10, 1e-7], [1.00001e10, 1e-8]))\n",
    "# absolute(a - b) = [1e5 0.9e-8]\n",
    "# atol + rtol * absolute(b) = [1e-8 + 1.00001e5   1e-8 + 1e-14]\n",
    "print(np.allclose([1e10, 1e-8], [1.00001e10, 1e-9]))\n",
    "# absolute(a - b) = [1e6 0.9e-8]\n",
    "# atol + rtol * absolute(b) = [1e-8 + 1.0001e5   1e-8 + 1e-14]\n",
    "print(np.allclose([1e10, 1e-8], [1.0001e10, 1e-9]))\n",
    "\n",
    "# `equal_nan=False`: Whether to compare NaN’s as equal\n",
    "print(np.allclose([1.0, np.nan], [1.0, np.nan]))\n",
    "print(np.allclose([1.0, np.nan], [1.0, np.nan], equal_nan=True))"
   ]
  },
  {
   "cell_type": "markdown",
   "id": "204b3bb8",
   "metadata": {},
   "source": [
    "**10. Write a NumPy program to create an element-wise comparison (greater, greater_equal, less and less_equal) of two given arrays.**"
   ]
  },
  {
   "cell_type": "code",
   "execution_count": 20,
   "id": "79691999",
   "metadata": {},
   "outputs": [
    {
     "name": "stdout",
     "output_type": "stream",
     "text": [
      "Original array: [3 5] [2 5]\n",
      "Comparison - greater: [ True False]\n",
      "Comparison - greater_equal: [ True  True]\n",
      "Comparison - less: [False False]\n",
      "Comparison - less_equal: [False  True]\n"
     ]
    }
   ],
   "source": [
    "# `numpy.greater()` & `numpy.greater_equal()` & `numpy.less()` & `numpy.less_equal()`\n",
    "import numpy as np\n",
    "\n",
    "x = np.array([3, 5])\n",
    "y = np.array([2, 5])\n",
    "\n",
    "print(\"Original array:\", x, y)\n",
    "print(\"Comparison - greater:\", np.greater(x, y))\n",
    "print(\"Comparison - greater_equal:\", np.greater_equal(x, y))\n",
    "print(\"Comparison - less:\", np.less(x, y))\n",
    "print(\"Comparison - less_equal:\", np.less_equal(x, y))"
   ]
  },
  {
   "cell_type": "markdown",
   "id": "d1a8775a",
   "metadata": {},
   "source": [
    "**11. Write a NumPy program to create an element-wise comparison (equal, equal within a tolerance) of two given arrays.**"
   ]
  },
  {
   "cell_type": "code",
   "execution_count": 21,
   "id": "e87ad997",
   "metadata": {},
   "outputs": [
    {
     "name": "stdout",
     "output_type": "stream",
     "text": [
      "Original array: [  72   79   85   90  150 -135  120  -10   60  100] [  72.         79.         85.         90.        150.       -135.\n",
      "  120.        -10.         60.        100.000001]\n",
      "Comparison - equal: [ True  True  True  True  True  True  True  True  True False]\n",
      "Comparison - equal within a tolerance: [ True  True  True  True  True  True  True  True  True  True]\n"
     ]
    }
   ],
   "source": [
    "# `numpy.equal()` & `numpy.isclose()`\n",
    "# Formula & parameters' default values of `isclose()` are the same as `allclose()`\n",
    "import numpy as np\n",
    "\n",
    "x = np.array([72, 79, 85, 90, 150, -135, 120, -10, 60, 100])\n",
    "y = np.array([72, 79, 85, 90, 150, -135, 120, -10, 60, 100.000001])\n",
    "\n",
    "print(\"Original array:\", x, y)\n",
    "print(\"Comparison - equal:\", np.equal(x, y))\n",
    "print(\"Comparison - equal within a tolerance:\", np.isclose(x, y))"
   ]
  },
  {
   "cell_type": "markdown",
   "id": "53fc695d",
   "metadata": {},
   "source": [
    "**12. Write a NumPy program to create an array with the values 1, 7, 13, 105 and determine the size of the memory occupied by the array.**"
   ]
  },
  {
   "cell_type": "code",
   "execution_count": 31,
   "id": "8214129a",
   "metadata": {},
   "outputs": [
    {
     "name": "stdout",
     "output_type": "stream",
     "text": [
      "Original array: [  1   7  13 105]\n",
      "Size of the memory occupied by the said array:\n",
      "32 bytes\n"
     ]
    }
   ],
   "source": [
    "# [1] `numpy.ndarray.size` & `numpy.ndarray.itemsize`\n",
    "# `numpy.ndarray` does not correctly support `sys.getsizeof()`\n",
    "# import sys\n",
    "import numpy as np\n",
    "\n",
    "a = np.array([1, 7, 13, 105])\n",
    "\n",
    "# print(\"%d bytes\" % sys.getsizeof(a))\n",
    "# 144 bytes\n",
    "# print(\"%d bytes\" % sys.getsizeof([1, 7, 13, 105]))\n",
    "# 88 bytes\n",
    "\n",
    "print(\"Original array:\", a)\n",
    "print(\"Size of the memory occupied by the said array:\")\n",
    "print(\"%d bytes\" % (a.size * a.itemsize))"
   ]
  },
  {
   "cell_type": "code",
   "execution_count": 32,
   "id": "909eb4aa",
   "metadata": {},
   "outputs": [
    {
     "name": "stdout",
     "output_type": "stream",
     "text": [
      "Original array: [  1   7  13 105]\n",
      "Size of the memory occupied by the said array:\n",
      "32 bytes\n"
     ]
    }
   ],
   "source": [
    "# [2] `numpy.ndarray.nbytes`\n",
    "import numpy as np\n",
    "\n",
    "a = np.array([1, 7, 13, 105])\n",
    "\n",
    "print(\"Original array:\", a)\n",
    "print(\"Size of the memory occupied by the said array:\")\n",
    "print(\"%d bytes\" % a.nbytes)"
   ]
  },
  {
   "cell_type": "code",
   "execution_count": null,
   "id": "b1b22d5c",
   "metadata": {},
   "outputs": [],
   "source": []
  }
 ],
 "metadata": {
  "kernelspec": {
   "display_name": "Python 3 (ipykernel)",
   "language": "python",
   "name": "python3"
  },
  "language_info": {
   "codemirror_mode": {
    "name": "ipython",
    "version": 3
   },
   "file_extension": ".py",
   "mimetype": "text/x-python",
   "name": "python",
   "nbconvert_exporter": "python",
   "pygments_lexer": "ipython3",
   "version": "3.8.8"
  }
 },
 "nbformat": 4,
 "nbformat_minor": 5
}

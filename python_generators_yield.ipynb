{
 "cells": [
  {
   "cell_type": "markdown",
   "id": "dbef7f1d",
   "metadata": {},
   "source": [
    "# Python Generators & Yield\n",
    "\n",
    "- **Iterables:** An Iterable is basically an object that any user can iterate over (read its items one by one).\n",
    "\n",
    "- **Generators:** Generators are iterators, a kind of iterable we can only iterate over once. Generators do not store all the values in memory, they generate the values on the fly.\n",
    "\n",
    "- **Yield:** `yield` is a keyword that is used like `return`, except the function will return a generator.\n",
    "\n",
    "**1. Write a Python program that creates a generator function that yields cubes of numbers from 1 to n. Accept n from the user.**"
   ]
  },
  {
   "cell_type": "code",
   "execution_count": 9,
   "id": "5fff848b",
   "metadata": {},
   "outputs": [
    {
     "name": "stdout",
     "output_type": "stream",
     "text": [
      "Input a number: 10\n",
      "Cubes of numbers from 1 to 10:\n",
      "1\n",
      "8\n",
      "27\n",
      "64\n",
      "125\n",
      "216\n",
      "343\n",
      "512\n",
      "729\n",
      "1000\n"
     ]
    }
   ],
   "source": [
    "# `yield`\n",
    "def cube_generator(n):\n",
    "    for i in range(1, n + 1):\n",
    "        yield i ** 3\n",
    "        \n",
    "n = int(input(\"Input a number: \"))\n",
    "cubes = cube_generator(n)\n",
    "print(f\"Cubes of numbers from 1 to {n}:\")\n",
    "for num in cubes:\n",
    "    print(num)"
   ]
  },
  {
   "cell_type": "markdown",
   "id": "bbd67c31",
   "metadata": {},
   "source": [
    "**2. Write a Python program to implement a generator that generates random numbers within a given range.**"
   ]
  },
  {
   "cell_type": "code",
   "execution_count": 13,
   "id": "fceb050f",
   "metadata": {},
   "outputs": [
    {
     "name": "stdout",
     "output_type": "stream",
     "text": [
      "Random numbers start from: 1\n",
      "Random numbers stop at: 100\n",
      "Generate random numbers from 1 to 100:\n",
      "37\n",
      "75\n",
      "31\n",
      "70\n",
      "95\n",
      "45\n",
      "37\n",
      "4\n",
      "84\n",
      "43\n"
     ]
    }
   ],
   "source": [
    "# [1] `yield` & `random.randrange()`\n",
    "import random\n",
    "\n",
    "def random_integer_generator(start, stop):\n",
    "    while True:\n",
    "        yield random.randrange(start, stop)\n",
    "    \n",
    "start = int(input(\"Random numbers start from: \"))\n",
    "stop = int(input(\"Random numbers stop at: \"))\n",
    "rand_nums = random_integer_generator(start, stop)\n",
    "print(f\"Generate random numbers from {start} to {stop}:\")\n",
    "for _ in range(10):\n",
    "    print(next(rand_nums))"
   ]
  },
  {
   "cell_type": "code",
   "execution_count": 14,
   "id": "59f59ec8",
   "metadata": {},
   "outputs": [
    {
     "name": "stdout",
     "output_type": "stream",
     "text": [
      "Random numbers start from: 1\n",
      "Random numbers stop at: 100\n",
      "Generate random numbers from 1 to 100:\n",
      "70\n",
      "14\n",
      "11\n",
      "14\n",
      "57\n",
      "73\n",
      "72\n",
      "67\n",
      "86\n",
      "51\n"
     ]
    }
   ],
   "source": [
    "# [2] `yield` & `random.randint()`\n",
    "import random\n",
    "\n",
    "def random_integer_generator(start, stop):\n",
    "    while True:\n",
    "        yield random.randint(start, stop)\n",
    "        \n",
    "start = int(input(\"Random numbers start from: \"))\n",
    "stop = int(input(\"Random numbers stop at: \"))\n",
    "rand_nums = random_integer_generator(start, stop)\n",
    "print(f\"Generate random numbers from {start} to {stop}:\")\n",
    "for _ in range(10):\n",
    "    print(next(rand_nums))"
   ]
  },
  {
   "cell_type": "code",
   "execution_count": 16,
   "id": "3573e84b",
   "metadata": {},
   "outputs": [
    {
     "name": "stdout",
     "output_type": "stream",
     "text": [
      "Random numbers start from: 1.0\n",
      "Random numbers stop at: 100.0\n",
      "Generate random numbers from 1.0 to 100.0:\n",
      "7.081885102341345\n",
      "17.462948112642557\n",
      "51.283299459741826\n",
      "26.469036584769565\n",
      "97.69385814848746\n",
      "5.347925741847678\n",
      "45.84410669095337\n",
      "43.41676449445573\n",
      "47.47988985994793\n",
      "21.977631796228497\n"
     ]
    }
   ],
   "source": [
    "# [3] `yield` & `random.uniform()`\n",
    "import random\n",
    "\n",
    "def random_float_generator(start, stop):\n",
    "    while True:\n",
    "        yield random.uniform(start, stop)\n",
    "        \n",
    "start = float(input(\"Random numbers start from: \"))\n",
    "stop = float(input(\"Random numbers stop at: \"))\n",
    "rand_nums = random_float_generator(start, stop)\n",
    "print(f\"Generate random numbers from {start} to {stop}:\")\n",
    "for _ in range(10):\n",
    "    print(next(rand_nums))"
   ]
  },
  {
   "cell_type": "markdown",
   "id": "7c18de87",
   "metadata": {},
   "source": [
    "**3. Write a Python program that creates a generator function that generates all prime numbers between two given numbers.**"
   ]
  },
  {
   "cell_type": "code",
   "execution_count": 26,
   "id": "36479e53",
   "metadata": {},
   "outputs": [
    {
     "data": {
      "text/plain": [
       "True"
      ]
     },
     "execution_count": 26,
     "metadata": {},
     "output_type": "execute_result"
    }
   ],
   "source": [
    "def is_prime(num):\n",
    "    for i in range(2, num // 2):\n",
    "        if num % i == 0:\n",
    "            return False\n",
    "    return True\n",
    "        \n",
    "is_prime(3)"
   ]
  },
  {
   "cell_type": "code",
   "execution_count": null,
   "id": "1bc28e5c",
   "metadata": {},
   "outputs": [],
   "source": []
  }
 ],
 "metadata": {
  "kernelspec": {
   "display_name": "Python 3 (ipykernel)",
   "language": "python",
   "name": "python3"
  },
  "language_info": {
   "codemirror_mode": {
    "name": "ipython",
    "version": 3
   },
   "file_extension": ".py",
   "mimetype": "text/x-python",
   "name": "python",
   "nbconvert_exporter": "python",
   "pygments_lexer": "ipython3",
   "version": "3.8.8"
  }
 },
 "nbformat": 4,
 "nbformat_minor": 5
}

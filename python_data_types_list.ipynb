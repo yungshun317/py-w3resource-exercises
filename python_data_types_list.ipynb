{
 "cells": [
  {
   "cell_type": "markdown",
   "id": "dc7f0da3",
   "metadata": {},
   "source": [
    "# Python Data Types - List\n",
    "\n",
    "**1. Write a Python program to sum all the items in a list.**"
   ]
  },
  {
   "cell_type": "code",
   "execution_count": 1,
   "id": "0eac5ab9",
   "metadata": {},
   "outputs": [
    {
     "name": "stdout",
     "output_type": "stream",
     "text": [
      "10\n"
     ]
    }
   ],
   "source": [
    "# [1] Function\n",
    "def sum_list(items):\n",
    "    sum_numbers = 0\n",
    "    for i in items:\n",
    "        sum_numbers += i\n",
    "    return sum_numbers\n",
    "\n",
    "print(sum_list([1, 2, 3, 4]))"
   ]
  },
  {
   "cell_type": "code",
   "execution_count": 2,
   "id": "13be0cf9",
   "metadata": {},
   "outputs": [
    {
     "name": "stdout",
     "output_type": "stream",
     "text": [
      "10\n"
     ]
    }
   ],
   "source": [
    "# [2] `sum()`\n",
    "print(sum([1, 2, 3, 4]))"
   ]
  },
  {
   "cell_type": "code",
   "execution_count": 3,
   "id": "1d38925d",
   "metadata": {},
   "outputs": [
    {
     "name": "stdout",
     "output_type": "stream",
     "text": [
      "10\n"
     ]
    }
   ],
   "source": [
    "# [3] List comprehension\n",
    "items = [1, 2, 3, 4]\n",
    "\n",
    "print(sum(i for i in items))"
   ]
  },
  {
   "cell_type": "code",
   "execution_count": 4,
   "id": "25cbde4f",
   "metadata": {},
   "outputs": [
    {
     "name": "stdout",
     "output_type": "stream",
     "text": [
      "10\n"
     ]
    }
   ],
   "source": [
    "# [4] `functools.reduce()`\n",
    "from functools import reduce\n",
    "\n",
    "items = [1, 2, 3, 4]\n",
    "\n",
    "print(reduce(lambda x, y: x + y, items))"
   ]
  },
  {
   "cell_type": "markdown",
   "id": "0ae5b330",
   "metadata": {},
   "source": [
    "**2. Write a Python program to multiply all the items in a list.**"
   ]
  },
  {
   "cell_type": "code",
   "execution_count": 15,
   "id": "4f200ee3",
   "metadata": {},
   "outputs": [
    {
     "name": "stdout",
     "output_type": "stream",
     "text": [
      "24\n"
     ]
    }
   ],
   "source": [
    "# [1] Function\n",
    "def multiply_list(items):\n",
    "    tot = 1\n",
    "    for i in items:\n",
    "        tot *= i\n",
    "    return tot\n",
    "\n",
    "print(multiply_list([1, 2, 3, 4]))"
   ]
  },
  {
   "cell_type": "code",
   "execution_count": 16,
   "id": "14b5724a",
   "metadata": {},
   "outputs": [
    {
     "name": "stdout",
     "output_type": "stream",
     "text": [
      "24\n"
     ]
    }
   ],
   "source": [
    "# [2] `functools.reduce()`\n",
    "from functools import reduce\n",
    "\n",
    "items = [1, 2, 3, 4]\n",
    "\n",
    "print(reduce(lambda x, y: x * y, items))"
   ]
  },
  {
   "cell_type": "markdown",
   "id": "eb6af082",
   "metadata": {},
   "source": [
    "**3. Write a Python program to get the largest number from a list.**"
   ]
  },
  {
   "cell_type": "code",
   "execution_count": 17,
   "id": "7d7bf885",
   "metadata": {},
   "outputs": [
    {
     "name": "stdout",
     "output_type": "stream",
     "text": [
      "4\n"
     ]
    }
   ],
   "source": [
    "# [1] Function\n",
    "def max_num_in_list(items):\n",
    "    max_num = items[0]\n",
    "    for i in items:\n",
    "        if i > max_num:\n",
    "            max_num = i\n",
    "    return max_num\n",
    "\n",
    "print(max_num_in_list([1, 2, 3, 4]))"
   ]
  },
  {
   "cell_type": "code",
   "execution_count": 18,
   "id": "7f863a95",
   "metadata": {},
   "outputs": [
    {
     "name": "stdout",
     "output_type": "stream",
     "text": [
      "4\n"
     ]
    }
   ],
   "source": [
    "# [2] `max()`\n",
    "print(max([1, 2, 3, 4]))"
   ]
  },
  {
   "cell_type": "markdown",
   "id": "757fbc11",
   "metadata": {},
   "source": [
    "**4. Write a Python program to get the smallest number from a list.**"
   ]
  },
  {
   "cell_type": "code",
   "execution_count": 19,
   "id": "74974910",
   "metadata": {},
   "outputs": [
    {
     "name": "stdout",
     "output_type": "stream",
     "text": [
      "1\n"
     ]
    }
   ],
   "source": [
    "# Function\n",
    "def min_num_in_list(items):\n",
    "    min_num = items[0]\n",
    "    for i in items:\n",
    "        if i < min_num:\n",
    "            min_num = i\n",
    "    return min_num\n",
    "\n",
    "print(min_num_in_list([1, 2, 3, 4]))"
   ]
  },
  {
   "cell_type": "code",
   "execution_count": 20,
   "id": "4a0d2a1e",
   "metadata": {},
   "outputs": [
    {
     "name": "stdout",
     "output_type": "stream",
     "text": [
      "1\n"
     ]
    }
   ],
   "source": [
    "# `min()`\n",
    "print(min([1, 2, 3, 4]))"
   ]
  },
  {
   "cell_type": "markdown",
   "id": "c23f6e52",
   "metadata": {},
   "source": [
    "**5. Write a Python program to count the number of strings from a given list of strings. The string length is 2 or more and the first and last characters are the same.**\n",
    "\n",
    "<i>Sample List:</i> \n",
    "\n",
    "['abc', 'xyz', 'aba', '1221']\n",
    "\n",
    "<i>Expected Result:</i> \n",
    "\n",
    "2"
   ]
  },
  {
   "cell_type": "code",
   "execution_count": 22,
   "id": "a318fb09",
   "metadata": {},
   "outputs": [
    {
     "name": "stdout",
     "output_type": "stream",
     "text": [
      "2\n"
     ]
    }
   ],
   "source": [
    "# if-else statement \n",
    "def match_words(words):\n",
    "    count = 0\n",
    "    for word in words:\n",
    "        if len(word) > 1 and i[0] == i[-1]:\n",
    "            count = count + 1\n",
    "    return count\n",
    "\n",
    "print(count_num([\"abc\", \"xyz\", \"aba\", \"1221\"]))"
   ]
  },
  {
   "cell_type": "markdown",
   "id": "84dfa924",
   "metadata": {},
   "source": [
    "**6. Write a Python program to get a list, sorted in increasing order by the last element in each tuple from a given list of non-empty tuples.**\n",
    "\n",
    "<i>Sample List:</i> \n",
    "\n",
    "[(2, 5), (1, 2), (4, 4), (2, 3), (2, 1)]\n",
    "\n",
    "<i>Expected Result:</i>\n",
    "\n",
    "[(2, 1), (1, 2), (2, 3), (4, 4), (2, 5)]"
   ]
  },
  {
   "cell_type": "code",
   "execution_count": 23,
   "id": "4dbed0bc",
   "metadata": {},
   "outputs": [
    {
     "name": "stdout",
     "output_type": "stream",
     "text": [
      "[(2, 1), (1, 2), (2, 3), (4, 4), (2, 5)]\n"
     ]
    }
   ],
   "source": [
    "# `sorted(key)`\n",
    "def last(n): return n[-1]\n",
    "\n",
    "def sort_list_last(tuples):\n",
    "    return sorted(tuples, key=last)\n",
    "\n",
    "print(sort_list_last([(2, 5), (1, 2), (4, 4), (2, 3), (2, 1)]))"
   ]
  },
  {
   "cell_type": "code",
   "execution_count": null,
   "id": "85e48e97",
   "metadata": {},
   "outputs": [],
   "source": []
  }
 ],
 "metadata": {
  "kernelspec": {
   "display_name": "Python 3 (ipykernel)",
   "language": "python",
   "name": "python3"
  },
  "language_info": {
   "codemirror_mode": {
    "name": "ipython",
    "version": 3
   },
   "file_extension": ".py",
   "mimetype": "text/x-python",
   "name": "python",
   "nbconvert_exporter": "python",
   "pygments_lexer": "ipython3",
   "version": "3.8.8"
  }
 },
 "nbformat": 4,
 "nbformat_minor": 5
}

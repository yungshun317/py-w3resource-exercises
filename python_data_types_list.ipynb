{
 "cells": [
  {
   "cell_type": "markdown",
   "id": "43261665",
   "metadata": {},
   "source": [
    "# Python Data Types - List\n",
    "\n",
    "**1. Write a Python program to sum all the items in a list.**"
   ]
  },
  {
   "cell_type": "code",
   "execution_count": 1,
   "id": "9db5623a",
   "metadata": {},
   "outputs": [
    {
     "name": "stdout",
     "output_type": "stream",
     "text": [
      "10\n"
     ]
    }
   ],
   "source": [
    "# [1] Function\n",
    "def sum_list(items):\n",
    "    sum_numbers = 0\n",
    "    for i in items:\n",
    "        sum_numbers += i\n",
    "    return sum_numbers\n",
    "\n",
    "print(sum_list([1, 2, 3, 4]))"
   ]
  },
  {
   "cell_type": "code",
   "execution_count": 2,
   "id": "a0158b5d",
   "metadata": {},
   "outputs": [
    {
     "name": "stdout",
     "output_type": "stream",
     "text": [
      "10\n"
     ]
    }
   ],
   "source": [
    "# [2] `sum()`\n",
    "print(sum([1, 2, 3, 4]))"
   ]
  },
  {
   "cell_type": "code",
   "execution_count": 3,
   "id": "8a9632ab",
   "metadata": {},
   "outputs": [
    {
     "name": "stdout",
     "output_type": "stream",
     "text": [
      "10\n"
     ]
    }
   ],
   "source": [
    "# [3] List comprehension\n",
    "items = [1, 2, 3, 4]\n",
    "\n",
    "print(sum(i for i in items))"
   ]
  },
  {
   "cell_type": "code",
   "execution_count": 4,
   "id": "79e4badf",
   "metadata": {},
   "outputs": [
    {
     "name": "stdout",
     "output_type": "stream",
     "text": [
      "10\n"
     ]
    }
   ],
   "source": [
    "# [4] `functools.reduce()`\n",
    "from functools import reduce\n",
    "\n",
    "items = [1, 2, 3, 4]\n",
    "\n",
    "print(reduce(lambda x, y: x + y, items))"
   ]
  },
  {
   "cell_type": "markdown",
   "id": "a5aa673d",
   "metadata": {},
   "source": [
    "**2. Write a Python program to multiply all the items in a list.**"
   ]
  },
  {
   "cell_type": "code",
   "execution_count": 15,
   "id": "6d3f3bcb",
   "metadata": {},
   "outputs": [
    {
     "name": "stdout",
     "output_type": "stream",
     "text": [
      "24\n"
     ]
    }
   ],
   "source": [
    "# [1] Function\n",
    "def multiply_list(items):\n",
    "    tot = 1\n",
    "    for i in items:\n",
    "        tot *= i\n",
    "    return tot\n",
    "\n",
    "print(multiply_list([1, 2, 3, 4]))"
   ]
  },
  {
   "cell_type": "code",
   "execution_count": 16,
   "id": "b45030cd",
   "metadata": {},
   "outputs": [
    {
     "name": "stdout",
     "output_type": "stream",
     "text": [
      "24\n"
     ]
    }
   ],
   "source": [
    "# [2] `functools.reduce()`\n",
    "from functools import reduce\n",
    "\n",
    "items = [1, 2, 3, 4]\n",
    "\n",
    "print(reduce(lambda x, y: x * y, items))"
   ]
  },
  {
   "cell_type": "markdown",
   "id": "0f366c02",
   "metadata": {},
   "source": [
    "**3. Write a Python program to get the largest number from a list.**"
   ]
  },
  {
   "cell_type": "code",
   "execution_count": 17,
   "id": "a2490a99",
   "metadata": {},
   "outputs": [
    {
     "name": "stdout",
     "output_type": "stream",
     "text": [
      "4\n"
     ]
    }
   ],
   "source": [
    "# [1] Function\n",
    "def max_num_in_list(items):\n",
    "    max_num = items[0]\n",
    "    for i in items:\n",
    "        if i > max_num:\n",
    "            max_num = i\n",
    "    return max_num\n",
    "\n",
    "print(max_num_in_list([1, 2, 3, 4]))"
   ]
  },
  {
   "cell_type": "code",
   "execution_count": 18,
   "id": "b1a2feef",
   "metadata": {},
   "outputs": [
    {
     "name": "stdout",
     "output_type": "stream",
     "text": [
      "4\n"
     ]
    }
   ],
   "source": [
    "# [2] `max()`\n",
    "print(max([1, 2, 3, 4]))"
   ]
  },
  {
   "cell_type": "markdown",
   "id": "c208539e",
   "metadata": {},
   "source": [
    "**4. Write a Python program to get the smallest number from a list.**"
   ]
  },
  {
   "cell_type": "code",
   "execution_count": 19,
   "id": "0848fdc7",
   "metadata": {},
   "outputs": [
    {
     "name": "stdout",
     "output_type": "stream",
     "text": [
      "1\n"
     ]
    }
   ],
   "source": [
    "# Function\n",
    "def min_num_in_list(items):\n",
    "    min_num = items[0]\n",
    "    for i in items:\n",
    "        if i < min_num:\n",
    "            min_num = i\n",
    "    return min_num\n",
    "\n",
    "print(min_num_in_list([1, 2, 3, 4]))"
   ]
  },
  {
   "cell_type": "code",
   "execution_count": 20,
   "id": "9a5d5d36",
   "metadata": {},
   "outputs": [
    {
     "name": "stdout",
     "output_type": "stream",
     "text": [
      "1\n"
     ]
    }
   ],
   "source": [
    "# `min()`\n",
    "print(min([1, 2, 3, 4]))"
   ]
  },
  {
   "cell_type": "markdown",
   "id": "39cbe3ab",
   "metadata": {},
   "source": [
    "**5. Write a Python program to count the number of strings from a given list of strings. The string length is 2 or more and the first and last characters are the same.**\n",
    "\n",
    "<i>Sample List:</i> \n",
    "\n",
    "['abc', 'xyz', 'aba', '1221']\n",
    "\n",
    "<i>Expected Result:</i> \n",
    "\n",
    "2"
   ]
  },
  {
   "cell_type": "code",
   "execution_count": 22,
   "id": "ac5c66de",
   "metadata": {},
   "outputs": [
    {
     "name": "stdout",
     "output_type": "stream",
     "text": [
      "2\n"
     ]
    }
   ],
   "source": [
    "# if-else statement \n",
    "def match_words(words):\n",
    "    count = 0\n",
    "    for word in words:\n",
    "        if len(word) > 1 and i[0] == i[-1]:\n",
    "            count = count + 1\n",
    "    return count\n",
    "\n",
    "print(count_num([\"abc\", \"xyz\", \"aba\", \"1221\"]))"
   ]
  },
  {
   "cell_type": "markdown",
   "id": "545eee5d",
   "metadata": {},
   "source": [
    "**6. Write a Python program to get a list, sorted in increasing order by the last element in each tuple from a given list of non-empty tuples.**\n",
    "\n",
    "<i>Sample List:</i> \n",
    "\n",
    "[(2, 5), (1, 2), (4, 4), (2, 3), (2, 1)]\n",
    "\n",
    "<i>Expected Result:</i>\n",
    "\n",
    "[(2, 1), (1, 2), (2, 3), (4, 4), (2, 5)]"
   ]
  },
  {
   "cell_type": "code",
   "execution_count": 23,
   "id": "f0743c40",
   "metadata": {},
   "outputs": [
    {
     "name": "stdout",
     "output_type": "stream",
     "text": [
      "[(2, 1), (1, 2), (2, 3), (4, 4), (2, 5)]\n"
     ]
    }
   ],
   "source": [
    "# `sorted(key)`\n",
    "def last(n): return n[-1]\n",
    "\n",
    "def sort_list_last(tuples):\n",
    "    return sorted(tuples, key=last)\n",
    "\n",
    "print(sort_list_last([(2, 5), (1, 2), (4, 4), (2, 3), (2, 1)]))"
   ]
  },
  {
   "cell_type": "markdown",
   "id": "5d39b6f9",
   "metadata": {},
   "source": [
    "**7. Write a Python program to remove duplicates from a list.**"
   ]
  },
  {
   "cell_type": "code",
   "execution_count": 27,
   "id": "bae33e81",
   "metadata": {},
   "outputs": [
    {
     "name": "stdout",
     "output_type": "stream",
     "text": [
      "[40, 10, 80, 50, 20, 60, 30]\n"
     ]
    }
   ],
   "source": [
    "# [1] Set (result not in order)\n",
    "items = [10, 20, 30, 20, 10, 50, 60, 40, 80, 50, 40]\n",
    "\n",
    "print(list(set(items)))"
   ]
  },
  {
   "cell_type": "code",
   "execution_count": 26,
   "id": "e4abf158",
   "metadata": {},
   "outputs": [
    {
     "name": "stdout",
     "output_type": "stream",
     "text": [
      "[10, 20, 30, 50, 60, 40, 80]\n"
     ]
    }
   ],
   "source": [
    "# [2] Set (result in order)\n",
    "def drop_dup(items):\n",
    "    dup_items = set()\n",
    "    uniq_items = []\n",
    "    for x in items:\n",
    "        if x not in dup_items:\n",
    "            uniq_items.append(x)\n",
    "            dup_items.add(x)\n",
    "    return uniq_items\n",
    "            \n",
    "items = [10, 20, 30, 20, 10, 50, 60, 40, 80, 50, 40]\n",
    "print(drop_dup(items))"
   ]
  },
  {
   "cell_type": "code",
   "execution_count": 28,
   "id": "d59ac3b6",
   "metadata": {},
   "outputs": [
    {
     "name": "stdout",
     "output_type": "stream",
     "text": [
      "[10, 20, 30, 50, 60, 40, 80]\n"
     ]
    }
   ],
   "source": [
    "# [3] Dictionary & `dict.fromkeys()`\n",
    "items = [10, 20, 30, 20, 10, 50, 60, 40, 80, 50, 40]\n",
    "\n",
    "print(list(dict.fromkeys(items)))"
   ]
  },
  {
   "cell_type": "markdown",
   "id": "6bf17e90",
   "metadata": {},
   "source": [
    "**8. Write a Python program to check if a list is empty or not.**"
   ]
  },
  {
   "cell_type": "code",
   "execution_count": 29,
   "id": "a2b58d11",
   "metadata": {},
   "outputs": [
    {
     "name": "stdout",
     "output_type": "stream",
     "text": [
      "List is empty\n"
     ]
    }
   ],
   "source": [
    "# [1] Truth value testing\n",
    "l = []\n",
    "\n",
    "if not l:\n",
    "    print(\"List is empty\")"
   ]
  },
  {
   "cell_type": "code",
   "execution_count": 32,
   "id": "18761478",
   "metadata": {},
   "outputs": [
    {
     "name": "stdout",
     "output_type": "stream",
     "text": [
      "List is empty\n"
     ]
    }
   ],
   "source": [
    "# [2] `bool()`\n",
    "l = []\n",
    "\n",
    "if bool(l) == False:\n",
    "    print(\"List is empty\")"
   ]
  },
  {
   "cell_type": "code",
   "execution_count": 33,
   "id": "58b47409",
   "metadata": {},
   "outputs": [
    {
     "name": "stdout",
     "output_type": "stream",
     "text": [
      "List is empty\n"
     ]
    }
   ],
   "source": [
    "# [3] `len()`\n",
    "l = []\n",
    "\n",
    "if len(l) == 0:\n",
    "    print(\"List is empty\")"
   ]
  },
  {
   "cell_type": "markdown",
   "id": "89c457af",
   "metadata": {},
   "source": [
    "**9. Write a Python program to clone or copy a list.**"
   ]
  },
  {
   "cell_type": "code",
   "execution_count": 40,
   "id": "d96bd808",
   "metadata": {},
   "outputs": [
    {
     "name": "stdout",
     "output_type": "stream",
     "text": [
      "Original List: [16, 36, 8, 3, 17]\n",
      "New list: [16, 36, 8, 3, 17]\n"
     ]
    }
   ],
   "source": [
    "# `list()`\n",
    "original_list = [16, 36, 8, 3, 17]\n",
    "new_list = list(original_list)\n",
    "\n",
    "print(\"Original List:\", original_list)\n",
    "print(\"New list:\", new_list)"
   ]
  },
  {
   "cell_type": "markdown",
   "id": "fc3de2fb",
   "metadata": {},
   "source": [
    "**10. Write a Python program to find the list of words that are longer than n from a given list of words.**"
   ]
  },
  {
   "cell_type": "code",
   "execution_count": 44,
   "id": "2769e0fc",
   "metadata": {},
   "outputs": [
    {
     "name": "stdout",
     "output_type": "stream",
     "text": [
      "['Hello', 'World', 'Shannon', 'Chang']\n"
     ]
    }
   ],
   "source": [
    "# [1] List\n",
    "def long_words(words, n):\n",
    "    result = []\n",
    "    for word in words:\n",
    "        if len(word) > n:\n",
    "            result.append(word)\n",
    "    return result\n",
    "\n",
    "print(long_words([\"Hello\", \"World\", \"Joe\", \"Shannon\", \"Chang\"], 3))"
   ]
  },
  {
   "cell_type": "code",
   "execution_count": 45,
   "id": "76fdfd86",
   "metadata": {},
   "outputs": [
    {
     "name": "stdout",
     "output_type": "stream",
     "text": [
      "['quick', 'brown', 'jumps', 'over', 'lazy']\n"
     ]
    }
   ],
   "source": [
    "# [2] String\n",
    "def long_words(text, n):\n",
    "    result = []\n",
    "    words = text.split(\" \")\n",
    "    for word in words:\n",
    "        if len(word) > n:\n",
    "            result.append(word)\n",
    "    return result\n",
    "\n",
    "print(long_words(\"The quick brown fox jumps over the lazy dog\", 3))"
   ]
  },
  {
   "cell_type": "code",
   "execution_count": null,
   "id": "f0298432",
   "metadata": {},
   "outputs": [],
   "source": []
  }
 ],
 "metadata": {
  "kernelspec": {
   "display_name": "Python 3 (ipykernel)",
   "language": "python",
   "name": "python3"
  },
  "language_info": {
   "codemirror_mode": {
    "name": "ipython",
    "version": 3
   },
   "file_extension": ".py",
   "mimetype": "text/x-python",
   "name": "python",
   "nbconvert_exporter": "python",
   "pygments_lexer": "ipython3",
   "version": "3.8.8"
  }
 },
 "nbformat": 4,
 "nbformat_minor": 5
}

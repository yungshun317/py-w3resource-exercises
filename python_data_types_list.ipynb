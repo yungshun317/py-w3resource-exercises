{
 "cells": [
  {
   "cell_type": "markdown",
   "id": "8b77b572",
   "metadata": {},
   "source": [
    "# Python Data Types - List\n",
    "\n",
    "**1. Write a Python program to sum all the items in a list.**"
   ]
  },
  {
   "cell_type": "code",
   "execution_count": 1,
   "id": "41fbb3b7",
   "metadata": {},
   "outputs": [
    {
     "name": "stdout",
     "output_type": "stream",
     "text": [
      "10\n"
     ]
    }
   ],
   "source": [
    "# [1] Function\n",
    "def sum_list(items):\n",
    "    sum_numbers = 0\n",
    "    for i in items:\n",
    "        sum_numbers += i\n",
    "    return sum_numbers\n",
    "\n",
    "print(sum_list([1, 2, 3, 4]))"
   ]
  },
  {
   "cell_type": "code",
   "execution_count": 2,
   "id": "49ef6e84",
   "metadata": {},
   "outputs": [
    {
     "name": "stdout",
     "output_type": "stream",
     "text": [
      "10\n"
     ]
    }
   ],
   "source": [
    "# [2] `sum()`\n",
    "print(sum([1, 2, 3, 4]))"
   ]
  },
  {
   "cell_type": "code",
   "execution_count": 3,
   "id": "5cbcf368",
   "metadata": {},
   "outputs": [
    {
     "name": "stdout",
     "output_type": "stream",
     "text": [
      "10\n"
     ]
    }
   ],
   "source": [
    "# [3] List comprehension\n",
    "items = [1, 2, 3, 4]\n",
    "\n",
    "print(sum(i for i in items))"
   ]
  },
  {
   "cell_type": "code",
   "execution_count": 4,
   "id": "cec84b9d",
   "metadata": {},
   "outputs": [
    {
     "name": "stdout",
     "output_type": "stream",
     "text": [
      "10\n"
     ]
    }
   ],
   "source": [
    "# [4] `functools.reduce()`\n",
    "from functools import reduce\n",
    "\n",
    "items = [1, 2, 3, 4]\n",
    "\n",
    "print(reduce(lambda x, y: x + y, items))"
   ]
  },
  {
   "cell_type": "markdown",
   "id": "bc0ac0f5",
   "metadata": {},
   "source": [
    "**2. Write a Python program to multiply all the items in a list.**"
   ]
  },
  {
   "cell_type": "code",
   "execution_count": 15,
   "id": "27a71d1c",
   "metadata": {},
   "outputs": [
    {
     "name": "stdout",
     "output_type": "stream",
     "text": [
      "24\n"
     ]
    }
   ],
   "source": [
    "# [1] Function\n",
    "def multiply_list(items):\n",
    "    tot = 1\n",
    "    for i in items:\n",
    "        tot *= i\n",
    "    return tot\n",
    "\n",
    "print(multiply_list([1, 2, 3, 4]))"
   ]
  },
  {
   "cell_type": "code",
   "execution_count": 16,
   "id": "17bd5519",
   "metadata": {},
   "outputs": [
    {
     "name": "stdout",
     "output_type": "stream",
     "text": [
      "24\n"
     ]
    }
   ],
   "source": [
    "# [2] `functools.reduce()`\n",
    "from functools import reduce\n",
    "\n",
    "items = [1, 2, 3, 4]\n",
    "\n",
    "print(reduce(lambda x, y: x * y, items))"
   ]
  },
  {
   "cell_type": "markdown",
   "id": "a17dbee2",
   "metadata": {},
   "source": [
    "**3. Write a Python program to get the largest number from a list.**"
   ]
  },
  {
   "cell_type": "code",
   "execution_count": 17,
   "id": "bd0189ef",
   "metadata": {},
   "outputs": [
    {
     "name": "stdout",
     "output_type": "stream",
     "text": [
      "4\n"
     ]
    }
   ],
   "source": [
    "# [1] Function\n",
    "def max_num_in_list(items):\n",
    "    max_num = items[0]\n",
    "    for i in items:\n",
    "        if i > max_num:\n",
    "            max_num = i\n",
    "    return max_num\n",
    "\n",
    "print(max_num_in_list([1, 2, 3, 4]))"
   ]
  },
  {
   "cell_type": "code",
   "execution_count": 18,
   "id": "d30848a9",
   "metadata": {},
   "outputs": [
    {
     "name": "stdout",
     "output_type": "stream",
     "text": [
      "4\n"
     ]
    }
   ],
   "source": [
    "# [2] `max()`\n",
    "print(max([1, 2, 3, 4]))"
   ]
  },
  {
   "cell_type": "markdown",
   "id": "b4d9f47a",
   "metadata": {},
   "source": [
    "**4. Write a Python program to get the smallest number from a list.**"
   ]
  },
  {
   "cell_type": "code",
   "execution_count": 19,
   "id": "5da53a2a",
   "metadata": {},
   "outputs": [
    {
     "name": "stdout",
     "output_type": "stream",
     "text": [
      "1\n"
     ]
    }
   ],
   "source": [
    "# Function\n",
    "def min_num_in_list(items):\n",
    "    min_num = items[0]\n",
    "    for i in items:\n",
    "        if i < min_num:\n",
    "            min_num = i\n",
    "    return min_num\n",
    "\n",
    "print(min_num_in_list([1, 2, 3, 4]))"
   ]
  },
  {
   "cell_type": "code",
   "execution_count": 20,
   "id": "a5b4da65",
   "metadata": {},
   "outputs": [
    {
     "name": "stdout",
     "output_type": "stream",
     "text": [
      "1\n"
     ]
    }
   ],
   "source": [
    "# `min()`\n",
    "print(min([1, 2, 3, 4]))"
   ]
  },
  {
   "cell_type": "markdown",
   "id": "06836a3b",
   "metadata": {},
   "source": [
    "**5. Write a Python program to count the number of strings from a given list of strings. The string length is 2 or more and the first and last characters are the same.**\n",
    "\n",
    "<i>Sample List:</i> \n",
    "\n",
    "['abc', 'xyz', 'aba', '1221']\n",
    "\n",
    "<i>Expected Result:</i> \n",
    "\n",
    "2"
   ]
  },
  {
   "cell_type": "code",
   "execution_count": 22,
   "id": "c9c8e092",
   "metadata": {},
   "outputs": [
    {
     "name": "stdout",
     "output_type": "stream",
     "text": [
      "2\n"
     ]
    }
   ],
   "source": [
    "# if-else statement \n",
    "def match_words(words):\n",
    "    count = 0\n",
    "    for word in words:\n",
    "        if len(word) > 1 and i[0] == i[-1]:\n",
    "            count = count + 1\n",
    "    return count\n",
    "\n",
    "print(count_num([\"abc\", \"xyz\", \"aba\", \"1221\"]))"
   ]
  },
  {
   "cell_type": "markdown",
   "id": "24bee417",
   "metadata": {},
   "source": [
    "**6. Write a Python program to get a list, sorted in increasing order by the last element in each tuple from a given list of non-empty tuples.**\n",
    "\n",
    "<i>Sample List:</i> \n",
    "\n",
    "[(2, 5), (1, 2), (4, 4), (2, 3), (2, 1)]\n",
    "\n",
    "<i>Expected Result:</i>\n",
    "\n",
    "[(2, 1), (1, 2), (2, 3), (4, 4), (2, 5)]"
   ]
  },
  {
   "cell_type": "code",
   "execution_count": 23,
   "id": "15ba2156",
   "metadata": {},
   "outputs": [
    {
     "name": "stdout",
     "output_type": "stream",
     "text": [
      "[(2, 1), (1, 2), (2, 3), (4, 4), (2, 5)]\n"
     ]
    }
   ],
   "source": [
    "# `sorted(key)`\n",
    "def last(n): return n[-1]\n",
    "\n",
    "def sort_list_last(tuples):\n",
    "    return sorted(tuples, key=last)\n",
    "\n",
    "print(sort_list_last([(2, 5), (1, 2), (4, 4), (2, 3), (2, 1)]))"
   ]
  },
  {
   "cell_type": "markdown",
   "id": "cf0761e6",
   "metadata": {},
   "source": [
    "**7. Write a Python program to remove duplicates from a list.**"
   ]
  },
  {
   "cell_type": "code",
   "execution_count": 27,
   "id": "9ec64126",
   "metadata": {},
   "outputs": [
    {
     "name": "stdout",
     "output_type": "stream",
     "text": [
      "[40, 10, 80, 50, 20, 60, 30]\n"
     ]
    }
   ],
   "source": [
    "# [1] Set (result not in order)\n",
    "items = [10, 20, 30, 20, 10, 50, 60, 40, 80, 50, 40]\n",
    "\n",
    "print(list(set(items)))"
   ]
  },
  {
   "cell_type": "code",
   "execution_count": 26,
   "id": "85c05395",
   "metadata": {},
   "outputs": [
    {
     "name": "stdout",
     "output_type": "stream",
     "text": [
      "[10, 20, 30, 50, 60, 40, 80]\n"
     ]
    }
   ],
   "source": [
    "# [2] Set (result in order)\n",
    "def drop_dup(items):\n",
    "    dup_items = set()\n",
    "    uniq_items = []\n",
    "    for x in items:\n",
    "        if x not in dup_items:\n",
    "            uniq_items.append(x)\n",
    "            dup_items.add(x)\n",
    "    return uniq_items\n",
    "            \n",
    "items = [10, 20, 30, 20, 10, 50, 60, 40, 80, 50, 40]\n",
    "print(drop_dup(items))"
   ]
  },
  {
   "cell_type": "code",
   "execution_count": 28,
   "id": "7a891748",
   "metadata": {},
   "outputs": [
    {
     "name": "stdout",
     "output_type": "stream",
     "text": [
      "[10, 20, 30, 50, 60, 40, 80]\n"
     ]
    }
   ],
   "source": [
    "# [3] Dictionary & `dict.fromkeys()`\n",
    "items = [10, 20, 30, 20, 10, 50, 60, 40, 80, 50, 40]\n",
    "\n",
    "print(list(dict.fromkeys(items)))"
   ]
  },
  {
   "cell_type": "markdown",
   "id": "30f6ca65",
   "metadata": {},
   "source": [
    "**8. Write a Python program to check if a list is empty or not.**"
   ]
  },
  {
   "cell_type": "code",
   "execution_count": 29,
   "id": "671609c5",
   "metadata": {},
   "outputs": [
    {
     "name": "stdout",
     "output_type": "stream",
     "text": [
      "List is empty\n"
     ]
    }
   ],
   "source": [
    "# [1] Truth value testing\n",
    "l = []\n",
    "\n",
    "if not l:\n",
    "    print(\"List is empty\")"
   ]
  },
  {
   "cell_type": "code",
   "execution_count": 32,
   "id": "b3214daf",
   "metadata": {},
   "outputs": [
    {
     "name": "stdout",
     "output_type": "stream",
     "text": [
      "List is empty\n"
     ]
    }
   ],
   "source": [
    "# [2] `bool()`\n",
    "l = []\n",
    "\n",
    "if bool(l) == False:\n",
    "    print(\"List is empty\")"
   ]
  },
  {
   "cell_type": "code",
   "execution_count": 33,
   "id": "998b5f8b",
   "metadata": {},
   "outputs": [
    {
     "name": "stdout",
     "output_type": "stream",
     "text": [
      "List is empty\n"
     ]
    }
   ],
   "source": [
    "# [3] `len()`\n",
    "l = []\n",
    "\n",
    "if len(l) == 0:\n",
    "    print(\"List is empty\")"
   ]
  },
  {
   "cell_type": "markdown",
   "id": "1fb1a51e",
   "metadata": {},
   "source": [
    "**9. Write a Python program to clone or copy a list.**"
   ]
  },
  {
   "cell_type": "code",
   "execution_count": 40,
   "id": "0d143040",
   "metadata": {},
   "outputs": [
    {
     "name": "stdout",
     "output_type": "stream",
     "text": [
      "Original List: [16, 36, 8, 3, 17]\n",
      "New list: [16, 36, 8, 3, 17]\n"
     ]
    }
   ],
   "source": [
    "# `list()`\n",
    "original_list = [16, 36, 8, 3, 17]\n",
    "new_list = list(original_list)\n",
    "\n",
    "print(\"Original List:\", original_list)\n",
    "print(\"New list:\", new_list)"
   ]
  },
  {
   "cell_type": "markdown",
   "id": "835d0dc2",
   "metadata": {},
   "source": [
    "**10. Write a Python program to find the list of words that are longer than n from a given list of words.**"
   ]
  },
  {
   "cell_type": "code",
   "execution_count": 44,
   "id": "5026f84a",
   "metadata": {},
   "outputs": [
    {
     "name": "stdout",
     "output_type": "stream",
     "text": [
      "['Hello', 'World', 'Shannon', 'Chang']\n"
     ]
    }
   ],
   "source": [
    "# [1] List\n",
    "def long_words(words, n):\n",
    "    result = []\n",
    "    for word in words:\n",
    "        if len(word) > n:\n",
    "            result.append(word)\n",
    "    return result\n",
    "\n",
    "print(long_words([\"Hello\", \"World\", \"Joe\", \"Shannon\", \"Chang\"], 3))"
   ]
  },
  {
   "cell_type": "code",
   "execution_count": 45,
   "id": "6cf36b0f",
   "metadata": {},
   "outputs": [
    {
     "name": "stdout",
     "output_type": "stream",
     "text": [
      "['quick', 'brown', 'jumps', 'over', 'lazy']\n"
     ]
    }
   ],
   "source": [
    "# [2] String\n",
    "def long_words(text, n):\n",
    "    result = []\n",
    "    words = text.split(\" \")\n",
    "    for word in words:\n",
    "        if len(word) > n:\n",
    "            result.append(word)\n",
    "    return result\n",
    "\n",
    "print(long_words(\"The quick brown fox jumps over the lazy dog\", 3))"
   ]
  },
  {
   "cell_type": "markdown",
   "id": "de588510",
   "metadata": {},
   "source": [
    "**11. Write a Python function that takes two lists and returns True if they have at least one common member.**"
   ]
  },
  {
   "cell_type": "code",
   "execution_count": 47,
   "id": "4aa8ec0d",
   "metadata": {},
   "outputs": [
    {
     "name": "stdout",
     "output_type": "stream",
     "text": [
      "False\n",
      "True\n"
     ]
    }
   ],
   "source": [
    "# [1] for (one loop) \n",
    "def test_includes_any(nums, lsts):\n",
    "    for x in lsts:\n",
    "        if x in nums:\n",
    "            return True\n",
    "    return False\n",
    "    \n",
    "print(test_includes_any([10, 20, 30, 40, 50, 60], [22, 42]))\n",
    "print(test_includes_any([10, 20, 30, 40, 50, 60], [20, 80]))"
   ]
  },
  {
   "cell_type": "code",
   "execution_count": 51,
   "id": "cae5ef3b",
   "metadata": {},
   "outputs": [
    {
     "name": "stdout",
     "output_type": "stream",
     "text": [
      "True\n",
      "False\n"
     ]
    }
   ],
   "source": [
    "# [2] for (nested loop)\n",
    "def common_data(list1, list2):\n",
    "    result = False\n",
    "    for x in list1:\n",
    "        for y in list2:\n",
    "            if x == y:\n",
    "                result = True\n",
    "    return result\n",
    "            \n",
    "print(common_data([1, 2, 3, 4, 5], [5, 6, 7, 8, 9]))\n",
    "print(common_data([1, 2, 3, 4, 5], [6, 7, 8, 9]))"
   ]
  },
  {
   "cell_type": "code",
   "execution_count": 54,
   "id": "2206bdc0",
   "metadata": {},
   "outputs": [
    {
     "name": "stdout",
     "output_type": "stream",
     "text": [
      "False\n",
      "True\n"
     ]
    }
   ],
   "source": [
    "# [3] while (one loop)\n",
    "def test_includes_any(nums, lsts):\n",
    "    counter = 0\n",
    "    while counter < len(lsts):\n",
    "        if lsts[counter] in nums:\n",
    "            return True\n",
    "        counter = counter + 1\n",
    "    return False\n",
    "\n",
    "print(test_includes_any([10, 20, 30, 40, 50, 60], [22, 42]))\n",
    "print(test_includes_any([10, 20, 30, 40, 50, 60], [20, 80]))"
   ]
  },
  {
   "cell_type": "markdown",
   "id": "9b9a9fed",
   "metadata": {},
   "source": [
    "**12. Write a Python program to print a specified list after removing the 0th, 4th and 5th elements.**\n",
    "\n",
    "<i>Sample List:</i> \n",
    "\n",
    "['Red', 'Green', 'White', 'Black', 'Pink', 'Yellow']\n",
    "\n",
    "<i>Expected Output:</i> \n",
    "\n",
    "['Green', 'White', 'Black']"
   ]
  },
  {
   "cell_type": "code",
   "execution_count": 56,
   "id": "5171b967",
   "metadata": {},
   "outputs": [
    {
     "name": "stdout",
     "output_type": "stream",
     "text": [
      "['Green', 'White', 'Black']\n"
     ]
    }
   ],
   "source": [
    "# [1] Create another container\n",
    "def remove_elements(lst):\n",
    "    result = []\n",
    "    for i in range(len(lst)):\n",
    "        if i == 0 or i == 4 or i == 5:\n",
    "            continue\n",
    "        result.append(lst[i])\n",
    "    return result\n",
    "\n",
    "print(remove_elements([\"Red\", \"Green\", \"White\", \"Black\", \"Pink\", \"Yellow\"]))"
   ]
  },
  {
   "cell_type": "code",
   "execution_count": 57,
   "id": "36728b3b",
   "metadata": {},
   "outputs": [
    {
     "name": "stdout",
     "output_type": "stream",
     "text": [
      "['Green', 'White', 'Black']\n"
     ]
    }
   ],
   "source": [
    "# [2] `enumerate()` & generator expression\n",
    "colors = [\"Red\", \"Green\", \"White\", \"Black\", \"Pink\", \"Yellow\"]\n",
    "\n",
    "colors = [x for (i, x) in enumerate(colors) if i not in (0, 4, 5)]\n",
    "\n",
    "print(colors)"
   ]
  },
  {
   "cell_type": "code",
   "execution_count": 92,
   "id": "a5dc58d4",
   "metadata": {},
   "outputs": [
    {
     "name": "stdout",
     "output_type": "stream",
     "text": [
      "['Green', 'White', 'Black']\n"
     ]
    }
   ],
   "source": [
    "# [3] `filter()` with lambda & generator expressions\n",
    "colors = [\"Red\", \"Green\", \"White\", \"Black\", \"Pink\", \"Yellow\"]\n",
    "\n",
    "filtered_colors = list(filter(lambda i: i[0] not in (0, 4, 5), enumerate(colors)))\n",
    "\n",
    "print([x for (i, x) in filtered_colors])"
   ]
  },
  {
   "cell_type": "markdown",
   "id": "3bfcf3cb",
   "metadata": {},
   "source": [
    "**13. Write a Python program to generate a 3\\*4\\*6 3D array whose each element is *.**"
   ]
  },
  {
   "cell_type": "code",
   "execution_count": 1,
   "id": "0f596ffe",
   "metadata": {},
   "outputs": [
    {
     "name": "stdout",
     "output_type": "stream",
     "text": [
      "[[['*', '*', '*', '*', '*', '*'], ['*', '*', '*', '*', '*', '*'], ['*', '*', '*', '*', '*', '*'], ['*', '*', '*', '*', '*', '*']], [['*', '*', '*', '*', '*', '*'], ['*', '*', '*', '*', '*', '*'], ['*', '*', '*', '*', '*', '*'], ['*', '*', '*', '*', '*', '*']], [['*', '*', '*', '*', '*', '*'], ['*', '*', '*', '*', '*', '*'], ['*', '*', '*', '*', '*', '*'], ['*', '*', '*', '*', '*', '*']]]\n"
     ]
    }
   ],
   "source": [
    "# [1] List comprehension\n",
    "array = [[['*' for col in range(6)] for col in range(4)] for row in range(3)]\n",
    "\n",
    "print(array)"
   ]
  },
  {
   "cell_type": "code",
   "execution_count": 2,
   "id": "d7569d40",
   "metadata": {},
   "outputs": [
    {
     "name": "stdout",
     "output_type": "stream",
     "text": [
      "[[['*' '*' '*' '*' '*' '*']\n",
      "  ['*' '*' '*' '*' '*' '*']\n",
      "  ['*' '*' '*' '*' '*' '*']\n",
      "  ['*' '*' '*' '*' '*' '*']]\n",
      "\n",
      " [['*' '*' '*' '*' '*' '*']\n",
      "  ['*' '*' '*' '*' '*' '*']\n",
      "  ['*' '*' '*' '*' '*' '*']\n",
      "  ['*' '*' '*' '*' '*' '*']]\n",
      "\n",
      " [['*' '*' '*' '*' '*' '*']\n",
      "  ['*' '*' '*' '*' '*' '*']\n",
      "  ['*' '*' '*' '*' '*' '*']\n",
      "  ['*' '*' '*' '*' '*' '*']]]\n"
     ]
    }
   ],
   "source": [
    "# [2] `numpy.ndarray`\n",
    "import numpy as np\n",
    "\n",
    "array = np.full((3, 4, 6), '*')\n",
    "\n",
    "print(array)"
   ]
  },
  {
   "cell_type": "code",
   "execution_count": null,
   "id": "6809553b",
   "metadata": {},
   "outputs": [],
   "source": [
    "# [3] `tensorflow.Tensor`"
   ]
  },
  {
   "cell_type": "code",
   "execution_count": null,
   "id": "b588eb02",
   "metadata": {},
   "outputs": [],
   "source": [
    "# [4] `torch.Tensor`"
   ]
  },
  {
   "cell_type": "markdown",
   "id": "0a200bee",
   "metadata": {},
   "source": [
    "**14. Write a Python program to print the numbers of a specified list after removing even numbers from it.**"
   ]
  },
  {
   "cell_type": "code",
   "execution_count": 4,
   "id": "d97b5107",
   "metadata": {},
   "outputs": [
    {
     "name": "stdout",
     "output_type": "stream",
     "text": [
      "[3, 17, 25]\n"
     ]
    }
   ],
   "source": [
    "# [1] List comprehension\n",
    "nums = [1986, 3, 17, 2, 25]\n",
    "\n",
    "odd_nums = [num for num in nums if num % 2 != 0]\n",
    "\n",
    "print(odd_nums)"
   ]
  },
  {
   "cell_type": "code",
   "execution_count": null,
   "id": "8ac4aef7",
   "metadata": {},
   "outputs": [],
   "source": []
  }
 ],
 "metadata": {
  "kernelspec": {
   "display_name": "Python 3 (ipykernel)",
   "language": "python",
   "name": "python3"
  },
  "language_info": {
   "codemirror_mode": {
    "name": "ipython",
    "version": 3
   },
   "file_extension": ".py",
   "mimetype": "text/x-python",
   "name": "python",
   "nbconvert_exporter": "python",
   "pygments_lexer": "ipython3",
   "version": "3.8.8"
  }
 },
 "nbformat": 4,
 "nbformat_minor": 5
}

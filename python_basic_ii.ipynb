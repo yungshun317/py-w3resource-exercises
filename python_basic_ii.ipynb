{
 "cells": [
  {
   "cell_type": "markdown",
   "id": "bd50a081",
   "metadata": {},
   "source": [
    "# Python Basic Part II\n",
    "\n",
    "**1. Write a Python function that takes a sequence of numbers and determines whether all the numbers are different from each other.**"
   ]
  },
  {
   "cell_type": "code",
   "execution_count": 3,
   "id": "0e48e321",
   "metadata": {},
   "outputs": [
    {
     "name": "stdout",
     "output_type": "stream",
     "text": [
      "True\n",
      "False\n"
     ]
    }
   ],
   "source": [
    "# [1] Nested for loop\n",
    "def is_different(nums):\n",
    "    for i in range(0, len(nums)):\n",
    "        for j in range(i + 1, len(nums)):\n",
    "            if nums[i] == nums[j]:\n",
    "                return False\n",
    "    return True\n",
    "\n",
    "nums = [1, 5, 7, 9]\n",
    "print(is_different(nums))\n",
    "\n",
    "nums = [2, 4, 5, 5, 7, 9]\n",
    "print(is_different(nums))"
   ]
  },
  {
   "cell_type": "code",
   "execution_count": 4,
   "id": "ab0caac7",
   "metadata": {},
   "outputs": [
    {
     "name": "stdout",
     "output_type": "stream",
     "text": [
      "True\n",
      "False\n"
     ]
    }
   ],
   "source": [
    "# [2] Set\n",
    "def is_different(nums):\n",
    "    if len(nums) == len(set(nums)):\n",
    "        return True\n",
    "    else:\n",
    "        return False\n",
    "\n",
    "nums = [1, 5, 7, 9]\n",
    "print(is_different(nums))\n",
    "\n",
    "nums = [2, 4, 5, 5, 7, 9]\n",
    "print(is_different(nums))"
   ]
  },
  {
   "cell_type": "code",
   "execution_count": null,
   "id": "331f73f9",
   "metadata": {},
   "outputs": [],
   "source": []
  }
 ],
 "metadata": {
  "kernelspec": {
   "display_name": "Python 3 (ipykernel)",
   "language": "python",
   "name": "python3"
  },
  "language_info": {
   "codemirror_mode": {
    "name": "ipython",
    "version": 3
   },
   "file_extension": ".py",
   "mimetype": "text/x-python",
   "name": "python",
   "nbconvert_exporter": "python",
   "pygments_lexer": "ipython3",
   "version": "3.8.8"
  }
 },
 "nbformat": 4,
 "nbformat_minor": 5
}

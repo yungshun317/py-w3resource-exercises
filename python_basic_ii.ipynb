{
 "cells": [
  {
   "cell_type": "markdown",
   "id": "67030a12",
   "metadata": {},
   "source": [
    "# Python Basic Part II\n",
    "\n",
    "**1. Write a Python function that takes a sequence of numbers and determines whether all the numbers are different from each other.**"
   ]
  },
  {
   "cell_type": "code",
   "execution_count": 9,
   "id": "f8a8542e",
   "metadata": {},
   "outputs": [
    {
     "name": "stdout",
     "output_type": "stream",
     "text": [
      "True\n",
      "False\n"
     ]
    }
   ],
   "source": [
    "# [1] Nested for loop\n",
    "def check_different(nums):\n",
    "    for i in range(len(nums)):\n",
    "        for j in range(i + 1, len(nums)):\n",
    "            if nums[i] == nums[j]:\n",
    "                return False\n",
    "    return True\n",
    "\n",
    "nums = [1, 5, 7, 9]\n",
    "print(check_different(nums))\n",
    "nums = [2, 4, 5, 5, 7, 9]\n",
    "print(check_different(nums))"
   ]
  },
  {
   "cell_type": "code",
   "execution_count": 4,
   "id": "02bf47b0",
   "metadata": {},
   "outputs": [
    {
     "name": "stdout",
     "output_type": "stream",
     "text": [
      "True\n",
      "False\n"
     ]
    }
   ],
   "source": [
    "# [2] Set\n",
    "def check_different(nums):\n",
    "    if len(nums) == len(set(nums)):\n",
    "        return True\n",
    "    else:\n",
    "        return False\n",
    "\n",
    "nums = [1, 5, 7, 9]\n",
    "print(check_different(nums))\n",
    "nums = [2, 4, 5, 5, 7, 9]\n",
    "print(check_different(nums))"
   ]
  },
  {
   "cell_type": "markdown",
   "id": "edefbc75",
   "metadata": {},
   "source": [
    "**2. Write a Python program that creates all possible strings using the letters 'a', 'e', 'i', 'o', and 'I'. Ensure that each character is used only once.**"
   ]
  },
  {
   "cell_type": "code",
   "execution_count": 51,
   "id": "c772ec7f",
   "metadata": {},
   "outputs": [
    {
     "name": "stdout",
     "output_type": "stream",
     "text": [
      "('a', 'e', 'i', 'o', 'u')\n",
      "('a', 'e', 'i', 'u', 'o')\n",
      "('a', 'e', 'o', 'i', 'u')\n",
      "('a', 'e', 'o', 'u', 'i')\n",
      "('a', 'e', 'u', 'i', 'o')\n",
      "('a', 'e', 'u', 'o', 'i')\n",
      "('a', 'i', 'e', 'o', 'u')\n",
      "('a', 'i', 'e', 'u', 'o')\n",
      "('a', 'i', 'o', 'e', 'u')\n",
      "('a', 'i', 'o', 'u', 'e')\n",
      "('a', 'i', 'u', 'e', 'o')\n",
      "('a', 'i', 'u', 'o', 'e')\n",
      "('a', 'o', 'e', 'i', 'u')\n",
      "('a', 'o', 'e', 'u', 'i')\n",
      "('a', 'o', 'i', 'e', 'u')\n",
      "('a', 'o', 'i', 'u', 'e')\n",
      "('a', 'o', 'u', 'e', 'i')\n",
      "('a', 'o', 'u', 'i', 'e')\n",
      "('a', 'u', 'e', 'i', 'o')\n",
      "('a', 'u', 'e', 'o', 'i')\n",
      "('a', 'u', 'i', 'e', 'o')\n",
      "('a', 'u', 'i', 'o', 'e')\n",
      "('a', 'u', 'o', 'e', 'i')\n",
      "('a', 'u', 'o', 'i', 'e')\n",
      "('e', 'a', 'i', 'o', 'u')\n",
      "('e', 'a', 'i', 'u', 'o')\n",
      "('e', 'a', 'o', 'i', 'u')\n",
      "('e', 'a', 'o', 'u', 'i')\n",
      "('e', 'a', 'u', 'i', 'o')\n",
      "('e', 'a', 'u', 'o', 'i')\n",
      "('e', 'i', 'a', 'o', 'u')\n",
      "('e', 'i', 'a', 'u', 'o')\n",
      "('e', 'i', 'o', 'a', 'u')\n",
      "('e', 'i', 'o', 'u', 'a')\n",
      "('e', 'i', 'u', 'a', 'o')\n",
      "('e', 'i', 'u', 'o', 'a')\n",
      "('e', 'o', 'a', 'i', 'u')\n",
      "('e', 'o', 'a', 'u', 'i')\n",
      "('e', 'o', 'i', 'a', 'u')\n",
      "('e', 'o', 'i', 'u', 'a')\n",
      "('e', 'o', 'u', 'a', 'i')\n",
      "('e', 'o', 'u', 'i', 'a')\n",
      "('e', 'u', 'a', 'i', 'o')\n",
      "('e', 'u', 'a', 'o', 'i')\n",
      "('e', 'u', 'i', 'a', 'o')\n",
      "('e', 'u', 'i', 'o', 'a')\n",
      "('e', 'u', 'o', 'a', 'i')\n",
      "('e', 'u', 'o', 'i', 'a')\n",
      "('i', 'a', 'e', 'o', 'u')\n",
      "('i', 'a', 'e', 'u', 'o')\n",
      "('i', 'a', 'o', 'e', 'u')\n",
      "('i', 'a', 'o', 'u', 'e')\n",
      "('i', 'a', 'u', 'e', 'o')\n",
      "('i', 'a', 'u', 'o', 'e')\n",
      "('i', 'e', 'a', 'o', 'u')\n",
      "('i', 'e', 'a', 'u', 'o')\n",
      "('i', 'e', 'o', 'a', 'u')\n",
      "('i', 'e', 'o', 'u', 'a')\n",
      "('i', 'e', 'u', 'a', 'o')\n",
      "('i', 'e', 'u', 'o', 'a')\n",
      "('i', 'o', 'a', 'e', 'u')\n",
      "('i', 'o', 'a', 'u', 'e')\n",
      "('i', 'o', 'e', 'a', 'u')\n",
      "('i', 'o', 'e', 'u', 'a')\n",
      "('i', 'o', 'u', 'a', 'e')\n",
      "('i', 'o', 'u', 'e', 'a')\n",
      "('i', 'u', 'a', 'e', 'o')\n",
      "('i', 'u', 'a', 'o', 'e')\n",
      "('i', 'u', 'e', 'a', 'o')\n",
      "('i', 'u', 'e', 'o', 'a')\n",
      "('i', 'u', 'o', 'a', 'e')\n",
      "('i', 'u', 'o', 'e', 'a')\n",
      "('o', 'a', 'e', 'i', 'u')\n",
      "('o', 'a', 'e', 'u', 'i')\n",
      "('o', 'a', 'i', 'e', 'u')\n",
      "('o', 'a', 'i', 'u', 'e')\n",
      "('o', 'a', 'u', 'e', 'i')\n",
      "('o', 'a', 'u', 'i', 'e')\n",
      "('o', 'e', 'a', 'i', 'u')\n",
      "('o', 'e', 'a', 'u', 'i')\n",
      "('o', 'e', 'i', 'a', 'u')\n",
      "('o', 'e', 'i', 'u', 'a')\n",
      "('o', 'e', 'u', 'a', 'i')\n",
      "('o', 'e', 'u', 'i', 'a')\n",
      "('o', 'i', 'a', 'e', 'u')\n",
      "('o', 'i', 'a', 'u', 'e')\n",
      "('o', 'i', 'e', 'a', 'u')\n",
      "('o', 'i', 'e', 'u', 'a')\n",
      "('o', 'i', 'u', 'a', 'e')\n",
      "('o', 'i', 'u', 'e', 'a')\n",
      "('o', 'u', 'a', 'e', 'i')\n",
      "('o', 'u', 'a', 'i', 'e')\n",
      "('o', 'u', 'e', 'a', 'i')\n",
      "('o', 'u', 'e', 'i', 'a')\n",
      "('o', 'u', 'i', 'a', 'e')\n",
      "('o', 'u', 'i', 'e', 'a')\n",
      "('u', 'a', 'e', 'i', 'o')\n",
      "('u', 'a', 'e', 'o', 'i')\n",
      "('u', 'a', 'i', 'e', 'o')\n",
      "('u', 'a', 'i', 'o', 'e')\n",
      "('u', 'a', 'o', 'e', 'i')\n",
      "('u', 'a', 'o', 'i', 'e')\n",
      "('u', 'e', 'a', 'i', 'o')\n",
      "('u', 'e', 'a', 'o', 'i')\n",
      "('u', 'e', 'i', 'a', 'o')\n",
      "('u', 'e', 'i', 'o', 'a')\n",
      "('u', 'e', 'o', 'a', 'i')\n",
      "('u', 'e', 'o', 'i', 'a')\n",
      "('u', 'i', 'a', 'e', 'o')\n",
      "('u', 'i', 'a', 'o', 'e')\n",
      "('u', 'i', 'e', 'a', 'o')\n",
      "('u', 'i', 'e', 'o', 'a')\n",
      "('u', 'i', 'o', 'a', 'e')\n",
      "('u', 'i', 'o', 'e', 'a')\n",
      "('u', 'o', 'a', 'e', 'i')\n",
      "('u', 'o', 'a', 'i', 'e')\n",
      "('u', 'o', 'e', 'a', 'i')\n",
      "('u', 'o', 'e', 'i', 'a')\n",
      "('u', 'o', 'i', 'a', 'e')\n",
      "('u', 'o', 'i', 'e', 'a')\n"
     ]
    }
   ],
   "source": [
    "# [1] `itertools.permutations()`\n",
    "import itertools\n",
    "\n",
    "lst = [\"a\", \"e\", \"i\", \"o\", \"u\"]\n",
    "for i in list(itertools.permutations(lst)):\n",
    "    print(i)"
   ]
  },
  {
   "cell_type": "code",
   "execution_count": 57,
   "id": "1517b073",
   "metadata": {},
   "outputs": [
    {
     "name": "stdout",
     "output_type": "stream",
     "text": [
      "['a', 'e', 'i', 'o', 'u']\n",
      "['e', 'a', 'i', 'o', 'u']\n",
      "['e', 'i', 'a', 'o', 'u']\n",
      "['e', 'i', 'o', 'a', 'u']\n",
      "['e', 'i', 'o', 'u', 'a']\n",
      "['a', 'i', 'e', 'o', 'u']\n",
      "['i', 'a', 'e', 'o', 'u']\n",
      "['i', 'e', 'a', 'o', 'u']\n",
      "['i', 'e', 'o', 'a', 'u']\n",
      "['i', 'e', 'o', 'u', 'a']\n",
      "['a', 'i', 'o', 'e', 'u']\n",
      "['i', 'a', 'o', 'e', 'u']\n",
      "['i', 'o', 'a', 'e', 'u']\n",
      "['i', 'o', 'e', 'a', 'u']\n",
      "['i', 'o', 'e', 'u', 'a']\n",
      "['a', 'i', 'o', 'u', 'e']\n",
      "['i', 'a', 'o', 'u', 'e']\n",
      "['i', 'o', 'a', 'u', 'e']\n",
      "['i', 'o', 'u', 'a', 'e']\n",
      "['i', 'o', 'u', 'e', 'a']\n",
      "['a', 'e', 'o', 'i', 'u']\n",
      "['e', 'a', 'o', 'i', 'u']\n",
      "['e', 'o', 'a', 'i', 'u']\n",
      "['e', 'o', 'i', 'a', 'u']\n",
      "['e', 'o', 'i', 'u', 'a']\n",
      "['a', 'o', 'e', 'i', 'u']\n",
      "['o', 'a', 'e', 'i', 'u']\n",
      "['o', 'e', 'a', 'i', 'u']\n",
      "['o', 'e', 'i', 'a', 'u']\n",
      "['o', 'e', 'i', 'u', 'a']\n",
      "['a', 'o', 'i', 'e', 'u']\n",
      "['o', 'a', 'i', 'e', 'u']\n",
      "['o', 'i', 'a', 'e', 'u']\n",
      "['o', 'i', 'e', 'a', 'u']\n",
      "['o', 'i', 'e', 'u', 'a']\n",
      "['a', 'o', 'i', 'u', 'e']\n",
      "['o', 'a', 'i', 'u', 'e']\n",
      "['o', 'i', 'a', 'u', 'e']\n",
      "['o', 'i', 'u', 'a', 'e']\n",
      "['o', 'i', 'u', 'e', 'a']\n",
      "['a', 'e', 'o', 'u', 'i']\n",
      "['e', 'a', 'o', 'u', 'i']\n",
      "['e', 'o', 'a', 'u', 'i']\n",
      "['e', 'o', 'u', 'a', 'i']\n",
      "['e', 'o', 'u', 'i', 'a']\n",
      "['a', 'o', 'e', 'u', 'i']\n",
      "['o', 'a', 'e', 'u', 'i']\n",
      "['o', 'e', 'a', 'u', 'i']\n",
      "['o', 'e', 'u', 'a', 'i']\n",
      "['o', 'e', 'u', 'i', 'a']\n",
      "['a', 'o', 'u', 'e', 'i']\n",
      "['o', 'a', 'u', 'e', 'i']\n",
      "['o', 'u', 'a', 'e', 'i']\n",
      "['o', 'u', 'e', 'a', 'i']\n",
      "['o', 'u', 'e', 'i', 'a']\n",
      "['a', 'o', 'u', 'i', 'e']\n",
      "['o', 'a', 'u', 'i', 'e']\n",
      "['o', 'u', 'a', 'i', 'e']\n",
      "['o', 'u', 'i', 'a', 'e']\n",
      "['o', 'u', 'i', 'e', 'a']\n",
      "['a', 'e', 'i', 'u', 'o']\n",
      "['e', 'a', 'i', 'u', 'o']\n",
      "['e', 'i', 'a', 'u', 'o']\n",
      "['e', 'i', 'u', 'a', 'o']\n",
      "['e', 'i', 'u', 'o', 'a']\n",
      "['a', 'i', 'e', 'u', 'o']\n",
      "['i', 'a', 'e', 'u', 'o']\n",
      "['i', 'e', 'a', 'u', 'o']\n",
      "['i', 'e', 'u', 'a', 'o']\n",
      "['i', 'e', 'u', 'o', 'a']\n",
      "['a', 'i', 'u', 'e', 'o']\n",
      "['i', 'a', 'u', 'e', 'o']\n",
      "['i', 'u', 'a', 'e', 'o']\n",
      "['i', 'u', 'e', 'a', 'o']\n",
      "['i', 'u', 'e', 'o', 'a']\n",
      "['a', 'i', 'u', 'o', 'e']\n",
      "['i', 'a', 'u', 'o', 'e']\n",
      "['i', 'u', 'a', 'o', 'e']\n",
      "['i', 'u', 'o', 'a', 'e']\n",
      "['i', 'u', 'o', 'e', 'a']\n",
      "['a', 'e', 'u', 'i', 'o']\n",
      "['e', 'a', 'u', 'i', 'o']\n",
      "['e', 'u', 'a', 'i', 'o']\n",
      "['e', 'u', 'i', 'a', 'o']\n",
      "['e', 'u', 'i', 'o', 'a']\n",
      "['a', 'u', 'e', 'i', 'o']\n",
      "['u', 'a', 'e', 'i', 'o']\n",
      "['u', 'e', 'a', 'i', 'o']\n",
      "['u', 'e', 'i', 'a', 'o']\n",
      "['u', 'e', 'i', 'o', 'a']\n",
      "['a', 'u', 'i', 'e', 'o']\n",
      "['u', 'a', 'i', 'e', 'o']\n",
      "['u', 'i', 'a', 'e', 'o']\n",
      "['u', 'i', 'e', 'a', 'o']\n",
      "['u', 'i', 'e', 'o', 'a']\n",
      "['a', 'u', 'i', 'o', 'e']\n",
      "['u', 'a', 'i', 'o', 'e']\n",
      "['u', 'i', 'a', 'o', 'e']\n",
      "['u', 'i', 'o', 'a', 'e']\n",
      "['u', 'i', 'o', 'e', 'a']\n",
      "['a', 'e', 'u', 'o', 'i']\n",
      "['e', 'a', 'u', 'o', 'i']\n",
      "['e', 'u', 'a', 'o', 'i']\n",
      "['e', 'u', 'o', 'a', 'i']\n",
      "['e', 'u', 'o', 'i', 'a']\n",
      "['a', 'u', 'e', 'o', 'i']\n",
      "['u', 'a', 'e', 'o', 'i']\n",
      "['u', 'e', 'a', 'o', 'i']\n",
      "['u', 'e', 'o', 'a', 'i']\n",
      "['u', 'e', 'o', 'i', 'a']\n",
      "['a', 'u', 'o', 'e', 'i']\n",
      "['u', 'a', 'o', 'e', 'i']\n",
      "['u', 'o', 'a', 'e', 'i']\n",
      "['u', 'o', 'e', 'a', 'i']\n",
      "['u', 'o', 'e', 'i', 'a']\n",
      "['a', 'u', 'o', 'i', 'e']\n",
      "['u', 'a', 'o', 'i', 'e']\n",
      "['u', 'o', 'a', 'i', 'e']\n",
      "['u', 'o', 'i', 'a', 'e']\n",
      "['u', 'o', 'i', 'e', 'a']\n"
     ]
    }
   ],
   "source": [
    "# [2] `yield`\n",
    "def permutations(lst):\n",
    "    # Base case\n",
    "    if len(lst) <= 1:\n",
    "        yield lst\n",
    "        return\n",
    "    # Recursive case\n",
    "    for perm in permutations(lst[1:]):\n",
    "        for i in range(len(lst)):\n",
    "            yield perm[:i] + lst[0:1] + perm[i:]\n",
    "\n",
    "lst = [\"a\", \"e\", \"i\", \"o\", \"u\"]\n",
    "for i in list(permutations(lst)):\n",
    "    print(i)"
   ]
  },
  {
   "cell_type": "code",
   "execution_count": null,
   "id": "da03d644",
   "metadata": {},
   "outputs": [],
   "source": [
    "# [3]"
   ]
  },
  {
   "cell_type": "code",
   "execution_count": null,
   "id": "2f0684ba",
   "metadata": {},
   "outputs": [],
   "source": [
    "# [4]"
   ]
  },
  {
   "cell_type": "code",
   "execution_count": 44,
   "id": "1e3e7e16",
   "metadata": {},
   "outputs": [
    {
     "name": "stdout",
     "output_type": "stream",
     "text": [
      "oaieu\n"
     ]
    }
   ],
   "source": [
    "# [5] `random.shuffle()`\n",
    "import random\n",
    "\n",
    "lst = [\"a\", \"e\", \"i\", \"o\", \"u\"]\n",
    "random.shuffle(lst)\n",
    "print(\"\".join(lst))"
   ]
  },
  {
   "cell_type": "markdown",
   "id": "64851135",
   "metadata": {},
   "source": [
    "**3. Write a Python program that removes and prints every third number from a list of numbers until the list is empty.**"
   ]
  },
  {
   "cell_type": "code",
   "execution_count": 61,
   "id": "250536b2",
   "metadata": {},
   "outputs": [
    {
     "name": "stdout",
     "output_type": "stream",
     "text": [
      "30\n",
      "60\n",
      "90\n",
      "40\n",
      "80\n",
      "50\n",
      "20\n",
      "70\n",
      "10\n"
     ]
    }
   ],
   "source": [
    "# while loop\n",
    "def remove_third(nums):\n",
    "    position = 3 - 1\n",
    "    idx = 0\n",
    "    len_nums = len(nums)\n",
    "    while len_nums > 0:\n",
    "        idx = (position + idx) % len_nums\n",
    "        print(nums.pop(idx))\n",
    "        len_nums = len_nums - 1\n",
    "        \n",
    "nums = [10, 20, 30, 40, 50, 60, 70, 80, 90]\n",
    "remove_third(nums)"
   ]
  },
  {
   "cell_type": "markdown",
   "id": "79a97c41",
   "metadata": {},
   "source": [
    "**4. Write a Python program to identify unique triplets whose three elements sum to zero from an array of n integers.**"
   ]
  },
  {
   "cell_type": "code",
   "execution_count": null,
   "id": "2f7b328d",
   "metadata": {},
   "outputs": [],
   "source": []
  },
  {
   "cell_type": "markdown",
   "id": "e9fc528f",
   "metadata": {},
   "source": [
    "**5. Write a Python program to make combinations of 3 digits.**"
   ]
  },
  {
   "cell_type": "code",
   "execution_count": 66,
   "id": "9740403a",
   "metadata": {},
   "outputs": [
    {
     "name": "stdout",
     "output_type": "stream",
     "text": [
      "(0, 1, 2)\n",
      "(0, 1, 3)\n",
      "(0, 1, 4)\n",
      "(0, 1, 5)\n",
      "(0, 1, 6)\n",
      "(0, 1, 7)\n",
      "(0, 1, 8)\n",
      "(0, 1, 9)\n",
      "(0, 2, 3)\n",
      "(0, 2, 4)\n",
      "(0, 2, 5)\n",
      "(0, 2, 6)\n",
      "(0, 2, 7)\n",
      "(0, 2, 8)\n",
      "(0, 2, 9)\n",
      "(0, 3, 4)\n",
      "(0, 3, 5)\n",
      "(0, 3, 6)\n",
      "(0, 3, 7)\n",
      "(0, 3, 8)\n",
      "(0, 3, 9)\n",
      "(0, 4, 5)\n",
      "(0, 4, 6)\n",
      "(0, 4, 7)\n",
      "(0, 4, 8)\n",
      "(0, 4, 9)\n",
      "(0, 5, 6)\n",
      "(0, 5, 7)\n",
      "(0, 5, 8)\n",
      "(0, 5, 9)\n",
      "(0, 6, 7)\n",
      "(0, 6, 8)\n",
      "(0, 6, 9)\n",
      "(0, 7, 8)\n",
      "(0, 7, 9)\n",
      "(0, 8, 9)\n",
      "(1, 2, 3)\n",
      "(1, 2, 4)\n",
      "(1, 2, 5)\n",
      "(1, 2, 6)\n",
      "(1, 2, 7)\n",
      "(1, 2, 8)\n",
      "(1, 2, 9)\n",
      "(1, 3, 4)\n",
      "(1, 3, 5)\n",
      "(1, 3, 6)\n",
      "(1, 3, 7)\n",
      "(1, 3, 8)\n",
      "(1, 3, 9)\n",
      "(1, 4, 5)\n",
      "(1, 4, 6)\n",
      "(1, 4, 7)\n",
      "(1, 4, 8)\n",
      "(1, 4, 9)\n",
      "(1, 5, 6)\n",
      "(1, 5, 7)\n",
      "(1, 5, 8)\n",
      "(1, 5, 9)\n",
      "(1, 6, 7)\n",
      "(1, 6, 8)\n",
      "(1, 6, 9)\n",
      "(1, 7, 8)\n",
      "(1, 7, 9)\n",
      "(1, 8, 9)\n",
      "(2, 3, 4)\n",
      "(2, 3, 5)\n",
      "(2, 3, 6)\n",
      "(2, 3, 7)\n",
      "(2, 3, 8)\n",
      "(2, 3, 9)\n",
      "(2, 4, 5)\n",
      "(2, 4, 6)\n",
      "(2, 4, 7)\n",
      "(2, 4, 8)\n",
      "(2, 4, 9)\n",
      "(2, 5, 6)\n",
      "(2, 5, 7)\n",
      "(2, 5, 8)\n",
      "(2, 5, 9)\n",
      "(2, 6, 7)\n",
      "(2, 6, 8)\n",
      "(2, 6, 9)\n",
      "(2, 7, 8)\n",
      "(2, 7, 9)\n",
      "(2, 8, 9)\n",
      "(3, 4, 5)\n",
      "(3, 4, 6)\n",
      "(3, 4, 7)\n",
      "(3, 4, 8)\n",
      "(3, 4, 9)\n",
      "(3, 5, 6)\n",
      "(3, 5, 7)\n",
      "(3, 5, 8)\n",
      "(3, 5, 9)\n",
      "(3, 6, 7)\n",
      "(3, 6, 8)\n",
      "(3, 6, 9)\n",
      "(3, 7, 8)\n",
      "(3, 7, 9)\n",
      "(3, 8, 9)\n",
      "(4, 5, 6)\n",
      "(4, 5, 7)\n",
      "(4, 5, 8)\n",
      "(4, 5, 9)\n",
      "(4, 6, 7)\n",
      "(4, 6, 8)\n",
      "(4, 6, 9)\n",
      "(4, 7, 8)\n",
      "(4, 7, 9)\n",
      "(4, 8, 9)\n",
      "(5, 6, 7)\n",
      "(5, 6, 8)\n",
      "(5, 6, 9)\n",
      "(5, 7, 8)\n",
      "(5, 7, 9)\n",
      "(5, 8, 9)\n",
      "(6, 7, 8)\n",
      "(6, 7, 9)\n",
      "(6, 8, 9)\n",
      "(7, 8, 9)\n"
     ]
    }
   ],
   "source": [
    "# [1] `itertools.combinations()`\n",
    "import itertools\n",
    "\n",
    "lst = list(range(0, 10))\n",
    "for i in list(itertools.combinations(lst, 3)):\n",
    "    print(i)"
   ]
  },
  {
   "cell_type": "code",
   "execution_count": null,
   "id": "3e63e92c",
   "metadata": {},
   "outputs": [],
   "source": [
    "# [2]"
   ]
  },
  {
   "cell_type": "markdown",
   "id": "0ed2c522",
   "metadata": {},
   "source": [
    "**6. Write a Python program that prints long text, converts it to a list, and prints all the words and the frequency of each word.**"
   ]
  },
  {
   "cell_type": "code",
   "execution_count": 20,
   "id": "02e705e7",
   "metadata": {},
   "outputs": [
    {
     "name": "stdout",
     "output_type": "stream",
     "text": [
      "Python is a high-level, general-purpose programming language. Its design philosophy emphasizes code readability with the use of significant indentation. Python is dynamically typed and garbage-collected. It supports multiple programming paradigms, including structured (particularly procedural), object-oriented and functional programming. It is often described as a 'batteries included' language due to its comprehensive standard library. Guido van Rossum began working on Python in the late 1980s as a successor to the ABC programming language and first released it in 1991 as Python 0.9.0. Python 2.0 was released in 2000. Python 3.0, released in 2008, was a major revision not completely backward-compatible with earlier versions. Python 2.7.18, released in 2020, was the last release of Python 2. Python consistently ranks as one of the most popular programming languages.\n",
      "['Python', 'is', 'a', 'high-level,', 'general-purpose', 'programming', 'language.', 'Its', 'design', 'philosophy', 'emphasizes', 'code', 'readability', 'with', 'the', 'use', 'of', 'significant', 'indentation.', 'Python', 'is', 'dynamically', 'typed', 'and', 'garbage-collected.', 'It', 'supports', 'multiple', 'programming', 'paradigms,', 'including', 'structured', '(particularly', 'procedural),', 'object-oriented', 'and', 'functional', 'programming.', 'It', 'is', 'often', 'described', 'as', 'a', \"'batteries\", \"included'\", 'language', 'due', 'to', 'its', 'comprehensive', 'standard', 'library.', 'Guido', 'van', 'Rossum', 'began', 'working', 'on', 'Python', 'in', 'the', 'late', '1980s', 'as', 'a', 'successor', 'to', 'the', 'ABC', 'programming', 'language', 'and', 'first', 'released', 'it', 'in', '1991', 'as', 'Python', '0.9.0.', 'Python', '2.0', 'was', 'released', 'in', '2000.', 'Python', '3.0,', 'released', 'in', '2008,', 'was', 'a', 'major', 'revision', 'not', 'completely', 'backward-compatible', 'with', 'earlier', 'versions.', 'Python', '2.7.18,', 'released', 'in', '2020,', 'was', 'the', 'last', 'release', 'of', 'Python', '2.', 'Python', 'consistently', 'ranks', 'as', 'one', 'of', 'the', 'most', 'popular', 'programming', 'languages.']\n",
      "[('Python', 9), ('is', 3), ('a', 4), ('high-level,', 1), ('general-purpose', 1), ('programming', 4), ('language.', 1), ('Its', 1), ('design', 1), ('philosophy', 1), ('emphasizes', 1), ('code', 1), ('readability', 1), ('with', 2), ('the', 5), ('use', 1), ('of', 3), ('significant', 1), ('indentation.', 1), ('Python', 9), ('is', 3), ('dynamically', 1), ('typed', 1), ('and', 3), ('garbage-collected.', 1), ('It', 2), ('supports', 1), ('multiple', 1), ('programming', 4), ('paradigms,', 1), ('including', 1), ('structured', 1), ('(particularly', 1), ('procedural),', 1), ('object-oriented', 1), ('and', 3), ('functional', 1), ('programming.', 1), ('It', 2), ('is', 3), ('often', 1), ('described', 1), ('as', 4), ('a', 4), (\"'batteries\", 1), (\"included'\", 1), ('language', 2), ('due', 1), ('to', 2), ('its', 1), ('comprehensive', 1), ('standard', 1), ('library.', 1), ('Guido', 1), ('van', 1), ('Rossum', 1), ('began', 1), ('working', 1), ('on', 1), ('Python', 9), ('in', 5), ('the', 5), ('late', 1), ('1980s', 1), ('as', 4), ('a', 4), ('successor', 1), ('to', 2), ('the', 5), ('ABC', 1), ('programming', 4), ('language', 2), ('and', 3), ('first', 1), ('released', 4), ('it', 1), ('in', 5), ('1991', 1), ('as', 4), ('Python', 9), ('0.9.0.', 1), ('Python', 9), ('2.0', 1), ('was', 3), ('released', 4), ('in', 5), ('2000.', 1), ('Python', 9), ('3.0,', 1), ('released', 4), ('in', 5), ('2008,', 1), ('was', 3), ('a', 4), ('major', 1), ('revision', 1), ('not', 1), ('completely', 1), ('backward-compatible', 1), ('with', 2), ('earlier', 1), ('versions.', 1), ('Python', 9), ('2.7.18,', 1), ('released', 4), ('in', 5), ('2020,', 1), ('was', 3), ('the', 5), ('last', 1), ('release', 1), ('of', 3), ('Python', 9), ('2.', 1), ('Python', 9), ('consistently', 1), ('ranks', 1), ('as', 4), ('one', 1), ('of', 3), ('the', 5), ('most', 1), ('popular', 1), ('programming', 4), ('languages.', 1)]\n"
     ]
    }
   ],
   "source": [
    "# [1] `str.split()` & `list.count()`\n",
    "# Original string\n",
    "text = \"Python is a high-level, general-purpose programming language. Its design philosophy emphasizes code readability with the use of significant indentation. Python is dynamically typed and garbage-collected. It supports multiple programming paradigms, including structured (particularly procedural), object-oriented and functional programming. It is often described as a 'batteries included' language due to its comprehensive standard library. Guido van Rossum began working on Python in the late 1980s as a successor to the ABC programming language and first released it in 1991 as Python 0.9.0. Python 2.0 was released in 2000. Python 3.0, released in 2008, was a major revision not completely backward-compatible with earlier versions. Python 2.7.18, released in 2020, was the last release of Python 2. Python consistently ranks as one of the most popular programming languages.\"\n",
    "print(text)\n",
    "\n",
    "# Word list\n",
    "words = text.split()\n",
    "print(str(words))\n",
    "\n",
    "# Word & frequency pairs\n",
    "word_freq = [words.count(word) for word in words]\n",
    "print(str(list(zip(words, word_freq))))"
   ]
  },
  {
   "cell_type": "code",
   "execution_count": 19,
   "id": "6d52b563",
   "metadata": {},
   "outputs": [
    {
     "name": "stdout",
     "output_type": "stream",
     "text": [
      "Python is a high-level, general-purpose programming language. Its design philosophy emphasizes code readability with the use of significant indentation. Python is dynamically typed and garbage-collected. It supports multiple programming paradigms, including structured (particularly procedural), object-oriented and functional programming. It is often described as a 'batteries included' language due to its comprehensive standard library. Guido van Rossum began working on Python in the late 1980s as a successor to the ABC programming language and first released it in 1991 as Python 0.9.0. Python 2.0 was released in 2000. Python 3.0, released in 2008, was a major revision not completely backward-compatible with earlier versions. Python 2.7.18, released in 2020, was the last release of Python 2. Python consistently ranks as one of the most popular programming languages.\n",
      "{'Python': 9, 'is': 3, 'a': 4, 'high-level': 1, 'general-purpose': 1, 'programming': 5, 'language': 3, 'Its': 1, 'design': 1, 'philosophy': 1, 'emphasizes': 1, 'code': 1, 'readability': 1, 'with': 2, 'the': 5, 'use': 1, 'of': 3, 'significant': 1, 'indentation': 1, 'dynamically': 1, 'typed': 1, 'and': 3, 'garbage-collected': 1, 'It': 2, 'supports': 1, 'multiple': 1, 'paradigms': 1, 'including': 1, 'structured': 1, 'particularly': 1, 'procedural': 1, 'object-oriented': 1, 'functional': 1, 'often': 1, 'described': 1, 'as': 4, 'batteries': 1, 'included': 1, 'due': 1, 'to': 2, 'its': 1, 'comprehensive': 1, 'standard': 1, 'library': 1, 'Guido': 1, 'van': 1, 'Rossum': 1, 'began': 1, 'working': 1, 'on': 1, 'in': 5, 'late': 1, '1980s': 1, 'successor': 1, 'ABC': 1, 'first': 1, 'released': 4, 'it': 1, '1991': 1, '0.9.0': 1, '2.0': 1, 'was': 3, '2000': 1, '3.0': 1, '2008': 1, 'major': 1, 'revision': 1, 'not': 1, 'completely': 1, 'backward-compatible': 1, 'earlier': 1, 'versions': 1, '2.7.18': 1, '2020': 1, 'last': 1, 'release': 1, '2': 1, 'consistently': 1, 'ranks': 1, 'one': 1, 'most': 1, 'popular': 1, 'languages': 1}\n"
     ]
    }
   ],
   "source": [
    "# [2] `dict()` & `string.punctuation`\n",
    "import string\n",
    "\n",
    "def word_count(text):  \n",
    "    words = [word.strip(string.punctuation) for word in text.split()]\n",
    "    counts = dict()\n",
    "    for word in words:\n",
    "        if word in counts:\n",
    "            counts[word] = counts[word] + 1\n",
    "        else:\n",
    "            counts[word] = 1\n",
    "    return counts\n",
    "    \n",
    "text = \"Python is a high-level, general-purpose programming language. Its design philosophy emphasizes code readability with the use of significant indentation. Python is dynamically typed and garbage-collected. It supports multiple programming paradigms, including structured (particularly procedural), object-oriented and functional programming. It is often described as a 'batteries included' language due to its comprehensive standard library. Guido van Rossum began working on Python in the late 1980s as a successor to the ABC programming language and first released it in 1991 as Python 0.9.0. Python 2.0 was released in 2000. Python 3.0, released in 2008, was a major revision not completely backward-compatible with earlier versions. Python 2.7.18, released in 2020, was the last release of Python 2. Python consistently ranks as one of the most popular programming languages.\"\n",
    "print(text)\n",
    "print(word_count(text))"
   ]
  },
  {
   "cell_type": "code",
   "execution_count": 18,
   "id": "5d19e36c",
   "metadata": {},
   "outputs": [
    {
     "name": "stdout",
     "output_type": "stream",
     "text": [
      "Python is a high-level, general-purpose programming language. Its design philosophy emphasizes code readability with the use of significant indentation. Python is dynamically typed and garbage-collected. It supports multiple programming paradigms, including structured (particularly procedural), object-oriented and functional programming. It is often described as a 'batteries included' language due to its comprehensive standard library. Guido van Rossum began working on Python in the late 1980s as a successor to the ABC programming language and first released it in 1991 as Python 0.9.0. Python 2.0 was released in 2000. Python 3.0, released in 2008, was a major revision not completely backward-compatible with earlier versions. Python 2.7.18, released in 2020, was the last release of Python 2. Python consistently ranks as one of the most popular programming languages.\n",
      "{'Python': 9, 'is': 3, 'a': 4, 'highlevel': 1, 'generalpurpose': 1, 'programming': 5, 'language': 3, 'Its': 1, 'design': 1, 'philosophy': 1, 'emphasizes': 1, 'code': 1, 'readability': 1, 'with': 2, 'the': 5, 'use': 1, 'of': 3, 'significant': 1, 'indentation': 1, 'dynamically': 1, 'typed': 1, 'and': 3, 'garbagecollected': 1, 'It': 2, 'supports': 1, 'multiple': 1, 'paradigms': 1, 'including': 1, 'structured': 1, 'particularly': 1, 'procedural': 1, 'objectoriented': 1, 'functional': 1, 'often': 1, 'described': 1, 'as': 4, 'batteries': 1, 'included': 1, 'due': 1, 'to': 2, 'its': 1, 'comprehensive': 1, 'standard': 1, 'library': 1, 'Guido': 1, 'van': 1, 'Rossum': 1, 'began': 1, 'working': 1, 'on': 1, 'in': 5, 'late': 1, '1980s': 1, 'successor': 1, 'ABC': 1, 'first': 1, 'released': 4, 'it': 1, '1991': 1, '090': 1, '20': 1, 'was': 3, '2000': 1, '30': 1, '2008': 1, 'major': 1, 'revision': 1, 'not': 1, 'completely': 1, 'backwardcompatible': 1, 'earlier': 1, 'versions': 1, '2718': 1, '2020': 1, 'last': 1, 'release': 1, '2': 1, 'consistently': 1, 'ranks': 1, 'one': 1, 'most': 1, 'popular': 1, 'languages': 1}\n"
     ]
    }
   ],
   "source": [
    "# [3] `dict()` & `string.punctuation` & `str.maketrans()` & `str.translate()` \n",
    "import string\n",
    "\n",
    "def word_count(text):\n",
    "    table = str.maketrans(\"\", \"\", string.punctuation)\n",
    "    words = text.translate(table).split()\n",
    "    counts = dict()\n",
    "    for word in words:\n",
    "        if word in counts:\n",
    "            counts[word] = counts[word] + 1\n",
    "        else:\n",
    "            counts[word] = 1\n",
    "    return counts\n",
    "    \n",
    "text = \"Python is a high-level, general-purpose programming language. Its design philosophy emphasizes code readability with the use of significant indentation. Python is dynamically typed and garbage-collected. It supports multiple programming paradigms, including structured (particularly procedural), object-oriented and functional programming. It is often described as a 'batteries included' language due to its comprehensive standard library. Guido van Rossum began working on Python in the late 1980s as a successor to the ABC programming language and first released it in 1991 as Python 0.9.0. Python 2.0 was released in 2000. Python 3.0, released in 2008, was a major revision not completely backward-compatible with earlier versions. Python 2.7.18, released in 2020, was the last release of Python 2. Python consistently ranks as one of the most popular programming languages.\"\n",
    "print(text)\n",
    "print(word_count(text))"
   ]
  },
  {
   "cell_type": "code",
   "execution_count": 17,
   "id": "7c58a9b6",
   "metadata": {},
   "outputs": [],
   "source": [
    "# [4] Regular expression"
   ]
  },
  {
   "cell_type": "code",
   "execution_count": 5,
   "id": "9a15e264",
   "metadata": {},
   "outputs": [],
   "source": [
    "# [5] `nltk.word_tokenize()`"
   ]
  },
  {
   "cell_type": "markdown",
   "id": "3af68275",
   "metadata": {},
   "source": [
    "**7. Write a Python program to count the number of each character in a text file.**"
   ]
  },
  {
   "cell_type": "markdown",
   "id": "63a87f26",
   "metadata": {},
   "source": [
    "**8. Write a Python program that retrieves the top stories from Google News.**"
   ]
  },
  {
   "cell_type": "markdown",
   "id": "c6cb68c1",
   "metadata": {},
   "source": [
    "**9. Write a Python program to get a list of locally installed Python modules.**"
   ]
  },
  {
   "cell_type": "markdown",
   "id": "63610959",
   "metadata": {},
   "source": [
    "**10. Write a Python program to display some information about the OS where the script is running.**"
   ]
  },
  {
   "cell_type": "code",
   "execution_count": null,
   "id": "2d777e03",
   "metadata": {},
   "outputs": [],
   "source": []
  }
 ],
 "metadata": {
  "kernelspec": {
   "display_name": "Python 3 (ipykernel)",
   "language": "python",
   "name": "python3"
  },
  "language_info": {
   "codemirror_mode": {
    "name": "ipython",
    "version": 3
   },
   "file_extension": ".py",
   "mimetype": "text/x-python",
   "name": "python",
   "nbconvert_exporter": "python",
   "pygments_lexer": "ipython3",
   "version": "3.8.8"
  }
 },
 "nbformat": 4,
 "nbformat_minor": 5
}

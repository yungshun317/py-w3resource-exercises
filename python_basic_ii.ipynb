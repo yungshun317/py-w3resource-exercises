{
 "cells": [
  {
   "cell_type": "markdown",
   "id": "67030a12",
   "metadata": {},
   "source": [
    "# Python Basic Part II\n",
    "\n",
    "**1. Write a Python function that takes a sequence of numbers and determines whether all the numbers are different from each other.**"
   ]
  },
  {
   "cell_type": "code",
   "execution_count": 9,
   "id": "f8a8542e",
   "metadata": {},
   "outputs": [
    {
     "name": "stdout",
     "output_type": "stream",
     "text": [
      "True\n",
      "False\n"
     ]
    }
   ],
   "source": [
    "# [1] Nested for loop\n",
    "def check_different(nums):\n",
    "    for i in range(len(nums)):\n",
    "        for j in range(i + 1, len(nums)):\n",
    "            if nums[i] == nums[j]:\n",
    "                return False\n",
    "    return True\n",
    "\n",
    "nums = [1, 5, 7, 9]\n",
    "print(check_different(nums))\n",
    "nums = [2, 4, 5, 5, 7, 9]\n",
    "print(check_different(nums))"
   ]
  },
  {
   "cell_type": "code",
   "execution_count": 4,
   "id": "02bf47b0",
   "metadata": {},
   "outputs": [
    {
     "name": "stdout",
     "output_type": "stream",
     "text": [
      "True\n",
      "False\n"
     ]
    }
   ],
   "source": [
    "# [2] Set\n",
    "def check_different(nums):\n",
    "    if len(nums) == len(set(nums)):\n",
    "        return True\n",
    "    else:\n",
    "        return False\n",
    "\n",
    "nums = [1, 5, 7, 9]\n",
    "print(check_different(nums))\n",
    "nums = [2, 4, 5, 5, 7, 9]\n",
    "print(check_different(nums))"
   ]
  },
  {
   "cell_type": "markdown",
   "id": "edefbc75",
   "metadata": {},
   "source": [
    "**2. Write a Python program that creates all possible strings using the letters 'a', 'e', 'i', 'o', and 'I'. Ensure that each character is used only once.**"
   ]
  },
  {
   "cell_type": "code",
   "execution_count": 51,
   "id": "c772ec7f",
   "metadata": {},
   "outputs": [
    {
     "name": "stdout",
     "output_type": "stream",
     "text": [
      "('a', 'e', 'i', 'o', 'u')\n",
      "('a', 'e', 'i', 'u', 'o')\n",
      "('a', 'e', 'o', 'i', 'u')\n",
      "('a', 'e', 'o', 'u', 'i')\n",
      "('a', 'e', 'u', 'i', 'o')\n",
      "('a', 'e', 'u', 'o', 'i')\n",
      "('a', 'i', 'e', 'o', 'u')\n",
      "('a', 'i', 'e', 'u', 'o')\n",
      "('a', 'i', 'o', 'e', 'u')\n",
      "('a', 'i', 'o', 'u', 'e')\n",
      "('a', 'i', 'u', 'e', 'o')\n",
      "('a', 'i', 'u', 'o', 'e')\n",
      "('a', 'o', 'e', 'i', 'u')\n",
      "('a', 'o', 'e', 'u', 'i')\n",
      "('a', 'o', 'i', 'e', 'u')\n",
      "('a', 'o', 'i', 'u', 'e')\n",
      "('a', 'o', 'u', 'e', 'i')\n",
      "('a', 'o', 'u', 'i', 'e')\n",
      "('a', 'u', 'e', 'i', 'o')\n",
      "('a', 'u', 'e', 'o', 'i')\n",
      "('a', 'u', 'i', 'e', 'o')\n",
      "('a', 'u', 'i', 'o', 'e')\n",
      "('a', 'u', 'o', 'e', 'i')\n",
      "('a', 'u', 'o', 'i', 'e')\n",
      "('e', 'a', 'i', 'o', 'u')\n",
      "('e', 'a', 'i', 'u', 'o')\n",
      "('e', 'a', 'o', 'i', 'u')\n",
      "('e', 'a', 'o', 'u', 'i')\n",
      "('e', 'a', 'u', 'i', 'o')\n",
      "('e', 'a', 'u', 'o', 'i')\n",
      "('e', 'i', 'a', 'o', 'u')\n",
      "('e', 'i', 'a', 'u', 'o')\n",
      "('e', 'i', 'o', 'a', 'u')\n",
      "('e', 'i', 'o', 'u', 'a')\n",
      "('e', 'i', 'u', 'a', 'o')\n",
      "('e', 'i', 'u', 'o', 'a')\n",
      "('e', 'o', 'a', 'i', 'u')\n",
      "('e', 'o', 'a', 'u', 'i')\n",
      "('e', 'o', 'i', 'a', 'u')\n",
      "('e', 'o', 'i', 'u', 'a')\n",
      "('e', 'o', 'u', 'a', 'i')\n",
      "('e', 'o', 'u', 'i', 'a')\n",
      "('e', 'u', 'a', 'i', 'o')\n",
      "('e', 'u', 'a', 'o', 'i')\n",
      "('e', 'u', 'i', 'a', 'o')\n",
      "('e', 'u', 'i', 'o', 'a')\n",
      "('e', 'u', 'o', 'a', 'i')\n",
      "('e', 'u', 'o', 'i', 'a')\n",
      "('i', 'a', 'e', 'o', 'u')\n",
      "('i', 'a', 'e', 'u', 'o')\n",
      "('i', 'a', 'o', 'e', 'u')\n",
      "('i', 'a', 'o', 'u', 'e')\n",
      "('i', 'a', 'u', 'e', 'o')\n",
      "('i', 'a', 'u', 'o', 'e')\n",
      "('i', 'e', 'a', 'o', 'u')\n",
      "('i', 'e', 'a', 'u', 'o')\n",
      "('i', 'e', 'o', 'a', 'u')\n",
      "('i', 'e', 'o', 'u', 'a')\n",
      "('i', 'e', 'u', 'a', 'o')\n",
      "('i', 'e', 'u', 'o', 'a')\n",
      "('i', 'o', 'a', 'e', 'u')\n",
      "('i', 'o', 'a', 'u', 'e')\n",
      "('i', 'o', 'e', 'a', 'u')\n",
      "('i', 'o', 'e', 'u', 'a')\n",
      "('i', 'o', 'u', 'a', 'e')\n",
      "('i', 'o', 'u', 'e', 'a')\n",
      "('i', 'u', 'a', 'e', 'o')\n",
      "('i', 'u', 'a', 'o', 'e')\n",
      "('i', 'u', 'e', 'a', 'o')\n",
      "('i', 'u', 'e', 'o', 'a')\n",
      "('i', 'u', 'o', 'a', 'e')\n",
      "('i', 'u', 'o', 'e', 'a')\n",
      "('o', 'a', 'e', 'i', 'u')\n",
      "('o', 'a', 'e', 'u', 'i')\n",
      "('o', 'a', 'i', 'e', 'u')\n",
      "('o', 'a', 'i', 'u', 'e')\n",
      "('o', 'a', 'u', 'e', 'i')\n",
      "('o', 'a', 'u', 'i', 'e')\n",
      "('o', 'e', 'a', 'i', 'u')\n",
      "('o', 'e', 'a', 'u', 'i')\n",
      "('o', 'e', 'i', 'a', 'u')\n",
      "('o', 'e', 'i', 'u', 'a')\n",
      "('o', 'e', 'u', 'a', 'i')\n",
      "('o', 'e', 'u', 'i', 'a')\n",
      "('o', 'i', 'a', 'e', 'u')\n",
      "('o', 'i', 'a', 'u', 'e')\n",
      "('o', 'i', 'e', 'a', 'u')\n",
      "('o', 'i', 'e', 'u', 'a')\n",
      "('o', 'i', 'u', 'a', 'e')\n",
      "('o', 'i', 'u', 'e', 'a')\n",
      "('o', 'u', 'a', 'e', 'i')\n",
      "('o', 'u', 'a', 'i', 'e')\n",
      "('o', 'u', 'e', 'a', 'i')\n",
      "('o', 'u', 'e', 'i', 'a')\n",
      "('o', 'u', 'i', 'a', 'e')\n",
      "('o', 'u', 'i', 'e', 'a')\n",
      "('u', 'a', 'e', 'i', 'o')\n",
      "('u', 'a', 'e', 'o', 'i')\n",
      "('u', 'a', 'i', 'e', 'o')\n",
      "('u', 'a', 'i', 'o', 'e')\n",
      "('u', 'a', 'o', 'e', 'i')\n",
      "('u', 'a', 'o', 'i', 'e')\n",
      "('u', 'e', 'a', 'i', 'o')\n",
      "('u', 'e', 'a', 'o', 'i')\n",
      "('u', 'e', 'i', 'a', 'o')\n",
      "('u', 'e', 'i', 'o', 'a')\n",
      "('u', 'e', 'o', 'a', 'i')\n",
      "('u', 'e', 'o', 'i', 'a')\n",
      "('u', 'i', 'a', 'e', 'o')\n",
      "('u', 'i', 'a', 'o', 'e')\n",
      "('u', 'i', 'e', 'a', 'o')\n",
      "('u', 'i', 'e', 'o', 'a')\n",
      "('u', 'i', 'o', 'a', 'e')\n",
      "('u', 'i', 'o', 'e', 'a')\n",
      "('u', 'o', 'a', 'e', 'i')\n",
      "('u', 'o', 'a', 'i', 'e')\n",
      "('u', 'o', 'e', 'a', 'i')\n",
      "('u', 'o', 'e', 'i', 'a')\n",
      "('u', 'o', 'i', 'a', 'e')\n",
      "('u', 'o', 'i', 'e', 'a')\n"
     ]
    }
   ],
   "source": [
    "# [1] `itertools.permutations()`\n",
    "import itertools\n",
    "\n",
    "lst = [\"a\", \"e\", \"i\", \"o\", \"u\"]\n",
    "for i in list(itertools.permutations(lst)):\n",
    "    print(i)"
   ]
  },
  {
   "cell_type": "code",
   "execution_count": 57,
   "id": "1517b073",
   "metadata": {},
   "outputs": [
    {
     "name": "stdout",
     "output_type": "stream",
     "text": [
      "['a', 'e', 'i', 'o', 'u']\n",
      "['e', 'a', 'i', 'o', 'u']\n",
      "['e', 'i', 'a', 'o', 'u']\n",
      "['e', 'i', 'o', 'a', 'u']\n",
      "['e', 'i', 'o', 'u', 'a']\n",
      "['a', 'i', 'e', 'o', 'u']\n",
      "['i', 'a', 'e', 'o', 'u']\n",
      "['i', 'e', 'a', 'o', 'u']\n",
      "['i', 'e', 'o', 'a', 'u']\n",
      "['i', 'e', 'o', 'u', 'a']\n",
      "['a', 'i', 'o', 'e', 'u']\n",
      "['i', 'a', 'o', 'e', 'u']\n",
      "['i', 'o', 'a', 'e', 'u']\n",
      "['i', 'o', 'e', 'a', 'u']\n",
      "['i', 'o', 'e', 'u', 'a']\n",
      "['a', 'i', 'o', 'u', 'e']\n",
      "['i', 'a', 'o', 'u', 'e']\n",
      "['i', 'o', 'a', 'u', 'e']\n",
      "['i', 'o', 'u', 'a', 'e']\n",
      "['i', 'o', 'u', 'e', 'a']\n",
      "['a', 'e', 'o', 'i', 'u']\n",
      "['e', 'a', 'o', 'i', 'u']\n",
      "['e', 'o', 'a', 'i', 'u']\n",
      "['e', 'o', 'i', 'a', 'u']\n",
      "['e', 'o', 'i', 'u', 'a']\n",
      "['a', 'o', 'e', 'i', 'u']\n",
      "['o', 'a', 'e', 'i', 'u']\n",
      "['o', 'e', 'a', 'i', 'u']\n",
      "['o', 'e', 'i', 'a', 'u']\n",
      "['o', 'e', 'i', 'u', 'a']\n",
      "['a', 'o', 'i', 'e', 'u']\n",
      "['o', 'a', 'i', 'e', 'u']\n",
      "['o', 'i', 'a', 'e', 'u']\n",
      "['o', 'i', 'e', 'a', 'u']\n",
      "['o', 'i', 'e', 'u', 'a']\n",
      "['a', 'o', 'i', 'u', 'e']\n",
      "['o', 'a', 'i', 'u', 'e']\n",
      "['o', 'i', 'a', 'u', 'e']\n",
      "['o', 'i', 'u', 'a', 'e']\n",
      "['o', 'i', 'u', 'e', 'a']\n",
      "['a', 'e', 'o', 'u', 'i']\n",
      "['e', 'a', 'o', 'u', 'i']\n",
      "['e', 'o', 'a', 'u', 'i']\n",
      "['e', 'o', 'u', 'a', 'i']\n",
      "['e', 'o', 'u', 'i', 'a']\n",
      "['a', 'o', 'e', 'u', 'i']\n",
      "['o', 'a', 'e', 'u', 'i']\n",
      "['o', 'e', 'a', 'u', 'i']\n",
      "['o', 'e', 'u', 'a', 'i']\n",
      "['o', 'e', 'u', 'i', 'a']\n",
      "['a', 'o', 'u', 'e', 'i']\n",
      "['o', 'a', 'u', 'e', 'i']\n",
      "['o', 'u', 'a', 'e', 'i']\n",
      "['o', 'u', 'e', 'a', 'i']\n",
      "['o', 'u', 'e', 'i', 'a']\n",
      "['a', 'o', 'u', 'i', 'e']\n",
      "['o', 'a', 'u', 'i', 'e']\n",
      "['o', 'u', 'a', 'i', 'e']\n",
      "['o', 'u', 'i', 'a', 'e']\n",
      "['o', 'u', 'i', 'e', 'a']\n",
      "['a', 'e', 'i', 'u', 'o']\n",
      "['e', 'a', 'i', 'u', 'o']\n",
      "['e', 'i', 'a', 'u', 'o']\n",
      "['e', 'i', 'u', 'a', 'o']\n",
      "['e', 'i', 'u', 'o', 'a']\n",
      "['a', 'i', 'e', 'u', 'o']\n",
      "['i', 'a', 'e', 'u', 'o']\n",
      "['i', 'e', 'a', 'u', 'o']\n",
      "['i', 'e', 'u', 'a', 'o']\n",
      "['i', 'e', 'u', 'o', 'a']\n",
      "['a', 'i', 'u', 'e', 'o']\n",
      "['i', 'a', 'u', 'e', 'o']\n",
      "['i', 'u', 'a', 'e', 'o']\n",
      "['i', 'u', 'e', 'a', 'o']\n",
      "['i', 'u', 'e', 'o', 'a']\n",
      "['a', 'i', 'u', 'o', 'e']\n",
      "['i', 'a', 'u', 'o', 'e']\n",
      "['i', 'u', 'a', 'o', 'e']\n",
      "['i', 'u', 'o', 'a', 'e']\n",
      "['i', 'u', 'o', 'e', 'a']\n",
      "['a', 'e', 'u', 'i', 'o']\n",
      "['e', 'a', 'u', 'i', 'o']\n",
      "['e', 'u', 'a', 'i', 'o']\n",
      "['e', 'u', 'i', 'a', 'o']\n",
      "['e', 'u', 'i', 'o', 'a']\n",
      "['a', 'u', 'e', 'i', 'o']\n",
      "['u', 'a', 'e', 'i', 'o']\n",
      "['u', 'e', 'a', 'i', 'o']\n",
      "['u', 'e', 'i', 'a', 'o']\n",
      "['u', 'e', 'i', 'o', 'a']\n",
      "['a', 'u', 'i', 'e', 'o']\n",
      "['u', 'a', 'i', 'e', 'o']\n",
      "['u', 'i', 'a', 'e', 'o']\n",
      "['u', 'i', 'e', 'a', 'o']\n",
      "['u', 'i', 'e', 'o', 'a']\n",
      "['a', 'u', 'i', 'o', 'e']\n",
      "['u', 'a', 'i', 'o', 'e']\n",
      "['u', 'i', 'a', 'o', 'e']\n",
      "['u', 'i', 'o', 'a', 'e']\n",
      "['u', 'i', 'o', 'e', 'a']\n",
      "['a', 'e', 'u', 'o', 'i']\n",
      "['e', 'a', 'u', 'o', 'i']\n",
      "['e', 'u', 'a', 'o', 'i']\n",
      "['e', 'u', 'o', 'a', 'i']\n",
      "['e', 'u', 'o', 'i', 'a']\n",
      "['a', 'u', 'e', 'o', 'i']\n",
      "['u', 'a', 'e', 'o', 'i']\n",
      "['u', 'e', 'a', 'o', 'i']\n",
      "['u', 'e', 'o', 'a', 'i']\n",
      "['u', 'e', 'o', 'i', 'a']\n",
      "['a', 'u', 'o', 'e', 'i']\n",
      "['u', 'a', 'o', 'e', 'i']\n",
      "['u', 'o', 'a', 'e', 'i']\n",
      "['u', 'o', 'e', 'a', 'i']\n",
      "['u', 'o', 'e', 'i', 'a']\n",
      "['a', 'u', 'o', 'i', 'e']\n",
      "['u', 'a', 'o', 'i', 'e']\n",
      "['u', 'o', 'a', 'i', 'e']\n",
      "['u', 'o', 'i', 'a', 'e']\n",
      "['u', 'o', 'i', 'e', 'a']\n"
     ]
    }
   ],
   "source": [
    "# [2] `yield` & recursion\n",
    "def permutations(lst):\n",
    "    # Base case\n",
    "    if len(lst) <= 1:\n",
    "        yield lst\n",
    "        return\n",
    "    # Recursive case\n",
    "    for perm in permutations(lst[1:]):\n",
    "        for i in range(len(lst)):\n",
    "            yield perm[:i] + lst[0:1] + perm[i:]\n",
    "\n",
    "lst = [\"a\", \"e\", \"i\", \"o\", \"u\"]\n",
    "for i in list(permutations(lst)):\n",
    "    print(i)"
   ]
  },
  {
   "cell_type": "code",
   "execution_count": null,
   "id": "da03d644",
   "metadata": {},
   "outputs": [],
   "source": [
    "# [3]"
   ]
  },
  {
   "cell_type": "code",
   "execution_count": null,
   "id": "2f0684ba",
   "metadata": {},
   "outputs": [],
   "source": [
    "# [4]"
   ]
  },
  {
   "cell_type": "code",
   "execution_count": 44,
   "id": "1e3e7e16",
   "metadata": {},
   "outputs": [
    {
     "name": "stdout",
     "output_type": "stream",
     "text": [
      "oaieu\n"
     ]
    }
   ],
   "source": [
    "# [5] `random.shuffle()`\n",
    "import random\n",
    "\n",
    "lst = [\"a\", \"e\", \"i\", \"o\", \"u\"]\n",
    "random.shuffle(lst)\n",
    "print(\"\".join(lst))"
   ]
  },
  {
   "cell_type": "markdown",
   "id": "64851135",
   "metadata": {},
   "source": [
    "**3. Write a Python program that removes and prints every third number from a list of numbers until the list is empty.**"
   ]
  },
  {
   "cell_type": "code",
   "execution_count": 61,
   "id": "250536b2",
   "metadata": {},
   "outputs": [
    {
     "name": "stdout",
     "output_type": "stream",
     "text": [
      "30\n",
      "60\n",
      "90\n",
      "40\n",
      "80\n",
      "50\n",
      "20\n",
      "70\n",
      "10\n"
     ]
    }
   ],
   "source": [
    "# while loop\n",
    "def remove_third(nums):\n",
    "    position = 3 - 1\n",
    "    idx = 0\n",
    "    len_nums = len(nums)\n",
    "    while len_nums > 0:\n",
    "        idx = (position + idx) % len_nums\n",
    "        print(nums.pop(idx))\n",
    "        len_nums = len_nums - 1\n",
    "        \n",
    "nums = [10, 20, 30, 40, 50, 60, 70, 80, 90]\n",
    "remove_third(nums)"
   ]
  },
  {
   "cell_type": "markdown",
   "id": "79a97c41",
   "metadata": {},
   "source": [
    "**4. Write a Python program to identify unique triplets whose three elements sum to zero from an array of n integers.**"
   ]
  },
  {
   "cell_type": "code",
   "execution_count": 55,
   "id": "2f7b328d",
   "metadata": {},
   "outputs": [
    {
     "data": {
      "text/plain": [
       "[(-6, 2, 4), (-2, 0, 2), (-1, 0, 1)]"
      ]
     },
     "execution_count": 55,
     "metadata": {},
     "output_type": "execute_result"
    }
   ],
   "source": [
    "# Sort\n",
    "def triplet_sum_to_zero(nums):\n",
    "    result = []\n",
    "    nums.sort()\n",
    "    # print(nums)\n",
    "    # [-6, -2, -1, 0, 0, 1, 2, 2, 4]\n",
    "    for i in range(len(nums) - 2):\n",
    "        # Remove duplicates for `i`\n",
    "        if i > 0 and nums[i] == nums[i - 1]:\n",
    "            continue\n",
    "        l, r = i + 1, len(nums) - 1\n",
    "        while l < r:\n",
    "            triplet_sum = nums[i] + nums[l] + nums[r]\n",
    "            if triplet_sum > 0:\n",
    "                r -= 1\n",
    "            elif triplet_sum < 0:\n",
    "                l += 1\n",
    "            else:\n",
    "                # Found triplet summed to zero\n",
    "                result.append((nums[i], nums[l], nums[r]))\n",
    "                # Remove duplicates for `l` & `r`\n",
    "                while l < r and nums[l] == nums[l + 1]:\n",
    "                    l += 1\n",
    "                    l += 1\n",
    "                    while l < r and nums[r] == nums[r - 1]:\n",
    "                        r -= 1\n",
    "                        r -= 1\n",
    "    return result\n",
    "                    \n",
    "nums = [1, -6, 4, 2, -1, 2, 0, -2, 0]\n",
    "triplet_sum_to_zero(nums)"
   ]
  },
  {
   "cell_type": "markdown",
   "id": "e9fc528f",
   "metadata": {},
   "source": [
    "**5. Write a Python program to make combinations of 3 digits.**"
   ]
  },
  {
   "cell_type": "code",
   "execution_count": 66,
   "id": "9740403a",
   "metadata": {},
   "outputs": [
    {
     "name": "stdout",
     "output_type": "stream",
     "text": [
      "(0, 1, 2)\n",
      "(0, 1, 3)\n",
      "(0, 1, 4)\n",
      "(0, 1, 5)\n",
      "(0, 1, 6)\n",
      "(0, 1, 7)\n",
      "(0, 1, 8)\n",
      "(0, 1, 9)\n",
      "(0, 2, 3)\n",
      "(0, 2, 4)\n",
      "(0, 2, 5)\n",
      "(0, 2, 6)\n",
      "(0, 2, 7)\n",
      "(0, 2, 8)\n",
      "(0, 2, 9)\n",
      "(0, 3, 4)\n",
      "(0, 3, 5)\n",
      "(0, 3, 6)\n",
      "(0, 3, 7)\n",
      "(0, 3, 8)\n",
      "(0, 3, 9)\n",
      "(0, 4, 5)\n",
      "(0, 4, 6)\n",
      "(0, 4, 7)\n",
      "(0, 4, 8)\n",
      "(0, 4, 9)\n",
      "(0, 5, 6)\n",
      "(0, 5, 7)\n",
      "(0, 5, 8)\n",
      "(0, 5, 9)\n",
      "(0, 6, 7)\n",
      "(0, 6, 8)\n",
      "(0, 6, 9)\n",
      "(0, 7, 8)\n",
      "(0, 7, 9)\n",
      "(0, 8, 9)\n",
      "(1, 2, 3)\n",
      "(1, 2, 4)\n",
      "(1, 2, 5)\n",
      "(1, 2, 6)\n",
      "(1, 2, 7)\n",
      "(1, 2, 8)\n",
      "(1, 2, 9)\n",
      "(1, 3, 4)\n",
      "(1, 3, 5)\n",
      "(1, 3, 6)\n",
      "(1, 3, 7)\n",
      "(1, 3, 8)\n",
      "(1, 3, 9)\n",
      "(1, 4, 5)\n",
      "(1, 4, 6)\n",
      "(1, 4, 7)\n",
      "(1, 4, 8)\n",
      "(1, 4, 9)\n",
      "(1, 5, 6)\n",
      "(1, 5, 7)\n",
      "(1, 5, 8)\n",
      "(1, 5, 9)\n",
      "(1, 6, 7)\n",
      "(1, 6, 8)\n",
      "(1, 6, 9)\n",
      "(1, 7, 8)\n",
      "(1, 7, 9)\n",
      "(1, 8, 9)\n",
      "(2, 3, 4)\n",
      "(2, 3, 5)\n",
      "(2, 3, 6)\n",
      "(2, 3, 7)\n",
      "(2, 3, 8)\n",
      "(2, 3, 9)\n",
      "(2, 4, 5)\n",
      "(2, 4, 6)\n",
      "(2, 4, 7)\n",
      "(2, 4, 8)\n",
      "(2, 4, 9)\n",
      "(2, 5, 6)\n",
      "(2, 5, 7)\n",
      "(2, 5, 8)\n",
      "(2, 5, 9)\n",
      "(2, 6, 7)\n",
      "(2, 6, 8)\n",
      "(2, 6, 9)\n",
      "(2, 7, 8)\n",
      "(2, 7, 9)\n",
      "(2, 8, 9)\n",
      "(3, 4, 5)\n",
      "(3, 4, 6)\n",
      "(3, 4, 7)\n",
      "(3, 4, 8)\n",
      "(3, 4, 9)\n",
      "(3, 5, 6)\n",
      "(3, 5, 7)\n",
      "(3, 5, 8)\n",
      "(3, 5, 9)\n",
      "(3, 6, 7)\n",
      "(3, 6, 8)\n",
      "(3, 6, 9)\n",
      "(3, 7, 8)\n",
      "(3, 7, 9)\n",
      "(3, 8, 9)\n",
      "(4, 5, 6)\n",
      "(4, 5, 7)\n",
      "(4, 5, 8)\n",
      "(4, 5, 9)\n",
      "(4, 6, 7)\n",
      "(4, 6, 8)\n",
      "(4, 6, 9)\n",
      "(4, 7, 8)\n",
      "(4, 7, 9)\n",
      "(4, 8, 9)\n",
      "(5, 6, 7)\n",
      "(5, 6, 8)\n",
      "(5, 6, 9)\n",
      "(5, 7, 8)\n",
      "(5, 7, 9)\n",
      "(5, 8, 9)\n",
      "(6, 7, 8)\n",
      "(6, 7, 9)\n",
      "(6, 8, 9)\n",
      "(7, 8, 9)\n"
     ]
    }
   ],
   "source": [
    "# [1] `itertools.combinations()`\n",
    "import itertools\n",
    "\n",
    "lst = list(range(0, 10))\n",
    "for i in list(itertools.combinations(lst, 3)):\n",
    "    print(i)"
   ]
  },
  {
   "cell_type": "code",
   "execution_count": null,
   "id": "3e63e92c",
   "metadata": {},
   "outputs": [],
   "source": [
    "# [2]"
   ]
  },
  {
   "cell_type": "markdown",
   "id": "0ed2c522",
   "metadata": {},
   "source": [
    "**6. Write a Python program that prints long text, converts it to a list, and prints all the words and the frequency of each word.**"
   ]
  },
  {
   "cell_type": "code",
   "execution_count": 20,
   "id": "02e705e7",
   "metadata": {},
   "outputs": [
    {
     "name": "stdout",
     "output_type": "stream",
     "text": [
      "Python is a high-level, general-purpose programming language. Its design philosophy emphasizes code readability with the use of significant indentation. Python is dynamically typed and garbage-collected. It supports multiple programming paradigms, including structured (particularly procedural), object-oriented and functional programming. It is often described as a 'batteries included' language due to its comprehensive standard library. Guido van Rossum began working on Python in the late 1980s as a successor to the ABC programming language and first released it in 1991 as Python 0.9.0. Python 2.0 was released in 2000. Python 3.0, released in 2008, was a major revision not completely backward-compatible with earlier versions. Python 2.7.18, released in 2020, was the last release of Python 2. Python consistently ranks as one of the most popular programming languages.\n",
      "['Python', 'is', 'a', 'high-level,', 'general-purpose', 'programming', 'language.', 'Its', 'design', 'philosophy', 'emphasizes', 'code', 'readability', 'with', 'the', 'use', 'of', 'significant', 'indentation.', 'Python', 'is', 'dynamically', 'typed', 'and', 'garbage-collected.', 'It', 'supports', 'multiple', 'programming', 'paradigms,', 'including', 'structured', '(particularly', 'procedural),', 'object-oriented', 'and', 'functional', 'programming.', 'It', 'is', 'often', 'described', 'as', 'a', \"'batteries\", \"included'\", 'language', 'due', 'to', 'its', 'comprehensive', 'standard', 'library.', 'Guido', 'van', 'Rossum', 'began', 'working', 'on', 'Python', 'in', 'the', 'late', '1980s', 'as', 'a', 'successor', 'to', 'the', 'ABC', 'programming', 'language', 'and', 'first', 'released', 'it', 'in', '1991', 'as', 'Python', '0.9.0.', 'Python', '2.0', 'was', 'released', 'in', '2000.', 'Python', '3.0,', 'released', 'in', '2008,', 'was', 'a', 'major', 'revision', 'not', 'completely', 'backward-compatible', 'with', 'earlier', 'versions.', 'Python', '2.7.18,', 'released', 'in', '2020,', 'was', 'the', 'last', 'release', 'of', 'Python', '2.', 'Python', 'consistently', 'ranks', 'as', 'one', 'of', 'the', 'most', 'popular', 'programming', 'languages.']\n",
      "[('Python', 9), ('is', 3), ('a', 4), ('high-level,', 1), ('general-purpose', 1), ('programming', 4), ('language.', 1), ('Its', 1), ('design', 1), ('philosophy', 1), ('emphasizes', 1), ('code', 1), ('readability', 1), ('with', 2), ('the', 5), ('use', 1), ('of', 3), ('significant', 1), ('indentation.', 1), ('Python', 9), ('is', 3), ('dynamically', 1), ('typed', 1), ('and', 3), ('garbage-collected.', 1), ('It', 2), ('supports', 1), ('multiple', 1), ('programming', 4), ('paradigms,', 1), ('including', 1), ('structured', 1), ('(particularly', 1), ('procedural),', 1), ('object-oriented', 1), ('and', 3), ('functional', 1), ('programming.', 1), ('It', 2), ('is', 3), ('often', 1), ('described', 1), ('as', 4), ('a', 4), (\"'batteries\", 1), (\"included'\", 1), ('language', 2), ('due', 1), ('to', 2), ('its', 1), ('comprehensive', 1), ('standard', 1), ('library.', 1), ('Guido', 1), ('van', 1), ('Rossum', 1), ('began', 1), ('working', 1), ('on', 1), ('Python', 9), ('in', 5), ('the', 5), ('late', 1), ('1980s', 1), ('as', 4), ('a', 4), ('successor', 1), ('to', 2), ('the', 5), ('ABC', 1), ('programming', 4), ('language', 2), ('and', 3), ('first', 1), ('released', 4), ('it', 1), ('in', 5), ('1991', 1), ('as', 4), ('Python', 9), ('0.9.0.', 1), ('Python', 9), ('2.0', 1), ('was', 3), ('released', 4), ('in', 5), ('2000.', 1), ('Python', 9), ('3.0,', 1), ('released', 4), ('in', 5), ('2008,', 1), ('was', 3), ('a', 4), ('major', 1), ('revision', 1), ('not', 1), ('completely', 1), ('backward-compatible', 1), ('with', 2), ('earlier', 1), ('versions.', 1), ('Python', 9), ('2.7.18,', 1), ('released', 4), ('in', 5), ('2020,', 1), ('was', 3), ('the', 5), ('last', 1), ('release', 1), ('of', 3), ('Python', 9), ('2.', 1), ('Python', 9), ('consistently', 1), ('ranks', 1), ('as', 4), ('one', 1), ('of', 3), ('the', 5), ('most', 1), ('popular', 1), ('programming', 4), ('languages.', 1)]\n"
     ]
    }
   ],
   "source": [
    "# [1] `str.split()` & `list.count()`\n",
    "# Original string\n",
    "text = \"Python is a high-level, general-purpose programming language. Its design philosophy emphasizes code readability with the use of significant indentation. Python is dynamically typed and garbage-collected. It supports multiple programming paradigms, including structured (particularly procedural), object-oriented and functional programming. It is often described as a 'batteries included' language due to its comprehensive standard library. Guido van Rossum began working on Python in the late 1980s as a successor to the ABC programming language and first released it in 1991 as Python 0.9.0. Python 2.0 was released in 2000. Python 3.0, released in 2008, was a major revision not completely backward-compatible with earlier versions. Python 2.7.18, released in 2020, was the last release of Python 2. Python consistently ranks as one of the most popular programming languages.\"\n",
    "print(text)\n",
    "\n",
    "# Word list\n",
    "words = text.split()\n",
    "print(str(words))\n",
    "\n",
    "# Word & frequency pairs\n",
    "word_freq = [words.count(word) for word in words]\n",
    "print(str(list(zip(words, word_freq))))"
   ]
  },
  {
   "cell_type": "code",
   "execution_count": 19,
   "id": "6d52b563",
   "metadata": {},
   "outputs": [
    {
     "name": "stdout",
     "output_type": "stream",
     "text": [
      "Python is a high-level, general-purpose programming language. Its design philosophy emphasizes code readability with the use of significant indentation. Python is dynamically typed and garbage-collected. It supports multiple programming paradigms, including structured (particularly procedural), object-oriented and functional programming. It is often described as a 'batteries included' language due to its comprehensive standard library. Guido van Rossum began working on Python in the late 1980s as a successor to the ABC programming language and first released it in 1991 as Python 0.9.0. Python 2.0 was released in 2000. Python 3.0, released in 2008, was a major revision not completely backward-compatible with earlier versions. Python 2.7.18, released in 2020, was the last release of Python 2. Python consistently ranks as one of the most popular programming languages.\n",
      "{'Python': 9, 'is': 3, 'a': 4, 'high-level': 1, 'general-purpose': 1, 'programming': 5, 'language': 3, 'Its': 1, 'design': 1, 'philosophy': 1, 'emphasizes': 1, 'code': 1, 'readability': 1, 'with': 2, 'the': 5, 'use': 1, 'of': 3, 'significant': 1, 'indentation': 1, 'dynamically': 1, 'typed': 1, 'and': 3, 'garbage-collected': 1, 'It': 2, 'supports': 1, 'multiple': 1, 'paradigms': 1, 'including': 1, 'structured': 1, 'particularly': 1, 'procedural': 1, 'object-oriented': 1, 'functional': 1, 'often': 1, 'described': 1, 'as': 4, 'batteries': 1, 'included': 1, 'due': 1, 'to': 2, 'its': 1, 'comprehensive': 1, 'standard': 1, 'library': 1, 'Guido': 1, 'van': 1, 'Rossum': 1, 'began': 1, 'working': 1, 'on': 1, 'in': 5, 'late': 1, '1980s': 1, 'successor': 1, 'ABC': 1, 'first': 1, 'released': 4, 'it': 1, '1991': 1, '0.9.0': 1, '2.0': 1, 'was': 3, '2000': 1, '3.0': 1, '2008': 1, 'major': 1, 'revision': 1, 'not': 1, 'completely': 1, 'backward-compatible': 1, 'earlier': 1, 'versions': 1, '2.7.18': 1, '2020': 1, 'last': 1, 'release': 1, '2': 1, 'consistently': 1, 'ranks': 1, 'one': 1, 'most': 1, 'popular': 1, 'languages': 1}\n"
     ]
    }
   ],
   "source": [
    "# [2] `dict()` & `string.punctuation`\n",
    "import string\n",
    "\n",
    "def word_count(text):  \n",
    "    words = [word.strip(string.punctuation) for word in text.split()]\n",
    "    counts = dict()\n",
    "    for word in words:\n",
    "        if word in counts:\n",
    "            counts[word] = counts[word] + 1\n",
    "        else:\n",
    "            counts[word] = 1\n",
    "    return counts\n",
    "    \n",
    "text = \"Python is a high-level, general-purpose programming language. Its design philosophy emphasizes code readability with the use of significant indentation. Python is dynamically typed and garbage-collected. It supports multiple programming paradigms, including structured (particularly procedural), object-oriented and functional programming. It is often described as a 'batteries included' language due to its comprehensive standard library. Guido van Rossum began working on Python in the late 1980s as a successor to the ABC programming language and first released it in 1991 as Python 0.9.0. Python 2.0 was released in 2000. Python 3.0, released in 2008, was a major revision not completely backward-compatible with earlier versions. Python 2.7.18, released in 2020, was the last release of Python 2. Python consistently ranks as one of the most popular programming languages.\"\n",
    "print(text)\n",
    "print(word_count(text))"
   ]
  },
  {
   "cell_type": "code",
   "execution_count": 18,
   "id": "5d19e36c",
   "metadata": {},
   "outputs": [
    {
     "name": "stdout",
     "output_type": "stream",
     "text": [
      "Python is a high-level, general-purpose programming language. Its design philosophy emphasizes code readability with the use of significant indentation. Python is dynamically typed and garbage-collected. It supports multiple programming paradigms, including structured (particularly procedural), object-oriented and functional programming. It is often described as a 'batteries included' language due to its comprehensive standard library. Guido van Rossum began working on Python in the late 1980s as a successor to the ABC programming language and first released it in 1991 as Python 0.9.0. Python 2.0 was released in 2000. Python 3.0, released in 2008, was a major revision not completely backward-compatible with earlier versions. Python 2.7.18, released in 2020, was the last release of Python 2. Python consistently ranks as one of the most popular programming languages.\n",
      "{'Python': 9, 'is': 3, 'a': 4, 'highlevel': 1, 'generalpurpose': 1, 'programming': 5, 'language': 3, 'Its': 1, 'design': 1, 'philosophy': 1, 'emphasizes': 1, 'code': 1, 'readability': 1, 'with': 2, 'the': 5, 'use': 1, 'of': 3, 'significant': 1, 'indentation': 1, 'dynamically': 1, 'typed': 1, 'and': 3, 'garbagecollected': 1, 'It': 2, 'supports': 1, 'multiple': 1, 'paradigms': 1, 'including': 1, 'structured': 1, 'particularly': 1, 'procedural': 1, 'objectoriented': 1, 'functional': 1, 'often': 1, 'described': 1, 'as': 4, 'batteries': 1, 'included': 1, 'due': 1, 'to': 2, 'its': 1, 'comprehensive': 1, 'standard': 1, 'library': 1, 'Guido': 1, 'van': 1, 'Rossum': 1, 'began': 1, 'working': 1, 'on': 1, 'in': 5, 'late': 1, '1980s': 1, 'successor': 1, 'ABC': 1, 'first': 1, 'released': 4, 'it': 1, '1991': 1, '090': 1, '20': 1, 'was': 3, '2000': 1, '30': 1, '2008': 1, 'major': 1, 'revision': 1, 'not': 1, 'completely': 1, 'backwardcompatible': 1, 'earlier': 1, 'versions': 1, '2718': 1, '2020': 1, 'last': 1, 'release': 1, '2': 1, 'consistently': 1, 'ranks': 1, 'one': 1, 'most': 1, 'popular': 1, 'languages': 1}\n"
     ]
    }
   ],
   "source": [
    "# [3] `dict()` & `string.punctuation` & `str.maketrans()` & `str.translate()` \n",
    "import string\n",
    "\n",
    "def word_count(text):\n",
    "    table = str.maketrans(\"\", \"\", string.punctuation)\n",
    "    words = text.translate(table).split()\n",
    "    counts = dict()\n",
    "    for word in words:\n",
    "        if word in counts:\n",
    "            counts[word] = counts[word] + 1\n",
    "        else:\n",
    "            counts[word] = 1\n",
    "    return counts\n",
    "    \n",
    "text = \"Python is a high-level, general-purpose programming language. Its design philosophy emphasizes code readability with the use of significant indentation. Python is dynamically typed and garbage-collected. It supports multiple programming paradigms, including structured (particularly procedural), object-oriented and functional programming. It is often described as a 'batteries included' language due to its comprehensive standard library. Guido van Rossum began working on Python in the late 1980s as a successor to the ABC programming language and first released it in 1991 as Python 0.9.0. Python 2.0 was released in 2000. Python 3.0, released in 2008, was a major revision not completely backward-compatible with earlier versions. Python 2.7.18, released in 2020, was the last release of Python 2. Python consistently ranks as one of the most popular programming languages.\"\n",
    "print(text)\n",
    "print(word_count(text))"
   ]
  },
  {
   "cell_type": "code",
   "execution_count": 4,
   "id": "7c58a9b6",
   "metadata": {},
   "outputs": [
    {
     "name": "stdout",
     "output_type": "stream",
     "text": [
      "Python is a high-level, general-purpose programming language. Its design philosophy emphasizes code readability with the use of significant indentation. Python is dynamically typed and garbage-collected. It supports multiple programming paradigms, including structured (particularly procedural), object-oriented and functional programming. It is often described as a 'batteries included' language due to its comprehensive standard library. Guido van Rossum began working on Python in the late 1980s as a successor to the ABC programming language and first released it in 1991 as Python 0.9.0. Python 2.0 was released in 2000. Python 3.0, released in 2008, was a major revision not completely backward-compatible with earlier versions. Python 2.7.18, released in 2020, was the last release of Python 2. Python consistently ranks as one of the most popular programming languages.\n",
      "{'Python': 9, 'is': 3, 'a': 4, 'high': 1, 'level': 1, '': 21, 'general': 1, 'purpose': 1, 'programming': 5, 'language': 3, 'Its': 1, 'design': 1, 'philosophy': 1, 'emphasizes': 1, 'code': 1, 'readability': 1, 'with': 2, 'the': 5, 'use': 1, 'of': 3, 'significant': 1, 'indentation': 1, 'dynamically': 1, 'typed': 1, 'and': 3, 'garbage': 1, 'collected': 1, 'It': 2, 'supports': 1, 'multiple': 1, 'paradigms': 1, 'including': 1, 'structured': 1, 'particularly': 1, 'procedural': 1, 'object': 1, 'oriented': 1, 'functional': 1, 'often': 1, 'described': 1, 'as': 4, 'batteries': 1, 'included': 1, 'due': 1, 'to': 2, 'its': 1, 'comprehensive': 1, 'standard': 1, 'library': 1, 'Guido': 1, 'van': 1, 'Rossum': 1, 'began': 1, 'working': 1, 'on': 1, 'in': 5, 'late': 1, '1980s': 1, 'successor': 1, 'ABC': 1, 'first': 1, 'released': 4, 'it': 1, '1991': 1, '0': 4, '9': 1, '2': 3, 'was': 3, '2000': 1, '3': 1, '2008': 1, 'major': 1, 'revision': 1, 'not': 1, 'completely': 1, 'backward': 1, 'compatible': 1, 'earlier': 1, 'versions': 1, '7': 1, '18': 1, '2020': 1, 'last': 1, 'release': 1, 'consistently': 1, 'ranks': 1, 'one': 1, 'most': 1, 'popular': 1, 'languages': 1}\n"
     ]
    }
   ],
   "source": [
    "# [4] Regular expression\n",
    "import re\n",
    "\n",
    "def word_count(text):  \n",
    "    words = re.split(\"\\W\", text)\n",
    "    counts = dict()\n",
    "    for word in words:\n",
    "        if word in counts:\n",
    "            counts[word] = counts[word] + 1\n",
    "        else:\n",
    "            counts[word] = 1\n",
    "    return counts\n",
    "    \n",
    "text = \"Python is a high-level, general-purpose programming language. Its design philosophy emphasizes code readability with the use of significant indentation. Python is dynamically typed and garbage-collected. It supports multiple programming paradigms, including structured (particularly procedural), object-oriented and functional programming. It is often described as a 'batteries included' language due to its comprehensive standard library. Guido van Rossum began working on Python in the late 1980s as a successor to the ABC programming language and first released it in 1991 as Python 0.9.0. Python 2.0 was released in 2000. Python 3.0, released in 2008, was a major revision not completely backward-compatible with earlier versions. Python 2.7.18, released in 2020, was the last release of Python 2. Python consistently ranks as one of the most popular programming languages.\"\n",
    "print(text)\n",
    "print(word_count(text))"
   ]
  },
  {
   "cell_type": "code",
   "execution_count": 5,
   "id": "9a15e264",
   "metadata": {},
   "outputs": [
    {
     "name": "stdout",
     "output_type": "stream",
     "text": [
      "Collecting nltk\n",
      "  Downloading nltk-3.8.1-py3-none-any.whl (1.5 MB)\n",
      "\u001b[2K     \u001b[38;2;114;156;31m━━━━━━━━━━━━━━━━━━━━━━━━━━━━━━━━━━━━━━━━\u001b[0m \u001b[32m1.5/1.5 MB\u001b[0m \u001b[31m298.0 kB/s\u001b[0m eta \u001b[36m0:00:00\u001b[0mm eta \u001b[36m0:00:01\u001b[0m0:01\u001b[0m:01\u001b[0m\n",
      "\u001b[?25hCollecting regex>=2021.8.3\n",
      "  Downloading regex-2023.8.8-cp38-cp38-manylinux_2_17_x86_64.manylinux2014_x86_64.whl (774 kB)\n",
      "\u001b[2K     \u001b[38;2;114;156;31m━━━━━━━━━━━━━━━━━━━━━━━━━━━━━━━━━━━━━\u001b[0m \u001b[32m774.3/774.3 kB\u001b[0m \u001b[31m267.2 kB/s\u001b[0m eta \u001b[36m0:00:00\u001b[0mm eta \u001b[36m0:00:01\u001b[0m[36m0:00:01\u001b[0m\n",
      "\u001b[?25hCollecting click\n",
      "  Downloading click-8.1.7-py3-none-any.whl (97 kB)\n",
      "\u001b[2K     \u001b[38;2;114;156;31m━━━━━━━━━━━━━━━━━━━━━━━━━━━━━━━━━━━━━━━━\u001b[0m \u001b[32m97.9/97.9 kB\u001b[0m \u001b[31m1.0 MB/s\u001b[0m eta \u001b[36m0:00:00\u001b[0m MB/s\u001b[0m eta \u001b[36m0:00:01\u001b[0m\n",
      "\u001b[?25hCollecting tqdm\n",
      "  Downloading tqdm-4.66.1-py3-none-any.whl (78 kB)\n",
      "\u001b[2K     \u001b[38;2;114;156;31m━━━━━━━━━━━━━━━━━━━━━━━━━━━━━━━━━━━━━━━━\u001b[0m \u001b[32m78.3/78.3 kB\u001b[0m \u001b[31m2.6 MB/s\u001b[0m eta \u001b[36m0:00:00\u001b[0m\n",
      "\u001b[?25hRequirement already satisfied: joblib in /home/yungshun/yungshun-py3/lib/python3.8/site-packages (from nltk) (1.2.0)\n",
      "Installing collected packages: tqdm, regex, click, nltk\n",
      "Successfully installed click-8.1.7 nltk-3.8.1 regex-2023.8.8 tqdm-4.66.1\n",
      "\n",
      "\u001b[1m[\u001b[0m\u001b[34;49mnotice\u001b[0m\u001b[1;39;49m]\u001b[0m\u001b[39;49m A new release of pip available: \u001b[0m\u001b[31;49m22.3.1\u001b[0m\u001b[39;49m -> \u001b[0m\u001b[32;49m23.2.1\u001b[0m\n",
      "\u001b[1m[\u001b[0m\u001b[34;49mnotice\u001b[0m\u001b[1;39;49m]\u001b[0m\u001b[39;49m To update, run: \u001b[0m\u001b[32;49mpip install --upgrade pip\u001b[0m\n"
     ]
    }
   ],
   "source": [
    "# [5] `nltk.tokenize.word_tokenize()`\n",
    "!pip install nltk"
   ]
  },
  {
   "cell_type": "code",
   "execution_count": 7,
   "id": "c3207e47",
   "metadata": {},
   "outputs": [
    {
     "name": "stderr",
     "output_type": "stream",
     "text": [
      "[nltk_data] Downloading package punkt to /home/yungshun/nltk_data...\n",
      "[nltk_data]   Unzipping tokenizers/punkt.zip.\n"
     ]
    },
    {
     "data": {
      "text/plain": [
       "True"
      ]
     },
     "execution_count": 7,
     "metadata": {},
     "output_type": "execute_result"
    }
   ],
   "source": [
    "import nltk\n",
    "\n",
    "nltk.download(\"punkt\")"
   ]
  },
  {
   "cell_type": "code",
   "execution_count": 8,
   "id": "157867c7",
   "metadata": {},
   "outputs": [
    {
     "name": "stdout",
     "output_type": "stream",
     "text": [
      "Python is a high-level, general-purpose programming language. Its design philosophy emphasizes code readability with the use of significant indentation. Python is dynamically typed and garbage-collected. It supports multiple programming paradigms, including structured (particularly procedural), object-oriented and functional programming. It is often described as a 'batteries included' language due to its comprehensive standard library. Guido van Rossum began working on Python in the late 1980s as a successor to the ABC programming language and first released it in 1991 as Python 0.9.0. Python 2.0 was released in 2000. Python 3.0, released in 2008, was a major revision not completely backward-compatible with earlier versions. Python 2.7.18, released in 2020, was the last release of Python 2. Python consistently ranks as one of the most popular programming languages.\n",
      "{'Python': 9, 'is': 3, 'a': 4, 'high-level': 1, ',': 7, 'general-purpose': 1, 'programming': 5, 'language': 3, '.': 10, 'Its': 1, 'design': 1, 'philosophy': 1, 'emphasizes': 1, 'code': 1, 'readability': 1, 'with': 2, 'the': 5, 'use': 1, 'of': 3, 'significant': 1, 'indentation': 1, 'dynamically': 1, 'typed': 1, 'and': 3, 'garbage-collected': 1, 'It': 2, 'supports': 1, 'multiple': 1, 'paradigms': 1, 'including': 1, 'structured': 1, '(': 1, 'particularly': 1, 'procedural': 1, ')': 1, 'object-oriented': 1, 'functional': 1, 'often': 1, 'described': 1, 'as': 4, \"'batteries\": 1, 'included': 1, \"'\": 1, 'due': 1, 'to': 2, 'its': 1, 'comprehensive': 1, 'standard': 1, 'library': 1, 'Guido': 1, 'van': 1, 'Rossum': 1, 'began': 1, 'working': 1, 'on': 1, 'in': 5, 'late': 1, '1980s': 1, 'successor': 1, 'ABC': 1, 'first': 1, 'released': 4, 'it': 1, '1991': 1, '0.9.0': 1, '2.0': 1, 'was': 3, '2000': 1, '3.0': 1, '2008': 1, 'major': 1, 'revision': 1, 'not': 1, 'completely': 1, 'backward-compatible': 1, 'earlier': 1, 'versions': 1, '2.7.18': 1, '2020': 1, 'last': 1, 'release': 1, '2': 1, 'consistently': 1, 'ranks': 1, 'one': 1, 'most': 1, 'popular': 1, 'languages': 1}\n"
     ]
    }
   ],
   "source": [
    "def word_count(text):  \n",
    "    words = nltk.tokenize.word_tokenize(text)\n",
    "    counts = dict()\n",
    "    for word in words:\n",
    "        if word in counts:\n",
    "            counts[word] = counts[word] + 1\n",
    "        else:\n",
    "            counts[word] = 1\n",
    "    return counts\n",
    "    \n",
    "text = \"Python is a high-level, general-purpose programming language. Its design philosophy emphasizes code readability with the use of significant indentation. Python is dynamically typed and garbage-collected. It supports multiple programming paradigms, including structured (particularly procedural), object-oriented and functional programming. It is often described as a 'batteries included' language due to its comprehensive standard library. Guido van Rossum began working on Python in the late 1980s as a successor to the ABC programming language and first released it in 1991 as Python 0.9.0. Python 2.0 was released in 2000. Python 3.0, released in 2008, was a major revision not completely backward-compatible with earlier versions. Python 2.7.18, released in 2020, was the last release of Python 2. Python consistently ranks as one of the most popular programming languages.\"\n",
    "print(text)\n",
    "print(word_count(text))"
   ]
  },
  {
   "cell_type": "markdown",
   "id": "3af68275",
   "metadata": {},
   "source": [
    "**7. Write a Python program to count the number of each character in a text file.**"
   ]
  },
  {
   "cell_type": "code",
   "execution_count": 16,
   "id": "7c753985",
   "metadata": {},
   "outputs": [
    {
     "name": "stdout",
     "output_type": "stream",
     "text": [
      "File Name: python_basic_i.py\n",
      "Counter({' ': 176,\n",
      "         't': 115,\n",
      "         'e': 91,\n",
      "         'r': 81,\n",
      "         'i': 81,\n",
      "         'p': 68,\n",
      "         's': 60,\n",
      "         'a': 60,\n",
      "         'o': 57,\n",
      "         'n': 52,\n",
      "         'h': 51,\n",
      "         '\\n': 50,\n",
      "         '_': 46,\n",
      "         'm': 44,\n",
      "         'l': 41,\n",
      "         '(': 40,\n",
      "         '\"': 40,\n",
      "         '.': 40,\n",
      "         ')': 40,\n",
      "         'c': 35,\n",
      "         ',': 33,\n",
      "         'u': 25,\n",
      "         'f': 25,\n",
      "         'g': 20,\n",
      "         ':': 17,\n",
      "         'y': 16,\n",
      "         'd': 16,\n",
      "         'w': 15,\n",
      "         'b': 14,\n",
      "         '/': 11,\n",
      "         '0': 9,\n",
      "         'k': 8,\n",
      "         '`': 8,\n",
      "         '#': 7,\n",
      "         'v': 6,\n",
      "         'z': 5,\n",
      "         '[': 4,\n",
      "         ']': 4,\n",
      "         '6': 3,\n",
      "         '=': 3,\n",
      "         '1': 3,\n",
      "         '7': 2,\n",
      "         '&': 2,\n",
      "         '-': 2,\n",
      "         '4': 1,\n",
      "         '5': 1,\n",
      "         '8': 1,\n",
      "         '2': 1})\n"
     ]
    }
   ],
   "source": [
    "# `collections.Counter()` & `open()` & `read()` & `pprint.pformat()`\n",
    "import collections, pprint\n",
    "\n",
    "file_input = input(\"File Name: \")\n",
    "with open(file_input, \"r\") as info:\n",
    "    count = collections.Counter(info.read().lower())\n",
    "    value = pprint.pformat(count)\n",
    "print(value)"
   ]
  },
  {
   "cell_type": "markdown",
   "id": "63a87f26",
   "metadata": {},
   "source": [
    "**8. Write a Python program that retrieves the top stories from Google News.**"
   ]
  },
  {
   "cell_type": "code",
   "execution_count": null,
   "id": "a4d753df",
   "metadata": {},
   "outputs": [],
   "source": [
    "# [1] `BeautifulSoup`"
   ]
  },
  {
   "cell_type": "code",
   "execution_count": null,
   "id": "3a253344",
   "metadata": {},
   "outputs": [],
   "source": [
    "# [2] `lxml`"
   ]
  },
  {
   "cell_type": "markdown",
   "id": "c6cb68c1",
   "metadata": {},
   "source": [
    "**9. Write a Python program to get a list of locally installed Python modules.**"
   ]
  },
  {
   "cell_type": "code",
   "execution_count": 14,
   "id": "8f5a8ab6",
   "metadata": {},
   "outputs": [
    {
     "name": "stdout",
     "output_type": "stream",
     "text": [
      "absl-py==1.2.0\n",
      "argon2-cffi-bindings==21.2.0\n",
      "argon2-cffi==21.3.0\n",
      "asttokens==2.0.8\n",
      "astunparse==1.6.3\n",
      "attrs==22.1.0\n",
      "backcall==0.2.0\n",
      "beautifulsoup4==4.11.1\n",
      "bleach==5.0.1\n",
      "cachetools==5.2.0\n",
      "catboost==1.1\n",
      "certifi==2022.9.14\n",
      "cffi==1.15.1\n",
      "charset-normalizer==2.1.1\n",
      "contourpy==1.0.5\n",
      "cvxopt==1.3.0\n",
      "cvxpy==1.2.1\n",
      "cycler==0.11.0\n",
      "deap==1.3.3\n",
      "debugpy==1.6.3\n",
      "decorator==5.1.1\n",
      "defusedxml==0.7.1\n",
      "ecos==2.0.10\n",
      "entrypoints==0.4\n",
      "et-xmlfile==1.1.0\n",
      "executing==1.0.0\n",
      "fancyimpute==0.7.0\n",
      "fastjsonschema==2.16.2\n",
      "flatbuffers==2.0.7\n",
      "fonttools==4.37.3\n",
      "gast==0.4.0\n",
      "google-auth-oauthlib==0.4.6\n",
      "google-auth==2.11.1\n",
      "google-pasta==0.2.0\n",
      "graphviz==0.20.1\n",
      "grpcio==1.48.1\n",
      "h5py==3.7.0\n",
      "idna==3.4\n",
      "imbalanced-learn==0.9.1\n",
      "importlib-metadata==4.12.0\n",
      "importlib-resources==5.9.0\n",
      "iniconfig==1.1.1\n",
      "ipykernel==6.15.3\n",
      "ipython-genutils==0.2.0\n",
      "ipython==8.5.0\n",
      "jedi==0.18.1\n",
      "jinja2==3.1.2\n",
      "joblib==1.2.0\n",
      "jsonschema==4.16.0\n",
      "jupyter-client==7.3.5\n",
      "jupyter-core==4.11.1\n",
      "jupyterlab-pygments==0.2.2\n",
      "keras-preprocessing==1.1.2\n",
      "keras==2.10.0\n",
      "kiwisolver==1.4.4\n",
      "knnimpute==0.1.0\n",
      "libclang==14.0.6\n",
      "lightgbm==3.3.2\n",
      "lxml==4.9.1\n",
      "markdown==3.4.1\n",
      "markupsafe==2.1.1\n",
      "matplotlib-inline==0.1.6\n",
      "matplotlib==3.6.0\n",
      "missingno==0.5.1\n",
      "mistune==2.0.4\n",
      "nbclient==0.6.8\n",
      "nbconvert==7.0.0\n",
      "nbformat==5.5.0\n",
      "nest-asyncio==1.5.5\n",
      "nose==1.3.7\n",
      "notebook==6.4.12\n",
      "numpy==1.23.3\n",
      "oauthlib==3.2.1\n",
      "openpyxl==3.0.10\n",
      "opt-einsum==3.3.0\n",
      "osqp==0.6.2.post5\n",
      "packaging==21.3\n",
      "pandas==1.5.0\n",
      "pandocfilters==1.5.0\n",
      "parso==0.8.3\n",
      "patsy==0.5.2\n",
      "pexpect==4.8.0\n",
      "pickleshare==0.7.5\n",
      "pillow==9.2.0\n",
      "pip==22.3.1\n",
      "pkgutil-resolve-name==1.3.10\n",
      "plotly==5.10.0\n",
      "pluggy==1.0.0\n",
      "prometheus-client==0.14.1\n",
      "prompt-toolkit==3.0.31\n",
      "protobuf==3.19.5\n",
      "psutil==5.9.2\n",
      "ptyprocess==0.7.0\n",
      "pure-eval==0.2.2\n",
      "py==1.11.0\n",
      "pyasn1-modules==0.2.8\n",
      "pyasn1==0.4.8\n",
      "pycparser==2.21\n",
      "pygments==2.13.0\n",
      "pyparsing==3.0.9\n",
      "pyrsistent==0.18.1\n",
      "pytest==7.1.3\n",
      "python-dateutil==2.8.2\n",
      "pytz==2022.2.1\n",
      "pyzmq==24.0.0\n",
      "qdldl==0.1.5.post2\n",
      "requests-oauthlib==1.3.1\n",
      "requests==2.28.1\n",
      "rsa==4.9\n",
      "scikit-learn==1.1.2\n",
      "scipy==1.9.1\n",
      "scs==3.2.0\n",
      "seaborn==0.12.0\n",
      "send2trash==1.8.0\n",
      "setuptools==49.2.1\n",
      "six==1.16.0\n",
      "soupsieve==2.3.2.post1\n",
      "stack-data==0.5.0\n",
      "statsmodels==0.13.2\n",
      "tenacity==8.1.0\n",
      "tensorboard-data-server==0.6.1\n",
      "tensorboard-plugin-wit==1.8.1\n",
      "tensorboard==2.10.0\n",
      "tensorflow-estimator==2.10.0\n",
      "tensorflow-io-gcs-filesystem==0.27.0\n",
      "tensorflow==2.10.0\n",
      "termcolor==2.0.1\n",
      "terminado==0.15.0\n",
      "threadpoolctl==3.1.0\n",
      "tinycss2==1.1.1\n",
      "tomli==2.0.1\n",
      "tornado==6.2\n",
      "traitlets==5.4.0\n",
      "typing-extensions==4.3.0\n",
      "urllib3==1.26.12\n",
      "wcwidth==0.2.5\n",
      "webencodings==0.5.1\n",
      "werkzeug==2.2.2\n",
      "wheel==0.37.1\n",
      "wrapt==1.14.1\n",
      "xgboost==1.6.2\n",
      "xlrd==2.0.1\n",
      "zipp==3.8.1\n"
     ]
    }
   ],
   "source": [
    "# `pkg_resources` module\n",
    "import pkg_resources\n",
    "\n",
    "installed_pkg = pkg_resources.working_set\n",
    "installed_pkg_lst = sorted([\"%s==%s\" % (i.key, i.version) for i in installed_pkg])\n",
    "for pkg in installed_pkg_lst:\n",
    "    print(pkg)"
   ]
  },
  {
   "cell_type": "markdown",
   "id": "63610959",
   "metadata": {},
   "source": [
    "**10. Write a Python program to display some information about the OS where the script is running.**"
   ]
  },
  {
   "cell_type": "code",
   "execution_count": 18,
   "id": "2d777e03",
   "metadata": {},
   "outputs": [
    {
     "name": "stdout",
     "output_type": "stream",
     "text": [
      "architecture: ('64bit', 'ELF')\n",
      "mac_ver: ('', ('', '', ''), '')\n",
      "machine: x86_64\n",
      "node: yungshun-GF63-Thin-10SCSR\n",
      "platform: Linux-5.4.0-150-generic-x86_64-with-glibc2.10\n",
      "processor: x86_64\n",
      "python_build: ('default', 'Apr 13 2021 19:58:26')\n",
      "python_compiler: GCC 7.3.0\n",
      "python_version: 3.8.8\n",
      "release: 5.4.0-150-generic\n",
      "system: Linux\n",
      "uname: uname_result(system='Linux', node='yungshun-GF63-Thin-10SCSR', release='5.4.0-150-generic', version='#167~18.04.1-Ubuntu SMP Wed May 24 00:51:42 UTC 2023', machine='x86_64', processor='x86_64')\n",
      "version: #167~18.04.1-Ubuntu SMP Wed May 24 00:51:42 UTC 2023\n"
     ]
    }
   ],
   "source": [
    "# `platform` module\n",
    "import platform\n",
    "\n",
    "os_profile = [\"architecture\", \"mac_ver\", \"machine\", \"node\", \"platform\", \"processor\", \"python_build\", \"python_compiler\", \"python_version\", \"release\", \"system\", \"uname\", \"version\"]\n",
    "for key in os_profile:\n",
    "    if hasattr(platform, key):\n",
    "        print(key + \": \" + str(getattr(platform, key)()))"
   ]
  },
  {
   "cell_type": "markdown",
   "id": "c98ad017",
   "metadata": {},
   "source": [
    "**11. Write a Python program to check the sum of three elements (each from an array) from three arrays is equal to a target value. Print all those three-element combinations.**\n",
    "\n",
    "<i>Sample data:</i>\n",
    "\n",
    "X = [10, 20, 20, 20], Y = [10, 20, 30, 40], Z = [10, 30, 40, 20], target = 70"
   ]
  },
  {
   "cell_type": "code",
   "execution_count": 31,
   "id": "f9660ff0",
   "metadata": {},
   "outputs": [
    {
     "data": {
      "text/plain": [
       "{(10, 20, 40),\n",
       " (10, 30, 30),\n",
       " (10, 40, 20),\n",
       " (20, 10, 40),\n",
       " (20, 20, 30),\n",
       " (20, 30, 20),\n",
       " (20, 40, 10)}"
      ]
     },
     "execution_count": 31,
     "metadata": {},
     "output_type": "execute_result"
    }
   ],
   "source": [
    "# [1] for loop\n",
    "def elements_sum_to_value(X, Y, Z, target):\n",
    "    results = set()\n",
    "    for i in X:\n",
    "        X_selected = target - i\n",
    "        for j in Y:\n",
    "            X_Y_selected = X_selected - j\n",
    "            for k in Z:\n",
    "                if X_Y_selected - k == 0:\n",
    "                    results.add((i, j, k))\n",
    "    return results\n",
    "                    \n",
    "X = [10, 20, 20, 20]\n",
    "Y = [10, 20, 30, 40]\n",
    "Z = [10, 30, 40, 20]\n",
    "target = 70\n",
    "elements_sum_to_value(X, Y, Z, target)"
   ]
  },
  {
   "cell_type": "code",
   "execution_count": 30,
   "id": "03655b11",
   "metadata": {},
   "outputs": [
    {
     "data": {
      "text/plain": [
       "{(10, 20, 40),\n",
       " (10, 30, 30),\n",
       " (10, 40, 20),\n",
       " (20, 10, 40),\n",
       " (20, 20, 30),\n",
       " (20, 30, 20),\n",
       " (20, 40, 10)}"
      ]
     },
     "execution_count": 30,
     "metadata": {},
     "output_type": "execute_result"
    }
   ],
   "source": [
    "# [2] `itertools.product()` & `itertools.starmap()` & `functools.partial()`\n",
    "import itertools, functools\n",
    "\n",
    "def check_sum(target, *nums):\n",
    "    if sum(num for num in nums) == target:\n",
    "        return (True, nums)\n",
    "    else:\n",
    "        return (False, nums)\n",
    "\n",
    "def elements_sum_to_value(X, Y, Z, target):\n",
    "    results = set()\n",
    "    cartesian_product = itertools.product(X, Y, Z)\n",
    "    # print(*cartesian_product)\n",
    "    # (10, 10, 10) (10, 10, 30) (10, 10, 40) (10, 10, 20) (10, 20, 10) (10, 20, 30) (10, 20, 40) (10, 20, 20) (10, 30, 10) (10, 30, 30) (10, 30, 40) (10, 30, 20) (10, 40, 10) (10, 40, 30) (10, 40, 40) (10, 40, 20) (20, 10, 10) (20, 10, 30) (20, 10, 40) (20, 10, 20) (20, 20, 10) (20, 20, 30) (20, 20, 40) (20, 20, 20) (20, 30, 10) (20, 30, 30) (20, 30, 40) (20, 30, 20) (20, 40, 10) (20, 40, 30) (20, 40, 40) (20, 40, 20) (20, 10, 10) (20, 10, 30) (20, 10, 40) (20, 10, 20) (20, 20, 10) (20, 20, 30) (20, 20, 40) (20, 20, 20) (20, 30, 10) (20, 30, 30) (20, 30, 40) (20, 30, 20) (20, 40, 10) (20, 40, 30) (20, 40, 40) (20, 40, 20) (20, 10, 10) (20, 10, 30) (20, 10, 40) (20, 10, 20) (20, 20, 10) (20, 20, 30) (20, 20, 40) (20, 20, 20) (20, 30, 10) (20, 30, 30) (20, 30, 40) (20, 30, 20) (20, 40, 10) (20, 40, 30) (20, 40, 40) (20, 40, 20)\n",
    "    partial_check_sum = functools.partial(check_sum, target)\n",
    "    # print(partial_check_sum)\n",
    "    # functools.partial(<function check_sum at 0x7f8d73f05160>, 70)\n",
    "    sums = list(itertools.starmap(partial_check_sum, cartesian_product))\n",
    "    # print(sums)\n",
    "    # [(False, (10, 10, 10)), (False, (10, 10, 30)), (False, (10, 10, 40)), (False, (10, 10, 20)), (False, (10, 20, 10)), (False, (10, 20, 30)), (True, (10, 20, 40)), (False, (10, 20, 20)), (False, (10, 30, 10)), (True, (10, 30, 30)), (False, (10, 30, 40)), (False, (10, 30, 20)), (False, (10, 40, 10)), (False, (10, 40, 30)), (False, (10, 40, 40)), (True, (10, 40, 20)), (False, (20, 10, 10)), (False, (20, 10, 30)), (True, (20, 10, 40)), (False, (20, 10, 20)), (False, (20, 20, 10)), (True, (20, 20, 30)), (False, (20, 20, 40)), (False, (20, 20, 20)), (False, (20, 30, 10)), (False, (20, 30, 30)), (False, (20, 30, 40)), (True, (20, 30, 20)), (True, (20, 40, 10)), (False, (20, 40, 30)), (False, (20, 40, 40)), (False, (20, 40, 20)), (False, (20, 10, 10)), (False, (20, 10, 30)), (True, (20, 10, 40)), (False, (20, 10, 20)), (False, (20, 20, 10)), (True, (20, 20, 30)), (False, (20, 20, 40)), (False, (20, 20, 20)), (False, (20, 30, 10)), (False, (20, 30, 30)), (False, (20, 30, 40)), (True, (20, 30, 20)), (True, (20, 40, 10)), (False, (20, 40, 30)), (False, (20, 40, 40)), (False, (20, 40, 20)), (False, (20, 10, 10)), (False, (20, 10, 30)), (True, (20, 10, 40)), (False, (20, 10, 20)), (False, (20, 20, 10)), (True, (20, 20, 30)), (False, (20, 20, 40)), (False, (20, 20, 20)), (False, (20, 30, 10)), (False, (20, 30, 30)), (False, (20, 30, 40)), (True, (20, 30, 20)), (True, (20, 40, 10)), (False, (20, 40, 30)), (False, (20, 40, 40)), (False, (20, 40, 20))]\n",
    "    for s in sums:\n",
    "        if s[0] == True:\n",
    "            results.add(s[1])\n",
    "    return results\n",
    "                    \n",
    "X = [10, 20, 20, 20]\n",
    "Y = [10, 20, 30, 40]\n",
    "Z = [10, 30, 40, 20]\n",
    "target = 70\n",
    "elements_sum_to_value(X, Y, Z, target)"
   ]
  },
  {
   "cell_type": "markdown",
   "id": "83ea7248",
   "metadata": {},
   "source": [
    "**12. Write a Python program that generates a list of all possible permutations from a given collection of distinct numbers.**"
   ]
  },
  {
   "cell_type": "code",
   "execution_count": null,
   "id": "87e6725a",
   "metadata": {},
   "outputs": [],
   "source": []
  },
  {
   "cell_type": "markdown",
   "id": "a4c0b7f5",
   "metadata": {},
   "source": [
    "**13. Write a Python program to get all possible two-digit letter combinations from a 1-9 digit string.**\n",
    "<pre>string_maps = {\n",
    "    \"1\": \"abc\",\n",
    "    \"2\": \"def\",\n",
    "    \"3\": \"ghi\",\n",
    "    \"4\": \"jkl\",\n",
    "    \"5\": \"mno\",\n",
    "    \"6\": \"pqrs\",\n",
    "    \"7\": \"tuv\",\n",
    "    \"8\": \"wxy\",\n",
    "    \"9\": \"z\"\n",
    "}\n",
    "</pre>"
   ]
  },
  {
   "cell_type": "code",
   "execution_count": null,
   "id": "4177a25f",
   "metadata": {},
   "outputs": [],
   "source": []
  },
  {
   "cell_type": "markdown",
   "id": "3f96c471",
   "metadata": {},
   "source": [
    "**14. Write a Python program to add two positive integers without using the '+' operator.**\n",
    "\n",
    "<i>Note:</i>\n",
    "\n",
    "Use bitwise operations to add two numbers."
   ]
  },
  {
   "cell_type": "code",
   "execution_count": 43,
   "id": "773dc21f",
   "metadata": {},
   "outputs": [
    {
     "name": "stdout",
     "output_type": "stream",
     "text": [
      "4\n",
      "24\n",
      "136\n"
     ]
    }
   ],
   "source": [
    "# Bitwise operators\n",
    "def add_without_plus_operator(x, y):\n",
    "    # 1st run: (1, 3)\n",
    "    # 2nd run: (2, 2)\n",
    "    # 3rd run: (0, 4)\n",
    "    # Take 1st run for example\n",
    "    while y != 0:\n",
    "        # Carry or not\n",
    "        carry = x & y\n",
    "        # print(data)\n",
    "        # 01 & 11 = 01\n",
    "        # XOR gets the sum without considering carry\n",
    "        x = x ^ y\n",
    "        # print(x)\n",
    "        # 01 ^ 11 = 10\n",
    "        y = carry << 1\n",
    "        # print(y)\n",
    "        # 01 << 1 = 10 = 2 \n",
    "    return x\n",
    "\n",
    "print(add_without_plus_operator(1, 3))\n",
    "print(add_without_plus_operator(8, 16))\n",
    "print(add_without_plus_operator(36, 100))"
   ]
  },
  {
   "cell_type": "markdown",
   "id": "5f0d4658",
   "metadata": {},
   "source": [
    "**15. Write a Python program to check the priority of the four operators (+, -, *, /).**"
   ]
  },
  {
   "cell_type": "code",
   "execution_count": 46,
   "id": "61e65dd9",
   "metadata": {},
   "outputs": [
    {
     "name": "stdout",
     "output_type": "stream",
     "text": [
      "* has higher precedence than +\n",
      "* has higher precedence than -\n",
      "/ has higher precedence than +\n",
      "/ has higher precedence than -\n",
      "* has same precedence as /\n",
      "+ has same precedence as -\n"
     ]
    }
   ],
   "source": [
    "import operator\n",
    "\n",
    "a = 1\n",
    "b = 2\n",
    "c = 3\n",
    "# Higher precedence works the same as in parenthesis\n",
    "if (a + b * c) == (a + (b * c)):\n",
    "    print(\"* has higher precedence than +\")\n",
    "if (a - b * c) == (a - (b * c)):\n",
    "    print(\"* has higher precedence than -\")\n",
    "if (a + b / c) == (a + (b / c)):\n",
    "    print(\"/ has higher precedence than +\")\n",
    "if (a - b / c) == (a - (b / c)):\n",
    "    print(\"/ has higher precedence than -\")\n",
    "# Associativity means operations with the same precedence\n",
    "if (a * b / c) == ((a * b) / c) and (a * b / c) == (a * (b / c)):\n",
    "    print(\"* has same precedence as /\")   \n",
    "if (a + b - c) == ((a + b) - c) and (a + b - c) == (a + (b - c)):\n",
    "    print(\"+ has same precedence as -\")"
   ]
  },
  {
   "cell_type": "markdown",
   "id": "5ef2dd86",
   "metadata": {},
   "source": [
    "**16. Write a Python program to get the third side of a right-angled triangle from two given sides.**"
   ]
  },
  {
   "cell_type": "code",
   "execution_count": null,
   "id": "e419276f",
   "metadata": {},
   "outputs": [],
   "source": []
  }
 ],
 "metadata": {
  "kernelspec": {
   "display_name": "Python 3 (ipykernel)",
   "language": "python",
   "name": "python3"
  },
  "language_info": {
   "codemirror_mode": {
    "name": "ipython",
    "version": 3
   },
   "file_extension": ".py",
   "mimetype": "text/x-python",
   "name": "python",
   "nbconvert_exporter": "python",
   "pygments_lexer": "ipython3",
   "version": "3.8.8"
  }
 },
 "nbformat": 4,
 "nbformat_minor": 5
}

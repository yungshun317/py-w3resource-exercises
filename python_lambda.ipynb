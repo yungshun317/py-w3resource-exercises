{
 "cells": [
  {
   "cell_type": "markdown",
   "id": "5173eee4",
   "metadata": {},
   "source": [
    "# Python Lambda\n",
    "\n",
    "**1. Write a Python program to create a lambda function that adds 15 to a given number passed in as an argument, also create a lambda function that multiplies argument x with argument y and prints the result.**\n",
    "\n",
    "<i>Sample Output:</i>\n",
    "\n",
    "25\n",
    "\n",
    "48"
   ]
  },
  {
   "cell_type": "code",
   "execution_count": 3,
   "id": "c06bacdd",
   "metadata": {},
   "outputs": [
    {
     "name": "stdout",
     "output_type": "stream",
     "text": [
      "25\n",
      "48\n"
     ]
    }
   ],
   "source": [
    "# [1] Invoke immediately\n",
    "print((lambda x: x + 15)(10))\n",
    "print((lambda x, y: x * y)(4, 12))"
   ]
  },
  {
   "cell_type": "code",
   "execution_count": 4,
   "id": "9b4d5df6",
   "metadata": {},
   "outputs": [
    {
     "name": "stdout",
     "output_type": "stream",
     "text": [
      "25\n",
      "48\n"
     ]
    }
   ],
   "source": [
    "# [2] Bind a lambda expression directly to an identifier (not good approach)\n",
    "r = lambda x: x + 15\n",
    "print(r(10))\n",
    "\n",
    "r = lambda x, y: x * y\n",
    "print(r(4, 12))"
   ]
  },
  {
   "cell_type": "markdown",
   "id": "39e46cb2",
   "metadata": {},
   "source": [
    "**2. Write a Python program to create a function that takes one argument, and that argument will be multiplied with an unknown given number.**\n",
    "\n",
    "<i>Sample Output:</i>\n",
    "\n",
    "Double the number of 15 = 30<br>\n",
    "Triple the number of 15 = 45<br>\n",
    "Quadruple the number of 15 = 60<br>\n",
    "Quintuple the number 15 = 75"
   ]
  },
  {
   "cell_type": "code",
   "execution_count": 6,
   "id": "c2ee2704",
   "metadata": {},
   "outputs": [
    {
     "name": "stdout",
     "output_type": "stream",
     "text": [
      "Double the number of 15 = 30\n",
      "Triple the number of 15 = 45\n",
      "Quadruple the number of 15 = 60\n",
      "Quintuple the number of 15 = 75\n"
     ]
    }
   ],
   "source": [
    "# Function returns a lambda anonymous function\n",
    "def func_compute(n):\n",
    "    return lambda x : x * n\n",
    "\n",
    "result = func_compute(2)\n",
    "print(\"Double the number of 15 =\", result(15))\n",
    "\n",
    "result = func_compute(3)\n",
    "print(\"Triple the number of 15 =\", result(15))\n",
    "\n",
    "result = func_compute(4)\n",
    "print(\"Quadruple the number of 15 =\", result(15))\n",
    "\n",
    "result = func_compute(5)\n",
    "print(\"Quintuple the number of 15 =\", result(15))"
   ]
  },
  {
   "cell_type": "markdown",
   "id": "7d70f51c",
   "metadata": {},
   "source": [
    "**3. Write a Python program to sort a list of tuples using Lambda.**\n",
    "\n",
    "<i>Original list of tuples:</i>\n",
    "\n",
    "[('English', 88), ('Science', 90), ('Maths', 97), ('Social sciences', 82)]\n",
    "\n",
    "<i>Sorting the List of Tuples:</i>\n",
    "\n",
    "[('Social sciences', 82), ('English', 88), ('Science', 90), ('Maths', 97)]"
   ]
  },
  {
   "cell_type": "code",
   "execution_count": 10,
   "id": "11a79f09",
   "metadata": {},
   "outputs": [
    {
     "name": "stdout",
     "output_type": "stream",
     "text": [
      "Original list of tuples:\n",
      "[('English', 88), ('Science', 90), ('Maths', 97), ('Social sciences', 82)]\n",
      "\n",
      "Sorting the List of Tuples:\n",
      "[('Social sciences', 82), ('English', 88), ('Science', 90), ('Maths', 97)]\n"
     ]
    }
   ],
   "source": [
    "# lambda expression as sorting key\n",
    "subject_marks = [(\"English\", 88), (\"Science\", 90), (\"Maths\", 97), (\"Social sciences\", 82)]\n",
    "\n",
    "print(\"Original list of tuples:\")\n",
    "print(subject_marks)\n",
    "\n",
    "subject_marks.sort(key = lambda x: x[1])\n",
    "\n",
    "print(\"\\nSorting the List of Tuples:\")\n",
    "print(subject_marks)"
   ]
  },
  {
   "cell_type": "markdown",
   "id": "1993fb4e",
   "metadata": {},
   "source": [
    "**4. Write a Python program to sort a list of dictionaries using Lambda.**\n",
    "\n",
    "<i>Original list of dictionaries:</i>\n",
    "\n",
    "[{'make': 'Nokia', 'model': 216, 'color': 'Black'}, {'make': 'Mi Max', 'model': '2', 'color': 'Gold'}, {'make': 'Samsung', 'model': 7, 'color': 'Blue'}]\n",
    "\n",
    "<i>Sorting the List of dictionaries:</i>\n",
    "\n",
    "[{'make': 'Nokia', 'model': 216, 'color': 'Black'}, {'make': 'Samsung', 'model': 7, 'color': 'Blue'}, {'make': 'Mi Max', 'model': '2', 'color': 'Gold'}]"
   ]
  },
  {
   "cell_type": "code",
   "execution_count": 15,
   "id": "4a660392",
   "metadata": {},
   "outputs": [
    {
     "name": "stdout",
     "output_type": "stream",
     "text": [
      "Original list of dictionaries:\n",
      "[{'make': 'Nokia', 'model': 216, 'color': 'Black'}, {'make': 'Mi Max', 'model': '2', 'color': 'Gold'}, {'make': 'Samsung', 'model': 7, 'color': 'Blue'}]\n",
      "\n",
      "Sorting the List of dictionaries\n",
      "[{'make': 'Nokia', 'model': 216, 'color': 'Black'}, {'make': 'Samsung', 'model': 7, 'color': 'Blue'}, {'make': 'Mi Max', 'model': '2', 'color': 'Gold'}]\n"
     ]
    }
   ],
   "source": [
    "# [1] `sort()`\n",
    "models = [{\"make\": \"Nokia\", \"model\": 216, \"color\": \"Black\"}, {\"make\": \"Mi Max\", \"model\": \"2\", \"color\": \"Gold\"}, {\"make\": \"Samsung\", \"model\": 7, \"color\": \"Blue\"}]\n",
    "\n",
    "print(\"Original list of dictionaries:\")\n",
    "print(models)\n",
    "\n",
    "models.sort(key = lambda x: x[\"color\"])\n",
    "\n",
    "print(\"\\nSorting the List of dictionaries\")\n",
    "print(models)"
   ]
  },
  {
   "cell_type": "code",
   "execution_count": 17,
   "id": "53c40311",
   "metadata": {},
   "outputs": [
    {
     "name": "stdout",
     "output_type": "stream",
     "text": [
      "Original list of dictionaries:\n",
      "[{'make': 'Nokia', 'model': 216, 'color': 'Black'}, {'make': 'Mi Max', 'model': '2', 'color': 'Gold'}, {'make': 'Samsung', 'model': 7, 'color': 'Blue'}]\n",
      "\n",
      "Sorting the List of dictionaries\n",
      "[{'make': 'Nokia', 'model': 216, 'color': 'Black'}, {'make': 'Samsung', 'model': 7, 'color': 'Blue'}, {'make': 'Mi Max', 'model': '2', 'color': 'Gold'}]\n"
     ]
    }
   ],
   "source": [
    "# [2] `sorted()`\n",
    "models = [{\"make\": \"Nokia\", \"model\": 216, \"color\": \"Black\"}, {\"make\": \"Mi Max\", \"model\": \"2\", \"color\": \"Gold\"}, {\"make\": \"Samsung\", \"model\": 7, \"color\": \"Blue\"}]\n",
    "\n",
    "print(\"Original list of dictionaries:\")\n",
    "print(models)\n",
    "\n",
    "sorted_models = sorted(models, key = lambda x: x[\"color\"])\n",
    "\n",
    "print(\"\\nSorting the List of dictionaries\")\n",
    "print(sorted_models)"
   ]
  },
  {
   "cell_type": "markdown",
   "id": "ba09c097",
   "metadata": {},
   "source": [
    "**5. Write a Python program to filter a list of integers using Lambda.**\n",
    "\n",
    "<i>Original list of integers:</i>\n",
    "\n",
    "[1, 2, 3, 4, 5, 6, 7, 8, 9, 10]\n",
    "\n",
    "<i>Even numbers from the said list:</i>\n",
    "\n",
    "[2, 4, 6, 8, 10]\n",
    "\n",
    "<i>Odd numbers from the said list:</i>\n",
    "\n",
    "[1, 3, 5, 7, 9]"
   ]
  },
  {
   "cell_type": "code",
   "execution_count": 21,
   "id": "00bc4595",
   "metadata": {},
   "outputs": [
    {
     "name": "stdout",
     "output_type": "stream",
     "text": [
      "Original list of integers:\n",
      "[1, 2, 3, 4, 5, 6, 7, 8, 9, 10]\n",
      "\n",
      "Even numbers from the said list:\n",
      "[2, 4, 6, 8, 10]\n",
      "\n",
      "Odd numbers from the said list:\n",
      "[1, 3, 5, 7, 9]\n"
     ]
    }
   ],
   "source": [
    "# [1] `filter()` with lambda expression\n",
    "nums = [1, 2, 3, 4, 5, 6, 7, 8, 9, 10]\n",
    "\n",
    "print(\"Original list of integers:\")\n",
    "print(nums)\n",
    "\n",
    "print(\"\\nEven numbers from the said list:\")\n",
    "print(list(filter(lambda x: x % 2 == 0, nums)))\n",
    "\n",
    "print(\"\\nOdd numbers from the said list:\")\n",
    "print(list(filter(lambda x: x % 2 != 0, nums)))"
   ]
  },
  {
   "cell_type": "code",
   "execution_count": 26,
   "id": "d7421549",
   "metadata": {},
   "outputs": [
    {
     "name": "stdout",
     "output_type": "stream",
     "text": [
      "Original list of integers:\n",
      "[1, 2, 3, 4, 5, 6, 7, 8, 9, 10]\n",
      "\n",
      "Even numbers from the said list:\n",
      "[2, 4, 6, 8, 10]\n",
      "\n",
      "Odd numbers from the said list:\n",
      "[1, 3, 5, 7, 9]\n"
     ]
    }
   ],
   "source": [
    "# [2] Generator expression\n",
    "nums = [1, 2, 3, 4, 5, 6, 7, 8, 9, 10]\n",
    "\n",
    "print(\"Original list of integers:\")\n",
    "print(nums)\n",
    "\n",
    "print(\"\\nEven numbers from the said list:\")\n",
    "print([num for num in nums if num % 2 == 0])\n",
    "\n",
    "print(\"\\nOdd numbers from the said list:\")\n",
    "print([num for num in nums if num % 2 != 0])"
   ]
  },
  {
   "cell_type": "code",
   "execution_count": null,
   "id": "9380b352",
   "metadata": {},
   "outputs": [],
   "source": []
  }
 ],
 "metadata": {
  "kernelspec": {
   "display_name": "Python 3 (ipykernel)",
   "language": "python",
   "name": "python3"
  },
  "language_info": {
   "codemirror_mode": {
    "name": "ipython",
    "version": 3
   },
   "file_extension": ".py",
   "mimetype": "text/x-python",
   "name": "python",
   "nbconvert_exporter": "python",
   "pygments_lexer": "ipython3",
   "version": "3.8.8"
  }
 },
 "nbformat": 4,
 "nbformat_minor": 5
}

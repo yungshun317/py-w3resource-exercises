{
 "cells": [
  {
   "cell_type": "markdown",
   "id": "6b2a2c18",
   "metadata": {},
   "source": [
    "# Python Conditional Statements & Loops\n",
    "**1. Write a Python program to find those numbers which are divisible by 7 and multiples of 5, between 1500 and 2700 (both included).**"
   ]
  },
  {
   "cell_type": "code",
   "execution_count": 7,
   "id": "cdafbb17",
   "metadata": {},
   "outputs": [
    {
     "name": "stdout",
     "output_type": "stream",
     "text": [
      "[1505, 1540, 1575, 1610, 1645, 1680, 1715, 1750, 1785, 1820, 1855, 1890, 1925, 1960, 1995, 2030, 2065, 2100, 2135, 2170, 2205, 2240, 2275, 2310, 2345, 2380, 2415, 2450, 2485, 2520, 2555, 2590, 2625, 2660, 2695]\n"
     ]
    }
   ],
   "source": [
    "# [1] for loop\n",
    "lst = []\n",
    "for x in range(1500, 2701):\n",
    "    if x % 7 == 0 and x % 5 == 0:\n",
    "        lst.append(x)\n",
    "print(lst)"
   ]
  },
  {
   "cell_type": "code",
   "execution_count": 6,
   "id": "3f86d7f8",
   "metadata": {},
   "outputs": [
    {
     "name": "stdout",
     "output_type": "stream",
     "text": [
      "[1505, 1540, 1575, 1610, 1645, 1680, 1715, 1750, 1785, 1820, 1855, 1890, 1925, 1960, 1995, 2030, 2065, 2100, 2135, 2170, 2205, 2240, 2275, 2310, 2345, 2380, 2415, 2450, 2485, 2520, 2555, 2590, 2625, 2660, 2695]\n"
     ]
    }
   ],
   "source": [
    "# [2] List comprehension\n",
    "nums = [x for x in range(1500, 2701) if x % 7 == 0 and x % 5 == 0]\n",
    "print(nums)"
   ]
  },
  {
   "cell_type": "markdown",
   "id": "ca85a7b3",
   "metadata": {},
   "source": [
    "**2. Write a Python program to convert temperatures to and from Celsius and Fahrenheit.**\n",
    "\n",
    "[ Formula : c/5 = f-32/9 [ where c = temperature in celsius and f = temperature in fahrenheit ]\n",
    "\n",
    "<i>Expected Output:</i>\n",
    "\n",
    "60°C is 140 in Fahrenheit<br>\n",
    "45°F is 7 in Celsius"
   ]
  },
  {
   "cell_type": "code",
   "execution_count": null,
   "id": "be500296",
   "metadata": {},
   "outputs": [],
   "source": []
  }
 ],
 "metadata": {
  "kernelspec": {
   "display_name": "Python 3 (ipykernel)",
   "language": "python",
   "name": "python3"
  },
  "language_info": {
   "codemirror_mode": {
    "name": "ipython",
    "version": 3
   },
   "file_extension": ".py",
   "mimetype": "text/x-python",
   "name": "python",
   "nbconvert_exporter": "python",
   "pygments_lexer": "ipython3",
   "version": "3.8.8"
  }
 },
 "nbformat": 4,
 "nbformat_minor": 5
}

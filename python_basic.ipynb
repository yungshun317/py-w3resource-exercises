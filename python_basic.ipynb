{
 "cells": [
  {
   "cell_type": "markdown",
   "id": "16e55bda",
   "metadata": {},
   "source": [
    "# Python Basic\n",
    "\n",
    "**1. Write a Python program to print the following string in a specific format (see the output).**<br>\n",
    "\n",
    "<i>Sample String:</i> \n",
    "\n",
    "\"Twinkle, twinkle, little star, How I wonder what you are! Up above the world so high, Like a diamond in the sky. Twinkle, twinkle, little star, How I wonder what you are\"<br>\n",
    "\n",
    "<i>Output:</i>\n",
    "<pre>\n",
    "Twinkle, twinkle, little star,\n",
    "\tHow I wonder what you are!\n",
    "\t\tUp above the world so high,\t\t\n",
    "\t\tLike a diamond in the sky.\n",
    "Twinkle, twinkle, little star,\n",
    "\tHow I wonder what you are</pre>"
   ]
  },
  {
   "cell_type": "code",
   "execution_count": 1,
   "id": "c41a61bf",
   "metadata": {},
   "outputs": [
    {
     "name": "stdout",
     "output_type": "stream",
     "text": [
      "Twinkle, twinkle, little star, \n",
      "\tHow I wonder what you are! \n",
      "\t\tUp above the world so high, \n",
      "\t\tLike a diamond in the sky. \n",
      "Twinkle, twinkle, little star, \n",
      "\tHow I wonder what you are\n"
     ]
    }
   ],
   "source": [
    "# `\\n` symbol means literally new line\n",
    "# `\\t` symbol means add a tab\n",
    "print(\"Twinkle, twinkle, little star, \\n\\tHow I wonder what you are! \\n\\t\\tUp above the world so high, \\n\\t\\tLike a diamond in the sky. \\nTwinkle, twinkle, little star, \\n\\tHow I wonder what you are\")"
   ]
  },
  {
   "cell_type": "markdown",
   "id": "973159a2",
   "metadata": {},
   "source": [
    "**2. Write a Python program to find out what version of Python you are using.**"
   ]
  },
  {
   "cell_type": "code",
   "execution_count": 4,
   "id": "bb38cd17",
   "metadata": {},
   "outputs": [
    {
     "name": "stdout",
     "output_type": "stream",
     "text": [
      "Python Version\n",
      "3.8.8 (default, Apr 13 2021, 19:58:26) \n",
      "[GCC 7.3.0]\n",
      "Version Info\n",
      "sys.version_info(major=3, minor=8, micro=8, releaselevel='final', serial=0)\n"
     ]
    }
   ],
   "source": [
    "# [1] `sys` module\n",
    "import sys\n",
    "\n",
    "print(\"Python Version\")\n",
    "print(sys.version)\n",
    "print(\"Version Info\")\n",
    "print(sys.version_info)"
   ]
  },
  {
   "cell_type": "code",
   "execution_count": 7,
   "id": "50057603",
   "metadata": {},
   "outputs": [
    {
     "name": "stdout",
     "output_type": "stream",
     "text": [
      "Python 3.8.8\r\n"
     ]
    }
   ],
   "source": [
    "# [2] Run shell command in Jupyter Notebook\n",
    "!python -V"
   ]
  },
  {
   "cell_type": "code",
   "execution_count": 8,
   "id": "17677af8",
   "metadata": {},
   "outputs": [
    {
     "name": "stdout",
     "output_type": "stream",
     "text": [
      "Python 3.8.8\r\n"
     ]
    }
   ],
   "source": [
    "# [3] Run shell command in Jupyter Notebook\n",
    "!python --version"
   ]
  },
  {
   "cell_type": "code",
   "execution_count": 9,
   "id": "27a3e986",
   "metadata": {},
   "outputs": [
    {
     "name": "stdout",
     "output_type": "stream",
     "text": [
      "3.8.8\n"
     ]
    }
   ],
   "source": [
    "# [4] `platform` module\n",
    "import platform\n",
    "\n",
    "print(platform.python_version())"
   ]
  },
  {
   "cell_type": "markdown",
   "id": "0138d619",
   "metadata": {},
   "source": [
    "**3. Write a Python program to display the current date and time.**<br>\n",
    "\n",
    "<i>Sample Output:</i>\n",
    "\n",
    "Current date and time:<br>\n",
    "2014-07-05 14:34:14"
   ]
  },
  {
   "cell_type": "code",
   "execution_count": 11,
   "id": "562111c1",
   "metadata": {},
   "outputs": [
    {
     "name": "stdout",
     "output_type": "stream",
     "text": [
      "Current date and time:\n",
      "2023-05-16 04:50:31\n"
     ]
    }
   ],
   "source": [
    "# `datetime.datetime.now()` & `date.strftime(format)`\n",
    "import datetime\n",
    "\n",
    "now = datetime.datetime.now()\n",
    "print(\"Current date and time:\")\n",
    "print(now.strftime(\"%Y-%m-%d %H:%M:%S\"))"
   ]
  },
  {
   "cell_type": "markdown",
   "id": "eb30ea0c",
   "metadata": {},
   "source": [
    "**4. Write a Python program that calculates the area of a circle based on the radius entered by the user.**\n",
    "\n",
    "<i>Sample Output:</i><br>\n",
    "\n",
    "r = 1.1<br>\n",
    "Area = 3.8013271108436504"
   ]
  },
  {
   "cell_type": "code",
   "execution_count": 12,
   "id": "f0ab3f6f",
   "metadata": {},
   "outputs": [
    {
     "name": "stdout",
     "output_type": "stream",
     "text": [
      "Input the radius of the circle:1.1\n",
      "The area of the circle with radius 1.1 is: 3.8013271108436504\n"
     ]
    }
   ],
   "source": [
    "# `math.pi` & `input()`\n",
    "from math import pi\n",
    "\n",
    "r = float(input(\"Input the radius of the circle:\"))\n",
    "print(\"The area of the circle with radius \" + str(r) + \" is: \" + str(pi * r**2))"
   ]
  },
  {
   "cell_type": "markdown",
   "id": "468cbeff",
   "metadata": {},
   "source": [
    "**5. Write a Python program that accepts the user's first and last name and prints them in reverse order with a space between them.**"
   ]
  },
  {
   "cell_type": "code",
   "execution_count": 14,
   "id": "ad3d3fc2",
   "metadata": {},
   "outputs": [
    {
     "name": "stdout",
     "output_type": "stream",
     "text": [
      "Input your First Name: Yung-Shun\n",
      "Input your Last Name: Chang\n",
      "Hello Chang Yung-Shun\n"
     ]
    }
   ],
   "source": [
    "# `input()`\n",
    "fname = input(\"Input your First Name: \")\n",
    "lname = input(\"Input your Last Name: \")\n",
    "print(\"Hello \" + lname + \" \" + fname)"
   ]
  },
  {
   "cell_type": "markdown",
   "id": "a4cde307",
   "metadata": {},
   "source": [
    "**6. Write a Python program that accepts a sequence of comma-separated numbers from the user and generates a list and a tuple of those numbers.**\n",
    "\n",
    "<i>Sample Data:</i><br>\n",
    "<br>\n",
    "3, 5, 7, 23\n",
    "\n",
    "<i>Output:</i><br>\n",
    "\n",
    "List : ['3', ' 5', ' 7', ' 23']<br>\n",
    "Tuple : ('3', ' 5', ' 7', ' 23')"
   ]
  },
  {
   "cell_type": "code",
   "execution_count": 15,
   "id": "9f00e584",
   "metadata": {},
   "outputs": [
    {
     "name": "stdout",
     "output_type": "stream",
     "text": [
      "Input some comma-separated numbers: 3,5,8,17\n",
      "List:  ['3', '5', '8', '17']\n",
      "Tuple:  ('3', '5', '8', '17')\n"
     ]
    }
   ],
   "source": [
    "# `split()` for a list & `tuple()` for a tuple\n",
    "values = input(\"Input some comma-separated numbers: \")\n",
    "list = values.split(\",\")\n",
    "tuple = tuple(list)\n",
    "print(\"List: \", list)\n",
    "print(\"Tuple: \", tuple)"
   ]
  },
  {
   "cell_type": "markdown",
   "id": "2e42149e",
   "metadata": {},
   "source": [
    "**7. Write a Python program that accepts a filename from the user and prints the extension of the file.**\n",
    "\n",
    "<i>Sample Filename:</i><br>\n",
    "\n",
    "abc.java\n",
    "\n",
    "<i>Output:</i>\n",
    "\n",
    "java"
   ]
  },
  {
   "cell_type": "code",
   "execution_count": 17,
   "id": "5c675356",
   "metadata": {},
   "outputs": [
    {
     "name": "stdout",
     "output_type": "stream",
     "text": [
      "The extension of the file is: 'java'\n"
     ]
    }
   ],
   "source": [
    "# `split()` & `-1` as index\n",
    "filename = \"abc.java\"\n",
    "f_extns = filename.split(\".\")\n",
    "print(\"The extension of the file is: \" + repr(f_extns[-1]))"
   ]
  },
  {
   "cell_type": "markdown",
   "id": "81dba2b8",
   "metadata": {},
   "source": [
    "**8. Write a Python program to display the first and last colors from the following list.**\n",
    "\n",
    "color_list = [\"Red\",\"Green\",\"White\" ,\"Black\"]"
   ]
  },
  {
   "cell_type": "code",
   "execution_count": 26,
   "id": "e7f78bc8",
   "metadata": {},
   "outputs": [
    {
     "name": "stdout",
     "output_type": "stream",
     "text": [
      "Red Black\n"
     ]
    }
   ],
   "source": [
    "# `%s`\n",
    "color_list = [\"Red\", \"Green\", \"White\", \"Black\"]\n",
    "print(\"%s %s\" % (color_list[0], color_list[-1]))"
   ]
  },
  {
   "cell_type": "markdown",
   "id": "8171fec6",
   "metadata": {},
   "source": [
    "**9. Write a Python program to display the examination schedule. (extract the date from exam_st_date).**\n",
    "\n",
    "exam_st_date = (11, 12, 2014)\n",
    "\n",
    "<i>Sample Output:</i>\n",
    "\n",
    "The examination will start from : 11 / 12 / 2014"
   ]
  },
  {
   "cell_type": "code",
   "execution_count": 27,
   "id": "c7239dd8",
   "metadata": {},
   "outputs": [
    {
     "name": "stdout",
     "output_type": "stream",
     "text": [
      "The examination will start from: 11 / 12 / 2014\n"
     ]
    }
   ],
   "source": [
    "# `%i` formats the integers\n",
    "exam_st_date = (11, 12, 2014)\n",
    "print(\"The examination will start from: %i / %i / %i\" % exam_st_date)"
   ]
  },
  {
   "cell_type": "markdown",
   "id": "c4fd9170",
   "metadata": {},
   "source": [
    "**10. Write a Python program that accepts an integer (n) and computes the value of n+nn+nnn.**\n",
    "\n",
    "<i>Sample Value:</i> \n",
    "\n",
    "n = 5\n",
    "\n",
    "<i>Expected Result:</i> \n",
    "\n",
    "615"
   ]
  },
  {
   "cell_type": "code",
   "execution_count": 29,
   "id": "4f860cd4",
   "metadata": {},
   "outputs": [
    {
     "name": "stdout",
     "output_type": "stream",
     "text": [
      "Input an integer: 5\n",
      "615\n"
     ]
    }
   ],
   "source": [
    "# `int()` & `%s`\n",
    "n = int(input(\"Input an integer: \"))\n",
    "n1 = int(\"%s\" % n)\n",
    "n2 = int(\"%s%s\" % (n, n))\n",
    "n3 = int(\"%s%s%s\" % (n, n, n))\n",
    "print(n1 + n2 + n3)"
   ]
  },
  {
   "cell_type": "markdown",
   "id": "20b96bfc",
   "metadata": {},
   "source": [
    "**11. Write a Python program to print the documents (syntax, description etc.) of Python built-in function(s).**\n",
    "\n",
    "<i>Sample Function:</i> \n",
    "\n",
    "abs()\n",
    "\n",
    "<i>Expected Result:</i>\n",
    "\n",
    "abs(number) -> number<br>\n",
    "Return the absolute value of the argument."
   ]
  },
  {
   "cell_type": "code",
   "execution_count": 30,
   "id": "27e95589",
   "metadata": {},
   "outputs": [
    {
     "name": "stdout",
     "output_type": "stream",
     "text": [
      "Return the absolute value of the argument.\n"
     ]
    }
   ],
   "source": [
    "# `__doc__`\n",
    "print(abs.__doc__)"
   ]
  },
  {
   "cell_type": "markdown",
   "id": "c304f3a8",
   "metadata": {},
   "source": [
    "**12. Write a Python program that prints the calendar for a given month and year.**\n",
    "\n",
    "<i>Note:</i>\n",
    "\n",
    "Use \"calendar\" module."
   ]
  },
  {
   "cell_type": "code",
   "execution_count": 31,
   "id": "31e86a56",
   "metadata": {},
   "outputs": [
    {
     "name": "stdout",
     "output_type": "stream",
     "text": [
      "Input the year: 2023\n",
      "Input the month: 5\n",
      "      May 2023\n",
      "Mo Tu We Th Fr Sa Su\n",
      " 1  2  3  4  5  6  7\n",
      " 8  9 10 11 12 13 14\n",
      "15 16 17 18 19 20 21\n",
      "22 23 24 25 26 27 28\n",
      "29 30 31\n",
      "\n"
     ]
    }
   ],
   "source": [
    "# `calendar.month()`\n",
    "import calendar\n",
    "\n",
    "y = int(input(\"Input the year: \"))\n",
    "m = int(input(\"Input the month: \"))\n",
    "print(calendar.month(y, m))"
   ]
  },
  {
   "cell_type": "markdown",
   "id": "b036770a",
   "metadata": {},
   "source": [
    "**13. Write a Python program to print the following \"here document\".**\n",
    "\n",
    "<i>Sample String:</i>\n",
    "<pre>\n",
    "a string that you \"don't\" have to escape\n",
    "This\n",
    "is a ....... multi-line\n",
    "heredoc string --------> example</pre>"
   ]
  },
  {
   "cell_type": "code",
   "execution_count": 32,
   "id": "cdb00d88",
   "metadata": {},
   "outputs": [
    {
     "name": "stdout",
     "output_type": "stream",
     "text": [
      "\n",
      "a string that you \"don't\" have to escape\n",
      "This\n",
      "is a ....... multi-line\n",
      "heredoc string --------> example\n",
      "\n"
     ]
    }
   ],
   "source": [
    "# Here document (heredoc)\n",
    "# `print(\"\"\"sth\"\"\")`\n",
    "print(\"\"\"\n",
    "a string that you \"don't\" have to escape\n",
    "This\n",
    "is a ....... multi-line\n",
    "heredoc string --------> example\n",
    "\"\"\")"
   ]
  },
  {
   "cell_type": "markdown",
   "id": "1a09d823",
   "metadata": {},
   "source": [
    "**14. Write a Python program to calculate the number of days between two dates.**\n",
    "\n",
    "<i>Sample Dates:</i> \n",
    "\n",
    "(2014, 7, 2), (2014, 7, 11)\n",
    "\n",
    "<i>Expected Output:</i> \n",
    "\n",
    "9 days"
   ]
  },
  {
   "cell_type": "code",
   "execution_count": 33,
   "id": "4ba8aad1",
   "metadata": {},
   "outputs": [
    {
     "name": "stdout",
     "output_type": "stream",
     "text": [
      "9\n"
     ]
    }
   ],
   "source": [
    "# `datetime.date(year, month, day)` & `timedelta.days`\n",
    "# timedelta = date1 - date2\n",
    "from datetime import date\n",
    "\n",
    "f_date = date(2014, 7, 2)\n",
    "l_date = date(2014, 7, 11)\n",
    "delta = l_date - f_date\n",
    "print(delta.days)"
   ]
  },
  {
   "cell_type": "markdown",
   "id": "b8d40400",
   "metadata": {},
   "source": [
    "**15. Write a Python program to get the volume of a sphere with radius six.**"
   ]
  },
  {
   "cell_type": "code",
   "execution_count": 36,
   "id": "fa2546ff",
   "metadata": {},
   "outputs": [
    {
     "name": "stdout",
     "output_type": "stream",
     "text": [
      "The volume of the sphere is: 904.7786842338603\n"
     ]
    }
   ],
   "source": [
    "# `math.pi`\n",
    "from math import pi\n",
    "\n",
    "r = 6.0\n",
    "V = 4.0 / 3.0 * pi * r**3\n",
    "print(\"The volume of the sphere is:\", V)"
   ]
  },
  {
   "cell_type": "markdown",
   "id": "1f771477",
   "metadata": {},
   "source": [
    "**16. Write a Python program to calculate the difference between a given number and 17. If the number is greater than 17, return twice the absolute difference.**"
   ]
  },
  {
   "cell_type": "code",
   "execution_count": 37,
   "id": "af99261b",
   "metadata": {},
   "outputs": [
    {
     "name": "stdout",
     "output_type": "stream",
     "text": [
      "14\n",
      "38\n"
     ]
    }
   ],
   "source": [
    "# if-else statement\n",
    "def difference(n):\n",
    "    if n <= 17:\n",
    "        return 17 - n\n",
    "    else:\n",
    "        return (n - 17) * 2\n",
    "\n",
    "print(difference(3))\n",
    "print(difference(36))"
   ]
  },
  {
   "cell_type": "markdown",
   "id": "75957738",
   "metadata": {},
   "source": [
    "**17. Write a Python program to test whether a number is within 100 of 1000 or 2000.**"
   ]
  },
  {
   "cell_type": "code",
   "execution_count": 39,
   "id": "3f5bfdb6",
   "metadata": {},
   "outputs": [
    {
     "name": "stdout",
     "output_type": "stream",
     "text": [
      "True\n",
      "True\n",
      "False\n"
     ]
    }
   ],
   "source": [
    "# if-else statement & `or`\n",
    "def near_thousand(n):\n",
    "    \"\"\"\n",
    "    if abs(n - 1000) <= 100 or abs (n - 2000) <= 100:\n",
    "        return True\n",
    "    else:\n",
    "        return False\n",
    "    \"\"\"\n",
    "    return ((abs(n - 1000) <= 100) or (abs(n - 2000) <= 100))\n",
    "    \n",
    "print(near_thousand(1024))\n",
    "print(near_thousand(2048))\n",
    "print(near_thousand(3178))"
   ]
  },
  {
   "cell_type": "markdown",
   "id": "f1a5c295",
   "metadata": {},
   "source": [
    "**18. Write a Python program to calculate the sum of three given numbers. If the values are equal, return three times their sum.**"
   ]
  },
  {
   "cell_type": "code",
   "execution_count": 42,
   "id": "8da64fc6",
   "metadata": {},
   "outputs": [
    {
     "name": "stdout",
     "output_type": "stream",
     "text": [
      "2006\n",
      "144\n"
     ]
    }
   ],
   "source": [
    "# if-else statement & `x == y == z`\n",
    "def sum_thrice(x, y, z):\n",
    "    sum = x + y + z  \n",
    "    if x == y == z:\n",
    "        sum = sum * 3\n",
    "    return sum\n",
    "    \n",
    "print(sum_thrice(1986, 3, 17))\n",
    "print(sum_thrice(16, 16, 16))"
   ]
  },
  {
   "cell_type": "markdown",
   "id": "9d9ebd9c",
   "metadata": {},
   "source": [
    "**19. Write a Python program to get a newly-generated string from a given string where \"Is\" has been added to the front. Return the string unchanged if the given string already begins with \"Is\".**"
   ]
  },
  {
   "cell_type": "code",
   "execution_count": 44,
   "id": "2b356035",
   "metadata": {},
   "outputs": [
    {
     "name": "stdout",
     "output_type": "stream",
     "text": [
      "IsArray\n",
      "IsEmpty\n"
     ]
    }
   ],
   "source": [
    "# `len()` & string slicing with `:` delimiter\n",
    "def new_string(text):\n",
    "    if len(text) >= 2 and text[:2] == \"Is\":\n",
    "        return text\n",
    "    return \"Is\" + text\n",
    "\n",
    "print(new_string(\"Array\"))\n",
    "print(new_string(\"IsEmpty\"))"
   ]
  },
  {
   "cell_type": "markdown",
   "id": "c717219a",
   "metadata": {},
   "source": [
    "**20. Write a Python program that returns a string that is n (non-negative integer) copies of a given string.**"
   ]
  },
  {
   "cell_type": "code",
   "execution_count": 47,
   "id": "bd41e9ba",
   "metadata": {},
   "outputs": [
    {
     "name": "stdout",
     "output_type": "stream",
     "text": [
      "lovelovelove\n"
     ]
    }
   ],
   "source": [
    "# [1] `*` operator\n",
    "def larger_string(text, n):\n",
    "    return text * n\n",
    "\n",
    "print(larger_string(\"love\", 3))"
   ]
  },
  {
   "cell_type": "code",
   "execution_count": 48,
   "id": "3406ea33",
   "metadata": {},
   "outputs": [
    {
     "name": "stdout",
     "output_type": "stream",
     "text": [
      "hatehatehate\n"
     ]
    }
   ],
   "source": [
    "# [2] `+` operator & `range()`\n",
    "def larger_string(text, n):\n",
    "    result = \"\"\n",
    "    for i in range(n):\n",
    "        result = result + text\n",
    "    return result\n",
    "\n",
    "print(larger_string(\"hate\", 3))"
   ]
  },
  {
   "cell_type": "markdown",
   "id": "adf78772",
   "metadata": {},
   "source": [
    "**21. Write a Python program that determines whether a given number (accepted from the user) is even or odd, and prints an appropriate message to the user.**"
   ]
  },
  {
   "cell_type": "code",
   "execution_count": 49,
   "id": "d4de6a21",
   "metadata": {},
   "outputs": [
    {
     "name": "stdout",
     "output_type": "stream",
     "text": [
      "Enter a number: 317\n",
      "This is an odd number.\n"
     ]
    }
   ],
   "source": [
    "# `%` operator\n",
    "num = int(input(\"Enter a number: \"))\n",
    "mod = num % 2\n",
    "if mod > 0:\n",
    "    print(\"This is an odd number.\")\n",
    "else:\n",
    "    print(\"This is an even number.\")"
   ]
  },
  {
   "cell_type": "markdown",
   "id": "f58af9e0",
   "metadata": {},
   "source": [
    "**22. Write a Python program to count the number 4 in a given list.**"
   ]
  },
  {
   "cell_type": "code",
   "execution_count": 54,
   "id": "36136039",
   "metadata": {},
   "outputs": [
    {
     "name": "stdout",
     "output_type": "stream",
     "text": [
      "1\n",
      "3\n"
     ]
    }
   ],
   "source": [
    "# [1] for loop & list iteration\n",
    "def list_count_4(nums):\n",
    "    count = 0\n",
    "    for num in nums:\n",
    "        if num == 4:\n",
    "            count = count + 1\n",
    "    return count\n",
    "\n",
    "print(list_count_4([1, 2, 1, 2, 4, 5, 6, 7, 8, 9, 0]))\n",
    "print(list_count_4([5, 4, 1, 7, 5, 4, 3, 0, 1, 0, 4]))"
   ]
  },
  {
   "cell_type": "code",
   "execution_count": 55,
   "id": "fb47525c",
   "metadata": {},
   "outputs": [
    {
     "name": "stdout",
     "output_type": "stream",
     "text": [
      "1\n",
      "3\n"
     ]
    }
   ],
   "source": [
    "# [2] while loop & list iteration\n",
    "def list_count_4(nums):\n",
    "    count = 0\n",
    "    i = 0\n",
    "    while i != len(nums):\n",
    "        if nums[i] == 4:\n",
    "            count = count + 1\n",
    "        i = i + 1\n",
    "    return count\n",
    "\n",
    "print(list_count_4([1, 2, 1, 2, 4, 5, 6, 7, 8, 9, 0]))\n",
    "print(list_count_4([5, 4, 1, 7, 5, 4, 3, 0, 1, 0, 4]))"
   ]
  },
  {
   "cell_type": "markdown",
   "id": "068a6379",
   "metadata": {},
   "source": [
    "**23. Write a Python program to get n (non-negative integer) copies of the first 2 characters of a given string. Return n copies of the whole string if the length is less than 2.**"
   ]
  },
  {
   "cell_type": "code",
   "execution_count": 57,
   "id": "b4e1f35a",
   "metadata": {},
   "outputs": [
    {
     "name": "stdout",
     "output_type": "stream",
     "text": [
      "hehehehehe\n",
      "aaaaa\n"
     ]
    }
   ],
   "source": [
    "# [1] `*` operator\n",
    "def substring_copy(text, n):\n",
    "    if len(text) < 2:\n",
    "        return n * text\n",
    "    else: \n",
    "        return n * text[:2]\n",
    "    \n",
    "print(substring_copy(\"hello\", 5))\n",
    "print(substring_copy(\"a\", 5))"
   ]
  },
  {
   "cell_type": "code",
   "execution_count": 60,
   "id": "a279d708",
   "metadata": {},
   "outputs": [
    {
     "name": "stdout",
     "output_type": "stream",
     "text": [
      "ststst\n",
      "ppp\n"
     ]
    }
   ],
   "source": [
    "# [2] `+` operator\n",
    "def substring_copy(text, n):\n",
    "    flen = 2\n",
    "    if flen > len(text):\n",
    "        flen = len(text)\n",
    "    substr = text[:flen]\n",
    "    result = \"\"\n",
    "    for i in range(n):\n",
    "        result = result + substr\n",
    "    return result\n",
    "\n",
    "print(substring_copy(\"strings\", 3))\n",
    "print(substring_copy(\"p\", 3))"
   ]
  },
  {
   "cell_type": "markdown",
   "id": "4c03cfac",
   "metadata": {},
   "source": [
    "**24. Write a Python program to test whether a passed letter is a vowel or not.**"
   ]
  },
  {
   "cell_type": "code",
   "execution_count": 65,
   "id": "3c6f278b",
   "metadata": {},
   "outputs": [
    {
     "name": "stdout",
     "output_type": "stream",
     "text": [
      "True\n",
      "False\n"
     ]
    }
   ],
   "source": [
    "# [1] `in` & list declaration\n",
    "def is_vowel(char):\n",
    "    # if char is lowercase\n",
    "    vowel = [\"a\", \"e\", \"i\", \"o\", \"u\"]\n",
    "    return char in vowel\n",
    "    \n",
    "print(is_vowel(\"u\"))\n",
    "print(is_vowel(\"j\"))"
   ]
  },
  {
   "cell_type": "code",
   "execution_count": 66,
   "id": "a22a8e5f",
   "metadata": {},
   "outputs": [
    {
     "name": "stdout",
     "output_type": "stream",
     "text": [
      "True\n",
      "False\n",
      "False\n"
     ]
    }
   ],
   "source": [
    "# [2] `in` & string declaration\n",
    "def is_vowel(char):\n",
    "    # if char is lowercase\n",
    "    vowel = \"aeiou\"\n",
    "    return char in vowel\n",
    "    \n",
    "print(is_vowel(\"e\"))\n",
    "print(is_vowel(\"q\"))"
   ]
  },
  {
   "cell_type": "markdown",
   "id": "d7db94ab",
   "metadata": {},
   "source": [
    "**25. Write a Python program that checks whether a specified value is contained within a group of values.**\n",
    "\n",
    "<i>Test Data:</i>\n",
    "\n",
    "3 -> [1, 5, 8, 3] : True<br>\n",
    "-1 -> [1, 5, 8, 3] : False"
   ]
  },
  {
   "cell_type": "code",
   "execution_count": 69,
   "id": "80fdc7fe",
   "metadata": {},
   "outputs": [
    {
     "name": "stdout",
     "output_type": "stream",
     "text": [
      "True\n",
      "False\n"
     ]
    }
   ],
   "source": [
    "# Python list\n",
    "def is_group_member(group_data, n):\n",
    "    \"\"\"\n",
    "    for value in group_data:\n",
    "        if n == value:\n",
    "            return True\n",
    "    return False\n",
    "    \"\"\"\n",
    "    return n in group_data\n",
    "\n",
    "print(is_group_member([3, 5, 8, 16], 5))\n",
    "print(is_group_member([3, 5, 8, 16], 13))"
   ]
  },
  {
   "cell_type": "markdown",
   "id": "4d0d7229",
   "metadata": {},
   "source": [
    "**26. Write a Python program to create a histogram from a given list of integers.**"
   ]
  },
  {
   "cell_type": "code",
   "execution_count": 70,
   "id": "862bd48d",
   "metadata": {},
   "outputs": [
    {
     "name": "stdout",
     "output_type": "stream",
     "text": [
      "*\n",
      "*********\n",
      "********\n",
      "******\n",
      "***\n",
      "*\n",
      "*******\n"
     ]
    }
   ],
   "source": [
    "# [1] `*` operator & print directly\n",
    "def histogram(items):\n",
    "    for n in items:\n",
    "        print(\"*\" * n)\n",
    "        \n",
    "histogram([1, 9, 8, 6, 3, 1, 7])"
   ]
  },
  {
   "cell_type": "code",
   "execution_count": 71,
   "id": "5ae29bd3",
   "metadata": {},
   "outputs": [
    {
     "name": "stdout",
     "output_type": "stream",
     "text": [
      "******\n",
      "*\n",
      "*****\n",
      "***\n",
      "*******\n",
      "*********\n"
     ]
    }
   ],
   "source": [
    "# [2] `+` operator & while loop\n",
    "def histogram(items):\n",
    "    for n in items:\n",
    "        output = \"\"\n",
    "        times = n\n",
    "        while times > 0:\n",
    "            output = output + \"*\"\n",
    "            times = times - 1\n",
    "        print(output)\n",
    "        \n",
    "histogram([6, 1, 5, 3, 7, 9])"
   ]
  },
  {
   "cell_type": "markdown",
   "id": "9c2ec6ab",
   "metadata": {},
   "source": [
    "**27. Write a Python program that concatenates all elements in a list into a string and returns it.**"
   ]
  },
  {
   "cell_type": "code",
   "execution_count": 74,
   "id": "1d23fef9",
   "metadata": {},
   "outputs": [
    {
     "name": "stdout",
     "output_type": "stream",
     "text": [
      "Write a Python program that concatenates all elements.\n"
     ]
    }
   ],
   "source": [
    "# `in` & string concatenation\n",
    "def concatenate_list_data(list):\n",
    "    result = \"\"\n",
    "    for element in list:\n",
    "        result = result + str(element)\n",
    "    return result\n",
    "\n",
    "print(concatenate_list_data([\"Write\", \" \", \"a Python program\", \" that\" + \" concatenates \" + \"all elements\", \".\"]))"
   ]
  },
  {
   "cell_type": "markdown",
   "id": "4a80e0b3",
   "metadata": {},
   "source": [
    "**28. Write a Python program to print all even numbers from a given list of numbers in the same order and stop printing any after 237 in the sequence.**\n",
    "\n",
    "<i>Sample Numbers List:</i>\n",
    "\n",
    "<pre>numbers = [    \n",
    "    386, 462, 47, 418, 907, 344, 236, 375, 823, 566, 597, 978, 328, 615, 953, 345, \n",
    "    399, 162, 758, 219, 918, 237, 412, 566, 826, 248, 866, 950, 626, 949, 687, 217, \n",
    "    815, 67, 104, 58, 512, 24, 892, 894, 767, 553, 81, 379, 843, 831, 445, 742, 717, \n",
    "    958, 743, 527\n",
    "    ]</pre>"
   ]
  },
  {
   "cell_type": "code",
   "execution_count": 76,
   "id": "59a3eb27",
   "metadata": {},
   "outputs": [
    {
     "name": "stdout",
     "output_type": "stream",
     "text": [
      "386\n",
      "462\n",
      "418\n",
      "344\n",
      "236\n",
      "566\n",
      "978\n",
      "328\n",
      "162\n",
      "758\n",
      "918\n",
      "237\n"
     ]
    }
   ],
   "source": [
    "# `break` in loop\n",
    "numbers = [    \n",
    "    386, 462, 47, 418, 907, 344, 236, 375, 823, 566, 597, 978, 328, 615, 953, 345, \n",
    "    399, 162, 758, 219, 918, 237, 412, 566, 826, 248, 866, 950, 626, 949, 687, 217, \n",
    "    815, 67, 104, 58, 512, 24, 892, 894, 767, 553, 81, 379, 843, 831, 445, 742, 717, \n",
    "    958, 743, 527\n",
    "    ]\n",
    "\n",
    "for item in numbers:\n",
    "    if item == 237:\n",
    "        print(item)\n",
    "        break\n",
    "    elif item % 2 == 0:\n",
    "        print(item)"
   ]
  },
  {
   "cell_type": "markdown",
   "id": "dcfb23df",
   "metadata": {},
   "source": [
    "**29. Write a Python program that prints out all colors from color_list_1 that are not present in color_list_2.**\n",
    "\n",
    "<i>Test Data:</i>\n",
    "\n",
    "color_list_1 = set([\"White\", \"Black\", \"Red\"])<br>\n",
    "color_list_2 = set([\"Red\", \"Green\"])\n",
    "\n",
    "<i>Expected Output:</i>\n",
    "\n",
    "{'Black', 'White'}"
   ]
  },
  {
   "cell_type": "code",
   "execution_count": 77,
   "id": "4332ac41",
   "metadata": {},
   "outputs": [
    {
     "name": "stdout",
     "output_type": "stream",
     "text": [
      "Original set elements:\n",
      "{'Black', 'Red', 'White'}\n",
      "{'Red', 'Green'}\n",
      "\n",
      "Different of color_list_1 and color_list_2:\n",
      "{'Black', 'White'}\n",
      "\n",
      "Different of color_list_2 and color_list_1:\n",
      "{'Green'}\n"
     ]
    }
   ],
   "source": [
    "# `different()` for sets\n",
    "color_list_1 = set([\"White\", \"Black\", \"Red\"])\n",
    "color_list_2 = set([\"Red\", \"Green\"])\n",
    "print(\"Original set elements:\")\n",
    "print(color_list_1)\n",
    "print(color_list_2)\n",
    "print(\"\\nDifferent of color_list_1 and color_list_2:\")\n",
    "print(color_list_1.difference(color_list_2))\n",
    "print(\"\\nDifferent of color_list_2 and color_list_1:\")\n",
    "print(color_list_2.difference(color_list_1))"
   ]
  },
  {
   "cell_type": "markdown",
   "id": "fb0065ad",
   "metadata": {},
   "source": [
    "**30. Write a Python program that will accept the base and height of a triangle and compute its area.**"
   ]
  },
  {
   "cell_type": "code",
   "execution_count": 79,
   "id": "59658ec5",
   "metadata": {},
   "outputs": [
    {
     "name": "stdout",
     "output_type": "stream",
     "text": [
      "Input the base: 4\n",
      "Input the height: 5\n",
      "area =  10.0\n"
     ]
    }
   ],
   "source": [
    "# `input`\n",
    "b = int(input(\"Input the base: \"))\n",
    "h = int(input(\"Input the height: \"))\n",
    "area = b * h / 2\n",
    "print(\"area = \", area)"
   ]
  },
  {
   "cell_type": "markdown",
   "id": "d1ad0ed2",
   "metadata": {},
   "source": [
    "**31. Write a Python program that computes the greatest common divisor (GCD) of two positive integers.**"
   ]
  },
  {
   "cell_type": "code",
   "execution_count": 81,
   "id": "03f773b7",
   "metadata": {},
   "outputs": [
    {
     "name": "stdout",
     "output_type": "stream",
     "text": [
      "20\n",
      "1\n",
      "16\n"
     ]
    }
   ],
   "source": [
    "# [1] while loop & `min()`\n",
    "def gcd(x, y):\n",
    "    i = min(x, y)\n",
    "    while i != 0:\n",
    "        if x % i == 0 and y % i == 0:\n",
    "            return i\n",
    "        else: \n",
    "            i = i - 1\n",
    "\n",
    "print(gcd(100, 120))\n",
    "print(gcd(13, 17))\n",
    "print(gcd(48, 16))"
   ]
  },
  {
   "cell_type": "code",
   "execution_count": 83,
   "id": "d09c3b02",
   "metadata": {},
   "outputs": [
    {
     "name": "stdout",
     "output_type": "stream",
     "text": [
      "20\n",
      "1\n",
      "16\n"
     ]
    }
   ],
   "source": [
    "# [2] for loop using `range()` in reverse\n",
    "def gcd(x, y):\n",
    "    gcd = 1\n",
    "    # assuming x >= y\n",
    "    if x % y == 0:\n",
    "        return y\n",
    "    for k in range(int(y/2), 0, -1):\n",
    "        if x % k == 0 and y % k == 0:\n",
    "            gcd = k\n",
    "            break\n",
    "    return gcd\n",
    "\n",
    "print(gcd(100, 120))\n",
    "print(gcd(13, 17))\n",
    "print(gcd(16, 48))"
   ]
  },
  {
   "cell_type": "markdown",
   "id": "e4bd5fec",
   "metadata": {},
   "source": [
    "**32. Write a Python program to find the least common multiple (LCM) of two positive integers.**"
   ]
  },
  {
   "cell_type": "code",
   "execution_count": 87,
   "id": "35db0739",
   "metadata": {},
   "outputs": [
    {
     "name": "stdout",
     "output_type": "stream",
     "text": [
      "299\n",
      "160\n",
      "144\n"
     ]
    }
   ],
   "source": [
    "# [1] infinite loop & `max()`\n",
    "def lcm(x, y):\n",
    "    i = max(x, y)\n",
    "    while True:\n",
    "        if i % x == 0 and i % y == 0:\n",
    "            return i\n",
    "        i = i + 1\n",
    "        \n",
    "print(lcm(13, 23))\n",
    "print(lcm(20, 160))\n",
    "print(lcm(16, 36))"
   ]
  },
  {
   "cell_type": "code",
   "execution_count": 88,
   "id": "efe5382a",
   "metadata": {},
   "outputs": [
    {
     "name": "stdout",
     "output_type": "stream",
     "text": [
      "299\n",
      "160\n",
      "144\n"
     ]
    }
   ],
   "source": [
    "# [2] infinite loop & if-else statement\n",
    "def lcm(x, y):\n",
    "    if x > y:\n",
    "        z = x\n",
    "    else:\n",
    "        z = y\n",
    "    while(True):\n",
    "        if ((z % x == 0) and (z % y == 0)):\n",
    "            lcm = z\n",
    "            break\n",
    "        z = z + 1\n",
    "    return lcm\n",
    "\n",
    "print(lcm(13, 23))\n",
    "print(lcm(20, 160))\n",
    "print(lcm(36, 16))"
   ]
  },
  {
   "cell_type": "markdown",
   "id": "2f9dbc55",
   "metadata": {},
   "source": [
    "**33. Write a Python program to sum three given integers. However, if two values are equal, the sum will be zero.**"
   ]
  },
  {
   "cell_type": "code",
   "execution_count": 89,
   "id": "3fd52dd8",
   "metadata": {},
   "outputs": [
    {
     "name": "stdout",
     "output_type": "stream",
     "text": [
      "15\n",
      "0\n"
     ]
    }
   ],
   "source": [
    "# `or`\n",
    "def sum_three(x, y, z):\n",
    "    if x == y or y == z or x == z:\n",
    "        return 0\n",
    "    else:\n",
    "        return x + y + z\n",
    "\n",
    "print(sum_three(3, 5, 7))\n",
    "print(sum_three(3, 3, 9))"
   ]
  },
  {
   "cell_type": "markdown",
   "id": "796c9678",
   "metadata": {},
   "source": [
    "**34. Write a Python program to sum two given integers. However, if the sum is between 15 and 20 it will return 20.**"
   ]
  },
  {
   "cell_type": "code",
   "execution_count": 94,
   "id": "e7fa5ed7",
   "metadata": {},
   "outputs": [
    {
     "name": "stdout",
     "output_type": "stream",
     "text": [
      "49\n",
      "20\n"
     ]
    }
   ],
   "source": [
    "# comparison operators\n",
    "def sum(x, y):\n",
    "    sum = x + y\n",
    "    # `<= 20` or `< 20` is not important in this case\n",
    "    if sum >= 15 and sum <= 20:\n",
    "        return 20\n",
    "    else:\n",
    "        return sum\n",
    "    \n",
    "print(sum(13, 36))\n",
    "print(sum(7, 8))"
   ]
  },
  {
   "cell_type": "code",
   "execution_count": 95,
   "id": "c42aec67",
   "metadata": {},
   "outputs": [
    {
     "name": "stdout",
     "output_type": "stream",
     "text": [
      "49\n",
      "20\n"
     ]
    }
   ],
   "source": [
    "# `range()`\n",
    "def sum(x, y):\n",
    "    sum = x + y\n",
    "    if sum in range(15, 20):\n",
    "        return 20\n",
    "    else:\n",
    "        return sum\n",
    "    \n",
    "print(sum(13, 36))\n",
    "print(sum(7, 8))"
   ]
  },
  {
   "cell_type": "markdown",
   "id": "da202241",
   "metadata": {},
   "source": [
    "**35. Write a Python program that returns true if the two given integer values are equal or their sum or difference is 5.**"
   ]
  },
  {
   "cell_type": "code",
   "execution_count": 97,
   "id": "d9399eff",
   "metadata": {},
   "outputs": [
    {
     "name": "stdout",
     "output_type": "stream",
     "text": [
      "True\n",
      "True\n",
      "True\n",
      "False\n",
      "False\n"
     ]
    }
   ],
   "source": [
    "# if-else statement & `abs()`\n",
    "def test_number5(x, y):\n",
    "    \"\"\"\n",
    "    if x == y or abs(x - y) == 5 or x + y == 5:\n",
    "        return True\n",
    "    else:\n",
    "        return False\n",
    "    \"\"\"\n",
    "    return x == y or x + y == 5 or abs(x - y) == 5\n",
    "\n",
    "print(test_number5(3, 2))\n",
    "print(test_number5(3, 8))\n",
    "print(test_number5(5, 5))\n",
    "print(test_number5(13, 16))\n",
    "print(test_number5(1, 100))"
   ]
  },
  {
   "cell_type": "markdown",
   "id": "8e503871",
   "metadata": {},
   "source": [
    "**36. Write a Python program to add two objects if both objects are integers.**"
   ]
  },
  {
   "cell_type": "code",
   "execution_count": 99,
   "id": "b267e23b",
   "metadata": {},
   "outputs": [
    {
     "name": "stdout",
     "output_type": "stream",
     "text": [
      "8\n",
      "Inputs must be integers!\n"
     ]
    }
   ],
   "source": [
    "# `isinstance()`\n",
    "def add_numbers(x, y):\n",
    "    if not (isinstance(x, int) and isinstance(y, int)):\n",
    "        return \"Inputs must be integers!\"\n",
    "    return x + y\n",
    "    \n",
    "print(add_numbers(3, 5))\n",
    "print(add_numbers(\"Hello\", 8))"
   ]
  },
  {
   "cell_type": "markdown",
   "id": "4aefd68c",
   "metadata": {},
   "source": [
    "**37. Write a Python program that displays your name, age, and address on three different lines.**"
   ]
  },
  {
   "cell_type": "code",
   "execution_count": 100,
   "id": "437e65f0",
   "metadata": {},
   "outputs": [
    {
     "name": "stdout",
     "output_type": "stream",
     "text": [
      "Name: Joe\n",
      "Age: 37\n",
      "Address: Taipei, Taiwan\n"
     ]
    }
   ],
   "source": [
    "# `format()`\n",
    "def personal_details():\n",
    "    name, age = \"Joe\", 37\n",
    "    address = \"Taipei, Taiwan\"\n",
    "    print(\"Name: {}\\nAge: {}\\nAddress: {}\".format(name, age, address))\n",
    "    \n",
    "personal_details()"
   ]
  },
  {
   "cell_type": "markdown",
   "id": "176ace10",
   "metadata": {},
   "source": [
    "**38. Write a Python program to solve (x + y) * (x + y).**\n",
    "\n",
    "<i>Test Data:</i>\n",
    "\n",
    "x = 4, y = 3\n",
    "\n",
    "<i>Expected Output:</i>\n",
    "\n",
    "(4 + 3) ^ 2) = 49"
   ]
  },
  {
   "cell_type": "code",
   "execution_count": 3,
   "id": "fd4c5a8a",
   "metadata": {},
   "outputs": [
    {
     "name": "stdout",
     "output_type": "stream",
     "text": [
      "64\n",
      "169\n"
     ]
    }
   ],
   "source": [
    "# function\n",
    "def square_of_sum(x, y):\n",
    "    return (x + y) * (x + y)\n",
    "\n",
    "print(square_of_sum(3, 5))\n",
    "print(square_of_sum(5, 8))"
   ]
  },
  {
   "cell_type": "code",
   "execution_count": 7,
   "id": "f3e2f8cc",
   "metadata": {},
   "outputs": [
    {
     "name": "stdout",
     "output_type": "stream",
     "text": [
      "(3 + 5) ^ 2 = 64\n"
     ]
    }
   ],
   "source": [
    "# no function & `format`\n",
    "x, y = 3, 5\n",
    "result = x * x + 2 * x * y + y * y\n",
    "print(\"({} + {}) ^ 2 = {}\".format(x, y, result))"
   ]
  },
  {
   "cell_type": "markdown",
   "id": "b12f0e3e",
   "metadata": {},
   "source": [
    "**39. Write a Python program to compute the future value of a specified principal amount, rate of interest, and number of years.**\n",
    "\n",
    "<i>Test Data:</i> \n",
    "\n",
    "amt = 10000, int = 3.5, years = 7\n",
    "\n",
    "<i>Expected Output:</i> \n",
    "\n",
    "12722.79"
   ]
  },
  {
   "cell_type": "code",
   "execution_count": 13,
   "id": "9acdef55",
   "metadata": {},
   "outputs": [
    {
     "name": "stdout",
     "output_type": "stream",
     "text": [
      "12722.79\n"
     ]
    }
   ],
   "source": [
    "# `round()` & Function\n",
    "def future_value(amt, int, years):\n",
    "    return round(amt * (1 + int * 0.01) ** years, 2)\n",
    "\n",
    "print(future_value(10000, 3.5, 7))"
   ]
  },
  {
   "cell_type": "code",
   "execution_count": 14,
   "id": "9f65dfc9",
   "metadata": {},
   "outputs": [
    {
     "name": "stdout",
     "output_type": "stream",
     "text": [
      "12722.79\n"
     ]
    }
   ],
   "source": [
    "# `round()` & No function\n",
    "amt = 10000\n",
    "int = 3.5\n",
    "years = 7\n",
    "future_value = amt * (1 + 0.01 * int) ** years\n",
    "print(round(future_value, 2))"
   ]
  },
  {
   "cell_type": "markdown",
   "id": "897c036f",
   "metadata": {},
   "source": [
    "**40. Write a Python program to calculate the distance between the points (x1, y1) and (x2, y2).**"
   ]
  },
  {
   "cell_type": "code",
   "execution_count": 17,
   "id": "8feb4e32",
   "metadata": {},
   "outputs": [
    {
     "name": "stdout",
     "output_type": "stream",
     "text": [
      "6.324555320336759\n"
     ]
    }
   ],
   "source": [
    "# List\n",
    "from math import sqrt\n",
    "\n",
    "def euclidean_distance(p1, p2):\n",
    "    return sqrt((p1[0] - p2[0]) ** 2 + (p1[1] - p2[1]) ** 2)\n",
    "\n",
    "print(euclidean_distance([4, 0], [6, 6]))"
   ]
  },
  {
   "cell_type": "code",
   "execution_count": 19,
   "id": "f8edb638",
   "metadata": {},
   "outputs": [
    {
     "name": "stdout",
     "output_type": "stream",
     "text": [
      "6.324555320336759\n"
     ]
    }
   ],
   "source": [
    "# Tuple\n",
    "from math import sqrt\n",
    "\n",
    "def euclidean_distance(p1, p2):\n",
    "    return sqrt((p1[0] - p2[0]) ** 2 + (p1[1] - p2[1]) ** 2)\n",
    "\n",
    "print(euclidean_distance((4, 0), (6, 6)))"
   ]
  },
  {
   "cell_type": "markdown",
   "id": "9c4db08a",
   "metadata": {},
   "source": [
    "**41. Write a Python program to check whether a file exists.**"
   ]
  },
  {
   "cell_type": "code",
   "execution_count": 20,
   "id": "bfaad332",
   "metadata": {},
   "outputs": [
    {
     "name": "stdout",
     "output_type": "stream",
     "text": [
      "True\n",
      "False\n"
     ]
    }
   ],
   "source": [
    "# [1] `os.path.isfile`\n",
    "import os.path\n",
    "\n",
    "print(os.path.isfile('python_basic.ipynb'))\n",
    "print(os.path.isfile('main.py'))"
   ]
  },
  {
   "cell_type": "code",
   "execution_count": 22,
   "id": "f0842197",
   "metadata": {},
   "outputs": [
    {
     "name": "stdout",
     "output_type": "stream",
     "text": [
      "True\n",
      "False\n"
     ]
    }
   ],
   "source": [
    "# [2] `os.path.exists`\n",
    "import os.path\n",
    "\n",
    "print(os.path.exists('python_basic.ipynb'))\n",
    "print(os.path.exists('main.py'))"
   ]
  },
  {
   "cell_type": "code",
   "execution_count": 21,
   "id": "834057d2",
   "metadata": {},
   "outputs": [
    {
     "name": "stdout",
     "output_type": "stream",
     "text": [
      "File found!\n"
     ]
    }
   ],
   "source": [
    "# [3] `open` & try-except block\n",
    "my_file = open('python_basic.ipynb')\n",
    "try:\n",
    "    my_file.close()\n",
    "    print(\"File found!\")\n",
    "except FileNotFoundError:\n",
    "    print(\"File not found!\")"
   ]
  },
  {
   "cell_type": "markdown",
   "id": "fb5b3f33",
   "metadata": {},
   "source": [
    "**42. Write a Python program to determine if a Python shell is executing in 32bit or 64bit mode on OS.**"
   ]
  },
  {
   "cell_type": "code",
   "execution_count": 23,
   "id": "8ecadcda",
   "metadata": {},
   "outputs": [
    {
     "name": "stdout",
     "output_type": "stream",
     "text": [
      "64\n"
     ]
    }
   ],
   "source": [
    "# `struct.calcsize()`\n",
    "import struct\n",
    "\n",
    "print(struct.calcsize(\"P\") * 8)"
   ]
  },
  {
   "cell_type": "code",
   "execution_count": 24,
   "id": "07a3fe45",
   "metadata": {},
   "outputs": [
    {
     "name": "stdout",
     "output_type": "stream",
     "text": [
      "64bit\n"
     ]
    }
   ],
   "source": [
    "# `platform.architecture()`\n",
    "import platform\n",
    "\n",
    "print(platform.architecture()[0])"
   ]
  },
  {
   "cell_type": "markdown",
   "id": "6935c734",
   "metadata": {},
   "source": [
    "**43. Write a Python program to get OS name, platform and release information.**"
   ]
  },
  {
   "cell_type": "code",
   "execution_count": 27,
   "id": "4d8bf5af",
   "metadata": {},
   "outputs": [
    {
     "name": "stdout",
     "output_type": "stream",
     "text": [
      "Name of the operating system: posix\n",
      "Name of the OS system: Linux\n",
      "Version of the operating system: 5.4.0-148-generic\n"
     ]
    }
   ],
   "source": [
    "# `os.name` & `platform.system()` & `platform.release()`\n",
    "import os, platform\n",
    "\n",
    "print(\"Name of the operating system:\", os.name)\n",
    "print(\"Name of the OS system:\", platform.system())\n",
    "print(\"Version of the operating system:\", platform.release())"
   ]
  },
  {
   "cell_type": "code",
   "execution_count": 29,
   "id": "6d6e1162",
   "metadata": {},
   "outputs": [
    {
     "name": "stdout",
     "output_type": "stream",
     "text": [
      "os.name                      posix\n",
      "sys.platform                 linux\n",
      "platform.system()            Linux\n",
      "sysconfig.get_platform()     linux-x86_64\n",
      "platform.machine()           x86_64\n",
      "platform.architecture()      ('64bit', 'ELF')\n"
     ]
    }
   ],
   "source": [
    "# `sys.platform` & `sysconfig.get_platform()` & `platform.machine()` & `platform.architecture()`\n",
    "import sys, sysconfig, os, platform\n",
    "\n",
    "print(\"os.name                     \", os.name)\n",
    "print(\"sys.platform                \", sys.platform)\n",
    "print(\"platform.system()           \", platform.system())\n",
    "print(\"sysconfig.get_platform()    \", sysconfig.get_platform())\n",
    "print(\"platform.machine()          \", platform.machine())\n",
    "print(\"platform.architecture()     \", platform.architecture())"
   ]
  },
  {
   "cell_type": "markdown",
   "id": "5cac7815",
   "metadata": {},
   "source": [
    "**44. Write a Python program to locate Python site packages.**"
   ]
  },
  {
   "cell_type": "code",
   "execution_count": 30,
   "id": "5389eb74",
   "metadata": {},
   "outputs": [
    {
     "name": "stdout",
     "output_type": "stream",
     "text": [
      "['/home/yungshun/yungshun-py3/lib/python3.8/site-packages']\n"
     ]
    }
   ],
   "source": [
    "# `site.getsitepackages()`\n",
    "import site\n",
    "\n",
    "print(site.getsitepackages())"
   ]
  },
  {
   "cell_type": "markdown",
   "id": "a5204089",
   "metadata": {},
   "source": [
    "**45. Write a Python program that calls an external command.**"
   ]
  },
  {
   "cell_type": "code",
   "execution_count": 31,
   "id": "8ae274ee",
   "metadata": {},
   "outputs": [
    {
     "name": "stdout",
     "output_type": "stream",
     "text": [
      "total 48\n",
      "-rw-rw-r-- 1 yungshun yungshun 47110  五  17 08:32 python_basic.ipynb\n"
     ]
    },
    {
     "data": {
      "text/plain": [
       "0"
      ]
     },
     "execution_count": 31,
     "metadata": {},
     "output_type": "execute_result"
    }
   ],
   "source": [
    "# [1] `subprocess.call()`\n",
    "from subprocess import call\n",
    "\n",
    "call([\"ls\", \"-l\"])"
   ]
  },
  {
   "cell_type": "code",
   "execution_count": 32,
   "id": "3826660e",
   "metadata": {},
   "outputs": [
    {
     "name": "stdout",
     "output_type": "stream",
     "text": [
      "total 48\n",
      "-rw-rw-r-- 1 yungshun yungshun 48113  五  17 08:34 python_basic.ipynb\n",
      "0\n"
     ]
    }
   ],
   "source": [
    "# [2] `os.system()`\n",
    "import os\n",
    "\n",
    "print(os.system(\"ls -l\"))"
   ]
  },
  {
   "cell_type": "markdown",
   "id": "5c776a97",
   "metadata": {},
   "source": [
    "**46. Write a Python program to retrieve the path and name of the file currently being executed.**"
   ]
  },
  {
   "cell_type": "code",
   "execution_count": 50,
   "id": "fabe8601",
   "metadata": {},
   "outputs": [],
   "source": [
    "# `os.path.realpath(__file__)`, `os.path.abspath(__file__)`, `sys.argv[0]`\n",
    "import os, sys\n",
    "\n",
    "# Not work in Jupyter Notebook\n",
    "# print(\"Current File Name:\", os.path.realpath(__file__))\n",
    "# print(\"Current File Name:\", os.path.abspath(__file__))\n",
    "# print(\"Current File Name:\", sys.argv[0])\n",
    "\n",
    "# Output\n",
    "# Current File Name: /home/yungshun/workspace/py/python-w3resource-exercises/main.py\n",
    "# Current File Name: /home/yungshun/workspace/py/python-w3resource-exercises/main.py\n",
    "# Current File Name: main.py"
   ]
  },
  {
   "cell_type": "markdown",
   "id": "4a13f714",
   "metadata": {},
   "source": [
    "**47. Write a Python program to find out the number of CPUs used.**"
   ]
  },
  {
   "cell_type": "code",
   "execution_count": 33,
   "id": "f227c007",
   "metadata": {},
   "outputs": [
    {
     "name": "stdout",
     "output_type": "stream",
     "text": [
      "12\n"
     ]
    }
   ],
   "source": [
    "# [3] `psutil`\n",
    "import psutil\n",
    "\n",
    "print(psutil.cpu_count())"
   ]
  },
  {
   "cell_type": "code",
   "execution_count": null,
   "id": "54affa5a",
   "metadata": {},
   "outputs": [],
   "source": []
  }
 ],
 "metadata": {
  "kernelspec": {
   "display_name": "Python 3 (ipykernel)",
   "language": "python",
   "name": "python3"
  },
  "language_info": {
   "codemirror_mode": {
    "name": "ipython",
    "version": 3
   },
   "file_extension": ".py",
   "mimetype": "text/x-python",
   "name": "python",
   "nbconvert_exporter": "python",
   "pygments_lexer": "ipython3",
   "version": "3.8.8"
  }
 },
 "nbformat": 4,
 "nbformat_minor": 5
}

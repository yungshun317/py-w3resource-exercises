{
 "cells": [
  {
   "cell_type": "markdown",
   "id": "16e55bda",
   "metadata": {},
   "source": [
    "# Python Basic\n",
    "\n",
    "**1. Write a Python program to print the following string in a specific format (see the output).**<br>\n",
    "\n",
    "<i>Sample String:</i> \n",
    "\n",
    "\"Twinkle, twinkle, little star, How I wonder what you are! Up above the world so high, Like a diamond in the sky. Twinkle, twinkle, little star, How I wonder what you are\"<br>\n",
    "\n",
    "<i>Output:</i>\n",
    "<pre>\n",
    "Twinkle, twinkle, little star,\n",
    "\tHow I wonder what you are!\n",
    "\t\tUp above the world so high,\t\t\n",
    "\t\tLike a diamond in the sky.\n",
    "Twinkle, twinkle, little star,\n",
    "\tHow I wonder what you are</pre>"
   ]
  },
  {
   "cell_type": "code",
   "execution_count": 1,
   "id": "c41a61bf",
   "metadata": {},
   "outputs": [
    {
     "name": "stdout",
     "output_type": "stream",
     "text": [
      "Twinkle, twinkle, little star, \n",
      "\tHow I wonder what you are! \n",
      "\t\tUp above the world so high, \n",
      "\t\tLike a diamond in the sky. \n",
      "Twinkle, twinkle, little star, \n",
      "\tHow I wonder what you are\n"
     ]
    }
   ],
   "source": [
    "# `\\n` symbol means literally new line\n",
    "# `\\t` symbol means add a tab\n",
    "print(\"Twinkle, twinkle, little star, \\n\\tHow I wonder what you are! \\n\\t\\tUp above the world so high, \\n\\t\\tLike a diamond in the sky. \\nTwinkle, twinkle, little star, \\n\\tHow I wonder what you are\")"
   ]
  },
  {
   "cell_type": "markdown",
   "id": "973159a2",
   "metadata": {},
   "source": [
    "**2. Write a Python program to find out what version of Python you are using.**"
   ]
  },
  {
   "cell_type": "code",
   "execution_count": 2,
   "id": "bb38cd17",
   "metadata": {},
   "outputs": [
    {
     "name": "stdout",
     "output_type": "stream",
     "text": [
      "Python Version\n",
      "3.8.8 (default, Apr 13 2021, 19:58:26) \n",
      "[GCC 7.3.0]\n",
      "Version Info\n",
      "sys.version_info(major=3, minor=8, micro=8, releaselevel='final', serial=0)\n"
     ]
    }
   ],
   "source": [
    "# [1] `sys` module\n",
    "import sys\n",
    "\n",
    "print(\"Python Version\")\n",
    "print(sys.version)\n",
    "print(\"Version Info\")\n",
    "print(sys.version_info)"
   ]
  },
  {
   "cell_type": "code",
   "execution_count": 3,
   "id": "50057603",
   "metadata": {},
   "outputs": [
    {
     "name": "stdout",
     "output_type": "stream",
     "text": [
      "Python 3.8.8\r\n"
     ]
    }
   ],
   "source": [
    "# [2] Run shell command in Jupyter Notebook\n",
    "!python -V"
   ]
  },
  {
   "cell_type": "code",
   "execution_count": 4,
   "id": "17677af8",
   "metadata": {},
   "outputs": [
    {
     "name": "stdout",
     "output_type": "stream",
     "text": [
      "Python 3.8.8\r\n"
     ]
    }
   ],
   "source": [
    "# [3] Run shell command in Jupyter Notebook\n",
    "!python --version"
   ]
  },
  {
   "cell_type": "code",
   "execution_count": 5,
   "id": "27a3e986",
   "metadata": {},
   "outputs": [
    {
     "name": "stdout",
     "output_type": "stream",
     "text": [
      "3.8.8\n"
     ]
    }
   ],
   "source": [
    "# [4] `platform` module\n",
    "import platform\n",
    "\n",
    "print(platform.python_version())"
   ]
  },
  {
   "cell_type": "markdown",
   "id": "0138d619",
   "metadata": {},
   "source": [
    "**3. Write a Python program to display the current date and time.**<br>\n",
    "\n",
    "<i>Sample Output:</i>\n",
    "\n",
    "Current date and time:<br>\n",
    "2014-07-05 14:34:14"
   ]
  },
  {
   "cell_type": "code",
   "execution_count": 6,
   "id": "562111c1",
   "metadata": {},
   "outputs": [
    {
     "name": "stdout",
     "output_type": "stream",
     "text": [
      "Current date and time:\n",
      "2023-05-17 12:13:52\n"
     ]
    }
   ],
   "source": [
    "# `datetime.datetime.now()` & `date.strftime(format)`\n",
    "import datetime\n",
    "\n",
    "now = datetime.datetime.now()\n",
    "print(\"Current date and time:\")\n",
    "print(now.strftime(\"%Y-%m-%d %H:%M:%S\"))"
   ]
  },
  {
   "cell_type": "markdown",
   "id": "eb30ea0c",
   "metadata": {},
   "source": [
    "**4. Write a Python program that calculates the area of a circle based on the radius entered by the user.**\n",
    "\n",
    "<i>Sample Output:</i><br>\n",
    "\n",
    "r = 1.1<br>\n",
    "Area = 3.8013271108436504"
   ]
  },
  {
   "cell_type": "code",
   "execution_count": 14,
   "id": "f0ab3f6f",
   "metadata": {},
   "outputs": [
    {
     "name": "stdout",
     "output_type": "stream",
     "text": [
      "Input the radius of the circle: 10\n",
      "The area of the circle with radius 10.0 is: 314.1592653589793\n"
     ]
    }
   ],
   "source": [
    "# `math.pi` & `input()`\n",
    "from math import pi\n",
    "\n",
    "r = float(input(\"Input the radius of the circle: \"))\n",
    "\n",
    "print(\"The area of the circle with radius \" + str(r) + \" is: \" + str(pi * r**2))"
   ]
  },
  {
   "cell_type": "markdown",
   "id": "468cbeff",
   "metadata": {},
   "source": [
    "**5. Write a Python program that accepts the user's first and last name and prints them in reverse order with a space between them.**"
   ]
  },
  {
   "cell_type": "code",
   "execution_count": 8,
   "id": "ad3d3fc2",
   "metadata": {},
   "outputs": [
    {
     "name": "stdout",
     "output_type": "stream",
     "text": [
      "Input your First Name: Yung-Shun\n",
      "Input your Last Name: Chang\n",
      "Hello Chang Yung-Shun\n"
     ]
    }
   ],
   "source": [
    "# `input()`\n",
    "fname = input(\"Input your First Name: \")\n",
    "lname = input(\"Input your Last Name: \")\n",
    "\n",
    "print(\"Hello \" + lname + \" \" + fname)"
   ]
  },
  {
   "cell_type": "markdown",
   "id": "a4cde307",
   "metadata": {},
   "source": [
    "**6. Write a Python program that accepts a sequence of comma-separated numbers from the user and generates a list and a tuple of those numbers.**\n",
    "\n",
    "<i>Sample Data:</i><br>\n",
    "<br>\n",
    "3, 5, 7, 23\n",
    "\n",
    "<i>Output:</i><br>\n",
    "\n",
    "List : ['3', ' 5', ' 7', ' 23']<br>\n",
    "Tuple : ('3', ' 5', ' 7', ' 23')"
   ]
  },
  {
   "cell_type": "code",
   "execution_count": 9,
   "id": "9f00e584",
   "metadata": {},
   "outputs": [
    {
     "name": "stdout",
     "output_type": "stream",
     "text": [
      "Input some comma-separated numbers: 3,5,8,17\n",
      "List:  ['3', '5', '8', '17']\n",
      "Tuple:  ('3', '5', '8', '17')\n"
     ]
    }
   ],
   "source": [
    "# `split()` for a list & `tuple()` for a tuple\n",
    "values = input(\"Input some comma-separated numbers: \")\n",
    "\n",
    "list = values.split(\",\")\n",
    "tuple = tuple(list)\n",
    "\n",
    "print(\"List: \", list)\n",
    "print(\"Tuple: \", tuple)"
   ]
  },
  {
   "cell_type": "markdown",
   "id": "2e42149e",
   "metadata": {},
   "source": [
    "**7. Write a Python program that accepts a filename from the user and prints the extension of the file.**\n",
    "\n",
    "<i>Sample Filename:</i><br>\n",
    "\n",
    "abc.java\n",
    "\n",
    "<i>Output:</i>\n",
    "\n",
    "java"
   ]
  },
  {
   "cell_type": "code",
   "execution_count": 10,
   "id": "5c675356",
   "metadata": {},
   "outputs": [
    {
     "name": "stdout",
     "output_type": "stream",
     "text": [
      "The extension of the file is: 'java'\n"
     ]
    }
   ],
   "source": [
    "# `split()` & `-1` as index\n",
    "filename = \"abc.java\"\n",
    "f_extns = filename.split(\".\")\n",
    "print(\"The extension of the file is: \" + repr(f_extns[-1]))"
   ]
  },
  {
   "cell_type": "markdown",
   "id": "81dba2b8",
   "metadata": {},
   "source": [
    "**8. Write a Python program to display the first and last colors from the following list.**\n",
    "\n",
    "color_list = [\"Red\",\"Green\",\"White\" ,\"Black\"]"
   ]
  },
  {
   "cell_type": "code",
   "execution_count": 11,
   "id": "e7f78bc8",
   "metadata": {},
   "outputs": [
    {
     "name": "stdout",
     "output_type": "stream",
     "text": [
      "Red Black\n"
     ]
    }
   ],
   "source": [
    "# `%s`\n",
    "color_list = [\"Red\", \"Green\", \"White\", \"Black\"]\n",
    "print(\"%s %s\" % (color_list[0], color_list[-1]))"
   ]
  },
  {
   "cell_type": "markdown",
   "id": "8171fec6",
   "metadata": {},
   "source": [
    "**9. Write a Python program to display the examination schedule. (extract the date from exam_st_date).**\n",
    "\n",
    "exam_st_date = (11, 12, 2014)\n",
    "\n",
    "<i>Sample Output:</i>\n",
    "\n",
    "The examination will start from : 11 / 12 / 2014"
   ]
  },
  {
   "cell_type": "code",
   "execution_count": 12,
   "id": "c7239dd8",
   "metadata": {},
   "outputs": [
    {
     "name": "stdout",
     "output_type": "stream",
     "text": [
      "The examination will start from: 11 / 12 / 2014\n"
     ]
    }
   ],
   "source": [
    "# `%i` formats the integers\n",
    "exam_st_date = (11, 12, 2014)\n",
    "print(\"The examination will start from: %i / %i / %i\" % exam_st_date)"
   ]
  },
  {
   "cell_type": "markdown",
   "id": "c4fd9170",
   "metadata": {},
   "source": [
    "**10. Write a Python program that accepts an integer (n) and computes the value of n+nn+nnn.**\n",
    "\n",
    "<i>Sample Value:</i> \n",
    "\n",
    "n = 5\n",
    "\n",
    "<i>Expected Result:</i> \n",
    "\n",
    "615"
   ]
  },
  {
   "cell_type": "code",
   "execution_count": 13,
   "id": "4f860cd4",
   "metadata": {},
   "outputs": [
    {
     "name": "stdout",
     "output_type": "stream",
     "text": [
      "Input an integer: 5\n",
      "615\n"
     ]
    }
   ],
   "source": [
    "# `int()` & `%s`\n",
    "n = int(input(\"Input an integer: \"))\n",
    "\n",
    "n1 = int(\"%s\" % n)\n",
    "n2 = int(\"%s%s\" % (n, n))\n",
    "n3 = int(\"%s%s%s\" % (n, n, n))\n",
    "\n",
    "print(n1 + n2 + n3)"
   ]
  },
  {
   "cell_type": "markdown",
   "id": "20b96bfc",
   "metadata": {},
   "source": [
    "**11. Write a Python program to print the documents (syntax, description etc.) of Python built-in function(s).**\n",
    "\n",
    "<i>Sample Function:</i> \n",
    "\n",
    "abs()\n",
    "\n",
    "<i>Expected Result:</i>\n",
    "\n",
    "abs(number) -> number<br>\n",
    "Return the absolute value of the argument."
   ]
  },
  {
   "cell_type": "code",
   "execution_count": 14,
   "id": "27e95589",
   "metadata": {},
   "outputs": [
    {
     "name": "stdout",
     "output_type": "stream",
     "text": [
      "Return the absolute value of the argument.\n"
     ]
    }
   ],
   "source": [
    "# `__doc__`\n",
    "print(abs.__doc__)"
   ]
  },
  {
   "cell_type": "markdown",
   "id": "c304f3a8",
   "metadata": {},
   "source": [
    "**12. Write a Python program that prints the calendar for a given month and year.**\n",
    "\n",
    "<i>Note:</i>\n",
    "\n",
    "Use \"calendar\" module."
   ]
  },
  {
   "cell_type": "code",
   "execution_count": 15,
   "id": "31e86a56",
   "metadata": {},
   "outputs": [
    {
     "name": "stdout",
     "output_type": "stream",
     "text": [
      "Input the year: 2023\n",
      "Input the month: 5\n",
      "      May 2023\n",
      "Mo Tu We Th Fr Sa Su\n",
      " 1  2  3  4  5  6  7\n",
      " 8  9 10 11 12 13 14\n",
      "15 16 17 18 19 20 21\n",
      "22 23 24 25 26 27 28\n",
      "29 30 31\n",
      "\n"
     ]
    }
   ],
   "source": [
    "# `calendar.month()`\n",
    "import calendar\n",
    "\n",
    "y = int(input(\"Input the year: \"))\n",
    "m = int(input(\"Input the month: \"))\n",
    "\n",
    "print(calendar.month(y, m))"
   ]
  },
  {
   "cell_type": "markdown",
   "id": "b036770a",
   "metadata": {},
   "source": [
    "**13. Write a Python program to print the following \"here document\".**\n",
    "\n",
    "<i>Sample String:</i>\n",
    "<pre>\n",
    "a string that you \"don't\" have to escape\n",
    "This\n",
    "is a ....... multi-line\n",
    "heredoc string --------> example</pre>"
   ]
  },
  {
   "cell_type": "code",
   "execution_count": 16,
   "id": "cdb00d88",
   "metadata": {},
   "outputs": [
    {
     "name": "stdout",
     "output_type": "stream",
     "text": [
      "\n",
      "a string that you \"don't\" have to escape\n",
      "This\n",
      "is a ....... multi-line\n",
      "heredoc string --------> example\n",
      "\n"
     ]
    }
   ],
   "source": [
    "# Here document (heredoc)\n",
    "# `print(\"\"\"text\"\"\")`\n",
    "print(\"\"\"\n",
    "a string that you \"don't\" have to escape\n",
    "This\n",
    "is a ....... multi-line\n",
    "heredoc string --------> example\n",
    "\"\"\")"
   ]
  },
  {
   "cell_type": "markdown",
   "id": "1a09d823",
   "metadata": {},
   "source": [
    "**14. Write a Python program to calculate the number of days between two dates.**\n",
    "\n",
    "<i>Sample Dates:</i> \n",
    "\n",
    "(2014, 7, 2), (2014, 7, 11)\n",
    "\n",
    "<i>Expected Output:</i> \n",
    "\n",
    "9 days"
   ]
  },
  {
   "cell_type": "code",
   "execution_count": 17,
   "id": "4ba8aad1",
   "metadata": {},
   "outputs": [
    {
     "name": "stdout",
     "output_type": "stream",
     "text": [
      "9\n"
     ]
    }
   ],
   "source": [
    "# `datetime.date(year, month, day)` & `timedelta.days`\n",
    "# timedelta = date1 - date2\n",
    "from datetime import date\n",
    "\n",
    "f_date = date(2014, 7, 2)\n",
    "l_date = date(2014, 7, 11)\n",
    "delta = l_date - f_date\n",
    "print(delta.days)"
   ]
  },
  {
   "cell_type": "markdown",
   "id": "b8d40400",
   "metadata": {},
   "source": [
    "**15. Write a Python program to get the volume of a sphere with radius six.**"
   ]
  },
  {
   "cell_type": "code",
   "execution_count": 18,
   "id": "fa2546ff",
   "metadata": {},
   "outputs": [
    {
     "name": "stdout",
     "output_type": "stream",
     "text": [
      "The volume of the sphere is: 904.7786842338603\n"
     ]
    }
   ],
   "source": [
    "# `math.pi`\n",
    "from math import pi\n",
    "\n",
    "r = 6.0\n",
    "V = 4.0 / 3.0 * pi * r**3\n",
    "print(\"The volume of the sphere is:\", V)"
   ]
  },
  {
   "cell_type": "markdown",
   "id": "1f771477",
   "metadata": {},
   "source": [
    "**16. Write a Python program to calculate the difference between a given number and 17. If the number is greater than 17, return twice the absolute difference.**"
   ]
  },
  {
   "cell_type": "code",
   "execution_count": 19,
   "id": "af99261b",
   "metadata": {},
   "outputs": [
    {
     "name": "stdout",
     "output_type": "stream",
     "text": [
      "14\n",
      "38\n"
     ]
    }
   ],
   "source": [
    "# if-else statement\n",
    "def difference(n):\n",
    "    if n <= 17:\n",
    "        return 17 - n\n",
    "    else:\n",
    "        return (n - 17) * 2\n",
    "\n",
    "print(difference(3))\n",
    "print(difference(36))"
   ]
  },
  {
   "cell_type": "markdown",
   "id": "75957738",
   "metadata": {},
   "source": [
    "**17. Write a Python program to test whether a number is within 100 of 1000 or 2000.**"
   ]
  },
  {
   "cell_type": "code",
   "execution_count": 20,
   "id": "3f5bfdb6",
   "metadata": {},
   "outputs": [
    {
     "name": "stdout",
     "output_type": "stream",
     "text": [
      "True\n",
      "True\n",
      "False\n"
     ]
    }
   ],
   "source": [
    "# if-else statement & `or`\n",
    "def near_thousand(n):\n",
    "    \"\"\"\n",
    "    if abs(n - 1000) <= 100 or abs (n - 2000) <= 100:\n",
    "        return True\n",
    "    else:\n",
    "        return False\n",
    "    \"\"\"\n",
    "    return ((abs(n - 1000) <= 100) or (abs(n - 2000) <= 100))\n",
    "    \n",
    "print(near_thousand(1024))\n",
    "print(near_thousand(2048))\n",
    "print(near_thousand(3178))"
   ]
  },
  {
   "cell_type": "markdown",
   "id": "f1a5c295",
   "metadata": {},
   "source": [
    "**18. Write a Python program to calculate the sum of three given numbers. If the values are equal, return three times their sum.**"
   ]
  },
  {
   "cell_type": "code",
   "execution_count": 21,
   "id": "8da64fc6",
   "metadata": {},
   "outputs": [
    {
     "name": "stdout",
     "output_type": "stream",
     "text": [
      "2006\n",
      "144\n"
     ]
    }
   ],
   "source": [
    "# if-else statement & `x == y == z`\n",
    "def sum_thrice(x, y, z):\n",
    "    result = x + y + z  \n",
    "    if x == y == z:\n",
    "        result = result * 3\n",
    "    return result\n",
    "    \n",
    "print(sum_thrice(1986, 3, 17))\n",
    "print(sum_thrice(16, 16, 16))"
   ]
  },
  {
   "cell_type": "markdown",
   "id": "9d9ebd9c",
   "metadata": {},
   "source": [
    "**19. Write a Python program to get a newly-generated string from a given string where \"Is\" has been added to the front. Return the string unchanged if the given string already begins with \"Is\".**"
   ]
  },
  {
   "cell_type": "code",
   "execution_count": 22,
   "id": "2b356035",
   "metadata": {},
   "outputs": [
    {
     "name": "stdout",
     "output_type": "stream",
     "text": [
      "IsArray\n",
      "IsEmpty\n"
     ]
    }
   ],
   "source": [
    "# `len()` & string slicing with `:` delimiter\n",
    "def new_string(text):\n",
    "    if len(text) >= 2 and text[:2] == \"Is\":\n",
    "        return text\n",
    "    return \"Is\" + text\n",
    "\n",
    "print(new_string(\"Array\"))\n",
    "print(new_string(\"IsEmpty\"))"
   ]
  },
  {
   "cell_type": "markdown",
   "id": "c717219a",
   "metadata": {},
   "source": [
    "**20. Write a Python program that returns a string that is n (non-negative integer) copies of a given string.**"
   ]
  },
  {
   "cell_type": "code",
   "execution_count": 23,
   "id": "bd41e9ba",
   "metadata": {},
   "outputs": [
    {
     "name": "stdout",
     "output_type": "stream",
     "text": [
      "lovelovelove\n"
     ]
    }
   ],
   "source": [
    "# [1] `*` operator\n",
    "def larger_string(text, n):\n",
    "    return text * n\n",
    "\n",
    "print(larger_string(\"love\", 3))"
   ]
  },
  {
   "cell_type": "code",
   "execution_count": 24,
   "id": "3406ea33",
   "metadata": {},
   "outputs": [
    {
     "name": "stdout",
     "output_type": "stream",
     "text": [
      "hatehatehate\n"
     ]
    }
   ],
   "source": [
    "# [2] `+` operator & `range()`\n",
    "def larger_string(text, n):\n",
    "    result = \"\"\n",
    "    for i in range(n):\n",
    "        result = result + text\n",
    "    return result\n",
    "\n",
    "print(larger_string(\"hate\", 3))"
   ]
  },
  {
   "cell_type": "markdown",
   "id": "adf78772",
   "metadata": {},
   "source": [
    "**21. Write a Python program that determines whether a given number (accepted from the user) is even or odd, and prints an appropriate message to the user.**"
   ]
  },
  {
   "cell_type": "code",
   "execution_count": 25,
   "id": "d4de6a21",
   "metadata": {},
   "outputs": [
    {
     "name": "stdout",
     "output_type": "stream",
     "text": [
      "Enter a number: 317\n",
      "This is an odd number.\n"
     ]
    }
   ],
   "source": [
    "# `%` operator\n",
    "num = int(input(\"Enter a number: \"))\n",
    "\n",
    "mod = num % 2\n",
    "if mod > 0:\n",
    "    print(\"This is an odd number.\")\n",
    "else:\n",
    "    print(\"This is an even number.\")"
   ]
  },
  {
   "cell_type": "markdown",
   "id": "f58af9e0",
   "metadata": {},
   "source": [
    "**22. Write a Python program to count the number 4 in a given list.**"
   ]
  },
  {
   "cell_type": "code",
   "execution_count": 26,
   "id": "36136039",
   "metadata": {},
   "outputs": [
    {
     "name": "stdout",
     "output_type": "stream",
     "text": [
      "1\n",
      "3\n"
     ]
    }
   ],
   "source": [
    "# [1] for loop & list iteration\n",
    "def list_count_4(nums):\n",
    "    count = 0\n",
    "    for num in nums:\n",
    "        if num == 4:\n",
    "            count = count + 1\n",
    "    return count\n",
    "\n",
    "print(list_count_4([1, 2, 1, 2, 4, 5, 6, 7, 8, 9, 0]))\n",
    "print(list_count_4([5, 4, 1, 7, 5, 4, 3, 0, 1, 0, 4]))"
   ]
  },
  {
   "cell_type": "code",
   "execution_count": 27,
   "id": "fb47525c",
   "metadata": {},
   "outputs": [
    {
     "name": "stdout",
     "output_type": "stream",
     "text": [
      "1\n",
      "3\n"
     ]
    }
   ],
   "source": [
    "# [2] while loop & list iteration\n",
    "def list_count_4(nums):\n",
    "    count = 0\n",
    "    i = 0\n",
    "    while i != len(nums):\n",
    "        if nums[i] == 4:\n",
    "            count = count + 1\n",
    "        i = i + 1\n",
    "    return count\n",
    "\n",
    "print(list_count_4([1, 2, 1, 2, 4, 5, 6, 7, 8, 9, 0]))\n",
    "print(list_count_4([5, 4, 1, 7, 5, 4, 3, 0, 1, 0, 4]))"
   ]
  },
  {
   "cell_type": "markdown",
   "id": "068a6379",
   "metadata": {},
   "source": [
    "**23. Write a Python program to get n (non-negative integer) copies of the first 2 characters of a given string. Return n copies of the whole string if the length is less than 2.**"
   ]
  },
  {
   "cell_type": "code",
   "execution_count": 28,
   "id": "b4e1f35a",
   "metadata": {},
   "outputs": [
    {
     "name": "stdout",
     "output_type": "stream",
     "text": [
      "hehehehehe\n",
      "aaaaa\n"
     ]
    }
   ],
   "source": [
    "# [1] `*` operator\n",
    "def substring_copy(text, n):\n",
    "    if len(text) < 2:\n",
    "        return n * text\n",
    "    else: \n",
    "        return n * text[:2]\n",
    "    \n",
    "print(substring_copy(\"hello\", 5))\n",
    "print(substring_copy(\"a\", 5))"
   ]
  },
  {
   "cell_type": "code",
   "execution_count": 29,
   "id": "a279d708",
   "metadata": {},
   "outputs": [
    {
     "name": "stdout",
     "output_type": "stream",
     "text": [
      "ststst\n",
      "ppp\n"
     ]
    }
   ],
   "source": [
    "# [2] `+` operator\n",
    "def substring_copy(text, n):\n",
    "    flen = 2\n",
    "    if flen > len(text):\n",
    "        flen = len(text)\n",
    "    substr = text[:flen]\n",
    "    result = \"\"\n",
    "    for i in range(n):\n",
    "        result = result + substr\n",
    "    return result\n",
    "\n",
    "print(substring_copy(\"strings\", 3))\n",
    "print(substring_copy(\"p\", 3))"
   ]
  },
  {
   "cell_type": "markdown",
   "id": "4c03cfac",
   "metadata": {},
   "source": [
    "**24. Write a Python program to test whether a passed letter is a vowel or not.**"
   ]
  },
  {
   "cell_type": "code",
   "execution_count": 30,
   "id": "3c6f278b",
   "metadata": {},
   "outputs": [
    {
     "name": "stdout",
     "output_type": "stream",
     "text": [
      "True\n",
      "False\n"
     ]
    }
   ],
   "source": [
    "# [1] `in` & list declaration\n",
    "def is_vowel(char):\n",
    "    # if char is lowercase\n",
    "    vowel = [\"a\", \"e\", \"i\", \"o\", \"u\"]\n",
    "    return char in vowel\n",
    "    \n",
    "print(is_vowel(\"u\"))\n",
    "print(is_vowel(\"j\"))"
   ]
  },
  {
   "cell_type": "code",
   "execution_count": 31,
   "id": "a22a8e5f",
   "metadata": {},
   "outputs": [
    {
     "name": "stdout",
     "output_type": "stream",
     "text": [
      "True\n",
      "False\n"
     ]
    }
   ],
   "source": [
    "# [2] `in` & string declaration\n",
    "def is_vowel(char):\n",
    "    # if char is lowercase\n",
    "    vowel = \"aeiou\"\n",
    "    return char in vowel\n",
    "    \n",
    "print(is_vowel(\"e\"))\n",
    "print(is_vowel(\"q\"))"
   ]
  },
  {
   "cell_type": "markdown",
   "id": "d7db94ab",
   "metadata": {},
   "source": [
    "**25. Write a Python program that checks whether a specified value is contained within a group of values.**\n",
    "\n",
    "<i>Test Data:</i>\n",
    "\n",
    "3 -> [1, 5, 8, 3] : True<br>\n",
    "-1 -> [1, 5, 8, 3] : False"
   ]
  },
  {
   "cell_type": "code",
   "execution_count": 32,
   "id": "80fdc7fe",
   "metadata": {},
   "outputs": [
    {
     "name": "stdout",
     "output_type": "stream",
     "text": [
      "True\n",
      "False\n"
     ]
    }
   ],
   "source": [
    "# Python list\n",
    "def is_group_member(group_data, n):\n",
    "    \"\"\"\n",
    "    for value in group_data:\n",
    "        if n == value:\n",
    "            return True\n",
    "    return False\n",
    "    \"\"\"\n",
    "    return n in group_data\n",
    "\n",
    "print(is_group_member([3, 5, 8, 16], 5))\n",
    "print(is_group_member([3, 5, 8, 16], 13))"
   ]
  },
  {
   "cell_type": "markdown",
   "id": "4d0d7229",
   "metadata": {},
   "source": [
    "**26. Write a Python program to create a histogram from a given list of integers.**"
   ]
  },
  {
   "cell_type": "code",
   "execution_count": 33,
   "id": "862bd48d",
   "metadata": {},
   "outputs": [
    {
     "name": "stdout",
     "output_type": "stream",
     "text": [
      "*\n",
      "*********\n",
      "********\n",
      "******\n",
      "***\n",
      "*\n",
      "*******\n"
     ]
    }
   ],
   "source": [
    "# [1] `*` operator & print directly\n",
    "def histogram(items):\n",
    "    for n in items:\n",
    "        print(\"*\" * n)\n",
    "        \n",
    "histogram([1, 9, 8, 6, 3, 1, 7])"
   ]
  },
  {
   "cell_type": "code",
   "execution_count": 34,
   "id": "5ae29bd3",
   "metadata": {},
   "outputs": [
    {
     "name": "stdout",
     "output_type": "stream",
     "text": [
      "******\n",
      "*\n",
      "*****\n",
      "***\n",
      "*******\n",
      "*********\n"
     ]
    }
   ],
   "source": [
    "# [2] `+` operator & while loop\n",
    "def histogram(items):\n",
    "    for n in items:\n",
    "        output = \"\"\n",
    "        times = n\n",
    "        while times > 0:\n",
    "            output = output + \"*\"\n",
    "            times = times - 1\n",
    "        print(output)\n",
    "        \n",
    "histogram([6, 1, 5, 3, 7, 9])"
   ]
  },
  {
   "cell_type": "markdown",
   "id": "9c2ec6ab",
   "metadata": {},
   "source": [
    "**27. Write a Python program that concatenates all elements in a list into a string and returns it.**"
   ]
  },
  {
   "cell_type": "code",
   "execution_count": 35,
   "id": "1d23fef9",
   "metadata": {},
   "outputs": [
    {
     "name": "stdout",
     "output_type": "stream",
     "text": [
      "Write a Python program that concatenates all elements.\n"
     ]
    }
   ],
   "source": [
    "# `in` & string concatenation\n",
    "def concatenate_list_data(list):\n",
    "    result = \"\"\n",
    "    for element in list:\n",
    "        result = result + str(element)\n",
    "    return result\n",
    "\n",
    "print(concatenate_list_data([\"Write\", \" \", \"a Python program\", \" that\" + \" concatenates \" + \"all elements\", \".\"]))"
   ]
  },
  {
   "cell_type": "markdown",
   "id": "4a80e0b3",
   "metadata": {},
   "source": [
    "**28. Write a Python program to print all even numbers from a given list of numbers in the same order and stop printing any after 237 in the sequence.**\n",
    "\n",
    "<i>Sample Numbers List:</i>\n",
    "\n",
    "<pre>numbers = [    \n",
    "    386, 462, 47, 418, 907, 344, 236, 375, 823, 566, 597, 978, 328, 615, 953, 345, \n",
    "    399, 162, 758, 219, 918, 237, 412, 566, 826, 248, 866, 950, 626, 949, 687, 217, \n",
    "    815, 67, 104, 58, 512, 24, 892, 894, 767, 553, 81, 379, 843, 831, 445, 742, 717, \n",
    "    958, 743, 527\n",
    "    ]</pre>"
   ]
  },
  {
   "cell_type": "code",
   "execution_count": 36,
   "id": "59a3eb27",
   "metadata": {},
   "outputs": [
    {
     "name": "stdout",
     "output_type": "stream",
     "text": [
      "386\n",
      "462\n",
      "418\n",
      "344\n",
      "236\n",
      "566\n",
      "978\n",
      "328\n",
      "162\n",
      "758\n",
      "918\n",
      "237\n"
     ]
    }
   ],
   "source": [
    "# `break` in loop\n",
    "numbers = [    \n",
    "    386, 462, 47, 418, 907, 344, 236, 375, 823, 566, 597, 978, 328, 615, 953, 345, \n",
    "    399, 162, 758, 219, 918, 237, 412, 566, 826, 248, 866, 950, 626, 949, 687, 217, \n",
    "    815, 67, 104, 58, 512, 24, 892, 894, 767, 553, 81, 379, 843, 831, 445, 742, 717, \n",
    "    958, 743, 527\n",
    "    ]\n",
    "\n",
    "for item in numbers:\n",
    "    if item == 237:\n",
    "        print(item)\n",
    "        break\n",
    "    elif item % 2 == 0:\n",
    "        print(item)"
   ]
  },
  {
   "cell_type": "markdown",
   "id": "dcfb23df",
   "metadata": {},
   "source": [
    "**29. Write a Python program that prints out all colors from color_list_1 that are not present in color_list_2.**\n",
    "\n",
    "<i>Test Data:</i>\n",
    "\n",
    "color_list_1 = set([\"White\", \"Black\", \"Red\"])<br>\n",
    "color_list_2 = set([\"Red\", \"Green\"])\n",
    "\n",
    "<i>Expected Output:</i>\n",
    "\n",
    "{'Black', 'White'}"
   ]
  },
  {
   "cell_type": "code",
   "execution_count": 37,
   "id": "4332ac41",
   "metadata": {},
   "outputs": [
    {
     "name": "stdout",
     "output_type": "stream",
     "text": [
      "Original set elements:\n",
      "{'White', 'Black', 'Red'}\n",
      "{'Green', 'Red'}\n",
      "\n",
      "Different of color_list_1 and color_list_2:\n",
      "{'White', 'Black'}\n",
      "\n",
      "Different of color_list_2 and color_list_1:\n",
      "{'Green'}\n"
     ]
    }
   ],
   "source": [
    "# `different()` for sets\n",
    "color_list_1 = set([\"White\", \"Black\", \"Red\"])\n",
    "color_list_2 = set([\"Red\", \"Green\"])\n",
    "print(\"Original set elements:\")\n",
    "print(color_list_1)\n",
    "print(color_list_2)\n",
    "print(\"\\nDifferent of color_list_1 and color_list_2:\")\n",
    "print(color_list_1.difference(color_list_2))\n",
    "print(\"\\nDifferent of color_list_2 and color_list_1:\")\n",
    "print(color_list_2.difference(color_list_1))"
   ]
  },
  {
   "cell_type": "markdown",
   "id": "fb0065ad",
   "metadata": {},
   "source": [
    "**30. Write a Python program that will accept the base and height of a triangle and compute its area.**"
   ]
  },
  {
   "cell_type": "code",
   "execution_count": 38,
   "id": "59658ec5",
   "metadata": {},
   "outputs": [
    {
     "name": "stdout",
     "output_type": "stream",
     "text": [
      "Input the base: 4\n",
      "Input the height: 5\n",
      "area =  10.0\n"
     ]
    }
   ],
   "source": [
    "# `input`\n",
    "b = int(input(\"Input the base: \"))\n",
    "h = int(input(\"Input the height: \"))\n",
    "\n",
    "area = b * h / 2\n",
    "\n",
    "print(\"area = \", area)"
   ]
  },
  {
   "cell_type": "markdown",
   "id": "d1ad0ed2",
   "metadata": {},
   "source": [
    "**31. Write a Python program that computes the greatest common divisor (GCD) of two positive integers.**"
   ]
  },
  {
   "cell_type": "code",
   "execution_count": 39,
   "id": "03f773b7",
   "metadata": {},
   "outputs": [
    {
     "name": "stdout",
     "output_type": "stream",
     "text": [
      "20\n",
      "1\n",
      "16\n"
     ]
    }
   ],
   "source": [
    "# [1] while loop & `min()`\n",
    "def gcd(x, y):\n",
    "    i = min(x, y)\n",
    "    while i != 0:\n",
    "        if x % i == 0 and y % i == 0:\n",
    "            return i\n",
    "        else: \n",
    "            i = i - 1\n",
    "\n",
    "print(gcd(100, 120))\n",
    "print(gcd(13, 17))\n",
    "print(gcd(48, 16))"
   ]
  },
  {
   "cell_type": "code",
   "execution_count": 40,
   "id": "d09c3b02",
   "metadata": {},
   "outputs": [
    {
     "name": "stdout",
     "output_type": "stream",
     "text": [
      "20\n",
      "1\n",
      "16\n"
     ]
    }
   ],
   "source": [
    "# [2] for loop using `range()` in reverse\n",
    "def gcd(x, y):\n",
    "    gcd = 1\n",
    "    # assuming x >= y\n",
    "    if x % y == 0:\n",
    "        return y\n",
    "    for k in range(int(y/2), 0, -1):\n",
    "        if x % k == 0 and y % k == 0:\n",
    "            gcd = k\n",
    "            break\n",
    "    return gcd\n",
    "\n",
    "print(gcd(100, 120))\n",
    "print(gcd(13, 17))\n",
    "print(gcd(16, 48))"
   ]
  },
  {
   "cell_type": "markdown",
   "id": "e4bd5fec",
   "metadata": {},
   "source": [
    "**32. Write a Python program to find the least common multiple (LCM) of two positive integers.**"
   ]
  },
  {
   "cell_type": "code",
   "execution_count": 41,
   "id": "35db0739",
   "metadata": {},
   "outputs": [
    {
     "name": "stdout",
     "output_type": "stream",
     "text": [
      "299\n",
      "160\n",
      "144\n"
     ]
    }
   ],
   "source": [
    "# [1] infinite loop & `max()`\n",
    "def lcm(x, y):\n",
    "    i = max(x, y)\n",
    "    while True:\n",
    "        if i % x == 0 and i % y == 0:\n",
    "            return i\n",
    "        i = i + 1\n",
    "        \n",
    "print(lcm(13, 23))\n",
    "print(lcm(20, 160))\n",
    "print(lcm(16, 36))"
   ]
  },
  {
   "cell_type": "code",
   "execution_count": 42,
   "id": "efe5382a",
   "metadata": {},
   "outputs": [
    {
     "name": "stdout",
     "output_type": "stream",
     "text": [
      "299\n",
      "160\n",
      "144\n"
     ]
    }
   ],
   "source": [
    "# [2] infinite loop & if-else statement\n",
    "def lcm(x, y):\n",
    "    if x > y:\n",
    "        z = x\n",
    "    else:\n",
    "        z = y\n",
    "    while(True):\n",
    "        if ((z % x == 0) and (z % y == 0)):\n",
    "            lcm = z\n",
    "            break\n",
    "        z = z + 1\n",
    "    return lcm\n",
    "\n",
    "print(lcm(13, 23))\n",
    "print(lcm(20, 160))\n",
    "print(lcm(36, 16))"
   ]
  },
  {
   "cell_type": "markdown",
   "id": "2f9dbc55",
   "metadata": {},
   "source": [
    "**33. Write a Python program to sum three given integers. However, if two values are equal, the sum will be zero.**"
   ]
  },
  {
   "cell_type": "code",
   "execution_count": 43,
   "id": "3fd52dd8",
   "metadata": {},
   "outputs": [
    {
     "name": "stdout",
     "output_type": "stream",
     "text": [
      "15\n",
      "0\n"
     ]
    }
   ],
   "source": [
    "# `or`\n",
    "def sum_three(x, y, z):\n",
    "    if x == y or y == z or x == z:\n",
    "        return 0\n",
    "    else:\n",
    "        return x + y + z\n",
    "\n",
    "print(sum_three(3, 5, 7))\n",
    "print(sum_three(3, 3, 9))"
   ]
  },
  {
   "cell_type": "markdown",
   "id": "796c9678",
   "metadata": {},
   "source": [
    "**34. Write a Python program to sum two given integers. However, if the sum is between 15 and 20 it will return 20.**"
   ]
  },
  {
   "cell_type": "code",
   "execution_count": 44,
   "id": "e7fa5ed7",
   "metadata": {},
   "outputs": [
    {
     "name": "stdout",
     "output_type": "stream",
     "text": [
      "49\n",
      "20\n"
     ]
    }
   ],
   "source": [
    "# comparison operators\n",
    "def sum_numbers(x, y):\n",
    "    result = x + y\n",
    "    # `<= 20` or `< 20` is not important in this case\n",
    "    if result >= 15 and result <= 20:\n",
    "        return 20\n",
    "    else:\n",
    "        return result\n",
    "    \n",
    "print(sum_numbers(13, 36))\n",
    "print(sum_numbers(7, 8))"
   ]
  },
  {
   "cell_type": "code",
   "execution_count": 45,
   "id": "c42aec67",
   "metadata": {},
   "outputs": [
    {
     "name": "stdout",
     "output_type": "stream",
     "text": [
      "49\n",
      "20\n"
     ]
    }
   ],
   "source": [
    "# `range()`\n",
    "def sum_numbers_numbers(x, y):\n",
    "    result = x + y\n",
    "    if result in range(15, 20):\n",
    "        return 20\n",
    "    else:\n",
    "        return result\n",
    "    \n",
    "print(sum_numbers(13, 36))\n",
    "print(sum_numbers(7, 8))"
   ]
  },
  {
   "cell_type": "markdown",
   "id": "da202241",
   "metadata": {},
   "source": [
    "**35. Write a Python program that returns true if the two given integer values are equal or their sum or difference is 5.**"
   ]
  },
  {
   "cell_type": "code",
   "execution_count": 46,
   "id": "d9399eff",
   "metadata": {},
   "outputs": [
    {
     "name": "stdout",
     "output_type": "stream",
     "text": [
      "True\n",
      "True\n",
      "True\n",
      "False\n",
      "False\n"
     ]
    }
   ],
   "source": [
    "# if-else statement & `abs()`\n",
    "def test_number5(x, y):\n",
    "    \"\"\"\n",
    "    if x == y or abs(x - y) == 5 or x + y == 5:\n",
    "        return True\n",
    "    else:\n",
    "        return False\n",
    "    \"\"\"\n",
    "    return x == y or x + y == 5 or abs(x - y) == 5\n",
    "\n",
    "print(test_number5(3, 2))\n",
    "print(test_number5(3, 8))\n",
    "print(test_number5(5, 5))\n",
    "print(test_number5(13, 16))\n",
    "print(test_number5(1, 100))"
   ]
  },
  {
   "cell_type": "markdown",
   "id": "8e503871",
   "metadata": {},
   "source": [
    "**36. Write a Python program to add two objects if both objects are integers.**"
   ]
  },
  {
   "cell_type": "code",
   "execution_count": 47,
   "id": "b267e23b",
   "metadata": {},
   "outputs": [
    {
     "name": "stdout",
     "output_type": "stream",
     "text": [
      "8\n",
      "Inputs must be integers!\n"
     ]
    }
   ],
   "source": [
    "# `isinstance()`\n",
    "def add_numbers(x, y):\n",
    "    if not (isinstance(x, int) and isinstance(y, int)):\n",
    "        return \"Inputs must be integers!\"\n",
    "    return x + y\n",
    "    \n",
    "print(add_numbers(3, 5))\n",
    "print(add_numbers(\"Hello\", 8))"
   ]
  },
  {
   "cell_type": "markdown",
   "id": "4aefd68c",
   "metadata": {},
   "source": [
    "**37. Write a Python program that displays your name, age, and address on three different lines.**"
   ]
  },
  {
   "cell_type": "code",
   "execution_count": 48,
   "id": "437e65f0",
   "metadata": {},
   "outputs": [
    {
     "name": "stdout",
     "output_type": "stream",
     "text": [
      "Name: Joe\n",
      "Age: 37\n",
      "Address: Taipei, Taiwan\n"
     ]
    }
   ],
   "source": [
    "# `format()`\n",
    "def personal_details():\n",
    "    name, age = \"Joe\", 37\n",
    "    address = \"Taipei, Taiwan\"\n",
    "    print(\"Name: {}\\nAge: {}\\nAddress: {}\".format(name, age, address))\n",
    "    \n",
    "personal_details()"
   ]
  },
  {
   "cell_type": "markdown",
   "id": "d66e6ca7",
   "metadata": {},
   "source": [
    "**38. Write a Python program to solve (x + y) * (x + y).**\n",
    "\n",
    "<i>Test Data:</i>\n",
    "\n",
    "x = 4, y = 3\n",
    "\n",
    "<i>Expected Output:</i>\n",
    "\n",
    "(4 + 3) ^ 2) = 49"
   ]
  },
  {
   "cell_type": "code",
   "execution_count": 49,
   "id": "0970fcd4",
   "metadata": {},
   "outputs": [
    {
     "name": "stdout",
     "output_type": "stream",
     "text": [
      "64\n",
      "169\n"
     ]
    }
   ],
   "source": [
    "# function\n",
    "def square_of_sum(x, y):\n",
    "    return (x + y) * (x + y)\n",
    "\n",
    "print(square_of_sum(3, 5))\n",
    "print(square_of_sum(5, 8))"
   ]
  },
  {
   "cell_type": "code",
   "execution_count": 50,
   "id": "6abb52be",
   "metadata": {},
   "outputs": [
    {
     "name": "stdout",
     "output_type": "stream",
     "text": [
      "(3 + 5) ^ 2 = 64\n"
     ]
    }
   ],
   "source": [
    "# no function & `format`\n",
    "x, y = 3, 5\n",
    "result = x * x + 2 * x * y + y * y\n",
    "print(\"({} + {}) ^ 2 = {}\".format(x, y, result))"
   ]
  },
  {
   "cell_type": "markdown",
   "id": "fe929669",
   "metadata": {},
   "source": [
    "**39. Write a Python program to compute the future value of a specified principal amount, rate of interest, and number of years.**\n",
    "\n",
    "<i>Test Data:</i> \n",
    "\n",
    "amt = 10000, int = 3.5, years = 7\n",
    "\n",
    "<i>Expected Output:</i> \n",
    "\n",
    "12722.79"
   ]
  },
  {
   "cell_type": "code",
   "execution_count": 51,
   "id": "69106101",
   "metadata": {},
   "outputs": [
    {
     "name": "stdout",
     "output_type": "stream",
     "text": [
      "12722.79\n"
     ]
    }
   ],
   "source": [
    "# `round()` & Function\n",
    "def future_value(amt, rate, years):\n",
    "    return round(amt * (1 + rate * 0.01) ** years, 2)\n",
    "\n",
    "print(future_value(10000, 3.5, 7))"
   ]
  },
  {
   "cell_type": "code",
   "execution_count": 52,
   "id": "d2cdb641",
   "metadata": {},
   "outputs": [
    {
     "name": "stdout",
     "output_type": "stream",
     "text": [
      "12722.79\n"
     ]
    }
   ],
   "source": [
    "# `round()` & No function\n",
    "amt = 10000\n",
    "rate = 3.5\n",
    "years = 7\n",
    "future_value = amt * (1 + 0.01 * rate) ** years\n",
    "print(round(future_value, 2))"
   ]
  },
  {
   "cell_type": "markdown",
   "id": "625023b0",
   "metadata": {},
   "source": [
    "**40. Write a Python program to calculate the distance between the points (x1, y1) and (x2, y2).**"
   ]
  },
  {
   "cell_type": "code",
   "execution_count": 53,
   "id": "65fb6dfc",
   "metadata": {},
   "outputs": [
    {
     "name": "stdout",
     "output_type": "stream",
     "text": [
      "6.324555320336759\n"
     ]
    }
   ],
   "source": [
    "# List\n",
    "from math import sqrt\n",
    "\n",
    "def euclidean_distance(p1, p2):\n",
    "    return sqrt((p1[0] - p2[0]) ** 2 + (p1[1] - p2[1]) ** 2)\n",
    "\n",
    "print(euclidean_distance([4, 0], [6, 6]))"
   ]
  },
  {
   "cell_type": "code",
   "execution_count": 54,
   "id": "7631b9bf",
   "metadata": {},
   "outputs": [
    {
     "name": "stdout",
     "output_type": "stream",
     "text": [
      "6.324555320336759\n"
     ]
    }
   ],
   "source": [
    "# Tuple\n",
    "from math import sqrt\n",
    "\n",
    "def euclidean_distance(p1, p2):\n",
    "    return sqrt((p1[0] - p2[0]) ** 2 + (p1[1] - p2[1]) ** 2)\n",
    "\n",
    "print(euclidean_distance((4, 0), (6, 6)))"
   ]
  },
  {
   "cell_type": "markdown",
   "id": "c1df2f43",
   "metadata": {},
   "source": [
    "**41. Write a Python program to check whether a file exists.**"
   ]
  },
  {
   "cell_type": "code",
   "execution_count": 55,
   "id": "32620149",
   "metadata": {},
   "outputs": [
    {
     "name": "stdout",
     "output_type": "stream",
     "text": [
      "True\n",
      "False\n"
     ]
    }
   ],
   "source": [
    "# [1] `os.path.isfile`\n",
    "import os.path\n",
    "\n",
    "print(os.path.isfile('python_basic.ipynb'))\n",
    "print(os.path.isfile('main.py'))"
   ]
  },
  {
   "cell_type": "code",
   "execution_count": 56,
   "id": "ef8d68c3",
   "metadata": {},
   "outputs": [
    {
     "name": "stdout",
     "output_type": "stream",
     "text": [
      "True\n",
      "False\n"
     ]
    }
   ],
   "source": [
    "# [2] `os.path.exists`\n",
    "import os.path\n",
    "\n",
    "print(os.path.exists('python_basic.ipynb'))\n",
    "print(os.path.exists('main.py'))"
   ]
  },
  {
   "cell_type": "code",
   "execution_count": 57,
   "id": "b279c852",
   "metadata": {},
   "outputs": [
    {
     "name": "stdout",
     "output_type": "stream",
     "text": [
      "File found!\n"
     ]
    }
   ],
   "source": [
    "# [3] `open` & try-except block\n",
    "my_file = open('python_basic.ipynb')\n",
    "try:\n",
    "    my_file.close()\n",
    "    print(\"File found!\")\n",
    "except FileNotFoundError:\n",
    "    print(\"File not found!\")"
   ]
  },
  {
   "cell_type": "markdown",
   "id": "49ea9667",
   "metadata": {},
   "source": [
    "**42. Write a Python program to determine if a Python shell is executing in 32bit or 64bit mode on OS.**"
   ]
  },
  {
   "cell_type": "code",
   "execution_count": 58,
   "id": "2fb84e5e",
   "metadata": {},
   "outputs": [
    {
     "name": "stdout",
     "output_type": "stream",
     "text": [
      "64\n"
     ]
    }
   ],
   "source": [
    "# `struct.calcsize()`\n",
    "import struct\n",
    "\n",
    "print(struct.calcsize(\"P\") * 8)"
   ]
  },
  {
   "cell_type": "code",
   "execution_count": 59,
   "id": "9e7137af",
   "metadata": {},
   "outputs": [
    {
     "name": "stdout",
     "output_type": "stream",
     "text": [
      "64bit\n"
     ]
    }
   ],
   "source": [
    "# `platform.architecture()`\n",
    "import platform\n",
    "\n",
    "print(platform.architecture()[0])"
   ]
  },
  {
   "cell_type": "markdown",
   "id": "63d2e53c",
   "metadata": {},
   "source": [
    "**43. Write a Python program to get OS name, platform and release information.**"
   ]
  },
  {
   "cell_type": "code",
   "execution_count": 60,
   "id": "7b8dd8de",
   "metadata": {},
   "outputs": [
    {
     "name": "stdout",
     "output_type": "stream",
     "text": [
      "Name of the operating system: posix\n",
      "Name of the OS system: Linux\n",
      "Version of the operating system: 5.4.0-148-generic\n"
     ]
    }
   ],
   "source": [
    "# `os.name` & `platform.system()` & `platform.release()`\n",
    "import os, platform\n",
    "\n",
    "print(\"Name of the operating system:\", os.name)\n",
    "print(\"Name of the OS system:\", platform.system())\n",
    "print(\"Version of the operating system:\", platform.release())"
   ]
  },
  {
   "cell_type": "code",
   "execution_count": 61,
   "id": "721e0059",
   "metadata": {},
   "outputs": [
    {
     "name": "stdout",
     "output_type": "stream",
     "text": [
      "os.name                      posix\n",
      "sys.platform                 linux\n",
      "platform.system()            Linux\n",
      "sysconfig.get_platform()     linux-x86_64\n",
      "platform.machine()           x86_64\n",
      "platform.architecture()      ('64bit', 'ELF')\n"
     ]
    }
   ],
   "source": [
    "# `sys.platform` & `sysconfig.get_platform()` & `platform.machine()` & `platform.architecture()`\n",
    "import sys, sysconfig, os, platform\n",
    "\n",
    "print(\"os.name                     \", os.name)\n",
    "print(\"sys.platform                \", sys.platform)\n",
    "print(\"platform.system()           \", platform.system())\n",
    "print(\"sysconfig.get_platform()    \", sysconfig.get_platform())\n",
    "print(\"platform.machine()          \", platform.machine())\n",
    "print(\"platform.architecture()     \", platform.architecture())"
   ]
  },
  {
   "cell_type": "markdown",
   "id": "dd4d1b67",
   "metadata": {},
   "source": [
    "**44. Write a Python program to locate Python site packages.**"
   ]
  },
  {
   "cell_type": "code",
   "execution_count": 62,
   "id": "aa693cda",
   "metadata": {},
   "outputs": [
    {
     "name": "stdout",
     "output_type": "stream",
     "text": [
      "['/home/yungshun/yungshun-py3/lib/python3.8/site-packages']\n"
     ]
    }
   ],
   "source": [
    "# `site.getsitepackages()`\n",
    "import site\n",
    "\n",
    "print(site.getsitepackages())"
   ]
  },
  {
   "cell_type": "markdown",
   "id": "fed3f7a0",
   "metadata": {},
   "source": [
    "**45. Write a Python program that calls an external command.**"
   ]
  },
  {
   "cell_type": "code",
   "execution_count": 63,
   "id": "8d998bdb",
   "metadata": {},
   "outputs": [
    {
     "name": "stdout",
     "output_type": "stream",
     "text": [
      "total 56\n",
      "-rw-rw-r-- 1 yungshun yungshun 52993  五  17 12:14 python_basic.ipynb\n",
      "-rw-rw-r-- 1 yungshun yungshun   503  五  17 10:24 python_basic.py\n"
     ]
    },
    {
     "data": {
      "text/plain": [
       "0"
      ]
     },
     "execution_count": 63,
     "metadata": {},
     "output_type": "execute_result"
    }
   ],
   "source": [
    "# [1] `subprocess.call()`\n",
    "from subprocess import call\n",
    "\n",
    "call([\"ls\", \"-l\"])"
   ]
  },
  {
   "cell_type": "code",
   "execution_count": 64,
   "id": "54474eff",
   "metadata": {},
   "outputs": [
    {
     "name": "stdout",
     "output_type": "stream",
     "text": [
      "total 56\n",
      "-rw-rw-r-- 1 yungshun yungshun 52993  五  17 12:14 python_basic.ipynb\n",
      "-rw-rw-r-- 1 yungshun yungshun   503  五  17 10:24 python_basic.py\n",
      "0\n"
     ]
    }
   ],
   "source": [
    "# [2] `os.system()`\n",
    "import os\n",
    "\n",
    "print(os.system(\"ls -l\"))"
   ]
  },
  {
   "cell_type": "markdown",
   "id": "cb363ad4",
   "metadata": {},
   "source": [
    "**46. Write a Python program to retrieve the path and name of the file currently being executed.**"
   ]
  },
  {
   "cell_type": "code",
   "execution_count": 65,
   "id": "8219aade",
   "metadata": {},
   "outputs": [],
   "source": [
    "# [1] `os.path.realpath(__file__)`, `os.path.abspath(__file__)`, `sys.argv[0]`\n",
    "import os, sys\n",
    "\n",
    "# Not work in Jupyter Notebook\n",
    "# print(\"Current File Name:\", os.path.realpath(__file__))\n",
    "# print(\"Current File Name:\", os.path.abspath(__file__))\n",
    "# print(\"Current File Name:\", sys.argv[0])\n",
    "\n",
    "# Output\n",
    "# Current File Name: /home/yungshun/workspace/py/python-w3resource-exercises/main.py\n",
    "# Current File Name: /home/yungshun/workspace/py/python-w3resource-exercises/main.py\n",
    "# Current File Name: main.py"
   ]
  },
  {
   "cell_type": "code",
   "execution_count": 66,
   "id": "0a27210d",
   "metadata": {},
   "outputs": [
    {
     "data": {
      "application/javascript": [
       "\n",
       "IPython.notebook.kernel.execute(\"nb_name = '\" + IPython.notebook.notebook_name + \"'\")\n"
      ],
      "text/plain": [
       "<IPython.core.display.Javascript object>"
      ]
     },
     "metadata": {},
     "output_type": "display_data"
    }
   ],
   "source": [
    "%%javascript\n",
    "\n",
    "IPython.notebook.kernel.execute(\"nb_name = '\" + IPython.notebook.notebook_name + \"'\")"
   ]
  },
  {
   "cell_type": "code",
   "execution_count": 67,
   "id": "5691c495",
   "metadata": {},
   "outputs": [
    {
     "name": "stdout",
     "output_type": "stream",
     "text": [
      "/home/yungshun/workspace/py/python-w3resource-exercises/python_basic.ipynb\n"
     ]
    }
   ],
   "source": [
    "# [2] Trick only for Jupyter Notebook & `os.getcwd()`\n",
    "import os\n",
    "\n",
    "nb_full_path = os.path.join(os.getcwd(), nb_name)\n",
    "print(nb_full_path)"
   ]
  },
  {
   "cell_type": "markdown",
   "id": "89c51411",
   "metadata": {},
   "source": [
    "**47. Write a Python program to find out the number of CPUs used.**"
   ]
  },
  {
   "cell_type": "code",
   "execution_count": 68,
   "id": "23880e1b",
   "metadata": {},
   "outputs": [
    {
     "name": "stdout",
     "output_type": "stream",
     "text": [
      "12\n"
     ]
    }
   ],
   "source": [
    "# [1] `multiprocessing.cpu_count()`\n",
    "import multiprocessing\n",
    "\n",
    "print(multiprocessing.cpu_count())"
   ]
  },
  {
   "cell_type": "code",
   "execution_count": 69,
   "id": "e5af5528",
   "metadata": {},
   "outputs": [
    {
     "name": "stdout",
     "output_type": "stream",
     "text": [
      "12\n"
     ]
    }
   ],
   "source": [
    "# [2] `os.cpu_count()`\n",
    "import os\n",
    "\n",
    "print(os.cpu_count())"
   ]
  },
  {
   "cell_type": "code",
   "execution_count": 70,
   "id": "4d4718ee",
   "metadata": {},
   "outputs": [
    {
     "name": "stdout",
     "output_type": "stream",
     "text": [
      "12\n"
     ]
    }
   ],
   "source": [
    "# [3] `psutil`\n",
    "import psutil\n",
    "\n",
    "print(psutil.cpu_count())"
   ]
  },
  {
   "cell_type": "markdown",
   "id": "f73ff427",
   "metadata": {},
   "source": [
    "**48. Write a Python program to parse a string to float or integer.**"
   ]
  },
  {
   "cell_type": "code",
   "execution_count": 71,
   "id": "d1b7f328",
   "metadata": {},
   "outputs": [
    {
     "name": "stdout",
     "output_type": "stream",
     "text": [
      "3.14159\n"
     ]
    }
   ],
   "source": [
    "# Try-except block & `ValueError` & `int()` & `float()`\n",
    "def parse_string(s):\n",
    "    try:\n",
    "        return int(s)\n",
    "    except ValueError:\n",
    "        return float(s)\n",
    "\n",
    "print(parse_string(\"3.14159\"))"
   ]
  },
  {
   "cell_type": "markdown",
   "id": "89b74120",
   "metadata": {},
   "source": [
    "**49. Write a Python program to list all files in a directory.**"
   ]
  },
  {
   "cell_type": "code",
   "execution_count": 72,
   "id": "00c9aa3a",
   "metadata": {},
   "outputs": [
    {
     "name": "stdout",
     "output_type": "stream",
     "text": [
      "['python_basic.ipynb', '.gitignore', 'python_basic.py']\n"
     ]
    }
   ],
   "source": [
    "# List initialization & `os.listdir()` & `os.path.isfile()` & `os.path.join()`\n",
    "from os import listdir\n",
    "from os.path import isfile, join\n",
    "\n",
    "file_list = [f for f in listdir(\"/home/yungshun/workspace/py/python-w3resource-exercises\") if isfile(join(\"/home/yungshun/workspace/py/python-w3resource-exercises\", f))]\n",
    "print(file_list)"
   ]
  },
  {
   "cell_type": "markdown",
   "id": "50c847e9",
   "metadata": {},
   "source": [
    "**50. Write a Python program to print without a newline or space.**"
   ]
  },
  {
   "cell_type": "code",
   "execution_count": 73,
   "id": "9967439e",
   "metadata": {},
   "outputs": [
    {
     "name": "stdout",
     "output_type": "stream",
     "text": [
      "**********"
     ]
    }
   ],
   "source": [
    "# `print(objects, end=\"\")`\n",
    "for i in range(0, 10):\n",
    "    print(\"*\", end=\"\")"
   ]
  },
  {
   "cell_type": "markdown",
   "id": "dc0d30d2",
   "metadata": {},
   "source": [
    "**51. Write a Python program to determine the profiling of Python programs.**\n",
    "\n",
    "<i>Note:</i>\n",
    "\n",
    "A profile is a set of statistics that describes how often and for how long various parts of the program executed. These statistics can be formatted into reports via the pstats module."
   ]
  },
  {
   "cell_type": "code",
   "execution_count": 74,
   "id": "dc88d587",
   "metadata": {},
   "outputs": [
    {
     "name": "stdout",
     "output_type": "stream",
     "text": [
      "8\n",
      "         27 function calls in 0.000 seconds\n",
      "\n",
      "   Ordered by: standard name\n",
      "\n",
      "   ncalls  tottime  percall  cumtime  percall filename:lineno(function)\n",
      "        1    0.000    0.000    0.000    0.000 371060289.py:4(sum_numbers)\n",
      "        1    0.000    0.000    0.000    0.000 <string>:1(<module>)\n",
      "        1    0.000    0.000    0.000    0.000 iostream.py:202(schedule)\n",
      "        2    0.000    0.000    0.000    0.000 iostream.py:429(_is_master_process)\n",
      "        2    0.000    0.000    0.000    0.000 iostream.py:448(_schedule_flush)\n",
      "        2    0.000    0.000    0.000    0.000 iostream.py:518(write)\n",
      "        1    0.000    0.000    0.000    0.000 iostream.py:90(_event_pipe)\n",
      "        1    0.000    0.000    0.000    0.000 socket.py:543(send)\n",
      "        1    0.000    0.000    0.000    0.000 threading.py:1017(_wait_for_tstate_lock)\n",
      "        1    0.000    0.000    0.000    0.000 threading.py:1071(is_alive)\n",
      "        1    0.000    0.000    0.000    0.000 threading.py:513(is_set)\n",
      "        1    0.000    0.000    0.000    0.000 {built-in method builtins.exec}\n",
      "        2    0.000    0.000    0.000    0.000 {built-in method builtins.isinstance}\n",
      "        2    0.000    0.000    0.000    0.000 {built-in method builtins.len}\n",
      "        1    0.000    0.000    0.000    0.000 {built-in method builtins.print}\n",
      "        2    0.000    0.000    0.000    0.000 {built-in method posix.getpid}\n",
      "        1    0.000    0.000    0.000    0.000 {method 'acquire' of '_thread.lock' objects}\n",
      "        1    0.000    0.000    0.000    0.000 {method 'append' of 'collections.deque' objects}\n",
      "        1    0.000    0.000    0.000    0.000 {method 'disable' of '_lsprof.Profiler' objects}\n",
      "        2    0.000    0.000    0.000    0.000 {method 'write' of '_io.StringIO' objects}\n",
      "\n",
      "\n"
     ]
    }
   ],
   "source": [
    "# `cProfile` module\n",
    "import cProfile\n",
    "\n",
    "def sum_numbers(x, y):\n",
    "    print(x + y)\n",
    "    \n",
    "cProfile.run(\"sum_numbers(3, 5)\")"
   ]
  },
  {
   "cell_type": "markdown",
   "id": "29af1a4f",
   "metadata": {},
   "source": [
    "**52. Write a Python program to print to STDERR.**"
   ]
  },
  {
   "cell_type": "code",
   "execution_count": 75,
   "id": "285d7649",
   "metadata": {},
   "outputs": [
    {
     "name": "stderr",
     "output_type": "stream",
     "text": [
      "abc--efg--xyz\n"
     ]
    }
   ],
   "source": [
    "# `*args` & `**kwargs` & `print(objects, file=arg, sep=arg)` & `sys.stderr`\n",
    "import sys\n",
    "from __future__ import print_function\n",
    "\n",
    "def eprint(*args, **kwargs):\n",
    "    print(*args, file=sys.stderr, **kwargs)\n",
    "    \n",
    "eprint(\"abc\", \"efg\", \"xyz\", sep=\"--\")"
   ]
  },
  {
   "cell_type": "markdown",
   "id": "e7f64cc9",
   "metadata": {},
   "source": [
    "**53. Write a Python program to access environment variables.**"
   ]
  },
  {
   "cell_type": "code",
   "execution_count": 76,
   "id": "ec73a2e5",
   "metadata": {},
   "outputs": [
    {
     "name": "stdout",
     "output_type": "stream",
     "text": [
      "environ({'CLUTTER_IM_MODULE': 'xim', 'CONDA_SHLVL': '1', 'LS_COLORS': 'rs=0:di=01;34:ln=01;36:mh=00:pi=40;33:so=01;35:do=01;35:bd=40;33;01:cd=40;33;01:or=40;31;01:mi=00:su=37;41:sg=30;43:ca=30;41:tw=30;42:ow=34;42:st=37;44:ex=01;32:*.tar=01;31:*.tgz=01;31:*.arc=01;31:*.arj=01;31:*.taz=01;31:*.lha=01;31:*.lz4=01;31:*.lzh=01;31:*.lzma=01;31:*.tlz=01;31:*.txz=01;31:*.tzo=01;31:*.t7z=01;31:*.zip=01;31:*.z=01;31:*.Z=01;31:*.dz=01;31:*.gz=01;31:*.lrz=01;31:*.lz=01;31:*.lzo=01;31:*.xz=01;31:*.zst=01;31:*.tzst=01;31:*.bz2=01;31:*.bz=01;31:*.tbz=01;31:*.tbz2=01;31:*.tz=01;31:*.deb=01;31:*.rpm=01;31:*.jar=01;31:*.war=01;31:*.ear=01;31:*.sar=01;31:*.rar=01;31:*.alz=01;31:*.ace=01;31:*.zoo=01;31:*.cpio=01;31:*.7z=01;31:*.rz=01;31:*.cab=01;31:*.wim=01;31:*.swm=01;31:*.dwm=01;31:*.esd=01;31:*.jpg=01;35:*.jpeg=01;35:*.mjpg=01;35:*.mjpeg=01;35:*.gif=01;35:*.bmp=01;35:*.pbm=01;35:*.pgm=01;35:*.ppm=01;35:*.tga=01;35:*.xbm=01;35:*.xpm=01;35:*.tif=01;35:*.tiff=01;35:*.png=01;35:*.svg=01;35:*.svgz=01;35:*.mng=01;35:*.pcx=01;35:*.mov=01;35:*.mpg=01;35:*.mpeg=01;35:*.m2v=01;35:*.mkv=01;35:*.webm=01;35:*.ogm=01;35:*.mp4=01;35:*.m4v=01;35:*.mp4v=01;35:*.vob=01;35:*.qt=01;35:*.nuv=01;35:*.wmv=01;35:*.asf=01;35:*.rm=01;35:*.rmvb=01;35:*.flc=01;35:*.avi=01;35:*.fli=01;35:*.flv=01;35:*.gl=01;35:*.dl=01;35:*.xcf=01;35:*.xwd=01;35:*.yuv=01;35:*.cgm=01;35:*.emf=01;35:*.ogv=01;35:*.ogx=01;35:*.aac=00;36:*.au=00;36:*.flac=00;36:*.m4a=00;36:*.mid=00;36:*.midi=00;36:*.mka=00;36:*.mp3=00;36:*.mpc=00;36:*.ogg=00;36:*.ra=00;36:*.wav=00;36:*.oga=00;36:*.opus=00;36:*.spx=00;36:*.xspf=00;36:', 'CONDA_EXE': '/home/yungshun/anaconda3/bin/conda', 'LC_MEASUREMENT': 'lzh_TW', 'LESSCLOSE': '/usr/bin/lesspipe %s %s', 'LC_PAPER': 'lzh_TW', 'LC_MONETARY': 'lzh_TW', 'ANDROID_HOME': '/home/yungshun/Android/Sdk', 'XDG_MENU_PREFIX': 'gnome-', 'LANG': 'en_US.UTF-8', 'DISPLAY': ':0', 'GNOME_SHELL_SESSION_MODE': 'ubuntu', 'COLORTERM': 'truecolor', 'ANDROID_SDK_ROOT': '/home/yungshun/Android/Sdk', 'DESKTOP_AUTOSTART_ID': '10ed186b9c6d65b81a168372379988255400000029040007', 'USERNAME': 'yungshun', 'CONDA_PREFIX': '/home/yungshun/anaconda3', 'JAVA_HOME': '/home/yungshun/.jdks/openjdk-16.0.1', 'XDG_VTNR': '2', 'SSH_AUTH_SOCK': '/run/user/1000/keyring/ssh', 'VIRTUAL_ENV': '/home/yungshun/yungshun-py3', '_CE_M': '', 'LC_NAME': 'lzh_TW', 'XDG_SESSION_ID': '2', 'USER': 'yungshun', 'DESKTOP_SESSION': 'ubuntu', 'QT4_IM_MODULE': 'xim', 'TEXTDOMAINDIR': '/usr/share/locale/', 'GNOME_TERMINAL_SCREEN': '/org/gnome/Terminal/screen/ff94611f_cb46_4ff1_b194_9efdfab22086', 'PWD': '/home/yungshun/workspace/py/python-w3resource-exercises', 'HOME': '/home/yungshun', 'CONDA_PYTHON_EXE': '/home/yungshun/anaconda3/bin/python', 'TEXTDOMAIN': 'im-config', 'SSH_AGENT_PID': '2981', 'QT_ACCESSIBILITY': '1', 'XDG_SESSION_TYPE': 'x11', 'XDG_DATA_DIRS': '/usr/share/ubuntu:/usr/local/share/:/usr/share/:/var/lib/snapd/desktop', '_CE_CONDA': '', 'XDG_SESSION_DESKTOP': 'ubuntu', 'LC_ADDRESS': 'lzh_TW', 'LC_NUMERIC': 'lzh_TW', 'CONDA_PROMPT_MODIFIER': '(base) ', 'GTK_MODULES': 'gail:atk-bridge', 'PAPERSIZE': 'a4', 'WINDOWPATH': '2', 'TERM': 'xterm-color', 'VTE_VERSION': '5202', 'SHELL': '/bin/bash', 'QT_IM_MODULE': 'ibus', 'XMODIFIERS': '@im=ibus', 'IM_CONFIG_PHASE': '2', 'XDG_CURRENT_DESKTOP': 'ubuntu:GNOME', 'GPG_AGENT_INFO': '/run/user/1000/gnupg/S.gpg-agent:0:1', 'GNOME_TERMINAL_SERVICE': ':1.152', 'SHLVL': '1', 'XDG_SEAT': 'seat0', 'LANGUAGE': 'en_US:en', 'LC_TELEPHONE': 'lzh_TW', 'GDMSESSION': 'ubuntu', 'GNOME_DESKTOP_SESSION_ID': 'this-is-deprecated', 'LOGNAME': 'yungshun', 'DBUS_SESSION_BUS_ADDRESS': 'unix:path=/run/user/1000/bus', 'XDG_RUNTIME_DIR': '/run/user/1000', 'XAUTHORITY': '/run/user/1000/gdm/Xauthority', 'XDG_CONFIG_DIRS': '/etc/xdg/xdg-ubuntu:/etc/xdg', 'PATH': '/home/yungshun/yungshun-py3/bin:/home/yungshun/anaconda3/bin:/home/yungshun/anaconda3/condabin:/home/yungshun/.npm-global/bin:/usr/local/sbin:/usr/local/bin:/usr/sbin:/usr/bin:/sbin:/bin:/usr/games:/usr/local/games:/snap/bin', 'LC_IDENTIFICATION': 'lzh_TW', 'PS1': '(yungshun-py3) (base) \\\\[\\\\e]0;\\\\u@\\\\h: \\\\w\\\\a\\\\]${debian_chroot:+($debian_chroot)}\\\\[\\\\033[01;32m\\\\]\\\\u@\\\\h\\\\[\\\\033[00m\\\\]:\\\\[\\\\033[01;34m\\\\]\\\\w\\\\[\\\\033[00m\\\\]\\\\$ ', 'CONDA_DEFAULT_ENV': 'base', 'SESSION_MANAGER': 'local/yungshun-GF63-Thin-10SCSR:@/tmp/.ICE-unix/2904,unix/yungshun-GF63-Thin-10SCSR:/tmp/.ICE-unix/2904', 'LESSOPEN': '| /usr/bin/lesspipe %s', 'GTK_IM_MODULE': 'ibus', 'LC_TIME': 'lzh_TW', 'OLDPWD': '/home/yungshun/workspace/py', '_': '/home/yungshun/yungshun-py3/bin/jupyter', 'JPY_PARENT_PID': '12981', 'CLICOLOR': '1', 'PAGER': 'cat', 'GIT_PAGER': 'cat', 'MPLBACKEND': 'module://matplotlib_inline.backend_inline'})\n",
      "/home/yungshun\n",
      "/home/yungshun/yungshun-py3/bin:/home/yungshun/anaconda3/bin:/home/yungshun/anaconda3/condabin:/home/yungshun/.npm-global/bin:/usr/local/sbin:/usr/local/bin:/usr/sbin:/usr/bin:/sbin:/bin:/usr/games:/usr/local/games:/snap/bin\n"
     ]
    }
   ],
   "source": [
    "# `os.environ`\n",
    "import os\n",
    "\n",
    "print(os.environ)\n",
    "print(os.environ[\"HOME\"])\n",
    "print(os.environ[\"PATH\"])"
   ]
  },
  {
   "cell_type": "markdown",
   "id": "83db3ded",
   "metadata": {},
   "source": [
    "**54. Write a Python program to get the current username.**"
   ]
  },
  {
   "cell_type": "code",
   "execution_count": 77,
   "id": "5dbb432a",
   "metadata": {},
   "outputs": [
    {
     "name": "stdout",
     "output_type": "stream",
     "text": [
      "yungshun\n"
     ]
    }
   ],
   "source": [
    "# [1] `getpass` module\n",
    "import getpass\n",
    "\n",
    "print(getpass.getuser())"
   ]
  },
  {
   "cell_type": "code",
   "execution_count": 78,
   "id": "33ce46ac",
   "metadata": {},
   "outputs": [
    {
     "name": "stdout",
     "output_type": "stream",
     "text": [
      "yungshun\n"
     ]
    }
   ],
   "source": [
    "# [2] `pwd.getpwuid()` & `os.getuid()`\n",
    "import os, pwd\n",
    "\n",
    "def get_username():\n",
    "    # `pwd.getpwuid()` gets username from uid\n",
    "    return pwd.getpwuid(os.getuid())[0]\n",
    "\n",
    "print(get_username())"
   ]
  },
  {
   "cell_type": "markdown",
   "id": "7b993c46",
   "metadata": {},
   "source": [
    "**55. Write a Python program to find local IP addresses using Python's stdlib.**"
   ]
  },
  {
   "cell_type": "code",
   "execution_count": 79,
   "id": "8f4716bd",
   "metadata": {},
   "outputs": [
    {
     "name": "stdout",
     "output_type": "stream",
     "text": [
      "192.168.169.106\n"
     ]
    }
   ],
   "source": [
    "# `socket` module\n",
    "import socket\n",
    "\n",
    "print(\n",
    "    [\n",
    "        l for l in (\n",
    "            [\n",
    "                ip for ip in socket.gethostbyname_ex(socket.gethostname())[2] if not ip.startswith(\"127.\")\n",
    "            ][:1],\n",
    "            [\n",
    "                [\n",
    "                    (s.connect((\"8.8.8.8\", 53)), s.getsockname()[0], s.close()) for s in [socket.socket(socket.AF_INET, socket.SOCK_DGRAM)]\n",
    "                ][0][1]\n",
    "            ]\n",
    "        ) if l\n",
    "    ][0][0]\n",
    ")"
   ]
  },
  {
   "cell_type": "markdown",
   "id": "ca10d045",
   "metadata": {},
   "source": [
    "**56. Write a Python program to get the height and width of the console window.**"
   ]
  },
  {
   "cell_type": "code",
   "execution_count": 80,
   "id": "86825411",
   "metadata": {},
   "outputs": [],
   "source": [
    "# [1] `fcntl` & `termios` & `struct` modules\n",
    "import fcntl, termios, struct\n",
    "\n",
    "# Not work in Jupyter Notebook\n",
    "# def terminal_size():\n",
    "#     th, tw, hp, wp = struct.unpack(\"HHHH\", \n",
    "#                                    fcntl.ioctl(0, termios.TIOCGWINSZ,\n",
    "#                                    struct.pack(\"HHHH\", 0, 0, 0, 0)))\n",
    "#     return tw, th\n",
    "\n",
    "# print(\"Number of columns and rows:\", terminal_size())\n",
    "\n",
    "# Output\n",
    "# Number of columns and rows: (167, 42)"
   ]
  },
  {
   "cell_type": "code",
   "execution_count": 81,
   "id": "4a0ed6c9",
   "metadata": {},
   "outputs": [
    {
     "data": {
      "application/javascript": [
       "\n",
       "var outerWidth = window.outerWidth\n",
       "var outerHeight = window.outerHeight\n",
       "IPython.notebook.kernel.execute(\"outer_width = \" + outerWidth)\n",
       "IPython.notebook.kernel.execute(\"outer_height = \" + outerHeight)\n"
      ],
      "text/plain": [
       "<IPython.core.display.Javascript object>"
      ]
     },
     "metadata": {},
     "output_type": "display_data"
    }
   ],
   "source": [
    "%%javascript \n",
    "\n",
    "var outerWidth = window.outerWidth\n",
    "var outerHeight = window.outerHeight\n",
    "IPython.notebook.kernel.execute(\"outer_width = \" + outerWidth)\n",
    "IPython.notebook.kernel.execute(\"outer_height = \" + outerHeight)"
   ]
  },
  {
   "cell_type": "code",
   "execution_count": 82,
   "id": "e092b3f6",
   "metadata": {},
   "outputs": [
    {
     "name": "stdout",
     "output_type": "stream",
     "text": [
      "1853\n",
      "1053\n"
     ]
    }
   ],
   "source": [
    "# [2] `%%javascript` & `IPython.notebook.kernel.execute()` only for Jupyter Notebook\n",
    "print(outer_width)\n",
    "print(outer_height)"
   ]
  },
  {
   "cell_type": "markdown",
   "id": "ee41037d",
   "metadata": {},
   "source": [
    "**57. Write a Python program to get the execution time of a Python method.**"
   ]
  },
  {
   "cell_type": "code",
   "execution_count": 83,
   "id": "c9f69d4b",
   "metadata": {},
   "outputs": [
    {
     "name": "stdout",
     "output_type": "stream",
     "text": [
      "Sum of 1 to 100 is: 5050\n",
      "Required time to sum of 1 to 100 is: 2.956390380859375e-05\n"
     ]
    }
   ],
   "source": [
    "# [1] Pass Python function as a function argument & `time.time()`\n",
    "import time\n",
    "\n",
    "def execution_time(func, n):\n",
    "    start_time = time.time()\n",
    "    func(n)\n",
    "    end_time = time.time()\n",
    "    return end_time - start_time\n",
    "\n",
    "def sum_of_n_numbers(n):\n",
    "    result = 0\n",
    "    for i in range(1, n + 1):\n",
    "        result = result + i\n",
    "    print(\"Sum of 1 to\", n, \"is:\", result)\n",
    "\n",
    "n = 100\n",
    "print(\"Required time to sum of 1 to\", n, \"is:\", execution_time(sum_of_n_numbers, n))"
   ]
  },
  {
   "cell_type": "code",
   "execution_count": 84,
   "id": "12ba7fa1",
   "metadata": {},
   "outputs": [
    {
     "name": "stdout",
     "output_type": "stream",
     "text": [
      "Time to sum of 1 to 100 and required time to calculate is: (5050, 3.337860107421875e-06)\n"
     ]
    }
   ],
   "source": [
    "# [2] `time.time()`\n",
    "import time\n",
    "\n",
    "def sum_of_n_numbers(n):\n",
    "    start_time = time.time()\n",
    "    result = 0\n",
    "    for i in range(1, n + 1):\n",
    "        result = result + i\n",
    "    end_time = time.time()\n",
    "    return result, end_time - start_time\n",
    "\n",
    "n = 100\n",
    "print(\"Time to sum of 1 to\", n, \"and required time to calculate is:\", sum_of_n_numbers(n))"
   ]
  },
  {
   "cell_type": "markdown",
   "id": "1d3bfc4b",
   "metadata": {},
   "source": [
    "**58. Write a Python program to sum the first n positive integers.**"
   ]
  },
  {
   "cell_type": "code",
   "execution_count": 85,
   "id": "2a715dcc",
   "metadata": {},
   "outputs": [
    {
     "name": "stdout",
     "output_type": "stream",
     "text": [
      "Sum of first 100 positive integers is 5050\n"
     ]
    }
   ],
   "source": [
    "# [1] Function & `range()`\n",
    "def sum_first_n(n):\n",
    "    result = 0\n",
    "    for i in range(1, n + 1):\n",
    "        result = result + i\n",
    "    return result\n",
    "\n",
    "n = 100\n",
    "print(\"Sum of first\", n, \"positive integers is\", sum_first_n(n))"
   ]
  },
  {
   "cell_type": "code",
   "execution_count": 86,
   "id": "d76adaf1",
   "metadata": {},
   "outputs": [
    {
     "name": "stdout",
     "output_type": "stream",
     "text": [
      "Input a number: 100\n",
      "Sum of the first 100 positive integers: 5050.0\n"
     ]
    }
   ],
   "source": [
    "# [2] `input()` & `range()`\n",
    "n = int(input(\"Input a number: \"))\n",
    "\n",
    "sum_num = (n * (n + 1)) / 2\n",
    "\n",
    "print(\"Sum of the first\", n ,\"positive integers:\", sum_num)"
   ]
  },
  {
   "cell_type": "code",
   "execution_count": 87,
   "id": "ad599479",
   "metadata": {},
   "outputs": [
    {
     "name": "stdout",
     "output_type": "stream",
     "text": [
      "Input a number: 100\n",
      "Sum of the first 100 positive integers: 5050\n"
     ]
    }
   ],
   "source": [
    "# [3] `sum()` & `input()` & `range()` \n",
    "n = int(input(\"Input a number: \"))\n",
    "\n",
    "sum_num = sum(range(n + 1))\n",
    "\n",
    "print(\"Sum of the first\", n ,\"positive integers:\", sum_num)"
   ]
  },
  {
   "cell_type": "markdown",
   "id": "9829f7da",
   "metadata": {},
   "source": [
    "**59. Write a Python program to convert height (in feet and inches) to centimeters.**"
   ]
  },
  {
   "cell_type": "code",
   "execution_count": 92,
   "id": "b999beeb",
   "metadata": {},
   "outputs": [
    {
     "name": "stdout",
     "output_type": "stream",
     "text": [
      "175.26\n"
     ]
    }
   ],
   "source": [
    "# [1] Function\n",
    "def height_to_cm(h_ft, h_inch):\n",
    "    return h_ft * 30.48 + h_inch * 2.54\n",
    "\n",
    "print(height_to_cm(5, 9))"
   ]
  },
  {
   "cell_type": "code",
   "execution_count": 93,
   "id": "d3b3c334",
   "metadata": {},
   "outputs": [
    {
     "name": "stdout",
     "output_type": "stream",
     "text": [
      "Input your height:\n",
      "Feet: 5\n",
      "Inch: 9\n",
      "Your height is : 175 cm.\n"
     ]
    }
   ],
   "source": [
    "# [2] `input()`\n",
    "print(\"Input your height:\")\n",
    "h_ft = int(input(\"Feet: \"))\n",
    "h_inch = int(input(\"Inch: \"))\n",
    "\n",
    "h_inch = h_inch + h_ft * 12\n",
    "h_cm = round(h_inch * 2.54, 1)\n",
    "\n",
    "print(\"Your height is : %d cm.\" % h_cm)"
   ]
  },
  {
   "cell_type": "markdown",
   "id": "d64fb417",
   "metadata": {},
   "source": [
    "**60. Write a Python program to calculate the hypotenuse of a right angled triangle.**"
   ]
  },
  {
   "cell_type": "code",
   "execution_count": 95,
   "id": "b880dfca",
   "metadata": {},
   "outputs": [
    {
     "name": "stdout",
     "output_type": "stream",
     "text": [
      "5.0\n"
     ]
    }
   ],
   "source": [
    "# [1] Function\n",
    "from math import sqrt\n",
    "\n",
    "def hypotenuse(a, b):\n",
    "    return sqrt(a**2 + b**2)\n",
    "\n",
    "print(hypotenuse(3, 4))"
   ]
  },
  {
   "cell_type": "code",
   "execution_count": 96,
   "id": "b1a56c86",
   "metadata": {},
   "outputs": [
    {
     "name": "stdout",
     "output_type": "stream",
     "text": [
      "Input lengths of shorter triangle sides:\n",
      "a: 3\n",
      "b: 4\n",
      "The length of the hypotenuse is: 5.0\n"
     ]
    }
   ],
   "source": [
    "# [2] `input()`\n",
    "from math import sqrt\n",
    "\n",
    "print(\"Input lengths of shorter triangle sides:\")\n",
    "a = float(input(\"a: \"))\n",
    "b = float(input(\"b: \"))\n",
    "\n",
    "c = sqrt(a**2 + b**2)\n",
    "\n",
    "print(\"The length of the hypotenuse is:\", c)"
   ]
  },
  {
   "cell_type": "markdown",
   "id": "acc01609",
   "metadata": {},
   "source": [
    "**61. Write a Python program to convert the distance (in feet) to inches, yards, and miles.**"
   ]
  },
  {
   "cell_type": "code",
   "execution_count": 98,
   "id": "69066903",
   "metadata": {},
   "outputs": [
    {
     "name": "stdout",
     "output_type": "stream",
     "text": [
      "Input distance in feet: 100\n",
      "The distance in inches is 1200 inches.\n",
      "The distance in yards is 33.33 yards.\n",
      "The distance in miles is 0.02 miles.\n"
     ]
    }
   ],
   "source": [
    "# `%.2f`\n",
    "d_ft = int(input(\"Input distance in feet: \"))\n",
    "\n",
    "d_inches = d_ft * 12\n",
    "d_yards = d_ft / 3.0\n",
    "d_miles = d_ft / 5280.0\n",
    "\n",
    "print(\"The distance in inches is %i inches.\" % d_inches)\n",
    "print(\"The distance in yards is %.2f yards.\" % d_yards)\n",
    "print(\"The distance in miles is %.2f miles.\" % d_miles)"
   ]
  },
  {
   "cell_type": "markdown",
   "id": "cbab4ffd",
   "metadata": {},
   "source": [
    "**62. Write a Python program to convert all units of time into seconds.**"
   ]
  },
  {
   "cell_type": "code",
   "execution_count": 100,
   "id": "00c469e7",
   "metadata": {},
   "outputs": [
    {
     "name": "stdout",
     "output_type": "stream",
     "text": [
      "Input days: 4\n",
      "Input hours: 5\n",
      "Input minutes: 20\n",
      "Input seconds: 10\n",
      "The amounts of seconds is 364810\n"
     ]
    }
   ],
   "source": [
    "# `input()`\n",
    "days = int(input(\"Input days: \")) * 3600 * 24\n",
    "hours = int(input(\"Input hours: \")) * 3600\n",
    "minutes = int(input(\"Input minutes: \")) * 60\n",
    "seconds = int(input(\"Input seconds: \"))\n",
    "\n",
    "time = days + hours + minutes + seconds\n",
    "\n",
    "print(\"The amounts of seconds is\", time)"
   ]
  },
  {
   "cell_type": "markdown",
   "id": "b9256f9d",
   "metadata": {},
   "source": [
    "**63. Write a Python program to get an absolute file path.**"
   ]
  },
  {
   "cell_type": "code",
   "execution_count": 103,
   "id": "ac1bcaa2",
   "metadata": {},
   "outputs": [
    {
     "name": "stdout",
     "output_type": "stream",
     "text": [
      "Absolute file path: /home/yungshun/workspace/py/python-w3resource-exercises/python_basic.ipynb\n"
     ]
    }
   ],
   "source": [
    "# [1] `os.path.abspath()`\n",
    "import os\n",
    "\n",
    "print(\"Absolute file path:\", os.path.abspath(\"python_basic.ipynb\"))"
   ]
  },
  {
   "cell_type": "code",
   "execution_count": 104,
   "id": "59b8594e",
   "metadata": {},
   "outputs": [
    {
     "name": "stdout",
     "output_type": "stream",
     "text": [
      "/home/yungshun/workspace/py/python-w3resource-exercises/python_basic.ipynb\n"
     ]
    }
   ],
   "source": [
    "# [2] `pathlib.Path(param).resolve()`\n",
    "from pathlib import Path\n",
    "\n",
    "p = Path(\"python_basic.ipynb\").resolve()\n",
    "\n",
    "print(p)"
   ]
  },
  {
   "cell_type": "markdown",
   "id": "a13ad2b1",
   "metadata": {},
   "source": [
    "**64. Write a Python program that retrieves the date and time of file creation and modification.**"
   ]
  },
  {
   "cell_type": "code",
   "execution_count": 105,
   "id": "7f1abb09",
   "metadata": {},
   "outputs": [
    {
     "name": "stdout",
     "output_type": "stream",
     "text": [
      "Last modified: Wed May 17 12:46:45 2023\n",
      "Created: Wed May 17 12:46:45 2023\n"
     ]
    }
   ],
   "source": [
    "# `time.ctime()` & `os.path.getmtime()` & `os.path.getctime()`\n",
    "import os, time\n",
    "\n",
    "print(\"Last modified: %s\" % time.ctime(os.path.getmtime(\"python_basic.ipynb\")))\n",
    "# `getctime()` only returns the creation time on Windows\n",
    "# `getctime()` returns the time of the last change in Unix\n",
    "print(\"Created: %s\" % time.ctime(os.path.getctime(\"python_basic.ipynb\")))"
   ]
  },
  {
   "cell_type": "markdown",
   "id": "b873a07b",
   "metadata": {},
   "source": [
    "**65. Write a Python program that converts seconds into days, hours, minutes, and seconds.**"
   ]
  },
  {
   "cell_type": "code",
   "execution_count": 114,
   "id": "214ff7f1",
   "metadata": {},
   "outputs": [
    {
     "name": "stdout",
     "output_type": "stream",
     "text": [
      "d:h:m:s -> 14:6:56:7\n"
     ]
    }
   ],
   "source": [
    "# [1] `//` & `%` & Function \n",
    "def seconds_to_dhms(time):\n",
    "    days = time // (3600 * 24)\n",
    "    time = time % (3600 * 24)\n",
    "    hours = time // 3600\n",
    "    time = time % 3600\n",
    "    minutes = time // 60\n",
    "    seconds = time % 60\n",
    "    return days, hours, minutes, seconds\n",
    "\n",
    "print(\"d:h:m:s -> %d:%d:%d:%d\" % seconds_to_dhms(1234567))"
   ]
  },
  {
   "cell_type": "code",
   "execution_count": 115,
   "id": "623caf53",
   "metadata": {},
   "outputs": [
    {
     "name": "stdout",
     "output_type": "stream",
     "text": [
      "Input time in seconds: 1234567\n",
      "d:h:m:s -> 14:6:56:7\n"
     ]
    }
   ],
   "source": [
    "# [2] `//` & `%` & `input()`\n",
    "time = int(input(\"Input time in seconds: \"))\n",
    "\n",
    "days = time // (3600 * 24)\n",
    "time = time % (3600 * 24)\n",
    "hours = time // 3600\n",
    "time = time % 3600\n",
    "minutes = time // 60\n",
    "seconds = time % 60\n",
    "\n",
    "print(\"d:h:m:s -> %d:%d:%d:%d\" % (days, hours, minutes, seconds))"
   ]
  },
  {
   "cell_type": "markdown",
   "id": "992a69b3",
   "metadata": {},
   "source": [
    "**66. Write a Python program to calculate the body mass index.**"
   ]
  },
  {
   "cell_type": "code",
   "execution_count": 117,
   "id": "12e6f6d1",
   "metadata": {},
   "outputs": [
    {
     "name": "stdout",
     "output_type": "stream",
     "text": [
      "Input your height in meter: 1.76\n",
      "Input your weight in kilogram: 67.9\n",
      "Your body mass index is: 21.92\n"
     ]
    }
   ],
   "source": [
    "# `input()`\n",
    "height = float(input(\"Input your height in meter: \"))\n",
    "weight = float(input(\"Input your weight in kilogram: \"))\n",
    "\n",
    "print(\"Your body mass index is:\", round(weight / (height**2), 2))"
   ]
  },
  {
   "cell_type": "markdown",
   "id": "4cfca230",
   "metadata": {},
   "source": [
    "**67. Write a Python program to convert pressure in kilopascals to pounds per square inch, a millimeter of mercury (mmHg) and atmosphere pressure.**"
   ]
  },
  {
   "cell_type": "code",
   "execution_count": 119,
   "id": "e3021d3a",
   "metadata": {},
   "outputs": [
    {
     "name": "stdout",
     "output_type": "stream",
     "text": [
      "Input pressure in kilopascals: 12.35\n",
      "The pressure in pounds per square inch: 1.79 psi\n",
      "The pressure in millimeter of mercury: 92.63 mmHg\n",
      "Atmosphere pressure: 0.12 atm\n"
     ]
    }
   ],
   "source": [
    "# `input()`\n",
    "kpa = float(input(\"Input pressure in kilopascals: \"))\n",
    "\n",
    "psi = kpa / 6.89475729\n",
    "mmhg = kpa * 760 / 101.325\n",
    "atm = kpa / 101.325\n",
    "\n",
    "print(\"The pressure in pounds per square inch: %.2f psi\"  % (psi))\n",
    "print(\"The pressure in millimeter of mercury: %.2f mmHg\" % (mmhg))\n",
    "print(\"Atmosphere pressure: %.2f atm\" % (atm))"
   ]
  },
  {
   "cell_type": "markdown",
   "id": "324d5eb2",
   "metadata": {},
   "source": [
    "**68. Write a Python program to calculate sum of digits of a number.**"
   ]
  },
  {
   "cell_type": "code",
   "execution_count": 122,
   "id": "334f4215",
   "metadata": {},
   "outputs": [
    {
     "name": "stdout",
     "output_type": "stream",
     "text": [
      "28\n",
      "8\n",
      "11\n"
     ]
    }
   ],
   "source": [
    "# Loop iteration & `%` & `//`\n",
    "def sum_of_digits(n):\n",
    "    result = 0\n",
    "    while n != 0:\n",
    "        result = result + n % 10\n",
    "        n = n // 10\n",
    "    return result\n",
    "\n",
    "print(sum_of_digits(1234567))\n",
    "print(sum_of_digits(8))\n",
    "print(sum_of_digits(317))"
   ]
  },
  {
   "cell_type": "markdown",
   "id": "39111083",
   "metadata": {},
   "source": [
    "**69. Write a Python program to sort three integers without using conditional statements and loops.**"
   ]
  },
  {
   "cell_type": "code",
   "execution_count": 125,
   "id": "2a869f9d",
   "metadata": {},
   "outputs": [
    {
     "name": "stdout",
     "output_type": "stream",
     "text": [
      "Input first number: 5\n",
      "Input second number: 8\n",
      "Input third number: 3\n",
      "Numbers in sorted order: 3 5 8\n"
     ]
    }
   ],
   "source": [
    "# Trick using `min()` & `max()` & calculation\n",
    "x = int(input(\"Input first number: \"))\n",
    "y = int(input(\"Input second number: \"))\n",
    "z = int(input(\"Input third number: \"))\n",
    "\n",
    "a1 = min(x, y, z)\n",
    "a3 = max(x, y, z)\n",
    "a2 = (x + y + z) - a1 - a3\n",
    "\n",
    "print(\"Numbers in sorted order:\", a1, a2, a3)"
   ]
  },
  {
   "cell_type": "markdown",
   "id": "e0fea691",
   "metadata": {},
   "source": [
    "**70. Write a Python program to sort files by date.**"
   ]
  },
  {
   "cell_type": "code",
   "execution_count": 126,
   "id": "0e368a28",
   "metadata": {},
   "outputs": [
    {
     "name": "stdout",
     "output_type": "stream",
     "text": [
      "python_basic.py\n",
      "python_basic.ipynb\n"
     ]
    }
   ],
   "source": [
    "# [1] `glob` module\n",
    "import os, glob\n",
    "\n",
    "files = glob.glob(\"*\")\n",
    "files.sort(key=os.path.getmtime)\n",
    "\n",
    "print(\"\\n\".join(files))"
   ]
  },
  {
   "cell_type": "code",
   "execution_count": 128,
   "id": "8c89baa2",
   "metadata": {},
   "outputs": [
    {
     "name": "stdout",
     "output_type": "stream",
     "text": [
      ".gitignore\n",
      "python_basic.py\n",
      "python_basic.ipynb\n"
     ]
    }
   ],
   "source": [
    "# [2] `os.chdir()` & `os.listdir()` & `os.path.isfile()` & `filter()` & `map()`\n",
    "import os\n",
    "\n",
    "os.chdir(\"/home/yungshun/workspace/py/python-w3resource-exercises\")\n",
    "result = sorted(filter(os.path.isfile, os.listdir(\".\")), key=os.path.getmtime)\n",
    "\n",
    "print(\"\\n\".join(map(str, result)))"
   ]
  },
  {
   "cell_type": "markdown",
   "id": "05add015",
   "metadata": {},
   "source": [
    "**71. Write a Python program to get a directory listing, sorted by creation date.**"
   ]
  },
  {
   "cell_type": "code",
   "execution_count": 3,
   "id": "caf6e38d",
   "metadata": {},
   "outputs": [
    {
     "name": "stdout",
     "output_type": "stream",
     "text": [
      "Directory listing, sorted by creation date:\n",
      "Tue May 16 04:22:18 2023 .ipynb_checkpoints\n",
      "Tue May 16 08:44:47 2023 .gitignore\n",
      "Wed May 17 13:42:34 2023 python_basic.py\n",
      "Wed May 17 13:43:27 2023 .git\n",
      "Tue May 23 22:32:41 2023 python_basic.ipynb\n"
     ]
    }
   ],
   "source": [
    "# [1] List declaration & `os.path.getctime()` & `os.listdir()`\n",
    "import os, time\n",
    "\n",
    "paths = [\"%s %s\" % (time.ctime(t), f) for t, f in sorted([(os.path.getctime(x), x) for x in os.listdir(\".\")])]\n",
    "\n",
    "print(\"Directory listing, sorted by creation date:\")\n",
    "for x in range(len(paths)):\n",
    "    print(paths[x],)"
   ]
  },
  {
   "cell_type": "code",
   "execution_count": 4,
   "id": "a966e9b3",
   "metadata": {},
   "outputs": [
    {
     "name": "stdout",
     "output_type": "stream",
     "text": [
      "Directory listing, sorted by creation date:\n",
      "Wed May 17 13:42:34 2023 python_basic.py\n",
      "Tue May 23 22:34:41 2023 python_basic.ipynb\n"
     ]
    }
   ],
   "source": [
    "# [2] List declaration & `os.path.getctime()` & `glob.glob()`\n",
    "import os, glob\n",
    "\n",
    "files = [\"%s %s\" % (time.ctime(t), f) for t, f in sorted([(os.path.getctime(x), x) for x in glob.glob(\"*\")])]\n",
    "\n",
    "print(\"Directory listing, sorted by creation date:\")\n",
    "for x in range(len(files)):\n",
    "    print(files[x],)"
   ]
  },
  {
   "cell_type": "code",
   "execution_count": 10,
   "id": "e8731faf",
   "metadata": {},
   "outputs": [
    {
     "name": "stdout",
     "output_type": "stream",
     "text": [
      "Tue May 16 08:44:47 2023 .gitignore\n",
      "Wed May 17 13:42:34 2023 python_basic.py\n",
      "Tue May 23 22:50:41 2023 python_basic.ipynb\n"
     ]
    }
   ],
   "source": [
    "# [3] `stat` module & `os.stat()` & `sys.argv` & `time.ctime()`\n",
    "import os, sys, time\n",
    "from stat import S_ISREG, ST_CTIME, ST_MODE\n",
    "\n",
    "# Relative or absolute path to the directory\n",
    "dir_path = sys.argv[1] if len(sys.argv) == 2 else r'.'\n",
    "# All entries in the directory w/ stats\n",
    "data = (os.path.join(dir_path, fn) for fn in os.listdir(dir_path))\n",
    "data = ((os.stat(path), path) for path in data)\n",
    "# The `stat` module defines constants and functions for interpreting the results of `os.stat()`\n",
    "# Regular files, insert creation date\n",
    "data = ((stat[ST_CTIME], path) for stat, path in data if S_ISREG(stat[ST_MODE]))\n",
    "\n",
    "for cdate, path in sorted(data):\n",
    "    # print(cdate, os.path.basename(path))\n",
    "    # 1684197887 .gitignore\n",
    "    # 1684302154 python_basic.py\n",
    "    # 1684853441 python_basic.ipynb\n",
    "\n",
    "    # `ctime()` converts a time expressed in seconds\n",
    "    print(time.ctime(cdate), os.path.basename(path))"
   ]
  },
  {
   "cell_type": "markdown",
   "id": "385575d1",
   "metadata": {},
   "source": [
    "**72. Write a Python program to get the details of the math module.**"
   ]
  },
  {
   "cell_type": "code",
   "execution_count": 11,
   "id": "a959421f",
   "metadata": {},
   "outputs": [
    {
     "name": "stdout",
     "output_type": "stream",
     "text": [
      "['__doc__', '__file__', '__loader__', '__name__', '__package__', '__spec__', 'acos', 'acosh', 'asin', 'asinh', 'atan', 'atan2', 'atanh', 'ceil', 'comb', 'copysign', 'cos', 'cosh', 'degrees', 'dist', 'e', 'erf', 'erfc', 'exp', 'expm1', 'fabs', 'factorial', 'floor', 'fmod', 'frexp', 'fsum', 'gamma', 'gcd', 'hypot', 'inf', 'isclose', 'isfinite', 'isinf', 'isnan', 'isqrt', 'ldexp', 'lgamma', 'log', 'log10', 'log1p', 'log2', 'modf', 'nan', 'perm', 'pi', 'pow', 'prod', 'radians', 'remainder', 'sin', 'sinh', 'sqrt', 'tan', 'tanh', 'tau', 'trunc']\n"
     ]
    }
   ],
   "source": [
    "# [1] `dir()`\n",
    "import math\n",
    "\n",
    "# Sets everything to a list from the `math` module\n",
    "math_ls = dir(math)\n",
    "\n",
    "print(math_ls)"
   ]
  },
  {
   "cell_type": "code",
   "execution_count": 12,
   "id": "344c5fcd",
   "metadata": {},
   "outputs": [
    {
     "name": "stdout",
     "output_type": "stream",
     "text": [
      "Details of math module:\n",
      "\n",
      "Help on module math:\n",
      "\n",
      "NAME\n",
      "    math\n",
      "\n",
      "MODULE REFERENCE\n",
      "    https://docs.python.org/3.8/library/math\n",
      "    \n",
      "    The following documentation is automatically generated from the Python\n",
      "    source files.  It may be incomplete, incorrect or include features that\n",
      "    are considered implementation detail and may vary between Python\n",
      "    implementations.  When in doubt, consult the module reference at the\n",
      "    location listed above.\n",
      "\n",
      "DESCRIPTION\n",
      "    This module provides access to the mathematical functions\n",
      "    defined by the C standard.\n",
      "\n",
      "FUNCTIONS\n",
      "    acos(x, /)\n",
      "        Return the arc cosine (measured in radians) of x.\n",
      "    \n",
      "    acosh(x, /)\n",
      "        Return the inverse hyperbolic cosine of x.\n",
      "    \n",
      "    asin(x, /)\n",
      "        Return the arc sine (measured in radians) of x.\n",
      "    \n",
      "    asinh(x, /)\n",
      "        Return the inverse hyperbolic sine of x.\n",
      "    \n",
      "    atan(x, /)\n",
      "        Return the arc tangent (measured in radians) of x.\n",
      "    \n",
      "    atan2(y, x, /)\n",
      "        Return the arc tangent (measured in radians) of y/x.\n",
      "        \n",
      "        Unlike atan(y/x), the signs of both x and y are considered.\n",
      "    \n",
      "    atanh(x, /)\n",
      "        Return the inverse hyperbolic tangent of x.\n",
      "    \n",
      "    ceil(x, /)\n",
      "        Return the ceiling of x as an Integral.\n",
      "        \n",
      "        This is the smallest integer >= x.\n",
      "    \n",
      "    comb(n, k, /)\n",
      "        Number of ways to choose k items from n items without repetition and without order.\n",
      "        \n",
      "        Evaluates to n! / (k! * (n - k)!) when k <= n and evaluates\n",
      "        to zero when k > n.\n",
      "        \n",
      "        Also called the binomial coefficient because it is equivalent\n",
      "        to the coefficient of k-th term in polynomial expansion of the\n",
      "        expression (1 + x)**n.\n",
      "        \n",
      "        Raises TypeError if either of the arguments are not integers.\n",
      "        Raises ValueError if either of the arguments are negative.\n",
      "    \n",
      "    copysign(x, y, /)\n",
      "        Return a float with the magnitude (absolute value) of x but the sign of y.\n",
      "        \n",
      "        On platforms that support signed zeros, copysign(1.0, -0.0)\n",
      "        returns -1.0.\n",
      "    \n",
      "    cos(x, /)\n",
      "        Return the cosine of x (measured in radians).\n",
      "    \n",
      "    cosh(x, /)\n",
      "        Return the hyperbolic cosine of x.\n",
      "    \n",
      "    degrees(x, /)\n",
      "        Convert angle x from radians to degrees.\n",
      "    \n",
      "    dist(p, q, /)\n",
      "        Return the Euclidean distance between two points p and q.\n",
      "        \n",
      "        The points should be specified as sequences (or iterables) of\n",
      "        coordinates.  Both inputs must have the same dimension.\n",
      "        \n",
      "        Roughly equivalent to:\n",
      "            sqrt(sum((px - qx) ** 2.0 for px, qx in zip(p, q)))\n",
      "    \n",
      "    erf(x, /)\n",
      "        Error function at x.\n",
      "    \n",
      "    erfc(x, /)\n",
      "        Complementary error function at x.\n",
      "    \n",
      "    exp(x, /)\n",
      "        Return e raised to the power of x.\n",
      "    \n",
      "    expm1(x, /)\n",
      "        Return exp(x)-1.\n",
      "        \n",
      "        This function avoids the loss of precision involved in the direct evaluation of exp(x)-1 for small x.\n",
      "    \n",
      "    fabs(x, /)\n",
      "        Return the absolute value of the float x.\n",
      "    \n",
      "    factorial(x, /)\n",
      "        Find x!.\n",
      "        \n",
      "        Raise a ValueError if x is negative or non-integral.\n",
      "    \n",
      "    floor(x, /)\n",
      "        Return the floor of x as an Integral.\n",
      "        \n",
      "        This is the largest integer <= x.\n",
      "    \n",
      "    fmod(x, y, /)\n",
      "        Return fmod(x, y), according to platform C.\n",
      "        \n",
      "        x % y may differ.\n",
      "    \n",
      "    frexp(x, /)\n",
      "        Return the mantissa and exponent of x, as pair (m, e).\n",
      "        \n",
      "        m is a float and e is an int, such that x = m * 2.**e.\n",
      "        If x is 0, m and e are both 0.  Else 0.5 <= abs(m) < 1.0.\n",
      "    \n",
      "    fsum(seq, /)\n",
      "        Return an accurate floating point sum of values in the iterable seq.\n",
      "        \n",
      "        Assumes IEEE-754 floating point arithmetic.\n",
      "    \n",
      "    gamma(x, /)\n",
      "        Gamma function at x.\n",
      "    \n",
      "    gcd(x, y, /)\n",
      "        greatest common divisor of x and y\n",
      "    \n",
      "    hypot(...)\n",
      "        hypot(*coordinates) -> value\n",
      "        \n",
      "        Multidimensional Euclidean distance from the origin to a point.\n",
      "        \n",
      "        Roughly equivalent to:\n",
      "            sqrt(sum(x**2 for x in coordinates))\n",
      "        \n",
      "        For a two dimensional point (x, y), gives the hypotenuse\n",
      "        using the Pythagorean theorem:  sqrt(x*x + y*y).\n",
      "        \n",
      "        For example, the hypotenuse of a 3/4/5 right triangle is:\n",
      "        \n",
      "            >>> hypot(3.0, 4.0)\n",
      "            5.0\n",
      "    \n",
      "    isclose(a, b, *, rel_tol=1e-09, abs_tol=0.0)\n",
      "        Determine whether two floating point numbers are close in value.\n",
      "        \n",
      "          rel_tol\n",
      "            maximum difference for being considered \"close\", relative to the\n",
      "            magnitude of the input values\n",
      "          abs_tol\n",
      "            maximum difference for being considered \"close\", regardless of the\n",
      "            magnitude of the input values\n",
      "        \n",
      "        Return True if a is close in value to b, and False otherwise.\n",
      "        \n",
      "        For the values to be considered close, the difference between them\n",
      "        must be smaller than at least one of the tolerances.\n",
      "        \n",
      "        -inf, inf and NaN behave similarly to the IEEE 754 Standard.  That\n",
      "        is, NaN is not close to anything, even itself.  inf and -inf are\n",
      "        only close to themselves.\n",
      "    \n",
      "    isfinite(x, /)\n",
      "        Return True if x is neither an infinity nor a NaN, and False otherwise.\n",
      "    \n",
      "    isinf(x, /)\n",
      "        Return True if x is a positive or negative infinity, and False otherwise.\n",
      "    \n",
      "    isnan(x, /)\n",
      "        Return True if x is a NaN (not a number), and False otherwise.\n",
      "    \n",
      "    isqrt(n, /)\n",
      "        Return the integer part of the square root of the input.\n",
      "    \n",
      "    ldexp(x, i, /)\n",
      "        Return x * (2**i).\n",
      "        \n",
      "        This is essentially the inverse of frexp().\n",
      "    \n",
      "    lgamma(x, /)\n",
      "        Natural logarithm of absolute value of Gamma function at x.\n",
      "    \n",
      "    log(...)\n",
      "        log(x, [base=math.e])\n",
      "        Return the logarithm of x to the given base.\n",
      "        \n",
      "        If the base not specified, returns the natural logarithm (base e) of x.\n",
      "    \n",
      "    log10(x, /)\n",
      "        Return the base 10 logarithm of x.\n",
      "    \n",
      "    log1p(x, /)\n",
      "        Return the natural logarithm of 1+x (base e).\n",
      "        \n",
      "        The result is computed in a way which is accurate for x near zero.\n",
      "    \n",
      "    log2(x, /)\n",
      "        Return the base 2 logarithm of x.\n",
      "    \n",
      "    modf(x, /)\n",
      "        Return the fractional and integer parts of x.\n",
      "        \n",
      "        Both results carry the sign of x and are floats.\n",
      "    \n",
      "    perm(n, k=None, /)\n",
      "        Number of ways to choose k items from n items without repetition and with order.\n",
      "        \n",
      "        Evaluates to n! / (n - k)! when k <= n and evaluates\n",
      "        to zero when k > n.\n",
      "        \n",
      "        If k is not specified or is None, then k defaults to n\n",
      "        and the function returns n!.\n",
      "        \n",
      "        Raises TypeError if either of the arguments are not integers.\n",
      "        Raises ValueError if either of the arguments are negative.\n",
      "    \n",
      "    pow(x, y, /)\n",
      "        Return x**y (x to the power of y).\n",
      "    \n",
      "    prod(iterable, /, *, start=1)\n",
      "        Calculate the product of all the elements in the input iterable.\n",
      "        \n",
      "        The default start value for the product is 1.\n",
      "        \n",
      "        When the iterable is empty, return the start value.  This function is\n",
      "        intended specifically for use with numeric values and may reject\n",
      "        non-numeric types.\n",
      "    \n",
      "    radians(x, /)\n",
      "        Convert angle x from degrees to radians.\n",
      "    \n",
      "    remainder(x, y, /)\n",
      "        Difference between x and the closest integer multiple of y.\n",
      "        \n",
      "        Return x - n*y where n*y is the closest integer multiple of y.\n",
      "        In the case where x is exactly halfway between two multiples of\n",
      "        y, the nearest even value of n is used. The result is always exact.\n",
      "    \n",
      "    sin(x, /)\n",
      "        Return the sine of x (measured in radians).\n",
      "    \n",
      "    sinh(x, /)\n",
      "        Return the hyperbolic sine of x.\n",
      "    \n",
      "    sqrt(x, /)\n",
      "        Return the square root of x.\n",
      "    \n",
      "    tan(x, /)\n",
      "        Return the tangent of x (measured in radians).\n",
      "    \n",
      "    tanh(x, /)\n",
      "        Return the hyperbolic tangent of x.\n",
      "    \n",
      "    trunc(x, /)\n",
      "        Truncates the Real x to the nearest Integral toward 0.\n",
      "        \n",
      "        Uses the __trunc__ magic method.\n",
      "\n",
      "DATA\n",
      "    e = 2.718281828459045\n",
      "    inf = inf\n",
      "    nan = nan\n",
      "    pi = 3.141592653589793\n",
      "    tau = 6.283185307179586\n",
      "\n",
      "FILE\n",
      "    /home/yungshun/anaconda3/lib/python3.8/lib-dynload/math.cpython-38-x86_64-linux-gnu.so\n",
      "\n",
      "\n"
     ]
    }
   ],
   "source": [
    "# [2] `help()`\n",
    "import math\n",
    "\n",
    "print(\"Details of math module:\\n\")\n",
    "\n",
    "help(math)"
   ]
  },
  {
   "cell_type": "markdown",
   "id": "75b9dd3b",
   "metadata": {},
   "source": [
    "**73. Write a Python program to calculate the midpoints of a line.**"
   ]
  },
  {
   "cell_type": "code",
   "execution_count": 15,
   "id": "999e9c20",
   "metadata": {},
   "outputs": [
    {
     "name": "stdout",
     "output_type": "stream",
     "text": [
      "Calculate the midpoint of a line:\n",
      "The value of x (the first endpoint)2\n",
      "The value of y (the first endpoint)2\n",
      "The value of x (the second endpoint)4\n",
      "The value of y (the second endpoint)4\n",
      "The midpoint of line is:\n",
      "The midpoint's x value is: 3.0\n",
      "The midpoint's y value is: 3.0\n"
     ]
    }
   ],
   "source": [
    "# `input()`\n",
    "print(\"Calculate the midpoint of a line:\")\n",
    "x1 = float(input(\"The value of x (the first endpoint)\"))\n",
    "y1 = float(input(\"The value of y (the first endpoint)\"))\n",
    "x2 = float(input(\"The value of x (the second endpoint)\"))\n",
    "y2 = float(input(\"The value of y (the second endpoint)\"))\n",
    "\n",
    "x_m_point = (x1 + x2) / 2\n",
    "y_m_point = (y1 + y2) / 2\n",
    "\n",
    "print(\"The midpoint of line is:\")\n",
    "print(\"The midpoint's x value is:\", x_m_point)\n",
    "print(\"The midpoint's y value is:\", y_m_point)"
   ]
  },
  {
   "cell_type": "markdown",
   "id": "3c7b3dbb",
   "metadata": {},
   "source": [
    "**74. Write a Python program to hash a word.**"
   ]
  },
  {
   "cell_type": "code",
   "execution_count": 17,
   "id": "5506f536",
   "metadata": {},
   "outputs": [
    {
     "name": "stdout",
     "output_type": "stream",
     "text": [
      "Input the word be hashed: yungshun\n",
      "The coded word is: Y2500325\n"
     ]
    }
   ],
   "source": [
    "# [1] `ord()`\n",
    "soundex = [0,1,2,3,0,1,2,0,0,2,2,4,5,5,0,1,2,6,2,3,0,1,0,2,0,2]\n",
    "\n",
    "word = input(\"Input the word be hashed: \")\n",
    "\n",
    "word = word.upper()\n",
    "coded = word[0]\n",
    "for a in word[1:len(word)]:\n",
    "    i = 65 - ord(a)\n",
    "    coded = coded + str(soundex[i])\n",
    "\n",
    "print(\"The coded word is:\", coded)"
   ]
  },
  {
   "cell_type": "code",
   "execution_count": 20,
   "id": "63fe95c2",
   "metadata": {},
   "outputs": [
    {
     "name": "stdout",
     "output_type": "stream",
     "text": [
      "Original integer value: 112\n",
      "Hash value of the said integer value: 112\n",
      "Original float value: 23.99\n",
      "Hash value of the said float value: 2282784579121553431\n",
      "Original text: Python Exercises\n",
      "Hash value of the said text: -5274652165466088172\n"
     ]
    }
   ],
   "source": [
    "# [2] `hash()`\n",
    "int_num = 112\n",
    "flt_num = 23.99\n",
    "text_val = \"Python Exercises\"\n",
    "\n",
    "print(\"Original integer value:\", int_num)\n",
    "print (\"Hash value of the said integer value:\", str(hash(int_num)))\n",
    "print(\"Original float value:\", flt_num)\n",
    "print (\"Hash value of the said float value:\", str(hash(flt_num)))\n",
    "print(\"Original text:\", text_val)\n",
    "print (\"Hash value of the said text:\", str(hash(text_val)))"
   ]
  },
  {
   "cell_type": "markdown",
   "id": "82c23a77",
   "metadata": {},
   "source": [
    "**75. Write a Python program to get the copyright information and write Copyright information in Python code.**"
   ]
  },
  {
   "cell_type": "code",
   "execution_count": 25,
   "id": "3a6959ba",
   "metadata": {},
   "outputs": [
    {
     "name": "stdout",
     "output_type": "stream",
     "text": [
      "Python Copyright Information:\n",
      "\n",
      "Copyright (c) 2001-2021 Python Software Foundation.\n",
      "All Rights Reserved.\n",
      "\n",
      "Copyright (c) 2000 BeOpen.com.\n",
      "All Rights Reserved.\n",
      "\n",
      "Copyright (c) 1995-2001 Corporation for National Research Initiatives.\n",
      "All Rights Reserved.\n",
      "\n",
      "Copyright (c) 1991-1995 Stichting Mathematisch Centrum, Amsterdam.\n",
      "All Rights Reserved.\n"
     ]
    }
   ],
   "source": [
    "# [1] `sys.copyright`\n",
    "import sys\n",
    "\n",
    "print(\"Python Copyright Information:\\n\")\n",
    "print(sys.copyright)"
   ]
  },
  {
   "cell_type": "code",
   "execution_count": 26,
   "id": "ccbcd6af",
   "metadata": {},
   "outputs": [
    {
     "name": "stdout",
     "output_type": "stream",
     "text": [
      "Python Copyright Information:\n",
      "\n",
      "Copyright (c) 2001-2021 Python Software Foundation.\n",
      "All Rights Reserved.\n",
      "\n",
      "Copyright (c) 2000 BeOpen.com.\n",
      "All Rights Reserved.\n",
      "\n",
      "Copyright (c) 1995-2001 Corporation for National Research Initiatives.\n",
      "All Rights Reserved.\n",
      "\n",
      "Copyright (c) 1991-1995 Stichting Mathematisch Centrum, Amsterdam.\n",
      "All Rights Reserved.\n"
     ]
    }
   ],
   "source": [
    "# [2] `copyright`\n",
    "print(\"Python Copyright Information:\\n\")\n",
    "print(copyright)"
   ]
  },
  {
   "cell_type": "markdown",
   "id": "0954fb2e",
   "metadata": {},
   "source": [
    "**76. Write a Python program to get the command-line arguments (name of the script, the number of arguments, arguments) passed to a script.**"
   ]
  },
  {
   "cell_type": "code",
   "execution_count": 27,
   "id": "52c6d89d",
   "metadata": {},
   "outputs": [
    {
     "name": "stdout",
     "output_type": "stream",
     "text": [
      "This is the name/path of the script: /home/yungshun/yungshun-py3/lib/python3.8/site-packages/ipykernel_launcher.py\n",
      "Number of arguments: 3\n",
      "Argument list: ['/home/yungshun/yungshun-py3/lib/python3.8/site-packages/ipykernel_launcher.py', '-f', '/home/yungshun/.local/share/jupyter/runtime/kernel-ba795fe6-3b28-4fe7-8754-b2b28549483b.json']\n"
     ]
    }
   ],
   "source": [
    "# `sys.argv`\n",
    "import sys\n",
    "\n",
    "print(\"This is the name/path of the script:\", sys.argv[0])\n",
    "print(\"Number of arguments:\", len(sys.argv))\n",
    "print(\"Argument list:\", str(sys.argv))\n",
    "\n",
    "# ~$ python python_basic.py arg1 arg2 arg3 \n",
    "# This is the name/path of the script: python_basic.py\n",
    "# Number of arguments: 4\n",
    "# Argument list: ['python_basic.py', 'arg1', 'arg2', 'arg3']"
   ]
  },
  {
   "cell_type": "markdown",
   "id": "1d28cacb",
   "metadata": {},
   "source": [
    "**77. Write a Python program to test whether the system is a big-endian platform or a little-endian platform.**"
   ]
  },
  {
   "cell_type": "code",
   "execution_count": 29,
   "id": "123f6d6c",
   "metadata": {},
   "outputs": [
    {
     "name": "stdout",
     "output_type": "stream",
     "text": [
      "Little-endian platform\n"
     ]
    }
   ],
   "source": [
    "# `sys.byteorder`\n",
    "import sys\n",
    "\n",
    "if sys.byteorder == \"little\":\n",
    "    # intel, alpha\n",
    "    print(\"Little-endian platform\")\n",
    "else:\n",
    "    # motorola, sparc\n",
    "    print(\"Big-endian platform\")"
   ]
  },
  {
   "cell_type": "markdown",
   "id": "35245139",
   "metadata": {},
   "source": [
    "**78. Write a Python program to find the available built-in modules.**"
   ]
  },
  {
   "cell_type": "code",
   "execution_count": 30,
   "id": "2ffbc86f",
   "metadata": {},
   "outputs": [
    {
     "name": "stdout",
     "output_type": "stream",
     "text": [
      "_abc, _ast, _codecs, _collections, _functools, _imp, _io, _locale,\n",
      "_operator, _signal, _sre, _stat, _string, _symtable, _thread,\n",
      "_tracemalloc, _warnings, _weakref, atexit, builtins, errno,\n",
      "faulthandler, gc, itertools, marshal, posix, pwd, sys, time, xxsubtype\n"
     ]
    }
   ],
   "source": [
    "# [1] `sys.builtin_module_names` & `textwrap.fill()`\n",
    "import sys, textwrap\n",
    "\n",
    "module_name = \", \".join(sorted(sys.builtin_module_names))\n",
    "\n",
    "# Wraps the single paragraph in text & returns a single string containing the wrapped paragraph\n",
    "print(textwrap.fill(module_name, width=70))"
   ]
  },
  {
   "cell_type": "code",
   "execution_count": 31,
   "id": "fc46a4e4",
   "metadata": {},
   "outputs": [
    {
     "name": "stdout",
     "output_type": "stream",
     "text": [
      "\n",
      "Please wait a moment while I gather a list of all available modules...\n",
      "\n"
     ]
    },
    {
     "name": "stderr",
     "output_type": "stream",
     "text": [
      "2023-05-24 13:56:29.215435: I tensorflow/core/platform/cpu_feature_guard.cc:193] This TensorFlow binary is optimized with oneAPI Deep Neural Network Library (oneDNN) to use the following CPU instructions in performance-critical operations:  AVX2 FMA\n",
      "To enable them in other operations, rebuild TensorFlow with the appropriate compiler flags.\n",
      "2023-05-24 13:56:29.737304: W tensorflow/stream_executor/platform/default/dso_loader.cc:64] Could not load dynamic library 'libcudart.so.11.0'; dlerror: libcudart.so.11.0: cannot open shared object file: No such file or directory\n",
      "2023-05-24 13:56:29.737352: I tensorflow/stream_executor/cuda/cudart_stub.cc:29] Ignore above cudart dlerror if you do not have a GPU set up on your machine.\n",
      "2023-05-24 13:56:29.814715: E tensorflow/stream_executor/cuda/cuda_blas.cc:2981] Unable to register cuBLAS factory: Attempting to register factory for plugin cuBLAS when one has already been registered\n",
      "2023-05-24 13:56:31.005644: W tensorflow/stream_executor/platform/default/dso_loader.cc:64] Could not load dynamic library 'libnvinfer.so.7'; dlerror: libnvinfer.so.7: cannot open shared object file: No such file or directory\n",
      "2023-05-24 13:56:31.005780: W tensorflow/stream_executor/platform/default/dso_loader.cc:64] Could not load dynamic library 'libnvinfer_plugin.so.7'; dlerror: libnvinfer_plugin.so.7: cannot open shared object file: No such file or directory\n",
      "2023-05-24 13:56:31.005786: W tensorflow/compiler/tf2tensorrt/utils/py_utils.cc:38] TF-TRT Warning: Cannot dlopen some TensorRT libraries. If you would like to use Nvidia GPU with TensorRT, please make sure the missing libraries mentioned above are installed properly.\n",
      "/home/yungshun/anaconda3/lib/python3.8/pkgutil.py:92: UserWarning: The numpy.array_api submodule is still experimental. See NEP 47.\n",
      "  __import__(info.name)\n",
      "/home/yungshun/yungshun-py3/lib/python3.8/site-packages/setuptools/distutils_patch.py:25: UserWarning:\n",
      "\n",
      "Distutils was imported before Setuptools. This usage is discouraged and may exhibit undesirable behaviors or errors. Please use Setuptools' objects directly or at least import Setuptools first.\n",
      "\n"
     ]
    },
    {
     "name": "stdout",
     "output_type": "stream",
     "text": [
      "IPython             atexit              itertools           reprlib\n",
      "PIL                 attr                jedi                requests\n",
      "__future__          attrs               jinja2              requests_oauthlib\n",
      "_abc                audioop             joblib              resource\n",
      "_argon2_cffi_bindings backcall            json                rlcompleter\n",
      "_ast                base64              jsonschema          rsa\n",
      "_asyncio            bdb                 jupyter             runpy\n",
      "_bisect             binascii            jupyter_client      sched\n",
      "_blake2             binhex              jupyter_core        scipy\n",
      "_bootlocale         bisect              jupyterlab_plotly   scs\n",
      "_bz2                bleach              jupyterlab_pygments seaborn\n",
      "_cffi_backend       bs4                 keras               secrets\n",
      "_codecs             builtins            keras_preprocessing select\n",
      "_codecs_cn          bz2                 keyword             selectors\n",
      "_codecs_hk          cProfile            kiwisolver          send2trash\n",
      "_codecs_iso2022     cachetools          knnimpute           setuptools\n",
      "_codecs_jp          calendar            lib2to3             shelve\n",
      "_codecs_kr          catboost            lightgbm            shlex\n",
      "_codecs_tw          certifi             linecache           shutil\n",
      "_collections        cffi                locale              signal\n",
      "_collections_abc    cgi                 logging             site\n",
      "_compat_pickle      cgitb               lxml                six\n",
      "_compression        charset_normalizer  lzma                sklearn\n",
      "_contextvars        chunk               mailbox             smtpd\n",
      "_crypt              clang               mailcap             smtplib\n",
      "_csv                cmath               markdown            sndhdr\n",
      "_ctypes             cmd                 markupsafe          socket\n",
      "_ctypes_test        code                marshal             socketserver\n",
      "_curses             codecs              math                soupsieve\n",
      "_curses_panel       codeop              matplotlib          spwd\n",
      "_cvxcore            collections         matplotlib_inline   sqlite3\n",
      "_datetime           colorsys            mimetypes           sre_compile\n",
      "_decimal            compileall          missingno           sre_constants\n",
      "_dummy_thread       concurrent          mistune             sre_parse\n",
      "_ecos               configparser        mmap                ssl\n",
      "_elementtree        contextlib          modulefinder        stack_data\n",
      "_functools          contextvars         multiprocessing     stat\n",
      "_hashlib            contourpy           nbclient            statistics\n",
      "_heapq              copy                nbconvert           statsmodels\n",
      "_imp                copyreg             nbformat            string\n",
      "_io                 crypt               nest_asyncio        stringprep\n",
      "_json               csv                 netrc               struct\n",
      "_locale             ctypes              nis                 subprocess\n",
      "_lsprof             curses              nntplib             sunau\n",
      "_lzma               cvxopt              nose                symbol\n",
      "_markupbase         cvxpy               notebook            symtable\n",
      "_md5                cycler              ntpath              sys\n",
      "_multibytecodec     dataclasses         nturl2path          sysconfig\n",
      "_multiprocessing    datetime            numbers             syslog\n",
      "_opcode             dateutil            numpy               tabnanny\n",
      "_operator           dbm                 oauthlib            tarfile\n",
      "_osx_support        deap                opcode              telnetlib\n",
      "_pickle             debugpy             openpyxl            tempfile\n",
      "_plotly_future_     decimal             operator            tenacity\n",
      "_plotly_utils       decorator           opt_einsum          tensorboard\n",
      "_posixshmem         defusedxml          optparse            tensorboard_data_server\n",
      "_posixsubprocess    difflib             os                  tensorboard_plugin_wit\n",
      "_py_abc             dis                 osqp                tensorflow\n",
      "_pydecimal          distutils           osqppurepy          tensorflow_estimator\n",
      "_pyio               doctest             ossaudiodev         tensorflow_io_gcs_filesystem\n",
      "_pyrsistent_version dummy_threading     packaging           termcolor\n",
      "_pytest             easy_install        pandas              terminado\n",
      "_queue              ecos                pandocfilters       termios\n",
      "_random             email               parser              test\n",
      "_scs_direct         encodings           parso               textwrap\n",
      "_scs_indirect       ensurepip           pasta               this\n",
      "_sha1               entrypoints         pathlib             threading\n",
      "_sha256             enum                patsy               threadpoolctl\n",
      "_sha3               errno               pdb                 time\n",
      "_sha512             et_xmlfile          pexpect             timeit\n",
      "_signal             executing           pickle              tinycss2\n",
      "_sitebuiltins       fancyimpute         pickleshare         tkinter\n",
      "_socket             fastjsonschema      pickletools         token\n",
      "_sqlite3            faulthandler        pip                 tokenize\n",
      "_sre                fcntl               pipes               tomli\n",
      "_ssl                filecmp             pkg_resources       tornado\n",
      "_stat               fileinput           pkgutil             trace\n",
      "_statistics         flatbuffers         pkgutil_resolve_name traceback\n",
      "_string             fnmatch             platform            tracemalloc\n",
      "_strptime           fontTools           plistlib            traitlets\n",
      "_struct             formatter           plotly              tty\n",
      "_symtable           fractions           pluggy              turtle\n",
      "_sysconfigdata__linux_x86_64-linux-gnu ftplib              poplib              turtledemo\n",
      "_sysconfigdata_aarch64_conda_cos7_linux_gnu functools           posix               types\n",
      "_sysconfigdata_aarch64_conda_linux_gnu gast                posixpath           typing\n",
      "_sysconfigdata_i686_conda_cos6_linux_gnu gc                  pprint              typing_extensions\n",
      "_sysconfigdata_powerpc64le_conda_cos7_linux_gnu genericpath         profile             unicodedata\n",
      "_sysconfigdata_s390x_conda_cos7_linux_gnu getopt              prometheus_client   unittest\n",
      "_sysconfigdata_s390x_conda_linux_gnu getpass             prompt_toolkit      urllib\n",
      "_sysconfigdata_x86_64_apple_darwin13_4_0 gettext             pstats              urllib3\n",
      "_sysconfigdata_x86_64_conda_cos6_linux_gnu glob                psutil              uu\n",
      "_testbuffer         google_auth_oauthlib pty                 uuid\n",
      "_testcapi           graphviz            ptyprocess          venv\n",
      "_testimportmultiple grp                 pure_eval           warnings\n",
      "_testinternalcapi   grpc                pvectorc            wave\n",
      "_testmultiphase     gzip                pwd                 wcwidth\n",
      "_thread             h5py                py                  weakref\n",
      "_threading_local    hashlib             py_compile          webbrowser\n",
      "_tkinter            heapq               pyasn1              webencodings\n",
      "_tracemalloc        hmac                pyasn1_modules      werkzeug\n",
      "_warnings           html                pyclbr              wheel\n",
      "_weakref            http                pycparser           wrapt\n",
      "_weakrefset         idlelib             pydoc               wsgiref\n",
      "_xxsubinterpreters  idna                pydoc_data          xdrlib\n",
      "_xxtestfuzz         imaplib             pyexpat             xgboost\n",
      "abc                 imblearn            pygments            xlrd\n",
      "absl                imghdr              pylab               xml\n",
      "aifc                imp                 pyparsing           xmlrpc\n",
      "antigravity         importlib           pyrsistent          xxlimited\n",
      "argon2              importlib_metadata  pytest              xxsubtype\n",
      "argparse            importlib_resources python_basic        zipapp\n",
      "array               iniconfig           pytz                zipfile\n",
      "ast                 inspect             qdldl               zipimport\n",
      "asttokens           io                  queue               zipp\n",
      "astunparse          ipaddress           quopri              zlib\n",
      "asynchat            ipykernel           random              zmq\n",
      "asyncio             ipykernel_launcher  re                  \n",
      "asyncore            ipython_genutils    readline            \n",
      "\n",
      "Enter any module name to get more help.  Or, type \"modules spam\" to search\n",
      "for modules whose name or summary contain the string \"spam\".\n",
      "\n"
     ]
    },
    {
     "name": "stderr",
     "output_type": "stream",
     "text": [
      "/home/yungshun/anaconda3/lib/python3.8/pkgutil.py:107: VisibleDeprecationWarning:\n",
      "\n",
      "zmq.eventloop.minitornado is deprecated in pyzmq 14.0 and will be removed.\n",
      "    Install tornado itself to use zmq with the tornado IOLoop.\n",
      "    \n",
      "\n"
     ]
    }
   ],
   "source": [
    "# [2] `help()`\n",
    "help(\"modules\")"
   ]
  },
  {
   "cell_type": "markdown",
   "id": "eb14ad43",
   "metadata": {},
   "source": [
    "**79. Write a Python program to get the size of an object in bytes.**"
   ]
  },
  {
   "cell_type": "code",
   "execution_count": 37,
   "id": "ecc4a5a7",
   "metadata": {},
   "outputs": [
    {
     "name": "stdout",
     "output_type": "stream",
     "text": [
      "Size of one = 52 bytes\n",
      "Size of two = 52 bytes\n",
      "Size of three = 54 bytes\n",
      "Size of 0 = 24 bytes\n",
      "Size of 112 = 28 bytes\n",
      "Size of [1, 2, 3, 'Red', 'Black'] = 96 bytes\n",
      "Size of ('Red', [8, 4, 6], (1, 2, 3)) = 64 bytes\n",
      "Size of {'apple', 'orange', 'pear'} = 216 bytes\n",
      "Size of {'Name': 'David', 'Age': 6, 'Class': 'First'} = 232 bytes\n"
     ]
    }
   ],
   "source": [
    "# `sys.getsizeof()`\n",
    "import sys\n",
    "\n",
    "str1 = \"one\"\n",
    "str2 = \"two\"\n",
    "str3 = \"three\"\n",
    "x = 0\n",
    "y = 112\n",
    "z = 122.56\n",
    "L = [1, 2, 3, \"Red\", \"Black\"]\n",
    "T = (\"Red\", [8, 4, 6], (1, 2, 3))\n",
    "S = {\"apple\", \"orange\", \"apple\", \"pear\"}\n",
    "D = {\"Name\": \"David\", \"Age\": 6, \"Class\": \"First\"}\n",
    "\n",
    "print(\"Size of\", str1, \"=\", str(sys.getsizeof(str1)), \"bytes\")\n",
    "print(\"Size of\", str2, \"=\", str(sys.getsizeof(str2)), \"bytes\")\n",
    "print(\"Size of\", str3, \"=\", str(sys.getsizeof(str3)), \"bytes\")\n",
    "print(\"Size of\", x, \"=\", str(sys.getsizeof(x)), \"bytes\")\n",
    "print(\"Size of\", y, \"=\", str(sys.getsizeof(y)), \"bytes\") \n",
    "print(\"Size of\", L, \"=\", str(sys.getsizeof(L)), \"bytes\")\n",
    "print(\"Size of\", T, \"=\", str(sys.getsizeof(T)), \"bytes\")\n",
    "print(\"Size of\", S, \"=\", str(sys.getsizeof(S)), \"bytes\")\n",
    "print(\"Size of\", D, \"=\", str(sys.getsizeof(D)), \"bytes\")"
   ]
  },
  {
   "cell_type": "markdown",
   "id": "adc7b4f4",
   "metadata": {},
   "source": [
    "**80. Write a Python program to get the current value of the recursion limit.**"
   ]
  },
  {
   "cell_type": "code",
   "execution_count": 38,
   "id": "1221655f",
   "metadata": {},
   "outputs": [
    {
     "name": "stdout",
     "output_type": "stream",
     "text": [
      "Current value of the recursion limit:\n",
      "3000\n"
     ]
    }
   ],
   "source": [
    "# [1] `sys.getrecursionlimit()`\n",
    "import sys\n",
    "\n",
    "print(\"Current value of the recursion limit:\")\n",
    "print(sys.getrecursionlimit())"
   ]
  },
  {
   "cell_type": "code",
   "execution_count": 39,
   "id": "4f6198f0",
   "metadata": {},
   "outputs": [
    {
     "name": "stdout",
     "output_type": "stream",
     "text": [
      "Call sys.getrecursionlimit() to get the current recursion limit:\n",
      "3000\n",
      "Call sys.setrecursionlimit(n) to change the recursion limit to n operations:\n",
      "1000\n"
     ]
    }
   ],
   "source": [
    "# [2] `sys.getrecursionlimit()` & `sys.setrecursionlimit()`\n",
    "import sys\n",
    "\n",
    "print(\"Call sys.getrecursionlimit() to get the current recursion limit:\")\n",
    "recursion_limit = sys.getrecursionlimit()\n",
    "print(recursion_limit)\n",
    "\n",
    "print(\"Call sys.setrecursionlimit(n) to change the recursion limit to n operations:\")\n",
    "sys.setrecursionlimit(1000)\n",
    "new_recursion_limit = sys.getrecursionlimit()\n",
    "print(new_recursion_limit)"
   ]
  },
  {
   "cell_type": "markdown",
   "id": "0ea45566",
   "metadata": {},
   "source": [
    "**81. Write a Python program to concatenate N strings.**"
   ]
  },
  {
   "cell_type": "code",
   "execution_count": 40,
   "id": "9afd9d3d",
   "metadata": {},
   "outputs": [
    {
     "name": "stdout",
     "output_type": "stream",
     "text": [
      "All colors: Red-Green-Blue\n"
     ]
    }
   ],
   "source": [
    "# [1] `join()`\n",
    "list_of_colors = [\"Red\", \"Green\", \"Blue\"]\n",
    "colors = \"-\".join(list_of_colors)\n",
    "\n",
    "print(\"All colors:\", colors)"
   ]
  },
  {
   "cell_type": "code",
   "execution_count": 44,
   "id": "93a66f05",
   "metadata": {},
   "outputs": [
    {
     "name": "stdout",
     "output_type": "stream",
     "text": [
      "Concatenete with the `+` operator:\n",
      "All colors: Red-Green-Blue\n"
     ]
    }
   ],
   "source": [
    "# [2] `+`\n",
    "print(\"Concatenete with the `+` operator:\")\n",
    "\n",
    "list_of_colors = [\"Red\", \"Green\", \"Blue\"]\n",
    "colors = list_of_colors[0] + \"-\" + list_of_colors[1] + \"-\" + list_of_colors[2]\n",
    "\n",
    "print(\"All colors:\", colors)"
   ]
  },
  {
   "cell_type": "markdown",
   "id": "b883a3d1",
   "metadata": {},
   "source": [
    "**82. Write a Python program to calculate the sum of all items of a container (tuple, list, set, dictionary).**"
   ]
  },
  {
   "cell_type": "code",
   "execution_count": 74,
   "id": "e3a32a7f",
   "metadata": {},
   "outputs": [
    {
     "name": "stdout",
     "output_type": "stream",
     "text": [
      "Original container:\n",
      "[10, 20, 30]\n",
      "<class 'list'>\n",
      "Sum of all items of the said container: 60\n"
     ]
    }
   ],
   "source": [
    "# [1] List container & `sum()`\n",
    "nums = [10, 20, 30]\n",
    "\n",
    "print(\"Original container:\")\n",
    "print(nums)\n",
    "print(type(nums))\n",
    "print(\"Sum of all items of the said container:\", sum(nums))"
   ]
  },
  {
   "cell_type": "code",
   "execution_count": 76,
   "id": "94ddcf3b",
   "metadata": {},
   "outputs": [
    {
     "name": "stdout",
     "output_type": "stream",
     "text": [
      "Original container:\n",
      "(10, 20, 30)\n",
      "<class 'tuple'>\n",
      "Sum of all items of the said container: 60\n"
     ]
    }
   ],
   "source": [
    "# [2] Tuple container & `sum()`\n",
    "nums = (10, 20, 30)\n",
    "\n",
    "print(\"Original container:\")\n",
    "print(nums)\n",
    "print(type(nums))\n",
    "print(\"Sum of all items of the said container:\", sum(nums))"
   ]
  },
  {
   "cell_type": "code",
   "execution_count": 78,
   "id": "aefb0c66",
   "metadata": {},
   "outputs": [
    {
     "name": "stdout",
     "output_type": "stream",
     "text": [
      "Original container:\n",
      "{10, 20, 30}\n",
      "<class 'set'>\n",
      "Sum of all items of the said container: 60\n"
     ]
    }
   ],
   "source": [
    "# [3] Tuple container & `sum()`\n",
    "nums = {10, 20, 30}\n",
    "\n",
    "print(\"Original container:\")\n",
    "print(nums)\n",
    "print(type(nums))\n",
    "print(\"Sum of all items of the said container:\", sum(nums))"
   ]
  },
  {
   "cell_type": "code",
   "execution_count": 79,
   "id": "f6aac981",
   "metadata": {},
   "outputs": [
    {
     "name": "stdout",
     "output_type": "stream",
     "text": [
      "Original container:\n",
      "{'a': 10, 'b': 20, 'c': 30}\n",
      "<class 'dict'>\n",
      "Sum of all items of the said container: 60\n"
     ]
    }
   ],
   "source": [
    "# [4] Dictionary container & `sum()`\n",
    "def dict_sum(nums):\n",
    "    num_sum = 0\n",
    "    for i in nums:\n",
    "        num_sum = num_sum + nums[i]\n",
    "    return num_sum\n",
    "\n",
    "nums = {\"a\": 10, \"b\": 20, \"c\": 30}\n",
    "\n",
    "print(\"Original container:\")\n",
    "print(nums)\n",
    "print(type(nums))\n",
    "print(\"Sum of all items of the said container:\", dict_sum(nums))"
   ]
  },
  {
   "cell_type": "code",
   "execution_count": 81,
   "id": "df8470e4",
   "metadata": {},
   "outputs": [
    {
     "name": "stdout",
     "output_type": "stream",
     "text": [
      "Original container:\n",
      "{'a': 10, 'b': 20, 'c': 30}\n",
      "<class 'dict'>\n",
      "Sum of all items of the said container: 60\n"
     ]
    }
   ],
   "source": [
    "# [5] Dictionary container & `values()` & `sum()`\n",
    "nums = {\"a\": 10, \"b\": 20, \"c\": 30}\n",
    "\n",
    "print(\"Original container:\")\n",
    "print(nums)\n",
    "print(type(nums))\n",
    "print(\"Sum of all items of the said container:\", sum(nums.values()))"
   ]
  },
  {
   "cell_type": "code",
   "execution_count": 82,
   "id": "c599d43a",
   "metadata": {},
   "outputs": [
    {
     "name": "stdout",
     "output_type": "stream",
     "text": [
      "Original container:\n",
      "[10, 20, 30]\n",
      "<class 'list'>\n",
      "Sum of all items of the said container: 60\n"
     ]
    }
   ],
   "source": [
    "# [5] List, tuple, set containers & `reduce()`\n",
    "import functools\n",
    "\n",
    "# Also works for tuple & set containers \n",
    "nums = [10, 20, 30]\n",
    "\n",
    "print(\"Original container:\")\n",
    "print(nums)\n",
    "print(type(nums))\n",
    "print(\"Sum of all items of the said container:\", functools.reduce(lambda a, b: a + b, nums))"
   ]
  },
  {
   "cell_type": "code",
   "execution_count": 83,
   "id": "8cb550c3",
   "metadata": {},
   "outputs": [
    {
     "name": "stdout",
     "output_type": "stream",
     "text": [
      "Original container:\n",
      "{'a': 10, 'b': 20, 'c': 30}\n",
      "<class 'dict'>\n",
      "Sum of all items of the said container: 60\n"
     ]
    }
   ],
   "source": [
    "# [6] Dictionary containers & `values()` & `reduce()`\n",
    "import functools\n",
    "\n",
    "# Also works for tuple & set containers \n",
    "nums = {\"a\": 10, \"b\": 20, \"c\": 30}\n",
    "\n",
    "print(\"Original container:\")\n",
    "print(nums)\n",
    "print(type(nums))\n",
    "print(\"Sum of all items of the said container:\", functools.reduce(lambda a, b: a + b, nums.values()))"
   ]
  },
  {
   "cell_type": "markdown",
   "id": "5a4b25df",
   "metadata": {},
   "source": [
    "**83. Write a Python program to test whether all numbers in a list are greater than a certain number.**"
   ]
  },
  {
   "cell_type": "code",
   "execution_count": 67,
   "id": "741a3737",
   "metadata": {},
   "outputs": [
    {
     "name": "stdout",
     "output_type": "stream",
     "text": [
      "Original list numbers:\n",
      "[10, 20, 30, 40, 50, 60, 70, 80, 90, 100]\n",
      "Check whether all numbers of the said list greater than: 5\n",
      "True\n",
      "Check whether all numbers of the said list greater than: 13\n",
      "False\n"
     ]
    }
   ],
   "source": [
    "# `all()`\n",
    "# `all()` returns `True` if all items in an iterable are true; otherwise it returns `False`\n",
    "def gt(nums, n):\n",
    "    return all(x > n for x in nums)\n",
    "\n",
    "nums = [10, 20, 30, 40, 50, 60, 70, 80, 90, 100]\n",
    "print(\"Original list numbers:\")\n",
    "print(nums)\n",
    "\n",
    "n = 5\n",
    "print(\"Check whether all numbers of the said list greater than:\", n)\n",
    "print(gt(nums, n))\n",
    "\n",
    "n = 13\n",
    "print(\"Check whether all numbers of the said list greater than:\", n)\n",
    "print(gt(nums, n))"
   ]
  },
  {
   "cell_type": "markdown",
   "id": "e12a5963",
   "metadata": {},
   "source": [
    "**84. Write a Python program to count the number of occurrences of a specific character in a string.**"
   ]
  },
  {
   "cell_type": "code",
   "execution_count": 87,
   "id": "aacb161e",
   "metadata": {},
   "outputs": [
    {
     "name": "stdout",
     "output_type": "stream",
     "text": [
      "Original string:\n",
      "The quick brown fox jumps over the lazy dog.\n",
      "Number of occurrence of \"o\" in the said string:\n",
      "4\n"
     ]
    }
   ],
   "source": [
    "# [1] Loop\n",
    "def word_count(s, ch):\n",
    "    count = 0\n",
    "    for c in s:\n",
    "        if c == ch: \n",
    "            count = count + 1\n",
    "    return count\n",
    "\n",
    "s = \"The quick brown fox jumps over the lazy dog.\"\n",
    "ch = \"o\"\n",
    "\n",
    "print(\"Original string:\")\n",
    "print(s)\n",
    "print(\"Number of occurrence of\", \"\\\"\" + ch + \"\\\"\", \"in the said string:\")\n",
    "print(word_count(s, ch))"
   ]
  },
  {
   "cell_type": "code",
   "execution_count": 85,
   "id": "7ae0b961",
   "metadata": {},
   "outputs": [
    {
     "name": "stdout",
     "output_type": "stream",
     "text": [
      "Original string:\n",
      "The quick brown fox jumps over the lazy dog.\n",
      "Number of occurrence of \"o\" in the said string:\n",
      "4\n"
     ]
    }
   ],
   "source": [
    "# [2] `count()`\n",
    "s = \"The quick brown fox jumps over the lazy dog.\"\n",
    "ch = \"o\"\n",
    "\n",
    "print(\"Original string:\")\n",
    "print(s)\n",
    "print(\"Number of occurrence of\", \"\\\"\" + ch + \"\\\"\", \"in the said string:\")\n",
    "print(s.count(ch))"
   ]
  },
  {
   "cell_type": "code",
   "execution_count": 88,
   "id": "4f0556be",
   "metadata": {},
   "outputs": [
    {
     "name": "stdout",
     "output_type": "stream",
     "text": [
      "Original string:\n",
      "The quick brown fox jumps over the lazy dog.\n",
      "Number of occurrence of \"o\" in the said string:\n",
      "4\n"
     ]
    }
   ],
   "source": [
    "# [3] `collections.Counter()`\n",
    "from collections import Counter\n",
    "\n",
    "s = \"The quick brown fox jumps over the lazy dog.\"\n",
    "ch = \"o\"\n",
    "\n",
    "print(\"Original string:\")\n",
    "print(s)\n",
    "print(\"Number of occurrence of\", \"\\\"\" + ch + \"\\\"\", \"in the said string:\")\n",
    "print(str(Counter(s)[ch]))"
   ]
  },
  {
   "cell_type": "code",
   "execution_count": 90,
   "id": "0ba4e369",
   "metadata": {},
   "outputs": [
    {
     "name": "stdout",
     "output_type": "stream",
     "text": [
      "Original string:\n",
      "The quick brown fox jumps over the lazy dog.\n",
      "Number of occurrence of \"o\" in the said string:\n",
      "4\n"
     ]
    }
   ],
   "source": [
    "# [4] `lambda` & `map()` & `sum()`\n",
    "s = \"The quick brown fox jumps over the lazy dog.\"\n",
    "ch = \"o\"\n",
    "\n",
    "print(\"Original string:\")\n",
    "print(s)\n",
    "print(\"Number of occurrence of\", \"\\\"\" + ch + \"\\\"\", \"in the said string:\")\n",
    "print(sum(map(lambda x: 1 if ch in x else 0, s)))"
   ]
  },
  {
   "cell_type": "code",
   "execution_count": 91,
   "id": "f373125b",
   "metadata": {},
   "outputs": [
    {
     "name": "stdout",
     "output_type": "stream",
     "text": [
      "Original string:\n",
      "The quick brown fox jumps over the lazy dog.\n",
      "Number of occurrence of \"o\" in the said string:\n",
      "4\n"
     ]
    }
   ],
   "source": [
    "# [5] `re.findall()`\n",
    "import re\n",
    "\n",
    "s = \"The quick brown fox jumps over the lazy dog.\"\n",
    "ch = \"o\"\n",
    "\n",
    "print(\"Original string:\")\n",
    "print(s)\n",
    "print(\"Number of occurrence of\", \"\\\"\" + ch + \"\\\"\", \"in the said string:\")\n",
    "print(len(re.findall(ch, s)))"
   ]
  },
  {
   "cell_type": "markdown",
   "id": "917f80ad",
   "metadata": {},
   "source": [
    "**85. Write a Python program to check whether a file path is a file or a directory.**"
   ]
  },
  {
   "cell_type": "code",
   "execution_count": 93,
   "id": "524af43c",
   "metadata": {},
   "outputs": [
    {
     "name": "stdout",
     "output_type": "stream",
     "text": [
      "It is a normal file\n"
     ]
    }
   ],
   "source": [
    "# `os.isdir()` & `os.isfile()`\n",
    "import os\n",
    "\n",
    "path = \"python_basic.ipynb\"\n",
    "\n",
    "if os.path.isdir(path):\n",
    "    print(\"It is a directory\")\n",
    "elif os.path.isfile(path):\n",
    "    print(\"It is a normal file\")\n",
    "else:\n",
    "    print(\"It is a special file (socket, FIFO, device file)\")"
   ]
  },
  {
   "cell_type": "markdown",
   "id": "e30257ce",
   "metadata": {},
   "source": [
    "**86. Write a Python program to get the ASCII value of a character.**"
   ]
  },
  {
   "cell_type": "code",
   "execution_count": 94,
   "id": "1568dba0",
   "metadata": {},
   "outputs": [
    {
     "name": "stdout",
     "output_type": "stream",
     "text": [
      "97\n",
      "65\n",
      "49\n",
      "64\n"
     ]
    }
   ],
   "source": [
    "# `ord()`\n",
    "print(ord(\"a\"))\n",
    "print(ord(\"A\"))\n",
    "print(ord(\"1\"))\n",
    "print(ord(\"@\"))"
   ]
  },
  {
   "cell_type": "markdown",
   "id": "4a1e66e4",
   "metadata": {},
   "source": [
    "**87. Write a Python program to get the size of a file.**"
   ]
  },
  {
   "cell_type": "code",
   "execution_count": 107,
   "id": "8c960363",
   "metadata": {},
   "outputs": [
    {
     "name": "stdout",
     "output_type": "stream",
     "text": [
      "The size of the file is: 139721 Bytes\n"
     ]
    }
   ],
   "source": [
    "# [1] `os.path.getsize()`\n",
    "import os\n",
    "\n",
    "file_size = os.path.getsize(\"python_basic.ipynb\")\n",
    "\n",
    "print(\"The size of the file is:\", file_size, \"Bytes\")"
   ]
  },
  {
   "cell_type": "code",
   "execution_count": 108,
   "id": "ecf372b7",
   "metadata": {},
   "outputs": [
    {
     "name": "stdout",
     "output_type": "stream",
     "text": [
      "The size of the file is: 139721 Bytes\n"
     ]
    }
   ],
   "source": [
    "# [2] `os.stat().st_size`\n",
    "import os\n",
    "\n",
    "file_size = os.stat(\"python_basic.ipynb\").st_size\n",
    "\n",
    "print(\"The size of the file is:\", file_size, \"Bytes\")"
   ]
  },
  {
   "cell_type": "code",
   "execution_count": 109,
   "id": "2675cbeb",
   "metadata": {},
   "outputs": [
    {
     "name": "stdout",
     "output_type": "stream",
     "text": [
      "The size of the file is: 139721 Bytes\n"
     ]
    }
   ],
   "source": [
    "# [3] `pathlib.Path()` & `Path.stat().st_size`\n",
    "import pathlib\n",
    "\n",
    "file = pathlib.Path(\"python_basic.ipynb\")\n",
    "file_size = file.stat().st_size\n",
    "\n",
    "print(\"The size of the file is:\", file_size, \"Bytes\")"
   ]
  },
  {
   "cell_type": "code",
   "execution_count": 110,
   "id": "c700e056",
   "metadata": {},
   "outputs": [
    {
     "name": "stdout",
     "output_type": "stream",
     "text": [
      "The size of the file is: 139721 Bytes\n"
     ]
    }
   ],
   "source": [
    "# [4] `open()` & `seek()` & `tell()`\n",
    "import os\n",
    "\n",
    "with open(\"python_basic.ipynb\", \"rb\") as file:\n",
    "    file.seek(0, os.SEEK_END)\n",
    "    print(\"The size of the file is:\", file.tell(), \"Bytes\")"
   ]
  },
  {
   "cell_type": "markdown",
   "id": "528df04a",
   "metadata": {},
   "source": [
    "**88. Given variables x=30 and y=20, write a Python program to print \"30+20=50\".**"
   ]
  },
  {
   "cell_type": "code",
   "execution_count": 111,
   "id": "57111db0",
   "metadata": {},
   "outputs": [
    {
     "name": "stdout",
     "output_type": "stream",
     "text": [
      "30+20=50\n"
     ]
    }
   ],
   "source": [
    "# [1] `%d`\n",
    "x = 30\n",
    "y = 20\n",
    "\n",
    "print(\"%d+%d=%d\" % (x, y, x + y))"
   ]
  },
  {
   "cell_type": "code",
   "execution_count": 112,
   "id": "ab827d4a",
   "metadata": {},
   "outputs": [
    {
     "name": "stdout",
     "output_type": "stream",
     "text": [
      "30+20=50\n"
     ]
    }
   ],
   "source": [
    "# [2] `{index}`\n",
    "x = 30\n",
    "y = 20\n",
    "\n",
    "print(\"{0}+{1}={2}\".format(x, y, x + y))"
   ]
  },
  {
   "cell_type": "code",
   "execution_count": 113,
   "id": "bc5889cd",
   "metadata": {},
   "outputs": [
    {
     "name": "stdout",
     "output_type": "stream",
     "text": [
      "30+20=50\n"
     ]
    }
   ],
   "source": [
    "# [3] `{}`\n",
    "x = 30\n",
    "y = 20\n",
    "\n",
    "print(\"{}+{}={}\".format(x, y, x + y))"
   ]
  },
  {
   "cell_type": "markdown",
   "id": "af3dcb56",
   "metadata": {},
   "source": [
    "**89. Write a Python program to perform an action if a condition is true.**\n",
    "\n",
    "Given a variable name, if the value is 1, display the string \"First day of a Month!\" and do nothing if the value is not equal."
   ]
  },
  {
   "cell_type": "code",
   "execution_count": 114,
   "id": "148673ea",
   "metadata": {},
   "outputs": [
    {
     "name": "stdout",
     "output_type": "stream",
     "text": [
      "First day of a Month!\n"
     ]
    }
   ],
   "source": [
    "# [1] if-else statement\n",
    "n = 1\n",
    "\n",
    "if n == 1:\n",
    "    print(\"First day of a Month!\")"
   ]
  },
  {
   "cell_type": "code",
   "execution_count": 115,
   "id": "f597703a",
   "metadata": {},
   "outputs": [
    {
     "name": "stdout",
     "output_type": "stream",
     "text": [
      "Input a number: 1\n",
      "First day of a Month!\n"
     ]
    }
   ],
   "source": [
    "# [2] `input` & if-else statement\n",
    "n = float(input(\"Input a number: \"))\n",
    "\n",
    "if n == 1:\n",
    "    print(\"First day of a Month!\")"
   ]
  },
  {
   "cell_type": "markdown",
   "id": "5e120a5f",
   "metadata": {},
   "source": [
    "**90. Write a Python program to create a copy of its own source code.**"
   ]
  },
  {
   "cell_type": "code",
   "execution_count": 118,
   "id": "348d6602",
   "metadata": {},
   "outputs": [
    {
     "name": "stdout",
     "output_type": "stream",
     "text": [
      "# Problem 46\n",
      "import os, sys\n",
      "\n",
      "print(\"Current File Name:\", os.path.realpath(__file__))\n",
      "print(\"Current File Name:\", os.path.abspath(__file__))\n",
      "print(\"Current File Name:\", sys.argv[0])\n",
      "\n",
      "# Problem 56\n",
      "import fcntl, termios, struct\n",
      "\n",
      "def terminal_size():\n",
      "    th, tw, hp, wp = struct.unpack(\"HHHH\", \n",
      "                                   fcntl.ioctl(0, termios.TIOCGWINSZ,\n",
      "                                   struct.pack(\"HHHH\", 0, 0, 0, 0)))\n",
      "    return tw, th\n",
      "\n",
      "print(\"Number of columns and rows:\", terminal_size())\n",
      "\n",
      "# Problem 76\n",
      "import sys\n",
      "\n",
      "print(\"This is the name/path of the script:\", sys.argv[0])\n",
      "print(\"Number of arguments:\", len(sys.argv))\n",
      "print(\"Argument list:\", str(sys.argv))\n"
     ]
    }
   ],
   "source": [
    "# `open()` & `write()` & `read()`\n",
    "def file_copy(src, dest):\n",
    "    with open(src) as f, open(dest, \"w\") as d:\n",
    "        d.write(f.read())\n",
    "        \n",
    "file_copy(\"python_basic.py\", \"python_basic_copy.py\")\n",
    "        \n",
    "with open(\"python_basic_copy.py\", \"r\") as filehandle:\n",
    "    for line in filehandle:\n",
    "        print(line, end=\"\")"
   ]
  },
  {
   "cell_type": "markdown",
   "id": "396183dd",
   "metadata": {},
   "source": [
    "**91. Write a Python program to swap two variables.**"
   ]
  },
  {
   "cell_type": "code",
   "execution_count": 121,
   "id": "6882bab2",
   "metadata": {},
   "outputs": [
    {
     "name": "stdout",
     "output_type": "stream",
     "text": [
      "Before swapping: a = 30 and b = 20\n",
      "After swapping: a = 20 and b = 30\n"
     ]
    }
   ],
   "source": [
    "# [1] Without using temporary variable\n",
    "a = 30\n",
    "b = 20\n",
    "\n",
    "print(\"Before swapping: a = %d and b = %d\" % (a, b))\n",
    "\n",
    "a, b = b, a\n",
    "\n",
    "print(\"After swapping: a = %d and b = %d\" % (a, b))"
   ]
  },
  {
   "cell_type": "code",
   "execution_count": 123,
   "id": "3a992d5d",
   "metadata": {},
   "outputs": [
    {
     "name": "stdout",
     "output_type": "stream",
     "text": [
      "Before swapping: a = 30 and b = 20\n",
      "After swapping: a = 20 and b = 30\n"
     ]
    }
   ],
   "source": [
    "# [2] Third temporary variable\n",
    "a = 30\n",
    "b = 20\n",
    "\n",
    "print(\"Before swapping: a = %d and b = %d\" % (a, b))\n",
    "\n",
    "tmp = a\n",
    "a = b\n",
    "b = tmp\n",
    "\n",
    "print(\"After swapping: a = %d and b = %d\" % (a, b))"
   ]
  },
  {
   "cell_type": "markdown",
   "id": "f4bf5323",
   "metadata": {},
   "source": [
    "**92. Write a Python program to define a string containing special characters in various forms.**"
   ]
  },
  {
   "cell_type": "code",
   "execution_count": 132,
   "id": "efbb4ae6",
   "metadata": {},
   "outputs": [
    {
     "name": "stdout",
     "output_type": "stream",
     "text": [
      "\\#{'}${\"}@/\n",
      "\\#{'}${\"}@/\n",
      "\\#{'}${\"}@/\n",
      "\\#{'}${\"}@/\n",
      "\\#{'}${\"}@/\n",
      "\\#{'}${\"}@/\n"
     ]
    }
   ],
   "source": [
    "# Various methods for escaping `\"` & `'` in string\n",
    "# Use `\\\"` inside double quotes\n",
    "print(\"\\#{'}${\\\"}@/\")\n",
    "# Use `\"'\"'\"` inside double quotes\n",
    "print(\"\\#{'}${\"'\"'\"}@/\")\n",
    "# Wrapped by `r\"\"\" \"\"\"`\n",
    "print(r\"\"\"\\#{'}${\"}@/\"\"\")\n",
    "# Use `\\'` inside single quotes\n",
    "print('\\#{\\'}${\"}@/')\n",
    "# Use `'\"'\"'` inside single quotes\n",
    "print('\\#{'\"'\"'}${\"}@/')\n",
    "# Wrapped by `r''' '''`\n",
    "print(r'''\\#{'}${\"}@/''')"
   ]
  },
  {
   "cell_type": "markdown",
   "id": "7c02ac20",
   "metadata": {},
   "source": [
    "**93. Write a Python program to get the Identity, Type, and Value of an object.**"
   ]
  },
  {
   "cell_type": "code",
   "execution_count": 133,
   "id": "efab0ed6",
   "metadata": {},
   "outputs": [
    {
     "name": "stdout",
     "output_type": "stream",
     "text": [
      "Identity: 36\n",
      "Type: <class 'int'>\n",
      "Value: 94209972281760\n"
     ]
    }
   ],
   "source": [
    "# `type()` & `id()`\n",
    "x = 36\n",
    "\n",
    "print(\"Identity:\", x)\n",
    "print(\"Type:\", type(x))\n",
    "print(\"Value:\", id(x))"
   ]
  },
  {
   "cell_type": "code",
   "execution_count": 134,
   "id": "7b5054a6",
   "metadata": {},
   "outputs": [
    {
     "name": "stdout",
     "output_type": "stream",
     "text": [
      "Convert bytes of the said string to a list of integer: [65, 98, 99]\n"
     ]
    }
   ],
   "source": [
    "# [1] `b\"str\"`\n",
    "x = b\"Abc\"\n",
    "\n",
    "print(\"Convert bytes of the said string to a list of integer:\", list(x))"
   ]
  },
  {
   "cell_type": "code",
   "execution_count": 137,
   "id": "c3b1c51a",
   "metadata": {},
   "outputs": [
    {
     "name": "stdout",
     "output_type": "stream",
     "text": [
      "Original string: Abc\n",
      "Convert bytes of the said string to a list of integers: [65, 98, 99]\n"
     ]
    }
   ],
   "source": [
    "# [2] `ord()`\n",
    "s = \"Abc\"\n",
    "print(\"Original string:\", s)\n",
    "\n",
    "nums = []\n",
    "for ch in s:\n",
    "    nums.append(ord(ch))\n",
    "    \n",
    "print(\"Convert bytes of the said string to a list of integers:\", nums)"
   ]
  },
  {
   "cell_type": "markdown",
   "id": "368c40dd",
   "metadata": {},
   "source": [
    "**95. Write a Python program to check whether a string is numeric.**"
   ]
  },
  {
   "cell_type": "code",
   "execution_count": 138,
   "id": "7b91e768",
   "metadata": {},
   "outputs": [
    {
     "name": "stdout",
     "output_type": "stream",
     "text": [
      "Input a word or number: yungshun\n",
      "The input value is a string\n"
     ]
    }
   ],
   "source": [
    "# [1] `isdigit()`\n",
    "text = input(\"Input a word or number: \")\n",
    "\n",
    "if text.isdigit():\n",
    "    print(\"The input value is a number\")\n",
    "else:\n",
    "    print(\"The input value is a string\")"
   ]
  },
  {
   "cell_type": "code",
   "execution_count": 139,
   "id": "1288afc9",
   "metadata": {},
   "outputs": [
    {
     "name": "stdout",
     "output_type": "stream",
     "text": [
      "Not numeric\n"
     ]
    }
   ],
   "source": [
    "# [2] try-except block\n",
    "text = \"yungshun\"\n",
    "\n",
    "try: \n",
    "    x = float(text)\n",
    "except (ValueError, TypeError):\n",
    "    print(\"Not numeric\")"
   ]
  },
  {
   "cell_type": "markdown",
   "id": "1dab8d78",
   "metadata": {},
   "source": [
    "**96. Write a Python program to print the current call stack.**"
   ]
  },
  {
   "cell_type": "code",
   "execution_count": 140,
   "id": "7596d2e9",
   "metadata": {},
   "outputs": [
    {
     "name": "stderr",
     "output_type": "stream",
     "text": [
      "  File \"/home/yungshun/anaconda3/lib/python3.8/runpy.py\", line 194, in _run_module_as_main\n",
      "    return _run_code(code, main_globals, None,\n",
      "  File \"/home/yungshun/anaconda3/lib/python3.8/runpy.py\", line 87, in _run_code\n",
      "    exec(code, run_globals)\n",
      "  File \"/home/yungshun/yungshun-py3/lib/python3.8/site-packages/ipykernel_launcher.py\", line 17, in <module>\n",
      "    app.launch_new_instance()\n",
      "  File \"/home/yungshun/yungshun-py3/lib/python3.8/site-packages/traitlets/config/application.py\", line 978, in launch_instance\n",
      "    app.start()\n",
      "  File \"/home/yungshun/yungshun-py3/lib/python3.8/site-packages/ipykernel/kernelapp.py\", line 712, in start\n",
      "    self.io_loop.start()\n",
      "  File \"/home/yungshun/yungshun-py3/lib/python3.8/site-packages/tornado/platform/asyncio.py\", line 215, in start\n",
      "    self.asyncio_loop.run_forever()\n",
      "  File \"/home/yungshun/anaconda3/lib/python3.8/asyncio/base_events.py\", line 570, in run_forever\n",
      "    self._run_once()\n",
      "  File \"/home/yungshun/anaconda3/lib/python3.8/asyncio/base_events.py\", line 1859, in _run_once\n",
      "    handle._run()\n",
      "  File \"/home/yungshun/anaconda3/lib/python3.8/asyncio/events.py\", line 81, in _run\n",
      "    self._context.run(self._callback, *self._args)\n",
      "  File \"/home/yungshun/yungshun-py3/lib/python3.8/site-packages/ipykernel/kernelbase.py\", line 510, in dispatch_queue\n",
      "    await self.process_one()\n",
      "  File \"/home/yungshun/yungshun-py3/lib/python3.8/site-packages/ipykernel/kernelbase.py\", line 499, in process_one\n",
      "    await dispatch(*args)\n",
      "  File \"/home/yungshun/yungshun-py3/lib/python3.8/site-packages/ipykernel/kernelbase.py\", line 406, in dispatch_shell\n",
      "    await result\n",
      "  File \"/home/yungshun/yungshun-py3/lib/python3.8/site-packages/ipykernel/kernelbase.py\", line 730, in execute_request\n",
      "    reply_content = await reply_content\n",
      "  File \"/home/yungshun/yungshun-py3/lib/python3.8/site-packages/ipykernel/ipkernel.py\", line 383, in do_execute\n",
      "    res = shell.run_cell(\n",
      "  File \"/home/yungshun/yungshun-py3/lib/python3.8/site-packages/ipykernel/zmqshell.py\", line 528, in run_cell\n",
      "    return super().run_cell(*args, **kwargs)\n",
      "  File \"/home/yungshun/yungshun-py3/lib/python3.8/site-packages/IPython/core/interactiveshell.py\", line 2885, in run_cell\n",
      "    result = self._run_cell(\n",
      "  File \"/home/yungshun/yungshun-py3/lib/python3.8/site-packages/IPython/core/interactiveshell.py\", line 2940, in _run_cell\n",
      "    return runner(coro)\n",
      "  File \"/home/yungshun/yungshun-py3/lib/python3.8/site-packages/IPython/core/async_helpers.py\", line 129, in _pseudo_sync_runner\n",
      "    coro.send(None)\n",
      "  File \"/home/yungshun/yungshun-py3/lib/python3.8/site-packages/IPython/core/interactiveshell.py\", line 3139, in run_cell_async\n",
      "    has_raised = await self.run_ast_nodes(code_ast.body, cell_name,\n",
      "  File \"/home/yungshun/yungshun-py3/lib/python3.8/site-packages/IPython/core/interactiveshell.py\", line 3318, in run_ast_nodes\n",
      "    if await self.run_code(code, result, async_=asy):\n",
      "  File \"/home/yungshun/yungshun-py3/lib/python3.8/site-packages/IPython/core/interactiveshell.py\", line 3378, in run_code\n",
      "    exec(code_obj, self.user_global_ns, self.user_ns)\n",
      "  File \"/tmp/ipykernel_20897/1225061132.py\", line 9, in <module>\n",
      "    nested_func()\n",
      "  File \"/tmp/ipykernel_20897/1225061132.py\", line 4, in nested_func\n",
      "    return func()\n",
      "  File \"/tmp/ipykernel_20897/1225061132.py\", line 7, in func\n",
      "    traceback.print_stack()\n"
     ]
    }
   ],
   "source": [
    "# `traceback.print_stack()`\n",
    "import traceback\n",
    "\n",
    "def nested_func():\n",
    "    return func()\n",
    "\n",
    "def func():\n",
    "    traceback.print_stack()\n",
    "    \n",
    "nested_func()"
   ]
  },
  {
   "cell_type": "markdown",
   "id": "103d5d97",
   "metadata": {},
   "source": [
    "**97. Write a Python program to list the special variables used in the language.**"
   ]
  },
  {
   "cell_type": "code",
   "execution_count": 152,
   "id": "183b4bd5",
   "metadata": {},
   "outputs": [
    {
     "name": "stdout",
     "output_type": "stream",
     "text": [
      "ArithmeticError AssertionError AttributeError BaseException BlockingIOError BrokenPipeError BufferError BytesWarning\n",
      "ChildProcessError ConnectionAbortedError ConnectionError ConnectionRefusedError ConnectionResetError DeprecationWarning EOFError Ellipsis\n",
      "EnvironmentError Exception False FileExistsError FileNotFoundError FloatingPointError FutureWarning GeneratorExit\n",
      "IOError ImportError ImportWarning IndentationError IndexError InterruptedError IsADirectoryError KeyError\n",
      "KeyboardInterrupt LookupError MemoryError ModuleNotFoundError NameError None NotADirectoryError NotImplemented\n",
      "NotImplementedError OSError OverflowError PendingDeprecationWarning PermissionError ProcessLookupError RecursionError ReferenceError\n",
      "ResourceWarning RuntimeError RuntimeWarning StopAsyncIteration StopIteration SyntaxError SyntaxWarning SystemError\n",
      "SystemExit TabError TimeoutError True TypeError UnboundLocalError UnicodeDecodeError UnicodeEncodeError\n",
      "UnicodeError UnicodeTranslateError UnicodeWarning UserWarning ValueError Warning ZeroDivisionError __IPYTHON__\n",
      "__build_class__ __debug__ __doc__ __import__ __loader__ __name__ __package__ __pybind11_internals_v4_gcc_libstdcpp_cxxabi1013__\n",
      "__pybind11_internals_v4_gcc_libstdcpp_cxxabi1014__ __spec__ abs all any ascii bin bool\n",
      "breakpoint bytearray bytes callable chr classmethod compile complex\n",
      "copyright credits delattr dict dir display divmod enumerate\n",
      "eval exec execfile filter float format frozenset get_ipython\n",
      "getattr globals hasattr hash help hex id input\n",
      "int isinstance issubclass iter len license list locals\n",
      "map max memoryview min next object oct open\n",
      "ord pow print property range repr reversed round\n",
      "runfile set setattr slice sorted staticmethod str sum\n",
      "super tuple type vars zip\n"
     ]
    }
   ],
   "source": [
    "# `__builtins__.__dict__` & `globals()` & set operations\n",
    "# s_var_names = sorted((set(globals().keys()) | set(__builtins__.__dict__.keys())) - set(\"_ names i\".split()))\n",
    "s_var_names = sorted(set(__builtins__.__dict__.keys()))\n",
    "\n",
    "print(\"\\n\".join(\" \".join(s_var_names[i:i+8]) for i in range(0, len(s_var_names), 8)))"
   ]
  },
  {
   "cell_type": "markdown",
   "id": "00dbeaba",
   "metadata": {},
   "source": [
    "**98. Write a Python program to get system time.**\n",
    "\n",
    "<i>Note:</i>\n",
    "\n",
    "The system time is important for debugging, network information, random number seeds, or something as simple as program performance."
   ]
  },
  {
   "cell_type": "code",
   "execution_count": 153,
   "id": "c0eaed14",
   "metadata": {},
   "outputs": [
    {
     "name": "stdout",
     "output_type": "stream",
     "text": [
      "Wed May 24 16:47:05 2023\n"
     ]
    }
   ],
   "source": [
    "# [1] `time.ctime()`\n",
    "import time\n",
    "\n",
    "print(time.ctime())"
   ]
  },
  {
   "cell_type": "code",
   "execution_count": 154,
   "id": "380cd051",
   "metadata": {},
   "outputs": [
    {
     "name": "stdout",
     "output_type": "stream",
     "text": [
      "2023-05-24 16:48:05.296189\n"
     ]
    }
   ],
   "source": [
    "# [2] `datetime.datetime.now()`\n",
    "import datetime\n",
    "\n",
    "print(datetime.datetime.now())"
   ]
  },
  {
   "cell_type": "markdown",
   "id": "18bfe4e8",
   "metadata": {},
   "source": [
    "**99. Write a Python program to clear the screen or terminal.**"
   ]
  },
  {
   "cell_type": "code",
   "execution_count": 156,
   "id": "126ccfda",
   "metadata": {},
   "outputs": [
    {
     "name": "stdout",
     "output_type": "stream",
     "text": [
      "python_basic_copy.py\n",
      "python_basic.ipynb\n",
      "python_basic.py\n",
      "\u001b[H\u001b[2J"
     ]
    },
    {
     "data": {
      "text/plain": [
       "0"
      ]
     },
     "execution_count": 156,
     "metadata": {},
     "output_type": "execute_result"
    }
   ],
   "source": [
    "# `os.system()`\n",
    "import os, time\n",
    "\n",
    "# Windows\n",
    "# os.system(\"cls\")\n",
    "os.system(\"ls\")\n",
    "time.sleep(2)\n",
    "\n",
    "# Ubuntu\n",
    "os.system(\"clear\")\n",
    "# Works in terminal"
   ]
  },
  {
   "cell_type": "markdown",
   "id": "cbb0fc5c",
   "metadata": {},
   "source": [
    "**100. Write a Python program to get the name of the host on which the routine is running.**"
   ]
  },
  {
   "cell_type": "code",
   "execution_count": 159,
   "id": "aa3e5912",
   "metadata": {},
   "outputs": [
    {
     "name": "stdout",
     "output_type": "stream",
     "text": [
      "Host name: yungshun-GF63-Thin-10SCSR\n"
     ]
    }
   ],
   "source": [
    "# [1] `socket.gethostname()`\n",
    "import socket\n",
    "\n",
    "host_name = socket.gethostname()\n",
    "\n",
    "print(\"Host name:\", host_name)"
   ]
  },
  {
   "cell_type": "code",
   "execution_count": 160,
   "id": "c7a6a3e9",
   "metadata": {},
   "outputs": [
    {
     "name": "stdout",
     "output_type": "stream",
     "text": [
      "Host name: yungshun-GF63-Thin-10SCSR\n"
     ]
    }
   ],
   "source": [
    "# [2] `platform.uname()[1]`\n",
    "import platform\n",
    "\n",
    "host_name = platform.uname()[1]\n",
    "\n",
    "print(\"Host name:\", host_name)"
   ]
  },
  {
   "cell_type": "code",
   "execution_count": 161,
   "id": "fe3247e5",
   "metadata": {},
   "outputs": [
    {
     "name": "stdout",
     "output_type": "stream",
     "text": [
      "Host name: yungshun-GF63-Thin-10SCSR\n"
     ]
    }
   ],
   "source": [
    "# [3] `os.uname().nodename`\n",
    "import os\n",
    "\n",
    "host_name = os.uname().nodename\n",
    "\n",
    "print(\"Host name:\", host_name)"
   ]
  },
  {
   "cell_type": "markdown",
   "id": "4ebee1df",
   "metadata": {},
   "source": [
    "**101. Write a Python program to access and print a URL's content to the console.**"
   ]
  },
  {
   "cell_type": "code",
   "execution_count": 1,
   "id": "aa124df1",
   "metadata": {},
   "outputs": [
    {
     "name": "stdout",
     "output_type": "stream",
     "text": [
      "b'<!doctype html>\\n<html>\\n<head>\\n    <title>Example Domain</title>\\n\\n    <meta charset=\"utf-8\" />\\n    <meta http-equiv=\"Content-type\" content=\"text/html; charset=utf-8\" />\\n    <meta name=\"viewport\" content=\"width=device-width, initial-scale=1\" />\\n    <style type=\"text/css\">\\n    body {\\n        background-color: #f0f0f2;\\n        margin: 0;\\n        padding: 0;\\n        font-family: -apple-system, system-ui, BlinkMacSystemFont, \"Segoe UI\", \"Open Sans\", \"Helvetica Neue\", Helvetica, Arial, sans-serif;\\n        \\n    }\\n    div {\\n        width: 600px;\\n        margin: 5em auto;\\n        padding: 2em;\\n        background-color: #fdfdff;\\n        border-radius: 0.5em;\\n        box-shadow: 2px 3px 7px 2px rgba(0,0,0,0.02);\\n    }\\n    a:link, a:visited {\\n        color: #38488f;\\n        text-decoration: none;\\n    }\\n    @media (max-width: 700px) {\\n        div {\\n            margin: 0 auto;\\n            width: auto;\\n        }\\n    }\\n    </style>    \\n</head>\\n\\n<body>\\n<div>\\n    <h1>Example Domain</h1>\\n    <p>This domain is for use in illustrative examples in documents. You may use this\\n    domain in literature without prior coordination or asking for permission.</p>\\n    <p><a href=\"https://www.iana.org/domains/example\">More information...</a></p>\\n</div>\\n</body>\\n</html>\\n'\n"
     ]
    }
   ],
   "source": [
    "# `http.client.HTTPConnection()`\n",
    "from http.client import HTTPConnection\n",
    "\n",
    "conn = HTTPConnection(\"example.com\")\n",
    "conn.request(\"GET\", \"/\")\n",
    "result = conn.getresponse()\n",
    "# Retrieve the entire contents\n",
    "contents = result.read()\n",
    "\n",
    "print(contents)"
   ]
  },
  {
   "cell_type": "markdown",
   "id": "2b43f6ab",
   "metadata": {},
   "source": [
    "**102. Write a Python program to get system command output.**"
   ]
  },
  {
   "cell_type": "code",
   "execution_count": 3,
   "id": "c64100ec",
   "metadata": {},
   "outputs": [
    {
     "name": "stdout",
     "output_type": "stream",
     "text": [
      "dir command to list file and directory\n",
      "numpy_basic.ipynb     python_basic.py\t\t    tmp_array.npy\n",
      "python_basic_copy.py  python_data_types_list.ipynb  tmp_array.npz\n",
      "python_basic.ipynb    python_lambda.ipynb\n",
      "\n"
     ]
    }
   ],
   "source": [
    "# `subprocess.check_output()`\n",
    "import subprocess\n",
    "\n",
    "# File & directory listing\n",
    "returned_text = subprocess.check_output(\"dir\", shell=True, universal_newlines=True)\n",
    "\n",
    "print(\"dir command to list file and directory\")\n",
    "print(returned_text)"
   ]
  },
  {
   "cell_type": "markdown",
   "id": "72e07903",
   "metadata": {},
   "source": [
    "**103. Write a Python program to extract the filename from a given path.**"
   ]
  },
  {
   "cell_type": "code",
   "execution_count": 4,
   "id": "5a8fcf9f",
   "metadata": {},
   "outputs": [
    {
     "name": "stdout",
     "output_type": "stream",
     "text": [
      "python_basic.ipynb\n"
     ]
    }
   ],
   "source": [
    "# `os.path.basename()`\n",
    "import os \n",
    "\n",
    "print(os.path.basename(\"/home/yungshun/workspace/py/python-w3resource-exercises/python_basic.ipynb\"))"
   ]
  },
  {
   "cell_type": "markdown",
   "id": "b781cdf5",
   "metadata": {},
   "source": [
    "**104. Write a Python program to get the effective group id, effective user id, real group id, and a list of supplemental group ids associated with the current process.**\n",
    "\n",
    "\n",
    "<i>Note:</i> \n",
    "\n",
    "Availability: Unix."
   ]
  },
  {
   "cell_type": "code",
   "execution_count": 5,
   "id": "608c849b",
   "metadata": {},
   "outputs": [
    {
     "name": "stdout",
     "output_type": "stream",
     "text": [
      "Effective group id: 1000\n",
      "Effective user id: 1000\n",
      "Real group id: 1000\n",
      "List of supplemental group ids: [4, 24, 27, 30, 46, 116, 126, 127, 999, 1000]\n"
     ]
    }
   ],
   "source": [
    "# `os.getegid()` & `os.geteuid()` & `os.getgid()` & `os.getgroups()`\n",
    "import os\n",
    "\n",
    "print(\"Effective group id:\", os.getegid())\n",
    "print(\"Effective user id:\", os.geteuid())\n",
    "print(\"Real group id:\", os.getgid())\n",
    "print(\"List of supplemental group ids:\", os.getgroups())"
   ]
  },
  {
   "cell_type": "markdown",
   "id": "99f00896",
   "metadata": {},
   "source": [
    "**105. Write a Python program to get the users environment.**"
   ]
  },
  {
   "cell_type": "code",
   "execution_count": 6,
   "id": "8368fa15",
   "metadata": {},
   "outputs": [
    {
     "name": "stdout",
     "output_type": "stream",
     "text": [
      "environ({'CLUTTER_IM_MODULE': 'xim', 'CONDA_SHLVL': '1', 'LS_COLORS': 'rs=0:di=01;34:ln=01;36:mh=00:pi=40;33:so=01;35:do=01;35:bd=40;33;01:cd=40;33;01:or=40;31;01:mi=00:su=37;41:sg=30;43:ca=30;41:tw=30;42:ow=34;42:st=37;44:ex=01;32:*.tar=01;31:*.tgz=01;31:*.arc=01;31:*.arj=01;31:*.taz=01;31:*.lha=01;31:*.lz4=01;31:*.lzh=01;31:*.lzma=01;31:*.tlz=01;31:*.txz=01;31:*.tzo=01;31:*.t7z=01;31:*.zip=01;31:*.z=01;31:*.Z=01;31:*.dz=01;31:*.gz=01;31:*.lrz=01;31:*.lz=01;31:*.lzo=01;31:*.xz=01;31:*.zst=01;31:*.tzst=01;31:*.bz2=01;31:*.bz=01;31:*.tbz=01;31:*.tbz2=01;31:*.tz=01;31:*.deb=01;31:*.rpm=01;31:*.jar=01;31:*.war=01;31:*.ear=01;31:*.sar=01;31:*.rar=01;31:*.alz=01;31:*.ace=01;31:*.zoo=01;31:*.cpio=01;31:*.7z=01;31:*.rz=01;31:*.cab=01;31:*.wim=01;31:*.swm=01;31:*.dwm=01;31:*.esd=01;31:*.jpg=01;35:*.jpeg=01;35:*.mjpg=01;35:*.mjpeg=01;35:*.gif=01;35:*.bmp=01;35:*.pbm=01;35:*.pgm=01;35:*.ppm=01;35:*.tga=01;35:*.xbm=01;35:*.xpm=01;35:*.tif=01;35:*.tiff=01;35:*.png=01;35:*.svg=01;35:*.svgz=01;35:*.mng=01;35:*.pcx=01;35:*.mov=01;35:*.mpg=01;35:*.mpeg=01;35:*.m2v=01;35:*.mkv=01;35:*.webm=01;35:*.ogm=01;35:*.mp4=01;35:*.m4v=01;35:*.mp4v=01;35:*.vob=01;35:*.qt=01;35:*.nuv=01;35:*.wmv=01;35:*.asf=01;35:*.rm=01;35:*.rmvb=01;35:*.flc=01;35:*.avi=01;35:*.fli=01;35:*.flv=01;35:*.gl=01;35:*.dl=01;35:*.xcf=01;35:*.xwd=01;35:*.yuv=01;35:*.cgm=01;35:*.emf=01;35:*.ogv=01;35:*.ogx=01;35:*.aac=00;36:*.au=00;36:*.flac=00;36:*.m4a=00;36:*.mid=00;36:*.midi=00;36:*.mka=00;36:*.mp3=00;36:*.mpc=00;36:*.ogg=00;36:*.ra=00;36:*.wav=00;36:*.oga=00;36:*.opus=00;36:*.spx=00;36:*.xspf=00;36:', 'CONDA_EXE': '/home/yungshun/anaconda3/bin/conda', 'LC_MEASUREMENT': 'lzh_TW', 'LESSCLOSE': '/usr/bin/lesspipe %s %s', 'LC_PAPER': 'lzh_TW', 'LC_MONETARY': 'lzh_TW', 'ANDROID_HOME': '/home/yungshun/Android/Sdk', 'XDG_MENU_PREFIX': 'gnome-', 'LANG': 'en_US.UTF-8', 'DISPLAY': ':0', 'GNOME_SHELL_SESSION_MODE': 'ubuntu', 'COLORTERM': 'truecolor', 'ANDROID_SDK_ROOT': '/home/yungshun/Android/Sdk', 'DESKTOP_AUTOSTART_ID': '10ed186b9c6d65b81a168372379988255400000029040007', 'USERNAME': 'yungshun', 'CONDA_PREFIX': '/home/yungshun/anaconda3', 'JAVA_HOME': '/home/yungshun/.jdks/openjdk-16.0.1', 'XDG_VTNR': '2', 'SSH_AUTH_SOCK': '/run/user/1000/keyring/ssh', 'VIRTUAL_ENV': '/home/yungshun/yungshun-py3', '_CE_M': '', 'LC_NAME': 'lzh_TW', 'XDG_SESSION_ID': '2', 'USER': 'yungshun', 'DESKTOP_SESSION': 'ubuntu', 'QT4_IM_MODULE': 'xim', 'TEXTDOMAINDIR': '/usr/share/locale/', 'GNOME_TERMINAL_SCREEN': '/org/gnome/Terminal/screen/ff94611f_cb46_4ff1_b194_9efdfab22086', 'PWD': '/home/yungshun/workspace/py', 'HOME': '/home/yungshun', 'CONDA_PYTHON_EXE': '/home/yungshun/anaconda3/bin/python', 'TEXTDOMAIN': 'im-config', 'SSH_AGENT_PID': '2981', 'QT_ACCESSIBILITY': '1', 'XDG_SESSION_TYPE': 'x11', 'XDG_DATA_DIRS': '/usr/share/ubuntu:/usr/local/share/:/usr/share/:/var/lib/snapd/desktop', '_CE_CONDA': '', 'XDG_SESSION_DESKTOP': 'ubuntu', 'LC_ADDRESS': 'lzh_TW', 'LC_NUMERIC': 'lzh_TW', 'CONDA_PROMPT_MODIFIER': '(base) ', 'GTK_MODULES': 'gail:atk-bridge', 'PAPERSIZE': 'a4', 'WINDOWPATH': '2', 'TERM': 'xterm-color', 'VTE_VERSION': '5202', 'SHELL': '/bin/bash', 'QT_IM_MODULE': 'ibus', 'XMODIFIERS': '@im=ibus', 'IM_CONFIG_PHASE': '2', 'XDG_CURRENT_DESKTOP': 'ubuntu:GNOME', 'GPG_AGENT_INFO': '/run/user/1000/gnupg/S.gpg-agent:0:1', 'GNOME_TERMINAL_SERVICE': ':1.152', 'SHLVL': '1', 'XDG_SEAT': 'seat0', 'LANGUAGE': 'en_US:en', 'LC_TELEPHONE': 'lzh_TW', 'GDMSESSION': 'ubuntu', 'GNOME_DESKTOP_SESSION_ID': 'this-is-deprecated', 'LOGNAME': 'yungshun', 'DBUS_SESSION_BUS_ADDRESS': 'unix:path=/run/user/1000/bus', 'XDG_RUNTIME_DIR': '/run/user/1000', 'XAUTHORITY': '/run/user/1000/gdm/Xauthority', 'XDG_CONFIG_DIRS': '/etc/xdg/xdg-ubuntu:/etc/xdg', 'PATH': '/home/yungshun/yungshun-py3/bin:/home/yungshun/anaconda3/bin:/home/yungshun/anaconda3/condabin:/home/yungshun/.npm-global/bin:/usr/local/sbin:/usr/local/bin:/usr/sbin:/usr/bin:/sbin:/bin:/usr/games:/usr/local/games:/snap/bin', 'LC_IDENTIFICATION': 'lzh_TW', 'PS1': '(yungshun-py3) (base) \\\\[\\\\e]0;\\\\u@\\\\h: \\\\w\\\\a\\\\]${debian_chroot:+($debian_chroot)}\\\\[\\\\033[01;32m\\\\]\\\\u@\\\\h\\\\[\\\\033[00m\\\\]:\\\\[\\\\033[01;34m\\\\]\\\\w\\\\[\\\\033[00m\\\\]\\\\$ ', 'CONDA_DEFAULT_ENV': 'base', 'SESSION_MANAGER': 'local/yungshun-GF63-Thin-10SCSR:@/tmp/.ICE-unix/2904,unix/yungshun-GF63-Thin-10SCSR:/tmp/.ICE-unix/2904', 'LESSOPEN': '| /usr/bin/lesspipe %s', 'GTK_IM_MODULE': 'ibus', 'LC_TIME': 'lzh_TW', 'OLDPWD': '/home/yungshun/workspace/php', '_': '/home/yungshun/yungshun-py3/bin/jupyter', 'JPY_PARENT_PID': '10957', 'CLICOLOR': '1', 'PAGER': 'cat', 'GIT_PAGER': 'cat', 'MPLBACKEND': 'module://matplotlib_inline.backend_inline'})\n"
     ]
    }
   ],
   "source": [
    "# [1] `os.environ`\n",
    "import os\n",
    "\n",
    "print(os.environ)"
   ]
  },
  {
   "cell_type": "code",
   "execution_count": 7,
   "id": "f6b23605",
   "metadata": {},
   "outputs": [
    {
     "name": "stdout",
     "output_type": "stream",
     "text": [
      "User's environment variables:\n",
      "{'ANDROID_HOME': '/home/yungshun/Android/Sdk',\n",
      " 'ANDROID_SDK_ROOT': '/home/yungshun/Android/Sdk',\n",
      " 'CLICOLOR': '1',\n",
      " 'CLUTTER_IM_MODULE': 'xim',\n",
      " 'COLORTERM': 'truecolor',\n",
      " 'CONDA_DEFAULT_ENV': 'base',\n",
      " 'CONDA_EXE': '/home/yungshun/anaconda3/bin/conda',\n",
      " 'CONDA_PREFIX': '/home/yungshun/anaconda3',\n",
      " 'CONDA_PROMPT_MODIFIER': '(base) ',\n",
      " 'CONDA_PYTHON_EXE': '/home/yungshun/anaconda3/bin/python',\n",
      " 'CONDA_SHLVL': '1',\n",
      " 'DBUS_SESSION_BUS_ADDRESS': 'unix:path=/run/user/1000/bus',\n",
      " 'DESKTOP_AUTOSTART_ID': '10ed186b9c6d65b81a168372379988255400000029040007',\n",
      " 'DESKTOP_SESSION': 'ubuntu',\n",
      " 'DISPLAY': ':0',\n",
      " 'GDMSESSION': 'ubuntu',\n",
      " 'GIT_PAGER': 'cat',\n",
      " 'GNOME_DESKTOP_SESSION_ID': 'this-is-deprecated',\n",
      " 'GNOME_SHELL_SESSION_MODE': 'ubuntu',\n",
      " 'GNOME_TERMINAL_SCREEN': '/org/gnome/Terminal/screen/ff94611f_cb46_4ff1_b194_9efdfab22086',\n",
      " 'GNOME_TERMINAL_SERVICE': ':1.152',\n",
      " 'GPG_AGENT_INFO': '/run/user/1000/gnupg/S.gpg-agent:0:1',\n",
      " 'GTK_IM_MODULE': 'ibus',\n",
      " 'GTK_MODULES': 'gail:atk-bridge',\n",
      " 'HOME': '/home/yungshun',\n",
      " 'IM_CONFIG_PHASE': '2',\n",
      " 'JAVA_HOME': '/home/yungshun/.jdks/openjdk-16.0.1',\n",
      " 'JPY_PARENT_PID': '10957',\n",
      " 'LANG': 'en_US.UTF-8',\n",
      " 'LANGUAGE': 'en_US:en',\n",
      " 'LC_ADDRESS': 'lzh_TW',\n",
      " 'LC_IDENTIFICATION': 'lzh_TW',\n",
      " 'LC_MEASUREMENT': 'lzh_TW',\n",
      " 'LC_MONETARY': 'lzh_TW',\n",
      " 'LC_NAME': 'lzh_TW',\n",
      " 'LC_NUMERIC': 'lzh_TW',\n",
      " 'LC_PAPER': 'lzh_TW',\n",
      " 'LC_TELEPHONE': 'lzh_TW',\n",
      " 'LC_TIME': 'lzh_TW',\n",
      " 'LESSCLOSE': '/usr/bin/lesspipe '\n",
      "              '%s '\n",
      "              '%s',\n",
      " 'LESSOPEN': '| '\n",
      "             '/usr/bin/lesspipe '\n",
      "             '%s',\n",
      " 'LOGNAME': 'yungshun',\n",
      " 'LS_COLORS': 'rs=0:di=01;34:ln=01;36:mh=00:pi=40;33:so=01;35:do=01;35:bd=40;33;01:cd=40;33;01:or=40;31;01:mi=00:su=37;41:sg=30;43:ca=30;41:tw=30;42:ow=34;42:st=37;44:ex=01;32:*.tar=01;31:*.tgz=01;31:*.arc=01;31:*.arj=01;31:*.taz=01;31:*.lha=01;31:*.lz4=01;31:*.lzh=01;31:*.lzma=01;31:*.tlz=01;31:*.txz=01;31:*.tzo=01;31:*.t7z=01;31:*.zip=01;31:*.z=01;31:*.Z=01;31:*.dz=01;31:*.gz=01;31:*.lrz=01;31:*.lz=01;31:*.lzo=01;31:*.xz=01;31:*.zst=01;31:*.tzst=01;31:*.bz2=01;31:*.bz=01;31:*.tbz=01;31:*.tbz2=01;31:*.tz=01;31:*.deb=01;31:*.rpm=01;31:*.jar=01;31:*.war=01;31:*.ear=01;31:*.sar=01;31:*.rar=01;31:*.alz=01;31:*.ace=01;31:*.zoo=01;31:*.cpio=01;31:*.7z=01;31:*.rz=01;31:*.cab=01;31:*.wim=01;31:*.swm=01;31:*.dwm=01;31:*.esd=01;31:*.jpg=01;35:*.jpeg=01;35:*.mjpg=01;35:*.mjpeg=01;35:*.gif=01;35:*.bmp=01;35:*.pbm=01;35:*.pgm=01;35:*.ppm=01;35:*.tga=01;35:*.xbm=01;35:*.xpm=01;35:*.tif=01;35:*.tiff=01;35:*.png=01;35:*.svg=01;35:*.svgz=01;35:*.mng=01;35:*.pcx=01;35:*.mov=01;35:*.mpg=01;35:*.mpeg=01;35:*.m2v=01;35:*.mkv=01;35:*.webm=01;35:*.ogm=01;35:*.mp4=01;35:*.m4v=01;35:*.mp4v=01;35:*.vob=01;35:*.qt=01;35:*.nuv=01;35:*.wmv=01;35:*.asf=01;35:*.rm=01;35:*.rmvb=01;35:*.flc=01;35:*.avi=01;35:*.fli=01;35:*.flv=01;35:*.gl=01;35:*.dl=01;35:*.xcf=01;35:*.xwd=01;35:*.yuv=01;35:*.cgm=01;35:*.emf=01;35:*.ogv=01;35:*.ogx=01;35:*.aac=00;36:*.au=00;36:*.flac=00;36:*.m4a=00;36:*.mid=00;36:*.midi=00;36:*.mka=00;36:*.mp3=00;36:*.mpc=00;36:*.ogg=00;36:*.ra=00;36:*.wav=00;36:*.oga=00;36:*.opus=00;36:*.spx=00;36:*.xspf=00;36:',\n",
      " 'MPLBACKEND': 'module://matplotlib_inline.backend_inline',\n",
      " 'OLDPWD': '/home/yungshun/workspace/php',\n",
      " 'PAGER': 'cat',\n",
      " 'PAPERSIZE': 'a4',\n",
      " 'PATH': '/home/yungshun/yungshun-py3/bin:/home/yungshun/anaconda3/bin:/home/yungshun/anaconda3/condabin:/home/yungshun/.npm-global/bin:/usr/local/sbin:/usr/local/bin:/usr/sbin:/usr/bin:/sbin:/bin:/usr/games:/usr/local/games:/snap/bin',\n",
      " 'PS1': '(yungshun-py3) '\n",
      "        '(base) '\n",
      "        '\\\\[\\\\e]0;\\\\u@\\\\h: '\n",
      "        '\\\\w\\\\a\\\\]${debian_chroot:+($debian_chroot)}\\\\[\\\\033[01;32m\\\\]\\\\u@\\\\h\\\\[\\\\033[00m\\\\]:\\\\[\\\\033[01;34m\\\\]\\\\w\\\\[\\\\033[00m\\\\]\\\\$ ',\n",
      " 'PWD': '/home/yungshun/workspace/py',\n",
      " 'QT4_IM_MODULE': 'xim',\n",
      " 'QT_ACCESSIBILITY': '1',\n",
      " 'QT_IM_MODULE': 'ibus',\n",
      " 'SESSION_MANAGER': 'local/yungshun-GF63-Thin-10SCSR:@/tmp/.ICE-unix/2904,unix/yungshun-GF63-Thin-10SCSR:/tmp/.ICE-unix/2904',\n",
      " 'SHELL': '/bin/bash',\n",
      " 'SHLVL': '1',\n",
      " 'SSH_AGENT_PID': '2981',\n",
      " 'SSH_AUTH_SOCK': '/run/user/1000/keyring/ssh',\n",
      " 'TERM': 'xterm-color',\n",
      " 'TEXTDOMAIN': 'im-config',\n",
      " 'TEXTDOMAINDIR': '/usr/share/locale/',\n",
      " 'USER': 'yungshun',\n",
      " 'USERNAME': 'yungshun',\n",
      " 'VIRTUAL_ENV': '/home/yungshun/yungshun-py3',\n",
      " 'VTE_VERSION': '5202',\n",
      " 'WINDOWPATH': '2',\n",
      " 'XAUTHORITY': '/run/user/1000/gdm/Xauthority',\n",
      " 'XDG_CONFIG_DIRS': '/etc/xdg/xdg-ubuntu:/etc/xdg',\n",
      " 'XDG_CURRENT_DESKTOP': 'ubuntu:GNOME',\n",
      " 'XDG_DATA_DIRS': '/usr/share/ubuntu:/usr/local/share/:/usr/share/:/var/lib/snapd/desktop',\n",
      " 'XDG_MENU_PREFIX': 'gnome-',\n",
      " 'XDG_RUNTIME_DIR': '/run/user/1000',\n",
      " 'XDG_SEAT': 'seat0',\n",
      " 'XDG_SESSION_DESKTOP': 'ubuntu',\n",
      " 'XDG_SESSION_ID': '2',\n",
      " 'XDG_SESSION_TYPE': 'x11',\n",
      " 'XDG_VTNR': '2',\n",
      " 'XMODIFIERS': '@im=ibus',\n",
      " '_': '/home/yungshun/yungshun-py3/bin/jupyter',\n",
      " '_CE_CONDA': '',\n",
      " '_CE_M': ''}\n"
     ]
    }
   ],
   "source": [
    "# [2] `os.environ` & `pprint.pprint()`\n",
    "import os, pprint\n",
    "\n",
    "# User's environment variables\n",
    "u_env_var = os.environ\n",
    "\n",
    "print(\"User's environment variables:\")\n",
    "pprint.pprint(dict(u_env_var), width = 1)"
   ]
  },
  {
   "cell_type": "markdown",
   "id": "0362b9df",
   "metadata": {},
   "source": [
    "**106. Write a Python program to divide a path by the extension separator.**"
   ]
  },
  {
   "cell_type": "code",
   "execution_count": 12,
   "id": "b284baf1",
   "metadata": {},
   "outputs": [
    {
     "name": "stdout",
     "output_type": "stream",
     "text": [
      "\"python_basic.ipynb\": ('python_basic', '.ipynb')\n",
      "\"filename\": ('filename', '')\n",
      "\"/home/yungshun/workspace/py/python_w3resource_exercises/python_basic.ipynb\": ('/home/yungshun/workspace/py/python_w3resource_exercises/python_basic', '.ipynb')\n",
      "\"/\": ('/', '')\n",
      "\"\": ('', '')\n"
     ]
    }
   ],
   "source": [
    "# `os.path.splitext()`\n",
    "import os.path\n",
    "\n",
    "for path in [\"python_basic.ipynb\", \"filename\", \"/home/yungshun/workspace/py/python_w3resource_exercises/python_basic.ipynb\", \"/\", \"\"]:\n",
    "    print('\"%s\":' % path, os.path.splitext(path))"
   ]
  },
  {
   "cell_type": "markdown",
   "id": "b2c3bbca",
   "metadata": {},
   "source": [
    "**107. Write a Python program to retrieve file properties.**"
   ]
  },
  {
   "cell_type": "code",
   "execution_count": 16,
   "id": "38f72576",
   "metadata": {},
   "outputs": [],
   "source": [
    "# `os.path` module & `time.ctime()` & `__file__`\n",
    "import os.path, time\n",
    "\n",
    "# Not work in Jupyter Notebook\n",
    "# print(\"File:\", __file__)\n",
    "# print(\"Access time:\", time.ctime(os.path.getatime(__file__)))\n",
    "# print(\"Modified time:\", time.ctime(os.path.getmtime(__file__)))\n",
    "# print(\"Change time:\", time.ctime(os.path.getctime(__file__)))\n",
    "# print(\"Size:\", os.path.getsize(__file__))"
   ]
  },
  {
   "cell_type": "markdown",
   "id": "6ea683c2",
   "metadata": {},
   "source": [
    "**108. Write a Python program to find the path to a file or directory when you encounter a path name.**"
   ]
  },
  {
   "cell_type": "code",
   "execution_count": 13,
   "id": "047e3deb",
   "metadata": {},
   "outputs": [
    {
     "name": "stdout",
     "output_type": "stream",
     "text": [
      "Relative file path: ../python-dsa\n"
     ]
    }
   ],
   "source": [
    "# [1] `os.path` module & `os.getcwd()`\n",
    "import os.path\n",
    "\n",
    "# Wrong solution in website\n",
    "# Not work in Jupyter Notebook\n",
    "# for file in [__file__, os.path.dirname(__file__), \"/\", \"./broken_link\"]:\n",
    "#     print(\"File:\", file)\n",
    "#     print(\"Is Absolute?\", os.path.isabs(file))\n",
    "#     print(\"Is File?\", os.path.isfile(file))\n",
    "#     print(\"Is Dir?\", os.path.isdir(file))\n",
    "#     print(\"Is Link?\", os.path.islink(file))\n",
    "#     print(\"Exists?\", os.path.exists(file))\n",
    "#     print(\"Link Exists?\", os.path.lexists(file))\n",
    "\n",
    "# Not work in Jupyter Notebook\n",
    "# print(\"Absolute file path:\", os.path.abspath(__file__))\n",
    "\n",
    "current_working_directory = os.getcwd()\n",
    "print(\"Relative file path:\", os.path.relpath(\"/home/yungshun/workspace/py/python-dsa\", current_working_directory))"
   ]
  },
  {
   "cell_type": "code",
   "execution_count": 14,
   "id": "6884c0c5",
   "metadata": {},
   "outputs": [
    {
     "name": "stdout",
     "output_type": "stream",
     "text": [
      "Relative file path: ../python-dsa\n"
     ]
    }
   ],
   "source": [
    "# [2] `os.path` module & `pathlib.Path.cwd()`\n",
    "from pathlib import Path\n",
    "\n",
    "# Not work in Jupyter Notebook\n",
    "# print(\"Absolute file path:\", os.path.abspath(__file__))\n",
    "\n",
    "current_working_directory = Path.cwd()\n",
    "print(\"Relative file path:\", os.path.relpath(\"/home/yungshun/workspace/py/python-dsa\", current_working_directory))"
   ]
  },
  {
   "cell_type": "markdown",
   "id": "b006e26b",
   "metadata": {},
   "source": [
    "**109. Write a Python program to find the path to a file or directory when you encounter a path name.**"
   ]
  },
  {
   "cell_type": "code",
   "execution_count": 15,
   "id": "7bc99fa7",
   "metadata": {},
   "outputs": [
    {
     "name": "stdout",
     "output_type": "stream",
     "text": [
      "Relative file path: ../python-dsa\n"
     ]
    }
   ],
   "source": [
    "# [1] `os.path` module & `os.getcwd()`\n",
    "import os.path\n",
    "\n",
    "# Not work in Jupyter Notebook\n",
    "# print(\"Absolute file path:\", os.path.abspath(__file__))\n",
    "\n",
    "current_working_directory = os.getcwd()\n",
    "print(\"Relative file path:\", os.path.relpath(\"/home/yungshun/workspace/py/python-dsa\", current_working_directory))"
   ]
  },
  {
   "cell_type": "code",
   "execution_count": 16,
   "id": "f2a9769b",
   "metadata": {},
   "outputs": [
    {
     "name": "stdout",
     "output_type": "stream",
     "text": [
      "Relative file path: ../python-dsa\n"
     ]
    }
   ],
   "source": [
    "# [2] `os.path` module & `pathlib.Path.cwd()`\n",
    "from pathlib import Path\n",
    "\n",
    "# Not work in Jupyter Notebook\n",
    "# print(\"Absolute file path:\", os.path.abspath(__file__))\n",
    "\n",
    "current_working_directory = Path.cwd()\n",
    "print(\"Relative file path:\", os.path.relpath(\"/home/yungshun/workspace/py/python-dsa\", current_working_directory))"
   ]
  },
  {
   "cell_type": "markdown",
   "id": "2e8524a4",
   "metadata": {},
   "source": [
    "**110. Write a Python program to get numbers divisible by fifteen from a list using an anonymous function.**"
   ]
  },
  {
   "cell_type": "code",
   "execution_count": 20,
   "id": "a8770d5d",
   "metadata": {},
   "outputs": [
    {
     "name": "stdout",
     "output_type": "stream",
     "text": [
      "Numbers divisible by 15 are [15, 30, 45, 60, 90]\n"
     ]
    }
   ],
   "source": [
    "# [1] `filter()` & lambda expression\n",
    "num_list = [15, 30, 45, 60, 70, 90]\n",
    "\n",
    "# Use anonymous function to filter\n",
    "print(\"Numbers of the said list divisible by 15 are\", list(filter(lambda x: x % 15 == 0, num_list)))"
   ]
  },
  {
   "cell_type": "code",
   "execution_count": 24,
   "id": "cc292d00",
   "metadata": {},
   "outputs": [
    {
     "name": "stdout",
     "output_type": "stream",
     "text": [
      "Numbers of the said list divisible by 15: [15, 30, 45, 60, 90]\n"
     ]
    }
   ],
   "source": [
    "# [2] Generator expression\n",
    "num_list = [15, 30, 45, 60, 70, 90]\n",
    "\n",
    "print(\"Numbers of the said list divisible by 15:\", list([i for i in num_list if i % 15 == 0]))"
   ]
  },
  {
   "cell_type": "markdown",
   "id": "c318fd79",
   "metadata": {},
   "source": [
    "**111. Write a Python program to make file lists from the current directory using a wildcard.**"
   ]
  },
  {
   "cell_type": "code",
   "execution_count": 25,
   "id": "b01c3714",
   "metadata": {},
   "outputs": [
    {
     "name": "stdout",
     "output_type": "stream",
     "text": [
      "['python_basic_copy.py', 'python_basic.ipynb', 'tmp_array.npz', 'python_lambda.ipynb', 'python_data_types_list.ipynb', 'tmp_array.npy', 'python_basic.py', 'numpy_basic.ipynb']\n",
      "['python_basic_copy.py', 'python_basic.py']\n",
      "[]\n"
     ]
    }
   ],
   "source": [
    "# [1] `glob` module\n",
    "import glob\n",
    "\n",
    "file_list = glob.glob(\"*.*\")\n",
    "print(file_list)\n",
    "\n",
    "# Specific files\n",
    "print(glob.glob(\"*.py\"))\n",
    "print(glob.glob(\"./[0-9].*\"))"
   ]
  },
  {
   "cell_type": "code",
   "execution_count": 27,
   "id": "758f4fb2",
   "metadata": {},
   "outputs": [
    {
     "name": "stdout",
     "output_type": "stream",
     "text": [
      "/home/yungshun/workspace/py/python-w3resource-exercises/.ipynb_checkpoints\n",
      "/home/yungshun/workspace/py/python-w3resource-exercises/python_basic_copy.py\n",
      "/home/yungshun/workspace/py/python-w3resource-exercises/python_basic.ipynb\n",
      "/home/yungshun/workspace/py/python-w3resource-exercises/.gitignore\n",
      "/home/yungshun/workspace/py/python-w3resource-exercises/tmp_array.npz\n",
      "/home/yungshun/workspace/py/python-w3resource-exercises/python_lambda.ipynb\n",
      "/home/yungshun/workspace/py/python-w3resource-exercises/.git\n",
      "/home/yungshun/workspace/py/python-w3resource-exercises/python_data_types_list.ipynb\n",
      "/home/yungshun/workspace/py/python-w3resource-exercises/tmp_array.npy\n",
      "/home/yungshun/workspace/py/python-w3resource-exercises/python_basic.py\n",
      "/home/yungshun/workspace/py/python-w3resource-exercises/numpy_basic.ipynb\n"
     ]
    }
   ],
   "source": [
    "# [2] `pathlib.Path()`\n",
    "from pathlib import Path\n",
    "\n",
    "for path in Path(\"/home/yungshun/workspace/py/python-w3resource-exercises\").glob(\"*.*\"):\n",
    "   print(path)"
   ]
  },
  {
   "cell_type": "markdown",
   "id": "3f7eac00",
   "metadata": {},
   "source": [
    "**112. Write a Python program to remove the first item from a specified list.**"
   ]
  },
  {
   "cell_type": "code",
   "execution_count": 30,
   "id": "c2fb106c",
   "metadata": {},
   "outputs": [
    {
     "name": "stdout",
     "output_type": "stream",
     "text": [
      "Original list elements:\n",
      "['Red', 'Black', 'Green', 'White', 'Orange']\n",
      "\n",
      "After removing the first element from the said list:\n",
      "['Black', 'Green', 'White', 'Orange']\n"
     ]
    }
   ],
   "source": [
    "# [1] List slicing\n",
    "colors = [\"Red\", \"Black\", \"Green\", \"White\", \"Orange\"]\n",
    "print(\"Original list elements:\")\n",
    "print(colors)\n",
    "\n",
    "colors = colors[1:]\n",
    "print(\"\\nAfter removing the first element from the said list:\")\n",
    "print(colors)"
   ]
  },
  {
   "cell_type": "code",
   "execution_count": 31,
   "id": "1cb10e1f",
   "metadata": {},
   "outputs": [
    {
     "name": "stdout",
     "output_type": "stream",
     "text": [
      "Original list elements:\n",
      "['Red', 'Black', 'Green', 'White', 'Orange']\n",
      "\n",
      "After removing the first element from the said list:\n",
      "['Black', 'Green', 'White', 'Orange']\n"
     ]
    }
   ],
   "source": [
    "# [2] `del`\n",
    "colors = [\"Red\", \"Black\", \"Green\", \"White\", \"Orange\"]\n",
    "print(\"Original list elements:\")\n",
    "print(colors)\n",
    "\n",
    "del colors[0]\n",
    "print(\"\\nAfter removing the first element from the said list:\")\n",
    "print(colors)"
   ]
  },
  {
   "cell_type": "code",
   "execution_count": 33,
   "id": "c5a6757b",
   "metadata": {},
   "outputs": [
    {
     "name": "stdout",
     "output_type": "stream",
     "text": [
      "Original list elements:\n",
      "['Red', 'Black', 'Green', 'White', 'Orange']\n",
      "\n",
      "After removing the first element from the said list:\n",
      "['Black', 'Green', 'White', 'Orange']\n"
     ]
    }
   ],
   "source": [
    "# [3] `remove()`\n",
    "colors = [\"Red\", \"Black\", \"Green\", \"White\", \"Orange\"]\n",
    "print(\"Original list elements:\")\n",
    "print(colors)\n",
    "\n",
    "# Remove first matching element\n",
    "colors.remove(\"Red\")\n",
    "print(\"\\nAfter removing the first element from the said list:\")\n",
    "print(colors)"
   ]
  },
  {
   "cell_type": "code",
   "execution_count": 35,
   "id": "916fd7ba",
   "metadata": {},
   "outputs": [
    {
     "name": "stdout",
     "output_type": "stream",
     "text": [
      "[2, 3, 4]\n",
      "[1]\n",
      "['Black', 'Green', 'White', 'Orange']\n"
     ]
    }
   ],
   "source": [
    "# [4] Function & list slicing\n",
    "def tail(lst):\n",
    "    return lst[1:] if len(lst) > 1 else lst\n",
    "\n",
    "print(tail([1, 2, 3, 4]))\n",
    "print(tail([1]))\n",
    "print(tail([\"Red\", \"Black\", \"Green\", \"White\", \"Orange\"]))"
   ]
  },
  {
   "cell_type": "markdown",
   "id": "c7ac4931",
   "metadata": {},
   "source": []
  },
  {
   "cell_type": "markdown",
   "id": "594fcc15",
   "metadata": {},
   "source": [
    "**113. Write a Python program that inputs a number and generates an error message if it is not a number.**"
   ]
  },
  {
   "cell_type": "code",
   "execution_count": 17,
   "id": "bfb8c818",
   "metadata": {},
   "outputs": [
    {
     "name": "stdout",
     "output_type": "stream",
     "text": [
      "Input a number: python\n",
      "This is not a number. Please try again.\n",
      "Input a number: 16\n"
     ]
    }
   ],
   "source": [
    "# [1] try-except block & `ValueError`\n",
    "while True:\n",
    "    try:\n",
    "        num = float(input(\"Input a number: \"))\n",
    "        break\n",
    "    except ValueError:\n",
    "        print(\"This is not a number. Please try again.\")"
   ]
  },
  {
   "cell_type": "code",
   "execution_count": 34,
   "id": "d5e4d1ff",
   "metadata": {
    "scrolled": true
   },
   "outputs": [
    {
     "name": "stdout",
     "output_type": "stream",
     "text": [
      "Check if 3.14159 is an integer: False\n"
     ]
    }
   ],
   "source": [
    "# [2] `is_integer()` for checking integer (not number)\n",
    "x = 3.14159\n",
    "print(\"Check if {} is an integer:\".format(x), x.is_integer())"
   ]
  },
  {
   "cell_type": "code",
   "execution_count": 36,
   "id": "7685a3c7",
   "metadata": {},
   "outputs": [
    {
     "name": "stdout",
     "output_type": "stream",
     "text": [
      "Check if 3.14159 is an integer: False\n"
     ]
    }
   ],
   "source": [
    "# [3] `isinstance()` for checking integer (not number)\n",
    "x = 3.14159\n",
    "print(\"Check if {} is an integer:\".format(x), isinstance(x, int))"
   ]
  },
  {
   "cell_type": "markdown",
   "id": "a95d66e6",
   "metadata": {},
   "source": [
    "**114. Write a Python program to filter positive numbers from a list.**"
   ]
  },
  {
   "cell_type": "code",
   "execution_count": 22,
   "id": "59399242",
   "metadata": {},
   "outputs": [
    {
     "name": "stdout",
     "output_type": "stream",
     "text": [
      "Original numbers in the list: [-3, -2, -1, 0, 1, 2, 3]\n",
      "Positive numbers in the list: [1, 2, 3]\n"
     ]
    }
   ],
   "source": [
    "# [1] for loop\n",
    "def filter_positive_numbers(num_list):\n",
    "    filtered = []\n",
    "    for i in num_list:\n",
    "        if i > 0:\n",
    "            filtered.append(i)\n",
    "    return filtered\n",
    "\n",
    "num_list = [-3, -2, -1, 0, 1, 2, 3]\n",
    "print(\"Original numbers in the list:\", num_list)\n",
    "print(\"Positive numbers in the list:\", filter_positive_numbers(num_list))"
   ]
  },
  {
   "cell_type": "code",
   "execution_count": 25,
   "id": "aba1376e",
   "metadata": {},
   "outputs": [
    {
     "name": "stdout",
     "output_type": "stream",
     "text": [
      "Original numbers in the list: [-3, -2, -1, 0, 1, 2, 3]\n",
      "Positive numbers in the list: [1, 2, 3]\n"
     ]
    }
   ],
   "source": [
    "# [2] `filter()` & lambda expression\n",
    "num_list = [-3, -2, -1, 0, 1, 2, 3]\n",
    "print(\"Original numbers in the list:\", num_list)\n",
    "\n",
    "pos_num_list = list(filter(lambda n: n > 0, num_list))\n",
    "print(\"Positive numbers in the list:\", pos_num_list)"
   ]
  },
  {
   "cell_type": "code",
   "execution_count": 26,
   "id": "68eb734b",
   "metadata": {},
   "outputs": [
    {
     "name": "stdout",
     "output_type": "stream",
     "text": [
      "Original numbers in the list: [-3, -2, -1, 0, 1, 2, 3]\n",
      "Positive numbers in the list: [1, 2, 3]\n"
     ]
    }
   ],
   "source": [
    "# [3] Generator expression\n",
    "num_list = [-3, -2, -1, 0, 1, 2, 3]\n",
    "print(\"Original numbers in the list:\", num_list)\n",
    "\n",
    "pos_num_list = [n for n in num_list if n > 0]\n",
    "print(\"Positive numbers in the list:\", pos_num_list)"
   ]
  },
  {
   "cell_type": "markdown",
   "id": "90d6e578",
   "metadata": {},
   "source": [
    "**115. Write a Python program to compute the product of a list of integers (without using a for loop).**"
   ]
  },
  {
   "cell_type": "code",
   "execution_count": 29,
   "id": "94e0bfb5",
   "metadata": {},
   "outputs": [
    {
     "name": "stdout",
     "output_type": "stream",
     "text": [
      "6000\n"
     ]
    }
   ],
   "source": [
    "# [1] `reduce()`\n",
    "from functools import reduce\n",
    "\n",
    "int_list = [10, 20, 30]\n",
    "print(reduce(lambda x, y: x * y, int_list))"
   ]
  },
  {
   "cell_type": "code",
   "execution_count": 30,
   "id": "e13146b8",
   "metadata": {},
   "outputs": [
    {
     "name": "stdout",
     "output_type": "stream",
     "text": [
      "6000\n"
     ]
    }
   ],
   "source": [
    "# [2] `math.prod()`\n",
    "import math\n",
    "\n",
    "int_list = [10, 20, 30]\n",
    "print(math.prod(int_list))"
   ]
  },
  {
   "cell_type": "markdown",
   "id": "0f3d683c",
   "metadata": {},
   "source": [
    "**116. Write a Python program to print Unicode characters.**"
   ]
  },
  {
   "cell_type": "code",
   "execution_count": 31,
   "id": "75b7e1c8",
   "metadata": {},
   "outputs": [
    {
     "name": "stdout",
     "output_type": "stream",
     "text": [
      "Python Exercises - w3resource\n"
     ]
    }
   ],
   "source": [
    "# `u\"\"`\n",
    "string = u\"\\u0050\\u0079\\u0074\\u0068\\u006f\\u006e \\u0045\\u0078\\u0065\\u0072\\u0063\\u0069\\u0073\\u0065\\u0073 \\u002d \\u0077\\u0033\\u0072\\u0065\\u0073\\u006f\\u0075\\u0072\\u0063\\u0065\"\n",
    "print(string)"
   ]
  },
  {
   "cell_type": "markdown",
   "id": "752a9d74",
   "metadata": {},
   "source": [
    "**117. Write a Python program to prove that two string variables of the same value point to the same memory location.**"
   ]
  },
  {
   "cell_type": "code",
   "execution_count": 32,
   "id": "382b8447",
   "metadata": {},
   "outputs": [
    {
     "name": "stdout",
     "output_type": "stream",
     "text": [
      "Memory location of x = 0x7f11f4c78470\n",
      "Memory location of y = 0x7f11f4c78470\n"
     ]
    }
   ],
   "source": [
    "# `id()`\n",
    "x = \"python\"\n",
    "print(\"Memory location of x =\", hex(id(x)))\n",
    "\n",
    "y = \"python\"\n",
    "print(\"Memory location of y =\", hex(id(y)))"
   ]
  },
  {
   "cell_type": "markdown",
   "id": "d02010dd",
   "metadata": {},
   "source": [
    "**118. Write a Python program to create a bytearray from a list.**"
   ]
  },
  {
   "cell_type": "code",
   "execution_count": 36,
   "id": "3e16dbbb",
   "metadata": {},
   "outputs": [
    {
     "name": "stdout",
     "output_type": "stream",
     "text": [
      "Byte array: bytearray(b'\\n\\x0c\\x10$d')\n"
     ]
    }
   ],
   "source": [
    "# `bytearray()`\n",
    "num_list = [10, 12, 16, 36, 100]\n",
    "\n",
    "values = bytearray(num_list)\n",
    "print(\"Byte array:\", values)"
   ]
  },
  {
   "cell_type": "markdown",
   "id": "5062276d",
   "metadata": {},
   "source": [
    "**119. Write a Python program to round a floating-point number to a specified number of decimal places.**"
   ]
  },
  {
   "cell_type": "code",
   "execution_count": 60,
   "id": "f11c6a35",
   "metadata": {},
   "outputs": [
    {
     "name": "stdout",
     "output_type": "stream",
     "text": [
      "Original floating point number: 3.141590\n",
      "Rounded floating point number: 3.14\n",
      "Rounded floating point number: 3.14159000\n"
     ]
    }
   ],
   "source": [
    "# [1] `%`\n",
    "num = 3.14159\n",
    "print(\"Original floating point number: %f\" % num)\n",
    "print(\"Rounded floating point number: %.2f\" % num)\n",
    "print(\"Rounded floating point number: %.8f\" % num)"
   ]
  },
  {
   "cell_type": "code",
   "execution_count": 61,
   "id": "365f2aba",
   "metadata": {
    "scrolled": true
   },
   "outputs": [
    {
     "name": "stdout",
     "output_type": "stream",
     "text": [
      "Original floating point number: 3.141590\n",
      "Rounded floating point number: 3.14\n",
      "Rounded floating point number: 3.14159000\n"
     ]
    }
   ],
   "source": [
    "# [2] `format()`\n",
    "num = 3.14159\n",
    "print(\"Original floating point number: {:f}\".format(num))\n",
    "print(\"Rounded floating point number: {:0.2f}\".format(num))\n",
    "print(\"Rounded floating point number: {:0.8f}\".format(num))"
   ]
  },
  {
   "cell_type": "code",
   "execution_count": 74,
   "id": "d74a4fcd",
   "metadata": {},
   "outputs": [
    {
     "name": "stdout",
     "output_type": "stream",
     "text": [
      "Original floating point number: 3.14159\n",
      "Rounded floating point number: 3.14\n",
      "Rounded floating point number: 3.14159000\n"
     ]
    }
   ],
   "source": [
    "# [3] f-strings\n",
    "num = 3.14159\n",
    "print(f\"Original floating point number: {num}\")\n",
    "print(f\"Rounded floating point number: {num:0.2f}\")\n",
    "print(f\"Rounded floating point number: {num:0.8f}\")"
   ]
  },
  {
   "cell_type": "markdown",
   "id": "a4c01136",
   "metadata": {},
   "source": [
    "**120. Write a Python program to format a specified string and limit the length of a string.**"
   ]
  },
  {
   "cell_type": "code",
   "execution_count": 70,
   "id": "5170d73b",
   "metadata": {},
   "outputs": [
    {
     "name": "stdout",
     "output_type": "stream",
     "text": [
      "Orginal string: 1234567890\n",
      "Truncated string: 12\n",
      "Truncated string: 12345678\n"
     ]
    }
   ],
   "source": [
    "# [1] `%`\n",
    "string = \"1234567890\"\n",
    "print(\"Orginal string: %s\" % string)\n",
    "print(\"Truncated string: %.2s\" % string)\n",
    "print(\"Truncated string: %.8s\" % string)"
   ]
  },
  {
   "cell_type": "code",
   "execution_count": 72,
   "id": "f4a4d6c8",
   "metadata": {},
   "outputs": [
    {
     "name": "stdout",
     "output_type": "stream",
     "text": [
      "Orginal string: 1234567890\n",
      "Truncated string: 12\n",
      "Truncated string: 12345678\n"
     ]
    }
   ],
   "source": [
    "# [2] `format()`\n",
    "string = \"1234567890\"\n",
    "print(\"Orginal string: {:s}\".format(string))\n",
    "print(\"Truncated string: {:.2s}\".format(string))\n",
    "print(\"Truncated string: {:.8s}\".format(string))"
   ]
  },
  {
   "cell_type": "code",
   "execution_count": 73,
   "id": "0b532643",
   "metadata": {},
   "outputs": [
    {
     "name": "stdout",
     "output_type": "stream",
     "text": [
      "Orginal string: 1234567890\n",
      "Truncated string: 12\n",
      "Truncated string: 12345678\n"
     ]
    }
   ],
   "source": [
    "# [3] f-strings\n",
    "string = \"1234567890\"\n",
    "print(f\"Orginal string: {string}\")\n",
    "print(f\"Truncated string: {string:.2s}\")\n",
    "print(f\"Truncated string: {string:.8s}\")"
   ]
  },
  {
   "cell_type": "markdown",
   "id": "490582dd",
   "metadata": {},
   "source": [
    "**121. Write a Python program to determine if a variable is defined or not.**"
   ]
  },
  {
   "cell_type": "code",
   "execution_count": 1,
   "id": "7694a160",
   "metadata": {},
   "outputs": [
    {
     "name": "stdout",
     "output_type": "stream",
     "text": [
      "Variable is defined.\n"
     ]
    }
   ],
   "source": [
    "# `NameError`\n",
    "try:\n",
    "    x = 1\n",
    "except NameError:\n",
    "    print(\"Variable is not defined.\")\n",
    "else:\n",
    "    print(\"Variable is defined.\")"
   ]
  },
  {
   "cell_type": "markdown",
   "id": "79bd86dc",
   "metadata": {},
   "source": [
    "**122. Write a Python program to empty a variable without destroying it.**\n",
    "\n",
    "<i>Sample data:</i> \n",
    "\n",
    "n = 20<br>\n",
    "d = {\"x\": 200}\n",
    "\n",
    "<i>Expected Output:</i> \n",
    "\n",
    "0<br>\n",
    "{}"
   ]
  },
  {
   "cell_type": "code",
   "execution_count": 3,
   "id": "597454b0",
   "metadata": {},
   "outputs": [
    {
     "name": "stdout",
     "output_type": "stream",
     "text": [
      "0\n",
      "{}\n",
      "[]\n",
      "()\n"
     ]
    }
   ],
   "source": [
    "# [1] `type()()` & no function\n",
    "n = 20\n",
    "d = {\"x\": 200}\n",
    "l = [1, 2, 3]\n",
    "t = (1, 2, 3)\n",
    "\n",
    "print(type(n)())\n",
    "print(type(d)())\n",
    "print(type(l)())\n",
    "print(type(t)())"
   ]
  },
  {
   "cell_type": "code",
   "execution_count": 4,
   "id": "043ace1f",
   "metadata": {},
   "outputs": [
    {
     "name": "stdout",
     "output_type": "stream",
     "text": [
      "Original objects: ['python', {'x': 12}, [10, 12, 16, 'python'], (3, 36), 100]\n",
      "Empty the variables without destroying them: ['', {}, [], (), 0]\n"
     ]
    }
   ],
   "source": [
    "# [2] `type()()` & function\n",
    "def empty_var(lst):\n",
    "    return [type(i)() for i in lst]\n",
    "\n",
    "lst = [\"python\", {\"x\": 12}, [10, 12, 16, \"python\"], (3, 36), 100]\n",
    "\n",
    "print(\"Original objects:\", lst)\n",
    "print(\"Empty the variables without destroying them:\", empty_var(lst))"
   ]
  },
  {
   "cell_type": "markdown",
   "id": "2788e91a",
   "metadata": {},
   "source": [
    "**123. Write a Python program to determine the largest and smallest integers, longs, and floats.**"
   ]
  },
  {
   "cell_type": "code",
   "execution_count": 6,
   "id": "05623467",
   "metadata": {},
   "outputs": [
    {
     "name": "stdout",
     "output_type": "stream",
     "text": [
      "Float value information: sys.float_info(max=1.7976931348623157e+308, max_exp=1024, max_10_exp=308, min=2.2250738585072014e-308, min_exp=-1021, min_10_exp=-307, dig=15, mant_dig=53, epsilon=2.220446049250313e-16, radix=2, rounds=1)\n",
      "Integer value information: sys.int_info(bits_per_digit=30, sizeof_digit=4)\n",
      "Maximum size of an integer: 9223372036854775807\n"
     ]
    }
   ],
   "source": [
    "# `sys` module\n",
    "import sys\n",
    "\n",
    "print(\"Float value information:\", sys.float_info)\n",
    "print(\"Integer value information:\", sys.int_info)\n",
    "print(\"Maximum size of an integer:\", sys.maxsize)"
   ]
  },
  {
   "cell_type": "markdown",
   "id": "0131a777",
   "metadata": {},
   "source": [
    "**124. Write a Python program to check whether multiple variables have the same value.**"
   ]
  },
  {
   "cell_type": "code",
   "execution_count": 9,
   "id": "2e8e2928",
   "metadata": {},
   "outputs": [
    {
     "name": "stdout",
     "output_type": "stream",
     "text": [
      "All variables have same value.\n"
     ]
    }
   ],
   "source": [
    "# [1] `==`\n",
    "x = 12\n",
    "y = 12\n",
    "z = 12\n",
    "\n",
    "if x == y == z == 12:\n",
    "    print(\"All variables have same value.\")"
   ]
  },
  {
   "cell_type": "code",
   "execution_count": 10,
   "id": "72597015",
   "metadata": {},
   "outputs": [
    {
     "name": "stdout",
     "output_type": "stream",
     "text": [
      "Variales have different values.\n",
      "All variables have same value.\n",
      "All variables have same value.\n"
     ]
    }
   ],
   "source": [
    "# [2] for loop\n",
    "def multiple_variables_equality(*vars):\n",
    "    for x in vars:\n",
    "        if x != vars[0]:\n",
    "            return \"Variales have different values.\"\n",
    "    return \"All variables have same value.\"\n",
    "\n",
    "print(multiple_variables_equality(1, 3, 1, 1, 1, 1))\n",
    "print(multiple_variables_equality(16, 16, 16, 16))\n",
    "print(multiple_variables_equality(-8, -8, -8, -8))"
   ]
  },
  {
   "cell_type": "markdown",
   "id": "8993a09f",
   "metadata": {},
   "source": [
    "**125. Write a Python program to sum all counts in a collection.**"
   ]
  },
  {
   "cell_type": "code",
   "execution_count": 15,
   "id": "b45022a0",
   "metadata": {},
   "outputs": [
    {
     "name": "stdout",
     "output_type": "stream",
     "text": [
      "10\n"
     ]
    }
   ],
   "source": [
    "# `collections.Counter().values()` & `sum()`\n",
    "import collections\n",
    "\n",
    "nums = [6, 6, 8, 8, 16, 12, 100, 36, 36, 36]\n",
    "print(sum(collections.Counter(nums).values()))"
   ]
  },
  {
   "cell_type": "code",
   "execution_count": 16,
   "id": "f33de4f4",
   "metadata": {},
   "outputs": [
    {
     "name": "stdout",
     "output_type": "stream",
     "text": [
      "10\n"
     ]
    }
   ],
   "source": [
    "# `len()`\n",
    "nums = [6, 6, 8, 8, 16, 12, 100, 36, 36, 36]\n",
    "print(len(nums))"
   ]
  },
  {
   "cell_type": "markdown",
   "id": "e9d78f92",
   "metadata": {},
   "source": [
    "**126. Write a Python program to get the actual module object for a given object.**"
   ]
  },
  {
   "cell_type": "code",
   "execution_count": 17,
   "id": "c56cfcc8",
   "metadata": {},
   "outputs": [
    {
     "name": "stdout",
     "output_type": "stream",
     "text": [
      "<module 'math' from '/home/yungshun/anaconda3/lib/python3.8/lib-dynload/math.cpython-38-x86_64-linux-gnu.so'>\n"
     ]
    }
   ],
   "source": [
    "# `inspect.getmodule()`\n",
    "from inspect import getmodule\n",
    "from math import sqrt\n",
    "\n",
    "print(getmodule(sqrt))"
   ]
  },
  {
   "cell_type": "code",
   "execution_count": 18,
   "id": "23d74d78",
   "metadata": {},
   "outputs": [
    {
     "name": "stdout",
     "output_type": "stream",
     "text": [
      "<module '__main__'>\n"
     ]
    }
   ],
   "source": [
    "# `inspect.getmodule()` & function\n",
    "import inspect\n",
    "\n",
    "def add(x, y):\n",
    "    return x + y\n",
    "\n",
    "print(inspect.getmodule(add))"
   ]
  },
  {
   "cell_type": "markdown",
   "id": "13ba3035",
   "metadata": {},
   "source": [
    "**127. Write a Python program to check whether an integer fits in 64 bits.**"
   ]
  },
  {
   "cell_type": "code",
   "execution_count": 19,
   "id": "c860224f",
   "metadata": {},
   "outputs": [
    {
     "name": "stdout",
     "output_type": "stream",
     "text": [
      "64\n",
      "64\n"
     ]
    }
   ],
   "source": [
    "# `bit_length()`\n",
    "int_val = 36\n",
    "if int_val.bit_length() <= 63:\n",
    "    print((-2 ** 63).bit_length())\n",
    "    print((2 ** 63).bit_length())"
   ]
  },
  {
   "cell_type": "markdown",
   "id": "081eabdb",
   "metadata": {},
   "source": [
    "**128. Write a Python program to check whether lowercase letters exist in a string.**"
   ]
  },
  {
   "cell_type": "code",
   "execution_count": 25,
   "id": "cc6ac8b6",
   "metadata": {},
   "outputs": [
    {
     "name": "stdout",
     "output_type": "stream",
     "text": [
      "Original string: The quick brown fox jumps over the lazy dog.\n",
      "Lowercase letters exist in the string: True\n"
     ]
    }
   ],
   "source": [
    "# [1] `any()` & `islower()` & no function\n",
    "txt = \"The quick brown fox jumps over the lazy dog.\"\n",
    "print(\"Original string:\", txt)\n",
    "print(\"Lowercase letters exist in the string:\", any(char.islower() for char in txt))"
   ]
  },
  {
   "cell_type": "code",
   "execution_count": 29,
   "id": "a05afb3d",
   "metadata": {},
   "outputs": [
    {
     "name": "stdout",
     "output_type": "stream",
     "text": [
      "Original string: The quick brown fox jumps over the lazy dog.\n",
      "Lowercase letters exist in the string: True\n"
     ]
    }
   ],
   "source": [
    "# [2] `any()` & `islower()` & function\n",
    "def lowercase_string(txt):\n",
    "    if any(char.islower() for char in txt):\n",
    "        return True\n",
    "    return False\n",
    "\n",
    "txt = \"The quick brown fox jumps over the lazy dog.\"\n",
    "print(\"Original string:\", txt)\n",
    "print(\"Lowercase letters exist in the string:\", lowercase_string(txt))"
   ]
  },
  {
   "cell_type": "code",
   "execution_count": 27,
   "id": "a7850feb",
   "metadata": {},
   "outputs": [
    {
     "name": "stdout",
     "output_type": "stream",
     "text": [
      "Original string: The quick brown fox jumps over the lazy dog.\n",
      "Lowercase letters exist in the string: True\n"
     ]
    }
   ],
   "source": [
    "# [3] `ord()` & function\n",
    "def lowercase_string(txt):\n",
    "    ctr = 0\n",
    "    for char in txt:\n",
    "        if ord(char) >= 97 and ord(char) <= 122:\n",
    "            ctr = ctr + 1\n",
    "    if ctr > 0:\n",
    "        return True\n",
    "    \n",
    "txt = \"The quick brown fox jumps over the lazy dog.\"\n",
    "print(\"Original string:\", txt)\n",
    "print(\"Lowercase letters exist in the string:\", lowercase_string(txt))"
   ]
  },
  {
   "cell_type": "markdown",
   "id": "18f25cea",
   "metadata": {},
   "source": [
    "**129. Write a Python program to add leading zeroes to a string.**"
   ]
  },
  {
   "cell_type": "code",
   "execution_count": 105,
   "id": "06fa12a6",
   "metadata": {
    "scrolled": true
   },
   "outputs": [
    {
     "name": "stdout",
     "output_type": "stream",
     "text": [
      "Original string: 3.14159\n",
      "Added leading zeroes: 03.14159\n",
      "Added leading zeroes: 0000000003.14159\n"
     ]
    }
   ],
   "source": [
    "# [1] `zfill()`\n",
    "string = \"3.14159\"\n",
    "print(\"Original string:\", string)\n",
    "print(\"Added leading zeroes:\", string.zfill(8))\n",
    "print(\"Added leading zeroes:\", string.zfill(16))"
   ]
  },
  {
   "cell_type": "code",
   "execution_count": 106,
   "id": "2dd4e1fe",
   "metadata": {},
   "outputs": [
    {
     "name": "stdout",
     "output_type": "stream",
     "text": [
      "Original string: 3.14159\n",
      "Added leading zeroes: 03.14159\n"
     ]
    }
   ],
   "source": [
    "# [2] f-string\n",
    "string = \"3.14159\"\n",
    "print(\"Original string:\", string)\n",
    "print(\"Added leading zeroes:\", f\"{string:>08}\")"
   ]
  },
  {
   "cell_type": "code",
   "execution_count": 107,
   "id": "19686c90",
   "metadata": {},
   "outputs": [
    {
     "name": "stdout",
     "output_type": "stream",
     "text": [
      "Original string: 3.14159\n",
      "Added leading zeroes: 03.14159\n"
     ]
    }
   ],
   "source": [
    "# [3] `format()`\n",
    "string = \"3.14159\"\n",
    "string_format = \"{:>08}\"\n",
    "print(\"Original string:\", string)\n",
    "print(\"Added leading zeroes:\", string_format.format(string))"
   ]
  },
  {
   "cell_type": "code",
   "execution_count": 108,
   "id": "6544f48f",
   "metadata": {},
   "outputs": [
    {
     "name": "stdout",
     "output_type": "stream",
     "text": [
      "Original string: 3.14159\n",
      "Added leading zeroes: 03.14159\n"
     ]
    }
   ],
   "source": [
    "# [4] `%`\n",
    "string = 3.14159\n",
    "float_string = float(string)\n",
    "print(\"Original string:\", num)\n",
    "print(\"Added leading zeroes: %08.5f\" % float_string)"
   ]
  },
  {
   "cell_type": "code",
   "execution_count": 109,
   "id": "ddadadbc",
   "metadata": {},
   "outputs": [
    {
     "name": "stdout",
     "output_type": "stream",
     "text": [
      "Original string: 3.14159\n",
      "Added trailing zeroes: 3.141590\n",
      "Added trailing zeroes: 3.14159000000000\n"
     ]
    }
   ],
   "source": [
    "# [5] Trailing zeroes with `ljust()`\n",
    "string = \"3.14159\"\n",
    "print(\"Original string:\", string)\n",
    "print(\"Added trailing zeroes:\", string.ljust(8, \"0\"))\n",
    "print(\"Added trailing zeroes:\", string.ljust(16, \"0\"))"
   ]
  },
  {
   "cell_type": "code",
   "execution_count": 110,
   "id": "2a4e797f",
   "metadata": {},
   "outputs": [
    {
     "name": "stdout",
     "output_type": "stream",
     "text": [
      "Original string: 3.14159\n",
      "Added leading zeroe: 3.141590\n"
     ]
    }
   ],
   "source": [
    "# [6] Trailing zeroes with f-string\n",
    "string = \"3.14159\"\n",
    "print(\"Original string:\", string)\n",
    "print(\"Added leading zeroe:\", f\"{string:<08}\")"
   ]
  },
  {
   "cell_type": "code",
   "execution_count": 111,
   "id": "e6e14931",
   "metadata": {},
   "outputs": [
    {
     "name": "stdout",
     "output_type": "stream",
     "text": [
      "Original string: 3.14159\n",
      "Added trailing zeroes: 3.141590\n"
     ]
    }
   ],
   "source": [
    "# [7] Trailing zeroes with `format()`\n",
    "string = \"3.14159\"\n",
    "string_format = \"{:<08}\"\n",
    "print(\"Original string:\", string)\n",
    "print(\"Added trailing zeroes:\", string_format.format(string))"
   ]
  },
  {
   "cell_type": "code",
   "execution_count": 112,
   "id": "549560bd",
   "metadata": {},
   "outputs": [
    {
     "name": "stdout",
     "output_type": "stream",
     "text": [
      "Original string: 3.14159\n",
      "Added leading zeroes: 3.141590\n"
     ]
    }
   ],
   "source": [
    "# [8] Trailing zeroes with `%`\n",
    "string = 3.14159\n",
    "float_string = float(string)\n",
    "print(\"Original string:\", string)\n",
    "print(\"Added leading zeroes: %08f\" % float_string)"
   ]
  },
  {
   "cell_type": "markdown",
   "id": "0f9663f8",
   "metadata": {},
   "source": [
    "**130. Write a Python program that uses double quotes to display strings.**"
   ]
  },
  {
   "cell_type": "code",
   "execution_count": 115,
   "id": "d29622fd",
   "metadata": {},
   "outputs": [
    {
     "name": "stdout",
     "output_type": "stream",
     "text": [
      "\"The quick brown fox jumps over the lazy dog.\"\n"
     ]
    }
   ],
   "source": [
    "# [1] f-string\n",
    "string = \"The quick brown fox jumps over the lazy dog.\"\n",
    "print(f'\"{string}\"')"
   ]
  },
  {
   "cell_type": "code",
   "execution_count": 117,
   "id": "1bf1cf76",
   "metadata": {},
   "outputs": [
    {
     "name": "stdout",
     "output_type": "stream",
     "text": [
      "\"The quick brown fox jumps over the lazy dog.\"\n"
     ]
    }
   ],
   "source": [
    "# [2] `format()`\n",
    "string = \"The quick brown fox jumps over the lazy dog.\"\n",
    "print('\"{}\"'.format(string))"
   ]
  },
  {
   "cell_type": "code",
   "execution_count": 118,
   "id": "14515e60",
   "metadata": {},
   "outputs": [
    {
     "name": "stdout",
     "output_type": "stream",
     "text": [
      "\"The quick brown fox jumps over the lazy dog.\"\n"
     ]
    }
   ],
   "source": [
    "# [3] `%`\n",
    "string = \"The quick brown fox jumps over the lazy dog.\"\n",
    "print('\"%s\"' % string)"
   ]
  },
  {
   "cell_type": "code",
   "execution_count": 119,
   "id": "3f06e5ee",
   "metadata": {},
   "outputs": [
    {
     "name": "stdout",
     "output_type": "stream",
     "text": [
      "\"The quick brown fox jumps over the lazy dog.\"\n"
     ]
    }
   ],
   "source": [
    "# [4] `\"\"`\n",
    "string = '\"The quick brown fox jumps over the lazy dog.\"'\n",
    "print(string)"
   ]
  },
  {
   "cell_type": "markdown",
   "id": "e39d5b6a",
   "metadata": {},
   "source": [
    "**131. Write a Python program to split a variable length string into variables.**"
   ]
  },
  {
   "cell_type": "code",
   "execution_count": 123,
   "id": "5ebbced0",
   "metadata": {},
   "outputs": [
    {
     "name": "stdout",
     "output_type": "stream",
     "text": [
      "a b c\n"
     ]
    }
   ],
   "source": [
    "# Iterable unpacking\n",
    "var_lst = [\"a\", \"b\", \"c\"]\n",
    "x, y, z = var_lst\n",
    "print(x, y, z)"
   ]
  },
  {
   "cell_type": "markdown",
   "id": "5cab95ae",
   "metadata": {},
   "source": [
    "**132. Write a Python program to list the home directory without an absolute path.**"
   ]
  },
  {
   "cell_type": "code",
   "execution_count": 125,
   "id": "68821c80",
   "metadata": {},
   "outputs": [
    {
     "name": "stdout",
     "output_type": "stream",
     "text": [
      "/home/yungshun\n"
     ]
    }
   ],
   "source": [
    "# `os.path`\n",
    "import os.path\n",
    "\n",
    "print(os.path.expanduser(\"~\"))"
   ]
  },
  {
   "cell_type": "markdown",
   "id": "8d78d0ec",
   "metadata": {},
   "source": [
    "**133. Write a Python program to calculate the time runs (difference between start and current time) of a program.**"
   ]
  },
  {
   "cell_type": "code",
   "execution_count": 126,
   "id": "dffc9e1f",
   "metadata": {},
   "outputs": [
    {
     "name": "stdout",
     "output_type": "stream",
     "text": [
      "0\n",
      "1\n",
      "2\n",
      "4.267599433660507e-05\n",
      "0\n",
      "1\n",
      "2\n",
      "3\n",
      "4\n",
      "5\n",
      "6\n",
      "7\n",
      "8\n",
      "9\n",
      "10\n",
      "11\n",
      "12\n",
      "13\n",
      "14\n",
      "15\n",
      "3.962393384426832e-05\n"
     ]
    }
   ],
   "source": [
    "# [1] `timeit.default_timer()`\n",
    "from timeit import default_timer\n",
    "\n",
    "def timer(n):\n",
    "    start = default_timer()\n",
    "    for count in range(0, n):\n",
    "        print(count)\n",
    "    print(default_timer() - start)\n",
    "    \n",
    "timer(3)\n",
    "timer(16)"
   ]
  },
  {
   "cell_type": "code",
   "execution_count": 131,
   "id": "c3c4b495",
   "metadata": {},
   "outputs": [
    {
     "name": "stdout",
     "output_type": "stream",
     "text": [
      "0\n",
      "1\n",
      "2\n",
      "0:00:00.000056\n",
      "0 days\n",
      "0 seconds\n",
      "56 microseconds\n",
      "0\n",
      "1\n",
      "2\n",
      "3\n",
      "4\n",
      "5\n",
      "6\n",
      "7\n",
      "8\n",
      "9\n",
      "10\n",
      "11\n",
      "12\n",
      "13\n",
      "14\n",
      "15\n",
      "0:00:00.000064\n",
      "0 days\n",
      "0 seconds\n",
      "64 microseconds\n"
     ]
    }
   ],
   "source": [
    "# [2] `datetime.datetime.now()`\n",
    "import datetime\n",
    "\n",
    "def timer(n):\n",
    "    start = datetime.datetime.now()\n",
    "    for count in range(0, n):\n",
    "        print(count)\n",
    "    delta = datetime.datetime.now() - start\n",
    "    print(delta)\n",
    "    print(delta.days, \"days\")\n",
    "    print(delta.seconds, \"seconds\")\n",
    "    print(delta.microseconds, \"microseconds\")\n",
    "    \n",
    "timer(3)\n",
    "timer(16)"
   ]
  },
  {
   "cell_type": "code",
   "execution_count": 132,
   "id": "a54916f6",
   "metadata": {},
   "outputs": [
    {
     "name": "stdout",
     "output_type": "stream",
     "text": [
      "0\n",
      "1\n",
      "2\n",
      "4.1961669921875e-05\n",
      "0\n",
      "1\n",
      "2\n",
      "3\n",
      "4\n",
      "5\n",
      "6\n",
      "7\n",
      "8\n",
      "9\n",
      "10\n",
      "11\n",
      "12\n",
      "13\n",
      "14\n",
      "15\n",
      "2.5272369384765625e-05\n"
     ]
    }
   ],
   "source": [
    "# [3] `time.time()`\n",
    "import time\n",
    "\n",
    "def timer(n):\n",
    "    start = time.time()\n",
    "    for count in range(0, n):\n",
    "        print(count)\n",
    "    print(time.time() - start)\n",
    "\n",
    "timer(3)\n",
    "timer(16)"
   ]
  },
  {
   "cell_type": "code",
   "execution_count": 134,
   "id": "cceaf58a",
   "metadata": {},
   "outputs": [
    {
     "name": "stdout",
     "output_type": "stream",
     "text": [
      "0\n",
      "1\n",
      "2\n",
      "5.200703162699938e-05\n",
      "0\n",
      "1\n",
      "2\n",
      "3\n",
      "4\n",
      "5\n",
      "6\n",
      "7\n",
      "8\n",
      "9\n",
      "10\n",
      "11\n",
      "12\n",
      "13\n",
      "14\n",
      "15\n",
      "6.25470420345664e-05\n"
     ]
    }
   ],
   "source": [
    "# [4] `time.perf_counter()`\n",
    "import time\n",
    "\n",
    "def timer(n):\n",
    "    start = time.perf_counter()\n",
    "    for count in range(0, n):\n",
    "        print(count)\n",
    "    print(time.perf_counter() - start)\n",
    "\n",
    "timer(3)\n",
    "timer(16)"
   ]
  },
  {
   "cell_type": "code",
   "execution_count": 135,
   "id": "af890646",
   "metadata": {},
   "outputs": [
    {
     "name": "stdout",
     "output_type": "stream",
     "text": [
      "0\n",
      "1\n",
      "2\n",
      "6.767200000012963e-05\n",
      "0\n",
      "1\n",
      "2\n",
      "3\n",
      "4\n",
      "5\n",
      "6\n",
      "7\n",
      "8\n",
      "9\n",
      "10\n",
      "11\n",
      "12\n",
      "13\n",
      "14\n",
      "15\n",
      "7.374599999998566e-05\n"
     ]
    }
   ],
   "source": [
    "# [5] `time.process_time()`\n",
    "import time\n",
    "\n",
    "def timer(n):\n",
    "    start = time.process_time()\n",
    "    for count in range(0, n):\n",
    "        print(count)\n",
    "    print(time.process_time() - start)\n",
    "\n",
    "timer(3)\n",
    "timer(16)"
   ]
  },
  {
   "cell_type": "markdown",
   "id": "06573a0f",
   "metadata": {},
   "source": [
    "**134. Write a Python program to input two integers on a single line.**"
   ]
  },
  {
   "cell_type": "code",
   "execution_count": null,
   "id": "3ce5488b",
   "metadata": {},
   "outputs": [],
   "source": []
  },
  {
   "cell_type": "markdown",
   "id": "27ff6cf7",
   "metadata": {},
   "source": [
    "**135. Write a Python program to print a variable without spaces between values.**\n",
    "\n",
    "<i>Sample value:</i> \n",
    "\n",
    "x =30\n",
    "\n",
    "<i>Expected output:</i> \n",
    "\n",
    "Value of x is \"30\""
   ]
  },
  {
   "cell_type": "code",
   "execution_count": null,
   "id": "3c1a52d3",
   "metadata": {},
   "outputs": [],
   "source": []
  }
 ],
 "metadata": {
  "kernelspec": {
   "display_name": "Python 3 (ipykernel)",
   "language": "python",
   "name": "python3"
  },
  "language_info": {
   "codemirror_mode": {
    "name": "ipython",
    "version": 3
   },
   "file_extension": ".py",
   "mimetype": "text/x-python",
   "name": "python",
   "nbconvert_exporter": "python",
   "pygments_lexer": "ipython3",
   "version": "3.8.8"
  }
 },
 "nbformat": 4,
 "nbformat_minor": 5
}

{
 "cells": [
  {
   "cell_type": "markdown",
   "id": "0d7bfc62",
   "metadata": {},
   "source": [
    "# Python Basic\n",
    "\n",
    "**1. Write a Python program to print the following string in a specific format (see the output).**<br>\n",
    "\n",
    "<i>Sample String:</i> \n",
    "\n",
    "\"Twinkle, twinkle, little star, How I wonder what you are! Up above the world so high, Like a diamond in the sky. Twinkle, twinkle, little star, How I wonder what you are\"<br>\n",
    "\n",
    "<i>Output:</i>\n",
    "<pre>\n",
    "Twinkle, twinkle, little star,\n",
    "\tHow I wonder what you are!\n",
    "\t\tUp above the world so high,\t\t\n",
    "\t\tLike a diamond in the sky.\n",
    "Twinkle, twinkle, little star,\n",
    "\tHow I wonder what you are</pre>"
   ]
  },
  {
   "cell_type": "code",
   "execution_count": 1,
   "id": "bba9d0b9",
   "metadata": {},
   "outputs": [
    {
     "name": "stdout",
     "output_type": "stream",
     "text": [
      "Twinkle, twinkle, little star, \n",
      "\tHow I wonder what you are! \n",
      "\t\tUp above the world so high, \n",
      "\t\tLike a diamond in the sky. \n",
      "Twinkle, twinkle, little star, \n",
      "\tHow I wonder what you are\n"
     ]
    }
   ],
   "source": [
    "# `\\n` symbol means literally new line\n",
    "# `\\t` symbol means add a tab\n",
    "print(\"Twinkle, twinkle, little star, \\n\\tHow I wonder what you are! \\n\\t\\tUp above the world so high, \\n\\t\\tLike a diamond in the sky. \\nTwinkle, twinkle, little star, \\n\\tHow I wonder what you are\")"
   ]
  },
  {
   "cell_type": "markdown",
   "id": "96911867",
   "metadata": {},
   "source": [
    "**2. Write a Python program to find out what version of Python you are using.**"
   ]
  },
  {
   "cell_type": "code",
   "execution_count": 4,
   "id": "ce1a0646",
   "metadata": {},
   "outputs": [
    {
     "name": "stdout",
     "output_type": "stream",
     "text": [
      "Python Version\n",
      "3.8.8 (default, Apr 13 2021, 19:58:26) \n",
      "[GCC 7.3.0]\n",
      "Version Info\n",
      "sys.version_info(major=3, minor=8, micro=8, releaselevel='final', serial=0)\n"
     ]
    }
   ],
   "source": [
    "# [1] `sys` module\n",
    "import sys\n",
    "\n",
    "print(\"Python Version\")\n",
    "print(sys.version)\n",
    "print(\"Version Info\")\n",
    "print(sys.version_info)"
   ]
  },
  {
   "cell_type": "code",
   "execution_count": 7,
   "id": "d37db56d",
   "metadata": {},
   "outputs": [
    {
     "name": "stdout",
     "output_type": "stream",
     "text": [
      "Python 3.8.8\r\n"
     ]
    }
   ],
   "source": [
    "# [2] Run shell command in Jupyter Notebook\n",
    "!python -V"
   ]
  },
  {
   "cell_type": "code",
   "execution_count": 8,
   "id": "6e71330d",
   "metadata": {},
   "outputs": [
    {
     "name": "stdout",
     "output_type": "stream",
     "text": [
      "Python 3.8.8\r\n"
     ]
    }
   ],
   "source": [
    "# [3] Run shell command in Jupyter Notebook\n",
    "!python --version"
   ]
  },
  {
   "cell_type": "code",
   "execution_count": 9,
   "id": "a1738ffa",
   "metadata": {},
   "outputs": [
    {
     "name": "stdout",
     "output_type": "stream",
     "text": [
      "3.8.8\n"
     ]
    }
   ],
   "source": [
    "# [4] `platform` module\n",
    "import platform\n",
    "\n",
    "print(platform.python_version())"
   ]
  },
  {
   "cell_type": "markdown",
   "id": "dbebd128",
   "metadata": {},
   "source": [
    "**3. Write a Python program to display the current date and time.**<br>\n",
    "\n",
    "<i>Sample Output:</i>\n",
    "\n",
    "Current date and time:<br>\n",
    "2014-07-05 14:34:14"
   ]
  },
  {
   "cell_type": "code",
   "execution_count": 11,
   "id": "188b7335",
   "metadata": {},
   "outputs": [
    {
     "name": "stdout",
     "output_type": "stream",
     "text": [
      "Current date and time:\n",
      "2023-05-16 04:50:31\n"
     ]
    }
   ],
   "source": [
    "# `datetime.datetime.now()` & `date.strftime(format)`\n",
    "import datetime\n",
    "\n",
    "now = datetime.datetime.now()\n",
    "print(\"Current date and time:\")\n",
    "print(now.strftime(\"%Y-%m-%d %H:%M:%S\"))"
   ]
  },
  {
   "cell_type": "markdown",
   "id": "46fef26f",
   "metadata": {},
   "source": [
    "**4. Write a Python program that calculates the area of a circle based on the radius entered by the user.**\n",
    "\n",
    "<i>Sample Output:</i><br>\n",
    "\n",
    "r = 1.1<br>\n",
    "Area = 3.8013271108436504"
   ]
  },
  {
   "cell_type": "code",
   "execution_count": 12,
   "id": "fa9bacd7",
   "metadata": {},
   "outputs": [
    {
     "name": "stdout",
     "output_type": "stream",
     "text": [
      "Input the radius of the circle:1.1\n",
      "The area of the circle with radius 1.1 is: 3.8013271108436504\n"
     ]
    }
   ],
   "source": [
    "# `math.pi` & `input()`\n",
    "from math import pi\n",
    "\n",
    "r = float(input(\"Input the radius of the circle:\"))\n",
    "print(\"The area of the circle with radius \" + str(r) + \" is: \" + str(pi * r**2))"
   ]
  },
  {
   "cell_type": "markdown",
   "id": "3c8d25ec",
   "metadata": {},
   "source": [
    "**5. Write a Python program that accepts the user's first and last name and prints them in reverse order with a space between them.**"
   ]
  },
  {
   "cell_type": "code",
   "execution_count": 14,
   "id": "6520204d",
   "metadata": {},
   "outputs": [
    {
     "name": "stdout",
     "output_type": "stream",
     "text": [
      "Input your First Name: Yung-Shun\n",
      "Input your Last Name: Chang\n",
      "Hello Chang Yung-Shun\n"
     ]
    }
   ],
   "source": [
    "# `input()`\n",
    "fname = input(\"Input your First Name: \")\n",
    "lname = input(\"Input your Last Name: \")\n",
    "\n",
    "print(\"Hello \" + lname + \" \" + fname)"
   ]
  },
  {
   "cell_type": "markdown",
   "id": "aebc8d01",
   "metadata": {},
   "source": [
    "**6. Write a Python program that accepts a sequence of comma-separated numbers from the user and generates a list and a tuple of those numbers.**\n",
    "\n",
    "<i>Sample Data:</i><br>\n",
    "<br>\n",
    "3, 5, 7, 23\n",
    "\n",
    "<i>Output:</i><br>\n",
    "\n",
    "List : ['3', ' 5', ' 7', ' 23']<br>\n",
    "Tuple : ('3', ' 5', ' 7', ' 23')"
   ]
  },
  {
   "cell_type": "code",
   "execution_count": 15,
   "id": "1c2c3744",
   "metadata": {},
   "outputs": [
    {
     "name": "stdout",
     "output_type": "stream",
     "text": [
      "Input some comma-separated numbers: 3,5,8,17\n",
      "List:  ['3', '5', '8', '17']\n",
      "Tuple:  ('3', '5', '8', '17')\n"
     ]
    }
   ],
   "source": [
    "# `split()` for a list & `tuple()` for a tuple\n",
    "values = input(\"Input some comma-separated numbers: \")\n",
    "list = values.split(\",\")\n",
    "tuple = tuple(list)\n",
    "print(\"List: \", list)\n",
    "print(\"Tuple: \", tuple)"
   ]
  },
  {
   "cell_type": "markdown",
   "id": "e30f4649",
   "metadata": {},
   "source": [
    "**7. Write a Python program that accepts a filename from the user and prints the extension of the file.**\n",
    "\n",
    "<i>Sample Filename:</i><br>\n",
    "\n",
    "abc.java\n",
    "\n",
    "<i>Output:</i>\n",
    "\n",
    "java"
   ]
  },
  {
   "cell_type": "code",
   "execution_count": 17,
   "id": "cdf0dc22",
   "metadata": {},
   "outputs": [
    {
     "name": "stdout",
     "output_type": "stream",
     "text": [
      "The extension of the file is: 'java'\n"
     ]
    }
   ],
   "source": [
    "# `split()` & `-1` as index\n",
    "filename = \"abc.java\"\n",
    "f_extns = filename.split(\".\")\n",
    "print(\"The extension of the file is: \" + repr(f_extns[-1]))"
   ]
  },
  {
   "cell_type": "markdown",
   "id": "1693116a",
   "metadata": {},
   "source": [
    "**8. Write a Python program to display the first and last colors from the following list.**\n",
    "\n",
    "color_list = [\"Red\",\"Green\",\"White\" ,\"Black\"]"
   ]
  },
  {
   "cell_type": "code",
   "execution_count": 26,
   "id": "c0c49cc9",
   "metadata": {},
   "outputs": [
    {
     "name": "stdout",
     "output_type": "stream",
     "text": [
      "Red Black\n"
     ]
    }
   ],
   "source": [
    "# `%s`\n",
    "color_list = [\"Red\", \"Green\", \"White\", \"Black\"]\n",
    "print(\"%s %s\" % (color_list[0], color_list[-1]))"
   ]
  },
  {
   "cell_type": "markdown",
   "id": "da4930aa",
   "metadata": {},
   "source": [
    "**9. Write a Python program to display the examination schedule. (extract the date from exam_st_date).**\n",
    "\n",
    "exam_st_date = (11, 12, 2014)\n",
    "\n",
    "<i>Sample Output:</i>\n",
    "\n",
    "The examination will start from : 11 / 12 / 2014"
   ]
  },
  {
   "cell_type": "code",
   "execution_count": 27,
   "id": "4636cf5d",
   "metadata": {},
   "outputs": [
    {
     "name": "stdout",
     "output_type": "stream",
     "text": [
      "The examination will start from: 11 / 12 / 2014\n"
     ]
    }
   ],
   "source": [
    "# `%i` formats the integers\n",
    "exam_st_date = (11, 12, 2014)\n",
    "print(\"The examination will start from: %i / %i / %i\" % exam_st_date)"
   ]
  },
  {
   "cell_type": "markdown",
   "id": "739e73ef",
   "metadata": {},
   "source": [
    "**10. Write a Python program that accepts an integer (n) and computes the value of n+nn+nnn.**\n",
    "\n",
    "<i>Sample Value:</i> \n",
    "\n",
    "n = 5\n",
    "\n",
    "<i>Expected Result:</i> \n",
    "\n",
    "615"
   ]
  },
  {
   "cell_type": "code",
   "execution_count": 29,
   "id": "e5cfd09c",
   "metadata": {},
   "outputs": [
    {
     "name": "stdout",
     "output_type": "stream",
     "text": [
      "Input an integer: 5\n",
      "615\n"
     ]
    }
   ],
   "source": [
    "# `int()` & `%s`\n",
    "n = int(input(\"Input an integer: \"))\n",
    "n1 = int(\"%s\" % n)\n",
    "n2 = int(\"%s%s\" % (n, n))\n",
    "n3 = int(\"%s%s%s\" % (n, n, n))\n",
    "print(n1 + n2 + n3)"
   ]
  },
  {
   "cell_type": "markdown",
   "id": "e1fcc145",
   "metadata": {},
   "source": [
    "**11. Write a Python program to print the documents (syntax, description etc.) of Python built-in function(s).**\n",
    "\n",
    "<i>Sample Function:</i> \n",
    "\n",
    "abs()\n",
    "\n",
    "<i>Expected Result:</i>\n",
    "\n",
    "abs(number) -> number<br>\n",
    "Return the absolute value of the argument."
   ]
  },
  {
   "cell_type": "code",
   "execution_count": 30,
   "id": "b38a14fe",
   "metadata": {},
   "outputs": [
    {
     "name": "stdout",
     "output_type": "stream",
     "text": [
      "Return the absolute value of the argument.\n"
     ]
    }
   ],
   "source": [
    "# `__doc__`\n",
    "print(abs.__doc__)"
   ]
  },
  {
   "cell_type": "markdown",
   "id": "3683b43d",
   "metadata": {},
   "source": [
    "**12. Write a Python program that prints the calendar for a given month and year.**\n",
    "\n",
    "<i>Note:</i>\n",
    "\n",
    "Use \"calendar\" module."
   ]
  },
  {
   "cell_type": "code",
   "execution_count": 31,
   "id": "37607bf0",
   "metadata": {},
   "outputs": [
    {
     "name": "stdout",
     "output_type": "stream",
     "text": [
      "Input the year: 2023\n",
      "Input the month: 5\n",
      "      May 2023\n",
      "Mo Tu We Th Fr Sa Su\n",
      " 1  2  3  4  5  6  7\n",
      " 8  9 10 11 12 13 14\n",
      "15 16 17 18 19 20 21\n",
      "22 23 24 25 26 27 28\n",
      "29 30 31\n",
      "\n"
     ]
    }
   ],
   "source": [
    "# `calendar.month()`\n",
    "import calendar\n",
    "\n",
    "y = int(input(\"Input the year: \"))\n",
    "m = int(input(\"Input the month: \"))\n",
    "print(calendar.month(y, m))"
   ]
  },
  {
   "cell_type": "markdown",
   "id": "6445f481",
   "metadata": {},
   "source": [
    "**13. Write a Python program to print the following \"here document\".**\n",
    "\n",
    "<i>Sample String:</i>\n",
    "<pre>\n",
    "a string that you \"don't\" have to escape\n",
    "This\n",
    "is a ....... multi-line\n",
    "heredoc string --------> example</pre>"
   ]
  },
  {
   "cell_type": "code",
   "execution_count": 32,
   "id": "1cbaacc8",
   "metadata": {},
   "outputs": [
    {
     "name": "stdout",
     "output_type": "stream",
     "text": [
      "\n",
      "a string that you \"don't\" have to escape\n",
      "This\n",
      "is a ....... multi-line\n",
      "heredoc string --------> example\n",
      "\n"
     ]
    }
   ],
   "source": [
    "# Here document (heredoc)\n",
    "# `print(\"\"\"sth\"\"\")`\n",
    "print(\"\"\"\n",
    "a string that you \"don't\" have to escape\n",
    "This\n",
    "is a ....... multi-line\n",
    "heredoc string --------> example\n",
    "\"\"\")"
   ]
  },
  {
   "cell_type": "markdown",
   "id": "8478f471",
   "metadata": {},
   "source": [
    "**14. Write a Python program to calculate the number of days between two dates.**\n",
    "\n",
    "<i>Sample Dates:</i> \n",
    "\n",
    "(2014, 7, 2), (2014, 7, 11)\n",
    "\n",
    "<i>Expected Output:</i> \n",
    "\n",
    "9 days"
   ]
  },
  {
   "cell_type": "code",
   "execution_count": 33,
   "id": "c87e804c",
   "metadata": {},
   "outputs": [
    {
     "name": "stdout",
     "output_type": "stream",
     "text": [
      "9\n"
     ]
    }
   ],
   "source": [
    "# `datetime.date(year, month, day)` & `timedelta.days`\n",
    "# timedelta = date1 - date2\n",
    "from datetime import date\n",
    "\n",
    "f_date = date(2014, 7, 2)\n",
    "l_date = date(2014, 7, 11)\n",
    "delta = l_date - f_date\n",
    "print(delta.days)"
   ]
  },
  {
   "cell_type": "markdown",
   "id": "5d40b9f4",
   "metadata": {},
   "source": [
    "**15. Write a Python program to get the volume of a sphere with radius six.**"
   ]
  },
  {
   "cell_type": "code",
   "execution_count": 36,
   "id": "ee60ee25",
   "metadata": {},
   "outputs": [
    {
     "name": "stdout",
     "output_type": "stream",
     "text": [
      "The volume of the sphere is: 904.7786842338603\n"
     ]
    }
   ],
   "source": [
    "# `math.pi`\n",
    "from math import pi\n",
    "\n",
    "r = 6.0\n",
    "V = 4.0 / 3.0 * pi * r**3\n",
    "print(\"The volume of the sphere is:\", V)"
   ]
  },
  {
   "cell_type": "markdown",
   "id": "9a04e8db",
   "metadata": {},
   "source": [
    "**16. Write a Python program to calculate the difference between a given number and 17. If the number is greater than 17, return twice the absolute difference.**"
   ]
  },
  {
   "cell_type": "code",
   "execution_count": 37,
   "id": "aa7fac13",
   "metadata": {},
   "outputs": [
    {
     "name": "stdout",
     "output_type": "stream",
     "text": [
      "14\n",
      "38\n"
     ]
    }
   ],
   "source": [
    "# if-else statement\n",
    "def difference(n):\n",
    "    if n <= 17:\n",
    "        return 17 - n\n",
    "    else:\n",
    "        return (n - 17) * 2\n",
    "\n",
    "print(difference(3))\n",
    "print(difference(36))"
   ]
  },
  {
   "cell_type": "markdown",
   "id": "e20f6a0d",
   "metadata": {},
   "source": [
    "**17. Write a Python program to test whether a number is within 100 of 1000 or 2000.**"
   ]
  },
  {
   "cell_type": "code",
   "execution_count": 39,
   "id": "5d1a24f1",
   "metadata": {},
   "outputs": [
    {
     "name": "stdout",
     "output_type": "stream",
     "text": [
      "True\n",
      "True\n",
      "False\n"
     ]
    }
   ],
   "source": [
    "# if-else statement & `or`\n",
    "def near_thousand(n):\n",
    "    \"\"\"\n",
    "    if abs(n - 1000) <= 100 or abs (n - 2000) <= 100:\n",
    "        return True\n",
    "    else:\n",
    "        return False\n",
    "    \"\"\"\n",
    "    return ((abs(n - 1000) <= 100) or (abs(n - 2000) <= 100))\n",
    "    \n",
    "print(near_thousand(1024))\n",
    "print(near_thousand(2048))\n",
    "print(near_thousand(3178))"
   ]
  },
  {
   "cell_type": "markdown",
   "id": "1c5ab27a",
   "metadata": {},
   "source": [
    "**18. Write a Python program to calculate the sum of three given numbers. If the values are equal, return three times their sum.**"
   ]
  },
  {
   "cell_type": "code",
   "execution_count": 42,
   "id": "84d1a368",
   "metadata": {},
   "outputs": [
    {
     "name": "stdout",
     "output_type": "stream",
     "text": [
      "2006\n",
      "144\n"
     ]
    }
   ],
   "source": [
    "# if-else statement & `x == y == z`\n",
    "def sum_thrice(x, y, z):\n",
    "    sum = x + y + z  \n",
    "    if x == y == z:\n",
    "        sum = sum * 3\n",
    "    return sum\n",
    "    \n",
    "print(sum_thrice(1986, 3, 17))\n",
    "print(sum_thrice(16, 16, 16))"
   ]
  },
  {
   "cell_type": "markdown",
   "id": "f9d87960",
   "metadata": {},
   "source": [
    "**19. Write a Python program to get a newly-generated string from a given string where \"Is\" has been added to the front. Return the string unchanged if the given string already begins with \"Is\".**"
   ]
  },
  {
   "cell_type": "code",
   "execution_count": 44,
   "id": "8bc4d6b0",
   "metadata": {},
   "outputs": [
    {
     "name": "stdout",
     "output_type": "stream",
     "text": [
      "IsArray\n",
      "IsEmpty\n"
     ]
    }
   ],
   "source": [
    "# `len()` & string slicing with `:` delimiter\n",
    "def new_string(text):\n",
    "    if len(text) >= 2 and text[:2] == \"Is\":\n",
    "        return text\n",
    "    return \"Is\" + text\n",
    "\n",
    "print(new_string(\"Array\"))\n",
    "print(new_string(\"IsEmpty\"))"
   ]
  },
  {
   "cell_type": "markdown",
   "id": "35e8f21a",
   "metadata": {},
   "source": [
    "**20. Write a Python program that returns a string that is n (non-negative integer) copies of a given string.**"
   ]
  },
  {
   "cell_type": "code",
   "execution_count": 47,
   "id": "3d344118",
   "metadata": {},
   "outputs": [
    {
     "name": "stdout",
     "output_type": "stream",
     "text": [
      "lovelovelove\n"
     ]
    }
   ],
   "source": [
    "# [1] `*` operator\n",
    "def larger_string(text, n):\n",
    "    return text * n\n",
    "\n",
    "print(larger_string(\"love\", 3))"
   ]
  },
  {
   "cell_type": "code",
   "execution_count": 48,
   "id": "6bd96c10",
   "metadata": {},
   "outputs": [
    {
     "name": "stdout",
     "output_type": "stream",
     "text": [
      "hatehatehate\n"
     ]
    }
   ],
   "source": [
    "# [2] `+` operator & range()\n",
    "def larger_string(text, n):\n",
    "    result = \"\"\n",
    "    for i in range(n):\n",
    "        result = result + text\n",
    "    return result\n",
    "\n",
    "print(larger_string(\"hate\", 3))"
   ]
  },
  {
   "cell_type": "code",
   "execution_count": null,
   "id": "1f687188",
   "metadata": {},
   "outputs": [],
   "source": []
  }
 ],
 "metadata": {
  "kernelspec": {
   "display_name": "Python 3 (ipykernel)",
   "language": "python",
   "name": "python3"
  },
  "language_info": {
   "codemirror_mode": {
    "name": "ipython",
    "version": 3
   },
   "file_extension": ".py",
   "mimetype": "text/x-python",
   "name": "python",
   "nbconvert_exporter": "python",
   "pygments_lexer": "ipython3",
   "version": "3.8.8"
  }
 },
 "nbformat": 4,
 "nbformat_minor": 5
}

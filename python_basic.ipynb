{
 "cells": [
  {
   "cell_type": "markdown",
   "id": "16e55bda",
   "metadata": {},
   "source": [
    "# Python Basic\n",
    "\n",
    "**1. Write a Python program to print the following string in a specific format (see the output).**<br>\n",
    "\n",
    "<i>Sample String:</i> \n",
    "\n",
    "\"Twinkle, twinkle, little star, How I wonder what you are! Up above the world so high, Like a diamond in the sky. Twinkle, twinkle, little star, How I wonder what you are\"<br>\n",
    "\n",
    "<i>Output:</i>\n",
    "<pre>\n",
    "Twinkle, twinkle, little star,\n",
    "\tHow I wonder what you are!\n",
    "\t\tUp above the world so high,\t\t\n",
    "\t\tLike a diamond in the sky.\n",
    "Twinkle, twinkle, little star,\n",
    "\tHow I wonder what you are</pre>"
   ]
  },
  {
   "cell_type": "code",
   "execution_count": 1,
   "id": "c41a61bf",
   "metadata": {},
   "outputs": [
    {
     "name": "stdout",
     "output_type": "stream",
     "text": [
      "Twinkle, twinkle, little star, \n",
      "\tHow I wonder what you are! \n",
      "\t\tUp above the world so high, \n",
      "\t\tLike a diamond in the sky. \n",
      "Twinkle, twinkle, little star, \n",
      "\tHow I wonder what you are\n"
     ]
    }
   ],
   "source": [
    "# `\\n` symbol means literally new line\n",
    "# `\\t` symbol means add a tab\n",
    "print(\"Twinkle, twinkle, little star, \\n\\tHow I wonder what you are! \\n\\t\\tUp above the world so high, \\n\\t\\tLike a diamond in the sky. \\nTwinkle, twinkle, little star, \\n\\tHow I wonder what you are\")"
   ]
  },
  {
   "cell_type": "markdown",
   "id": "973159a2",
   "metadata": {},
   "source": [
    "**2. Write a Python program to find out what version of Python you are using.**"
   ]
  },
  {
   "cell_type": "code",
   "execution_count": 2,
   "id": "bb38cd17",
   "metadata": {},
   "outputs": [
    {
     "name": "stdout",
     "output_type": "stream",
     "text": [
      "Python Version\n",
      "3.8.8 (default, Apr 13 2021, 19:58:26) \n",
      "[GCC 7.3.0]\n",
      "Version Info\n",
      "sys.version_info(major=3, minor=8, micro=8, releaselevel='final', serial=0)\n"
     ]
    }
   ],
   "source": [
    "# [1] `sys` module\n",
    "import sys\n",
    "\n",
    "print(\"Python Version\")\n",
    "print(sys.version)\n",
    "print(\"Version Info\")\n",
    "print(sys.version_info)"
   ]
  },
  {
   "cell_type": "code",
   "execution_count": 3,
   "id": "50057603",
   "metadata": {},
   "outputs": [
    {
     "name": "stdout",
     "output_type": "stream",
     "text": [
      "Python 3.8.8\r\n"
     ]
    }
   ],
   "source": [
    "# [2] Run shell command in Jupyter Notebook\n",
    "!python -V"
   ]
  },
  {
   "cell_type": "code",
   "execution_count": 4,
   "id": "17677af8",
   "metadata": {},
   "outputs": [
    {
     "name": "stdout",
     "output_type": "stream",
     "text": [
      "Python 3.8.8\r\n"
     ]
    }
   ],
   "source": [
    "# [3] Run shell command in Jupyter Notebook\n",
    "!python --version"
   ]
  },
  {
   "cell_type": "code",
   "execution_count": 5,
   "id": "27a3e986",
   "metadata": {},
   "outputs": [
    {
     "name": "stdout",
     "output_type": "stream",
     "text": [
      "3.8.8\n"
     ]
    }
   ],
   "source": [
    "# [4] `platform` module\n",
    "import platform\n",
    "\n",
    "print(platform.python_version())"
   ]
  },
  {
   "cell_type": "markdown",
   "id": "0138d619",
   "metadata": {},
   "source": [
    "**3. Write a Python program to display the current date and time.**<br>\n",
    "\n",
    "<i>Sample Output:</i>\n",
    "\n",
    "Current date and time:<br>\n",
    "2014-07-05 14:34:14"
   ]
  },
  {
   "cell_type": "code",
   "execution_count": 6,
   "id": "562111c1",
   "metadata": {},
   "outputs": [
    {
     "name": "stdout",
     "output_type": "stream",
     "text": [
      "Current date and time:\n",
      "2023-05-17 12:13:52\n"
     ]
    }
   ],
   "source": [
    "# `datetime.datetime.now()` & `date.strftime(format)`\n",
    "import datetime\n",
    "\n",
    "now = datetime.datetime.now()\n",
    "print(\"Current date and time:\")\n",
    "print(now.strftime(\"%Y-%m-%d %H:%M:%S\"))"
   ]
  },
  {
   "cell_type": "markdown",
   "id": "eb30ea0c",
   "metadata": {},
   "source": [
    "**4. Write a Python program that calculates the area of a circle based on the radius entered by the user.**\n",
    "\n",
    "<i>Sample Output:</i><br>\n",
    "\n",
    "r = 1.1<br>\n",
    "Area = 3.8013271108436504"
   ]
  },
  {
   "cell_type": "code",
   "execution_count": 7,
   "id": "f0ab3f6f",
   "metadata": {},
   "outputs": [
    {
     "name": "stdout",
     "output_type": "stream",
     "text": [
      "Input the radius of the circle:10\n",
      "The area of the circle with radius 10.0 is: 314.1592653589793\n"
     ]
    }
   ],
   "source": [
    "# `math.pi` & `input()`\n",
    "from math import pi\n",
    "\n",
    "r = float(input(\"Input the radius of the circle:\"))\n",
    "\n",
    "print(\"The area of the circle with radius \" + str(r) + \" is: \" + str(pi * r**2))"
   ]
  },
  {
   "cell_type": "markdown",
   "id": "468cbeff",
   "metadata": {},
   "source": [
    "**5. Write a Python program that accepts the user's first and last name and prints them in reverse order with a space between them.**"
   ]
  },
  {
   "cell_type": "code",
   "execution_count": 8,
   "id": "ad3d3fc2",
   "metadata": {},
   "outputs": [
    {
     "name": "stdout",
     "output_type": "stream",
     "text": [
      "Input your First Name: Yung-Shun\n",
      "Input your Last Name: Chang\n",
      "Hello Chang Yung-Shun\n"
     ]
    }
   ],
   "source": [
    "# `input()`\n",
    "fname = input(\"Input your First Name: \")\n",
    "lname = input(\"Input your Last Name: \")\n",
    "\n",
    "print(\"Hello \" + lname + \" \" + fname)"
   ]
  },
  {
   "cell_type": "markdown",
   "id": "a4cde307",
   "metadata": {},
   "source": [
    "**6. Write a Python program that accepts a sequence of comma-separated numbers from the user and generates a list and a tuple of those numbers.**\n",
    "\n",
    "<i>Sample Data:</i><br>\n",
    "<br>\n",
    "3, 5, 7, 23\n",
    "\n",
    "<i>Output:</i><br>\n",
    "\n",
    "List : ['3', ' 5', ' 7', ' 23']<br>\n",
    "Tuple : ('3', ' 5', ' 7', ' 23')"
   ]
  },
  {
   "cell_type": "code",
   "execution_count": 9,
   "id": "9f00e584",
   "metadata": {},
   "outputs": [
    {
     "name": "stdout",
     "output_type": "stream",
     "text": [
      "Input some comma-separated numbers: 3,5,8,17\n",
      "List:  ['3', '5', '8', '17']\n",
      "Tuple:  ('3', '5', '8', '17')\n"
     ]
    }
   ],
   "source": [
    "# `split()` for a list & `tuple()` for a tuple\n",
    "values = input(\"Input some comma-separated numbers: \")\n",
    "\n",
    "list = values.split(\",\")\n",
    "tuple = tuple(list)\n",
    "\n",
    "print(\"List: \", list)\n",
    "print(\"Tuple: \", tuple)"
   ]
  },
  {
   "cell_type": "markdown",
   "id": "2e42149e",
   "metadata": {},
   "source": [
    "**7. Write a Python program that accepts a filename from the user and prints the extension of the file.**\n",
    "\n",
    "<i>Sample Filename:</i><br>\n",
    "\n",
    "abc.java\n",
    "\n",
    "<i>Output:</i>\n",
    "\n",
    "java"
   ]
  },
  {
   "cell_type": "code",
   "execution_count": 10,
   "id": "5c675356",
   "metadata": {},
   "outputs": [
    {
     "name": "stdout",
     "output_type": "stream",
     "text": [
      "The extension of the file is: 'java'\n"
     ]
    }
   ],
   "source": [
    "# `split()` & `-1` as index\n",
    "filename = \"abc.java\"\n",
    "f_extns = filename.split(\".\")\n",
    "print(\"The extension of the file is: \" + repr(f_extns[-1]))"
   ]
  },
  {
   "cell_type": "markdown",
   "id": "81dba2b8",
   "metadata": {},
   "source": [
    "**8. Write a Python program to display the first and last colors from the following list.**\n",
    "\n",
    "color_list = [\"Red\",\"Green\",\"White\" ,\"Black\"]"
   ]
  },
  {
   "cell_type": "code",
   "execution_count": 11,
   "id": "e7f78bc8",
   "metadata": {},
   "outputs": [
    {
     "name": "stdout",
     "output_type": "stream",
     "text": [
      "Red Black\n"
     ]
    }
   ],
   "source": [
    "# `%s`\n",
    "color_list = [\"Red\", \"Green\", \"White\", \"Black\"]\n",
    "print(\"%s %s\" % (color_list[0], color_list[-1]))"
   ]
  },
  {
   "cell_type": "markdown",
   "id": "8171fec6",
   "metadata": {},
   "source": [
    "**9. Write a Python program to display the examination schedule. (extract the date from exam_st_date).**\n",
    "\n",
    "exam_st_date = (11, 12, 2014)\n",
    "\n",
    "<i>Sample Output:</i>\n",
    "\n",
    "The examination will start from : 11 / 12 / 2014"
   ]
  },
  {
   "cell_type": "code",
   "execution_count": 12,
   "id": "c7239dd8",
   "metadata": {},
   "outputs": [
    {
     "name": "stdout",
     "output_type": "stream",
     "text": [
      "The examination will start from: 11 / 12 / 2014\n"
     ]
    }
   ],
   "source": [
    "# `%i` formats the integers\n",
    "exam_st_date = (11, 12, 2014)\n",
    "print(\"The examination will start from: %i / %i / %i\" % exam_st_date)"
   ]
  },
  {
   "cell_type": "markdown",
   "id": "c4fd9170",
   "metadata": {},
   "source": [
    "**10. Write a Python program that accepts an integer (n) and computes the value of n+nn+nnn.**\n",
    "\n",
    "<i>Sample Value:</i> \n",
    "\n",
    "n = 5\n",
    "\n",
    "<i>Expected Result:</i> \n",
    "\n",
    "615"
   ]
  },
  {
   "cell_type": "code",
   "execution_count": 13,
   "id": "4f860cd4",
   "metadata": {},
   "outputs": [
    {
     "name": "stdout",
     "output_type": "stream",
     "text": [
      "Input an integer: 5\n",
      "615\n"
     ]
    }
   ],
   "source": [
    "# `int()` & `%s`\n",
    "n = int(input(\"Input an integer: \"))\n",
    "\n",
    "n1 = int(\"%s\" % n)\n",
    "n2 = int(\"%s%s\" % (n, n))\n",
    "n3 = int(\"%s%s%s\" % (n, n, n))\n",
    "\n",
    "print(n1 + n2 + n3)"
   ]
  },
  {
   "cell_type": "markdown",
   "id": "20b96bfc",
   "metadata": {},
   "source": [
    "**11. Write a Python program to print the documents (syntax, description etc.) of Python built-in function(s).**\n",
    "\n",
    "<i>Sample Function:</i> \n",
    "\n",
    "abs()\n",
    "\n",
    "<i>Expected Result:</i>\n",
    "\n",
    "abs(number) -> number<br>\n",
    "Return the absolute value of the argument."
   ]
  },
  {
   "cell_type": "code",
   "execution_count": 14,
   "id": "27e95589",
   "metadata": {},
   "outputs": [
    {
     "name": "stdout",
     "output_type": "stream",
     "text": [
      "Return the absolute value of the argument.\n"
     ]
    }
   ],
   "source": [
    "# `__doc__`\n",
    "print(abs.__doc__)"
   ]
  },
  {
   "cell_type": "markdown",
   "id": "c304f3a8",
   "metadata": {},
   "source": [
    "**12. Write a Python program that prints the calendar for a given month and year.**\n",
    "\n",
    "<i>Note:</i>\n",
    "\n",
    "Use \"calendar\" module."
   ]
  },
  {
   "cell_type": "code",
   "execution_count": 15,
   "id": "31e86a56",
   "metadata": {},
   "outputs": [
    {
     "name": "stdout",
     "output_type": "stream",
     "text": [
      "Input the year: 2023\n",
      "Input the month: 5\n",
      "      May 2023\n",
      "Mo Tu We Th Fr Sa Su\n",
      " 1  2  3  4  5  6  7\n",
      " 8  9 10 11 12 13 14\n",
      "15 16 17 18 19 20 21\n",
      "22 23 24 25 26 27 28\n",
      "29 30 31\n",
      "\n"
     ]
    }
   ],
   "source": [
    "# `calendar.month()`\n",
    "import calendar\n",
    "\n",
    "y = int(input(\"Input the year: \"))\n",
    "m = int(input(\"Input the month: \"))\n",
    "\n",
    "print(calendar.month(y, m))"
   ]
  },
  {
   "cell_type": "markdown",
   "id": "b036770a",
   "metadata": {},
   "source": [
    "**13. Write a Python program to print the following \"here document\".**\n",
    "\n",
    "<i>Sample String:</i>\n",
    "<pre>\n",
    "a string that you \"don't\" have to escape\n",
    "This\n",
    "is a ....... multi-line\n",
    "heredoc string --------> example</pre>"
   ]
  },
  {
   "cell_type": "code",
   "execution_count": 16,
   "id": "cdb00d88",
   "metadata": {},
   "outputs": [
    {
     "name": "stdout",
     "output_type": "stream",
     "text": [
      "\n",
      "a string that you \"don't\" have to escape\n",
      "This\n",
      "is a ....... multi-line\n",
      "heredoc string --------> example\n",
      "\n"
     ]
    }
   ],
   "source": [
    "# Here document (heredoc)\n",
    "# `print(\"\"\"text\"\"\")`\n",
    "print(\"\"\"\n",
    "a string that you \"don't\" have to escape\n",
    "This\n",
    "is a ....... multi-line\n",
    "heredoc string --------> example\n",
    "\"\"\")"
   ]
  },
  {
   "cell_type": "markdown",
   "id": "1a09d823",
   "metadata": {},
   "source": [
    "**14. Write a Python program to calculate the number of days between two dates.**\n",
    "\n",
    "<i>Sample Dates:</i> \n",
    "\n",
    "(2014, 7, 2), (2014, 7, 11)\n",
    "\n",
    "<i>Expected Output:</i> \n",
    "\n",
    "9 days"
   ]
  },
  {
   "cell_type": "code",
   "execution_count": 17,
   "id": "4ba8aad1",
   "metadata": {},
   "outputs": [
    {
     "name": "stdout",
     "output_type": "stream",
     "text": [
      "9\n"
     ]
    }
   ],
   "source": [
    "# `datetime.date(year, month, day)` & `timedelta.days`\n",
    "# timedelta = date1 - date2\n",
    "from datetime import date\n",
    "\n",
    "f_date = date(2014, 7, 2)\n",
    "l_date = date(2014, 7, 11)\n",
    "delta = l_date - f_date\n",
    "print(delta.days)"
   ]
  },
  {
   "cell_type": "markdown",
   "id": "b8d40400",
   "metadata": {},
   "source": [
    "**15. Write a Python program to get the volume of a sphere with radius six.**"
   ]
  },
  {
   "cell_type": "code",
   "execution_count": 18,
   "id": "fa2546ff",
   "metadata": {},
   "outputs": [
    {
     "name": "stdout",
     "output_type": "stream",
     "text": [
      "The volume of the sphere is: 904.7786842338603\n"
     ]
    }
   ],
   "source": [
    "# `math.pi`\n",
    "from math import pi\n",
    "\n",
    "r = 6.0\n",
    "V = 4.0 / 3.0 * pi * r**3\n",
    "print(\"The volume of the sphere is:\", V)"
   ]
  },
  {
   "cell_type": "markdown",
   "id": "1f771477",
   "metadata": {},
   "source": [
    "**16. Write a Python program to calculate the difference between a given number and 17. If the number is greater than 17, return twice the absolute difference.**"
   ]
  },
  {
   "cell_type": "code",
   "execution_count": 19,
   "id": "af99261b",
   "metadata": {},
   "outputs": [
    {
     "name": "stdout",
     "output_type": "stream",
     "text": [
      "14\n",
      "38\n"
     ]
    }
   ],
   "source": [
    "# if-else statement\n",
    "def difference(n):\n",
    "    if n <= 17:\n",
    "        return 17 - n\n",
    "    else:\n",
    "        return (n - 17) * 2\n",
    "\n",
    "print(difference(3))\n",
    "print(difference(36))"
   ]
  },
  {
   "cell_type": "markdown",
   "id": "75957738",
   "metadata": {},
   "source": [
    "**17. Write a Python program to test whether a number is within 100 of 1000 or 2000.**"
   ]
  },
  {
   "cell_type": "code",
   "execution_count": 20,
   "id": "3f5bfdb6",
   "metadata": {},
   "outputs": [
    {
     "name": "stdout",
     "output_type": "stream",
     "text": [
      "True\n",
      "True\n",
      "False\n"
     ]
    }
   ],
   "source": [
    "# if-else statement & `or`\n",
    "def near_thousand(n):\n",
    "    \"\"\"\n",
    "    if abs(n - 1000) <= 100 or abs (n - 2000) <= 100:\n",
    "        return True\n",
    "    else:\n",
    "        return False\n",
    "    \"\"\"\n",
    "    return ((abs(n - 1000) <= 100) or (abs(n - 2000) <= 100))\n",
    "    \n",
    "print(near_thousand(1024))\n",
    "print(near_thousand(2048))\n",
    "print(near_thousand(3178))"
   ]
  },
  {
   "cell_type": "markdown",
   "id": "f1a5c295",
   "metadata": {},
   "source": [
    "**18. Write a Python program to calculate the sum of three given numbers. If the values are equal, return three times their sum.**"
   ]
  },
  {
   "cell_type": "code",
   "execution_count": 21,
   "id": "8da64fc6",
   "metadata": {},
   "outputs": [
    {
     "name": "stdout",
     "output_type": "stream",
     "text": [
      "2006\n",
      "144\n"
     ]
    }
   ],
   "source": [
    "# if-else statement & `x == y == z`\n",
    "def sum_thrice(x, y, z):\n",
    "    result = x + y + z  \n",
    "    if x == y == z:\n",
    "        result = result * 3\n",
    "    return result\n",
    "    \n",
    "print(sum_thrice(1986, 3, 17))\n",
    "print(sum_thrice(16, 16, 16))"
   ]
  },
  {
   "cell_type": "markdown",
   "id": "9d9ebd9c",
   "metadata": {},
   "source": [
    "**19. Write a Python program to get a newly-generated string from a given string where \"Is\" has been added to the front. Return the string unchanged if the given string already begins with \"Is\".**"
   ]
  },
  {
   "cell_type": "code",
   "execution_count": 22,
   "id": "2b356035",
   "metadata": {},
   "outputs": [
    {
     "name": "stdout",
     "output_type": "stream",
     "text": [
      "IsArray\n",
      "IsEmpty\n"
     ]
    }
   ],
   "source": [
    "# `len()` & string slicing with `:` delimiter\n",
    "def new_string(text):\n",
    "    if len(text) >= 2 and text[:2] == \"Is\":\n",
    "        return text\n",
    "    return \"Is\" + text\n",
    "\n",
    "print(new_string(\"Array\"))\n",
    "print(new_string(\"IsEmpty\"))"
   ]
  },
  {
   "cell_type": "markdown",
   "id": "c717219a",
   "metadata": {},
   "source": [
    "**20. Write a Python program that returns a string that is n (non-negative integer) copies of a given string.**"
   ]
  },
  {
   "cell_type": "code",
   "execution_count": 23,
   "id": "bd41e9ba",
   "metadata": {},
   "outputs": [
    {
     "name": "stdout",
     "output_type": "stream",
     "text": [
      "lovelovelove\n"
     ]
    }
   ],
   "source": [
    "# [1] `*` operator\n",
    "def larger_string(text, n):\n",
    "    return text * n\n",
    "\n",
    "print(larger_string(\"love\", 3))"
   ]
  },
  {
   "cell_type": "code",
   "execution_count": 24,
   "id": "3406ea33",
   "metadata": {},
   "outputs": [
    {
     "name": "stdout",
     "output_type": "stream",
     "text": [
      "hatehatehate\n"
     ]
    }
   ],
   "source": [
    "# [2] `+` operator & `range()`\n",
    "def larger_string(text, n):\n",
    "    result = \"\"\n",
    "    for i in range(n):\n",
    "        result = result + text\n",
    "    return result\n",
    "\n",
    "print(larger_string(\"hate\", 3))"
   ]
  },
  {
   "cell_type": "markdown",
   "id": "adf78772",
   "metadata": {},
   "source": [
    "**21. Write a Python program that determines whether a given number (accepted from the user) is even or odd, and prints an appropriate message to the user.**"
   ]
  },
  {
   "cell_type": "code",
   "execution_count": 25,
   "id": "d4de6a21",
   "metadata": {},
   "outputs": [
    {
     "name": "stdout",
     "output_type": "stream",
     "text": [
      "Enter a number: 317\n",
      "This is an odd number.\n"
     ]
    }
   ],
   "source": [
    "# `%` operator\n",
    "num = int(input(\"Enter a number: \"))\n",
    "\n",
    "mod = num % 2\n",
    "if mod > 0:\n",
    "    print(\"This is an odd number.\")\n",
    "else:\n",
    "    print(\"This is an even number.\")"
   ]
  },
  {
   "cell_type": "markdown",
   "id": "f58af9e0",
   "metadata": {},
   "source": [
    "**22. Write a Python program to count the number 4 in a given list.**"
   ]
  },
  {
   "cell_type": "code",
   "execution_count": 26,
   "id": "36136039",
   "metadata": {},
   "outputs": [
    {
     "name": "stdout",
     "output_type": "stream",
     "text": [
      "1\n",
      "3\n"
     ]
    }
   ],
   "source": [
    "# [1] for loop & list iteration\n",
    "def list_count_4(nums):\n",
    "    count = 0\n",
    "    for num in nums:\n",
    "        if num == 4:\n",
    "            count = count + 1\n",
    "    return count\n",
    "\n",
    "print(list_count_4([1, 2, 1, 2, 4, 5, 6, 7, 8, 9, 0]))\n",
    "print(list_count_4([5, 4, 1, 7, 5, 4, 3, 0, 1, 0, 4]))"
   ]
  },
  {
   "cell_type": "code",
   "execution_count": 27,
   "id": "fb47525c",
   "metadata": {},
   "outputs": [
    {
     "name": "stdout",
     "output_type": "stream",
     "text": [
      "1\n",
      "3\n"
     ]
    }
   ],
   "source": [
    "# [2] while loop & list iteration\n",
    "def list_count_4(nums):\n",
    "    count = 0\n",
    "    i = 0\n",
    "    while i != len(nums):\n",
    "        if nums[i] == 4:\n",
    "            count = count + 1\n",
    "        i = i + 1\n",
    "    return count\n",
    "\n",
    "print(list_count_4([1, 2, 1, 2, 4, 5, 6, 7, 8, 9, 0]))\n",
    "print(list_count_4([5, 4, 1, 7, 5, 4, 3, 0, 1, 0, 4]))"
   ]
  },
  {
   "cell_type": "markdown",
   "id": "068a6379",
   "metadata": {},
   "source": [
    "**23. Write a Python program to get n (non-negative integer) copies of the first 2 characters of a given string. Return n copies of the whole string if the length is less than 2.**"
   ]
  },
  {
   "cell_type": "code",
   "execution_count": 28,
   "id": "b4e1f35a",
   "metadata": {},
   "outputs": [
    {
     "name": "stdout",
     "output_type": "stream",
     "text": [
      "hehehehehe\n",
      "aaaaa\n"
     ]
    }
   ],
   "source": [
    "# [1] `*` operator\n",
    "def substring_copy(text, n):\n",
    "    if len(text) < 2:\n",
    "        return n * text\n",
    "    else: \n",
    "        return n * text[:2]\n",
    "    \n",
    "print(substring_copy(\"hello\", 5))\n",
    "print(substring_copy(\"a\", 5))"
   ]
  },
  {
   "cell_type": "code",
   "execution_count": 29,
   "id": "a279d708",
   "metadata": {},
   "outputs": [
    {
     "name": "stdout",
     "output_type": "stream",
     "text": [
      "ststst\n",
      "ppp\n"
     ]
    }
   ],
   "source": [
    "# [2] `+` operator\n",
    "def substring_copy(text, n):\n",
    "    flen = 2\n",
    "    if flen > len(text):\n",
    "        flen = len(text)\n",
    "    substr = text[:flen]\n",
    "    result = \"\"\n",
    "    for i in range(n):\n",
    "        result = result + substr\n",
    "    return result\n",
    "\n",
    "print(substring_copy(\"strings\", 3))\n",
    "print(substring_copy(\"p\", 3))"
   ]
  },
  {
   "cell_type": "markdown",
   "id": "4c03cfac",
   "metadata": {},
   "source": [
    "**24. Write a Python program to test whether a passed letter is a vowel or not.**"
   ]
  },
  {
   "cell_type": "code",
   "execution_count": 30,
   "id": "3c6f278b",
   "metadata": {},
   "outputs": [
    {
     "name": "stdout",
     "output_type": "stream",
     "text": [
      "True\n",
      "False\n"
     ]
    }
   ],
   "source": [
    "# [1] `in` & list declaration\n",
    "def is_vowel(char):\n",
    "    # if char is lowercase\n",
    "    vowel = [\"a\", \"e\", \"i\", \"o\", \"u\"]\n",
    "    return char in vowel\n",
    "    \n",
    "print(is_vowel(\"u\"))\n",
    "print(is_vowel(\"j\"))"
   ]
  },
  {
   "cell_type": "code",
   "execution_count": 31,
   "id": "a22a8e5f",
   "metadata": {},
   "outputs": [
    {
     "name": "stdout",
     "output_type": "stream",
     "text": [
      "True\n",
      "False\n"
     ]
    }
   ],
   "source": [
    "# [2] `in` & string declaration\n",
    "def is_vowel(char):\n",
    "    # if char is lowercase\n",
    "    vowel = \"aeiou\"\n",
    "    return char in vowel\n",
    "    \n",
    "print(is_vowel(\"e\"))\n",
    "print(is_vowel(\"q\"))"
   ]
  },
  {
   "cell_type": "markdown",
   "id": "d7db94ab",
   "metadata": {},
   "source": [
    "**25. Write a Python program that checks whether a specified value is contained within a group of values.**\n",
    "\n",
    "<i>Test Data:</i>\n",
    "\n",
    "3 -> [1, 5, 8, 3] : True<br>\n",
    "-1 -> [1, 5, 8, 3] : False"
   ]
  },
  {
   "cell_type": "code",
   "execution_count": 32,
   "id": "80fdc7fe",
   "metadata": {},
   "outputs": [
    {
     "name": "stdout",
     "output_type": "stream",
     "text": [
      "True\n",
      "False\n"
     ]
    }
   ],
   "source": [
    "# Python list\n",
    "def is_group_member(group_data, n):\n",
    "    \"\"\"\n",
    "    for value in group_data:\n",
    "        if n == value:\n",
    "            return True\n",
    "    return False\n",
    "    \"\"\"\n",
    "    return n in group_data\n",
    "\n",
    "print(is_group_member([3, 5, 8, 16], 5))\n",
    "print(is_group_member([3, 5, 8, 16], 13))"
   ]
  },
  {
   "cell_type": "markdown",
   "id": "4d0d7229",
   "metadata": {},
   "source": [
    "**26. Write a Python program to create a histogram from a given list of integers.**"
   ]
  },
  {
   "cell_type": "code",
   "execution_count": 33,
   "id": "862bd48d",
   "metadata": {},
   "outputs": [
    {
     "name": "stdout",
     "output_type": "stream",
     "text": [
      "*\n",
      "*********\n",
      "********\n",
      "******\n",
      "***\n",
      "*\n",
      "*******\n"
     ]
    }
   ],
   "source": [
    "# [1] `*` operator & print directly\n",
    "def histogram(items):\n",
    "    for n in items:\n",
    "        print(\"*\" * n)\n",
    "        \n",
    "histogram([1, 9, 8, 6, 3, 1, 7])"
   ]
  },
  {
   "cell_type": "code",
   "execution_count": 34,
   "id": "5ae29bd3",
   "metadata": {},
   "outputs": [
    {
     "name": "stdout",
     "output_type": "stream",
     "text": [
      "******\n",
      "*\n",
      "*****\n",
      "***\n",
      "*******\n",
      "*********\n"
     ]
    }
   ],
   "source": [
    "# [2] `+` operator & while loop\n",
    "def histogram(items):\n",
    "    for n in items:\n",
    "        output = \"\"\n",
    "        times = n\n",
    "        while times > 0:\n",
    "            output = output + \"*\"\n",
    "            times = times - 1\n",
    "        print(output)\n",
    "        \n",
    "histogram([6, 1, 5, 3, 7, 9])"
   ]
  },
  {
   "cell_type": "markdown",
   "id": "9c2ec6ab",
   "metadata": {},
   "source": [
    "**27. Write a Python program that concatenates all elements in a list into a string and returns it.**"
   ]
  },
  {
   "cell_type": "code",
   "execution_count": 35,
   "id": "1d23fef9",
   "metadata": {},
   "outputs": [
    {
     "name": "stdout",
     "output_type": "stream",
     "text": [
      "Write a Python program that concatenates all elements.\n"
     ]
    }
   ],
   "source": [
    "# `in` & string concatenation\n",
    "def concatenate_list_data(list):\n",
    "    result = \"\"\n",
    "    for element in list:\n",
    "        result = result + str(element)\n",
    "    return result\n",
    "\n",
    "print(concatenate_list_data([\"Write\", \" \", \"a Python program\", \" that\" + \" concatenates \" + \"all elements\", \".\"]))"
   ]
  },
  {
   "cell_type": "markdown",
   "id": "4a80e0b3",
   "metadata": {},
   "source": [
    "**28. Write a Python program to print all even numbers from a given list of numbers in the same order and stop printing any after 237 in the sequence.**\n",
    "\n",
    "<i>Sample Numbers List:</i>\n",
    "\n",
    "<pre>numbers = [    \n",
    "    386, 462, 47, 418, 907, 344, 236, 375, 823, 566, 597, 978, 328, 615, 953, 345, \n",
    "    399, 162, 758, 219, 918, 237, 412, 566, 826, 248, 866, 950, 626, 949, 687, 217, \n",
    "    815, 67, 104, 58, 512, 24, 892, 894, 767, 553, 81, 379, 843, 831, 445, 742, 717, \n",
    "    958, 743, 527\n",
    "    ]</pre>"
   ]
  },
  {
   "cell_type": "code",
   "execution_count": 36,
   "id": "59a3eb27",
   "metadata": {},
   "outputs": [
    {
     "name": "stdout",
     "output_type": "stream",
     "text": [
      "386\n",
      "462\n",
      "418\n",
      "344\n",
      "236\n",
      "566\n",
      "978\n",
      "328\n",
      "162\n",
      "758\n",
      "918\n",
      "237\n"
     ]
    }
   ],
   "source": [
    "# `break` in loop\n",
    "numbers = [    \n",
    "    386, 462, 47, 418, 907, 344, 236, 375, 823, 566, 597, 978, 328, 615, 953, 345, \n",
    "    399, 162, 758, 219, 918, 237, 412, 566, 826, 248, 866, 950, 626, 949, 687, 217, \n",
    "    815, 67, 104, 58, 512, 24, 892, 894, 767, 553, 81, 379, 843, 831, 445, 742, 717, \n",
    "    958, 743, 527\n",
    "    ]\n",
    "\n",
    "for item in numbers:\n",
    "    if item == 237:\n",
    "        print(item)\n",
    "        break\n",
    "    elif item % 2 == 0:\n",
    "        print(item)"
   ]
  },
  {
   "cell_type": "markdown",
   "id": "dcfb23df",
   "metadata": {},
   "source": [
    "**29. Write a Python program that prints out all colors from color_list_1 that are not present in color_list_2.**\n",
    "\n",
    "<i>Test Data:</i>\n",
    "\n",
    "color_list_1 = set([\"White\", \"Black\", \"Red\"])<br>\n",
    "color_list_2 = set([\"Red\", \"Green\"])\n",
    "\n",
    "<i>Expected Output:</i>\n",
    "\n",
    "{'Black', 'White'}"
   ]
  },
  {
   "cell_type": "code",
   "execution_count": 37,
   "id": "4332ac41",
   "metadata": {},
   "outputs": [
    {
     "name": "stdout",
     "output_type": "stream",
     "text": [
      "Original set elements:\n",
      "{'White', 'Black', 'Red'}\n",
      "{'Green', 'Red'}\n",
      "\n",
      "Different of color_list_1 and color_list_2:\n",
      "{'White', 'Black'}\n",
      "\n",
      "Different of color_list_2 and color_list_1:\n",
      "{'Green'}\n"
     ]
    }
   ],
   "source": [
    "# `different()` for sets\n",
    "color_list_1 = set([\"White\", \"Black\", \"Red\"])\n",
    "color_list_2 = set([\"Red\", \"Green\"])\n",
    "print(\"Original set elements:\")\n",
    "print(color_list_1)\n",
    "print(color_list_2)\n",
    "print(\"\\nDifferent of color_list_1 and color_list_2:\")\n",
    "print(color_list_1.difference(color_list_2))\n",
    "print(\"\\nDifferent of color_list_2 and color_list_1:\")\n",
    "print(color_list_2.difference(color_list_1))"
   ]
  },
  {
   "cell_type": "markdown",
   "id": "fb0065ad",
   "metadata": {},
   "source": [
    "**30. Write a Python program that will accept the base and height of a triangle and compute its area.**"
   ]
  },
  {
   "cell_type": "code",
   "execution_count": 38,
   "id": "59658ec5",
   "metadata": {},
   "outputs": [
    {
     "name": "stdout",
     "output_type": "stream",
     "text": [
      "Input the base: 4\n",
      "Input the height: 5\n",
      "area =  10.0\n"
     ]
    }
   ],
   "source": [
    "# `input`\n",
    "b = int(input(\"Input the base: \"))\n",
    "h = int(input(\"Input the height: \"))\n",
    "\n",
    "area = b * h / 2\n",
    "\n",
    "print(\"area = \", area)"
   ]
  },
  {
   "cell_type": "markdown",
   "id": "d1ad0ed2",
   "metadata": {},
   "source": [
    "**31. Write a Python program that computes the greatest common divisor (GCD) of two positive integers.**"
   ]
  },
  {
   "cell_type": "code",
   "execution_count": 39,
   "id": "03f773b7",
   "metadata": {},
   "outputs": [
    {
     "name": "stdout",
     "output_type": "stream",
     "text": [
      "20\n",
      "1\n",
      "16\n"
     ]
    }
   ],
   "source": [
    "# [1] while loop & `min()`\n",
    "def gcd(x, y):\n",
    "    i = min(x, y)\n",
    "    while i != 0:\n",
    "        if x % i == 0 and y % i == 0:\n",
    "            return i\n",
    "        else: \n",
    "            i = i - 1\n",
    "\n",
    "print(gcd(100, 120))\n",
    "print(gcd(13, 17))\n",
    "print(gcd(48, 16))"
   ]
  },
  {
   "cell_type": "code",
   "execution_count": 40,
   "id": "d09c3b02",
   "metadata": {},
   "outputs": [
    {
     "name": "stdout",
     "output_type": "stream",
     "text": [
      "20\n",
      "1\n",
      "16\n"
     ]
    }
   ],
   "source": [
    "# [2] for loop using `range()` in reverse\n",
    "def gcd(x, y):\n",
    "    gcd = 1\n",
    "    # assuming x >= y\n",
    "    if x % y == 0:\n",
    "        return y\n",
    "    for k in range(int(y/2), 0, -1):\n",
    "        if x % k == 0 and y % k == 0:\n",
    "            gcd = k\n",
    "            break\n",
    "    return gcd\n",
    "\n",
    "print(gcd(100, 120))\n",
    "print(gcd(13, 17))\n",
    "print(gcd(16, 48))"
   ]
  },
  {
   "cell_type": "markdown",
   "id": "e4bd5fec",
   "metadata": {},
   "source": [
    "**32. Write a Python program to find the least common multiple (LCM) of two positive integers.**"
   ]
  },
  {
   "cell_type": "code",
   "execution_count": 41,
   "id": "35db0739",
   "metadata": {},
   "outputs": [
    {
     "name": "stdout",
     "output_type": "stream",
     "text": [
      "299\n",
      "160\n",
      "144\n"
     ]
    }
   ],
   "source": [
    "# [1] infinite loop & `max()`\n",
    "def lcm(x, y):\n",
    "    i = max(x, y)\n",
    "    while True:\n",
    "        if i % x == 0 and i % y == 0:\n",
    "            return i\n",
    "        i = i + 1\n",
    "        \n",
    "print(lcm(13, 23))\n",
    "print(lcm(20, 160))\n",
    "print(lcm(16, 36))"
   ]
  },
  {
   "cell_type": "code",
   "execution_count": 42,
   "id": "efe5382a",
   "metadata": {},
   "outputs": [
    {
     "name": "stdout",
     "output_type": "stream",
     "text": [
      "299\n",
      "160\n",
      "144\n"
     ]
    }
   ],
   "source": [
    "# [2] infinite loop & if-else statement\n",
    "def lcm(x, y):\n",
    "    if x > y:\n",
    "        z = x\n",
    "    else:\n",
    "        z = y\n",
    "    while(True):\n",
    "        if ((z % x == 0) and (z % y == 0)):\n",
    "            lcm = z\n",
    "            break\n",
    "        z = z + 1\n",
    "    return lcm\n",
    "\n",
    "print(lcm(13, 23))\n",
    "print(lcm(20, 160))\n",
    "print(lcm(36, 16))"
   ]
  },
  {
   "cell_type": "markdown",
   "id": "2f9dbc55",
   "metadata": {},
   "source": [
    "**33. Write a Python program to sum three given integers. However, if two values are equal, the sum will be zero.**"
   ]
  },
  {
   "cell_type": "code",
   "execution_count": 43,
   "id": "3fd52dd8",
   "metadata": {},
   "outputs": [
    {
     "name": "stdout",
     "output_type": "stream",
     "text": [
      "15\n",
      "0\n"
     ]
    }
   ],
   "source": [
    "# `or`\n",
    "def sum_three(x, y, z):\n",
    "    if x == y or y == z or x == z:\n",
    "        return 0\n",
    "    else:\n",
    "        return x + y + z\n",
    "\n",
    "print(sum_three(3, 5, 7))\n",
    "print(sum_three(3, 3, 9))"
   ]
  },
  {
   "cell_type": "markdown",
   "id": "796c9678",
   "metadata": {},
   "source": [
    "**34. Write a Python program to sum two given integers. However, if the sum is between 15 and 20 it will return 20.**"
   ]
  },
  {
   "cell_type": "code",
   "execution_count": 44,
   "id": "e7fa5ed7",
   "metadata": {},
   "outputs": [
    {
     "name": "stdout",
     "output_type": "stream",
     "text": [
      "49\n",
      "20\n"
     ]
    }
   ],
   "source": [
    "# comparison operators\n",
    "def sum_numbers(x, y):\n",
    "    result = x + y\n",
    "    # `<= 20` or `< 20` is not important in this case\n",
    "    if result >= 15 and result <= 20:\n",
    "        return 20\n",
    "    else:\n",
    "        return result\n",
    "    \n",
    "print(sum_numbers(13, 36))\n",
    "print(sum_numbers(7, 8))"
   ]
  },
  {
   "cell_type": "code",
   "execution_count": 45,
   "id": "c42aec67",
   "metadata": {},
   "outputs": [
    {
     "name": "stdout",
     "output_type": "stream",
     "text": [
      "49\n",
      "20\n"
     ]
    }
   ],
   "source": [
    "# `range()`\n",
    "def sum_numbers_numbers(x, y):\n",
    "    result = x + y\n",
    "    if result in range(15, 20):\n",
    "        return 20\n",
    "    else:\n",
    "        return result\n",
    "    \n",
    "print(sum_numbers(13, 36))\n",
    "print(sum_numbers(7, 8))"
   ]
  },
  {
   "cell_type": "markdown",
   "id": "da202241",
   "metadata": {},
   "source": [
    "**35. Write a Python program that returns true if the two given integer values are equal or their sum or difference is 5.**"
   ]
  },
  {
   "cell_type": "code",
   "execution_count": 46,
   "id": "d9399eff",
   "metadata": {},
   "outputs": [
    {
     "name": "stdout",
     "output_type": "stream",
     "text": [
      "True\n",
      "True\n",
      "True\n",
      "False\n",
      "False\n"
     ]
    }
   ],
   "source": [
    "# if-else statement & `abs()`\n",
    "def test_number5(x, y):\n",
    "    \"\"\"\n",
    "    if x == y or abs(x - y) == 5 or x + y == 5:\n",
    "        return True\n",
    "    else:\n",
    "        return False\n",
    "    \"\"\"\n",
    "    return x == y or x + y == 5 or abs(x - y) == 5\n",
    "\n",
    "print(test_number5(3, 2))\n",
    "print(test_number5(3, 8))\n",
    "print(test_number5(5, 5))\n",
    "print(test_number5(13, 16))\n",
    "print(test_number5(1, 100))"
   ]
  },
  {
   "cell_type": "markdown",
   "id": "8e503871",
   "metadata": {},
   "source": [
    "**36. Write a Python program to add two objects if both objects are integers.**"
   ]
  },
  {
   "cell_type": "code",
   "execution_count": 47,
   "id": "b267e23b",
   "metadata": {},
   "outputs": [
    {
     "name": "stdout",
     "output_type": "stream",
     "text": [
      "8\n",
      "Inputs must be integers!\n"
     ]
    }
   ],
   "source": [
    "# `isinstance()`\n",
    "def add_numbers(x, y):\n",
    "    if not (isinstance(x, int) and isinstance(y, int)):\n",
    "        return \"Inputs must be integers!\"\n",
    "    return x + y\n",
    "    \n",
    "print(add_numbers(3, 5))\n",
    "print(add_numbers(\"Hello\", 8))"
   ]
  },
  {
   "cell_type": "markdown",
   "id": "4aefd68c",
   "metadata": {},
   "source": [
    "**37. Write a Python program that displays your name, age, and address on three different lines.**"
   ]
  },
  {
   "cell_type": "code",
   "execution_count": 48,
   "id": "437e65f0",
   "metadata": {},
   "outputs": [
    {
     "name": "stdout",
     "output_type": "stream",
     "text": [
      "Name: Joe\n",
      "Age: 37\n",
      "Address: Taipei, Taiwan\n"
     ]
    }
   ],
   "source": [
    "# `format()`\n",
    "def personal_details():\n",
    "    name, age = \"Joe\", 37\n",
    "    address = \"Taipei, Taiwan\"\n",
    "    print(\"Name: {}\\nAge: {}\\nAddress: {}\".format(name, age, address))\n",
    "    \n",
    "personal_details()"
   ]
  },
  {
   "cell_type": "markdown",
   "id": "d66e6ca7",
   "metadata": {},
   "source": [
    "**38. Write a Python program to solve (x + y) * (x + y).**\n",
    "\n",
    "<i>Test Data:</i>\n",
    "\n",
    "x = 4, y = 3\n",
    "\n",
    "<i>Expected Output:</i>\n",
    "\n",
    "(4 + 3) ^ 2) = 49"
   ]
  },
  {
   "cell_type": "code",
   "execution_count": 49,
   "id": "0970fcd4",
   "metadata": {},
   "outputs": [
    {
     "name": "stdout",
     "output_type": "stream",
     "text": [
      "64\n",
      "169\n"
     ]
    }
   ],
   "source": [
    "# function\n",
    "def square_of_sum(x, y):\n",
    "    return (x + y) * (x + y)\n",
    "\n",
    "print(square_of_sum(3, 5))\n",
    "print(square_of_sum(5, 8))"
   ]
  },
  {
   "cell_type": "code",
   "execution_count": 50,
   "id": "6abb52be",
   "metadata": {},
   "outputs": [
    {
     "name": "stdout",
     "output_type": "stream",
     "text": [
      "(3 + 5) ^ 2 = 64\n"
     ]
    }
   ],
   "source": [
    "# no function & `format`\n",
    "x, y = 3, 5\n",
    "result = x * x + 2 * x * y + y * y\n",
    "print(\"({} + {}) ^ 2 = {}\".format(x, y, result))"
   ]
  },
  {
   "cell_type": "markdown",
   "id": "fe929669",
   "metadata": {},
   "source": [
    "**39. Write a Python program to compute the future value of a specified principal amount, rate of interest, and number of years.**\n",
    "\n",
    "<i>Test Data:</i> \n",
    "\n",
    "amt = 10000, int = 3.5, years = 7\n",
    "\n",
    "<i>Expected Output:</i> \n",
    "\n",
    "12722.79"
   ]
  },
  {
   "cell_type": "code",
   "execution_count": 51,
   "id": "69106101",
   "metadata": {},
   "outputs": [
    {
     "name": "stdout",
     "output_type": "stream",
     "text": [
      "12722.79\n"
     ]
    }
   ],
   "source": [
    "# `round()` & Function\n",
    "def future_value(amt, rate, years):\n",
    "    return round(amt * (1 + rate * 0.01) ** years, 2)\n",
    "\n",
    "print(future_value(10000, 3.5, 7))"
   ]
  },
  {
   "cell_type": "code",
   "execution_count": 52,
   "id": "d2cdb641",
   "metadata": {},
   "outputs": [
    {
     "name": "stdout",
     "output_type": "stream",
     "text": [
      "12722.79\n"
     ]
    }
   ],
   "source": [
    "# `round()` & No function\n",
    "amt = 10000\n",
    "rate = 3.5\n",
    "years = 7\n",
    "future_value = amt * (1 + 0.01 * rate) ** years\n",
    "print(round(future_value, 2))"
   ]
  },
  {
   "cell_type": "markdown",
   "id": "625023b0",
   "metadata": {},
   "source": [
    "**40. Write a Python program to calculate the distance between the points (x1, y1) and (x2, y2).**"
   ]
  },
  {
   "cell_type": "code",
   "execution_count": 53,
   "id": "65fb6dfc",
   "metadata": {},
   "outputs": [
    {
     "name": "stdout",
     "output_type": "stream",
     "text": [
      "6.324555320336759\n"
     ]
    }
   ],
   "source": [
    "# List\n",
    "from math import sqrt\n",
    "\n",
    "def euclidean_distance(p1, p2):\n",
    "    return sqrt((p1[0] - p2[0]) ** 2 + (p1[1] - p2[1]) ** 2)\n",
    "\n",
    "print(euclidean_distance([4, 0], [6, 6]))"
   ]
  },
  {
   "cell_type": "code",
   "execution_count": 54,
   "id": "7631b9bf",
   "metadata": {},
   "outputs": [
    {
     "name": "stdout",
     "output_type": "stream",
     "text": [
      "6.324555320336759\n"
     ]
    }
   ],
   "source": [
    "# Tuple\n",
    "from math import sqrt\n",
    "\n",
    "def euclidean_distance(p1, p2):\n",
    "    return sqrt((p1[0] - p2[0]) ** 2 + (p1[1] - p2[1]) ** 2)\n",
    "\n",
    "print(euclidean_distance((4, 0), (6, 6)))"
   ]
  },
  {
   "cell_type": "markdown",
   "id": "c1df2f43",
   "metadata": {},
   "source": [
    "**41. Write a Python program to check whether a file exists.**"
   ]
  },
  {
   "cell_type": "code",
   "execution_count": 55,
   "id": "32620149",
   "metadata": {},
   "outputs": [
    {
     "name": "stdout",
     "output_type": "stream",
     "text": [
      "True\n",
      "False\n"
     ]
    }
   ],
   "source": [
    "# [1] `os.path.isfile`\n",
    "import os.path\n",
    "\n",
    "print(os.path.isfile('python_basic.ipynb'))\n",
    "print(os.path.isfile('main.py'))"
   ]
  },
  {
   "cell_type": "code",
   "execution_count": 56,
   "id": "ef8d68c3",
   "metadata": {},
   "outputs": [
    {
     "name": "stdout",
     "output_type": "stream",
     "text": [
      "True\n",
      "False\n"
     ]
    }
   ],
   "source": [
    "# [2] `os.path.exists`\n",
    "import os.path\n",
    "\n",
    "print(os.path.exists('python_basic.ipynb'))\n",
    "print(os.path.exists('main.py'))"
   ]
  },
  {
   "cell_type": "code",
   "execution_count": 57,
   "id": "b279c852",
   "metadata": {},
   "outputs": [
    {
     "name": "stdout",
     "output_type": "stream",
     "text": [
      "File found!\n"
     ]
    }
   ],
   "source": [
    "# [3] `open` & try-except block\n",
    "my_file = open('python_basic.ipynb')\n",
    "try:\n",
    "    my_file.close()\n",
    "    print(\"File found!\")\n",
    "except FileNotFoundError:\n",
    "    print(\"File not found!\")"
   ]
  },
  {
   "cell_type": "markdown",
   "id": "49ea9667",
   "metadata": {},
   "source": [
    "**42. Write a Python program to determine if a Python shell is executing in 32bit or 64bit mode on OS.**"
   ]
  },
  {
   "cell_type": "code",
   "execution_count": 58,
   "id": "2fb84e5e",
   "metadata": {},
   "outputs": [
    {
     "name": "stdout",
     "output_type": "stream",
     "text": [
      "64\n"
     ]
    }
   ],
   "source": [
    "# `struct.calcsize()`\n",
    "import struct\n",
    "\n",
    "print(struct.calcsize(\"P\") * 8)"
   ]
  },
  {
   "cell_type": "code",
   "execution_count": 59,
   "id": "9e7137af",
   "metadata": {},
   "outputs": [
    {
     "name": "stdout",
     "output_type": "stream",
     "text": [
      "64bit\n"
     ]
    }
   ],
   "source": [
    "# `platform.architecture()`\n",
    "import platform\n",
    "\n",
    "print(platform.architecture()[0])"
   ]
  },
  {
   "cell_type": "markdown",
   "id": "63d2e53c",
   "metadata": {},
   "source": [
    "**43. Write a Python program to get OS name, platform and release information.**"
   ]
  },
  {
   "cell_type": "code",
   "execution_count": 60,
   "id": "7b8dd8de",
   "metadata": {},
   "outputs": [
    {
     "name": "stdout",
     "output_type": "stream",
     "text": [
      "Name of the operating system: posix\n",
      "Name of the OS system: Linux\n",
      "Version of the operating system: 5.4.0-148-generic\n"
     ]
    }
   ],
   "source": [
    "# `os.name` & `platform.system()` & `platform.release()`\n",
    "import os, platform\n",
    "\n",
    "print(\"Name of the operating system:\", os.name)\n",
    "print(\"Name of the OS system:\", platform.system())\n",
    "print(\"Version of the operating system:\", platform.release())"
   ]
  },
  {
   "cell_type": "code",
   "execution_count": 61,
   "id": "721e0059",
   "metadata": {},
   "outputs": [
    {
     "name": "stdout",
     "output_type": "stream",
     "text": [
      "os.name                      posix\n",
      "sys.platform                 linux\n",
      "platform.system()            Linux\n",
      "sysconfig.get_platform()     linux-x86_64\n",
      "platform.machine()           x86_64\n",
      "platform.architecture()      ('64bit', 'ELF')\n"
     ]
    }
   ],
   "source": [
    "# `sys.platform` & `sysconfig.get_platform()` & `platform.machine()` & `platform.architecture()`\n",
    "import sys, sysconfig, os, platform\n",
    "\n",
    "print(\"os.name                     \", os.name)\n",
    "print(\"sys.platform                \", sys.platform)\n",
    "print(\"platform.system()           \", platform.system())\n",
    "print(\"sysconfig.get_platform()    \", sysconfig.get_platform())\n",
    "print(\"platform.machine()          \", platform.machine())\n",
    "print(\"platform.architecture()     \", platform.architecture())"
   ]
  },
  {
   "cell_type": "markdown",
   "id": "dd4d1b67",
   "metadata": {},
   "source": [
    "**44. Write a Python program to locate Python site packages.**"
   ]
  },
  {
   "cell_type": "code",
   "execution_count": 62,
   "id": "aa693cda",
   "metadata": {},
   "outputs": [
    {
     "name": "stdout",
     "output_type": "stream",
     "text": [
      "['/home/yungshun/yungshun-py3/lib/python3.8/site-packages']\n"
     ]
    }
   ],
   "source": [
    "# `site.getsitepackages()`\n",
    "import site\n",
    "\n",
    "print(site.getsitepackages())"
   ]
  },
  {
   "cell_type": "markdown",
   "id": "fed3f7a0",
   "metadata": {},
   "source": [
    "**45. Write a Python program that calls an external command.**"
   ]
  },
  {
   "cell_type": "code",
   "execution_count": 63,
   "id": "8d998bdb",
   "metadata": {},
   "outputs": [
    {
     "name": "stdout",
     "output_type": "stream",
     "text": [
      "total 56\n",
      "-rw-rw-r-- 1 yungshun yungshun 52993  五  17 12:14 python_basic.ipynb\n",
      "-rw-rw-r-- 1 yungshun yungshun   503  五  17 10:24 python_basic.py\n"
     ]
    },
    {
     "data": {
      "text/plain": [
       "0"
      ]
     },
     "execution_count": 63,
     "metadata": {},
     "output_type": "execute_result"
    }
   ],
   "source": [
    "# [1] `subprocess.call()`\n",
    "from subprocess import call\n",
    "\n",
    "call([\"ls\", \"-l\"])"
   ]
  },
  {
   "cell_type": "code",
   "execution_count": 64,
   "id": "54474eff",
   "metadata": {},
   "outputs": [
    {
     "name": "stdout",
     "output_type": "stream",
     "text": [
      "total 56\n",
      "-rw-rw-r-- 1 yungshun yungshun 52993  五  17 12:14 python_basic.ipynb\n",
      "-rw-rw-r-- 1 yungshun yungshun   503  五  17 10:24 python_basic.py\n",
      "0\n"
     ]
    }
   ],
   "source": [
    "# [2] `os.system()`\n",
    "import os\n",
    "\n",
    "print(os.system(\"ls -l\"))"
   ]
  },
  {
   "cell_type": "markdown",
   "id": "cb363ad4",
   "metadata": {},
   "source": [
    "**46. Write a Python program to retrieve the path and name of the file currently being executed.**"
   ]
  },
  {
   "cell_type": "code",
   "execution_count": 65,
   "id": "8219aade",
   "metadata": {},
   "outputs": [],
   "source": [
    "# [1] `os.path.realpath(__file__)`, `os.path.abspath(__file__)`, `sys.argv[0]`\n",
    "import os, sys\n",
    "\n",
    "# Not work in Jupyter Notebook\n",
    "# print(\"Current File Name:\", os.path.realpath(__file__))\n",
    "# print(\"Current File Name:\", os.path.abspath(__file__))\n",
    "# print(\"Current File Name:\", sys.argv[0])\n",
    "\n",
    "# Output\n",
    "# Current File Name: /home/yungshun/workspace/py/python-w3resource-exercises/main.py\n",
    "# Current File Name: /home/yungshun/workspace/py/python-w3resource-exercises/main.py\n",
    "# Current File Name: main.py"
   ]
  },
  {
   "cell_type": "code",
   "execution_count": 66,
   "id": "0a27210d",
   "metadata": {},
   "outputs": [
    {
     "data": {
      "application/javascript": [
       "\n",
       "IPython.notebook.kernel.execute(\"nb_name = '\" + IPython.notebook.notebook_name + \"'\")\n"
      ],
      "text/plain": [
       "<IPython.core.display.Javascript object>"
      ]
     },
     "metadata": {},
     "output_type": "display_data"
    }
   ],
   "source": [
    "%%javascript\n",
    "\n",
    "IPython.notebook.kernel.execute(\"nb_name = '\" + IPython.notebook.notebook_name + \"'\")"
   ]
  },
  {
   "cell_type": "code",
   "execution_count": 67,
   "id": "5691c495",
   "metadata": {},
   "outputs": [
    {
     "name": "stdout",
     "output_type": "stream",
     "text": [
      "/home/yungshun/workspace/py/python-w3resource-exercises/python_basic.ipynb\n"
     ]
    }
   ],
   "source": [
    "# [2] Trick only for Jupyter Notebook & `os.getcwd()`\n",
    "import os\n",
    "\n",
    "nb_full_path = os.path.join(os.getcwd(), nb_name)\n",
    "print(nb_full_path)"
   ]
  },
  {
   "cell_type": "markdown",
   "id": "89c51411",
   "metadata": {},
   "source": [
    "**47. Write a Python program to find out the number of CPUs used.**"
   ]
  },
  {
   "cell_type": "code",
   "execution_count": 68,
   "id": "23880e1b",
   "metadata": {},
   "outputs": [
    {
     "name": "stdout",
     "output_type": "stream",
     "text": [
      "12\n"
     ]
    }
   ],
   "source": [
    "# [1] `multiprocessing.cpu_count()`\n",
    "import multiprocessing\n",
    "\n",
    "print(multiprocessing.cpu_count())"
   ]
  },
  {
   "cell_type": "code",
   "execution_count": 69,
   "id": "e5af5528",
   "metadata": {},
   "outputs": [
    {
     "name": "stdout",
     "output_type": "stream",
     "text": [
      "12\n"
     ]
    }
   ],
   "source": [
    "# [2] `os.cpu_count()`\n",
    "import os\n",
    "\n",
    "print(os.cpu_count())"
   ]
  },
  {
   "cell_type": "code",
   "execution_count": 70,
   "id": "4d4718ee",
   "metadata": {},
   "outputs": [
    {
     "name": "stdout",
     "output_type": "stream",
     "text": [
      "12\n"
     ]
    }
   ],
   "source": [
    "# [3] `psutil`\n",
    "import psutil\n",
    "\n",
    "print(psutil.cpu_count())"
   ]
  },
  {
   "cell_type": "markdown",
   "id": "f73ff427",
   "metadata": {},
   "source": [
    "**48. Write a Python program to parse a string to float or integer.**"
   ]
  },
  {
   "cell_type": "code",
   "execution_count": 71,
   "id": "d1b7f328",
   "metadata": {},
   "outputs": [
    {
     "name": "stdout",
     "output_type": "stream",
     "text": [
      "3.14159\n"
     ]
    }
   ],
   "source": [
    "# Try-except block & `ValueError` & `int()` & `float()`\n",
    "def parse_string(s):\n",
    "    try:\n",
    "        return int(s)\n",
    "    except ValueError:\n",
    "        return float(s)\n",
    "\n",
    "print(parse_string(\"3.14159\"))"
   ]
  },
  {
   "cell_type": "markdown",
   "id": "89b74120",
   "metadata": {},
   "source": [
    "**49. Write a Python program to list all files in a directory.**"
   ]
  },
  {
   "cell_type": "code",
   "execution_count": 72,
   "id": "00c9aa3a",
   "metadata": {},
   "outputs": [
    {
     "name": "stdout",
     "output_type": "stream",
     "text": [
      "['python_basic.ipynb', '.gitignore', 'python_basic.py']\n"
     ]
    }
   ],
   "source": [
    "# List initialization & `os.listdir()` & `os.path.isfile()` & `os.path.join()`\n",
    "from os import listdir\n",
    "from os.path import isfile, join\n",
    "\n",
    "file_list = [f for f in listdir(\"/home/yungshun/workspace/py/python-w3resource-exercises\") if isfile(join(\"/home/yungshun/workspace/py/python-w3resource-exercises\", f))]\n",
    "print(file_list)"
   ]
  },
  {
   "cell_type": "markdown",
   "id": "50c847e9",
   "metadata": {},
   "source": [
    "**50. Write a Python program to print without a newline or space.**"
   ]
  },
  {
   "cell_type": "code",
   "execution_count": 73,
   "id": "9967439e",
   "metadata": {},
   "outputs": [
    {
     "name": "stdout",
     "output_type": "stream",
     "text": [
      "**********"
     ]
    }
   ],
   "source": [
    "# `print(objects, end=\"\")`\n",
    "for i in range(0, 10):\n",
    "    print(\"*\", end=\"\")"
   ]
  },
  {
   "cell_type": "markdown",
   "id": "dc0d30d2",
   "metadata": {},
   "source": [
    "**51. Write a Python program to determine the profiling of Python programs.**\n",
    "\n",
    "<i>Note:</i>\n",
    "\n",
    "A profile is a set of statistics that describes how often and for how long various parts of the program executed. These statistics can be formatted into reports via the pstats module."
   ]
  },
  {
   "cell_type": "code",
   "execution_count": 74,
   "id": "dc88d587",
   "metadata": {},
   "outputs": [
    {
     "name": "stdout",
     "output_type": "stream",
     "text": [
      "8\n",
      "         27 function calls in 0.000 seconds\n",
      "\n",
      "   Ordered by: standard name\n",
      "\n",
      "   ncalls  tottime  percall  cumtime  percall filename:lineno(function)\n",
      "        1    0.000    0.000    0.000    0.000 371060289.py:4(sum_numbers)\n",
      "        1    0.000    0.000    0.000    0.000 <string>:1(<module>)\n",
      "        1    0.000    0.000    0.000    0.000 iostream.py:202(schedule)\n",
      "        2    0.000    0.000    0.000    0.000 iostream.py:429(_is_master_process)\n",
      "        2    0.000    0.000    0.000    0.000 iostream.py:448(_schedule_flush)\n",
      "        2    0.000    0.000    0.000    0.000 iostream.py:518(write)\n",
      "        1    0.000    0.000    0.000    0.000 iostream.py:90(_event_pipe)\n",
      "        1    0.000    0.000    0.000    0.000 socket.py:543(send)\n",
      "        1    0.000    0.000    0.000    0.000 threading.py:1017(_wait_for_tstate_lock)\n",
      "        1    0.000    0.000    0.000    0.000 threading.py:1071(is_alive)\n",
      "        1    0.000    0.000    0.000    0.000 threading.py:513(is_set)\n",
      "        1    0.000    0.000    0.000    0.000 {built-in method builtins.exec}\n",
      "        2    0.000    0.000    0.000    0.000 {built-in method builtins.isinstance}\n",
      "        2    0.000    0.000    0.000    0.000 {built-in method builtins.len}\n",
      "        1    0.000    0.000    0.000    0.000 {built-in method builtins.print}\n",
      "        2    0.000    0.000    0.000    0.000 {built-in method posix.getpid}\n",
      "        1    0.000    0.000    0.000    0.000 {method 'acquire' of '_thread.lock' objects}\n",
      "        1    0.000    0.000    0.000    0.000 {method 'append' of 'collections.deque' objects}\n",
      "        1    0.000    0.000    0.000    0.000 {method 'disable' of '_lsprof.Profiler' objects}\n",
      "        2    0.000    0.000    0.000    0.000 {method 'write' of '_io.StringIO' objects}\n",
      "\n",
      "\n"
     ]
    }
   ],
   "source": [
    "# `cProfile` module\n",
    "import cProfile\n",
    "\n",
    "def sum_numbers(x, y):\n",
    "    print(x + y)\n",
    "    \n",
    "cProfile.run(\"sum_numbers(3, 5)\")"
   ]
  },
  {
   "cell_type": "markdown",
   "id": "29af1a4f",
   "metadata": {},
   "source": [
    "**52. Write a Python program to print to STDERR.**"
   ]
  },
  {
   "cell_type": "code",
   "execution_count": 75,
   "id": "285d7649",
   "metadata": {},
   "outputs": [
    {
     "name": "stderr",
     "output_type": "stream",
     "text": [
      "abc--efg--xyz\n"
     ]
    }
   ],
   "source": [
    "# `*args` & `**kwargs` & `print(objects, file=arg, sep=arg)` & `sys.stderr`\n",
    "import sys\n",
    "from __future__ import print_function\n",
    "\n",
    "def eprint(*args, **kwargs):\n",
    "    print(*args, file=sys.stderr, **kwargs)\n",
    "    \n",
    "eprint(\"abc\", \"efg\", \"xyz\", sep=\"--\")"
   ]
  },
  {
   "cell_type": "markdown",
   "id": "e7f64cc9",
   "metadata": {},
   "source": [
    "**53. Write a Python program to access environment variables.**"
   ]
  },
  {
   "cell_type": "code",
   "execution_count": 76,
   "id": "ec73a2e5",
   "metadata": {},
   "outputs": [
    {
     "name": "stdout",
     "output_type": "stream",
     "text": [
      "environ({'CLUTTER_IM_MODULE': 'xim', 'CONDA_SHLVL': '1', 'LS_COLORS': 'rs=0:di=01;34:ln=01;36:mh=00:pi=40;33:so=01;35:do=01;35:bd=40;33;01:cd=40;33;01:or=40;31;01:mi=00:su=37;41:sg=30;43:ca=30;41:tw=30;42:ow=34;42:st=37;44:ex=01;32:*.tar=01;31:*.tgz=01;31:*.arc=01;31:*.arj=01;31:*.taz=01;31:*.lha=01;31:*.lz4=01;31:*.lzh=01;31:*.lzma=01;31:*.tlz=01;31:*.txz=01;31:*.tzo=01;31:*.t7z=01;31:*.zip=01;31:*.z=01;31:*.Z=01;31:*.dz=01;31:*.gz=01;31:*.lrz=01;31:*.lz=01;31:*.lzo=01;31:*.xz=01;31:*.zst=01;31:*.tzst=01;31:*.bz2=01;31:*.bz=01;31:*.tbz=01;31:*.tbz2=01;31:*.tz=01;31:*.deb=01;31:*.rpm=01;31:*.jar=01;31:*.war=01;31:*.ear=01;31:*.sar=01;31:*.rar=01;31:*.alz=01;31:*.ace=01;31:*.zoo=01;31:*.cpio=01;31:*.7z=01;31:*.rz=01;31:*.cab=01;31:*.wim=01;31:*.swm=01;31:*.dwm=01;31:*.esd=01;31:*.jpg=01;35:*.jpeg=01;35:*.mjpg=01;35:*.mjpeg=01;35:*.gif=01;35:*.bmp=01;35:*.pbm=01;35:*.pgm=01;35:*.ppm=01;35:*.tga=01;35:*.xbm=01;35:*.xpm=01;35:*.tif=01;35:*.tiff=01;35:*.png=01;35:*.svg=01;35:*.svgz=01;35:*.mng=01;35:*.pcx=01;35:*.mov=01;35:*.mpg=01;35:*.mpeg=01;35:*.m2v=01;35:*.mkv=01;35:*.webm=01;35:*.ogm=01;35:*.mp4=01;35:*.m4v=01;35:*.mp4v=01;35:*.vob=01;35:*.qt=01;35:*.nuv=01;35:*.wmv=01;35:*.asf=01;35:*.rm=01;35:*.rmvb=01;35:*.flc=01;35:*.avi=01;35:*.fli=01;35:*.flv=01;35:*.gl=01;35:*.dl=01;35:*.xcf=01;35:*.xwd=01;35:*.yuv=01;35:*.cgm=01;35:*.emf=01;35:*.ogv=01;35:*.ogx=01;35:*.aac=00;36:*.au=00;36:*.flac=00;36:*.m4a=00;36:*.mid=00;36:*.midi=00;36:*.mka=00;36:*.mp3=00;36:*.mpc=00;36:*.ogg=00;36:*.ra=00;36:*.wav=00;36:*.oga=00;36:*.opus=00;36:*.spx=00;36:*.xspf=00;36:', 'CONDA_EXE': '/home/yungshun/anaconda3/bin/conda', 'LC_MEASUREMENT': 'lzh_TW', 'LESSCLOSE': '/usr/bin/lesspipe %s %s', 'LC_PAPER': 'lzh_TW', 'LC_MONETARY': 'lzh_TW', 'ANDROID_HOME': '/home/yungshun/Android/Sdk', 'XDG_MENU_PREFIX': 'gnome-', 'LANG': 'en_US.UTF-8', 'DISPLAY': ':0', 'GNOME_SHELL_SESSION_MODE': 'ubuntu', 'COLORTERM': 'truecolor', 'ANDROID_SDK_ROOT': '/home/yungshun/Android/Sdk', 'DESKTOP_AUTOSTART_ID': '10ed186b9c6d65b81a168372379988255400000029040007', 'USERNAME': 'yungshun', 'CONDA_PREFIX': '/home/yungshun/anaconda3', 'JAVA_HOME': '/home/yungshun/.jdks/openjdk-16.0.1', 'XDG_VTNR': '2', 'SSH_AUTH_SOCK': '/run/user/1000/keyring/ssh', 'VIRTUAL_ENV': '/home/yungshun/yungshun-py3', '_CE_M': '', 'LC_NAME': 'lzh_TW', 'XDG_SESSION_ID': '2', 'USER': 'yungshun', 'DESKTOP_SESSION': 'ubuntu', 'QT4_IM_MODULE': 'xim', 'TEXTDOMAINDIR': '/usr/share/locale/', 'GNOME_TERMINAL_SCREEN': '/org/gnome/Terminal/screen/ff94611f_cb46_4ff1_b194_9efdfab22086', 'PWD': '/home/yungshun/workspace/py/python-w3resource-exercises', 'HOME': '/home/yungshun', 'CONDA_PYTHON_EXE': '/home/yungshun/anaconda3/bin/python', 'TEXTDOMAIN': 'im-config', 'SSH_AGENT_PID': '2981', 'QT_ACCESSIBILITY': '1', 'XDG_SESSION_TYPE': 'x11', 'XDG_DATA_DIRS': '/usr/share/ubuntu:/usr/local/share/:/usr/share/:/var/lib/snapd/desktop', '_CE_CONDA': '', 'XDG_SESSION_DESKTOP': 'ubuntu', 'LC_ADDRESS': 'lzh_TW', 'LC_NUMERIC': 'lzh_TW', 'CONDA_PROMPT_MODIFIER': '(base) ', 'GTK_MODULES': 'gail:atk-bridge', 'PAPERSIZE': 'a4', 'WINDOWPATH': '2', 'TERM': 'xterm-color', 'VTE_VERSION': '5202', 'SHELL': '/bin/bash', 'QT_IM_MODULE': 'ibus', 'XMODIFIERS': '@im=ibus', 'IM_CONFIG_PHASE': '2', 'XDG_CURRENT_DESKTOP': 'ubuntu:GNOME', 'GPG_AGENT_INFO': '/run/user/1000/gnupg/S.gpg-agent:0:1', 'GNOME_TERMINAL_SERVICE': ':1.152', 'SHLVL': '1', 'XDG_SEAT': 'seat0', 'LANGUAGE': 'en_US:en', 'LC_TELEPHONE': 'lzh_TW', 'GDMSESSION': 'ubuntu', 'GNOME_DESKTOP_SESSION_ID': 'this-is-deprecated', 'LOGNAME': 'yungshun', 'DBUS_SESSION_BUS_ADDRESS': 'unix:path=/run/user/1000/bus', 'XDG_RUNTIME_DIR': '/run/user/1000', 'XAUTHORITY': '/run/user/1000/gdm/Xauthority', 'XDG_CONFIG_DIRS': '/etc/xdg/xdg-ubuntu:/etc/xdg', 'PATH': '/home/yungshun/yungshun-py3/bin:/home/yungshun/anaconda3/bin:/home/yungshun/anaconda3/condabin:/home/yungshun/.npm-global/bin:/usr/local/sbin:/usr/local/bin:/usr/sbin:/usr/bin:/sbin:/bin:/usr/games:/usr/local/games:/snap/bin', 'LC_IDENTIFICATION': 'lzh_TW', 'PS1': '(yungshun-py3) (base) \\\\[\\\\e]0;\\\\u@\\\\h: \\\\w\\\\a\\\\]${debian_chroot:+($debian_chroot)}\\\\[\\\\033[01;32m\\\\]\\\\u@\\\\h\\\\[\\\\033[00m\\\\]:\\\\[\\\\033[01;34m\\\\]\\\\w\\\\[\\\\033[00m\\\\]\\\\$ ', 'CONDA_DEFAULT_ENV': 'base', 'SESSION_MANAGER': 'local/yungshun-GF63-Thin-10SCSR:@/tmp/.ICE-unix/2904,unix/yungshun-GF63-Thin-10SCSR:/tmp/.ICE-unix/2904', 'LESSOPEN': '| /usr/bin/lesspipe %s', 'GTK_IM_MODULE': 'ibus', 'LC_TIME': 'lzh_TW', 'OLDPWD': '/home/yungshun/workspace/py', '_': '/home/yungshun/yungshun-py3/bin/jupyter', 'JPY_PARENT_PID': '12981', 'CLICOLOR': '1', 'PAGER': 'cat', 'GIT_PAGER': 'cat', 'MPLBACKEND': 'module://matplotlib_inline.backend_inline'})\n",
      "/home/yungshun\n",
      "/home/yungshun/yungshun-py3/bin:/home/yungshun/anaconda3/bin:/home/yungshun/anaconda3/condabin:/home/yungshun/.npm-global/bin:/usr/local/sbin:/usr/local/bin:/usr/sbin:/usr/bin:/sbin:/bin:/usr/games:/usr/local/games:/snap/bin\n"
     ]
    }
   ],
   "source": [
    "# `os.environ`\n",
    "import os\n",
    "\n",
    "print(os.environ)\n",
    "print(os.environ[\"HOME\"])\n",
    "print(os.environ[\"PATH\"])"
   ]
  },
  {
   "cell_type": "markdown",
   "id": "83db3ded",
   "metadata": {},
   "source": [
    "**54. Write a Python program to get the current username.**"
   ]
  },
  {
   "cell_type": "code",
   "execution_count": 77,
   "id": "5dbb432a",
   "metadata": {},
   "outputs": [
    {
     "name": "stdout",
     "output_type": "stream",
     "text": [
      "yungshun\n"
     ]
    }
   ],
   "source": [
    "# [1] `getpass` module\n",
    "import getpass\n",
    "\n",
    "print(getpass.getuser())"
   ]
  },
  {
   "cell_type": "code",
   "execution_count": 78,
   "id": "33ce46ac",
   "metadata": {},
   "outputs": [
    {
     "name": "stdout",
     "output_type": "stream",
     "text": [
      "yungshun\n"
     ]
    }
   ],
   "source": [
    "# [2] `pwd.getpwuid()` & `os.getuid()`\n",
    "import os, pwd\n",
    "\n",
    "def get_username():\n",
    "    # `pwd.getpwuid()` gets username from uid\n",
    "    return pwd.getpwuid(os.getuid())[0]\n",
    "\n",
    "print(get_username())"
   ]
  },
  {
   "cell_type": "markdown",
   "id": "7b993c46",
   "metadata": {},
   "source": [
    "**55. Write a Python program to find local IP addresses using Python's stdlib.**"
   ]
  },
  {
   "cell_type": "code",
   "execution_count": 79,
   "id": "8f4716bd",
   "metadata": {},
   "outputs": [
    {
     "name": "stdout",
     "output_type": "stream",
     "text": [
      "192.168.169.106\n"
     ]
    }
   ],
   "source": [
    "# `socket` module\n",
    "import socket\n",
    "\n",
    "print(\n",
    "    [\n",
    "        l for l in (\n",
    "            [\n",
    "                ip for ip in socket.gethostbyname_ex(socket.gethostname())[2] if not ip.startswith(\"127.\")\n",
    "            ][:1],\n",
    "            [\n",
    "                [\n",
    "                    (s.connect((\"8.8.8.8\", 53)), s.getsockname()[0], s.close()) for s in [socket.socket(socket.AF_INET, socket.SOCK_DGRAM)]\n",
    "                ][0][1]\n",
    "            ]\n",
    "        ) if l\n",
    "    ][0][0]\n",
    ")"
   ]
  },
  {
   "cell_type": "markdown",
   "id": "ca10d045",
   "metadata": {},
   "source": [
    "**56. Write a Python program to get the height and width of the console window.**"
   ]
  },
  {
   "cell_type": "code",
   "execution_count": 80,
   "id": "86825411",
   "metadata": {},
   "outputs": [],
   "source": [
    "# [1] `fcntl` & `termios` & `struct` modules\n",
    "import fcntl, termios, struct\n",
    "\n",
    "# Not work in Jupyter Notebook\n",
    "# def terminal_size():\n",
    "#     th, tw, hp, wp = struct.unpack(\"HHHH\", \n",
    "#                                    fcntl.ioctl(0, termios.TIOCGWINSZ,\n",
    "#                                    struct.pack(\"HHHH\", 0, 0, 0, 0)))\n",
    "#     return tw, th\n",
    "\n",
    "# print(\"Number of columns and rows:\", terminal_size())\n",
    "\n",
    "# Output\n",
    "# Number of columns and rows: (167, 42)"
   ]
  },
  {
   "cell_type": "code",
   "execution_count": 81,
   "id": "4a0ed6c9",
   "metadata": {},
   "outputs": [
    {
     "data": {
      "application/javascript": [
       "\n",
       "var outerWidth = window.outerWidth\n",
       "var outerHeight = window.outerHeight\n",
       "IPython.notebook.kernel.execute(\"outer_width = \" + outerWidth)\n",
       "IPython.notebook.kernel.execute(\"outer_height = \" + outerHeight)\n"
      ],
      "text/plain": [
       "<IPython.core.display.Javascript object>"
      ]
     },
     "metadata": {},
     "output_type": "display_data"
    }
   ],
   "source": [
    "%%javascript \n",
    "\n",
    "var outerWidth = window.outerWidth\n",
    "var outerHeight = window.outerHeight\n",
    "IPython.notebook.kernel.execute(\"outer_width = \" + outerWidth)\n",
    "IPython.notebook.kernel.execute(\"outer_height = \" + outerHeight)"
   ]
  },
  {
   "cell_type": "code",
   "execution_count": 82,
   "id": "e092b3f6",
   "metadata": {},
   "outputs": [
    {
     "name": "stdout",
     "output_type": "stream",
     "text": [
      "1853\n",
      "1053\n"
     ]
    }
   ],
   "source": [
    "# [2] `%%javascript` & `IPython.notebook.kernel.execute()` only for Jupyter Notebook\n",
    "print(outer_width)\n",
    "print(outer_height)"
   ]
  },
  {
   "cell_type": "markdown",
   "id": "ee41037d",
   "metadata": {},
   "source": [
    "**57. Write a Python program to get the execution time of a Python method.**"
   ]
  },
  {
   "cell_type": "code",
   "execution_count": 83,
   "id": "c9f69d4b",
   "metadata": {},
   "outputs": [
    {
     "name": "stdout",
     "output_type": "stream",
     "text": [
      "Sum of 1 to 100 is: 5050\n",
      "Required time to sum of 1 to 100 is: 2.956390380859375e-05\n"
     ]
    }
   ],
   "source": [
    "# [1] Pass Python function as a function argument & `time.time()`\n",
    "import time\n",
    "\n",
    "def execution_time(func, n):\n",
    "    start_time = time.time()\n",
    "    func(n)\n",
    "    end_time = time.time()\n",
    "    return end_time - start_time\n",
    "\n",
    "def sum_of_n_numbers(n):\n",
    "    result = 0\n",
    "    for i in range(1, n + 1):\n",
    "        result = result + i\n",
    "    print(\"Sum of 1 to\", n, \"is:\", result)\n",
    "\n",
    "n = 100\n",
    "print(\"Required time to sum of 1 to\", n, \"is:\", execution_time(sum_of_n_numbers, n))"
   ]
  },
  {
   "cell_type": "code",
   "execution_count": 84,
   "id": "12ba7fa1",
   "metadata": {},
   "outputs": [
    {
     "name": "stdout",
     "output_type": "stream",
     "text": [
      "Time to sum of 1 to 100 and required time to calculate is: (5050, 3.337860107421875e-06)\n"
     ]
    }
   ],
   "source": [
    "# [2] `time.time()`\n",
    "import time\n",
    "\n",
    "def sum_of_n_numbers(n):\n",
    "    start_time = time.time()\n",
    "    result = 0\n",
    "    for i in range(1, n + 1):\n",
    "        result = result + i\n",
    "    end_time = time.time()\n",
    "    return result, end_time - start_time\n",
    "\n",
    "n = 100\n",
    "print(\"Time to sum of 1 to\", n, \"and required time to calculate is:\", sum_of_n_numbers(n))"
   ]
  },
  {
   "cell_type": "markdown",
   "id": "1d3bfc4b",
   "metadata": {},
   "source": [
    "**58. Write a Python program to sum the first n positive integers.**"
   ]
  },
  {
   "cell_type": "code",
   "execution_count": 85,
   "id": "2a715dcc",
   "metadata": {},
   "outputs": [
    {
     "name": "stdout",
     "output_type": "stream",
     "text": [
      "Sum of first 100 positive integers is 5050\n"
     ]
    }
   ],
   "source": [
    "# [1] Function & `range()`\n",
    "def sum_first_n(n):\n",
    "    result = 0\n",
    "    for i in range(1, n + 1):\n",
    "        result = result + i\n",
    "    return result\n",
    "\n",
    "n = 100\n",
    "print(\"Sum of first\", n, \"positive integers is\", sum_first_n(n))"
   ]
  },
  {
   "cell_type": "code",
   "execution_count": 86,
   "id": "d76adaf1",
   "metadata": {},
   "outputs": [
    {
     "name": "stdout",
     "output_type": "stream",
     "text": [
      "Input a number: 100\n",
      "Sum of the first 100 positive integers: 5050.0\n"
     ]
    }
   ],
   "source": [
    "# [2] `input()` & `range()`\n",
    "n = int(input(\"Input a number: \"))\n",
    "\n",
    "sum_num = (n * (n + 1)) / 2\n",
    "\n",
    "print(\"Sum of the first\", n ,\"positive integers:\", sum_num)"
   ]
  },
  {
   "cell_type": "code",
   "execution_count": 87,
   "id": "ad599479",
   "metadata": {},
   "outputs": [
    {
     "name": "stdout",
     "output_type": "stream",
     "text": [
      "Input a number: 100\n",
      "Sum of the first 100 positive integers: 5050\n"
     ]
    }
   ],
   "source": [
    "# [3] `sum()` & `input()` & `range()` \n",
    "n = int(input(\"Input a number: \"))\n",
    "\n",
    "sum_num = sum(range(n + 1))\n",
    "\n",
    "print(\"Sum of the first\", n ,\"positive integers:\", sum_num)"
   ]
  },
  {
   "cell_type": "markdown",
   "id": "9829f7da",
   "metadata": {},
   "source": [
    "**59. Write a Python program to convert height (in feet and inches) to centimeters.**"
   ]
  },
  {
   "cell_type": "code",
   "execution_count": 92,
   "id": "b999beeb",
   "metadata": {},
   "outputs": [
    {
     "name": "stdout",
     "output_type": "stream",
     "text": [
      "175.26\n"
     ]
    }
   ],
   "source": [
    "# [1] Function\n",
    "def height_to_cm(h_ft, h_inch):\n",
    "    return h_ft * 30.48 + h_inch * 2.54\n",
    "\n",
    "print(height_to_cm(5, 9))"
   ]
  },
  {
   "cell_type": "code",
   "execution_count": 93,
   "id": "d3b3c334",
   "metadata": {},
   "outputs": [
    {
     "name": "stdout",
     "output_type": "stream",
     "text": [
      "Input your height:\n",
      "Feet: 5\n",
      "Inch: 9\n",
      "Your height is : 175 cm.\n"
     ]
    }
   ],
   "source": [
    "# [2] `input()`\n",
    "print(\"Input your height:\")\n",
    "h_ft = int(input(\"Feet: \"))\n",
    "h_inch = int(input(\"Inch: \"))\n",
    "\n",
    "h_inch = h_inch + h_ft * 12\n",
    "h_cm = round(h_inch * 2.54, 1)\n",
    "\n",
    "print(\"Your height is : %d cm.\" % h_cm)"
   ]
  },
  {
   "cell_type": "markdown",
   "id": "d64fb417",
   "metadata": {},
   "source": [
    "**60. Write a Python program to calculate the hypotenuse of a right angled triangle.**"
   ]
  },
  {
   "cell_type": "code",
   "execution_count": 95,
   "id": "b880dfca",
   "metadata": {},
   "outputs": [
    {
     "name": "stdout",
     "output_type": "stream",
     "text": [
      "5.0\n"
     ]
    }
   ],
   "source": [
    "# [1] Function\n",
    "from math import sqrt\n",
    "\n",
    "def hypotenuse(a, b):\n",
    "    return sqrt(a**2 + b**2)\n",
    "\n",
    "print(hypotenuse(3, 4))"
   ]
  },
  {
   "cell_type": "code",
   "execution_count": 96,
   "id": "b1a56c86",
   "metadata": {},
   "outputs": [
    {
     "name": "stdout",
     "output_type": "stream",
     "text": [
      "Input lengths of shorter triangle sides:\n",
      "a: 3\n",
      "b: 4\n",
      "The length of the hypotenuse is: 5.0\n"
     ]
    }
   ],
   "source": [
    "# [2] `input()`\n",
    "from math import sqrt\n",
    "\n",
    "print(\"Input lengths of shorter triangle sides:\")\n",
    "a = float(input(\"a: \"))\n",
    "b = float(input(\"b: \"))\n",
    "\n",
    "c = sqrt(a**2 + b**2)\n",
    "\n",
    "print(\"The length of the hypotenuse is:\", c)"
   ]
  },
  {
   "cell_type": "markdown",
   "id": "acc01609",
   "metadata": {},
   "source": [
    "**61. Write a Python program to convert the distance (in feet) to inches, yards, and miles.**"
   ]
  },
  {
   "cell_type": "code",
   "execution_count": 98,
   "id": "69066903",
   "metadata": {},
   "outputs": [
    {
     "name": "stdout",
     "output_type": "stream",
     "text": [
      "Input distance in feet: 100\n",
      "The distance in inches is 1200 inches.\n",
      "The distance in yards is 33.33 yards.\n",
      "The distance in miles is 0.02 miles.\n"
     ]
    }
   ],
   "source": [
    "# `%.2f`\n",
    "d_ft = int(input(\"Input distance in feet: \"))\n",
    "\n",
    "d_inches = d_ft * 12\n",
    "d_yards = d_ft / 3.0\n",
    "d_miles = d_ft / 5280.0\n",
    "\n",
    "print(\"The distance in inches is %i inches.\" % d_inches)\n",
    "print(\"The distance in yards is %.2f yards.\" % d_yards)\n",
    "print(\"The distance in miles is %.2f miles.\" % d_miles)"
   ]
  },
  {
   "cell_type": "markdown",
   "id": "cbab4ffd",
   "metadata": {},
   "source": [
    "**62. Write a Python program to convert all units of time into seconds.**"
   ]
  },
  {
   "cell_type": "code",
   "execution_count": 100,
   "id": "00c469e7",
   "metadata": {},
   "outputs": [
    {
     "name": "stdout",
     "output_type": "stream",
     "text": [
      "Input days: 4\n",
      "Input hours: 5\n",
      "Input minutes: 20\n",
      "Input seconds: 10\n",
      "The amounts of seconds is 364810\n"
     ]
    }
   ],
   "source": [
    "# `input()`\n",
    "days = int(input(\"Input days: \")) * 3600 * 24\n",
    "hours = int(input(\"Input hours: \")) * 3600\n",
    "minutes = int(input(\"Input minutes: \")) * 60\n",
    "seconds = int(input(\"Input seconds: \"))\n",
    "\n",
    "time = days + hours + minutes + seconds\n",
    "\n",
    "print(\"The amounts of seconds is\", time)"
   ]
  },
  {
   "cell_type": "markdown",
   "id": "b9256f9d",
   "metadata": {},
   "source": [
    "**63. Write a Python program to get an absolute file path.**"
   ]
  },
  {
   "cell_type": "code",
   "execution_count": 103,
   "id": "ac1bcaa2",
   "metadata": {},
   "outputs": [
    {
     "name": "stdout",
     "output_type": "stream",
     "text": [
      "Absolute file path: /home/yungshun/workspace/py/python-w3resource-exercises/python_basic.ipynb\n"
     ]
    }
   ],
   "source": [
    "# [1] `os.path.abspath()`\n",
    "import os\n",
    "\n",
    "print(\"Absolute file path:\", os.path.abspath(\"python_basic.ipynb\"))"
   ]
  },
  {
   "cell_type": "code",
   "execution_count": 104,
   "id": "59b8594e",
   "metadata": {},
   "outputs": [
    {
     "name": "stdout",
     "output_type": "stream",
     "text": [
      "/home/yungshun/workspace/py/python-w3resource-exercises/python_basic.ipynb\n"
     ]
    }
   ],
   "source": [
    "# [2] `pathlib.Path(param).resolve()`\n",
    "from pathlib import Path\n",
    "\n",
    "p = Path(\"python_basic.ipynb\").resolve()\n",
    "\n",
    "print(p)"
   ]
  },
  {
   "cell_type": "markdown",
   "id": "a13ad2b1",
   "metadata": {},
   "source": [
    "**64. Write a Python program that retrieves the date and time of file creation and modification.**"
   ]
  },
  {
   "cell_type": "code",
   "execution_count": 105,
   "id": "7f1abb09",
   "metadata": {},
   "outputs": [
    {
     "name": "stdout",
     "output_type": "stream",
     "text": [
      "Last modified: Wed May 17 12:46:45 2023\n",
      "Created: Wed May 17 12:46:45 2023\n"
     ]
    }
   ],
   "source": [
    "# `time.ctime()` & `os.path.getmtime()` & `os.path.getctime()`\n",
    "import os, time\n",
    "\n",
    "print(\"Last modified: %s\" % time.ctime(os.path.getmtime(\"python_basic.ipynb\")))\n",
    "# `getctime()` only returns the creation time on Windows\n",
    "# `getctime()` returns the time of the last change in Unix\n",
    "print(\"Created: %s\" % time.ctime(os.path.getctime(\"python_basic.ipynb\")))"
   ]
  },
  {
   "cell_type": "markdown",
   "id": "b873a07b",
   "metadata": {},
   "source": [
    "**65. Write a Python program that converts seconds into days, hours, minutes, and seconds.**"
   ]
  },
  {
   "cell_type": "code",
   "execution_count": 114,
   "id": "214ff7f1",
   "metadata": {},
   "outputs": [
    {
     "name": "stdout",
     "output_type": "stream",
     "text": [
      "d:h:m:s -> 14:6:56:7\n"
     ]
    }
   ],
   "source": [
    "# [1] `//` & `%` & Function \n",
    "def seconds_to_dhms(time):\n",
    "    days = time // (3600 * 24)\n",
    "    time = time % (3600 * 24)\n",
    "    hours = time // 3600\n",
    "    time = time % 3600\n",
    "    minutes = time // 60\n",
    "    seconds = time % 60\n",
    "    return days, hours, minutes, seconds\n",
    "\n",
    "print(\"d:h:m:s -> %d:%d:%d:%d\" % seconds_to_dhms(1234567))"
   ]
  },
  {
   "cell_type": "code",
   "execution_count": 115,
   "id": "623caf53",
   "metadata": {},
   "outputs": [
    {
     "name": "stdout",
     "output_type": "stream",
     "text": [
      "Input time in seconds: 1234567\n",
      "d:h:m:s -> 14:6:56:7\n"
     ]
    }
   ],
   "source": [
    "# [2] `//` & `%` & `input()`\n",
    "time = int(input(\"Input time in seconds: \"))\n",
    "\n",
    "days = time // (3600 * 24)\n",
    "time = time % (3600 * 24)\n",
    "hours = time // 3600\n",
    "time = time % 3600\n",
    "minutes = time // 60\n",
    "seconds = time % 60\n",
    "\n",
    "print(\"d:h:m:s -> %d:%d:%d:%d\" % (days, hours, minutes, seconds))"
   ]
  },
  {
   "cell_type": "markdown",
   "id": "992a69b3",
   "metadata": {},
   "source": [
    "**66. Write a Python program to calculate the body mass index.**"
   ]
  },
  {
   "cell_type": "code",
   "execution_count": 117,
   "id": "12e6f6d1",
   "metadata": {},
   "outputs": [
    {
     "name": "stdout",
     "output_type": "stream",
     "text": [
      "Input your height in meter: 1.76\n",
      "Input your weight in kilogram: 67.9\n",
      "Your body mass index is: 21.92\n"
     ]
    }
   ],
   "source": [
    "# `input()`\n",
    "height = float(input(\"Input your height in meter: \"))\n",
    "weight = float(input(\"Input your weight in kilogram: \"))\n",
    "\n",
    "print(\"Your body mass index is:\", round(weight / (height**2), 2))"
   ]
  },
  {
   "cell_type": "markdown",
   "id": "4cfca230",
   "metadata": {},
   "source": [
    "**67. Write a Python program to convert pressure in kilopascals to pounds per square inch, a millimeter of mercury (mmHg) and atmosphere pressure.**"
   ]
  },
  {
   "cell_type": "code",
   "execution_count": 119,
   "id": "e3021d3a",
   "metadata": {},
   "outputs": [
    {
     "name": "stdout",
     "output_type": "stream",
     "text": [
      "Input pressure in kilopascals: 12.35\n",
      "The pressure in pounds per square inch: 1.79 psi\n",
      "The pressure in millimeter of mercury: 92.63 mmHg\n",
      "Atmosphere pressure: 0.12 atm\n"
     ]
    }
   ],
   "source": [
    "# `input()`\n",
    "kpa = float(input(\"Input pressure in kilopascals: \"))\n",
    "\n",
    "psi = kpa / 6.89475729\n",
    "mmhg = kpa * 760 / 101.325\n",
    "atm = kpa / 101.325\n",
    "\n",
    "print(\"The pressure in pounds per square inch: %.2f psi\"  % (psi))\n",
    "print(\"The pressure in millimeter of mercury: %.2f mmHg\" % (mmhg))\n",
    "print(\"Atmosphere pressure: %.2f atm\" % (atm))"
   ]
  },
  {
   "cell_type": "markdown",
   "id": "324d5eb2",
   "metadata": {},
   "source": [
    "**68. Write a Python program to calculate sum of digits of a number.**"
   ]
  },
  {
   "cell_type": "code",
   "execution_count": 122,
   "id": "334f4215",
   "metadata": {},
   "outputs": [
    {
     "name": "stdout",
     "output_type": "stream",
     "text": [
      "28\n",
      "8\n",
      "11\n"
     ]
    }
   ],
   "source": [
    "# Loop iteration & `%` & `//`\n",
    "def sum_of_digits(n):\n",
    "    result = 0\n",
    "    while n != 0:\n",
    "        result = result + n % 10\n",
    "        n = n // 10\n",
    "    return result\n",
    "\n",
    "print(sum_of_digits(1234567))\n",
    "print(sum_of_digits(8))\n",
    "print(sum_of_digits(317))"
   ]
  },
  {
   "cell_type": "markdown",
   "id": "39111083",
   "metadata": {},
   "source": [
    "**69. Write a Python program to sort three integers without using conditional statements and loops.**"
   ]
  },
  {
   "cell_type": "code",
   "execution_count": 125,
   "id": "2a869f9d",
   "metadata": {},
   "outputs": [
    {
     "name": "stdout",
     "output_type": "stream",
     "text": [
      "Input first number: 5\n",
      "Input second number: 8\n",
      "Input third number: 3\n",
      "Numbers in sorted order: 3 5 8\n"
     ]
    }
   ],
   "source": [
    "# Trick using `min()` & `max()` & calculation\n",
    "x = int(input(\"Input first number: \"))\n",
    "y = int(input(\"Input second number: \"))\n",
    "z = int(input(\"Input third number: \"))\n",
    "\n",
    "a1 = min(x, y, z)\n",
    "a3 = max(x, y, z)\n",
    "a2 = (x + y + z) - a1 - a3\n",
    "\n",
    "print(\"Numbers in sorted order:\", a1, a2, a3)"
   ]
  },
  {
   "cell_type": "markdown",
   "id": "e0fea691",
   "metadata": {},
   "source": [
    "**70. Write a Python program to sort files by date.**"
   ]
  },
  {
   "cell_type": "code",
   "execution_count": 126,
   "id": "0e368a28",
   "metadata": {},
   "outputs": [
    {
     "name": "stdout",
     "output_type": "stream",
     "text": [
      "python_basic.py\n",
      "python_basic.ipynb\n"
     ]
    }
   ],
   "source": [
    "# [1] `glob` module\n",
    "import os, glob\n",
    "\n",
    "files = glob.glob(\"*\")\n",
    "files.sort(key=os.path.getmtime)\n",
    "\n",
    "print(\"\\n\".join(files))"
   ]
  },
  {
   "cell_type": "code",
   "execution_count": 128,
   "id": "8c89baa2",
   "metadata": {},
   "outputs": [
    {
     "name": "stdout",
     "output_type": "stream",
     "text": [
      ".gitignore\n",
      "python_basic.py\n",
      "python_basic.ipynb\n"
     ]
    }
   ],
   "source": [
    "# [2] `os.chdir()` & `os.listdir()` & `os.path.isfile()` & `filter()` & `map()`\n",
    "import os\n",
    "\n",
    "os.chdir(\"/home/yungshun/workspace/py/python-w3resource-exercises\")\n",
    "result = sorted(filter(os.path.isfile, os.listdir(\".\")), key=os.path.getmtime)\n",
    "\n",
    "print(\"\\n\".join(map(str, result)))"
   ]
  },
  {
   "cell_type": "code",
   "execution_count": null,
   "id": "ca5bdc01",
   "metadata": {},
   "outputs": [],
   "source": []
  }
 ],
 "metadata": {
  "kernelspec": {
   "display_name": "Python 3 (ipykernel)",
   "language": "python",
   "name": "python3"
  },
  "language_info": {
   "codemirror_mode": {
    "name": "ipython",
    "version": 3
   },
   "file_extension": ".py",
   "mimetype": "text/x-python",
   "name": "python",
   "nbconvert_exporter": "python",
   "pygments_lexer": "ipython3",
   "version": "3.8.8"
  }
 },
 "nbformat": 4,
 "nbformat_minor": 5
}

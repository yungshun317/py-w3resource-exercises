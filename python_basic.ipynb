{
 "cells": [
  {
   "cell_type": "markdown",
   "id": "e189fa05",
   "metadata": {},
   "source": [
    "# Python Basic\n",
    "\n",
    "**1. Write a Python program to print the following string in a specific format (see the output).**<br>\n",
    "\n",
    "<i>Sample String:</i> \n",
    "\n",
    "\"Twinkle, twinkle, little star, How I wonder what you are! Up above the world so high, Like a diamond in the sky. Twinkle, twinkle, little star, How I wonder what you are\"<br>\n",
    "\n",
    "<i>Output:</i>\n",
    "<pre>\n",
    "Twinkle, twinkle, little star,\n",
    "\tHow I wonder what you are!\n",
    "\t\tUp above the world so high,\t\t\n",
    "\t\tLike a diamond in the sky.\n",
    "Twinkle, twinkle, little star,\n",
    "\tHow I wonder what you are</pre>"
   ]
  },
  {
   "cell_type": "code",
   "execution_count": 1,
   "id": "763fb50c",
   "metadata": {},
   "outputs": [
    {
     "name": "stdout",
     "output_type": "stream",
     "text": [
      "Twinkle, twinkle, little star, \n",
      "\tHow I wonder what you are! \n",
      "\t\tUp above the world so high, \n",
      "\t\tLike a diamond in the sky. \n",
      "Twinkle, twinkle, little star, \n",
      "\tHow I wonder what you are\n"
     ]
    }
   ],
   "source": [
    "# `\\n` symbol means literally new line\n",
    "# `\\t` symbol means add a tab\n",
    "print(\"Twinkle, twinkle, little star, \\n\\tHow I wonder what you are! \\n\\t\\tUp above the world so high, \\n\\t\\tLike a diamond in the sky. \\nTwinkle, twinkle, little star, \\n\\tHow I wonder what you are\")"
   ]
  },
  {
   "cell_type": "markdown",
   "id": "d453d984",
   "metadata": {},
   "source": [
    "**2. Write a Python program to find out what version of Python you are using.**"
   ]
  },
  {
   "cell_type": "code",
   "execution_count": 4,
   "id": "2699fa3f",
   "metadata": {},
   "outputs": [
    {
     "name": "stdout",
     "output_type": "stream",
     "text": [
      "Python Version\n",
      "3.8.8 (default, Apr 13 2021, 19:58:26) \n",
      "[GCC 7.3.0]\n",
      "Version Info\n",
      "sys.version_info(major=3, minor=8, micro=8, releaselevel='final', serial=0)\n"
     ]
    }
   ],
   "source": [
    "# [1] `sys` module\n",
    "import sys\n",
    "\n",
    "print(\"Python Version\")\n",
    "print(sys.version)\n",
    "print(\"Version Info\")\n",
    "print(sys.version_info)"
   ]
  },
  {
   "cell_type": "code",
   "execution_count": 7,
   "id": "ed06f1ae",
   "metadata": {},
   "outputs": [
    {
     "name": "stdout",
     "output_type": "stream",
     "text": [
      "Python 3.8.8\r\n"
     ]
    }
   ],
   "source": [
    "# [2] Run shell command in Jupyter Notebook\n",
    "!python -V"
   ]
  },
  {
   "cell_type": "code",
   "execution_count": 8,
   "id": "e5808a52",
   "metadata": {},
   "outputs": [
    {
     "name": "stdout",
     "output_type": "stream",
     "text": [
      "Python 3.8.8\r\n"
     ]
    }
   ],
   "source": [
    "# [3] Run shell command in Jupyter Notebook\n",
    "!python --version"
   ]
  },
  {
   "cell_type": "code",
   "execution_count": 9,
   "id": "c88b2c12",
   "metadata": {},
   "outputs": [
    {
     "name": "stdout",
     "output_type": "stream",
     "text": [
      "3.8.8\n"
     ]
    }
   ],
   "source": [
    "# [4] `platform` module\n",
    "import platform\n",
    "\n",
    "print(platform.python_version())"
   ]
  },
  {
   "cell_type": "markdown",
   "id": "5d9e6498",
   "metadata": {},
   "source": [
    "**3. Write a Python program to display the current date and time.**<br>\n",
    "\n",
    "<i>Sample Output:</i>\n",
    "\n",
    "Current date and time:<br>\n",
    "2014-07-05 14:34:14"
   ]
  },
  {
   "cell_type": "code",
   "execution_count": 11,
   "id": "6c0d4fe4",
   "metadata": {},
   "outputs": [
    {
     "name": "stdout",
     "output_type": "stream",
     "text": [
      "Current date and time:\n",
      "2023-05-16 04:50:31\n"
     ]
    }
   ],
   "source": [
    "# `datetime.datetime.now()` & `date.strftime(format)`\n",
    "import datetime\n",
    "\n",
    "now = datetime.datetime.now()\n",
    "print(\"Current date and time:\")\n",
    "print(now.strftime(\"%Y-%m-%d %H:%M:%S\"))"
   ]
  },
  {
   "cell_type": "markdown",
   "id": "e0f228fe",
   "metadata": {},
   "source": [
    "**4. Write a Python program that calculates the area of a circle based on the radius entered by the user.**\n",
    "\n",
    "<i>Sample Output:</i><br>\n",
    "\n",
    "r = 1.1<br>\n",
    "Area = 3.8013271108436504"
   ]
  },
  {
   "cell_type": "code",
   "execution_count": 12,
   "id": "777149b0",
   "metadata": {},
   "outputs": [
    {
     "name": "stdout",
     "output_type": "stream",
     "text": [
      "Input the radius of the circle:1.1\n",
      "The area of the circle with radius 1.1 is: 3.8013271108436504\n"
     ]
    }
   ],
   "source": [
    "# `math.pi` & `input()`\n",
    "from math import pi\n",
    "\n",
    "r = float(input(\"Input the radius of the circle:\"))\n",
    "print(\"The area of the circle with radius \" + str(r) + \" is: \" + str(pi * r**2))"
   ]
  },
  {
   "cell_type": "markdown",
   "id": "eab5a9bb",
   "metadata": {},
   "source": [
    "**5. Write a Python program that accepts the user's first and last name and prints them in reverse order with a space between them.**"
   ]
  },
  {
   "cell_type": "code",
   "execution_count": 14,
   "id": "807a0168",
   "metadata": {},
   "outputs": [
    {
     "name": "stdout",
     "output_type": "stream",
     "text": [
      "Input your First Name: Yung-Shun\n",
      "Input your Last Name: Chang\n",
      "Hello Chang Yung-Shun\n"
     ]
    }
   ],
   "source": [
    "# `input()`\n",
    "fname = input(\"Input your First Name: \")\n",
    "lname = input(\"Input your Last Name: \")\n",
    "print(\"Hello \" + lname + \" \" + fname)"
   ]
  },
  {
   "cell_type": "markdown",
   "id": "3f59a52f",
   "metadata": {},
   "source": [
    "**6. Write a Python program that accepts a sequence of comma-separated numbers from the user and generates a list and a tuple of those numbers.**\n",
    "\n",
    "<i>Sample Data:</i><br>\n",
    "<br>\n",
    "3, 5, 7, 23\n",
    "\n",
    "<i>Output:</i><br>\n",
    "\n",
    "List : ['3', ' 5', ' 7', ' 23']<br>\n",
    "Tuple : ('3', ' 5', ' 7', ' 23')"
   ]
  },
  {
   "cell_type": "code",
   "execution_count": 15,
   "id": "6326ef9b",
   "metadata": {},
   "outputs": [
    {
     "name": "stdout",
     "output_type": "stream",
     "text": [
      "Input some comma-separated numbers: 3,5,8,17\n",
      "List:  ['3', '5', '8', '17']\n",
      "Tuple:  ('3', '5', '8', '17')\n"
     ]
    }
   ],
   "source": [
    "# `split()` for a list & `tuple()` for a tuple\n",
    "values = input(\"Input some comma-separated numbers: \")\n",
    "list = values.split(\",\")\n",
    "tuple = tuple(list)\n",
    "print(\"List: \", list)\n",
    "print(\"Tuple: \", tuple)"
   ]
  },
  {
   "cell_type": "markdown",
   "id": "dcdead5d",
   "metadata": {},
   "source": [
    "**7. Write a Python program that accepts a filename from the user and prints the extension of the file.**\n",
    "\n",
    "<i>Sample Filename:</i><br>\n",
    "\n",
    "abc.java\n",
    "\n",
    "<i>Output:</i>\n",
    "\n",
    "java"
   ]
  },
  {
   "cell_type": "code",
   "execution_count": 17,
   "id": "ad613a83",
   "metadata": {},
   "outputs": [
    {
     "name": "stdout",
     "output_type": "stream",
     "text": [
      "The extension of the file is: 'java'\n"
     ]
    }
   ],
   "source": [
    "# `split()` & `-1` as index\n",
    "filename = \"abc.java\"\n",
    "f_extns = filename.split(\".\")\n",
    "print(\"The extension of the file is: \" + repr(f_extns[-1]))"
   ]
  },
  {
   "cell_type": "markdown",
   "id": "ea1d93c1",
   "metadata": {},
   "source": [
    "**8. Write a Python program to display the first and last colors from the following list.**\n",
    "\n",
    "color_list = [\"Red\",\"Green\",\"White\" ,\"Black\"]"
   ]
  },
  {
   "cell_type": "code",
   "execution_count": 26,
   "id": "ad266d5d",
   "metadata": {},
   "outputs": [
    {
     "name": "stdout",
     "output_type": "stream",
     "text": [
      "Red Black\n"
     ]
    }
   ],
   "source": [
    "# `%s`\n",
    "color_list = [\"Red\", \"Green\", \"White\", \"Black\"]\n",
    "print(\"%s %s\" % (color_list[0], color_list[-1]))"
   ]
  },
  {
   "cell_type": "markdown",
   "id": "fede32bd",
   "metadata": {},
   "source": [
    "**9. Write a Python program to display the examination schedule. (extract the date from exam_st_date).**\n",
    "\n",
    "exam_st_date = (11, 12, 2014)\n",
    "\n",
    "<i>Sample Output:</i>\n",
    "\n",
    "The examination will start from : 11 / 12 / 2014"
   ]
  },
  {
   "cell_type": "code",
   "execution_count": 27,
   "id": "168202bb",
   "metadata": {},
   "outputs": [
    {
     "name": "stdout",
     "output_type": "stream",
     "text": [
      "The examination will start from: 11 / 12 / 2014\n"
     ]
    }
   ],
   "source": [
    "# `%i` formats the integers\n",
    "exam_st_date = (11, 12, 2014)\n",
    "print(\"The examination will start from: %i / %i / %i\" % exam_st_date)"
   ]
  },
  {
   "cell_type": "markdown",
   "id": "e08fe277",
   "metadata": {},
   "source": [
    "**10. Write a Python program that accepts an integer (n) and computes the value of n+nn+nnn.**\n",
    "\n",
    "<i>Sample Value:</i> \n",
    "\n",
    "n = 5\n",
    "\n",
    "<i>Expected Result:</i> \n",
    "\n",
    "615"
   ]
  },
  {
   "cell_type": "code",
   "execution_count": 29,
   "id": "36237630",
   "metadata": {},
   "outputs": [
    {
     "name": "stdout",
     "output_type": "stream",
     "text": [
      "Input an integer: 5\n",
      "615\n"
     ]
    }
   ],
   "source": [
    "# `int()` & `%s`\n",
    "n = int(input(\"Input an integer: \"))\n",
    "n1 = int(\"%s\" % n)\n",
    "n2 = int(\"%s%s\" % (n, n))\n",
    "n3 = int(\"%s%s%s\" % (n, n, n))\n",
    "print(n1 + n2 + n3)"
   ]
  },
  {
   "cell_type": "markdown",
   "id": "ad7868a0",
   "metadata": {},
   "source": [
    "**11. Write a Python program to print the documents (syntax, description etc.) of Python built-in function(s).**\n",
    "\n",
    "<i>Sample Function:</i> \n",
    "\n",
    "abs()\n",
    "\n",
    "<i>Expected Result:</i>\n",
    "\n",
    "abs(number) -> number<br>\n",
    "Return the absolute value of the argument."
   ]
  },
  {
   "cell_type": "code",
   "execution_count": 30,
   "id": "ee257b72",
   "metadata": {},
   "outputs": [
    {
     "name": "stdout",
     "output_type": "stream",
     "text": [
      "Return the absolute value of the argument.\n"
     ]
    }
   ],
   "source": [
    "# `__doc__`\n",
    "print(abs.__doc__)"
   ]
  },
  {
   "cell_type": "markdown",
   "id": "a1d02752",
   "metadata": {},
   "source": [
    "**12. Write a Python program that prints the calendar for a given month and year.**\n",
    "\n",
    "<i>Note:</i>\n",
    "\n",
    "Use \"calendar\" module."
   ]
  },
  {
   "cell_type": "code",
   "execution_count": 31,
   "id": "53c3c800",
   "metadata": {},
   "outputs": [
    {
     "name": "stdout",
     "output_type": "stream",
     "text": [
      "Input the year: 2023\n",
      "Input the month: 5\n",
      "      May 2023\n",
      "Mo Tu We Th Fr Sa Su\n",
      " 1  2  3  4  5  6  7\n",
      " 8  9 10 11 12 13 14\n",
      "15 16 17 18 19 20 21\n",
      "22 23 24 25 26 27 28\n",
      "29 30 31\n",
      "\n"
     ]
    }
   ],
   "source": [
    "# `calendar.month()`\n",
    "import calendar\n",
    "\n",
    "y = int(input(\"Input the year: \"))\n",
    "m = int(input(\"Input the month: \"))\n",
    "print(calendar.month(y, m))"
   ]
  },
  {
   "cell_type": "markdown",
   "id": "20465609",
   "metadata": {},
   "source": [
    "**13. Write a Python program to print the following \"here document\".**\n",
    "\n",
    "<i>Sample String:</i>\n",
    "<pre>\n",
    "a string that you \"don't\" have to escape\n",
    "This\n",
    "is a ....... multi-line\n",
    "heredoc string --------> example</pre>"
   ]
  },
  {
   "cell_type": "code",
   "execution_count": 32,
   "id": "227ddf01",
   "metadata": {},
   "outputs": [
    {
     "name": "stdout",
     "output_type": "stream",
     "text": [
      "\n",
      "a string that you \"don't\" have to escape\n",
      "This\n",
      "is a ....... multi-line\n",
      "heredoc string --------> example\n",
      "\n"
     ]
    }
   ],
   "source": [
    "# Here document (heredoc)\n",
    "# `print(\"\"\"sth\"\"\")`\n",
    "print(\"\"\"\n",
    "a string that you \"don't\" have to escape\n",
    "This\n",
    "is a ....... multi-line\n",
    "heredoc string --------> example\n",
    "\"\"\")"
   ]
  },
  {
   "cell_type": "markdown",
   "id": "6e3ea376",
   "metadata": {},
   "source": [
    "**14. Write a Python program to calculate the number of days between two dates.**\n",
    "\n",
    "<i>Sample Dates:</i> \n",
    "\n",
    "(2014, 7, 2), (2014, 7, 11)\n",
    "\n",
    "<i>Expected Output:</i> \n",
    "\n",
    "9 days"
   ]
  },
  {
   "cell_type": "code",
   "execution_count": 33,
   "id": "bbd966a6",
   "metadata": {},
   "outputs": [
    {
     "name": "stdout",
     "output_type": "stream",
     "text": [
      "9\n"
     ]
    }
   ],
   "source": [
    "# `datetime.date(year, month, day)` & `timedelta.days`\n",
    "# timedelta = date1 - date2\n",
    "from datetime import date\n",
    "\n",
    "f_date = date(2014, 7, 2)\n",
    "l_date = date(2014, 7, 11)\n",
    "delta = l_date - f_date\n",
    "print(delta.days)"
   ]
  },
  {
   "cell_type": "markdown",
   "id": "bc43ba41",
   "metadata": {},
   "source": [
    "**15. Write a Python program to get the volume of a sphere with radius six.**"
   ]
  },
  {
   "cell_type": "code",
   "execution_count": 36,
   "id": "5633d017",
   "metadata": {},
   "outputs": [
    {
     "name": "stdout",
     "output_type": "stream",
     "text": [
      "The volume of the sphere is: 904.7786842338603\n"
     ]
    }
   ],
   "source": [
    "# `math.pi`\n",
    "from math import pi\n",
    "\n",
    "r = 6.0\n",
    "V = 4.0 / 3.0 * pi * r**3\n",
    "print(\"The volume of the sphere is:\", V)"
   ]
  },
  {
   "cell_type": "markdown",
   "id": "fad0e3be",
   "metadata": {},
   "source": [
    "**16. Write a Python program to calculate the difference between a given number and 17. If the number is greater than 17, return twice the absolute difference.**"
   ]
  },
  {
   "cell_type": "code",
   "execution_count": 37,
   "id": "7f733ad3",
   "metadata": {},
   "outputs": [
    {
     "name": "stdout",
     "output_type": "stream",
     "text": [
      "14\n",
      "38\n"
     ]
    }
   ],
   "source": [
    "# if-else statement\n",
    "def difference(n):\n",
    "    if n <= 17:\n",
    "        return 17 - n\n",
    "    else:\n",
    "        return (n - 17) * 2\n",
    "\n",
    "print(difference(3))\n",
    "print(difference(36))"
   ]
  },
  {
   "cell_type": "markdown",
   "id": "9f35e5dd",
   "metadata": {},
   "source": [
    "**17. Write a Python program to test whether a number is within 100 of 1000 or 2000.**"
   ]
  },
  {
   "cell_type": "code",
   "execution_count": 39,
   "id": "0bea4b74",
   "metadata": {},
   "outputs": [
    {
     "name": "stdout",
     "output_type": "stream",
     "text": [
      "True\n",
      "True\n",
      "False\n"
     ]
    }
   ],
   "source": [
    "# if-else statement & `or`\n",
    "def near_thousand(n):\n",
    "    \"\"\"\n",
    "    if abs(n - 1000) <= 100 or abs (n - 2000) <= 100:\n",
    "        return True\n",
    "    else:\n",
    "        return False\n",
    "    \"\"\"\n",
    "    return ((abs(n - 1000) <= 100) or (abs(n - 2000) <= 100))\n",
    "    \n",
    "print(near_thousand(1024))\n",
    "print(near_thousand(2048))\n",
    "print(near_thousand(3178))"
   ]
  },
  {
   "cell_type": "markdown",
   "id": "626697f6",
   "metadata": {},
   "source": [
    "**18. Write a Python program to calculate the sum of three given numbers. If the values are equal, return three times their sum.**"
   ]
  },
  {
   "cell_type": "code",
   "execution_count": 42,
   "id": "a0e3ad4b",
   "metadata": {},
   "outputs": [
    {
     "name": "stdout",
     "output_type": "stream",
     "text": [
      "2006\n",
      "144\n"
     ]
    }
   ],
   "source": [
    "# if-else statement & `x == y == z`\n",
    "def sum_thrice(x, y, z):\n",
    "    sum = x + y + z  \n",
    "    if x == y == z:\n",
    "        sum = sum * 3\n",
    "    return sum\n",
    "    \n",
    "print(sum_thrice(1986, 3, 17))\n",
    "print(sum_thrice(16, 16, 16))"
   ]
  },
  {
   "cell_type": "markdown",
   "id": "7a598ed0",
   "metadata": {},
   "source": [
    "**19. Write a Python program to get a newly-generated string from a given string where \"Is\" has been added to the front. Return the string unchanged if the given string already begins with \"Is\".**"
   ]
  },
  {
   "cell_type": "code",
   "execution_count": 44,
   "id": "7cc2109d",
   "metadata": {},
   "outputs": [
    {
     "name": "stdout",
     "output_type": "stream",
     "text": [
      "IsArray\n",
      "IsEmpty\n"
     ]
    }
   ],
   "source": [
    "# `len()` & string slicing with `:` delimiter\n",
    "def new_string(text):\n",
    "    if len(text) >= 2 and text[:2] == \"Is\":\n",
    "        return text\n",
    "    return \"Is\" + text\n",
    "\n",
    "print(new_string(\"Array\"))\n",
    "print(new_string(\"IsEmpty\"))"
   ]
  },
  {
   "cell_type": "markdown",
   "id": "b66fee8f",
   "metadata": {},
   "source": [
    "**20. Write a Python program that returns a string that is n (non-negative integer) copies of a given string.**"
   ]
  },
  {
   "cell_type": "code",
   "execution_count": 47,
   "id": "70bc2baf",
   "metadata": {},
   "outputs": [
    {
     "name": "stdout",
     "output_type": "stream",
     "text": [
      "lovelovelove\n"
     ]
    }
   ],
   "source": [
    "# [1] `*` operator\n",
    "def larger_string(text, n):\n",
    "    return text * n\n",
    "\n",
    "print(larger_string(\"love\", 3))"
   ]
  },
  {
   "cell_type": "code",
   "execution_count": 48,
   "id": "0ad5b97a",
   "metadata": {},
   "outputs": [
    {
     "name": "stdout",
     "output_type": "stream",
     "text": [
      "hatehatehate\n"
     ]
    }
   ],
   "source": [
    "# [2] `+` operator & `range()`\n",
    "def larger_string(text, n):\n",
    "    result = \"\"\n",
    "    for i in range(n):\n",
    "        result = result + text\n",
    "    return result\n",
    "\n",
    "print(larger_string(\"hate\", 3))"
   ]
  },
  {
   "cell_type": "markdown",
   "id": "12984b77",
   "metadata": {},
   "source": [
    "**21. Write a Python program that determines whether a given number (accepted from the user) is even or odd, and prints an appropriate message to the user.**"
   ]
  },
  {
   "cell_type": "code",
   "execution_count": 49,
   "id": "86f4f943",
   "metadata": {},
   "outputs": [
    {
     "name": "stdout",
     "output_type": "stream",
     "text": [
      "Enter a number: 317\n",
      "This is an odd number.\n"
     ]
    }
   ],
   "source": [
    "# `%` operator\n",
    "num = int(input(\"Enter a number: \"))\n",
    "mod = num % 2\n",
    "if mod > 0:\n",
    "    print(\"This is an odd number.\")\n",
    "else:\n",
    "    print(\"This is an even number.\")"
   ]
  },
  {
   "cell_type": "markdown",
   "id": "6405579e",
   "metadata": {},
   "source": [
    "**22. Write a Python program to count the number 4 in a given list.**"
   ]
  },
  {
   "cell_type": "code",
   "execution_count": 54,
   "id": "8122e439",
   "metadata": {},
   "outputs": [
    {
     "name": "stdout",
     "output_type": "stream",
     "text": [
      "1\n",
      "3\n"
     ]
    }
   ],
   "source": [
    "# [1] for loop & list iteration\n",
    "def list_count_4(nums):\n",
    "    count = 0\n",
    "    for num in nums:\n",
    "        if num == 4:\n",
    "            count = count + 1\n",
    "    return count\n",
    "\n",
    "print(list_count_4([1, 2, 1, 2, 4, 5, 6, 7, 8, 9, 0]))\n",
    "print(list_count_4([5, 4, 1, 7, 5, 4, 3, 0, 1, 0, 4]))"
   ]
  },
  {
   "cell_type": "code",
   "execution_count": 55,
   "id": "333dece8",
   "metadata": {},
   "outputs": [
    {
     "name": "stdout",
     "output_type": "stream",
     "text": [
      "1\n",
      "3\n"
     ]
    }
   ],
   "source": [
    "# [2] while loop & list iteration\n",
    "def list_count_4(nums):\n",
    "    count = 0\n",
    "    i = 0\n",
    "    while i != len(nums):\n",
    "        if nums[i] == 4:\n",
    "            count = count + 1\n",
    "        i = i + 1\n",
    "    return count\n",
    "\n",
    "print(list_count_4([1, 2, 1, 2, 4, 5, 6, 7, 8, 9, 0]))\n",
    "print(list_count_4([5, 4, 1, 7, 5, 4, 3, 0, 1, 0, 4]))"
   ]
  },
  {
   "cell_type": "markdown",
   "id": "f87c543f",
   "metadata": {},
   "source": [
    "**23. Write a Python program to get n (non-negative integer) copies of the first 2 characters of a given string. Return n copies of the whole string if the length is less than 2.**"
   ]
  },
  {
   "cell_type": "code",
   "execution_count": 57,
   "id": "92c4fd74",
   "metadata": {},
   "outputs": [
    {
     "name": "stdout",
     "output_type": "stream",
     "text": [
      "hehehehehe\n",
      "aaaaa\n"
     ]
    }
   ],
   "source": [
    "# [1] `*` operator\n",
    "def substring_copy(text, n):\n",
    "    if len(text) < 2:\n",
    "        return n * text\n",
    "    else: \n",
    "        return n * text[:2]\n",
    "    \n",
    "print(substring_copy(\"hello\", 5))\n",
    "print(substring_copy(\"a\", 5))"
   ]
  },
  {
   "cell_type": "code",
   "execution_count": 60,
   "id": "85714e86",
   "metadata": {},
   "outputs": [
    {
     "name": "stdout",
     "output_type": "stream",
     "text": [
      "ststst\n",
      "ppp\n"
     ]
    }
   ],
   "source": [
    "# [2] `+` operator\n",
    "def substring_copy(text, n):\n",
    "    flen = 2\n",
    "    if flen > len(text):\n",
    "        flen = len(text)\n",
    "    substr = text[:flen]\n",
    "    result = \"\"\n",
    "    for i in range(n):\n",
    "        result = result + substr\n",
    "    return result\n",
    "\n",
    "print(substring_copy(\"strings\", 3))\n",
    "print(substring_copy(\"p\", 3))"
   ]
  },
  {
   "cell_type": "markdown",
   "id": "56280682",
   "metadata": {},
   "source": [
    "**24. Write a Python program to test whether a passed letter is a vowel or not.**"
   ]
  },
  {
   "cell_type": "code",
   "execution_count": 65,
   "id": "d8f54a2f",
   "metadata": {},
   "outputs": [
    {
     "name": "stdout",
     "output_type": "stream",
     "text": [
      "True\n",
      "False\n"
     ]
    }
   ],
   "source": [
    "# [1] `in` & list declaration\n",
    "def is_vowel(char):\n",
    "    # if char is lowercase\n",
    "    vowel = [\"a\", \"e\", \"i\", \"o\", \"u\"]\n",
    "    return char in vowel\n",
    "    \n",
    "print(is_vowel(\"u\"))\n",
    "print(is_vowel(\"j\"))"
   ]
  },
  {
   "cell_type": "code",
   "execution_count": 66,
   "id": "04d61cd7",
   "metadata": {},
   "outputs": [
    {
     "name": "stdout",
     "output_type": "stream",
     "text": [
      "True\n",
      "False\n",
      "False\n"
     ]
    }
   ],
   "source": [
    "# [2] `in` & string declaration\n",
    "def is_vowel(char):\n",
    "    # if char is lowercase\n",
    "    vowel = \"aeiou\"\n",
    "    return char in vowel\n",
    "    \n",
    "print(is_vowel(\"e\"))\n",
    "print(is_vowel(\"q\"))"
   ]
  },
  {
   "cell_type": "markdown",
   "id": "c293927b",
   "metadata": {},
   "source": [
    "**25. Write a Python program that checks whether a specified value is contained within a group of values.**\n",
    "\n",
    "<i>Test Data:</i>\n",
    "\n",
    "3 -> [1, 5, 8, 3] : True<br>\n",
    "-1 -> [1, 5, 8, 3] : False"
   ]
  },
  {
   "cell_type": "code",
   "execution_count": 69,
   "id": "66a0474b",
   "metadata": {},
   "outputs": [
    {
     "name": "stdout",
     "output_type": "stream",
     "text": [
      "True\n",
      "False\n"
     ]
    }
   ],
   "source": [
    "# Python list\n",
    "def is_group_member(group_data, n):\n",
    "    \"\"\"\n",
    "    for value in group_data:\n",
    "        if n == value:\n",
    "            return True\n",
    "    return False\n",
    "    \"\"\"\n",
    "    return n in group_data\n",
    "\n",
    "print(is_group_member([3, 5, 8, 16], 5))\n",
    "print(is_group_member([3, 5, 8, 16], 13))"
   ]
  },
  {
   "cell_type": "markdown",
   "id": "40bfeb2e",
   "metadata": {},
   "source": [
    "**26. Write a Python program to create a histogram from a given list of integers.**"
   ]
  },
  {
   "cell_type": "code",
   "execution_count": 70,
   "id": "8b201d15",
   "metadata": {},
   "outputs": [
    {
     "name": "stdout",
     "output_type": "stream",
     "text": [
      "*\n",
      "*********\n",
      "********\n",
      "******\n",
      "***\n",
      "*\n",
      "*******\n"
     ]
    }
   ],
   "source": [
    "# [1] `*` operator & print directly\n",
    "def histogram(items):\n",
    "    for n in items:\n",
    "        print(\"*\" * n)\n",
    "        \n",
    "histogram([1, 9, 8, 6, 3, 1, 7])"
   ]
  },
  {
   "cell_type": "code",
   "execution_count": 71,
   "id": "aa56d2ee",
   "metadata": {},
   "outputs": [
    {
     "name": "stdout",
     "output_type": "stream",
     "text": [
      "******\n",
      "*\n",
      "*****\n",
      "***\n",
      "*******\n",
      "*********\n"
     ]
    }
   ],
   "source": [
    "# [2] `+` operator & while loop\n",
    "def histogram(items):\n",
    "    for n in items:\n",
    "        output = \"\"\n",
    "        times = n\n",
    "        while times > 0:\n",
    "            output = output + \"*\"\n",
    "            times = times - 1\n",
    "        print(output)\n",
    "        \n",
    "histogram([6, 1, 5, 3, 7, 9])"
   ]
  },
  {
   "cell_type": "markdown",
   "id": "59d96405",
   "metadata": {},
   "source": [
    "**27. Write a Python program that concatenates all elements in a list into a string and returns it.**"
   ]
  },
  {
   "cell_type": "code",
   "execution_count": 74,
   "id": "c1984aa4",
   "metadata": {},
   "outputs": [
    {
     "name": "stdout",
     "output_type": "stream",
     "text": [
      "Write a Python program that concatenates all elements.\n"
     ]
    }
   ],
   "source": [
    "# `in` & string concatenation\n",
    "def concatenate_list_data(list):\n",
    "    result = \"\"\n",
    "    for element in list:\n",
    "        result = result + str(element)\n",
    "    return result\n",
    "\n",
    "print(concatenate_list_data([\"Write\", \" \", \"a Python program\", \" that\" + \" concatenates \" + \"all elements\", \".\"]))"
   ]
  },
  {
   "cell_type": "markdown",
   "id": "319e4afe",
   "metadata": {},
   "source": [
    "**28. Write a Python program to print all even numbers from a given list of numbers in the same order and stop printing any after 237 in the sequence.**\n",
    "\n",
    "<i>Sample Numbers List:</i>\n",
    "\n",
    "<pre>numbers = [    \n",
    "    386, 462, 47, 418, 907, 344, 236, 375, 823, 566, 597, 978, 328, 615, 953, 345, \n",
    "    399, 162, 758, 219, 918, 237, 412, 566, 826, 248, 866, 950, 626, 949, 687, 217, \n",
    "    815, 67, 104, 58, 512, 24, 892, 894, 767, 553, 81, 379, 843, 831, 445, 742, 717, \n",
    "    958, 743, 527\n",
    "    ]</pre>"
   ]
  },
  {
   "cell_type": "code",
   "execution_count": 76,
   "id": "15a27cb7",
   "metadata": {},
   "outputs": [
    {
     "name": "stdout",
     "output_type": "stream",
     "text": [
      "386\n",
      "462\n",
      "418\n",
      "344\n",
      "236\n",
      "566\n",
      "978\n",
      "328\n",
      "162\n",
      "758\n",
      "918\n",
      "237\n"
     ]
    }
   ],
   "source": [
    "# `break` in loop\n",
    "numbers = [    \n",
    "    386, 462, 47, 418, 907, 344, 236, 375, 823, 566, 597, 978, 328, 615, 953, 345, \n",
    "    399, 162, 758, 219, 918, 237, 412, 566, 826, 248, 866, 950, 626, 949, 687, 217, \n",
    "    815, 67, 104, 58, 512, 24, 892, 894, 767, 553, 81, 379, 843, 831, 445, 742, 717, \n",
    "    958, 743, 527\n",
    "    ]\n",
    "\n",
    "for item in numbers:\n",
    "    if item == 237:\n",
    "        print(item)\n",
    "        break\n",
    "    elif item % 2 == 0:\n",
    "        print(item)"
   ]
  },
  {
   "cell_type": "markdown",
   "id": "efb1631e",
   "metadata": {},
   "source": [
    "**29. Write a Python program that prints out all colors from color_list_1 that are not present in color_list_2.**\n",
    "\n",
    "<i>Test Data:</i>\n",
    "\n",
    "color_list_1 = set([\"White\", \"Black\", \"Red\"])<br>\n",
    "color_list_2 = set([\"Red\", \"Green\"])\n",
    "\n",
    "<i>Expected Output:</i>\n",
    "\n",
    "{'Black', 'White'}"
   ]
  },
  {
   "cell_type": "code",
   "execution_count": 77,
   "id": "ccaf4476",
   "metadata": {},
   "outputs": [
    {
     "name": "stdout",
     "output_type": "stream",
     "text": [
      "Original set elements:\n",
      "{'Black', 'Red', 'White'}\n",
      "{'Red', 'Green'}\n",
      "\n",
      "Different of color_list_1 and color_list_2:\n",
      "{'Black', 'White'}\n",
      "\n",
      "Different of color_list_2 and color_list_1:\n",
      "{'Green'}\n"
     ]
    }
   ],
   "source": [
    "# `different()` for sets\n",
    "color_list_1 = set([\"White\", \"Black\", \"Red\"])\n",
    "color_list_2 = set([\"Red\", \"Green\"])\n",
    "print(\"Original set elements:\")\n",
    "print(color_list_1)\n",
    "print(color_list_2)\n",
    "print(\"\\nDifferent of color_list_1 and color_list_2:\")\n",
    "print(color_list_1.difference(color_list_2))\n",
    "print(\"\\nDifferent of color_list_2 and color_list_1:\")\n",
    "print(color_list_2.difference(color_list_1))"
   ]
  },
  {
   "cell_type": "markdown",
   "id": "d2a90547",
   "metadata": {},
   "source": [
    "**30. Write a Python program that will accept the base and height of a triangle and compute its area.**"
   ]
  },
  {
   "cell_type": "code",
   "execution_count": 79,
   "id": "ce8a56ab",
   "metadata": {},
   "outputs": [
    {
     "name": "stdout",
     "output_type": "stream",
     "text": [
      "Input the base: 4\n",
      "Input the height: 5\n",
      "area =  10.0\n"
     ]
    }
   ],
   "source": [
    "b = int(input(\"Input the base: \"))\n",
    "h = int(input(\"Input the height: \"))\n",
    "area = b * h / 2\n",
    "print(\"area = \", area)"
   ]
  },
  {
   "cell_type": "markdown",
   "id": "329b13de",
   "metadata": {},
   "source": [
    "**31. Write a Python program that computes the greatest common divisor (GCD) of two positive integers.**"
   ]
  },
  {
   "cell_type": "code",
   "execution_count": 81,
   "id": "0b4e580d",
   "metadata": {},
   "outputs": [
    {
     "name": "stdout",
     "output_type": "stream",
     "text": [
      "20\n",
      "1\n",
      "16\n"
     ]
    }
   ],
   "source": [
    "# [1] while loop & `min()`\n",
    "def gcd(x, y):\n",
    "    i = min(x, y)\n",
    "    while i != 0:\n",
    "        if x % i == 0 and y % i == 0:\n",
    "            return i\n",
    "        else: \n",
    "            i = i - 1\n",
    "\n",
    "print(gcd(100, 120))\n",
    "print(gcd(13, 17))\n",
    "print(gcd(48, 16))"
   ]
  },
  {
   "cell_type": "code",
   "execution_count": 83,
   "id": "219c1fd2",
   "metadata": {},
   "outputs": [
    {
     "name": "stdout",
     "output_type": "stream",
     "text": [
      "20\n",
      "1\n",
      "16\n"
     ]
    }
   ],
   "source": [
    "# [2] for loop using `range()` in reverse\n",
    "def gcd(x, y):\n",
    "    gcd = 1\n",
    "    # assuming x >= y\n",
    "    if x % y == 0:\n",
    "        return y\n",
    "    for k in range(int(y/2), 0, -1):\n",
    "        if x % k == 0 and y % k == 0:\n",
    "            gcd = k\n",
    "            break\n",
    "    return gcd\n",
    "\n",
    "print(gcd(100, 120))\n",
    "print(gcd(13, 17))\n",
    "print(gcd(16, 48))"
   ]
  },
  {
   "cell_type": "markdown",
   "id": "8634a8a8",
   "metadata": {},
   "source": [
    "**32. Write a Python program to find the least common multiple (LCM) of two positive integers.**"
   ]
  },
  {
   "cell_type": "code",
   "execution_count": 87,
   "id": "2139b214",
   "metadata": {},
   "outputs": [
    {
     "name": "stdout",
     "output_type": "stream",
     "text": [
      "299\n",
      "160\n",
      "144\n"
     ]
    }
   ],
   "source": [
    "# [1] infinite loop & `max()`\n",
    "def lcm(x, y):\n",
    "    i = max(x, y)\n",
    "    while True:\n",
    "        if i % x == 0 and i % y == 0:\n",
    "            return i\n",
    "        i = i + 1\n",
    "        \n",
    "print(lcm(13, 23))\n",
    "print(lcm(20, 160))\n",
    "print(lcm(16, 36))"
   ]
  },
  {
   "cell_type": "code",
   "execution_count": 88,
   "id": "dc2eb83a",
   "metadata": {},
   "outputs": [
    {
     "name": "stdout",
     "output_type": "stream",
     "text": [
      "299\n",
      "160\n",
      "144\n"
     ]
    }
   ],
   "source": [
    "# [2] infinite loop & if-else statement\n",
    "def lcm(x, y):\n",
    "    if x > y:\n",
    "        z = x\n",
    "    else:\n",
    "        z = y\n",
    "    while(True):\n",
    "        if ((z % x == 0) and (z % y == 0)):\n",
    "            lcm = z\n",
    "            break\n",
    "        z = z + 1\n",
    "    return lcm\n",
    "\n",
    "print(lcm(13, 23))\n",
    "print(lcm(20, 160))\n",
    "print(lcm(36, 16))"
   ]
  },
  {
   "cell_type": "code",
   "execution_count": null,
   "id": "d97f7807",
   "metadata": {},
   "outputs": [],
   "source": []
  }
 ],
 "metadata": {
  "kernelspec": {
   "display_name": "Python 3 (ipykernel)",
   "language": "python",
   "name": "python3"
  },
  "language_info": {
   "codemirror_mode": {
    "name": "ipython",
    "version": 3
   },
   "file_extension": ".py",
   "mimetype": "text/x-python",
   "name": "python",
   "nbconvert_exporter": "python",
   "pygments_lexer": "ipython3",
   "version": "3.8.8"
  }
 },
 "nbformat": 4,
 "nbformat_minor": 5
}

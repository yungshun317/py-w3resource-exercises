{
 "cells": [
  {
   "cell_type": "markdown",
   "id": "ed1c7a0b",
   "metadata": {},
   "source": [
    "# Python Regular Expression\n",
    "\n",
    "**1. Write a Python program to check that a string contains only a certain set of characters (in this case a-z, A-Z and 0-9).**"
   ]
  },
  {
   "cell_type": "code",
   "execution_count": 5,
   "id": "e2d09cc8",
   "metadata": {},
   "outputs": [
    {
     "name": "stdout",
     "output_type": "stream",
     "text": [
      "True\n",
      "False\n"
     ]
    }
   ],
   "source": [
    "# [1] `re.compile()` & `re.search()`\n",
    "import re\n",
    "\n",
    "def is_allowed_specific_char(string):\n",
    "    pattern = re.compile(r\"[^a-zA-Z0-9]\")\n",
    "    matcher = pattern.search(string)\n",
    "    return not bool(matcher)\n",
    "\n",
    "print(is_allowed_specific_char(\"ABCDEFabcdef012345\"))\n",
    "print(is_allowed_specific_char(\"*&%@#!}{\"))"
   ]
  },
  {
   "cell_type": "code",
   "execution_count": 6,
   "id": "10f02982",
   "metadata": {},
   "outputs": [
    {
     "name": "stdout",
     "output_type": "stream",
     "text": [
      "True\n",
      "False\n"
     ]
    }
   ],
   "source": [
    "# [2] `re.search()`\n",
    "import re\n",
    "\n",
    "def is_allowed_specific_char(string):\n",
    "    matcher = re.search(r\"[^a-zA-Z0-9]\", string)\n",
    "    return not bool(matcher)\n",
    "\n",
    "print(is_allowed_specific_char(\"ABCDEFabcdef012345\"))\n",
    "print(is_allowed_specific_char(\"*&%@#!}{\"))"
   ]
  },
  {
   "cell_type": "markdown",
   "id": "8e859670",
   "metadata": {},
   "source": [
    "**2. Write a Python program that matches a string that has an a followed by zero or more b's.**"
   ]
  },
  {
   "cell_type": "code",
   "execution_count": 11,
   "id": "25f1dfe4",
   "metadata": {},
   "outputs": [
    {
     "name": "stdout",
     "output_type": "stream",
     "text": [
      "Not matched!\n",
      "Not matched!\n",
      "Found a match!\n",
      "Found a match!\n",
      "Found a match!\n"
     ]
    }
   ],
   "source": [
    "# [1] `re.search()` (anywhere)\n",
    "import re\n",
    "\n",
    "def match_pattern(string):\n",
    "    pattern = \"^a(b*)$\"\n",
    "    if re.search(pattern, string):\n",
    "        return \"Found a match!\"\n",
    "    else:\n",
    "        return \"Not matched!\"\n",
    "    \n",
    "print(match_pattern(\"ac\"))\n",
    "print(match_pattern(\"abc\"))\n",
    "print(match_pattern(\"a\"))\n",
    "print(match_pattern(\"ab\"))\n",
    "print(match_pattern(\"abb\"))"
   ]
  },
  {
   "cell_type": "code",
   "execution_count": 10,
   "id": "06f443f9",
   "metadata": {},
   "outputs": [
    {
     "name": "stdout",
     "output_type": "stream",
     "text": [
      "Not matched!\n",
      "Not matched!\n",
      "Found a match!\n",
      "Found a match!\n",
      "Found a match!\n"
     ]
    }
   ],
   "source": [
    "# [2] `re.match()` (at the beginning)\n",
    "import re\n",
    "\n",
    "def match_pattern(string):\n",
    "    pattern = \"^a(b*)$\"\n",
    "    if re.match(pattern, string):\n",
    "        return \"Found a match!\"\n",
    "    else:\n",
    "        return \"Not matched!\"\n",
    "    \n",
    "print(match_pattern(\"ac\"))\n",
    "print(match_pattern(\"abc\"))\n",
    "print(match_pattern(\"a\"))\n",
    "print(match_pattern(\"ab\"))\n",
    "print(match_pattern(\"abb\"))"
   ]
  },
  {
   "cell_type": "markdown",
   "id": "e124ca5a",
   "metadata": {},
   "source": [
    "**3. Write a Python program that matches a string that has an a followed by one or more b's.**"
   ]
  },
  {
   "cell_type": "code",
   "execution_count": 18,
   "id": "7fa99a99",
   "metadata": {},
   "outputs": [
    {
     "name": "stdout",
     "output_type": "stream",
     "text": [
      "Not matched!\n",
      "Found a match!\n",
      "Not matched!\n",
      "Found a match!\n",
      "Found a match!\n"
     ]
    }
   ],
   "source": [
    "# [1] `re.search()`\n",
    "import re\n",
    "\n",
    "def match_pattern(string):\n",
    "    pattern = \"ab+?\"\n",
    "    if re.search(pattern, string):\n",
    "        return \"Found a match!\"\n",
    "    else:\n",
    "        return \"Not matched!\"\n",
    "    \n",
    "print(match_pattern(\"ac\"))\n",
    "print(match_pattern(\"abc\"))\n",
    "print(match_pattern(\"a\"))\n",
    "print(match_pattern(\"ab\"))\n",
    "print(match_pattern(\"abb\"))"
   ]
  },
  {
   "cell_type": "code",
   "execution_count": 20,
   "id": "29167e97",
   "metadata": {},
   "outputs": [
    {
     "name": "stdout",
     "output_type": "stream",
     "text": [
      "Not matched!\n",
      "Found a match!\n",
      "Not matched!\n",
      "Found a match!\n",
      "Found a match!\n"
     ]
    }
   ],
   "source": [
    "# [2] `re.search()`\n",
    "import re\n",
    "\n",
    "def match_pattern(string):\n",
    "    pattern = \"a(b+)\"\n",
    "    if re.search(pattern, string):\n",
    "        return \"Found a match!\"\n",
    "    else:\n",
    "        return \"Not matched!\"\n",
    "    \n",
    "print(match_pattern(\"ac\"))\n",
    "print(match_pattern(\"abc\"))\n",
    "print(match_pattern(\"a\"))\n",
    "print(match_pattern(\"ab\"))\n",
    "print(match_pattern(\"abb\"))"
   ]
  },
  {
   "cell_type": "markdown",
   "id": "3ea4fe01",
   "metadata": {},
   "source": [
    "**4. Write a Python program that matches a string that has an a followed by zero or one 'b'.**"
   ]
  },
  {
   "cell_type": "code",
   "execution_count": 53,
   "id": "318f45ee",
   "metadata": {},
   "outputs": [
    {
     "name": "stdout",
     "output_type": "stream",
     "text": [
      "Found a match!\n",
      "Found a match!\n",
      "Found a match!\n",
      "Found a match!\n",
      "Found a match!\n"
     ]
    }
   ],
   "source": [
    "# [1] `re.search()`\n",
    "import re\n",
    "\n",
    "def match_pattern(string):\n",
    "    pattern = \"ab?\"\n",
    "    if re.search(pattern, string):\n",
    "        return \"Found a match!\"\n",
    "    else:\n",
    "        return \"Not matched!\"\n",
    "    \n",
    "print(match_pattern(\"ac\"))\n",
    "print(match_pattern(\"abc\"))\n",
    "print(match_pattern(\"a\"))\n",
    "print(match_pattern(\"ab\"))\n",
    "print(match_pattern(\"abb\"))"
   ]
  },
  {
   "cell_type": "code",
   "execution_count": 57,
   "id": "919c69d9",
   "metadata": {},
   "outputs": [
    {
     "name": "stdout",
     "output_type": "stream",
     "text": [
      "Found a match!\n",
      "Found a match!\n",
      "Found a match!\n",
      "Found a match!\n",
      "Not matched!\n"
     ]
    }
   ],
   "source": [
    "# [2] `re.search()` (no more)\n",
    "import re\n",
    "\n",
    "def match_pattern(string):\n",
    "    pattern = \"ab{0,1}(?!b)\"\n",
    "    if re.search(pattern, string):\n",
    "        return \"Found a match!\"\n",
    "    else:\n",
    "        return \"Not matched!\"\n",
    "    \n",
    "print(match_pattern(\"ac\"))\n",
    "print(match_pattern(\"abc\"))\n",
    "print(match_pattern(\"a\"))\n",
    "print(match_pattern(\"ab\"))\n",
    "print(match_pattern(\"abb\"))"
   ]
  },
  {
   "cell_type": "markdown",
   "id": "cb032443",
   "metadata": {},
   "source": [
    "**5. Write a Python program that matches a string that has an a followed by three 'b'.**"
   ]
  },
  {
   "cell_type": "code",
   "execution_count": 35,
   "id": "9d47bd34",
   "metadata": {},
   "outputs": [
    {
     "name": "stdout",
     "output_type": "stream",
     "text": [
      "Not matched!\n",
      "Not matched!\n",
      "Not matched!\n",
      "Not matched!\n",
      "Not matched!\n",
      "Found a match!\n",
      "Found a match!\n"
     ]
    }
   ],
   "source": [
    "# `re.search()`\n",
    "import re\n",
    "\n",
    "def match_pattern(string):\n",
    "    pattern = \"ab{3}?\"\n",
    "    if re.search(pattern, string):\n",
    "        return \"Found a match!\"\n",
    "    else:\n",
    "        return \"Not matched!\"\n",
    "\n",
    "print(match_pattern(\"ac\"))\n",
    "print(match_pattern(\"abc\"))\n",
    "print(match_pattern(\"a\"))\n",
    "print(match_pattern(\"ab\"))\n",
    "print(match_pattern(\"abb\"))\n",
    "print(match_pattern(\"abbb\"))\n",
    "print(match_pattern(\"aabbbbbc\"))"
   ]
  },
  {
   "cell_type": "markdown",
   "id": "a60ad142",
   "metadata": {},
   "source": [
    "**6. Write a Python program that matches a string that has an a followed by two to three 'b'.**"
   ]
  },
  {
   "cell_type": "code",
   "execution_count": 37,
   "id": "b8f16dfe",
   "metadata": {},
   "outputs": [
    {
     "name": "stdout",
     "output_type": "stream",
     "text": [
      "Not matched!\n",
      "Not matched!\n",
      "Not matched!\n",
      "Not matched!\n",
      "Found a match!\n",
      "Found a match!\n",
      "Found a match!\n"
     ]
    }
   ],
   "source": [
    "# `re.search()`\n",
    "import re\n",
    "\n",
    "def match_pattern(string):\n",
    "    pattern = \"ab{2,3}\"\n",
    "    if re.search(pattern, string):\n",
    "        return \"Found a match!\"\n",
    "    else:\n",
    "        return \"Not matched!\"\n",
    "\n",
    "print(match_pattern(\"ac\"))\n",
    "print(match_pattern(\"abc\"))\n",
    "print(match_pattern(\"a\"))\n",
    "print(match_pattern(\"ab\"))\n",
    "print(match_pattern(\"abb\"))\n",
    "print(match_pattern(\"abbb\"))\n",
    "print(match_pattern(\"aabbbbbc\"))"
   ]
  },
  {
   "cell_type": "markdown",
   "id": "ebb7d03d",
   "metadata": {},
   "source": [
    "**7. Write a Python program to find sequences of lowercase letters joined by an underscore.**"
   ]
  },
  {
   "cell_type": "code",
   "execution_count": 38,
   "id": "d026ca07",
   "metadata": {},
   "outputs": [
    {
     "name": "stdout",
     "output_type": "stream",
     "text": [
      "Found a match!\n",
      "Not matched!\n",
      "Not matched!\n"
     ]
    }
   ],
   "source": [
    "# `re.search()`\n",
    "import re\n",
    "\n",
    "def match_pattern(string):\n",
    "    pattern = \"^[a-z]+_[a-z]+$\"\n",
    "    if re.search(pattern, string):\n",
    "        return \"Found a match!\"\n",
    "    else:\n",
    "        return \"Not matched!\"\n",
    "    \n",
    "print(match_pattern(\"aab_cbbbc\"))\n",
    "print(match_pattern(\"aab_Abbbc\"))\n",
    "print(match_pattern(\"Aaab_abbbc\"))"
   ]
  },
  {
   "cell_type": "markdown",
   "id": "7d70ac4e",
   "metadata": {},
   "source": [
    "**8. Write a Python program to find the sequences of one upper case letter followed by lower case letters.**"
   ]
  },
  {
   "cell_type": "code",
   "execution_count": 41,
   "id": "ab681ab2",
   "metadata": {},
   "outputs": [
    {
     "name": "stdout",
     "output_type": "stream",
     "text": [
      "Found a match!\n",
      "Found a match!\n",
      "Not matched!\n",
      "Not matched!\n",
      "Not matched!\n",
      "Found a match!\n"
     ]
    }
   ],
   "source": [
    "# `re.search()`\n",
    "import re\n",
    "\n",
    "def match_pattern(string):\n",
    "    pattern = \"[A-Z]+[a-z]+$\"\n",
    "    if re.search(pattern, string):\n",
    "        return \"Found a match!\"\n",
    "    else:\n",
    "        return \"Not matched!\"\n",
    "    \n",
    "print(match_pattern(\"AaBbGg\"))\n",
    "print(match_pattern(\"Python\"))\n",
    "print(match_pattern(\"python\"))\n",
    "print(match_pattern(\"PYTHON\"))\n",
    "print(match_pattern(\"aA\"))\n",
    "print(match_pattern(\"Aa\"))"
   ]
  },
  {
   "cell_type": "markdown",
   "id": "efeabebd",
   "metadata": {},
   "source": [
    "**9. Write a Python program that matches a string that has an 'a' followed by anything ending in 'b'.**"
   ]
  },
  {
   "cell_type": "code",
   "execution_count": 50,
   "id": "fb46534c",
   "metadata": {},
   "outputs": [
    {
     "name": "stdout",
     "output_type": "stream",
     "text": [
      "Not matched!\n",
      "Not matched!\n",
      "Found a match!\n"
     ]
    }
   ],
   "source": [
    "# `re.search()`\n",
    "import re\n",
    "\n",
    "def match_pattern(string):\n",
    "    pattern = \"a.*?b$\"\n",
    "    if re.search(pattern, string):\n",
    "        return \"Found a match!\"\n",
    "    else:\n",
    "        return \"Not matched!\"\n",
    "\n",
    "print(match_pattern(\"aabbbbd\"))\n",
    "print(match_pattern(\"aabAbbbc\"))\n",
    "print(match_pattern(\"accddbbjjjb\"))"
   ]
  },
  {
   "cell_type": "markdown",
   "id": "ed53ef3a",
   "metadata": {},
   "source": [
    "**10. Write a Python program that matches a word at the beginning of a string.**"
   ]
  },
  {
   "cell_type": "code",
   "execution_count": 58,
   "id": "e042138d",
   "metadata": {},
   "outputs": [
    {
     "name": "stdout",
     "output_type": "stream",
     "text": [
      "Found a match!\n",
      "Not matched!\n"
     ]
    }
   ],
   "source": [
    "# `re.search()`\n",
    "import re\n",
    "\n",
    "def match_pattern(string):\n",
    "    pattern = \"^\\w+\"\n",
    "    if re.search(pattern, string):\n",
    "        return \"Found a match!\"\n",
    "    else:\n",
    "        return \"Not matched!\"\n",
    "    \n",
    "print(match_pattern(\"The quick brown fox jumps over the lazy dog.\"))\n",
    "print(match_pattern(\" The quick brown fox jumps over the lazy dog.\"))"
   ]
  },
  {
   "cell_type": "markdown",
   "id": "cc6702fc",
   "metadata": {},
   "source": [
    "**11. Write a Python program that matches a word at the end of a string, with optional punctuation.**"
   ]
  },
  {
   "cell_type": "code",
   "execution_count": 60,
   "id": "74911f58",
   "metadata": {},
   "outputs": [
    {
     "name": "stdout",
     "output_type": "stream",
     "text": [
      "Found a match!\n",
      "Not matched!\n",
      "Not matched!\n"
     ]
    }
   ],
   "source": [
    "# `re.search()`\n",
    "import re\n",
    "\n",
    "def match_pattern(string):\n",
    "    pattern = \"\\w+\\S*$\"\n",
    "    if re.search(pattern, string):\n",
    "        return \"Found a match!\"\n",
    "    else:\n",
    "        return \"Not matched!\"\n",
    "    \n",
    "print(match_pattern(\"The quick brown fox jumps over the lazy dog.\"))\n",
    "print(match_pattern(\"The quick brown fox jumps over the lazy dog. \"))\n",
    "print(match_pattern(\"The quick brown fox jumps over the lazy dog \"))"
   ]
  },
  {
   "cell_type": "markdown",
   "id": "c0099413",
   "metadata": {},
   "source": [
    "**12. Write a Python program that matches a word containing 'z'.**"
   ]
  },
  {
   "cell_type": "code",
   "execution_count": 74,
   "id": "e14c7b70",
   "metadata": {},
   "outputs": [
    {
     "name": "stdout",
     "output_type": "stream",
     "text": [
      "Found a match!\n",
      "Not matched!\n"
     ]
    }
   ],
   "source": [
    "# `re.search()`\n",
    "import re\n",
    "\n",
    "def match_pattern(string):\n",
    "    pattern = \"\\w*z\\w*\"\n",
    "    if re.search(pattern, string):\n",
    "        return \"Found a match!\"\n",
    "    else:\n",
    "        return \"Not matched!\"\n",
    "    \n",
    "print(match_pattern(\"The quick brown fox jumps over the lazy dog.\"))\n",
    "print(match_pattern(\"Python Exercises\"))"
   ]
  },
  {
   "cell_type": "markdown",
   "id": "feecdadd",
   "metadata": {},
   "source": [
    "**13. Write a Python program that matches a word containing 'z', not the start or end of the word.**"
   ]
  },
  {
   "cell_type": "code",
   "execution_count": 82,
   "id": "15440ff9",
   "metadata": {},
   "outputs": [
    {
     "name": "stdout",
     "output_type": "stream",
     "text": [
      "Found a match!\n",
      "Not matched!\n",
      "Not matched!\n",
      "Not matched!\n"
     ]
    }
   ],
   "source": [
    "# [1] `re.search()`\n",
    "import re\n",
    "\n",
    "def match_pattern(string):\n",
    "    pattern = \"\\w+z\\w+\"\n",
    "    if re.search(pattern, string):\n",
    "        return \"Found a match!\"\n",
    "    else:\n",
    "        return \"Not matched!\"\n",
    "\n",
    "print(match_pattern(\"The quick brown fox jumps over the lazy dog.\"))\n",
    "print(match_pattern(\"Python Exercises\"))\n",
    "print(match_pattern(\"Zoo\"))\n",
    "print(match_pattern(\"Gigahertz\"))"
   ]
  },
  {
   "cell_type": "code",
   "execution_count": 81,
   "id": "d398cc8e",
   "metadata": {},
   "outputs": [
    {
     "name": "stdout",
     "output_type": "stream",
     "text": [
      "Found a match!\n",
      "Not matched!\n",
      "Not matched!\n",
      "Not matched!\n"
     ]
    }
   ],
   "source": [
    "# [2] `re.search()`\n",
    "import re\n",
    "\n",
    "def match_pattern(string):\n",
    "    pattern = \"\\Bz\\B\"\n",
    "    if re.search(pattern, string):\n",
    "        return \"Found a match!\"\n",
    "    else:\n",
    "        return \"Not matched!\"\n",
    "\n",
    "print(match_pattern(\"The quick brown fox jumps over the lazy dog.\"))\n",
    "print(match_pattern(\"Python Exercises\"))\n",
    "print(match_pattern(\"Zoo\"))\n",
    "print(match_pattern(\"Gigahertz\"))"
   ]
  },
  {
   "cell_type": "markdown",
   "id": "d927f556",
   "metadata": {},
   "source": [
    "**14. Write a Python program to match a string that contains only upper and lowercase letters, numbers, and underscores.**"
   ]
  },
  {
   "cell_type": "code",
   "execution_count": 86,
   "id": "c52fbcf7",
   "metadata": {},
   "outputs": [
    {
     "name": "stdout",
     "output_type": "stream",
     "text": [
      "Not matched!\n",
      "Found a match!\n"
     ]
    }
   ],
   "source": [
    "# `re.search()`\n",
    "import re\n",
    "\n",
    "def match_pattern(string):\n",
    "    pattern = \"^[a-zA-Z0-9_]*$\"\n",
    "    if re.search(pattern, string):\n",
    "        return \"Found a match!\"\n",
    "    else:\n",
    "        return \"Not matched!\"\n",
    "    \n",
    "print(match_pattern(\"The quick brown fox jumps over the lazy dog.\"))\n",
    "print(match_pattern(\"python_exercises\"))"
   ]
  },
  {
   "cell_type": "markdown",
   "id": "d1dd8585",
   "metadata": {},
   "source": [
    "**15. Write a Python program that starts each string with a specific number.**"
   ]
  },
  {
   "cell_type": "code",
   "execution_count": 92,
   "id": "de8837da",
   "metadata": {},
   "outputs": [
    {
     "name": "stdout",
     "output_type": "stream",
     "text": [
      "False\n",
      "False\n",
      "True\n"
     ]
    }
   ],
   "source": [
    "# `re.search()`\n",
    "import re\n",
    "\n",
    "def start_with_specific_num(string, num):\n",
    "    pattern = r\"^{}\".format(num) \n",
    "    if re.search(pattern, string):\n",
    "        return True\n",
    "    else:\n",
    "        return False\n",
    "\n",
    "print(start_with_specific_num(\"ABCDEFabcdef012345\", 1))\n",
    "print(start_with_specific_num(\"*&%@#!}{\", 1))\n",
    "print(start_with_specific_num(\"1234567890\", 1))"
   ]
  },
  {
   "cell_type": "markdown",
   "id": "9d12520b",
   "metadata": {},
   "source": [
    "**16. Write a Python program to remove leading zeros from an IP address.**"
   ]
  },
  {
   "cell_type": "code",
   "execution_count": 94,
   "id": "c073ce73",
   "metadata": {},
   "outputs": [
    {
     "name": "stdout",
     "output_type": "stream",
     "text": [
      "216.8.94.196\n"
     ]
    }
   ],
   "source": [
    "# `re.sub()`\n",
    "import re\n",
    "\n",
    "ip = \"216.08.094.196\"\n",
    "print(re.sub(\"\\.[0]*\", \".\", ip))"
   ]
  },
  {
   "cell_type": "markdown",
   "id": "c9ea22e4",
   "metadata": {},
   "source": [
    "**17. Write a Python program to check for a number at the end of a string.**"
   ]
  },
  {
   "cell_type": "code",
   "execution_count": 98,
   "id": "05b53254",
   "metadata": {},
   "outputs": [
    {
     "name": "stdout",
     "output_type": "stream",
     "text": [
      "True\n",
      "False\n",
      "True\n"
     ]
    }
   ],
   "source": [
    "# `re.search()`\n",
    "import re\n",
    "\n",
    "def end_with_specific_num(string, num):\n",
    "    pattern = r\"{}$\".format(num)\n",
    "    if re.search(pattern, string):\n",
    "        return True\n",
    "    else:\n",
    "        return False\n",
    "\n",
    "print(end_with_specific_num(\"ABCDEFabcdef012345\", 5))\n",
    "print(end_with_specific_num(\"*&%@#!}{\", 1))\n",
    "print(end_with_specific_num(\"1234567890\", 0))"
   ]
  },
  {
   "cell_type": "markdown",
   "id": "c15aff6d",
   "metadata": {},
   "source": [
    "**18. Write a Python program to search for numbers (0-9) of length between 1 and 3 in a given string.**\n",
    "\n",
    "\"Exercises number 1, 12, 13, and 345 are important\""
   ]
  },
  {
   "cell_type": "code",
   "execution_count": 102,
   "id": "f8f1e232",
   "metadata": {},
   "outputs": [
    {
     "name": "stdout",
     "output_type": "stream",
     "text": [
      "Number of length 1 to 3\n",
      "1\n",
      "12\n",
      "13\n",
      "345\n"
     ]
    }
   ],
   "source": [
    "# `re.finditer()`\n",
    "import re\n",
    "\n",
    "nums = re.finditer(r\"[0-9]{1,3}\", \"Exercises number 1, 12, 13, and 345 are important\")\n",
    "print(\"Number of length 1 to 3\")\n",
    "for num in nums:\n",
    "    print(num.group(0))"
   ]
  },
  {
   "cell_type": "markdown",
   "id": "47841b26",
   "metadata": {},
   "source": [
    "**19. Write a Python program to search for literal strings within a string.**\n",
    "\n",
    "<i>Sample text:</i> \n",
    "\n",
    "'The quick brown fox jumps over the lazy dog.'\n",
    "\n",
    "<i>Searched words:</i>\n",
    "\n",
    "'fox', 'dog', 'horse'"
   ]
  },
  {
   "cell_type": "code",
   "execution_count": 104,
   "id": "3d07382e",
   "metadata": {},
   "outputs": [
    {
     "name": "stdout",
     "output_type": "stream",
     "text": [
      "Search for 'fox' in 'The quick brown fox jumps over the lazy dog.' ->\n",
      "Found a match!\n",
      "Search for 'dog' in 'The quick brown fox jumps over the lazy dog.' ->\n",
      "Found a match!\n",
      "Search for 'horse' in 'The quick brown fox jumps over the lazy dog.' ->\n",
      "Not matched!\n"
     ]
    }
   ],
   "source": [
    "# `re.search()`\n",
    "import re\n",
    "\n",
    "def search_for_patterns(string, *patterns):\n",
    "    for pattern in patterns:\n",
    "        print(\"Search for '%s' in '%s' ->\" % (pattern, string))\n",
    "        if re.search(pattern, string):\n",
    "            print(\"Found a match!\")\n",
    "        else:\n",
    "            print(\"Not matched!\")\n",
    "    \n",
    "search_for_patterns(\"The quick brown fox jumps over the lazy dog.\", \"fox\", \"dog\", \"horse\")"
   ]
  },
  {
   "cell_type": "markdown",
   "id": "cb6de20a",
   "metadata": {},
   "source": [
    "**20. Write a Python program to search for a literal string in a string and also find the location within the original string where the pattern occurs.**\n",
    "\n",
    "<i>Sample text:</i> \n",
    "\n",
    "'The quick brown fox jumps over the lazy dog.'\n",
    "\n",
    "<i>Searched words:</i> \n",
    "\n",
    "'fox'"
   ]
  },
  {
   "cell_type": "code",
   "execution_count": 107,
   "id": "26077256",
   "metadata": {},
   "outputs": [
    {
     "name": "stdout",
     "output_type": "stream",
     "text": [
      "Found 'fox' in 'The quick brown fox jumps over the lazy dog.' from 16 to 19.\n"
     ]
    }
   ],
   "source": [
    "# `re.search()`\n",
    "import re\n",
    "\n",
    "def search_for_pattern(string, pattern):\n",
    "    match = re.search(pattern, string)\n",
    "    start = match.start()\n",
    "    end = match.end()\n",
    "    print(\"Found '%s' in '%s' from %d to %d.\" % (match.re.pattern, match.string, start, end))\n",
    "    \n",
    "search_for_pattern(\"The quick brown fox jumps over the lazy dog.\", \"fox\")"
   ]
  },
  {
   "cell_type": "code",
   "execution_count": null,
   "id": "5d542e4d",
   "metadata": {},
   "outputs": [],
   "source": []
  }
 ],
 "metadata": {
  "kernelspec": {
   "display_name": "Python 3 (ipykernel)",
   "language": "python",
   "name": "python3"
  },
  "language_info": {
   "codemirror_mode": {
    "name": "ipython",
    "version": 3
   },
   "file_extension": ".py",
   "mimetype": "text/x-python",
   "name": "python",
   "nbconvert_exporter": "python",
   "pygments_lexer": "ipython3",
   "version": "3.8.8"
  }
 },
 "nbformat": 4,
 "nbformat_minor": 5
}

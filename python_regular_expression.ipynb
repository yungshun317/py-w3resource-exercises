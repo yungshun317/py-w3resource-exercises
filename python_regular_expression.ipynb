{
 "cells": [
  {
   "cell_type": "markdown",
   "id": "d33f01c0",
   "metadata": {},
   "source": [
    "# Python Regular Expression\n",
    "\n",
    "**1. Write a Python program to check that a string contains only a certain set of characters (in this case a-z, A-Z and 0-9).**"
   ]
  },
  {
   "cell_type": "code",
   "execution_count": 5,
   "id": "986b6a7c",
   "metadata": {},
   "outputs": [
    {
     "name": "stdout",
     "output_type": "stream",
     "text": [
      "True\n",
      "False\n"
     ]
    }
   ],
   "source": [
    "# [1] `re.compile()` & `re.search()`\n",
    "import re\n",
    "\n",
    "def is_allowed_specific_char(string):\n",
    "    pattern = re.compile(r\"[^a-zA-Z0-9]\")\n",
    "    matcher = pattern.search(string)\n",
    "    return not bool(matcher)\n",
    "\n",
    "print(is_allowed_specific_char(\"ABCDEFabcdef012345\"))\n",
    "print(is_allowed_specific_char(\"*&%@#!}{\"))"
   ]
  },
  {
   "cell_type": "code",
   "execution_count": 6,
   "id": "242994b7",
   "metadata": {},
   "outputs": [
    {
     "name": "stdout",
     "output_type": "stream",
     "text": [
      "True\n",
      "False\n"
     ]
    }
   ],
   "source": [
    "# [2] `re.search()`\n",
    "import re\n",
    "\n",
    "def is_allowed_specific_char(string):\n",
    "    matcher = re.search(r\"[^a-zA-Z0-9]\", string)\n",
    "    return not bool(matcher)\n",
    "\n",
    "print(is_allowed_specific_char(\"ABCDEFabcdef012345\"))\n",
    "print(is_allowed_specific_char(\"*&%@#!}{\"))"
   ]
  },
  {
   "cell_type": "markdown",
   "id": "da8b7959",
   "metadata": {},
   "source": [
    "**2. Write a Python program that matches a string that has an a followed by zero or more b's.**"
   ]
  },
  {
   "cell_type": "code",
   "execution_count": 11,
   "id": "3158c670",
   "metadata": {},
   "outputs": [
    {
     "name": "stdout",
     "output_type": "stream",
     "text": [
      "Not matched!\n",
      "Not matched!\n",
      "Found a match!\n",
      "Found a match!\n",
      "Found a match!\n"
     ]
    }
   ],
   "source": [
    "# [1] `re.search()` (anywhere)\n",
    "import re\n",
    "\n",
    "def match_pattern(string):\n",
    "    pattern = \"^a(b*)$\"\n",
    "    if re.search(pattern, string):\n",
    "        return \"Found a match!\"\n",
    "    else:\n",
    "        return \"Not matched!\"\n",
    "    \n",
    "print(match_pattern(\"ac\"))\n",
    "print(match_pattern(\"abc\"))\n",
    "print(match_pattern(\"a\"))\n",
    "print(match_pattern(\"ab\"))\n",
    "print(match_pattern(\"abb\"))"
   ]
  },
  {
   "cell_type": "code",
   "execution_count": 10,
   "id": "fe25e56e",
   "metadata": {},
   "outputs": [
    {
     "name": "stdout",
     "output_type": "stream",
     "text": [
      "Not matched!\n",
      "Not matched!\n",
      "Found a match!\n",
      "Found a match!\n",
      "Found a match!\n"
     ]
    }
   ],
   "source": [
    "# [2] `re.match()` (at the beginning)\n",
    "import re\n",
    "\n",
    "def match_pattern(string):\n",
    "    pattern = \"^a(b*)$\"\n",
    "    if re.match(pattern, string):\n",
    "        return \"Found a match!\"\n",
    "    else:\n",
    "        return \"Not matched!\"\n",
    "    \n",
    "print(match_pattern(\"ac\"))\n",
    "print(match_pattern(\"abc\"))\n",
    "print(match_pattern(\"a\"))\n",
    "print(match_pattern(\"ab\"))\n",
    "print(match_pattern(\"abb\"))"
   ]
  },
  {
   "cell_type": "markdown",
   "id": "221093b7",
   "metadata": {},
   "source": [
    "**3. Write a Python program that matches a string that has an a followed by one or more b's.**"
   ]
  },
  {
   "cell_type": "code",
   "execution_count": 18,
   "id": "8cd899f6",
   "metadata": {},
   "outputs": [
    {
     "name": "stdout",
     "output_type": "stream",
     "text": [
      "Not matched!\n",
      "Found a match!\n",
      "Not matched!\n",
      "Found a match!\n",
      "Found a match!\n"
     ]
    }
   ],
   "source": [
    "# [1] `re.search()`\n",
    "import re\n",
    "\n",
    "def match_pattern(string):\n",
    "    pattern = \"ab+?\"\n",
    "    if re.search(pattern, string):\n",
    "        return \"Found a match!\"\n",
    "    else:\n",
    "        return \"Not matched!\"\n",
    "    \n",
    "print(match_pattern(\"ac\"))\n",
    "print(match_pattern(\"abc\"))\n",
    "print(match_pattern(\"a\"))\n",
    "print(match_pattern(\"ab\"))\n",
    "print(match_pattern(\"abb\"))"
   ]
  },
  {
   "cell_type": "code",
   "execution_count": 20,
   "id": "1a5eae5f",
   "metadata": {},
   "outputs": [
    {
     "name": "stdout",
     "output_type": "stream",
     "text": [
      "Not matched!\n",
      "Found a match!\n",
      "Not matched!\n",
      "Found a match!\n",
      "Found a match!\n"
     ]
    }
   ],
   "source": [
    "# [2] `re.search()`\n",
    "import re\n",
    "\n",
    "def match_pattern(string):\n",
    "    pattern = \"a(b+)\"\n",
    "    if re.search(pattern, string):\n",
    "        return \"Found a match!\"\n",
    "    else:\n",
    "        return \"Not matched!\"\n",
    "    \n",
    "print(match_pattern(\"ac\"))\n",
    "print(match_pattern(\"abc\"))\n",
    "print(match_pattern(\"a\"))\n",
    "print(match_pattern(\"ab\"))\n",
    "print(match_pattern(\"abb\"))"
   ]
  },
  {
   "cell_type": "markdown",
   "id": "d4e98e65",
   "metadata": {},
   "source": [
    "**4. Write a Python program that matches a string that has an a followed by zero or one 'b'.**"
   ]
  },
  {
   "cell_type": "code",
   "execution_count": 53,
   "id": "5eada601",
   "metadata": {},
   "outputs": [
    {
     "name": "stdout",
     "output_type": "stream",
     "text": [
      "Found a match!\n",
      "Found a match!\n",
      "Found a match!\n",
      "Found a match!\n",
      "Found a match!\n"
     ]
    }
   ],
   "source": [
    "# [1] `re.search()`\n",
    "import re\n",
    "\n",
    "def match_pattern(string):\n",
    "    pattern = \"ab?\"\n",
    "    if re.search(pattern, string):\n",
    "        return \"Found a match!\"\n",
    "    else:\n",
    "        return \"Not matched!\"\n",
    "    \n",
    "print(match_pattern(\"ac\"))\n",
    "print(match_pattern(\"abc\"))\n",
    "print(match_pattern(\"a\"))\n",
    "print(match_pattern(\"ab\"))\n",
    "print(match_pattern(\"abb\"))"
   ]
  },
  {
   "cell_type": "code",
   "execution_count": 57,
   "id": "d8415745",
   "metadata": {},
   "outputs": [
    {
     "name": "stdout",
     "output_type": "stream",
     "text": [
      "Found a match!\n",
      "Found a match!\n",
      "Found a match!\n",
      "Found a match!\n",
      "Not matched!\n"
     ]
    }
   ],
   "source": [
    "# [2] `re.search()` (no more)\n",
    "import re\n",
    "\n",
    "def match_pattern(string):\n",
    "    pattern = \"ab{0,1}(?!b)\"\n",
    "    if re.search(pattern, string):\n",
    "        return \"Found a match!\"\n",
    "    else:\n",
    "        return \"Not matched!\"\n",
    "    \n",
    "print(match_pattern(\"ac\"))\n",
    "print(match_pattern(\"abc\"))\n",
    "print(match_pattern(\"a\"))\n",
    "print(match_pattern(\"ab\"))\n",
    "print(match_pattern(\"abb\"))"
   ]
  },
  {
   "cell_type": "markdown",
   "id": "0a0fcacc",
   "metadata": {},
   "source": [
    "**5. Write a Python program that matches a string that has an a followed by three 'b'.**"
   ]
  },
  {
   "cell_type": "code",
   "execution_count": 35,
   "id": "e2be1f45",
   "metadata": {},
   "outputs": [
    {
     "name": "stdout",
     "output_type": "stream",
     "text": [
      "Not matched!\n",
      "Not matched!\n",
      "Not matched!\n",
      "Not matched!\n",
      "Not matched!\n",
      "Found a match!\n",
      "Found a match!\n"
     ]
    }
   ],
   "source": [
    "# `re.search()`\n",
    "import re\n",
    "\n",
    "def match_pattern(string):\n",
    "    pattern = \"ab{3}?\"\n",
    "    if re.search(pattern, string):\n",
    "        return \"Found a match!\"\n",
    "    else:\n",
    "        return \"Not matched!\"\n",
    "\n",
    "print(match_pattern(\"ac\"))\n",
    "print(match_pattern(\"abc\"))\n",
    "print(match_pattern(\"a\"))\n",
    "print(match_pattern(\"ab\"))\n",
    "print(match_pattern(\"abb\"))\n",
    "print(match_pattern(\"abbb\"))\n",
    "print(match_pattern(\"aabbbbbc\"))"
   ]
  },
  {
   "cell_type": "markdown",
   "id": "9dd30265",
   "metadata": {},
   "source": [
    "**6. Write a Python program that matches a string that has an a followed by two to three 'b'.**"
   ]
  },
  {
   "cell_type": "code",
   "execution_count": 37,
   "id": "208897fd",
   "metadata": {},
   "outputs": [
    {
     "name": "stdout",
     "output_type": "stream",
     "text": [
      "Not matched!\n",
      "Not matched!\n",
      "Not matched!\n",
      "Not matched!\n",
      "Found a match!\n",
      "Found a match!\n",
      "Found a match!\n"
     ]
    }
   ],
   "source": [
    "# `re.search()`\n",
    "import re\n",
    "\n",
    "def match_pattern(string):\n",
    "    pattern = \"ab{2,3}\"\n",
    "    if re.search(pattern, string):\n",
    "        return \"Found a match!\"\n",
    "    else:\n",
    "        return \"Not matched!\"\n",
    "\n",
    "print(match_pattern(\"ac\"))\n",
    "print(match_pattern(\"abc\"))\n",
    "print(match_pattern(\"a\"))\n",
    "print(match_pattern(\"ab\"))\n",
    "print(match_pattern(\"abb\"))\n",
    "print(match_pattern(\"abbb\"))\n",
    "print(match_pattern(\"aabbbbbc\"))"
   ]
  },
  {
   "cell_type": "markdown",
   "id": "195bde71",
   "metadata": {},
   "source": [
    "**7. Write a Python program to find sequences of lowercase letters joined by an underscore.**"
   ]
  },
  {
   "cell_type": "code",
   "execution_count": 38,
   "id": "faf91de5",
   "metadata": {},
   "outputs": [
    {
     "name": "stdout",
     "output_type": "stream",
     "text": [
      "Found a match!\n",
      "Not matched!\n",
      "Not matched!\n"
     ]
    }
   ],
   "source": [
    "# `re.search()`\n",
    "import re\n",
    "\n",
    "def match_pattern(string):\n",
    "    pattern = \"^[a-z]+_[a-z]+$\"\n",
    "    if re.search(pattern, string):\n",
    "        return \"Found a match!\"\n",
    "    else:\n",
    "        return \"Not matched!\"\n",
    "    \n",
    "print(match_pattern(\"aab_cbbbc\"))\n",
    "print(match_pattern(\"aab_Abbbc\"))\n",
    "print(match_pattern(\"Aaab_abbbc\"))"
   ]
  },
  {
   "cell_type": "markdown",
   "id": "4f5d24c9",
   "metadata": {},
   "source": [
    "**8. Write a Python program to find the sequences of one upper case letter followed by lower case letters.**"
   ]
  },
  {
   "cell_type": "code",
   "execution_count": 41,
   "id": "38e76dea",
   "metadata": {},
   "outputs": [
    {
     "name": "stdout",
     "output_type": "stream",
     "text": [
      "Found a match!\n",
      "Found a match!\n",
      "Not matched!\n",
      "Not matched!\n",
      "Not matched!\n",
      "Found a match!\n"
     ]
    }
   ],
   "source": [
    "# `re.search()`\n",
    "import re\n",
    "\n",
    "def match_pattern(string):\n",
    "    pattern = \"[A-Z]+[a-z]+$\"\n",
    "    if re.search(pattern, string):\n",
    "        return \"Found a match!\"\n",
    "    else:\n",
    "        return \"Not matched!\"\n",
    "    \n",
    "print(match_pattern(\"AaBbGg\"))\n",
    "print(match_pattern(\"Python\"))\n",
    "print(match_pattern(\"python\"))\n",
    "print(match_pattern(\"PYTHON\"))\n",
    "print(match_pattern(\"aA\"))\n",
    "print(match_pattern(\"Aa\"))"
   ]
  },
  {
   "cell_type": "markdown",
   "id": "1ba0e2e6",
   "metadata": {},
   "source": [
    "**9. Write a Python program that matches a string that has an 'a' followed by anything ending in 'b'.**"
   ]
  },
  {
   "cell_type": "code",
   "execution_count": 50,
   "id": "86cad0e0",
   "metadata": {},
   "outputs": [
    {
     "name": "stdout",
     "output_type": "stream",
     "text": [
      "Not matched!\n",
      "Not matched!\n",
      "Found a match!\n"
     ]
    }
   ],
   "source": [
    "# `re.search()`\n",
    "import re\n",
    "\n",
    "def match_pattern(string):\n",
    "    pattern = \"a.*?b$\"\n",
    "    if re.search(pattern, string):\n",
    "        return \"Found a match!\"\n",
    "    else:\n",
    "        return \"Not matched!\"\n",
    "\n",
    "print(match_pattern(\"aabbbbd\"))\n",
    "print(match_pattern(\"aabAbbbc\"))\n",
    "print(match_pattern(\"accddbbjjjb\"))"
   ]
  },
  {
   "cell_type": "markdown",
   "id": "aaea053b",
   "metadata": {},
   "source": [
    "**10. Write a Python program that matches a word at the beginning of a string.**"
   ]
  },
  {
   "cell_type": "code",
   "execution_count": 58,
   "id": "74089bc3",
   "metadata": {},
   "outputs": [
    {
     "name": "stdout",
     "output_type": "stream",
     "text": [
      "Found a match!\n",
      "Not matched!\n"
     ]
    }
   ],
   "source": [
    "# `re.search()`\n",
    "import re\n",
    "\n",
    "def match_pattern(string):\n",
    "    pattern = \"^\\w+\"\n",
    "    if re.search(pattern, string):\n",
    "        return \"Found a match!\"\n",
    "    else:\n",
    "        return \"Not matched!\"\n",
    "    \n",
    "print(match_pattern(\"The quick brown fox jumps over the lazy dog.\"))\n",
    "print(match_pattern(\" The quick brown fox jumps over the lazy dog.\"))"
   ]
  },
  {
   "cell_type": "markdown",
   "id": "755bfd2e",
   "metadata": {},
   "source": [
    "**11. Write a Python program that matches a word at the end of a string, with optional punctuation.**"
   ]
  },
  {
   "cell_type": "code",
   "execution_count": 60,
   "id": "ea687288",
   "metadata": {},
   "outputs": [
    {
     "name": "stdout",
     "output_type": "stream",
     "text": [
      "Found a match!\n",
      "Not matched!\n",
      "Not matched!\n"
     ]
    }
   ],
   "source": [
    "# `re.search()`\n",
    "import re\n",
    "\n",
    "def match_pattern(string):\n",
    "    pattern = \"\\w+\\S*$\"\n",
    "    if re.search(pattern, string):\n",
    "        return \"Found a match!\"\n",
    "    else:\n",
    "        return \"Not matched!\"\n",
    "    \n",
    "print(match_pattern(\"The quick brown fox jumps over the lazy dog.\"))\n",
    "print(match_pattern(\"The quick brown fox jumps over the lazy dog. \"))\n",
    "print(match_pattern(\"The quick brown fox jumps over the lazy dog \"))"
   ]
  },
  {
   "cell_type": "markdown",
   "id": "a38c5e15",
   "metadata": {},
   "source": [
    "**12. Write a Python program that matches a word containing 'z'.**"
   ]
  },
  {
   "cell_type": "code",
   "execution_count": 74,
   "id": "8a11e8a2",
   "metadata": {},
   "outputs": [
    {
     "name": "stdout",
     "output_type": "stream",
     "text": [
      "Found a match!\n",
      "Not matched!\n"
     ]
    }
   ],
   "source": [
    "# `re.search()`\n",
    "import re\n",
    "\n",
    "def match_pattern(string):\n",
    "    pattern = \"\\w*z\\w*\"\n",
    "    if re.search(pattern, string):\n",
    "        return \"Found a match!\"\n",
    "    else:\n",
    "        return \"Not matched!\"\n",
    "    \n",
    "print(match_pattern(\"The quick brown fox jumps over the lazy dog.\"))\n",
    "print(match_pattern(\"Python Exercises\"))"
   ]
  },
  {
   "cell_type": "markdown",
   "id": "74d7d638",
   "metadata": {},
   "source": [
    "**13. Write a Python program that matches a word containing 'z', not the start or end of the word.**"
   ]
  },
  {
   "cell_type": "code",
   "execution_count": 82,
   "id": "0ae9d3ce",
   "metadata": {},
   "outputs": [
    {
     "name": "stdout",
     "output_type": "stream",
     "text": [
      "Found a match!\n",
      "Not matched!\n",
      "Not matched!\n",
      "Not matched!\n"
     ]
    }
   ],
   "source": [
    "# [1] `re.search()`\n",
    "import re\n",
    "\n",
    "def match_pattern(string):\n",
    "    pattern = \"\\w+z\\w+\"\n",
    "    if re.search(pattern, string):\n",
    "        return \"Found a match!\"\n",
    "    else:\n",
    "        return \"Not matched!\"\n",
    "\n",
    "print(match_pattern(\"The quick brown fox jumps over the lazy dog.\"))\n",
    "print(match_pattern(\"Python Exercises\"))\n",
    "print(match_pattern(\"Zoo\"))\n",
    "print(match_pattern(\"Gigahertz\"))"
   ]
  },
  {
   "cell_type": "code",
   "execution_count": 81,
   "id": "ef925643",
   "metadata": {},
   "outputs": [
    {
     "name": "stdout",
     "output_type": "stream",
     "text": [
      "Found a match!\n",
      "Not matched!\n",
      "Not matched!\n",
      "Not matched!\n"
     ]
    }
   ],
   "source": [
    "# [2] `re.search()`\n",
    "import re\n",
    "\n",
    "def match_pattern(string):\n",
    "    pattern = \"\\Bz\\B\"\n",
    "    if re.search(pattern, string):\n",
    "        return \"Found a match!\"\n",
    "    else:\n",
    "        return \"Not matched!\"\n",
    "\n",
    "print(match_pattern(\"The quick brown fox jumps over the lazy dog.\"))\n",
    "print(match_pattern(\"Python Exercises\"))\n",
    "print(match_pattern(\"Zoo\"))\n",
    "print(match_pattern(\"Gigahertz\"))"
   ]
  },
  {
   "cell_type": "markdown",
   "id": "05e25137",
   "metadata": {},
   "source": [
    "**14. Write a Python program to match a string that contains only upper and lowercase letters, numbers, and underscores.**"
   ]
  },
  {
   "cell_type": "code",
   "execution_count": 86,
   "id": "717cdd06",
   "metadata": {},
   "outputs": [
    {
     "name": "stdout",
     "output_type": "stream",
     "text": [
      "Not matched!\n",
      "Found a match!\n"
     ]
    }
   ],
   "source": [
    "# `re.search()`\n",
    "import re\n",
    "\n",
    "def match_pattern(string):\n",
    "    pattern = \"^[a-zA-Z0-9_]*$\"\n",
    "    if re.search(pattern, string):\n",
    "        return \"Found a match!\"\n",
    "    else:\n",
    "        return \"Not matched!\"\n",
    "    \n",
    "print(match_pattern(\"The quick brown fox jumps over the lazy dog.\"))\n",
    "print(match_pattern(\"python_exercises\"))"
   ]
  },
  {
   "cell_type": "markdown",
   "id": "b74bc61c",
   "metadata": {},
   "source": [
    "**15. Write a Python program that starts each string with a specific number.**"
   ]
  },
  {
   "cell_type": "code",
   "execution_count": 92,
   "id": "6b75b252",
   "metadata": {},
   "outputs": [
    {
     "name": "stdout",
     "output_type": "stream",
     "text": [
      "False\n",
      "False\n",
      "True\n"
     ]
    }
   ],
   "source": [
    "# `re.search()`\n",
    "import re\n",
    "\n",
    "def start_with_specific_num(string, num):\n",
    "    pattern = r\"^{}\".format(num) \n",
    "    if re.search(pattern, string):\n",
    "        return True\n",
    "    else:\n",
    "        return False\n",
    "\n",
    "print(start_with_specific_num(\"ABCDEFabcdef012345\", 1))\n",
    "print(start_with_specific_num(\"*&%@#!}{\", 1))\n",
    "print(start_with_specific_num(\"1234567890\", 1))"
   ]
  },
  {
   "cell_type": "markdown",
   "id": "fdd62350",
   "metadata": {},
   "source": [
    "**16. Write a Python program to remove leading zeros from an IP address.**"
   ]
  },
  {
   "cell_type": "code",
   "execution_count": 94,
   "id": "27cb0c1a",
   "metadata": {},
   "outputs": [
    {
     "name": "stdout",
     "output_type": "stream",
     "text": [
      "216.8.94.196\n"
     ]
    }
   ],
   "source": [
    "# `re.sub()`\n",
    "import re\n",
    "\n",
    "ip = \"216.08.094.196\"\n",
    "print(re.sub(\"\\.[0]*\", \".\", ip))"
   ]
  },
  {
   "cell_type": "markdown",
   "id": "901d223a",
   "metadata": {},
   "source": [
    "**17. Write a Python program to check for a number at the end of a string.**"
   ]
  },
  {
   "cell_type": "code",
   "execution_count": 98,
   "id": "069f8a99",
   "metadata": {},
   "outputs": [
    {
     "name": "stdout",
     "output_type": "stream",
     "text": [
      "True\n",
      "False\n",
      "True\n"
     ]
    }
   ],
   "source": [
    "# `re.search()`\n",
    "import re\n",
    "\n",
    "def end_with_specific_num(string, num):\n",
    "    pattern = r\"{}$\".format(num)\n",
    "    if re.search(pattern, string):\n",
    "        return True\n",
    "    else:\n",
    "        return False\n",
    "\n",
    "print(end_with_specific_num(\"ABCDEFabcdef012345\", 5))\n",
    "print(end_with_specific_num(\"*&%@#!}{\", 1))\n",
    "print(end_with_specific_num(\"1234567890\", 0))"
   ]
  },
  {
   "cell_type": "markdown",
   "id": "b8b81ebc",
   "metadata": {},
   "source": [
    "**18. Write a Python program to search for numbers (0-9) of length between 1 and 3 in a given string.**\n",
    "\n",
    "\"Exercises number 1, 12, 13, and 345 are important\""
   ]
  },
  {
   "cell_type": "code",
   "execution_count": 102,
   "id": "5ce2c655",
   "metadata": {},
   "outputs": [
    {
     "name": "stdout",
     "output_type": "stream",
     "text": [
      "Number of length 1 to 3\n",
      "1\n",
      "12\n",
      "13\n",
      "345\n"
     ]
    }
   ],
   "source": [
    "# `re.finditer()`\n",
    "import re\n",
    "\n",
    "nums = re.finditer(r\"[0-9]{1,3}\", \"Exercises number 1, 12, 13, and 345 are important\")\n",
    "print(\"Number of length 1 to 3\")\n",
    "for num in nums:\n",
    "    print(num.group(0))"
   ]
  },
  {
   "cell_type": "markdown",
   "id": "dd6c14da",
   "metadata": {},
   "source": [
    "**19. Write a Python program to search for literal strings within a string.**\n",
    "\n",
    "<i>Sample text:</i> \n",
    "\n",
    "'The quick brown fox jumps over the lazy dog.'\n",
    "\n",
    "<i>Searched words:</i>\n",
    "\n",
    "'fox', 'dog', 'horse'"
   ]
  },
  {
   "cell_type": "code",
   "execution_count": 104,
   "id": "e8c89f33",
   "metadata": {},
   "outputs": [
    {
     "name": "stdout",
     "output_type": "stream",
     "text": [
      "Search for 'fox' in 'The quick brown fox jumps over the lazy dog.' ->\n",
      "Found a match!\n",
      "Search for 'dog' in 'The quick brown fox jumps over the lazy dog.' ->\n",
      "Found a match!\n",
      "Search for 'horse' in 'The quick brown fox jumps over the lazy dog.' ->\n",
      "Not matched!\n"
     ]
    }
   ],
   "source": [
    "# `re.search()`\n",
    "import re\n",
    "\n",
    "def search_for_patterns(string, *patterns):\n",
    "    for pattern in patterns:\n",
    "        print(\"Search for '%s' in '%s' ->\" % (pattern, string))\n",
    "        if re.search(pattern, string):\n",
    "            print(\"Found a match!\")\n",
    "        else:\n",
    "            print(\"Not matched!\")\n",
    "    \n",
    "search_for_patterns(\"The quick brown fox jumps over the lazy dog.\", \"fox\", \"dog\", \"horse\")"
   ]
  },
  {
   "cell_type": "markdown",
   "id": "4a7d3a4d",
   "metadata": {},
   "source": [
    "**20. Write a Python program to search for a literal string in a string and also find the location within the original string where the pattern occurs.**\n",
    "\n",
    "<i>Sample text:</i> \n",
    "\n",
    "'The quick brown fox jumps over the lazy dog.'\n",
    "\n",
    "<i>Searched words:</i> \n",
    "\n",
    "'fox'"
   ]
  },
  {
   "cell_type": "code",
   "execution_count": 107,
   "id": "97e71990",
   "metadata": {},
   "outputs": [
    {
     "name": "stdout",
     "output_type": "stream",
     "text": [
      "Found 'fox' in 'The quick brown fox jumps over the lazy dog.' from 16 to 19.\n"
     ]
    }
   ],
   "source": [
    "# `re.search()`\n",
    "import re\n",
    "\n",
    "def search_for_pattern(string, pattern):\n",
    "    match = re.search(pattern, string)\n",
    "    start = match.start()\n",
    "    end = match.end()\n",
    "    print(\"Found '%s' in '%s' from %d to %d.\" % (match.re.pattern, match.string, start, end))\n",
    "    \n",
    "search_for_pattern(\"The quick brown fox jumps over the lazy dog.\", \"fox\")"
   ]
  },
  {
   "cell_type": "markdown",
   "id": "466e9492",
   "metadata": {},
   "source": [
    "**21. Write a Python program to find the substrings within a string.**\n",
    "\n",
    "<i>Sample text:</i>\n",
    "\n",
    "'Python exercises, PHP exercises, C# exercises'\n",
    "\n",
    "<i>Pattern:</i>\n",
    "\n",
    "'exercises'\n",
    "\n",
    "<i>Note:</i> \n",
    "\n",
    "There are two instances of exercises in the input string."
   ]
  },
  {
   "cell_type": "code",
   "execution_count": 108,
   "id": "f7e0f6db",
   "metadata": {},
   "outputs": [
    {
     "name": "stdout",
     "output_type": "stream",
     "text": [
      "Found 'exercises'\n",
      "Found 'exercises'\n",
      "Found 'exercises'\n"
     ]
    }
   ],
   "source": [
    "# `re.findall()` \n",
    "import re\n",
    "\n",
    "def search_for_pattern(string, pattern):\n",
    "    for match in re.findall(pattern, string):\n",
    "        print(\"Found '%s'\" % match)\n",
    "        \n",
    "search_for_pattern(\"Python exercises, PHP exercises, C# exercises\", \"exercises\")"
   ]
  },
  {
   "cell_type": "markdown",
   "id": "55f61fdd",
   "metadata": {},
   "source": [
    "**22. Write a Python program to find the occurrence and position of substrings within a string.**"
   ]
  },
  {
   "cell_type": "code",
   "execution_count": 109,
   "id": "9b8ababa",
   "metadata": {},
   "outputs": [
    {
     "name": "stdout",
     "output_type": "stream",
     "text": [
      "Found 'exercises' at 7:16\n",
      "Found 'exercises' at 22:31\n",
      "Found 'exercises' at 36:45\n"
     ]
    }
   ],
   "source": [
    "# `re.finditer()`\n",
    "import re\n",
    "\n",
    "def search_for_pattern(string, pattern):\n",
    "    for match in re.finditer(pattern, string):\n",
    "        start = match.start()\n",
    "        end = match.end()\n",
    "        print(\"Found '%s' at %d:%d\" % (string[start:end], start, end))\n",
    "        \n",
    "search_for_pattern(\"Python exercises, PHP exercises, C# exercises\", \"exercises\")"
   ]
  },
  {
   "cell_type": "markdown",
   "id": "cce6acb3",
   "metadata": {},
   "source": [
    "**23. Write a Python program to replace whitespaces with an underscore and vice versa.**"
   ]
  },
  {
   "cell_type": "code",
   "execution_count": 119,
   "id": "0ddeb960",
   "metadata": {},
   "outputs": [
    {
     "name": "stdout",
     "output_type": "stream",
     "text": [
      "The_quick_brown_fox_jumps over the lazy_dog.\n"
     ]
    }
   ],
   "source": [
    "# `re.search()` & `re.finditer()` & string slicing\n",
    "import re\n",
    "\n",
    "def replace_whitespace_underscore(string):\n",
    "    result = string\n",
    "    if re.search(\" \", string):\n",
    "        for match in re.finditer(\" \", string):\n",
    "            result = result[:match.start()] + \"_\" + result[match.end():]\n",
    "    if re.search(\"_\", string):\n",
    "        for match in re.finditer(\"_\", string):\n",
    "            result = result[:match.start()] + \" \" + result[match.end():]\n",
    "    return result\n",
    "\n",
    "print(replace_whitespace_underscore(\"The quick brown fox jumps_over_the_lazy dog.\"))"
   ]
  },
  {
   "cell_type": "code",
   "execution_count": 126,
   "id": "e7516e48",
   "metadata": {},
   "outputs": [
    {
     "name": "stdout",
     "output_type": "stream",
     "text": [
      "The_quick_brown_fox_jumps over the lazy_dog.\n"
     ]
    }
   ],
   "source": [
    "# `str.replace()`\n",
    "tmp = \"temp\"\n",
    "print(\"The quick brown fox jumps_over_the_lazy dog.\".replace(\" \", tmp).replace(\"_\", \" \").replace(tmp, \"_\"))"
   ]
  },
  {
   "cell_type": "code",
   "execution_count": 127,
   "id": "ff5cacf0",
   "metadata": {},
   "outputs": [
    {
     "name": "stdout",
     "output_type": "stream",
     "text": [
      "The_quick_brown_fox_jumps over the lazy_dog.\n"
     ]
    }
   ],
   "source": [
    "# `str.translate()` & `str.makestrans()` \n",
    "print(\"The quick brown fox jumps_over_the_lazy dog.\".translate(str.maketrans({\" \": \"_\", \"_\": \" \"})))"
   ]
  },
  {
   "cell_type": "code",
   "execution_count": 128,
   "id": "fc30e4a1",
   "metadata": {},
   "outputs": [
    {
     "name": "stdout",
     "output_type": "stream",
     "text": [
      "The_quick_brown_fox_jumps over the lazy_dog.\n"
     ]
    }
   ],
   "source": [
    "# `re.sub()`\n",
    "tmp = \"temp\"\n",
    "print(re.sub(tmp, \"_\", re.sub(\"_\", \" \", re.sub(\" \", tmp, \"The quick brown fox jumps_over_the_lazy dog.\"))))"
   ]
  },
  {
   "cell_type": "markdown",
   "id": "c9fef116",
   "metadata": {},
   "source": [
    "**24. Write a Python program to extract year, month and date from an URL.**"
   ]
  },
  {
   "cell_type": "code",
   "execution_count": 130,
   "id": "2b444b80",
   "metadata": {},
   "outputs": [
    {
     "name": "stdout",
     "output_type": "stream",
     "text": [
      "[('2016', '09', '02')]\n"
     ]
    }
   ],
   "source": [
    "# `re.findall()`\n",
    "import re\n",
    "\n",
    "def extract_date(url):\n",
    "    return re.findall(r\"/(\\d{4})/(\\d{1,2})/(\\d{1,2})/\", url)\n",
    "\n",
    "print(extract_date(\"https://www.washingtonpost.com/news/football-insider/wp/2016/09/02/odell-beckhams-fame-rests-on-one-stupid-little-ball-josh-norman-tells-author/\"))"
   ]
  },
  {
   "cell_type": "markdown",
   "id": "0652b421",
   "metadata": {},
   "source": [
    "**25. Write a Python program to convert a date of yyyy-mm-dd format to dd-mm-yyyy format.**"
   ]
  },
  {
   "cell_type": "code",
   "execution_count": 132,
   "id": "09f156c0",
   "metadata": {},
   "outputs": [
    {
     "name": "stdout",
     "output_type": "stream",
     "text": [
      "Original date in yyyy-mm-dd format: 2026-01-02\n",
      "New date in dd-mm-yyyy format: 02-01-2026\n"
     ]
    }
   ],
   "source": [
    "# `re.sub()`\n",
    "import re\n",
    "\n",
    "def convert_date_format(date):\n",
    "    return re.sub(r\"(\\d{4})-(\\d{1,2})-(\\d{1,2})\", \"\\\\3-\\\\2-\\\\1\", date)\n",
    "\n",
    "date = \"2026-01-02\"\n",
    "print(\"Original date in yyyy-mm-dd format:\", date)\n",
    "print(\"New date in dd-mm-yyyy format:\", convert_date_format(date))"
   ]
  },
  {
   "cell_type": "markdown",
   "id": "26eaf000",
   "metadata": {},
   "source": [
    "**26. Write a Python program to match if two words from a list of words start with the letter 'P'.**"
   ]
  },
  {
   "cell_type": "code",
   "execution_count": 4,
   "id": "afdbeb85",
   "metadata": {},
   "outputs": [
    {
     "name": "stdout",
     "output_type": "stream",
     "text": [
      "('Python', 'PHP')\n"
     ]
    }
   ],
   "source": [
    "# `re.match()`\n",
    "import re\n",
    "\n",
    "def match_pattern(words):\n",
    "    for word in words:\n",
    "        matcher = re.match(\"(P\\w+)\\W(P\\w+)\", word)\n",
    "        if matcher:\n",
    "            print(matcher.groups())\n",
    "\n",
    "words = [\"Python PHP\", \"Java JavaScript\", \"C C++\"]\n",
    "match_pattern(words)"
   ]
  },
  {
   "cell_type": "markdown",
   "id": "c1dae4d7",
   "metadata": {},
   "source": [
    "**27. Write a Python program to separate and print the numbers in a given string.**"
   ]
  },
  {
   "cell_type": "code",
   "execution_count": 11,
   "id": "9cc31d45",
   "metadata": {},
   "outputs": [
    {
     "name": "stdout",
     "output_type": "stream",
     "text": [
      "1986\n",
      "03\n",
      "17\n",
      "10\n",
      "20\n",
      "30\n"
     ]
    }
   ],
   "source": [
    "# [1] `re.findall()`\n",
    "import re\n",
    "\n",
    "def separate_nums(string):\n",
    "    for match in re.findall(\"[0-9]+\", string):\n",
    "        print(match)\n",
    "    \n",
    "separate_nums(\"1986-03-17\")\n",
    "separate_nums(\"Ten 10, Twenty 20, Thirty 30\")"
   ]
  },
  {
   "cell_type": "code",
   "execution_count": 14,
   "id": "11cb10e3",
   "metadata": {},
   "outputs": [
    {
     "name": "stdout",
     "output_type": "stream",
     "text": [
      "1986\n",
      "03\n",
      "17\n",
      "10\n",
      "20\n",
      "30\n"
     ]
    }
   ],
   "source": [
    "# [2] `re.findall()`\n",
    "import re\n",
    "\n",
    "def separate_nums(string):\n",
    "    for match in re.findall(\"\\d+\", string):\n",
    "        print(match)\n",
    "    \n",
    "separate_nums(\"1986-03-17\")\n",
    "separate_nums(\"Ten 10, Twenty 20, Thirty 30\")"
   ]
  },
  {
   "cell_type": "code",
   "execution_count": 17,
   "id": "b210230d",
   "metadata": {},
   "outputs": [
    {
     "name": "stdout",
     "output_type": "stream",
     "text": [
      "1986\n",
      "03\n",
      "17\n",
      "10\n",
      "20\n",
      "30\n"
     ]
    }
   ],
   "source": [
    "# [3] `re.split()`\n",
    "import re\n",
    "\n",
    "def separate_nums(string):\n",
    "    nums = re.split(\"\\D+\", string)\n",
    "    for num in nums:\n",
    "        if num != \"\":\n",
    "            print(num)\n",
    "    \n",
    "separate_nums(\"1986-03-17\")\n",
    "separate_nums(\"Ten 10, Twenty 20, Thirty 30\")"
   ]
  },
  {
   "cell_type": "code",
   "execution_count": null,
   "id": "0de67d9c",
   "metadata": {},
   "outputs": [],
   "source": []
  }
 ],
 "metadata": {
  "kernelspec": {
   "display_name": "Python 3 (ipykernel)",
   "language": "python",
   "name": "python3"
  },
  "language_info": {
   "codemirror_mode": {
    "name": "ipython",
    "version": 3
   },
   "file_extension": ".py",
   "mimetype": "text/x-python",
   "name": "python",
   "nbconvert_exporter": "python",
   "pygments_lexer": "ipython3",
   "version": "3.8.8"
  }
 },
 "nbformat": 4,
 "nbformat_minor": 5
}

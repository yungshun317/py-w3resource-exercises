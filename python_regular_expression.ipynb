{
 "cells": [
  {
   "cell_type": "markdown",
   "id": "1b7788be",
   "metadata": {},
   "source": [
    "# Python Regular Expression\n",
    "\n",
    "**1. Write a Python program to check that a string contains only a certain set of characters (in this case a-z, A-Z and 0-9).**"
   ]
  },
  {
   "cell_type": "code",
   "execution_count": 5,
   "id": "08a0e518",
   "metadata": {},
   "outputs": [
    {
     "name": "stdout",
     "output_type": "stream",
     "text": [
      "True\n",
      "False\n"
     ]
    }
   ],
   "source": [
    "# [1] `re.compile()` & `re.search()`\n",
    "import re\n",
    "\n",
    "def is_allowed_specific_char(string):\n",
    "    pattern = re.compile(r\"[^a-zA-Z0-9]\")\n",
    "    matcher = pattern.search(string)\n",
    "    return not bool(matcher)\n",
    "\n",
    "print(is_allowed_specific_char(\"ABCDEFabcdef012345\"))\n",
    "print(is_allowed_specific_char(\"*&%@#!}{\"))"
   ]
  },
  {
   "cell_type": "code",
   "execution_count": 6,
   "id": "7b277029",
   "metadata": {},
   "outputs": [
    {
     "name": "stdout",
     "output_type": "stream",
     "text": [
      "True\n",
      "False\n"
     ]
    }
   ],
   "source": [
    "# [2] `re.search()`\n",
    "import re\n",
    "\n",
    "def is_allowed_specific_char(string):\n",
    "    matcher = re.search(r\"[^a-zA-Z0-9]\", string)\n",
    "    return not bool(matcher)\n",
    "\n",
    "print(is_allowed_specific_char(\"ABCDEFabcdef012345\"))\n",
    "print(is_allowed_specific_char(\"*&%@#!}{\"))"
   ]
  },
  {
   "cell_type": "markdown",
   "id": "14c89ba3",
   "metadata": {},
   "source": [
    "**2. Write a Python program that matches a string that has an a followed by zero or more b's.**"
   ]
  },
  {
   "cell_type": "code",
   "execution_count": 11,
   "id": "338c82b5",
   "metadata": {},
   "outputs": [
    {
     "name": "stdout",
     "output_type": "stream",
     "text": [
      "Not matched!\n",
      "Not matched!\n",
      "Found a match!\n",
      "Found a match!\n",
      "Found a match!\n"
     ]
    }
   ],
   "source": [
    "# [1] `re.search()` (anywhere)\n",
    "import re\n",
    "\n",
    "def match_pattern(string):\n",
    "    pattern = \"^a(b*)$\"\n",
    "    if re.search(pattern, string):\n",
    "        return \"Found a match!\"\n",
    "    else:\n",
    "        return \"Not matched!\"\n",
    "    \n",
    "print(match_pattern(\"ac\"))\n",
    "print(match_pattern(\"abc\"))\n",
    "print(match_pattern(\"a\"))\n",
    "print(match_pattern(\"ab\"))\n",
    "print(match_pattern(\"abb\"))"
   ]
  },
  {
   "cell_type": "code",
   "execution_count": 10,
   "id": "9e859754",
   "metadata": {},
   "outputs": [
    {
     "name": "stdout",
     "output_type": "stream",
     "text": [
      "Not matched!\n",
      "Not matched!\n",
      "Found a match!\n",
      "Found a match!\n",
      "Found a match!\n"
     ]
    }
   ],
   "source": [
    "# [2] `re.match()` (at the beginning)\n",
    "import re\n",
    "\n",
    "def match_pattern(string):\n",
    "    pattern = \"^a(b*)$\"\n",
    "    if re.match(pattern, string):\n",
    "        return \"Found a match!\"\n",
    "    else:\n",
    "        return \"Not matched!\"\n",
    "    \n",
    "print(match_pattern(\"ac\"))\n",
    "print(match_pattern(\"abc\"))\n",
    "print(match_pattern(\"a\"))\n",
    "print(match_pattern(\"ab\"))\n",
    "print(match_pattern(\"abb\"))"
   ]
  },
  {
   "cell_type": "markdown",
   "id": "0fe82bb0",
   "metadata": {},
   "source": [
    "**3. Write a Python program that matches a string that has an a followed by one or more b's.**"
   ]
  },
  {
   "cell_type": "code",
   "execution_count": 18,
   "id": "744c3ea9",
   "metadata": {},
   "outputs": [
    {
     "name": "stdout",
     "output_type": "stream",
     "text": [
      "Not matched!\n",
      "Found a match!\n",
      "Not matched!\n",
      "Found a match!\n",
      "Found a match!\n"
     ]
    }
   ],
   "source": [
    "# [1] `re.search()`\n",
    "import re\n",
    "\n",
    "def match_pattern(string):\n",
    "    pattern = \"ab+?\"\n",
    "    if re.search(pattern, string):\n",
    "        return \"Found a match!\"\n",
    "    else:\n",
    "        return \"Not matched!\"\n",
    "    \n",
    "print(match_pattern(\"ac\"))\n",
    "print(match_pattern(\"abc\"))\n",
    "print(match_pattern(\"a\"))\n",
    "print(match_pattern(\"ab\"))\n",
    "print(match_pattern(\"abb\"))"
   ]
  },
  {
   "cell_type": "code",
   "execution_count": 20,
   "id": "296e3f21",
   "metadata": {},
   "outputs": [
    {
     "name": "stdout",
     "output_type": "stream",
     "text": [
      "Not matched!\n",
      "Found a match!\n",
      "Not matched!\n",
      "Found a match!\n",
      "Found a match!\n"
     ]
    }
   ],
   "source": [
    "# [2] `re.search()`\n",
    "import re\n",
    "\n",
    "def match_pattern(string):\n",
    "    pattern = \"a(b+)\"\n",
    "    if re.search(pattern, string):\n",
    "        return \"Found a match!\"\n",
    "    else:\n",
    "        return \"Not matched!\"\n",
    "    \n",
    "print(match_pattern(\"ac\"))\n",
    "print(match_pattern(\"abc\"))\n",
    "print(match_pattern(\"a\"))\n",
    "print(match_pattern(\"ab\"))\n",
    "print(match_pattern(\"abb\"))"
   ]
  },
  {
   "cell_type": "markdown",
   "id": "cddd0796",
   "metadata": {},
   "source": [
    "**4. Write a Python program that matches a string that has an a followed by zero or one 'b'.**"
   ]
  },
  {
   "cell_type": "code",
   "execution_count": 53,
   "id": "5a045e63",
   "metadata": {},
   "outputs": [
    {
     "name": "stdout",
     "output_type": "stream",
     "text": [
      "Found a match!\n",
      "Found a match!\n",
      "Found a match!\n",
      "Found a match!\n",
      "Found a match!\n"
     ]
    }
   ],
   "source": [
    "# [1] `re.search()`\n",
    "import re\n",
    "\n",
    "def match_pattern(string):\n",
    "    pattern = \"ab?\"\n",
    "    if re.search(pattern, string):\n",
    "        return \"Found a match!\"\n",
    "    else:\n",
    "        return \"Not matched!\"\n",
    "    \n",
    "print(match_pattern(\"ac\"))\n",
    "print(match_pattern(\"abc\"))\n",
    "print(match_pattern(\"a\"))\n",
    "print(match_pattern(\"ab\"))\n",
    "print(match_pattern(\"abb\"))"
   ]
  },
  {
   "cell_type": "code",
   "execution_count": 57,
   "id": "632c399b",
   "metadata": {},
   "outputs": [
    {
     "name": "stdout",
     "output_type": "stream",
     "text": [
      "Found a match!\n",
      "Found a match!\n",
      "Found a match!\n",
      "Found a match!\n",
      "Not matched!\n"
     ]
    }
   ],
   "source": [
    "# [2] `re.search()` (no more)\n",
    "import re\n",
    "\n",
    "def match_pattern(string):\n",
    "    pattern = \"ab{0,1}(?!b)\"\n",
    "    if re.search(pattern, string):\n",
    "        return \"Found a match!\"\n",
    "    else:\n",
    "        return \"Not matched!\"\n",
    "    \n",
    "print(match_pattern(\"ac\"))\n",
    "print(match_pattern(\"abc\"))\n",
    "print(match_pattern(\"a\"))\n",
    "print(match_pattern(\"ab\"))\n",
    "print(match_pattern(\"abb\"))"
   ]
  },
  {
   "cell_type": "markdown",
   "id": "b3e8698f",
   "metadata": {},
   "source": [
    "**5. Write a Python program that matches a string that has an a followed by three 'b'.**"
   ]
  },
  {
   "cell_type": "code",
   "execution_count": 35,
   "id": "adb4e1ff",
   "metadata": {},
   "outputs": [
    {
     "name": "stdout",
     "output_type": "stream",
     "text": [
      "Not matched!\n",
      "Not matched!\n",
      "Not matched!\n",
      "Not matched!\n",
      "Not matched!\n",
      "Found a match!\n",
      "Found a match!\n"
     ]
    }
   ],
   "source": [
    "# `re.search()`\n",
    "import re\n",
    "\n",
    "def match_pattern(string):\n",
    "    pattern = \"ab{3}?\"\n",
    "    if re.search(pattern, string):\n",
    "        return \"Found a match!\"\n",
    "    else:\n",
    "        return \"Not matched!\"\n",
    "\n",
    "print(match_pattern(\"ac\"))\n",
    "print(match_pattern(\"abc\"))\n",
    "print(match_pattern(\"a\"))\n",
    "print(match_pattern(\"ab\"))\n",
    "print(match_pattern(\"abb\"))\n",
    "print(match_pattern(\"abbb\"))\n",
    "print(match_pattern(\"aabbbbbc\"))"
   ]
  },
  {
   "cell_type": "markdown",
   "id": "5b16f9d0",
   "metadata": {},
   "source": [
    "**6. Write a Python program that matches a string that has an a followed by two to three 'b'.**"
   ]
  },
  {
   "cell_type": "code",
   "execution_count": 37,
   "id": "93d6ab33",
   "metadata": {},
   "outputs": [
    {
     "name": "stdout",
     "output_type": "stream",
     "text": [
      "Not matched!\n",
      "Not matched!\n",
      "Not matched!\n",
      "Not matched!\n",
      "Found a match!\n",
      "Found a match!\n",
      "Found a match!\n"
     ]
    }
   ],
   "source": [
    "# `re.search()`\n",
    "import re\n",
    "\n",
    "def match_pattern(string):\n",
    "    pattern = \"ab{2,3}\"\n",
    "    if re.search(pattern, string):\n",
    "        return \"Found a match!\"\n",
    "    else:\n",
    "        return \"Not matched!\"\n",
    "\n",
    "print(match_pattern(\"ac\"))\n",
    "print(match_pattern(\"abc\"))\n",
    "print(match_pattern(\"a\"))\n",
    "print(match_pattern(\"ab\"))\n",
    "print(match_pattern(\"abb\"))\n",
    "print(match_pattern(\"abbb\"))\n",
    "print(match_pattern(\"aabbbbbc\"))"
   ]
  },
  {
   "cell_type": "markdown",
   "id": "8218b23f",
   "metadata": {},
   "source": [
    "**7. Write a Python program to find sequences of lowercase letters joined by an underscore.**"
   ]
  },
  {
   "cell_type": "code",
   "execution_count": 38,
   "id": "95d13662",
   "metadata": {},
   "outputs": [
    {
     "name": "stdout",
     "output_type": "stream",
     "text": [
      "Found a match!\n",
      "Not matched!\n",
      "Not matched!\n"
     ]
    }
   ],
   "source": [
    "# `re.search()`\n",
    "import re\n",
    "\n",
    "def match_pattern(string):\n",
    "    pattern = \"^[a-z]+_[a-z]+$\"\n",
    "    if re.search(pattern, string):\n",
    "        return \"Found a match!\"\n",
    "    else:\n",
    "        return \"Not matched!\"\n",
    "    \n",
    "print(match_pattern(\"aab_cbbbc\"))\n",
    "print(match_pattern(\"aab_Abbbc\"))\n",
    "print(match_pattern(\"Aaab_abbbc\"))"
   ]
  },
  {
   "cell_type": "markdown",
   "id": "24c16a14",
   "metadata": {},
   "source": [
    "**8. Write a Python program to find the sequences of one upper case letter followed by lower case letters.**"
   ]
  },
  {
   "cell_type": "code",
   "execution_count": 41,
   "id": "92b47a80",
   "metadata": {},
   "outputs": [
    {
     "name": "stdout",
     "output_type": "stream",
     "text": [
      "Found a match!\n",
      "Found a match!\n",
      "Not matched!\n",
      "Not matched!\n",
      "Not matched!\n",
      "Found a match!\n"
     ]
    }
   ],
   "source": [
    "# `re.search()`\n",
    "import re\n",
    "\n",
    "def match_pattern(string):\n",
    "    pattern = \"[A-Z]+[a-z]+$\"\n",
    "    if re.search(pattern, string):\n",
    "        return \"Found a match!\"\n",
    "    else:\n",
    "        return \"Not matched!\"\n",
    "    \n",
    "print(match_pattern(\"AaBbGg\"))\n",
    "print(match_pattern(\"Python\"))\n",
    "print(match_pattern(\"python\"))\n",
    "print(match_pattern(\"PYTHON\"))\n",
    "print(match_pattern(\"aA\"))\n",
    "print(match_pattern(\"Aa\"))"
   ]
  },
  {
   "cell_type": "markdown",
   "id": "070d4483",
   "metadata": {},
   "source": [
    "**9. Write a Python program that matches a string that has an 'a' followed by anything ending in 'b'.**"
   ]
  },
  {
   "cell_type": "code",
   "execution_count": 50,
   "id": "d30684c2",
   "metadata": {},
   "outputs": [
    {
     "name": "stdout",
     "output_type": "stream",
     "text": [
      "Not matched!\n",
      "Not matched!\n",
      "Found a match!\n"
     ]
    }
   ],
   "source": [
    "# `re.search()`\n",
    "import re\n",
    "\n",
    "def match_pattern(string):\n",
    "    pattern = \"a.*?b$\"\n",
    "    if re.search(pattern, string):\n",
    "        return \"Found a match!\"\n",
    "    else:\n",
    "        return \"Not matched!\"\n",
    "\n",
    "print(match_pattern(\"aabbbbd\"))\n",
    "print(match_pattern(\"aabAbbbc\"))\n",
    "print(match_pattern(\"accddbbjjjb\"))"
   ]
  },
  {
   "cell_type": "markdown",
   "id": "64c7cb36",
   "metadata": {},
   "source": [
    "**10. Write a Python program that matches a word at the beginning of a string.**"
   ]
  },
  {
   "cell_type": "code",
   "execution_count": 58,
   "id": "3609a794",
   "metadata": {},
   "outputs": [
    {
     "name": "stdout",
     "output_type": "stream",
     "text": [
      "Found a match!\n",
      "Not matched!\n"
     ]
    }
   ],
   "source": [
    "# `re.search()`\n",
    "import re\n",
    "\n",
    "def match_pattern(string):\n",
    "    pattern = \"^\\w+\"\n",
    "    if re.search(pattern, string):\n",
    "        return \"Found a match!\"\n",
    "    else:\n",
    "        return \"Not matched!\"\n",
    "    \n",
    "print(match_pattern(\"The quick brown fox jumps over the lazy dog.\"))\n",
    "print(match_pattern(\" The quick brown fox jumps over the lazy dog.\"))"
   ]
  },
  {
   "cell_type": "markdown",
   "id": "e35ef34e",
   "metadata": {},
   "source": [
    "**11. Write a Python program that matches a word at the end of a string, with optional punctuation.**"
   ]
  },
  {
   "cell_type": "code",
   "execution_count": 60,
   "id": "06bbf731",
   "metadata": {},
   "outputs": [
    {
     "name": "stdout",
     "output_type": "stream",
     "text": [
      "Found a match!\n",
      "Not matched!\n",
      "Not matched!\n"
     ]
    }
   ],
   "source": [
    "# `re.search()`\n",
    "import re\n",
    "\n",
    "def match_pattern(string):\n",
    "    pattern = \"\\w+\\S*$\"\n",
    "    if re.search(pattern, string):\n",
    "        return \"Found a match!\"\n",
    "    else:\n",
    "        return \"Not matched!\"\n",
    "    \n",
    "print(match_pattern(\"The quick brown fox jumps over the lazy dog.\"))\n",
    "print(match_pattern(\"The quick brown fox jumps over the lazy dog. \"))\n",
    "print(match_pattern(\"The quick brown fox jumps over the lazy dog \"))"
   ]
  },
  {
   "cell_type": "markdown",
   "id": "58305e59",
   "metadata": {},
   "source": [
    "**12. Write a Python program that matches a word containing 'z'.**"
   ]
  },
  {
   "cell_type": "code",
   "execution_count": 74,
   "id": "e82190f0",
   "metadata": {},
   "outputs": [
    {
     "name": "stdout",
     "output_type": "stream",
     "text": [
      "Found a match!\n",
      "Not matched!\n"
     ]
    }
   ],
   "source": [
    "# `re.search()`\n",
    "import re\n",
    "\n",
    "def match_pattern(string):\n",
    "    pattern = \"\\w*z\\w*\"\n",
    "    if re.search(pattern, string):\n",
    "        return \"Found a match!\"\n",
    "    else:\n",
    "        return \"Not matched!\"\n",
    "    \n",
    "print(match_pattern(\"The quick brown fox jumps over the lazy dog.\"))\n",
    "print(match_pattern(\"Python Exercises\"))"
   ]
  },
  {
   "cell_type": "markdown",
   "id": "aeea0f91",
   "metadata": {},
   "source": [
    "**13. Write a Python program that matches a word containing 'z', not the start or end of the word.**"
   ]
  },
  {
   "cell_type": "code",
   "execution_count": 82,
   "id": "94c5cf4c",
   "metadata": {},
   "outputs": [
    {
     "name": "stdout",
     "output_type": "stream",
     "text": [
      "Found a match!\n",
      "Not matched!\n",
      "Not matched!\n",
      "Not matched!\n"
     ]
    }
   ],
   "source": [
    "# [1] `re.search()`\n",
    "import re\n",
    "\n",
    "def match_pattern(string):\n",
    "    pattern = \"\\w+z\\w+\"\n",
    "    if re.search(pattern, string):\n",
    "        return \"Found a match!\"\n",
    "    else:\n",
    "        return \"Not matched!\"\n",
    "\n",
    "print(match_pattern(\"The quick brown fox jumps over the lazy dog.\"))\n",
    "print(match_pattern(\"Python Exercises\"))\n",
    "print(match_pattern(\"Zoo\"))\n",
    "print(match_pattern(\"Gigahertz\"))"
   ]
  },
  {
   "cell_type": "code",
   "execution_count": 81,
   "id": "00bf625a",
   "metadata": {},
   "outputs": [
    {
     "name": "stdout",
     "output_type": "stream",
     "text": [
      "Found a match!\n",
      "Not matched!\n",
      "Not matched!\n",
      "Not matched!\n"
     ]
    }
   ],
   "source": [
    "# [2] `re.search()`\n",
    "import re\n",
    "\n",
    "def match_pattern(string):\n",
    "    pattern = \"\\Bz\\B\"\n",
    "    if re.search(pattern, string):\n",
    "        return \"Found a match!\"\n",
    "    else:\n",
    "        return \"Not matched!\"\n",
    "\n",
    "print(match_pattern(\"The quick brown fox jumps over the lazy dog.\"))\n",
    "print(match_pattern(\"Python Exercises\"))\n",
    "print(match_pattern(\"Zoo\"))\n",
    "print(match_pattern(\"Gigahertz\"))"
   ]
  },
  {
   "cell_type": "markdown",
   "id": "932d0021",
   "metadata": {},
   "source": [
    "**14. Write a Python program to match a string that contains only upper and lowercase letters, numbers, and underscores.**"
   ]
  },
  {
   "cell_type": "code",
   "execution_count": 86,
   "id": "6c991c10",
   "metadata": {},
   "outputs": [
    {
     "name": "stdout",
     "output_type": "stream",
     "text": [
      "Not matched!\n",
      "Found a match!\n"
     ]
    }
   ],
   "source": [
    "# `re.search()`\n",
    "import re\n",
    "\n",
    "def match_pattern(string):\n",
    "    pattern = \"^[a-zA-Z0-9_]*$\"\n",
    "    if re.search(pattern, string):\n",
    "        return \"Found a match!\"\n",
    "    else:\n",
    "        return \"Not matched!\"\n",
    "    \n",
    "print(match_pattern(\"The quick brown fox jumps over the lazy dog.\"))\n",
    "print(match_pattern(\"python_exercises\"))"
   ]
  },
  {
   "cell_type": "markdown",
   "id": "1924365a",
   "metadata": {},
   "source": [
    "**15. Write a Python program that starts each string with a specific number.**"
   ]
  },
  {
   "cell_type": "code",
   "execution_count": null,
   "id": "6b5f1e7c",
   "metadata": {},
   "outputs": [],
   "source": []
  }
 ],
 "metadata": {
  "kernelspec": {
   "display_name": "Python 3 (ipykernel)",
   "language": "python",
   "name": "python3"
  },
  "language_info": {
   "codemirror_mode": {
    "name": "ipython",
    "version": 3
   },
   "file_extension": ".py",
   "mimetype": "text/x-python",
   "name": "python",
   "nbconvert_exporter": "python",
   "pygments_lexer": "ipython3",
   "version": "3.8.8"
  }
 },
 "nbformat": 4,
 "nbformat_minor": 5
}
